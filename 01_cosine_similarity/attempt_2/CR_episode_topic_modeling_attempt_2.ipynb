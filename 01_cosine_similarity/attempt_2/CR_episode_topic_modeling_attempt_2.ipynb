{
  "nbformat": 4,
  "nbformat_minor": 0,
  "metadata": {
    "colab": {
      "name": "CR_episode_topic_modeling_attempt_2",
      "provenance": [],
      "machine_shape": "hm"
    },
    "kernelspec": {
      "name": "python3",
      "display_name": "Python 3"
    },
    "language_info": {
      "name": "python"
    },
    "accelerator": "GPU"
  },
  "cells": [
    {
      "cell_type": "markdown",
      "source": [
        "# Critical Role Topic Modeling Attempt 2\n",
        "\n",
        "Last attempt we found ways to improve the model through some google searching. At the end of the last attempt I stated what I wanted to try. I said:\n",
        "\"I would say that there needs to be a lot more cleaning... Topic 0 and 9 are a great example. I also want to encorperate bigram and trigrams into the model.\"\n",
        "\n",
        "I also want to add more to this attempt:\n",
        "- Cleaning\n",
        "    - Removing Actor/Actresss' Names\n",
        "    - More rigorous cleaning of stop words\n",
        "- Encorperate bigram and trigrams in the model\n",
        "- Try different Coherence Scores"
      ],
      "metadata": {
        "id": "Rcy6eDCfN6iG"
      }
    },
    {
      "cell_type": "markdown",
      "source": [
        "## Import Libraries"
      ],
      "metadata": {
        "id": "sFiVxnKcN-rV"
      }
    },
    {
      "cell_type": "code",
      "execution_count": null,
      "metadata": {
        "colab": {
          "base_uri": "https://localhost:8080/"
        },
        "id": "EUvbI0XCNr4B",
        "outputId": "978c2c73-bee2-4e5c-9bd2-991ef3766feb"
      },
      "outputs": [
        {
          "output_type": "stream",
          "name": "stdout",
          "text": [
            "Collecting pyLDAvis==3.3.1\n",
            "  Downloading pyLDAvis-3.3.1.tar.gz (1.7 MB)\n",
            "\u001b[?25l\r\u001b[K     |▏                               | 10 kB 33.8 MB/s eta 0:00:01\r\u001b[K     |▍                               | 20 kB 20.5 MB/s eta 0:00:01\r\u001b[K     |▋                               | 30 kB 15.9 MB/s eta 0:00:01\r\u001b[K     |▉                               | 40 kB 14.5 MB/s eta 0:00:01\r\u001b[K     |█                               | 51 kB 6.9 MB/s eta 0:00:01\r\u001b[K     |█▏                              | 61 kB 8.2 MB/s eta 0:00:01\r\u001b[K     |█▍                              | 71 kB 7.3 MB/s eta 0:00:01\r\u001b[K     |█▋                              | 81 kB 8.2 MB/s eta 0:00:01\r\u001b[K     |█▉                              | 92 kB 9.1 MB/s eta 0:00:01\r\u001b[K     |██                              | 102 kB 7.5 MB/s eta 0:00:01\r\u001b[K     |██▏                             | 112 kB 7.5 MB/s eta 0:00:01\r\u001b[K     |██▍                             | 122 kB 7.5 MB/s eta 0:00:01\r\u001b[K     |██▋                             | 133 kB 7.5 MB/s eta 0:00:01\r\u001b[K     |██▊                             | 143 kB 7.5 MB/s eta 0:00:01\r\u001b[K     |███                             | 153 kB 7.5 MB/s eta 0:00:01\r\u001b[K     |███▏                            | 163 kB 7.5 MB/s eta 0:00:01\r\u001b[K     |███▍                            | 174 kB 7.5 MB/s eta 0:00:01\r\u001b[K     |███▋                            | 184 kB 7.5 MB/s eta 0:00:01\r\u001b[K     |███▊                            | 194 kB 7.5 MB/s eta 0:00:01\r\u001b[K     |████                            | 204 kB 7.5 MB/s eta 0:00:01\r\u001b[K     |████▏                           | 215 kB 7.5 MB/s eta 0:00:01\r\u001b[K     |████▍                           | 225 kB 7.5 MB/s eta 0:00:01\r\u001b[K     |████▋                           | 235 kB 7.5 MB/s eta 0:00:01\r\u001b[K     |████▊                           | 245 kB 7.5 MB/s eta 0:00:01\r\u001b[K     |█████                           | 256 kB 7.5 MB/s eta 0:00:01\r\u001b[K     |█████▏                          | 266 kB 7.5 MB/s eta 0:00:01\r\u001b[K     |█████▍                          | 276 kB 7.5 MB/s eta 0:00:01\r\u001b[K     |█████▌                          | 286 kB 7.5 MB/s eta 0:00:01\r\u001b[K     |█████▊                          | 296 kB 7.5 MB/s eta 0:00:01\r\u001b[K     |██████                          | 307 kB 7.5 MB/s eta 0:00:01\r\u001b[K     |██████▏                         | 317 kB 7.5 MB/s eta 0:00:01\r\u001b[K     |██████▍                         | 327 kB 7.5 MB/s eta 0:00:01\r\u001b[K     |██████▌                         | 337 kB 7.5 MB/s eta 0:00:01\r\u001b[K     |██████▊                         | 348 kB 7.5 MB/s eta 0:00:01\r\u001b[K     |███████                         | 358 kB 7.5 MB/s eta 0:00:01\r\u001b[K     |███████▏                        | 368 kB 7.5 MB/s eta 0:00:01\r\u001b[K     |███████▎                        | 378 kB 7.5 MB/s eta 0:00:01\r\u001b[K     |███████▌                        | 389 kB 7.5 MB/s eta 0:00:01\r\u001b[K     |███████▊                        | 399 kB 7.5 MB/s eta 0:00:01\r\u001b[K     |████████                        | 409 kB 7.5 MB/s eta 0:00:01\r\u001b[K     |████████▏                       | 419 kB 7.5 MB/s eta 0:00:01\r\u001b[K     |████████▎                       | 430 kB 7.5 MB/s eta 0:00:01\r\u001b[K     |████████▌                       | 440 kB 7.5 MB/s eta 0:00:01\r\u001b[K     |████████▊                       | 450 kB 7.5 MB/s eta 0:00:01\r\u001b[K     |█████████                       | 460 kB 7.5 MB/s eta 0:00:01\r\u001b[K     |█████████▏                      | 471 kB 7.5 MB/s eta 0:00:01\r\u001b[K     |█████████▎                      | 481 kB 7.5 MB/s eta 0:00:01\r\u001b[K     |█████████▌                      | 491 kB 7.5 MB/s eta 0:00:01\r\u001b[K     |█████████▊                      | 501 kB 7.5 MB/s eta 0:00:01\r\u001b[K     |██████████                      | 512 kB 7.5 MB/s eta 0:00:01\r\u001b[K     |██████████                      | 522 kB 7.5 MB/s eta 0:00:01\r\u001b[K     |██████████▎                     | 532 kB 7.5 MB/s eta 0:00:01\r\u001b[K     |██████████▌                     | 542 kB 7.5 MB/s eta 0:00:01\r\u001b[K     |██████████▊                     | 552 kB 7.5 MB/s eta 0:00:01\r\u001b[K     |███████████                     | 563 kB 7.5 MB/s eta 0:00:01\r\u001b[K     |███████████                     | 573 kB 7.5 MB/s eta 0:00:01\r\u001b[K     |███████████▎                    | 583 kB 7.5 MB/s eta 0:00:01\r\u001b[K     |███████████▌                    | 593 kB 7.5 MB/s eta 0:00:01\r\u001b[K     |███████████▊                    | 604 kB 7.5 MB/s eta 0:00:01\r\u001b[K     |███████████▉                    | 614 kB 7.5 MB/s eta 0:00:01\r\u001b[K     |████████████                    | 624 kB 7.5 MB/s eta 0:00:01\r\u001b[K     |████████████▎                   | 634 kB 7.5 MB/s eta 0:00:01\r\u001b[K     |████████████▌                   | 645 kB 7.5 MB/s eta 0:00:01\r\u001b[K     |████████████▊                   | 655 kB 7.5 MB/s eta 0:00:01\r\u001b[K     |████████████▉                   | 665 kB 7.5 MB/s eta 0:00:01\r\u001b[K     |█████████████                   | 675 kB 7.5 MB/s eta 0:00:01\r\u001b[K     |█████████████▎                  | 686 kB 7.5 MB/s eta 0:00:01\r\u001b[K     |█████████████▌                  | 696 kB 7.5 MB/s eta 0:00:01\r\u001b[K     |█████████████▊                  | 706 kB 7.5 MB/s eta 0:00:01\r\u001b[K     |█████████████▉                  | 716 kB 7.5 MB/s eta 0:00:01\r\u001b[K     |██████████████                  | 727 kB 7.5 MB/s eta 0:00:01\r\u001b[K     |██████████████▎                 | 737 kB 7.5 MB/s eta 0:00:01\r\u001b[K     |██████████████▌                 | 747 kB 7.5 MB/s eta 0:00:01\r\u001b[K     |██████████████▋                 | 757 kB 7.5 MB/s eta 0:00:01\r\u001b[K     |██████████████▉                 | 768 kB 7.5 MB/s eta 0:00:01\r\u001b[K     |███████████████                 | 778 kB 7.5 MB/s eta 0:00:01\r\u001b[K     |███████████████▎                | 788 kB 7.5 MB/s eta 0:00:01\r\u001b[K     |███████████████▌                | 798 kB 7.5 MB/s eta 0:00:01\r\u001b[K     |███████████████▋                | 808 kB 7.5 MB/s eta 0:00:01\r\u001b[K     |███████████████▉                | 819 kB 7.5 MB/s eta 0:00:01\r\u001b[K     |████████████████                | 829 kB 7.5 MB/s eta 0:00:01\r\u001b[K     |████████████████▎               | 839 kB 7.5 MB/s eta 0:00:01\r\u001b[K     |████████████████▍               | 849 kB 7.5 MB/s eta 0:00:01\r\u001b[K     |████████████████▋               | 860 kB 7.5 MB/s eta 0:00:01\r\u001b[K     |████████████████▉               | 870 kB 7.5 MB/s eta 0:00:01\r\u001b[K     |█████████████████               | 880 kB 7.5 MB/s eta 0:00:01\r\u001b[K     |█████████████████▎              | 890 kB 7.5 MB/s eta 0:00:01\r\u001b[K     |█████████████████▍              | 901 kB 7.5 MB/s eta 0:00:01\r\u001b[K     |█████████████████▋              | 911 kB 7.5 MB/s eta 0:00:01\r\u001b[K     |█████████████████▉              | 921 kB 7.5 MB/s eta 0:00:01\r\u001b[K     |██████████████████              | 931 kB 7.5 MB/s eta 0:00:01\r\u001b[K     |██████████████████▎             | 942 kB 7.5 MB/s eta 0:00:01\r\u001b[K     |██████████████████▍             | 952 kB 7.5 MB/s eta 0:00:01\r\u001b[K     |██████████████████▋             | 962 kB 7.5 MB/s eta 0:00:01\r\u001b[K     |██████████████████▉             | 972 kB 7.5 MB/s eta 0:00:01\r\u001b[K     |███████████████████             | 983 kB 7.5 MB/s eta 0:00:01\r\u001b[K     |███████████████████▏            | 993 kB 7.5 MB/s eta 0:00:01\r\u001b[K     |███████████████████▍            | 1.0 MB 7.5 MB/s eta 0:00:01\r\u001b[K     |███████████████████▋            | 1.0 MB 7.5 MB/s eta 0:00:01\r\u001b[K     |███████████████████▉            | 1.0 MB 7.5 MB/s eta 0:00:01\r\u001b[K     |████████████████████            | 1.0 MB 7.5 MB/s eta 0:00:01\r\u001b[K     |████████████████████▏           | 1.0 MB 7.5 MB/s eta 0:00:01\r\u001b[K     |████████████████████▍           | 1.1 MB 7.5 MB/s eta 0:00:01\r\u001b[K     |████████████████████▋           | 1.1 MB 7.5 MB/s eta 0:00:01\r\u001b[K     |████████████████████▉           | 1.1 MB 7.5 MB/s eta 0:00:01\r\u001b[K     |█████████████████████           | 1.1 MB 7.5 MB/s eta 0:00:01\r\u001b[K     |█████████████████████▏          | 1.1 MB 7.5 MB/s eta 0:00:01\r\u001b[K     |█████████████████████▍          | 1.1 MB 7.5 MB/s eta 0:00:01\r\u001b[K     |█████████████████████▋          | 1.1 MB 7.5 MB/s eta 0:00:01\r\u001b[K     |█████████████████████▉          | 1.1 MB 7.5 MB/s eta 0:00:01\r\u001b[K     |██████████████████████          | 1.1 MB 7.5 MB/s eta 0:00:01\r\u001b[K     |██████████████████████▏         | 1.1 MB 7.5 MB/s eta 0:00:01\r\u001b[K     |██████████████████████▍         | 1.2 MB 7.5 MB/s eta 0:00:01\r\u001b[K     |██████████████████████▋         | 1.2 MB 7.5 MB/s eta 0:00:01\r\u001b[K     |██████████████████████▉         | 1.2 MB 7.5 MB/s eta 0:00:01\r\u001b[K     |███████████████████████         | 1.2 MB 7.5 MB/s eta 0:00:01\r\u001b[K     |███████████████████████▏        | 1.2 MB 7.5 MB/s eta 0:00:01\r\u001b[K     |███████████████████████▍        | 1.2 MB 7.5 MB/s eta 0:00:01\r\u001b[K     |███████████████████████▋        | 1.2 MB 7.5 MB/s eta 0:00:01\r\u001b[K     |███████████████████████▊        | 1.2 MB 7.5 MB/s eta 0:00:01\r\u001b[K     |████████████████████████        | 1.2 MB 7.5 MB/s eta 0:00:01\r\u001b[K     |████████████████████████▏       | 1.2 MB 7.5 MB/s eta 0:00:01\r\u001b[K     |████████████████████████▍       | 1.3 MB 7.5 MB/s eta 0:00:01\r\u001b[K     |████████████████████████▋       | 1.3 MB 7.5 MB/s eta 0:00:01\r\u001b[K     |████████████████████████▊       | 1.3 MB 7.5 MB/s eta 0:00:01\r\u001b[K     |█████████████████████████       | 1.3 MB 7.5 MB/s eta 0:00:01\r\u001b[K     |█████████████████████████▏      | 1.3 MB 7.5 MB/s eta 0:00:01\r\u001b[K     |█████████████████████████▍      | 1.3 MB 7.5 MB/s eta 0:00:01\r\u001b[K     |█████████████████████████▌      | 1.3 MB 7.5 MB/s eta 0:00:01\r\u001b[K     |█████████████████████████▊      | 1.3 MB 7.5 MB/s eta 0:00:01\r\u001b[K     |██████████████████████████      | 1.3 MB 7.5 MB/s eta 0:00:01\r\u001b[K     |██████████████████████████▏     | 1.4 MB 7.5 MB/s eta 0:00:01\r\u001b[K     |██████████████████████████▍     | 1.4 MB 7.5 MB/s eta 0:00:01\r\u001b[K     |██████████████████████████▌     | 1.4 MB 7.5 MB/s eta 0:00:01\r\u001b[K     |██████████████████████████▊     | 1.4 MB 7.5 MB/s eta 0:00:01\r\u001b[K     |███████████████████████████     | 1.4 MB 7.5 MB/s eta 0:00:01\r\u001b[K     |███████████████████████████▏    | 1.4 MB 7.5 MB/s eta 0:00:01\r\u001b[K     |███████████████████████████▍    | 1.4 MB 7.5 MB/s eta 0:00:01\r\u001b[K     |███████████████████████████▌    | 1.4 MB 7.5 MB/s eta 0:00:01\r\u001b[K     |███████████████████████████▊    | 1.4 MB 7.5 MB/s eta 0:00:01\r\u001b[K     |████████████████████████████    | 1.4 MB 7.5 MB/s eta 0:00:01\r\u001b[K     |████████████████████████████▏   | 1.5 MB 7.5 MB/s eta 0:00:01\r\u001b[K     |████████████████████████████▎   | 1.5 MB 7.5 MB/s eta 0:00:01\r\u001b[K     |████████████████████████████▌   | 1.5 MB 7.5 MB/s eta 0:00:01\r\u001b[K     |████████████████████████████▊   | 1.5 MB 7.5 MB/s eta 0:00:01\r\u001b[K     |█████████████████████████████   | 1.5 MB 7.5 MB/s eta 0:00:01\r\u001b[K     |█████████████████████████████▏  | 1.5 MB 7.5 MB/s eta 0:00:01\r\u001b[K     |█████████████████████████████▎  | 1.5 MB 7.5 MB/s eta 0:00:01\r\u001b[K     |█████████████████████████████▌  | 1.5 MB 7.5 MB/s eta 0:00:01\r\u001b[K     |█████████████████████████████▊  | 1.5 MB 7.5 MB/s eta 0:00:01\r\u001b[K     |██████████████████████████████  | 1.5 MB 7.5 MB/s eta 0:00:01\r\u001b[K     |██████████████████████████████▏ | 1.6 MB 7.5 MB/s eta 0:00:01\r\u001b[K     |██████████████████████████████▎ | 1.6 MB 7.5 MB/s eta 0:00:01\r\u001b[K     |██████████████████████████████▌ | 1.6 MB 7.5 MB/s eta 0:00:01\r\u001b[K     |██████████████████████████████▊ | 1.6 MB 7.5 MB/s eta 0:00:01\r\u001b[K     |███████████████████████████████ | 1.6 MB 7.5 MB/s eta 0:00:01\r\u001b[K     |███████████████████████████████ | 1.6 MB 7.5 MB/s eta 0:00:01\r\u001b[K     |███████████████████████████████▎| 1.6 MB 7.5 MB/s eta 0:00:01\r\u001b[K     |███████████████████████████████▌| 1.6 MB 7.5 MB/s eta 0:00:01\r\u001b[K     |███████████████████████████████▊| 1.6 MB 7.5 MB/s eta 0:00:01\r\u001b[K     |████████████████████████████████| 1.6 MB 7.5 MB/s eta 0:00:01\r\u001b[K     |████████████████████████████████| 1.7 MB 7.5 MB/s \n",
            "\u001b[?25h  Installing build dependencies ... \u001b[?25l\u001b[?25hdone\n",
            "  Getting requirements to build wheel ... \u001b[?25l\u001b[?25hdone\n",
            "  Installing backend dependencies ... \u001b[?25l\u001b[?25hdone\n",
            "    Preparing wheel metadata ... \u001b[?25l\u001b[?25hdone\n",
            "Requirement already satisfied: scikit-learn in /usr/local/lib/python3.7/dist-packages (from pyLDAvis==3.3.1) (1.0.2)\n",
            "Requirement already satisfied: numexpr in /usr/local/lib/python3.7/dist-packages (from pyLDAvis==3.3.1) (2.8.1)\n",
            "Requirement already satisfied: numpy>=1.20.0 in /usr/local/lib/python3.7/dist-packages (from pyLDAvis==3.3.1) (1.21.5)\n",
            "Requirement already satisfied: joblib in /usr/local/lib/python3.7/dist-packages (from pyLDAvis==3.3.1) (1.1.0)\n",
            "Requirement already satisfied: pandas>=1.2.0 in /usr/local/lib/python3.7/dist-packages (from pyLDAvis==3.3.1) (1.3.5)\n",
            "Collecting funcy\n",
            "  Downloading funcy-1.17-py2.py3-none-any.whl (33 kB)\n",
            "Requirement already satisfied: gensim in /usr/local/lib/python3.7/dist-packages (from pyLDAvis==3.3.1) (3.6.0)\n",
            "Requirement already satisfied: scipy in /usr/local/lib/python3.7/dist-packages (from pyLDAvis==3.3.1) (1.4.1)\n",
            "Requirement already satisfied: setuptools in /usr/local/lib/python3.7/dist-packages (from pyLDAvis==3.3.1) (57.4.0)\n",
            "Requirement already satisfied: sklearn in /usr/local/lib/python3.7/dist-packages (from pyLDAvis==3.3.1) (0.0)\n",
            "Requirement already satisfied: jinja2 in /usr/local/lib/python3.7/dist-packages (from pyLDAvis==3.3.1) (2.11.3)\n",
            "Requirement already satisfied: future in /usr/local/lib/python3.7/dist-packages (from pyLDAvis==3.3.1) (0.16.0)\n",
            "Requirement already satisfied: python-dateutil>=2.7.3 in /usr/local/lib/python3.7/dist-packages (from pandas>=1.2.0->pyLDAvis==3.3.1) (2.8.2)\n",
            "Requirement already satisfied: pytz>=2017.3 in /usr/local/lib/python3.7/dist-packages (from pandas>=1.2.0->pyLDAvis==3.3.1) (2018.9)\n",
            "Requirement already satisfied: six>=1.5 in /usr/local/lib/python3.7/dist-packages (from python-dateutil>=2.7.3->pandas>=1.2.0->pyLDAvis==3.3.1) (1.15.0)\n",
            "Requirement already satisfied: smart-open>=1.2.1 in /usr/local/lib/python3.7/dist-packages (from gensim->pyLDAvis==3.3.1) (5.2.1)\n",
            "Requirement already satisfied: MarkupSafe>=0.23 in /usr/local/lib/python3.7/dist-packages (from jinja2->pyLDAvis==3.3.1) (2.0.1)\n",
            "Requirement already satisfied: packaging in /usr/local/lib/python3.7/dist-packages (from numexpr->pyLDAvis==3.3.1) (21.3)\n",
            "Requirement already satisfied: pyparsing!=3.0.5,>=2.0.2 in /usr/local/lib/python3.7/dist-packages (from packaging->numexpr->pyLDAvis==3.3.1) (3.0.7)\n",
            "Requirement already satisfied: threadpoolctl>=2.0.0 in /usr/local/lib/python3.7/dist-packages (from scikit-learn->pyLDAvis==3.3.1) (3.1.0)\n",
            "Building wheels for collected packages: pyLDAvis\n",
            "  Building wheel for pyLDAvis (PEP 517) ... \u001b[?25l\u001b[?25hdone\n",
            "  Created wheel for pyLDAvis: filename=pyLDAvis-3.3.1-py2.py3-none-any.whl size=136898 sha256=fabdcef029fba518995bb098869d89b8c3bda20ced33c55bd42f2489506870d8\n",
            "  Stored in directory: /root/.cache/pip/wheels/c9/21/f6/17bcf2667e8a68532ba2fbf6d5c72fdf4c7f7d9abfa4852d2f\n",
            "Successfully built pyLDAvis\n",
            "Installing collected packages: funcy, pyLDAvis\n",
            "Successfully installed funcy-1.17 pyLDAvis-3.3.1\n"
          ]
        }
      ],
      "source": [
        "!pip install pyLDAvis==3.3.1"
      ]
    },
    {
      "cell_type": "code",
      "source": [
        "!pip install ipywidgets"
      ],
      "metadata": {
        "colab": {
          "base_uri": "https://localhost:8080/"
        },
        "id": "8Zp2k0T_sA5Y",
        "outputId": "e3533a2e-3d9d-4d3b-c2f6-7333a5163b11"
      },
      "execution_count": null,
      "outputs": [
        {
          "output_type": "stream",
          "name": "stdout",
          "text": [
            "Requirement already satisfied: ipywidgets in /usr/local/lib/python3.7/dist-packages (7.7.0)\n",
            "Requirement already satisfied: jupyterlab-widgets>=1.0.0 in /usr/local/lib/python3.7/dist-packages (from ipywidgets) (1.1.0)\n",
            "Requirement already satisfied: ipython>=4.0.0 in /usr/local/lib/python3.7/dist-packages (from ipywidgets) (5.5.0)\n",
            "Requirement already satisfied: widgetsnbextension~=3.6.0 in /usr/local/lib/python3.7/dist-packages (from ipywidgets) (3.6.0)\n",
            "Requirement already satisfied: traitlets>=4.3.1 in /usr/local/lib/python3.7/dist-packages (from ipywidgets) (5.1.1)\n",
            "Requirement already satisfied: nbformat>=4.2.0 in /usr/local/lib/python3.7/dist-packages (from ipywidgets) (5.2.0)\n",
            "Requirement already satisfied: ipython-genutils~=0.2.0 in /usr/local/lib/python3.7/dist-packages (from ipywidgets) (0.2.0)\n",
            "Requirement already satisfied: ipykernel>=4.5.1 in /usr/local/lib/python3.7/dist-packages (from ipywidgets) (4.10.1)\n",
            "Requirement already satisfied: jupyter-client in /usr/local/lib/python3.7/dist-packages (from ipykernel>=4.5.1->ipywidgets) (5.3.5)\n",
            "Requirement already satisfied: tornado>=4.0 in /usr/local/lib/python3.7/dist-packages (from ipykernel>=4.5.1->ipywidgets) (5.1.1)\n",
            "Requirement already satisfied: setuptools>=18.5 in /usr/local/lib/python3.7/dist-packages (from ipython>=4.0.0->ipywidgets) (57.4.0)\n",
            "Requirement already satisfied: pickleshare in /usr/local/lib/python3.7/dist-packages (from ipython>=4.0.0->ipywidgets) (0.7.5)\n",
            "Requirement already satisfied: decorator in /usr/local/lib/python3.7/dist-packages (from ipython>=4.0.0->ipywidgets) (4.4.2)\n",
            "Requirement already satisfied: pexpect in /usr/local/lib/python3.7/dist-packages (from ipython>=4.0.0->ipywidgets) (4.8.0)\n",
            "Requirement already satisfied: simplegeneric>0.8 in /usr/local/lib/python3.7/dist-packages (from ipython>=4.0.0->ipywidgets) (0.8.1)\n",
            "Requirement already satisfied: prompt-toolkit<2.0.0,>=1.0.4 in /usr/local/lib/python3.7/dist-packages (from ipython>=4.0.0->ipywidgets) (1.0.18)\n",
            "Requirement already satisfied: pygments in /usr/local/lib/python3.7/dist-packages (from ipython>=4.0.0->ipywidgets) (2.6.1)\n",
            "Requirement already satisfied: jupyter-core in /usr/local/lib/python3.7/dist-packages (from nbformat>=4.2.0->ipywidgets) (4.9.2)\n",
            "Requirement already satisfied: jsonschema!=2.5.0,>=2.4 in /usr/local/lib/python3.7/dist-packages (from nbformat>=4.2.0->ipywidgets) (4.3.3)\n",
            "Requirement already satisfied: pyrsistent!=0.17.0,!=0.17.1,!=0.17.2,>=0.14.0 in /usr/local/lib/python3.7/dist-packages (from jsonschema!=2.5.0,>=2.4->nbformat>=4.2.0->ipywidgets) (0.18.1)\n",
            "Requirement already satisfied: importlib-metadata in /usr/local/lib/python3.7/dist-packages (from jsonschema!=2.5.0,>=2.4->nbformat>=4.2.0->ipywidgets) (4.11.3)\n",
            "Requirement already satisfied: importlib-resources>=1.4.0 in /usr/local/lib/python3.7/dist-packages (from jsonschema!=2.5.0,>=2.4->nbformat>=4.2.0->ipywidgets) (5.4.0)\n",
            "Requirement already satisfied: typing-extensions in /usr/local/lib/python3.7/dist-packages (from jsonschema!=2.5.0,>=2.4->nbformat>=4.2.0->ipywidgets) (3.10.0.2)\n",
            "Requirement already satisfied: attrs>=17.4.0 in /usr/local/lib/python3.7/dist-packages (from jsonschema!=2.5.0,>=2.4->nbformat>=4.2.0->ipywidgets) (21.4.0)\n",
            "Requirement already satisfied: zipp>=3.1.0 in /usr/local/lib/python3.7/dist-packages (from importlib-resources>=1.4.0->jsonschema!=2.5.0,>=2.4->nbformat>=4.2.0->ipywidgets) (3.7.0)\n",
            "Requirement already satisfied: six>=1.9.0 in /usr/local/lib/python3.7/dist-packages (from prompt-toolkit<2.0.0,>=1.0.4->ipython>=4.0.0->ipywidgets) (1.15.0)\n",
            "Requirement already satisfied: wcwidth in /usr/local/lib/python3.7/dist-packages (from prompt-toolkit<2.0.0,>=1.0.4->ipython>=4.0.0->ipywidgets) (0.2.5)\n",
            "Requirement already satisfied: notebook>=4.4.1 in /usr/local/lib/python3.7/dist-packages (from widgetsnbextension~=3.6.0->ipywidgets) (5.3.1)\n",
            "Requirement already satisfied: nbconvert in /usr/local/lib/python3.7/dist-packages (from notebook>=4.4.1->widgetsnbextension~=3.6.0->ipywidgets) (5.6.1)\n",
            "Requirement already satisfied: terminado>=0.8.1 in /usr/local/lib/python3.7/dist-packages (from notebook>=4.4.1->widgetsnbextension~=3.6.0->ipywidgets) (0.13.3)\n",
            "Requirement already satisfied: Send2Trash in /usr/local/lib/python3.7/dist-packages (from notebook>=4.4.1->widgetsnbextension~=3.6.0->ipywidgets) (1.8.0)\n",
            "Requirement already satisfied: jinja2 in /usr/local/lib/python3.7/dist-packages (from notebook>=4.4.1->widgetsnbextension~=3.6.0->ipywidgets) (2.11.3)\n",
            "Requirement already satisfied: pyzmq>=13 in /usr/local/lib/python3.7/dist-packages (from jupyter-client->ipykernel>=4.5.1->ipywidgets) (22.3.0)\n",
            "Requirement already satisfied: python-dateutil>=2.1 in /usr/local/lib/python3.7/dist-packages (from jupyter-client->ipykernel>=4.5.1->ipywidgets) (2.8.2)\n",
            "Requirement already satisfied: ptyprocess in /usr/local/lib/python3.7/dist-packages (from terminado>=0.8.1->notebook>=4.4.1->widgetsnbextension~=3.6.0->ipywidgets) (0.7.0)\n",
            "Requirement already satisfied: MarkupSafe>=0.23 in /usr/local/lib/python3.7/dist-packages (from jinja2->notebook>=4.4.1->widgetsnbextension~=3.6.0->ipywidgets) (2.0.1)\n",
            "Requirement already satisfied: bleach in /usr/local/lib/python3.7/dist-packages (from nbconvert->notebook>=4.4.1->widgetsnbextension~=3.6.0->ipywidgets) (4.1.0)\n",
            "Requirement already satisfied: pandocfilters>=1.4.1 in /usr/local/lib/python3.7/dist-packages (from nbconvert->notebook>=4.4.1->widgetsnbextension~=3.6.0->ipywidgets) (1.5.0)\n",
            "Requirement already satisfied: mistune<2,>=0.8.1 in /usr/local/lib/python3.7/dist-packages (from nbconvert->notebook>=4.4.1->widgetsnbextension~=3.6.0->ipywidgets) (0.8.4)\n",
            "Requirement already satisfied: defusedxml in /usr/local/lib/python3.7/dist-packages (from nbconvert->notebook>=4.4.1->widgetsnbextension~=3.6.0->ipywidgets) (0.7.1)\n",
            "Requirement already satisfied: testpath in /usr/local/lib/python3.7/dist-packages (from nbconvert->notebook>=4.4.1->widgetsnbextension~=3.6.0->ipywidgets) (0.6.0)\n",
            "Requirement already satisfied: entrypoints>=0.2.2 in /usr/local/lib/python3.7/dist-packages (from nbconvert->notebook>=4.4.1->widgetsnbextension~=3.6.0->ipywidgets) (0.4)\n",
            "Requirement already satisfied: packaging in /usr/local/lib/python3.7/dist-packages (from bleach->nbconvert->notebook>=4.4.1->widgetsnbextension~=3.6.0->ipywidgets) (21.3)\n",
            "Requirement already satisfied: webencodings in /usr/local/lib/python3.7/dist-packages (from bleach->nbconvert->notebook>=4.4.1->widgetsnbextension~=3.6.0->ipywidgets) (0.5.1)\n",
            "Requirement already satisfied: pyparsing!=3.0.5,>=2.0.2 in /usr/local/lib/python3.7/dist-packages (from packaging->bleach->nbconvert->notebook>=4.4.1->widgetsnbextension~=3.6.0->ipywidgets) (3.0.7)\n"
          ]
        }
      ]
    },
    {
      "cell_type": "code",
      "source": [
        "!pip install pandarallel==1.4.8"
      ],
      "metadata": {
        "colab": {
          "base_uri": "https://localhost:8080/"
        },
        "id": "DTQYjiuCNwyx",
        "outputId": "d492d84c-f294-4802-9566-32f9098ba9be"
      },
      "execution_count": null,
      "outputs": [
        {
          "output_type": "stream",
          "name": "stdout",
          "text": [
            "Collecting pandarallel==1.4.8\n",
            "  Downloading pandarallel-1.4.8.tar.gz (14 kB)\n",
            "Requirement already satisfied: dill in /usr/local/lib/python3.7/dist-packages (from pandarallel==1.4.8) (0.3.4)\n",
            "Building wheels for collected packages: pandarallel\n",
            "  Building wheel for pandarallel (setup.py) ... \u001b[?25l\u001b[?25hdone\n",
            "  Created wheel for pandarallel: filename=pandarallel-1.4.8-py3-none-any.whl size=16111 sha256=2834cf7bd5c01a03010f0f29d95781448152444371e124492ba95d117cbfa675\n",
            "  Stored in directory: /root/.cache/pip/wheels/c7/f2/4e/e40c8b9344cccf6b8a02d8d8808ba837e72b607c4be946878a\n",
            "Successfully built pandarallel\n",
            "Installing collected packages: pandarallel\n",
            "Successfully installed pandarallel-1.4.8\n"
          ]
        }
      ]
    },
    {
      "cell_type": "code",
      "source": [
        "!python -m spacy download en_core_web_lg"
      ],
      "metadata": {
        "colab": {
          "base_uri": "https://localhost:8080/"
        },
        "id": "gl7w4rLhNyfi",
        "outputId": "af258cf8-8b6f-467d-f815-d2099cfa87aa"
      },
      "execution_count": null,
      "outputs": [
        {
          "output_type": "stream",
          "name": "stdout",
          "text": [
            "Collecting en_core_web_lg==2.2.5\n",
            "  Downloading https://github.com/explosion/spacy-models/releases/download/en_core_web_lg-2.2.5/en_core_web_lg-2.2.5.tar.gz (827.9 MB)\n",
            "\u001b[K     |████████████████████████████████| 827.9 MB 85.3 MB/s \n",
            "\u001b[?25hRequirement already satisfied: spacy>=2.2.2 in /usr/local/lib/python3.7/dist-packages (from en_core_web_lg==2.2.5) (2.2.4)\n",
            "Requirement already satisfied: murmurhash<1.1.0,>=0.28.0 in /usr/local/lib/python3.7/dist-packages (from spacy>=2.2.2->en_core_web_lg==2.2.5) (1.0.6)\n",
            "Requirement already satisfied: srsly<1.1.0,>=1.0.2 in /usr/local/lib/python3.7/dist-packages (from spacy>=2.2.2->en_core_web_lg==2.2.5) (1.0.5)\n",
            "Requirement already satisfied: requests<3.0.0,>=2.13.0 in /usr/local/lib/python3.7/dist-packages (from spacy>=2.2.2->en_core_web_lg==2.2.5) (2.23.0)\n",
            "Requirement already satisfied: wasabi<1.1.0,>=0.4.0 in /usr/local/lib/python3.7/dist-packages (from spacy>=2.2.2->en_core_web_lg==2.2.5) (0.9.0)\n",
            "Requirement already satisfied: catalogue<1.1.0,>=0.0.7 in /usr/local/lib/python3.7/dist-packages (from spacy>=2.2.2->en_core_web_lg==2.2.5) (1.0.0)\n",
            "Requirement already satisfied: numpy>=1.15.0 in /usr/local/lib/python3.7/dist-packages (from spacy>=2.2.2->en_core_web_lg==2.2.5) (1.21.5)\n",
            "Requirement already satisfied: preshed<3.1.0,>=3.0.2 in /usr/local/lib/python3.7/dist-packages (from spacy>=2.2.2->en_core_web_lg==2.2.5) (3.0.6)\n",
            "Requirement already satisfied: thinc==7.4.0 in /usr/local/lib/python3.7/dist-packages (from spacy>=2.2.2->en_core_web_lg==2.2.5) (7.4.0)\n",
            "Requirement already satisfied: tqdm<5.0.0,>=4.38.0 in /usr/local/lib/python3.7/dist-packages (from spacy>=2.2.2->en_core_web_lg==2.2.5) (4.63.0)\n",
            "Requirement already satisfied: cymem<2.1.0,>=2.0.2 in /usr/local/lib/python3.7/dist-packages (from spacy>=2.2.2->en_core_web_lg==2.2.5) (2.0.6)\n",
            "Requirement already satisfied: plac<1.2.0,>=0.9.6 in /usr/local/lib/python3.7/dist-packages (from spacy>=2.2.2->en_core_web_lg==2.2.5) (1.1.3)\n",
            "Requirement already satisfied: setuptools in /usr/local/lib/python3.7/dist-packages (from spacy>=2.2.2->en_core_web_lg==2.2.5) (57.4.0)\n",
            "Requirement already satisfied: blis<0.5.0,>=0.4.0 in /usr/local/lib/python3.7/dist-packages (from spacy>=2.2.2->en_core_web_lg==2.2.5) (0.4.1)\n",
            "Requirement already satisfied: importlib-metadata>=0.20 in /usr/local/lib/python3.7/dist-packages (from catalogue<1.1.0,>=0.0.7->spacy>=2.2.2->en_core_web_lg==2.2.5) (4.11.3)\n",
            "Requirement already satisfied: zipp>=0.5 in /usr/local/lib/python3.7/dist-packages (from importlib-metadata>=0.20->catalogue<1.1.0,>=0.0.7->spacy>=2.2.2->en_core_web_lg==2.2.5) (3.7.0)\n",
            "Requirement already satisfied: typing-extensions>=3.6.4 in /usr/local/lib/python3.7/dist-packages (from importlib-metadata>=0.20->catalogue<1.1.0,>=0.0.7->spacy>=2.2.2->en_core_web_lg==2.2.5) (3.10.0.2)\n",
            "Requirement already satisfied: urllib3!=1.25.0,!=1.25.1,<1.26,>=1.21.1 in /usr/local/lib/python3.7/dist-packages (from requests<3.0.0,>=2.13.0->spacy>=2.2.2->en_core_web_lg==2.2.5) (1.24.3)\n",
            "Requirement already satisfied: certifi>=2017.4.17 in /usr/local/lib/python3.7/dist-packages (from requests<3.0.0,>=2.13.0->spacy>=2.2.2->en_core_web_lg==2.2.5) (2021.10.8)\n",
            "Requirement already satisfied: chardet<4,>=3.0.2 in /usr/local/lib/python3.7/dist-packages (from requests<3.0.0,>=2.13.0->spacy>=2.2.2->en_core_web_lg==2.2.5) (3.0.4)\n",
            "Requirement already satisfied: idna<3,>=2.5 in /usr/local/lib/python3.7/dist-packages (from requests<3.0.0,>=2.13.0->spacy>=2.2.2->en_core_web_lg==2.2.5) (2.10)\n",
            "Building wheels for collected packages: en-core-web-lg\n",
            "  Building wheel for en-core-web-lg (setup.py) ... \u001b[?25l\u001b[?25hdone\n",
            "  Created wheel for en-core-web-lg: filename=en_core_web_lg-2.2.5-py3-none-any.whl size=829180942 sha256=6cb1c938e0c92280f4dacaca0c3e26e778a34ec655d9cde57ddfafee03835c1e\n",
            "  Stored in directory: /tmp/pip-ephem-wheel-cache-iqvd479a/wheels/11/95/ba/2c36cc368c0bd339b44a791c2c1881a1fb714b78c29a4cb8f5\n",
            "Successfully built en-core-web-lg\n",
            "Installing collected packages: en-core-web-lg\n",
            "Successfully installed en-core-web-lg-2.2.5\n",
            "\u001b[38;5;2m✔ Download and installation successful\u001b[0m\n",
            "You can now load the model via spacy.load('en_core_web_lg')\n"
          ]
        }
      ]
    },
    {
      "cell_type": "code",
      "source": [
        "import re\n",
        "import string\n",
        "import pandas as pd\n",
        "import numpy as np\n",
        "import matplotlib.pyplot as plt\n",
        "from sklearn.feature_extraction.text import CountVectorizer, TfidfVectorizer\n",
        "\n",
        "import spacy\n",
        "spacy.util.fix_random_seed(0)\n",
        "\n",
        "import pyLDAvis\n",
        "import pyLDAvis.gensim_models \n",
        "\n",
        "import gensim\n",
        "import gensim.corpora as corpora\n",
        "from gensim.utils import lemmatize, simple_preprocess\n",
        "from gensim.models import CoherenceModel\n",
        "\n",
        "from pandarallel import pandarallel\n",
        "\n",
        "%matplotlib inline\n",
        "\n",
        "import warnings\n",
        "warnings.filterwarnings(\"ignore\")\n",
        "\n",
        "# NLTK Stop words\n",
        "import nltk\n",
        "nltk.download('stopwords')\n",
        "from nltk.corpus import stopwords\n",
        "stop_words = stopwords.words('english')\n",
        "stop_words.extend(['matt','roll','sam','marisha','laura','travis','talesin','ashley','liam','from', 'subject', 're', 'edu', 'use', 'not', 'would', 'say', 'could', '_', 'be', 'know', 'good', 'go', 'get', 'do', 'done', 'try', 'many', 'some', 'nice', 'thank', 'think', 'see', 'rather', 'easy', 'easily', 'lot', 'lack', 'make', 'want', 'seem', 'run', 'need', 'even', 'right', 'line', 'even', 'also', 'may', 'take', 'come'])\n"
      ],
      "metadata": {
        "id": "p9D_9Um2N0Tw",
        "colab": {
          "base_uri": "https://localhost:8080/"
        },
        "outputId": "21780fda-e473-4b9f-fd8c-c166f69ec3e7"
      },
      "execution_count": null,
      "outputs": [
        {
          "output_type": "stream",
          "name": "stdout",
          "text": [
            "[nltk_data] Downloading package stopwords to /root/nltk_data...\n",
            "[nltk_data]   Package stopwords is already up-to-date!\n"
          ]
        }
      ]
    },
    {
      "cell_type": "markdown",
      "source": [
        "## Loading in data, cleaning, tokenizing\n"
      ],
      "metadata": {
        "id": "pFJHEhYqOou5"
      }
    },
    {
      "cell_type": "markdown",
      "source": [
        "### Load"
      ],
      "metadata": {
        "id": "sCbXCu9pOwxl"
      }
    },
    {
      "cell_type": "code",
      "source": [
        "text = open('/content/CR3-16.txt', 'r',encoding = \"ISO-8859-1\").read()"
      ],
      "metadata": {
        "id": "RpXZpl4jOuRJ"
      },
      "execution_count": null,
      "outputs": []
    },
    {
      "cell_type": "markdown",
      "source": [
        "### Clean"
      ],
      "metadata": {
        "id": "BaM0Cw5VOx9Z"
      }
    },
    {
      "cell_type": "markdown",
      "source": [
        "I am probably going to have two cleaning functions. One is going to clean the entire episode. The second will as best as possible only pull lines of the characters and Matt."
      ],
      "metadata": {
        "id": "r0_87k6kQiUU"
      }
    },
    {
      "cell_type": "markdown",
      "source": [
        "Second: Clean the data of the parts of the episode where there is only character and DM's dialog."
      ],
      "metadata": {
        "id": "XxNPoPF1S4GW"
      }
    },
    {
      "cell_type": "code",
      "source": [
        "def cr_dialog_cleaner(episode):\n",
        "    \"\"\"\n",
        "    Clean the data of the entire episode and create a dataframe of the spoken\n",
        "    lines in the episode. \n",
        "\n",
        "    This includes intro, break, outro, character dialog, etc.\n",
        "    \n",
        "    Parameters\n",
        "    ----------\n",
        "    episode: A large string containing everything spoken during the episode\n",
        "\n",
        "    Returns\n",
        "    -------\n",
        "    lines: A dataframe where every entry is dialog spoken during the episode\n",
        "    \"\"\"\n",
        "\n",
        "    # How to locate where the dialog starts and stops\n",
        "    ending_intro = \"And welcome back.\"\n",
        "    starting_break = \"And we'll pick up from there after our break.\"\n",
        "    starting_outro = \"We'll pick up on that next week.\"\n",
        "    parts = episode.split(ending_intro)\n",
        "    first_part = parts[1].split(starting_break)[0]\n",
        "    second_part = parts[-1].split(starting_outro)[0]\n",
        "    full_dialog= first_part + \"/n\" + second_part\n",
        "\n",
        "    # regex\n",
        "    remove = string.punctuation\n",
        "    remove = remove.replace(\"#\", \"\") # don't remove hyphens\n",
        "    removing_punctuation = r\"[{}]\".format(remove)\n",
        "    non_alpha = '[^a-zA-Z#]'\n",
        "    spaces = '[^\\S ]+'\n",
        "    multi_white_spaces = \"[ ]{2,}\"\n",
        "\n",
        "    full_dialog = re.sub(removing_punctuation, \"\", full_dialog)\n",
        "    full_dialog = re.sub(non_alpha, \" \", full_dialog)\n",
        "    full_dialog = re.sub(spaces, '', full_dialog)\n",
        "    full_dialog = re.sub(multi_white_spaces, \" \", full_dialog)\n",
        "    return pd.DataFrame(full_dialog.lower().split(\" # \"),columns=['lines'])"
      ],
      "metadata": {
        "id": "u0s_tmwdTCWU"
      },
      "execution_count": null,
      "outputs": []
    },
    {
      "cell_type": "code",
      "source": [
        "full_dialog_df = cr_dialog_cleaner(text)"
      ],
      "metadata": {
        "id": "TR56F--Uqjq7"
      },
      "execution_count": null,
      "outputs": []
    },
    {
      "cell_type": "code",
      "source": [
        "full_dialog_df.head()"
      ],
      "metadata": {
        "id": "wne-hH0rgDU9",
        "colab": {
          "base_uri": "https://localhost:8080/",
          "height": 206
        },
        "outputId": "02bb34f4-ed09-447b-bd80-9d1cff182847"
      },
      "execution_count": null,
      "outputs": [
        {
          "output_type": "execute_result",
          "data": {
            "text/plain": [
              "                                               lines\n",
              "0   so last we left off hells bells bells hells i...\n",
              "1                                 sam yes you should\n",
              "2          matt the other way around brain thank you\n",
              "3  liam first was exclamation then you said their...\n",
              "4  matt indeed i was just excited and then presen..."
            ],
            "text/html": [
              "\n",
              "  <div id=\"df-3492c37d-7d99-4fbb-af5c-04a4dbc0640f\">\n",
              "    <div class=\"colab-df-container\">\n",
              "      <div>\n",
              "<style scoped>\n",
              "    .dataframe tbody tr th:only-of-type {\n",
              "        vertical-align: middle;\n",
              "    }\n",
              "\n",
              "    .dataframe tbody tr th {\n",
              "        vertical-align: top;\n",
              "    }\n",
              "\n",
              "    .dataframe thead th {\n",
              "        text-align: right;\n",
              "    }\n",
              "</style>\n",
              "<table border=\"1\" class=\"dataframe\">\n",
              "  <thead>\n",
              "    <tr style=\"text-align: right;\">\n",
              "      <th></th>\n",
              "      <th>lines</th>\n",
              "    </tr>\n",
              "  </thead>\n",
              "  <tbody>\n",
              "    <tr>\n",
              "      <th>0</th>\n",
              "      <td>so last we left off hells bells bells hells i...</td>\n",
              "    </tr>\n",
              "    <tr>\n",
              "      <th>1</th>\n",
              "      <td>sam yes you should</td>\n",
              "    </tr>\n",
              "    <tr>\n",
              "      <th>2</th>\n",
              "      <td>matt the other way around brain thank you</td>\n",
              "    </tr>\n",
              "    <tr>\n",
              "      <th>3</th>\n",
              "      <td>liam first was exclamation then you said their...</td>\n",
              "    </tr>\n",
              "    <tr>\n",
              "      <th>4</th>\n",
              "      <td>matt indeed i was just excited and then presen...</td>\n",
              "    </tr>\n",
              "  </tbody>\n",
              "</table>\n",
              "</div>\n",
              "      <button class=\"colab-df-convert\" onclick=\"convertToInteractive('df-3492c37d-7d99-4fbb-af5c-04a4dbc0640f')\"\n",
              "              title=\"Convert this dataframe to an interactive table.\"\n",
              "              style=\"display:none;\">\n",
              "        \n",
              "  <svg xmlns=\"http://www.w3.org/2000/svg\" height=\"24px\"viewBox=\"0 0 24 24\"\n",
              "       width=\"24px\">\n",
              "    <path d=\"M0 0h24v24H0V0z\" fill=\"none\"/>\n",
              "    <path d=\"M18.56 5.44l.94 2.06.94-2.06 2.06-.94-2.06-.94-.94-2.06-.94 2.06-2.06.94zm-11 1L8.5 8.5l.94-2.06 2.06-.94-2.06-.94L8.5 2.5l-.94 2.06-2.06.94zm10 10l.94 2.06.94-2.06 2.06-.94-2.06-.94-.94-2.06-.94 2.06-2.06.94z\"/><path d=\"M17.41 7.96l-1.37-1.37c-.4-.4-.92-.59-1.43-.59-.52 0-1.04.2-1.43.59L10.3 9.45l-7.72 7.72c-.78.78-.78 2.05 0 2.83L4 21.41c.39.39.9.59 1.41.59.51 0 1.02-.2 1.41-.59l7.78-7.78 2.81-2.81c.8-.78.8-2.07 0-2.86zM5.41 20L4 18.59l7.72-7.72 1.47 1.35L5.41 20z\"/>\n",
              "  </svg>\n",
              "      </button>\n",
              "      \n",
              "  <style>\n",
              "    .colab-df-container {\n",
              "      display:flex;\n",
              "      flex-wrap:wrap;\n",
              "      gap: 12px;\n",
              "    }\n",
              "\n",
              "    .colab-df-convert {\n",
              "      background-color: #E8F0FE;\n",
              "      border: none;\n",
              "      border-radius: 50%;\n",
              "      cursor: pointer;\n",
              "      display: none;\n",
              "      fill: #1967D2;\n",
              "      height: 32px;\n",
              "      padding: 0 0 0 0;\n",
              "      width: 32px;\n",
              "    }\n",
              "\n",
              "    .colab-df-convert:hover {\n",
              "      background-color: #E2EBFA;\n",
              "      box-shadow: 0px 1px 2px rgba(60, 64, 67, 0.3), 0px 1px 3px 1px rgba(60, 64, 67, 0.15);\n",
              "      fill: #174EA6;\n",
              "    }\n",
              "\n",
              "    [theme=dark] .colab-df-convert {\n",
              "      background-color: #3B4455;\n",
              "      fill: #D2E3FC;\n",
              "    }\n",
              "\n",
              "    [theme=dark] .colab-df-convert:hover {\n",
              "      background-color: #434B5C;\n",
              "      box-shadow: 0px 1px 3px 1px rgba(0, 0, 0, 0.15);\n",
              "      filter: drop-shadow(0px 1px 2px rgba(0, 0, 0, 0.3));\n",
              "      fill: #FFFFFF;\n",
              "    }\n",
              "  </style>\n",
              "\n",
              "      <script>\n",
              "        const buttonEl =\n",
              "          document.querySelector('#df-3492c37d-7d99-4fbb-af5c-04a4dbc0640f button.colab-df-convert');\n",
              "        buttonEl.style.display =\n",
              "          google.colab.kernel.accessAllowed ? 'block' : 'none';\n",
              "\n",
              "        async function convertToInteractive(key) {\n",
              "          const element = document.querySelector('#df-3492c37d-7d99-4fbb-af5c-04a4dbc0640f');\n",
              "          const dataTable =\n",
              "            await google.colab.kernel.invokeFunction('convertToInteractive',\n",
              "                                                     [key], {});\n",
              "          if (!dataTable) return;\n",
              "\n",
              "          const docLinkHtml = 'Like what you see? Visit the ' +\n",
              "            '<a target=\"_blank\" href=https://colab.research.google.com/notebooks/data_table.ipynb>data table notebook</a>'\n",
              "            + ' to learn more about interactive tables.';\n",
              "          element.innerHTML = '';\n",
              "          dataTable['output_type'] = 'display_data';\n",
              "          await google.colab.output.renderOutput(dataTable, element);\n",
              "          const docLink = document.createElement('div');\n",
              "          docLink.innerHTML = docLinkHtml;\n",
              "          element.appendChild(docLink);\n",
              "        }\n",
              "      </script>\n",
              "    </div>\n",
              "  </div>\n",
              "  "
            ]
          },
          "metadata": {},
          "execution_count": 48
        }
      ]
    },
    {
      "cell_type": "markdown",
      "source": [
        "### Tokenizing data for LDA"
      ],
      "metadata": {
        "id": "0eqWttzJOziH"
      }
    },
    {
      "cell_type": "code",
      "source": [
        "# identify how many processors your machine has - save the result to `n_processors`\n",
        "import multiprocessing\n",
        "\n",
        "n_processors = multiprocessing.cpu_count()\n",
        "# subtract 1 from n_processors - save the result to `nb_workers`\n",
        "nb_workers = n_processors - 1\n",
        "# we must initalize pandarallel before we can use it\n",
        "pandarallel.initialize(progress_bar=True, nb_workers=nb_workers)\n",
        "# so that the progress bars will work\n",
        "from pandarallel.utils import progress_bars\n",
        "progress_bars.is_notebook_lab = lambda : True"
      ],
      "metadata": {
        "id": "LnTHDr8drCHy",
        "colab": {
          "base_uri": "https://localhost:8080/"
        },
        "outputId": "ea29b928-6217-4ba9-9e2e-912ead16d309"
      },
      "execution_count": null,
      "outputs": [
        {
          "output_type": "stream",
          "name": "stdout",
          "text": [
            "INFO: Pandarallel will run on 3 workers.\n",
            "INFO: Pandarallel will use Memory file system to transfer data between the main process and workers.\n"
          ]
        }
      ]
    },
    {
      "cell_type": "code",
      "source": [
        "nlp = spacy.load('en_core_web_lg', disable=['parser', 'ner'])"
      ],
      "metadata": {
        "id": "IX7HBWDOPhDo"
      },
      "execution_count": null,
      "outputs": []
    },
    {
      "cell_type": "markdown",
      "source": [
        "Build the bigram and trigram models"
      ],
      "metadata": {
        "id": "ZORPm1E1tbw_"
      }
    },
    {
      "cell_type": "code",
      "source": [
        "bigram = gensim.models.Phrases(full_dialog_df['lines'], min_count=5, threshold=100) # higher threshold fewer phrases.\n",
        "trigram = gensim.models.Phrases(bigram[full_dialog_df['lines']], threshold=100)  \n",
        "bigram_mod = gensim.models.phrases.Phraser(bigram)\n",
        "trigram_mod = gensim.models.phrases.Phraser(trigram)"
      ],
      "metadata": {
        "id": "VKtTFKeyt3gq"
      },
      "execution_count": null,
      "outputs": []
    },
    {
      "cell_type": "code",
      "source": [
        "def process_words(texts, stop_words=stop_words, allowed_postags=['NOUN', 'ADJ', 'VERB', 'ADV']):\n",
        "    \"\"\"Remove Stopwords, Form Bigrams, Trigrams and Lemmatization\"\"\"\n",
        "    texts = [[word for word in simple_preprocess(str(doc)) if word not in stop_words] for doc in texts]\n",
        "    texts = [bigram_mod[doc] for doc in texts]\n",
        "    texts = [trigram_mod[bigram_mod[doc]] for doc in texts]\n",
        "    texts_out = []\n",
        "    for sent in texts:\n",
        "        doc = nlp(\" \".join(sent)) \n",
        "        texts_out.append([token.lemma_ for token in doc if token.pos_ in allowed_postags])\n",
        "    # remove stopwords once more after lemmatization\n",
        "    texts_out = [[word for word in simple_preprocess(str(doc)) if word not in stop_words] for doc in texts_out]    \n",
        "    return texts_out"
      ],
      "metadata": {
        "id": "tZ-SqaZ9tSbk"
      },
      "execution_count": null,
      "outputs": []
    },
    {
      "cell_type": "code",
      "source": [
        "# create our tokens in the form of lemmas \n",
        "full_dialog_df['lemmas'] = process_words(full_dialog_df['lines'])"
      ],
      "metadata": {
        "id": "Qi-5P7Nbp_ns"
      },
      "execution_count": null,
      "outputs": []
    },
    {
      "cell_type": "code",
      "source": [
        "# Create lemma dictionary using Dictionary - save result to `id2word`\n",
        "id2word = corpora.Dictionary(full_dialog_df['lemmas'])\n",
        "\n",
        "# Create Term Document Frequency list - save result to `corpus`\n",
        "# Term Document Frequency -- different format, but equivalent in function to the document-term matrix we used in sklearn\n",
        "corpus = [id2word.doc2bow(doc_lemmas) for doc_lemmas in full_dialog_df['lemmas']]"
      ],
      "metadata": {
        "id": "g31uJl-8qb13"
      },
      "execution_count": null,
      "outputs": []
    },
    {
      "cell_type": "markdown",
      "source": [
        "## LDA Topic Modeling\n"
      ],
      "metadata": {
        "id": "vHXFf-PwPIZ3"
      }
    },
    {
      "cell_type": "markdown",
      "source": [
        "### Baseline"
      ],
      "metadata": {
        "id": "KNsnl64DMHwF"
      }
    },
    {
      "cell_type": "code",
      "source": [
        "lda_model_base = gensim.models.LdaMulticore(corpus=corpus,\n",
        "                                       id2word=id2word,\n",
        "                                       num_topics=10, \n",
        "                                       random_state=100,\n",
        "                                       chunksize=100,\n",
        "                                       passes=10,\n",
        "                                       per_word_topics=True)"
      ],
      "metadata": {
        "id": "sp0eGikZM3mR"
      },
      "execution_count": null,
      "outputs": []
    },
    {
      "cell_type": "code",
      "source": [
        "from gensim.models import CoherenceModel\n",
        "# Compute Coherence Score\n",
        "coherence_model_lda = CoherenceModel(model=lda_model_base, texts=full_dialog_df['lemmas'], dictionary=id2word, coherence='u_mass')\n",
        "coherence_lda = coherence_model_lda.get_coherence()\n",
        "print('\\nCoherence Score: ', coherence_lda)"
      ],
      "metadata": {
        "id": "u9ERpmpJ8Svx",
        "colab": {
          "base_uri": "https://localhost:8080/"
        },
        "outputId": "391db3bd-0ed8-4fbe-df54-cda26a5512b6"
      },
      "execution_count": null,
      "outputs": [
        {
          "output_type": "stream",
          "name": "stdout",
          "text": [
            "\n",
            "Coherence Score:  -13.880612468492473\n"
          ]
        }
      ]
    },
    {
      "cell_type": "markdown",
      "source": [
        "### Attempt 1"
      ],
      "metadata": {
        "id": "skfSRYcUPimm"
      }
    },
    {
      "cell_type": "code",
      "source": [
        "def compute_coherence_values(dictionary, corpus, texts, coherence, limit, start=2, step=3,):\n",
        "    \"\"\"\n",
        "    Compute c_v coherence for various number of topics\n",
        "\n",
        "    Parameters:\n",
        "    ----------\n",
        "    dictionary : Gensim dictionary\n",
        "    corpus : Gensim corpus\n",
        "    texts : List of input texts\n",
        "    limit : Max num of topics\n",
        "\n",
        "    Returns:\n",
        "    -------\n",
        "    model_list : List of LDA topic models\n",
        "    coherence_values : Coherence values corresponding to the LDA model with respective number of topics\n",
        "    \"\"\"\n",
        "    coherence_values = []\n",
        "    model_list = []\n",
        "    for num_topics in range(start, limit, step):\n",
        "        model = gensim.models.ldamulticore.LdaMulticore(corpus=corpus,\n",
        "                                                        id2word=id2word,\n",
        "                                                        num_topics=num_topics, \n",
        "                                                        chunksize=100,\n",
        "                                                        passes=10,\n",
        "                                                        random_state=1234,\n",
        "                                                        per_word_topics=True,\n",
        "                                                        workers=2)\n",
        "        model_list.append(model)\n",
        "        coherencemodel = CoherenceModel(model=model, texts=texts, dictionary=dictionary, coherence=coherence)\n",
        "        coherence_values.append(coherencemodel.get_coherence())\n",
        "\n",
        "    return model_list, coherence_values"
      ],
      "metadata": {
        "id": "g2tcmO8VPZWs"
      },
      "execution_count": null,
      "outputs": []
    },
    {
      "cell_type": "code",
      "source": [
        "%%time \n",
        "start=2; limit=25;  step=2;\n",
        "model_list, coherence_values = compute_coherence_values(dictionary=id2word, corpus=corpus, texts=full_dialog_df['lemmas'], coherence='c_v', limit=limit, start=start, step=step)"
      ],
      "metadata": {
        "colab": {
          "base_uri": "https://localhost:8080/"
        },
        "id": "kjaVWftHomCW",
        "outputId": "b5a10d8d-a198-4d6d-9e9e-886f39b12721"
      },
      "execution_count": null,
      "outputs": [
        {
          "output_type": "stream",
          "name": "stdout",
          "text": [
            "CPU times: user 42.6 s, sys: 6.17 s, total: 48.8 s\n",
            "Wall time: 48.8 s\n"
          ]
        }
      ]
    },
    {
      "cell_type": "code",
      "source": [
        "x = range(start, limit, step)\n",
        "\n",
        "plt.figure(figsize=(20,5))\n",
        "plt.grid()\n",
        "plt.title(\"Coherence Score vs. Number of Topics\")\n",
        "plt.xticks(x)\n",
        "plt.plot(x, coherence_values, \"-o\")\n",
        "\n",
        "plt.xlabel(\"Num Topics\")\n",
        "plt.ylabel(\"Coherence score\")\n",
        "\n",
        "plt.show();"
      ],
      "metadata": {
        "colab": {
          "base_uri": "https://localhost:8080/",
          "height": 350
        },
        "id": "f2aIL_u9ooCj",
        "outputId": "73cdd76a-c091-4316-eabe-dd2bd0991e45"
      },
      "execution_count": null,
      "outputs": [
        {
          "output_type": "display_data",
          "data": {
            "text/plain": [
              "<Figure size 1440x360 with 1 Axes>"
            ],
            "image/png": "[encoded data removed]"
          },
          "metadata": {
            "needs_background": "light"
          }
        }
      ]
    },
    {
      "cell_type": "code",
      "source": [
        "%%time \n",
        "start=2; limit=10;  step=1;\n",
        "model_list, coherence_values = compute_coherence_values(dictionary=id2word, corpus=corpus, texts=full_dialog_df['lemmas'], coherence='u_mass', limit=limit, start=start, step=step)"
      ],
      "metadata": {
        "id": "SeJEs0eErL83",
        "colab": {
          "base_uri": "https://localhost:8080/"
        },
        "outputId": "0770f8e5-19ca-4655-98c2-f3a470c0e614"
      },
      "execution_count": null,
      "outputs": [
        {
          "output_type": "stream",
          "name": "stdout",
          "text": [
            "CPU times: user 23.3 s, sys: 3.08 s, total: 26.4 s\n",
            "Wall time: 25.1 s\n"
          ]
        }
      ]
    },
    {
      "cell_type": "code",
      "source": [
        "x = range(start, limit, step)\n",
        "\n",
        "plt.figure(figsize=(20,5))\n",
        "plt.grid()\n",
        "plt.title(\"Coherence Score vs. Number of Topics\")\n",
        "plt.xticks(x)\n",
        "plt.plot(x, coherence_values, \"-o\")\n",
        "\n",
        "plt.xlabel(\"Num Topics\")\n",
        "plt.ylabel(\"Coherence score\")\n",
        "\n",
        "plt.show();"
      ],
      "metadata": {
        "id": "ChUfFiS9rYDk",
        "colab": {
          "base_uri": "https://localhost:8080/",
          "height": 350
        },
        "outputId": "459abcd7-152f-4933-8295-23c494e5b784"
      },
      "execution_count": null,
      "outputs": [
        {
          "output_type": "display_data",
          "data": {
            "text/plain": [
              "<Figure size 1440x360 with 1 Axes>"
            ],
            "image/png": "[encoded data removed]"
          },
          "metadata": {
            "needs_background": "light"
          }
        }
      ]
    },
    {
      "cell_type": "code",
      "source": [
        "# use np.argmax() to get index of largest coherence value from coherence_values - save result to `max_cohereance_val_index`\n",
        "max_coherence_val_index = np.argmax(coherence_values)\n",
        "# use `max_coherence_val_index` to index model_list for the corresponding model - save result to `lda_trained_model`\n",
        "lda_model_1 = model_list[max_coherence_val_index]"
      ],
      "metadata": {
        "id": "HLKrXKt8rseo"
      },
      "execution_count": null,
      "outputs": []
    },
    {
      "cell_type": "code",
      "source": [
        "coherence_model_lda = CoherenceModel(model=lda_model_1, texts=full_dialog_df['lemmas'], dictionary=id2word, coherence='c_v')\n",
        "coherence_lda = coherence_model_lda.get_coherence()\n",
        "print('\\nCoherence Score: ', coherence_lda)"
      ],
      "metadata": {
        "id": "Dz8OF8cfWM5H",
        "colab": {
          "base_uri": "https://localhost:8080/"
        },
        "outputId": "89c70795-4223-4496-85e5-97abe05b4cd0"
      },
      "execution_count": null,
      "outputs": [
        {
          "output_type": "stream",
          "name": "stdout",
          "text": [
            "\n",
            "Coherence Score:  0.557853816881471\n"
          ]
        }
      ]
    },
    {
      "cell_type": "code",
      "source": [
        "lda_model_1.print_topics()"
      ],
      "metadata": {
        "id": "CAP8IlcGrsyZ",
        "colab": {
          "base_uri": "https://localhost:8080/"
        },
        "outputId": "8b3cf3dd-fb37-490b-e6df-8e30bb3ee8da"
      },
      "execution_count": null,
      "outputs": [
        {
          "output_type": "execute_result",
          "data": {
            "text/plain": [
              "[(3,\n",
              "  '0.103*\"let\" + 0.084*\"well\" + 0.048*\"call\" + 0.040*\"end\" + 0.039*\"enough\" + 0.036*\"start\" + 0.030*\"hurt\" + 0.030*\"learn\" + 0.028*\"familiar\" + 0.024*\"slowly\"'),\n",
              " (13,\n",
              "  '0.063*\"fine\" + 0.034*\"dexterity\" + 0.027*\"action\" + 0.024*\"weird\" + 0.023*\"yet\" + 0.022*\"flame\" + 0.021*\"love\" + 0.019*\"cut\" + 0.019*\"bonus\" + 0.018*\"dead\"'),\n",
              " (5,\n",
              "  '0.161*\"little\" + 0.078*\"leave\" + 0.056*\"much\" + 0.054*\"move\" + 0.027*\"howl\" + 0.022*\"still\" + 0.020*\"place\" + 0.020*\"catch\" + 0.019*\"carve\" + 0.019*\"add\"'),\n",
              " (18,\n",
              "  '0.194*\"feel\" + 0.110*\"ill\" + 0.085*\"laugh\" + 0.054*\"happen\" + 0.051*\"find\" + 0.048*\"wait\" + 0.035*\"strength\" + 0.025*\"sorry\" + 0.022*\"never\" + 0.021*\"hole\"'),\n",
              " (2,\n",
              "  '0.085*\"foot\" + 0.072*\"else\" + 0.053*\"fuck\" + 0.050*\"away\" + 0.034*\"walk\" + 0.028*\"arm\" + 0.027*\"bring\" + 0.027*\"climb\" + 0.025*\"pick\" + 0.025*\"ask\"'),\n",
              " (14,\n",
              "  '0.124*\"thing\" + 0.099*\"way\" + 0.059*\"natural\" + 0.043*\"work\" + 0.028*\"stay\" + 0.026*\"later\" + 0.026*\"okay\" + 0.026*\"long\" + 0.022*\"first\" + 0.021*\"wrong\"'),\n",
              " (12,\n",
              "  '0.111*\"bit\" + 0.087*\"maybe\" + 0.058*\"head\" + 0.038*\"stop\" + 0.034*\"stand\" + 0.031*\"open\" + 0.027*\"movement\" + 0.027*\"step\" + 0.024*\"twist\" + 0.021*\"look\"'),\n",
              " (4,\n",
              "  '0.072*\"day\" + 0.072*\"put\" + 0.041*\"sound\" + 0.041*\"hold\" + 0.040*\"hand\" + 0.035*\"knock\" + 0.031*\"hour\" + 0.031*\"back\" + 0.030*\"remember\" + 0.028*\"little\"'),\n",
              " (22,\n",
              "  '0.111*\"stone\" + 0.095*\"throw\" + 0.071*\"top\" + 0.068*\"saving\" + 0.049*\"cage\" + 0.043*\"chain\" + 0.038*\"figure\" + 0.032*\"touch\" + 0.032*\"though\" + 0.027*\"cover\"'),\n",
              " (9,\n",
              "  '0.049*\"mother\" + 0.047*\"side\" + 0.045*\"fall\" + 0.039*\"shade\" + 0.038*\"begin\" + 0.032*\"ahead\" + 0.028*\"strange\" + 0.024*\"large\" + 0.018*\"cage\" + 0.016*\"shoulder\"'),\n",
              " (16,\n",
              "  '0.046*\"fucking\" + 0.040*\"ever\" + 0.036*\"big\" + 0.035*\"today\" + 0.029*\"high\" + 0.023*\"curious\" + 0.022*\"dream\" + 0.022*\"grab\" + 0.021*\"swill\" + 0.021*\"already\"'),\n",
              " (8,\n",
              "  '0.044*\"night\" + 0.038*\"next\" + 0.028*\"minute\" + 0.026*\"bed\" + 0.024*\"guess\" + 0.022*\"machine\" + 0.021*\"city\" + 0.019*\"elevator\" + 0.017*\"green\" + 0.016*\"seeker\"'),\n",
              " (10,\n",
              "  '0.074*\"creeper\" + 0.073*\"shade\" + 0.067*\"drink\" + 0.050*\"sure\" + 0.036*\"word\" + 0.030*\"rope\" + 0.028*\"low\" + 0.028*\"begin\" + 0.022*\"food\" + 0.015*\"issue\"'),\n",
              " (1,\n",
              "  '0.137*\"still\" + 0.113*\"sleep\" + 0.055*\"miss\" + 0.051*\"poison\" + 0.036*\"talk\" + 0.031*\"save\" + 0.030*\"blast\" + 0.026*\"hope\" + 0.018*\"problem\" + 0.017*\"growl\"'),\n",
              " (20,\n",
              "  '0.184*\"hit\" + 0.072*\"hard\" + 0.061*\"kind\" + 0.044*\"close\" + 0.030*\"front\" + 0.030*\"dark\" + 0.026*\"one\" + 0.023*\"rage\" + 0.019*\"fit\" + 0.018*\"corner\"'),\n",
              " (7,\n",
              "  '0.096*\"time\" + 0.082*\"people\" + 0.077*\"great\" + 0.048*\"sometimes\" + 0.042*\"water\" + 0.033*\"mind\" + 0.025*\"last\" + 0.022*\"course\" + 0.017*\"design\" + 0.016*\"small\"'),\n",
              " (6,\n",
              "  '0.107*\"room\" + 0.042*\"bad\" + 0.037*\"light\" + 0.022*\"face\" + 0.020*\"wander\" + 0.019*\"advice\" + 0.019*\"fun\" + 0.018*\"earlier\" + 0.018*\"real\" + 0.018*\"safe\"'),\n",
              " (15,\n",
              "  '0.156*\"back\" + 0.068*\"shit\" + 0.056*\"strike\" + 0.031*\"half\" + 0.028*\"encounter\" + 0.027*\"morning\" + 0.024*\"hallway\" + 0.022*\"currently\" + 0.021*\"odd\" + 0.021*\"sense\"'),\n",
              " (17,\n",
              "  '0.142*\"look\" + 0.081*\"keep\" + 0.042*\"sort\" + 0.033*\"creature\" + 0.031*\"bolt\" + 0.029*\"disadvantage\" + 0.027*\"far\" + 0.026*\"eye\" + 0.022*\"wild\" + 0.019*\"shift\"'),\n",
              " (21,\n",
              "  '0.273*\"laughter\" + 0.092*\"hear\" + 0.055*\"attack\" + 0.040*\"wake\" + 0.022*\"extra\" + 0.022*\"cool\" + 0.019*\"true\" + 0.019*\"tell\" + 0.015*\"certain\" + 0.015*\"magic\"')]"
            ]
          },
          "metadata": {},
          "execution_count": 20
        }
      ]
    },
    {
      "cell_type": "code",
      "source": [
        "# plot your topics here -- using pyLDAvis\n",
        "pyLDAvis.enable_notebook()\n",
        "vis = pyLDAvis.gensim_models.prepare(lda_model_1, corpus, id2word)\n",
        "vis"
      ],
      "metadata": {
        "id": "9aHB5eiAPqUm",
        "colab": {
          "base_uri": "https://localhost:8080/",
          "height": 861
        },
        "outputId": "475259d7-e96e-4373-c4c3-71066edfe790"
      },
      "execution_count": null,
      "outputs": [
        {
          "output_type": "execute_result",
          "data": {
            "text/plain": [
              "PreparedData(topic_coordinates=              x         y  topics  cluster      Freq\n",
              "topic                                               \n",
              "9     -0.245844 -0.069744       1        1  6.618632\n",
              "0     -0.233460  0.119052       2        1  6.232793\n",
              "8      0.046712 -0.074813       3        1  5.790083\n",
              "11     0.115062  0.105434       4        1  5.253139\n",
              "13     0.045903 -0.021844       5        1  5.031408\n",
              "23     0.102571  0.023655       6        1  4.702785\n",
              "5     -0.080419 -0.114016       7        1  4.371281\n",
              "7     -0.020909 -0.117755       8        1  4.211955\n",
              "19    -0.000952 -0.033589       9        1  4.187542\n",
              "17    -0.101004  0.185804      10        1  3.970203\n",
              "3      0.036980  0.004176      11        1  3.923716\n",
              "20     0.053354 -0.034695      12        1  3.874449\n",
              "2      0.028092  0.021406      13        1  3.859708\n",
              "12    -0.005005  0.198243      14        1  3.845710\n",
              "15     0.010621 -0.086491      15        1  3.787169\n",
              "1      0.024955  0.003521      16        1  3.649658\n",
              "18     0.105086  0.013117      17        1  3.635998\n",
              "14     0.030421  0.000174      18        1  3.579278\n",
              "6      0.021222  0.042157      19        1  3.473170\n",
              "21     0.060056  0.055321      20        1  3.301998\n",
              "4      0.006444 -0.121747      21        1  3.230728\n",
              "22     0.016119 -0.022650      22        1  3.193270\n",
              "10    -0.084111 -0.073889      23        1  3.160285\n",
              "16     0.068106 -0.000827      24        1  3.115041, topic_info=          Term       Freq      Total Category  logprob  loglift\n",
              "307   laughter  98.000000  98.000000  Default  30.0000  30.0000\n",
              "569       roll  92.000000  92.000000  Default  29.0000  29.0000\n",
              "613       feel  77.000000  77.000000  Default  28.0000  28.0000\n",
              "536        hit  77.000000  77.000000  Default  27.0000  27.0000\n",
              "254     little  86.000000  86.000000  Default  26.0000  26.0000\n",
              "...        ...        ...        ...      ...      ...      ...\n",
              "1660      bone   2.487481   3.288618  Topic24  -4.9086   3.1897\n",
              "1348    mainly   2.414055   3.215193  Topic24  -4.9385   3.1823\n",
              "878        hum   2.397043   3.198180  Topic24  -4.9456   3.1806\n",
              "1506  bullshit   2.363941   3.165078  Topic24  -4.9595   3.1771\n",
              "936    scratch   4.702191   6.645115  Topic24  -4.2718   3.1231\n",
              "\n",
              "[845 rows x 6 columns], token_table=      Topic      Freq      Term\n",
              "term                           \n",
              "468       9  0.908463   ability\n",
              "752      12  0.887376      able\n",
              "2236     20  0.661731  absolute\n",
              "1560     21  0.769096        ac\n",
              "2010      2  0.918048   achieve\n",
              "...     ...       ...       ...\n",
              "400      10  0.903043      wrap\n",
              "1632     18  0.903788     wrong\n",
              "565      15  0.790863      year\n",
              "732       8  0.892454      yell\n",
              "872       5  0.918757       yet\n",
              "\n",
              "[866 rows x 3 columns], R=30, lambda_step=0.01, plot_opts={'xlab': 'PC1', 'ylab': 'PC2'}, topic_order=[10, 1, 9, 12, 14, 24, 6, 8, 20, 18, 4, 21, 3, 13, 16, 2, 19, 15, 7, 22, 5, 23, 11, 17])"
            ],
            "text/html": [
              "\n",
              "<link rel=\"stylesheet\" type=\"text/css\" href=\"https://cdn.jsdelivr.net/gh/bmabey/pyLDAvis@3.3.1/pyLDAvis/js/ldavis.v1.0.0.css\">\n",
              "\n",
              "\n",
              "<div id=\"ldavis_el3881397556291162408444218515\"></div>\n",
              "<script type=\"text/javascript\">\n",
              "\n",
              "var ldavis_el3881397556291162408444218515_data = {\"mdsDat\": {\"x\": [-0.24584431694071682, -0.2334597627265445, 0.046712426992225865, 0.11506178572796974, 0.045902752813396806, 0.10257067348365244, -0.08041869484206174, -0.02090868737569719, -0.0009524487702222889, -0.10100428170091978, 0.03698013447013176, 0.05335441100459875, 0.02809153846540737, -0.005004655728426509, 0.0106214528513947, 0.024954897996806405, 0.10508569052175577, 0.030421486071884846, 0.02122188167702015, 0.060056483487306106, 0.006443747145457978, 0.016118734492049102, -0.08411111202571771, 0.0681058629092482], \"y\": [-0.06974351754626763, 0.1190517197850397, -0.07481333805115452, 0.10543374956265057, -0.02184375200376455, 0.0236547927397702, -0.11401555433040528, -0.1177548506901014, -0.03358857534595847, 0.1858037625224342, 0.0041757195147931175, -0.034694988686630714, 0.02140614353100765, 0.1982433025372699, -0.0864914770463364, 0.0035209581179751473, 0.013117218771493199, 0.00017405666645307495, 0.042156605751867374, 0.055320890498744696, -0.1217469592755391, -0.022649890438014603, -0.07388876468253254, -0.0008272519027944627], \"topics\": [1, 2, 3, 4, 5, 6, 7, 8, 9, 10, 11, 12, 13, 14, 15, 16, 17, 18, 19, 20, 21, 22, 23, 24], \"cluster\": [1, 1, 1, 1, 1, 1, 1, 1, 1, 1, 1, 1, 1, 1, 1, 1, 1, 1, 1, 1, 1, 1, 1, 1], \"Freq\": [6.618631701379593, 6.232793287052249, 5.790082524319927, 5.253139072821922, 5.031407619765896, 4.702784993902133, 4.371281279158767, 4.211955225735435, 4.187542351739051, 3.9702030206017724, 3.9237159495632183, 3.8744491613651157, 3.8597082884944225, 3.845710153955415, 3.7871686620556613, 3.6496581116701434, 3.635998097472932, 3.579278166427993, 3.473169864521493, 3.301997859867509, 3.2307280214954277, 3.193270180881184, 3.1602853230260552, 3.1150410827266857]}, \"tinfo\": {\"Term\": [\"laughter\", \"roll\", \"feel\", \"hit\", \"little\", \"point\", \"back\", \"look\", \"really\", \"still\", \"damage\", \"thing\", \"mean\", \"bit\", \"sleep\", \"ill\", \"let\", \"time\", \"pretty\", \"pull\", \"room\", \"shade\", \"stone\", \"check\", \"turn\", \"rest\", \"way\", \"maybe\", \"give\", \"people\", \"mother\", \"fall\", \"strange\", \"large\", \"shoulder\", \"screech\", \"immediately\", \"burst\", \"full\", \"crack\", \"asleep\", \"world\", \"wonder\", \"black\", \"new\", \"life\", \"ice\", \"temporary\", \"past\", \"arc\", \"tumble\", \"bar\", \"pass\", \"searcher\", \"partially\", \"central\", \"orrery\", \"dozen\", \"embrace\", \"cradle\", \"side\", \"ahead\", \"ground\", \"begin\", \"shade\", \"chamber\", \"moment\", \"cage\", \"eye\", \"rock\", \"flame\", \"machine\", \"back\", \"pull\", \"rest\", \"help\", \"appreciate\", \"base\", \"orb\", \"slash\", \"die\", \"quite\", \"short\", \"stuff\", \"investigation\", \"care\", \"send\", \"whoosh\", \"slightly\", \"less\", \"lever\", \"general\", \"scream\", \"individual\", \"space\", \"ring\", \"arcane\", \"achieve\", \"soreness\", \"glow\", \"quietly\", \"rule\", \"momentum\", \"rock\", \"watch\", \"free\", \"long\", \"light\", \"look\", \"rush\", \"side\", \"night\", \"next\", \"minute\", \"bed\", \"guess\", \"city\", \"elevator\", \"green\", \"seeker\", \"total\", \"draw\", \"smolder\", \"follow\", \"faintly\", \"mine\", \"indeed\", \"manage\", \"purple\", \"game\", \"contraption\", \"return\", \"nearby\", \"husk\", \"allow\", \"discussion\", \"heal\", \"upstairs\", \"whole\", \"loud\", \"suffer\", \"machine\", \"first\", \"point\", \"really\", \"damage\", \"sit\", \"probably\", \"gold\", \"nightmare\", \"different\", \"stasis\", \"rough\", \"shaft\", \"mode\", \"oddly\", \"king\", \"anywhere\", \"silver\", \"lose\", \"around\", \"pierce\", \"necrotic\", \"nature\", \"giant\", \"quickly\", \"stuck\", \"fucked\", \"continue\", \"reduce\", \"brumestone\", \"lightning\", \"dice\", \"break\", \"fine\", \"dexterity\", \"weird\", \"yet\", \"love\", \"cut\", \"bonus\", \"dead\", \"darkness\", \"burn\", \"fresh\", \"focus\", \"grass\", \"pulse\", \"healing\", \"flash\", \"destroy\", \"righty\", \"kick\", \"modifier\", \"claw\", \"range\", \"energy\", \"believe\", \"surround\", \"dangerous\", \"better\", \"tight\", \"hair\", \"red\", \"area\", \"action\", \"flame\", \"roll\", \"mean\", \"check\", \"ball\", \"push\", \"finish\", \"fearne\", \"guy\", \"second\", \"worry\", \"group\", \"ready\", \"chetney\", \"perception\", \"charisma\", \"ashton\", \"athletic\", \"damn\", \"chance\", \"single\", \"note\", \"unattractive\", \"hall\", \"important\", \"acrobatic\", \"decent\", \"seriously\", \"aid\", \"plan\", \"survival\", \"move\", \"howl\", \"leave\", \"place\", \"catch\", \"carve\", \"glance\", \"little\", \"read\", \"shut\", \"welcome\", \"excited\", \"mouth\", \"release\", \"double\", \"block\", \"worried\", \"depend\", \"dynamic\", \"separate\", \"reaction\", \"voice\", \"much\", \"lift\", \"consciousness\", \"expand\", \"table\", \"opportunity\", \"elderly\", \"oderan\", \"add\", \"body\", \"part\", \"mind\", \"healthy\", \"still\", \"eye\", \"forward\", \"long\", \"ahead\", \"time\", \"people\", \"great\", \"sometimes\", \"water\", \"last\", \"course\", \"design\", \"air\", \"guide\", \"piss\", \"device\", \"snarl\", \"wheel\", \"wide\", \"warm\", \"stick\", \"shield\", \"grind\", \"luck\", \"worker\", \"mention\", \"nobody\", \"blue\", \"evolve\", \"hell\", \"yell\", \"frost\", \"bell\", \"architecture\", \"mind\", \"small\", \"hold\", \"front\", \"sort\", \"begin\", \"pretty\", \"give\", \"actually\", \"pop\", \"spell\", \"sphere\", \"turn\", \"lady\", \"strong\", \"definitely\", \"gasp\", \"daylight\", \"least\", \"ability\", \"emoth\", \"telekinesis\", \"attempt\", \"sniper\", \"clamber\", \"favorite\", \"study\", \"baseboard\", \"bite\", \"thorough\", \"platinum\", \"animal\", \"dart\", \"saunter\", \"maintain\", \"billion\", \"legendary\", \"rush\", \"shove\", \"action\", \"forward\", \"much\", \"keep\", \"creature\", \"bolt\", \"disadvantage\", \"far\", \"wild\", \"shift\", \"wrap\", \"cast\", \"anyway\", \"unnatural\", \"angrily\", \"downstairs\", \"guidance\", \"cause\", \"become\", \"sort\", \"butt\", \"humanoid\", \"contain\", \"ingress\", \"particularly\", \"thoroughly\", \"unseen\", \"pushup\", \"pregnant\", \"hobby\", \"popular\", \"approach\", \"longer\", \"look\", \"reach\", \"eye\", \"head\", \"chamber\", \"carry\", \"evening\", \"let\", \"well\", \"call\", \"end\", \"learn\", \"familiar\", \"slowly\", \"old\", \"lesson\", \"impact\", \"meal\", \"set\", \"special\", \"upward\", \"alluring\", \"concentrate\", \"groan\", \"fill\", \"speak\", \"possibly\", \"progress\", \"regular\", \"chase\", \"apparently\", \"start\", \"contribution\", \"enough\", \"solid\", \"hover\", \"dog\", \"hurt\", \"healthy\", \"hit\", \"hard\", \"kind\", \"close\", \"dark\", \"one\", \"rage\", \"fit\", \"corner\", \"spark\", \"edge\", \"usually\", \"able\", \"near\", \"wound\", \"especially\", \"honestly\", \"drop\", \"interesting\", \"whack\", \"challenge\", \"deal\", \"wisdom\", \"strip\", \"shake\", \"oak\", \"scale\", \"spruce\", \"robot\", \"attractive\", \"front\", \"succeed\", \"deputy\", \"else\", \"fuck\", \"away\", \"walk\", \"arm\", \"climb\", \"pick\", \"ask\", \"idea\", \"metal\", \"leg\", \"party\", \"tail\", \"grasp\", \"glass\", \"forget\", \"foot\", \"doom\", \"together\", \"center\", \"bring\", \"quick\", \"drill\", \"ex\", \"quad\", \"slam\", \"gem\", \"epilogue\", \"sake\", \"lately\", \"understand\", \"wedge\", \"bit\", \"maybe\", \"stop\", \"stand\", \"open\", \"movement\", \"step\", \"twist\", \"fail\", \"almost\", \"door\", \"stinger\", \"book\", \"leap\", \"dive\", \"recently\", \"sharp\", \"lie\", \"worth\", \"crazy\", \"radiant\", \"patron\", \"woman\", \"town\", \"normal\", \"slow\", \"ass\", \"experience\", \"rapid\", \"head\", \"shoot\", \"look\", \"hear\", \"still\", \"shit\", \"strike\", \"half\", \"encounter\", \"morning\", \"hallway\", \"currently\", \"odd\", \"sense\", \"join\", \"friend\", \"terrible\", \"thought\", \"prepare\", \"early\", \"taste\", \"piece\", \"year\", \"aspect\", \"death\", \"back\", \"peer\", \"toss\", \"glad\", \"cheek\", \"meundie\", \"bandit\", \"establishment\", \"company\", \"encase\", \"comfort\", \"emerge\", \"wall\", \"tomorrow\", \"sleep\", \"miss\", \"poison\", \"talk\", \"save\", \"blast\", \"hope\", \"problem\", \"growl\", \"blade\", \"heavy\", \"form\", \"imagine\", \"exit\", \"eventually\", \"eldritch\", \"question\", \"job\", \"still\", \"swipe\", \"unfortunately\", \"invisible\", \"wear\", \"pee\", \"briefly\", \"turtle\", \"awesome\", \"man\", \"whine\", \"rebuke\", \"feral\", \"breathe\", \"lonely\", \"feel\", \"ill\", \"laugh\", \"happen\", \"find\", \"wait\", \"strength\", \"sorry\", \"never\", \"hole\", \"round\", \"soon\", \"connect\", \"amazing\", \"grave\", \"bottom\", \"feeling\", \"object\", \"occasionally\", \"tired\", \"affect\", \"worse\", \"disturb\", \"brand\", \"girlfriend\", \"motivation\", \"ounce\", \"separation\", \"snuggle\", \"personally\", \"caltrop\", \"comfort\", \"thing\", \"way\", \"natural\", \"work\", \"stay\", \"later\", \"okay\", \"wrong\", \"pay\", \"witch\", \"intervention\", \"identify\", \"enjoy\", \"wish\", \"name\", \"sling\", \"kill\", \"invite\", \"dot\", \"bullet\", \"none\", \"power\", \"fix\", \"genre\", \"dear\", \"explode\", \"busy\", \"bother\", \"exciting\", \"proud\", \"first\", \"long\", \"middle\", \"room\", \"bad\", \"face\", \"wander\", \"advice\", \"fun\", \"earlier\", \"real\", \"safe\", \"number\", \"play\", \"conversation\", \"message\", \"giggle\", \"describe\", \"smart\", \"board\", \"feather\", \"like\", \"skip\", \"conservatory\", \"folk\", \"safely\", \"dig\", \"tonight\", \"goddamn\", \"meat\", \"clear\", \"talented\", \"correct\", \"evening\", \"light\", \"spin\", \"laughter\", \"attack\", \"wake\", \"extra\", \"cool\", \"true\", \"tell\", \"certain\", \"magic\", \"hear\", \"cavern\", \"pain\", \"slug\", \"similar\", \"jump\", \"knee\", \"color\", \"specific\", \"angry\", \"grief\", \"guilt\", \"absolute\", \"boysie\", \"plat\", \"test\", \"must\", \"drawer\", \"undie\", \"behind\", \"romantic\", \"direction\", \"day\", \"put\", \"sound\", \"hand\", \"knock\", \"hour\", \"remember\", \"inside\", \"always\", \"flare\", \"situation\", \"couple\", \"stumble\", \"contract\", \"ac\", \"listen\", \"quorum\", \"crash\", \"finger\", \"baby\", \"land\", \"shocking\", \"answer\", \"remain\", \"sentimental\", \"shock\", \"illegal\", \"involvement\", \"predawn\", \"skyship\", \"hold\", \"back\", \"little\", \"carry\", \"stone\", \"throw\", \"top\", \"saving\", \"chain\", \"figure\", \"touch\", \"though\", \"cover\", \"pillow\", \"bang\", \"silence\", \"hate\", \"hammer\", \"woo\", \"constitution\", \"alone\", \"gross\", \"intelligence\", \"blanket\", \"steal\", \"terrify\", \"notification\", \"technically\", \"duck\", \"enhance\", \"underneath\", \"boundary\", \"plenty\", \"uncomfortably\", \"cage\", \"tomorrow\", \"drink\", \"sure\", \"word\", \"rope\", \"low\", \"food\", \"issue\", \"creeper\", \"crush\", \"discuss\", \"funny\", \"show\", \"boy\", \"pour\", \"dull\", \"dodge\", \"crap\", \"cue\", \"severely\", \"agree\", \"everybody\", \"comment\", \"alpha\", \"origin\", \"late\", \"serve\", \"buy\", \"clink\", \"upside\", \"shim\", \"shade\", \"tunnel\", \"begin\", \"hurt\", \"breathe\", \"fucking\", \"ever\", \"big\", \"today\", \"high\", \"curious\", \"dream\", \"swill\", \"already\", \"exactly\", \"fire\", \"eat\", \"cheer\", \"soot\", \"scarf\", \"week\", \"grab\", \"advantage\", \"assume\", \"spicy\", \"trip\", \"redbubl\", \"deeper\", \"salt\", \"lick\", \"mechanical\", \"bone\", \"mainly\", \"hum\", \"bullshit\", \"scratch\"], \"Freq\": [98.0, 92.0, 77.0, 77.0, 86.0, 80.0, 82.0, 83.0, 66.0, 68.0, 61.0, 48.0, 52.0, 47.0, 45.0, 44.0, 44.0, 44.0, 43.0, 51.0, 40.0, 53.0, 39.0, 44.0, 44.0, 48.0, 39.0, 36.0, 37.0, 37.0, 35.39050999284778, 32.24781844968674, 20.066822534358362, 16.83910717850708, 11.738274453167504, 11.59992874652974, 11.473417089475218, 11.034421852842272, 10.273398458950133, 9.148890398664397, 9.147168294434904, 8.491661286869068, 8.33638588890357, 7.734432122620772, 7.317887578138031, 7.1265026613287015, 6.4669787439747495, 5.476299450274584, 5.40623020936896, 5.203060912649287, 4.8735873047579314, 4.793907482176676, 4.497759891325769, 4.400401332081188, 4.5493500137920275, 4.14262073003968, 3.8947960639095287, 3.717550669554363, 3.693832234007961, 3.4389628081639314, 33.721254295318154, 22.76115894104989, 8.967737434472197, 27.458467243276367, 28.02906711188025, 11.521521334293816, 9.891842698812662, 13.149497200049018, 11.419044465266104, 7.769178892318228, 7.3652084422095685, 6.857977742326138, 7.388511185929765, 50.21296942636229, 47.60212107906174, 26.350008806547525, 14.476582424175142, 13.815562747866917, 10.04390079868449, 10.01178611385609, 9.949634897251663, 9.693763401399462, 9.566557832325298, 9.154261056505426, 8.789777496910201, 14.716847053388092, 7.481359778319223, 6.810007098102846, 6.596144430267072, 6.159739823358055, 5.86767581667287, 5.841217349623576, 5.739943489166397, 5.344427642284249, 20.833252048957327, 5.1697952929986535, 5.035781418274959, 4.652885485419775, 4.652885485419775, 4.585010872070501, 4.3821470333126795, 4.143306660957528, 3.7292892874216346, 14.302983186928122, 10.943119507969316, 7.70759467698584, 8.526226252376233, 8.724880104640793, 13.526796161070273, 6.843123816850157, 7.380243505903176, 27.572010882528275, 24.088956054388447, 17.56002406521962, 16.221746914322445, 15.180228688784139, 13.360405201833744, 12.136249409350716, 10.825826907882378, 10.123455574156523, 10.008277374485099, 9.535785345097429, 9.007572935183271, 8.102923234656837, 8.068688460220628, 7.846357522080944, 7.806805296351912, 7.428221078218641, 7.070379411119483, 7.009465227394291, 5.874176253347424, 5.581539708786808, 5.397519849469157, 5.39171130527422, 5.289720291489684, 5.040946741826168, 4.996936769005871, 4.866132541440216, 4.829448134950715, 4.789971147920462, 4.635685447386822, 13.792579787098592, 8.725393986507305, 80.02957223937914, 65.4221794682984, 60.9507738903354, 23.739496593468985, 19.407706289544244, 17.485687553333822, 15.863063475933924, 13.781478076635883, 10.73712385748775, 9.126261913436808, 8.518686449418151, 8.177839107498158, 7.228115630164343, 7.099674594470961, 5.7008167962478, 5.681015688189585, 5.280929590363415, 10.540699193847301, 5.034684132367301, 4.751323502826472, 4.654611335125571, 4.502751335259756, 4.114650675635579, 4.0999144073897416, 3.8872440511117934, 3.852378067429224, 3.7883914376039574, 3.7474231990275517, 3.323387920292596, 2.8175003005935317, 8.398741052150067, 34.3462878047154, 18.68206341966445, 13.32915195481088, 12.271037304909568, 11.424213109100554, 10.164981970007803, 10.134795592131189, 9.54353081216751, 9.409506538062542, 9.032108900322875, 8.830205821835523, 8.716149360282316, 8.26832207800155, 8.040937459546054, 7.976220217037314, 7.8976641725151255, 7.87970388586614, 6.84938492975071, 6.819687636069041, 6.679509517098765, 6.5477000595035495, 6.2137863146900045, 5.676060289148321, 5.533443844725318, 5.441650090267615, 5.4024331401780135, 5.3089612947674985, 5.305217393266918, 5.250077584988103, 5.2476924759503705, 6.624507564675934, 14.437544459952552, 11.79120668429739, 91.63469891721819, 51.39545448955123, 43.601415052409465, 28.465026527067515, 23.15256864471884, 23.114005922730243, 21.446304154430806, 17.818927888353628, 13.370860686247747, 12.941052422389193, 10.125159865858354, 9.167340186039628, 8.690647830549072, 7.413674775343492, 5.586557621090556, 4.304813255680697, 4.280237597342969, 3.0808857343402365, 2.6447260664344348, 2.5757142657777132, 2.5035792276133653, 2.5035773327324264, 2.488292749358611, 2.3777529749039514, 2.3546285585053424, 2.3468777848846796, 2.327220526884117, 2.126212030600404, 2.1005889768236705, 2.0270334885354613, 25.420182091548696, 12.717321219254131, 36.772577775341034, 9.544107280136148, 9.337160516876581, 9.10018167371354, 7.18125972698087, 76.2716689410346, 4.888359038479088, 4.767310434908255, 4.756312381132097, 4.482823803859667, 4.3406755990218295, 4.112844994848797, 4.01260713786758, 3.9935744327220184, 3.9407659853754713, 3.921126068949239, 3.3722154374403264, 3.3328107718118862, 3.3357501763834017, 3.3165459637731405, 26.354239484922196, 2.468559338371204, 2.4681108650649213, 2.4681108650649213, 2.406634355596799, 2.056587840307569, 1.9786767766450097, 1.7042209104814885, 8.844550568150767, 5.837806749968626, 5.915985532600474, 7.553964602009603, 3.520971633350703, 10.246680233798537, 6.854057829858789, 4.765416587396895, 5.920331122251629, 4.961517650109534, 43.54884541766491, 37.18747499379088, 35.29951915968266, 21.967431882353164, 18.946938785794885, 11.570158144834442, 9.99548158136004, 7.947991262841182, 7.067759424775523, 6.744606779781396, 5.450402187193843, 5.382515578774675, 5.161875297642965, 5.014305029793127, 4.975375397872245, 4.60672359972501, 4.411431810327953, 3.7673582228507776, 3.757282043585462, 3.699861950232025, 3.699861950232025, 3.6761779012637126, 3.2188201710816178, 3.0759912103727087, 2.8188027699807003, 2.65807076079106, 2.5592890737689284, 2.510866220615091, 2.0604403451147397, 2.005957740798459, 14.857458489318688, 7.372714360187407, 7.065864599031327, 5.653854540487868, 3.6786968400105304, 4.013859947872254, 43.11832018243512, 37.14146371953127, 26.79001803630124, 19.058239761819358, 15.44683058633914, 14.557968759592331, 41.61922646579012, 12.409045326573192, 10.410517200579786, 10.336063635588806, 7.159861037996382, 6.696639358532006, 6.2927418659324745, 5.811120446488117, 5.607685632239029, 4.65783723038205, 4.529566745953521, 3.3793980296214605, 3.142217071447373, 3.022359764779062, 2.604586117975463, 2.604586117975463, 2.604586117975463, 2.604585907066018, 2.6045840088810133, 2.5145518286460935, 2.502550870317335, 2.1088135184107846, 2.089580686123136, 1.9127845784126938, 5.049443342347087, 14.756041412112271, 3.804533892420947, 6.91448814606986, 4.646867830148684, 6.541336610540499, 34.63354748288687, 14.384627444511617, 13.488676656968881, 12.38040521073235, 11.541556642608748, 9.596923367475886, 8.164605564416629, 8.06187419971023, 6.465534388606623, 5.8799300963605, 5.637379838967616, 4.754316663454279, 4.681794901152122, 3.9865337274420174, 3.5256603235679305, 3.498685721744164, 18.184758510863848, 3.111802608065856, 2.734968032474457, 2.358206043433356, 2.358206043433356, 2.358206043433356, 2.358206043433356, 2.358206043433356, 2.3582044437297682, 2.3582044437297682, 2.35820424376682, 2.35820424376682, 2.2807647926727466, 2.215808228600352, 60.86968773762842, 6.553651261260569, 11.32772026476549, 7.755960483055475, 3.4628747572271603, 2.6670160234338645, 3.0265448056492463, 43.713439090275486, 35.591438614111674, 20.513991549035417, 17.05540039538236, 12.814082319073373, 11.86700538218838, 10.260149024514147, 8.408123329563475, 7.352218557754986, 7.349637619866198, 7.292805604700988, 5.452749058614966, 4.113575484324872, 4.06869483208174, 3.9727120048837756, 3.972709238181598, 3.631746395184792, 3.5599540308574826, 3.524720869108597, 3.4300941212209586, 3.210931982038115, 3.1978608952203342, 2.994890485290328, 2.811894874598234, 15.415953867025449, 2.4310061477157, 16.39084801809312, 2.1293069586761897, 2.0726249382933375, 2.006444631712261, 12.902876858770053, 2.548840586336096, 76.90549627583654, 30.250408478858446, 25.427800584589775, 18.49068296278799, 12.493803202929405, 11.053889301942348, 9.447909515368071, 7.9166840430314425, 7.735177882933051, 7.36410627178395, 6.823181493720687, 6.594085318118954, 5.964789341492309, 5.926427506839698, 5.598138827094194, 5.170105396391479, 4.1068257735725755, 3.8819676531985055, 3.8779407396853802, 3.8686153790067, 3.617994847215552, 3.4464100060178358, 2.441110639543832, 2.3814113930294654, 2.2734592396954114, 1.9281209640710895, 1.9281209640710895, 1.9281209640710895, 1.9281207689308728, 1.9091710927614316, 12.63633049500978, 3.402448427704988, 2.6093408252751717, 30.04212702391043, 22.26865905270196, 20.706587362912842, 14.295133994287031, 11.628482459998654, 11.292731835051065, 10.593417706109872, 10.30957750890087, 9.21285755540466, 7.24269516153214, 6.549115767073287, 6.329339357954298, 5.822145054900446, 5.749160741524819, 5.432818013247703, 4.832113712918141, 35.47473625394342, 4.453606074056895, 4.449703344244438, 4.2575881839037955, 11.325029082064491, 3.5804326802068083, 3.4406237414829257, 3.350236161334517, 2.575734997783141, 2.5309200889803294, 2.5034361309764885, 2.4520249167345316, 2.2792976300931187, 2.2792976300931187, 5.088339705611328, 3.0018883659059057, 46.27486839677211, 36.10415196430223, 15.860628460207264, 14.046502163099767, 12.737049299225268, 11.169954086924493, 11.138397664083927, 9.888662599367427, 8.021044562860014, 7.607668594755587, 6.618216298034248, 6.225935794724886, 6.063011912778827, 5.800834829688031, 5.084548967925168, 5.007961692393021, 4.938874587528886, 4.263515616469228, 4.07661373422164, 3.7573077492702134, 3.656951661606607, 3.5794633274011582, 3.321590097216804, 3.2553859152446343, 2.9554863943077065, 2.748512132370897, 2.5051902637279158, 2.384032736863843, 2.3469171384036644, 24.196969180706862, 6.03823744788903, 8.866182589676027, 4.167638479958121, 3.451466509532296, 27.896539368139223, 22.953794204698113, 12.571238086361408, 11.446146839727847, 11.011595569968241, 9.817689900429885, 8.827312164432962, 8.741259038859294, 8.565956676997608, 7.8786723230451425, 7.430111269342638, 7.066440564243485, 6.526888397728533, 3.5935576489053345, 3.5790355258971025, 3.482439583935078, 3.393005325721012, 2.998177881996099, 2.7830977134759345, 2.770351419469287, 63.944572565335015, 2.6837388409996294, 2.6119608246257005, 2.492836651096528, 2.4886152900187546, 2.4886152900187546, 2.4886152900187546, 2.488615099274501, 2.190239776344352, 2.165962992203893, 4.47253234801703, 3.8231744369970087, 2.598110312134609, 2.4886171974612914, 44.768320238793585, 21.588644050074386, 20.202398852379226, 14.285434308772125, 12.131490649007763, 11.877217586921473, 10.355072499421047, 7.0945486435948295, 6.670203849737458, 5.264689703651181, 4.840425054619507, 5.108212078392955, 4.439397258124587, 4.422644783732998, 4.222833807076055, 4.152655247800138, 3.536180880901035, 3.0752069606055565, 53.99681898159905, 2.9356897083578737, 2.787019953779261, 2.6994823193667985, 2.673533777681686, 2.6721106555703393, 2.2931208479580536, 2.2931208479580536, 2.2314931533651157, 2.1543868459449937, 1.9755773061704422, 1.8274933808567302, 3.4146041214130167, 2.5048061261066996, 2.5048061261066996, 76.23699559313243, 43.34520080445115, 33.46081759337757, 21.3228594134812, 19.907207150655356, 19.049109333835883, 13.648482249528898, 9.927812221143137, 8.484299230518864, 8.428049626824448, 6.779992422987307, 6.0209542391517195, 5.0749823946878445, 4.560325514306116, 4.536274997782956, 4.370135062496469, 3.3264862196314366, 3.2762861458450843, 2.764872138733683, 2.720911501088811, 1.7986627359780398, 1.7727316532919595, 1.7727316532919595, 1.7727316532919595, 1.745900118388226, 1.745900118388226, 1.745900118388226, 1.5288927821075102, 1.5288927821075102, 1.3168250223301008, 3.061565009581692, 1.97032936385687, 47.926709194868195, 38.345204733056335, 22.734439176380928, 16.60365516912141, 10.845740539836266, 10.228816685688725, 10.222368657542942, 8.049184150297135, 7.823506049573217, 7.199716653491434, 6.837805750548534, 5.459394433820177, 5.003291266449317, 4.966467848277478, 4.910428700511719, 4.065848422533803, 4.014204346513576, 3.95274004332903, 3.194789549888792, 3.065074361447003, 2.9383852466032656, 2.8738487197646023, 2.7587034285150063, 2.7473533991016055, 2.72030676214287, 2.633553490150488, 1.9735370211525773, 1.8507317219645312, 1.8507317219645312, 1.8507317219645312, 8.587106319408246, 10.029145583746493, 2.7473533991016055, 40.119918290290684, 15.69771636693731, 8.328728749443568, 7.333299218227792, 7.2757215515664075, 6.966598186871297, 6.903051228896724, 6.824680752404993, 6.60791591983893, 6.182487585714196, 5.715181149949059, 5.5161643058384335, 4.7044806307758735, 4.443190664681258, 4.320495873627906, 4.044869042645053, 3.9313776379054226, 3.9313776379054226, 3.807992225526773, 3.544747248304617, 3.177523178001151, 3.1601386928673865, 3.146008594546145, 3.0234089650938474, 2.9608122236945076, 2.893161421674472, 2.732505198553518, 2.6930147084807414, 2.6315271944936898, 2.611427629929847, 6.502861010863348, 13.81141751309939, 5.068392937419121, 97.43575149626116, 19.80379681137061, 14.355057963585024, 7.98897119252253, 7.718063154468942, 6.758971878685978, 6.736847569241412, 5.413910256675931, 5.342727363237929, 32.767668245199985, 4.679126137197478, 4.6660383488754995, 4.403408466655942, 4.373580097205437, 3.7740700513059235, 3.447822967250777, 2.831272985503571, 2.764822058634712, 2.328233157710979, 2.2212654011437585, 2.2212654011437585, 2.2212654011437585, 2.0821905204804634, 2.0821891900150447, 2.0821890237068676, 2.0821890237068676, 2.08218885739869, 2.08218885739869, 1.9273737392934187, 1.9062198380634856, 3.6396807372303, 25.2283769193039, 25.091537080432012, 14.366216139039212, 14.151488761361945, 12.289231593047802, 10.742147997872799, 10.562604938926018, 9.09029705193593, 7.08787602906726, 4.836460066416838, 4.09033960830647, 3.8948533803472905, 3.1865269219698678, 3.1529382218894684, 3.1040533219739843, 2.9394823273992077, 2.9371792082503863, 2.9179084437460134, 2.717994154362722, 2.4839935714019923, 2.456964383765233, 2.412770010385281, 2.406328143493753, 2.233907928804462, 2.2191475613388185, 2.19846130768116, 1.969799847619337, 1.9557904265202193, 1.9329006375005904, 1.9329006375005904, 14.34845377601213, 10.70934718128248, 9.888215723882972, 2.144621626214058, 38.29806123330155, 32.91931910466092, 24.567418478385576, 23.510716164942732, 14.801980781010823, 12.96914308732806, 11.05228031982208, 10.956554395813603, 9.295242751116124, 6.9032854510852415, 5.398883442561903, 4.32644178723389, 3.455972001511485, 3.1001594920924567, 2.7798448583028166, 2.5578260831641413, 2.5300938201687018, 2.4829912718943388, 2.3950007241024633, 2.323834169252077, 2.3089877666706875, 2.1274412403110032, 1.8815017599146888, 1.604598419002971, 1.5119596653720235, 1.480461199264804, 1.351047724699586, 1.2036877301988718, 1.2036877301988718, 1.2036877301988718, 16.803141393424173, 2.323834169252077, 22.735521760389474, 17.235177227770254, 12.379766881064413, 10.25280391094723, 9.502973054089134, 7.637332709744965, 5.0805066774847845, 25.30050783746264, 4.443541849892639, 3.803356999155198, 3.7945570881512083, 3.579667737313694, 3.2002751555959246, 2.8413748457426, 2.720214113256306, 2.677327161389376, 2.3769225591962075, 2.340070405032227, 2.251858006261991, 2.2281020984820192, 2.228100347604382, 2.228100347604382, 2.228100347604382, 2.228100347604382, 2.228100347604382, 2.228100347604382, 2.211414961235043, 2.039799824563643, 2.0397996653929487, 1.938179682360691, 24.796206690091047, 4.365473081127507, 9.471259884960693, 5.0555401174041155, 2.228100347604382, 15.518052402221446, 13.324547636364326, 12.272778051396628, 11.956741230822526, 9.65571152465705, 7.693899107386228, 7.52659143992938, 7.130933849483205, 6.941393340940398, 6.0867176694132015, 5.808969382090448, 4.479720736345453, 4.3047306988275285, 4.290774534419305, 4.248382963512497, 4.119462357436687, 7.2784367353048385, 3.9683431127148405, 3.8628081895991238, 3.8371027026174014, 3.7136924547755736, 3.4025271285117373, 3.3760497332528328, 3.3074932958042225, 3.2165907412988948, 2.5182853303734243, 2.4874810126802913, 2.414055277408383, 2.397043015168609, 2.3639407014315963, 4.702190663722539], \"Total\": [98.0, 92.0, 77.0, 77.0, 86.0, 80.0, 82.0, 83.0, 66.0, 68.0, 61.0, 48.0, 52.0, 47.0, 45.0, 44.0, 44.0, 44.0, 43.0, 51.0, 40.0, 53.0, 39.0, 44.0, 44.0, 48.0, 39.0, 36.0, 37.0, 37.0, 36.17537595470996, 33.03268441154892, 20.85168849622054, 17.623973155271155, 12.523140415029689, 12.38479473314, 12.258283051337402, 11.819287814704456, 11.058264420812318, 9.933756452547138, 9.932034256297088, 9.276527248731252, 9.121251850765754, 8.519298084482955, 8.102753543440269, 7.911368623190883, 7.251844705836931, 6.261165412136766, 6.191096171231142, 5.987926874511468, 5.658453266620113, 5.578773444038858, 5.282625853187951, 5.18526729394337, 5.4036302512485985, 4.927486691901862, 4.6796620257717105, 4.502416631416546, 4.478698195870143, 4.223828773113949, 41.848146811469206, 28.471315976855777, 11.404987339896538, 45.77711985785835, 53.57743600583735, 18.590526968296132, 16.78495133470803, 30.703412379333397, 30.314848540421647, 22.818811089494222, 19.899692048257613, 21.3978477030623, 82.75573639469636, 51.00642509768483, 48.39559723496413, 27.14349787892826, 15.270038095497682, 14.609018419189457, 10.83735647000703, 10.80524178517863, 10.743090568574203, 10.487219072722002, 10.360013503647838, 9.947716727827967, 9.583233168232741, 16.059398614306534, 8.274815449641762, 7.603597569448025, 7.389600101589609, 6.953195494680592, 6.661131487995407, 6.634673020946113, 6.533399160488934, 6.137883313606786, 23.934559968311394, 5.96325096432119, 5.829237089597496, 5.446341156742312, 5.446341156742312, 5.378469420900745, 5.175602704635216, 4.936762332280065, 4.522745110335336, 22.818811089494222, 16.635245840749015, 12.605761955792453, 25.20370871075722, 26.967503321500725, 83.98630228140053, 22.354391164287552, 41.848146811469206, 28.366107717240503, 24.88305363966008, 18.354120899931846, 17.015843761716113, 15.974325523496375, 14.154502036545981, 12.930346244062953, 11.619923742594615, 10.91755240886876, 10.802374209197335, 10.329882179809665, 9.801669769895508, 8.897020069369074, 8.862785294932864, 8.64045435679318, 8.600902131064148, 8.222317912930878, 7.864476245831718, 7.803562062106526, 6.668273088059659, 6.375636543499043, 6.191616684181392, 6.185808139986455, 6.083817126201919, 5.835043576538403, 5.791033603718106, 5.660229376152451, 5.62354496966295, 5.584067982632697, 5.429782282099057, 21.3978477030623, 18.077373797853937, 80.82706767546657, 66.21967490438583, 61.74826932986291, 24.536992029556426, 20.205201725631685, 18.283182989421263, 16.660558912021365, 14.578973512723334, 11.5346192935752, 9.923757349524259, 9.316181885505602, 8.975334543585609, 8.025611066251791, 7.897170030558409, 6.498312232335248, 6.478511124277033, 6.078425026450863, 12.197235314034126, 5.832179568454749, 5.548818938913921, 5.452106771213019, 5.300246771347204, 4.912146111723027, 4.89740984347719, 4.684739487199241, 4.649873503516672, 4.585886873691406, 4.544918635115, 4.120883356380044, 3.6149957366809784, 13.339073736590192, 35.13637138754072, 19.472147002489763, 14.119235537636202, 13.061120887734889, 12.214296691925876, 10.955065552833124, 10.92487917495651, 10.333614394992832, 10.199590120887864, 9.822192709656997, 9.620289404660845, 9.506232943107637, 9.058405660826871, 8.831021042371376, 8.766303799862635, 8.687747755340446, 8.66978746869146, 7.6394685125760295, 7.609771218894361, 7.469593099924085, 7.337783642328869, 7.003869897515324, 6.466143871973641, 6.323527427550638, 6.2317336730929345, 6.192516723003333, 6.099044877592818, 6.095300976092238, 6.040161167813423, 6.03777605877569, 8.11851217220016, 22.10388645285032, 19.899692048257613, 92.42962436206888, 52.190379934401925, 44.39634049726016, 29.259951971918206, 23.94749408956953, 23.908931367580934, 22.241229599281496, 18.613853333204318, 14.165786131098443, 13.735977867239889, 10.92008531070905, 9.965499095835924, 9.485573275399767, 8.20860022019419, 6.381483065941253, 5.099738700531394, 5.075163042193666, 3.8758111791909307, 3.439651511285129, 3.3706397106284074, 3.2985046724640594, 3.2985027775831206, 3.2832181942093053, 3.1726784197546456, 3.1495540033560365, 3.1418032297353737, 3.122145971734811, 2.9211374754510984, 2.8955144216743647, 2.8219589333861554, 26.21562813831971, 13.512770441471911, 39.37259238125969, 10.339553326907167, 10.1326065636476, 9.895627720484558, 7.976705773751889, 86.9202900251801, 5.683805085250107, 5.5627564816792745, 5.551758427903116, 5.278269850630686, 5.136121645792849, 4.908291041619816, 4.808053184638599, 4.789020479493037, 4.736212059937025, 4.716572115720258, 4.167661484211345, 4.128256818582904, 4.1339735182413015, 4.111992010544158, 33.65279240623631, 3.2640053851422213, 3.2635569155368778, 3.2635569155368778, 3.2020804023678164, 2.852033887078586, 2.774122823416027, 2.4996669572525057, 13.064349715017084, 9.106441978154301, 12.634943925772166, 23.19749506743292, 6.835887264921235, 68.41843910062698, 30.314848540421647, 14.331480468594911, 25.20370871075722, 28.471315976855777, 44.35107488455586, 37.98970446068183, 36.10174862657361, 22.769702553696135, 19.749168252685827, 12.372387611725394, 10.797711048250992, 8.750220729732133, 7.869988891666472, 7.5468362466723455, 6.252631654084793, 6.1847450456656246, 5.964104764533914, 5.816534496684077, 5.777604864763195, 5.408953066615959, 5.213661277218902, 4.569587689741727, 4.559511510476412, 4.502091417122975, 4.502091417122975, 4.478407368154662, 4.021049637972566, 3.878220677263657, 3.6210322368716485, 3.460300227682008, 3.3615185406598767, 3.3130956875060393, 2.862669812005688, 2.8081872101419103, 23.19749506743292, 11.584402354718858, 22.1815071554259, 19.057460468420764, 22.631071412600225, 45.77711985785835, 43.91176306937456, 37.93490661256883, 27.58346092324067, 19.851682648758786, 16.240273473278567, 15.35141346173854, 44.00501723665975, 13.214201506888203, 11.20396008751922, 11.12950652252824, 7.953303924935817, 7.490082277147878, 7.086184752871909, 6.604563333427552, 6.401128519178464, 5.451280117321485, 5.323009632892956, 4.172840916560894, 3.9356599583868057, 3.815802651718495, 3.398029004914896, 3.398029008002733, 3.398029008002733, 3.3980287992140994, 3.398026895820446, 3.3079947155855263, 3.2959937572567677, 2.9022564053502173, 2.8830235730625686, 2.7062274653521268, 7.265263348385221, 22.354391164287552, 5.997545924077062, 22.10388645285032, 14.331480468594911, 33.65279240623631, 35.430606700658615, 15.181686662283363, 14.285735874740627, 13.177464428504097, 12.338615860380495, 10.393982585247633, 8.961664782188375, 8.858933417481976, 7.262593606378369, 6.676989314132245, 6.434439056739362, 5.551375881226025, 5.478854118923867, 4.783592945213763, 4.32271971449075, 4.295744939515909, 22.631071412600225, 3.9088618258376004, 3.532027250246202, 3.1552652612051006, 3.1552652612051006, 3.1552652612051006, 3.1552652612051006, 3.1552652612051006, 3.155263661501513, 3.155263661501513, 3.1552634615385644, 3.1552634615385644, 3.077824010444491, 3.0128674463720966, 83.98630228140053, 10.714185223527428, 30.314848540421647, 32.714781419963124, 18.590526968296132, 5.573656180911161, 10.29739979703779, 44.51574071167575, 36.393740235511935, 21.31629317043567, 17.85808360857673, 13.616383940473632, 12.669307003588639, 11.062450645914407, 9.210424950963734, 8.154520179155245, 8.151939241266458, 8.095107226101248, 6.255050680015225, 4.915877105725131, 4.870996453481999, 4.775013629598707, 4.775010859581857, 4.434048020544606, 4.362255652257741, 4.327022490508855, 4.232395742621216, 4.013233603438373, 4.000162516620592, 3.797192106690586, 3.614196495998492, 19.93954922615222, 3.233307769115958, 22.432586331112024, 2.9316085800764475, 2.8749265596935953, 2.8087462531125187, 18.7280148395783, 6.835887264921235, 77.70221486480557, 31.047127067827457, 26.224519173558786, 19.287401551757, 13.290521791898422, 11.850607890911366, 10.244628559685877, 8.71340263200046, 8.53189647190207, 8.160824860752966, 7.619900082689703, 7.401193672251924, 6.761507930461325, 6.723146095808714, 6.39485741606321, 5.966823985360495, 4.903544725940995, 4.6786862421675215, 4.674659328654396, 4.665333967975716, 4.4147134361845675, 4.243128594986851, 3.237829228512847, 3.1781299819984805, 3.0701778286644266, 2.7248395530401046, 2.7248395530401046, 2.7248395530401046, 2.7248393578998877, 2.7058896817304467, 19.057460468420764, 5.455788287100838, 5.019618805938556, 30.837809179190305, 23.064341207981833, 21.502269518192715, 15.09081614956691, 12.424164615278533, 12.088413990330944, 11.38909986138975, 11.10525966418075, 10.00853971068454, 8.038377319264521, 7.344797922353165, 7.125021513234176, 6.617827210180324, 6.544842896804697, 6.228500168527581, 5.627795868198019, 41.435002799035615, 5.249288229336773, 5.245385499524316, 5.053270362386379, 13.84026426996814, 4.376114835486686, 4.236305896762803, 4.145918316614395, 3.3714171530630184, 3.3266022442602066, 3.2991182862563657, 3.2477070754544655, 3.074979785372996, 3.0749797919374737, 7.005426084516866, 5.985342254950513, 47.07437208571701, 36.90061712566812, 16.657093621573143, 14.843069996218333, 13.533514460591153, 11.966419248290379, 11.93486283141057, 10.685127760733312, 8.8175097242259, 8.404133756121473, 7.414681459400131, 7.0224009560907685, 6.85947707414471, 6.597299991053914, 5.881014129291051, 5.804480455323344, 5.735904572258664, 5.0599807778351105, 4.873078895587523, 4.553772910636097, 4.4534168254239255, 4.375928488767041, 4.118055258582687, 4.051851076610517, 3.751951555673589, 3.5449772937367796, 3.301655425093798, 3.180497907744713, 3.143382299769547, 32.714781419963124, 8.81517452202783, 83.98630228140053, 37.701209793979395, 68.41843910062698, 28.691684430735418, 23.748939267294308, 13.366383148957608, 12.241291902324047, 11.806740632564441, 10.612834963026085, 9.622457227029162, 9.536404101455494, 9.361101739593808, 8.673817385641343, 8.225256331938837, 7.861585626839683, 7.3220334603247315, 4.388702711501533, 4.3741805884933, 4.277584646531277, 4.188150388317211, 3.793322944592297, 3.5782427760721327, 3.5654964820654853, 82.75573639469636, 3.4788839035958277, 3.4071058872218987, 3.287981713692726, 3.283760352614953, 3.283760352614953, 3.283760355929625, 3.28376017323529, 2.98538483894055, 2.9611080548000914, 7.210015062873552, 6.0663054227499, 9.501973582792258, 5.573487532174477, 45.5632276695786, 22.38355146350827, 20.99730626581311, 15.080341722206011, 12.926398062441649, 12.67212500035536, 11.149979912854933, 7.889456057028715, 7.465111263171344, 6.059597117085066, 5.6353324680533925, 5.958166873240888, 5.234304671558473, 5.217552197166883, 5.017741220509941, 4.9475626612340236, 4.33108829433492, 3.8701143740394413, 68.41843910062698, 3.730597125106431, 3.5819273672131455, 3.494389732800683, 3.468441191115571, 3.467018069004224, 3.0880282613919383, 3.0880282613919383, 3.0264005667990004, 2.9492942593788785, 2.770484719604327, 2.622400794290615, 8.400202314723915, 5.4951101291488404, 5.623304378142309, 77.04091141564237, 44.14888171270361, 34.26449850163003, 22.126540321733657, 20.710888058907813, 19.85279024208834, 14.452173234848036, 10.731493129395597, 9.28798096192442, 9.231730535076908, 7.5836733312397655, 6.8246351474041775, 5.878663302940303, 5.364006422558574, 5.3399559060354145, 5.173815970748927, 4.130167127883895, 4.079967054097542, 3.568553046986141, 3.5245924093412686, 2.602343659856443, 2.576412561544417, 2.576412561544417, 2.576412564593483, 2.5495810266406838, 2.5495810266406838, 2.5495810297651045, 2.332573690359968, 2.332573690359968, 2.120505930582559, 5.271195042741897, 7.210015062873552, 48.72915847503119, 39.14765401321933, 23.536888459631754, 17.4061044492844, 11.64818981999926, 11.03126596585172, 11.024817937705937, 8.85163343046013, 8.625955329736211, 8.002165933654426, 7.640255030711527, 6.26184371398317, 5.8057412661764785, 5.768917128440472, 5.712877980674713, 4.868297702696797, 4.81665362667657, 4.755189326225295, 3.997238830051785, 3.867523641609996, 3.7408345267662586, 3.6762979999275953, 3.5611527086779993, 3.5498026792645985, 3.522756042305863, 3.436002770313481, 2.7759863013155703, 2.653181002127524, 2.653181002127524, 2.653181002127524, 18.077373797853937, 25.20370871075722, 6.909417765148622, 40.92252551141838, 16.500323584940578, 9.131335967446837, 8.13590643623106, 8.078328769569676, 7.769205404874566, 7.705658446899993, 7.627287970408262, 7.4105231378421985, 6.985094803717465, 6.517788367952328, 6.31877152839831, 5.507087848779142, 5.245797882684527, 5.123103091631175, 4.847476260648322, 4.733984855908692, 4.733984855908692, 4.610599443530042, 4.347354466307886, 3.980130396004419, 3.9627459108706544, 3.948615812549413, 3.8260161830971153, 3.7634194416977755, 3.69576863967774, 3.5351124165567858, 3.4956219264840094, 3.4341344124969577, 3.414034847933115, 10.29739979703779, 26.967503321500725, 8.19956119552145, 98.23686202665341, 20.60490734176285, 15.156168493977265, 8.79008172291477, 8.519173684861183, 7.560082409078218, 7.537958099633652, 6.215020787068171, 6.1438378936301685, 37.701209793979395, 5.480236667589718, 5.467148879267739, 5.204518997048182, 5.174690627597677, 4.57591237430094, 4.2489334976430175, 3.632383515895811, 3.5659325890269518, 3.129343688103219, 3.0223759315359984, 3.0223759315359984, 3.0223759315359984, 2.8833010508727033, 2.8832997204072845, 2.8832995540991075, 2.883299560003721, 2.88329938779093, 2.88329938779093, 2.7284842696856586, 2.7073303684557253, 7.575401493540913, 26.025008855732235, 25.888169016860346, 15.162848075467547, 14.94812069779028, 13.085863529476137, 11.538779934301134, 11.359236875354354, 9.886928988364266, 7.884507965495595, 5.6330920028451725, 4.886971544734805, 4.691485316775625, 3.983158858398202, 3.9495701583178024, 3.9006852612637313, 3.7361142638275417, 3.7338111446787203, 3.7145403801743475, 3.5146260907910563, 3.2806255078303264, 3.253596320193567, 3.2094019468136152, 3.202960079922087, 3.030539865232796, 3.0157794977671526, 2.995093244109494, 2.766431784047671, 2.7524223629485536, 2.7295325739289247, 2.7295325739289247, 22.1815071554259, 82.75573639469636, 86.9202900251801, 5.573656180911161, 39.095624955978884, 33.7168828325469, 25.364982201062908, 24.308279887620063, 15.599544503688152, 13.76670681000539, 11.84984404249941, 11.754118118490933, 10.092806473793454, 7.700849173762571, 6.196447165239233, 5.124005509911219, 4.253535724188815, 3.897723214769786, 3.577408580980146, 3.3553898058414706, 3.327657542846031, 3.280554994571668, 3.1925644467797927, 3.1213978919294063, 3.106551489348017, 2.9250049726044742, 2.6790654825920184, 2.4021621416803005, 2.309523388049353, 2.2780249219421336, 2.1486114473769153, 2.0012514528762013, 2.0012514528762013, 2.0012514528762013, 30.703412379333397, 5.573487532174477, 23.53449062533019, 18.03414609271097, 13.178735746005126, 11.051772778914394, 10.301941919029847, 8.436301574685679, 5.8794755424254985, 29.622679781042358, 5.242510714833353, 4.602325864095913, 4.593525953091922, 4.378636602254408, 3.9992440205366386, 3.640343710683314, 3.51918297819702, 3.47629602633009, 3.1758914241369216, 3.1390392699729412, 3.050826871202705, 3.0270709634227333, 3.027069212545096, 3.027069212545096, 3.027069212545096, 3.027069212545096, 3.027069218793938, 3.027069218793938, 3.010383829471217, 2.838768689504357, 2.8387685332058252, 2.737148547301405, 53.57743600583735, 9.449902927014886, 45.77711985785835, 18.7280148395783, 5.4951101291488404, 16.319189715832774, 14.125684949975655, 13.073915365007958, 12.865421054549497, 10.45684883826838, 8.495199369257188, 8.32772875354071, 7.932071163094534, 7.742530654551727, 6.88785498302453, 6.610106695701777, 5.280858049956782, 5.10587822808995, 5.091911848030634, 5.0495202771238255, 4.920599671048016, 8.709487081559354, 4.76948042632617, 4.663945503210453, 4.63824001622873, 4.514829768386903, 4.203664442123067, 4.177187046864162, 4.108630609415552, 4.017728054910224, 3.3194226439847534, 3.2886183262916204, 3.2151925910197123, 3.198180328779938, 3.1650780150429254, 6.64511486232197], \"Category\": [\"Default\", \"Default\", \"Default\", \"Default\", \"Default\", \"Default\", \"Default\", \"Default\", \"Default\", \"Default\", \"Default\", \"Default\", \"Default\", \"Default\", \"Default\", \"Default\", \"Default\", \"Default\", \"Default\", \"Default\", \"Default\", \"Default\", \"Default\", \"Default\", \"Default\", \"Default\", \"Default\", \"Default\", \"Default\", \"Default\", \"Topic1\", \"Topic1\", \"Topic1\", \"Topic1\", \"Topic1\", \"Topic1\", \"Topic1\", \"Topic1\", \"Topic1\", \"Topic1\", \"Topic1\", \"Topic1\", \"Topic1\", \"Topic1\", \"Topic1\", \"Topic1\", \"Topic1\", \"Topic1\", \"Topic1\", \"Topic1\", \"Topic1\", \"Topic1\", \"Topic1\", \"Topic1\", \"Topic1\", \"Topic1\", \"Topic1\", \"Topic1\", \"Topic1\", \"Topic1\", \"Topic1\", \"Topic1\", \"Topic1\", \"Topic1\", \"Topic1\", \"Topic1\", \"Topic1\", \"Topic1\", \"Topic1\", \"Topic1\", \"Topic1\", \"Topic1\", \"Topic1\", \"Topic2\", \"Topic2\", \"Topic2\", \"Topic2\", \"Topic2\", \"Topic2\", \"Topic2\", \"Topic2\", \"Topic2\", \"Topic2\", \"Topic2\", \"Topic2\", \"Topic2\", \"Topic2\", \"Topic2\", \"Topic2\", \"Topic2\", \"Topic2\", \"Topic2\", \"Topic2\", \"Topic2\", \"Topic2\", \"Topic2\", \"Topic2\", \"Topic2\", \"Topic2\", \"Topic2\", \"Topic2\", \"Topic2\", \"Topic2\", \"Topic2\", \"Topic2\", \"Topic2\", \"Topic2\", \"Topic2\", \"Topic2\", \"Topic2\", \"Topic2\", \"Topic3\", \"Topic3\", \"Topic3\", \"Topic3\", \"Topic3\", \"Topic3\", \"Topic3\", \"Topic3\", \"Topic3\", \"Topic3\", \"Topic3\", \"Topic3\", \"Topic3\", \"Topic3\", \"Topic3\", \"Topic3\", \"Topic3\", \"Topic3\", \"Topic3\", \"Topic3\", \"Topic3\", \"Topic3\", \"Topic3\", \"Topic3\", \"Topic3\", \"Topic3\", \"Topic3\", \"Topic3\", \"Topic3\", \"Topic3\", \"Topic3\", \"Topic3\", \"Topic4\", \"Topic4\", \"Topic4\", \"Topic4\", \"Topic4\", \"Topic4\", \"Topic4\", \"Topic4\", \"Topic4\", \"Topic4\", \"Topic4\", \"Topic4\", \"Topic4\", \"Topic4\", \"Topic4\", \"Topic4\", \"Topic4\", \"Topic4\", \"Topic4\", \"Topic4\", \"Topic4\", \"Topic4\", \"Topic4\", \"Topic4\", \"Topic4\", \"Topic4\", \"Topic4\", \"Topic4\", \"Topic4\", \"Topic4\", \"Topic4\", \"Topic5\", \"Topic5\", \"Topic5\", \"Topic5\", \"Topic5\", \"Topic5\", \"Topic5\", \"Topic5\", \"Topic5\", \"Topic5\", \"Topic5\", \"Topic5\", \"Topic5\", \"Topic5\", \"Topic5\", \"Topic5\", \"Topic5\", \"Topic5\", \"Topic5\", \"Topic5\", \"Topic5\", \"Topic5\", \"Topic5\", \"Topic5\", \"Topic5\", \"Topic5\", \"Topic5\", \"Topic5\", \"Topic5\", \"Topic5\", \"Topic5\", \"Topic5\", \"Topic5\", \"Topic6\", \"Topic6\", \"Topic6\", \"Topic6\", \"Topic6\", \"Topic6\", \"Topic6\", \"Topic6\", \"Topic6\", \"Topic6\", \"Topic6\", \"Topic6\", \"Topic6\", \"Topic6\", \"Topic6\", \"Topic6\", \"Topic6\", \"Topic6\", \"Topic6\", \"Topic6\", \"Topic6\", \"Topic6\", \"Topic6\", \"Topic6\", \"Topic6\", \"Topic6\", \"Topic6\", \"Topic6\", \"Topic6\", \"Topic6\", \"Topic7\", \"Topic7\", \"Topic7\", \"Topic7\", \"Topic7\", \"Topic7\", \"Topic7\", \"Topic7\", \"Topic7\", \"Topic7\", \"Topic7\", \"Topic7\", \"Topic7\", \"Topic7\", \"Topic7\", \"Topic7\", \"Topic7\", \"Topic7\", \"Topic7\", \"Topic7\", \"Topic7\", \"Topic7\", \"Topic7\", \"Topic7\", \"Topic7\", \"Topic7\", \"Topic7\", \"Topic7\", \"Topic7\", \"Topic7\", \"Topic7\", \"Topic7\", \"Topic7\", \"Topic7\", \"Topic7\", \"Topic7\", \"Topic7\", \"Topic7\", \"Topic7\", \"Topic7\", \"Topic8\", \"Topic8\", \"Topic8\", \"Topic8\", \"Topic8\", \"Topic8\", \"Topic8\", \"Topic8\", \"Topic8\", \"Topic8\", \"Topic8\", \"Topic8\", \"Topic8\", \"Topic8\", \"Topic8\", \"Topic8\", \"Topic8\", \"Topic8\", \"Topic8\", \"Topic8\", \"Topic8\", \"Topic8\", \"Topic8\", \"Topic8\", \"Topic8\", \"Topic8\", \"Topic8\", \"Topic8\", \"Topic8\", \"Topic8\", \"Topic8\", \"Topic8\", \"Topic8\", \"Topic8\", \"Topic8\", \"Topic8\", \"Topic9\", \"Topic9\", \"Topic9\", \"Topic9\", \"Topic9\", \"Topic9\", \"Topic9\", \"Topic9\", \"Topic9\", \"Topic9\", \"Topic9\", \"Topic9\", \"Topic9\", \"Topic9\", \"Topic9\", \"Topic9\", \"Topic9\", \"Topic9\", \"Topic9\", \"Topic9\", \"Topic9\", \"Topic9\", \"Topic9\", \"Topic9\", \"Topic9\", \"Topic9\", \"Topic9\", \"Topic9\", \"Topic9\", \"Topic9\", \"Topic9\", \"Topic9\", \"Topic9\", \"Topic9\", \"Topic9\", \"Topic9\", \"Topic10\", \"Topic10\", \"Topic10\", \"Topic10\", \"Topic10\", \"Topic10\", \"Topic10\", \"Topic10\", \"Topic10\", \"Topic10\", \"Topic10\", \"Topic10\", \"Topic10\", \"Topic10\", \"Topic10\", \"Topic10\", \"Topic10\", \"Topic10\", \"Topic10\", \"Topic10\", \"Topic10\", \"Topic10\", \"Topic10\", \"Topic10\", \"Topic10\", \"Topic10\", \"Topic10\", \"Topic10\", \"Topic10\", \"Topic10\", \"Topic10\", \"Topic10\", \"Topic10\", \"Topic10\", \"Topic10\", \"Topic10\", \"Topic10\", \"Topic11\", \"Topic11\", \"Topic11\", \"Topic11\", \"Topic11\", \"Topic11\", \"Topic11\", \"Topic11\", \"Topic11\", \"Topic11\", \"Topic11\", \"Topic11\", \"Topic11\", \"Topic11\", \"Topic11\", \"Topic11\", \"Topic11\", \"Topic11\", \"Topic11\", \"Topic11\", \"Topic11\", \"Topic11\", \"Topic11\", \"Topic11\", \"Topic11\", \"Topic11\", \"Topic11\", \"Topic11\", \"Topic11\", \"Topic11\", \"Topic11\", \"Topic11\", \"Topic12\", \"Topic12\", \"Topic12\", \"Topic12\", \"Topic12\", \"Topic12\", \"Topic12\", \"Topic12\", \"Topic12\", \"Topic12\", \"Topic12\", \"Topic12\", \"Topic12\", \"Topic12\", \"Topic12\", \"Topic12\", \"Topic12\", \"Topic12\", \"Topic12\", \"Topic12\", \"Topic12\", \"Topic12\", \"Topic12\", \"Topic12\", \"Topic12\", \"Topic12\", \"Topic12\", \"Topic12\", \"Topic12\", \"Topic12\", \"Topic12\", \"Topic12\", \"Topic12\", \"Topic13\", \"Topic13\", \"Topic13\", \"Topic13\", \"Topic13\", \"Topic13\", \"Topic13\", \"Topic13\", \"Topic13\", \"Topic13\", \"Topic13\", \"Topic13\", \"Topic13\", \"Topic13\", \"Topic13\", \"Topic13\", \"Topic13\", \"Topic13\", \"Topic13\", \"Topic13\", \"Topic13\", \"Topic13\", \"Topic13\", \"Topic13\", \"Topic13\", \"Topic13\", \"Topic13\", \"Topic13\", \"Topic13\", \"Topic13\", \"Topic13\", \"Topic13\", \"Topic14\", \"Topic14\", \"Topic14\", \"Topic14\", \"Topic14\", \"Topic14\", \"Topic14\", \"Topic14\", \"Topic14\", \"Topic14\", \"Topic14\", \"Topic14\", \"Topic14\", \"Topic14\", \"Topic14\", \"Topic14\", \"Topic14\", \"Topic14\", \"Topic14\", \"Topic14\", \"Topic14\", \"Topic14\", \"Topic14\", \"Topic14\", \"Topic14\", \"Topic14\", \"Topic14\", \"Topic14\", \"Topic14\", \"Topic14\", \"Topic14\", \"Topic14\", \"Topic14\", \"Topic14\", \"Topic15\", \"Topic15\", \"Topic15\", \"Topic15\", \"Topic15\", \"Topic15\", \"Topic15\", \"Topic15\", \"Topic15\", \"Topic15\", \"Topic15\", \"Topic15\", \"Topic15\", \"Topic15\", \"Topic15\", \"Topic15\", \"Topic15\", \"Topic15\", \"Topic15\", \"Topic15\", \"Topic15\", \"Topic15\", \"Topic15\", \"Topic15\", \"Topic15\", \"Topic15\", \"Topic15\", \"Topic15\", \"Topic15\", \"Topic15\", \"Topic15\", \"Topic15\", \"Topic15\", \"Topic15\", \"Topic16\", \"Topic16\", \"Topic16\", \"Topic16\", \"Topic16\", \"Topic16\", \"Topic16\", \"Topic16\", \"Topic16\", \"Topic16\", \"Topic16\", \"Topic16\", \"Topic16\", \"Topic16\", \"Topic16\", \"Topic16\", \"Topic16\", \"Topic16\", \"Topic16\", \"Topic16\", \"Topic16\", \"Topic16\", \"Topic16\", \"Topic16\", \"Topic16\", \"Topic16\", \"Topic16\", \"Topic16\", \"Topic16\", \"Topic16\", \"Topic16\", \"Topic16\", \"Topic16\", \"Topic17\", \"Topic17\", \"Topic17\", \"Topic17\", \"Topic17\", \"Topic17\", \"Topic17\", \"Topic17\", \"Topic17\", \"Topic17\", \"Topic17\", \"Topic17\", \"Topic17\", \"Topic17\", \"Topic17\", \"Topic17\", \"Topic17\", \"Topic17\", \"Topic17\", \"Topic17\", \"Topic17\", \"Topic17\", \"Topic17\", \"Topic17\", \"Topic17\", \"Topic17\", \"Topic17\", \"Topic17\", \"Topic17\", \"Topic17\", \"Topic17\", \"Topic17\", \"Topic18\", \"Topic18\", \"Topic18\", \"Topic18\", \"Topic18\", \"Topic18\", \"Topic18\", \"Topic18\", \"Topic18\", \"Topic18\", \"Topic18\", \"Topic18\", \"Topic18\", \"Topic18\", \"Topic18\", \"Topic18\", \"Topic18\", \"Topic18\", \"Topic18\", \"Topic18\", \"Topic18\", \"Topic18\", \"Topic18\", \"Topic18\", \"Topic18\", \"Topic18\", \"Topic18\", \"Topic18\", \"Topic18\", \"Topic18\", \"Topic18\", \"Topic18\", \"Topic18\", \"Topic19\", \"Topic19\", \"Topic19\", \"Topic19\", \"Topic19\", \"Topic19\", \"Topic19\", \"Topic19\", \"Topic19\", \"Topic19\", \"Topic19\", \"Topic19\", \"Topic19\", \"Topic19\", \"Topic19\", \"Topic19\", \"Topic19\", \"Topic19\", \"Topic19\", \"Topic19\", \"Topic19\", \"Topic19\", \"Topic19\", \"Topic19\", \"Topic19\", \"Topic19\", \"Topic19\", \"Topic19\", \"Topic19\", \"Topic19\", \"Topic19\", \"Topic19\", \"Topic19\", \"Topic20\", \"Topic20\", \"Topic20\", \"Topic20\", \"Topic20\", \"Topic20\", \"Topic20\", \"Topic20\", \"Topic20\", \"Topic20\", \"Topic20\", \"Topic20\", \"Topic20\", \"Topic20\", \"Topic20\", \"Topic20\", \"Topic20\", \"Topic20\", \"Topic20\", \"Topic20\", \"Topic20\", \"Topic20\", \"Topic20\", \"Topic20\", \"Topic20\", \"Topic20\", \"Topic20\", \"Topic20\", \"Topic20\", \"Topic20\", \"Topic20\", \"Topic21\", \"Topic21\", \"Topic21\", \"Topic21\", \"Topic21\", \"Topic21\", \"Topic21\", \"Topic21\", \"Topic21\", \"Topic21\", \"Topic21\", \"Topic21\", \"Topic21\", \"Topic21\", \"Topic21\", \"Topic21\", \"Topic21\", \"Topic21\", \"Topic21\", \"Topic21\", \"Topic21\", \"Topic21\", \"Topic21\", \"Topic21\", \"Topic21\", \"Topic21\", \"Topic21\", \"Topic21\", \"Topic21\", \"Topic21\", \"Topic21\", \"Topic21\", \"Topic21\", \"Topic21\", \"Topic22\", \"Topic22\", \"Topic22\", \"Topic22\", \"Topic22\", \"Topic22\", \"Topic22\", \"Topic22\", \"Topic22\", \"Topic22\", \"Topic22\", \"Topic22\", \"Topic22\", \"Topic22\", \"Topic22\", \"Topic22\", \"Topic22\", \"Topic22\", \"Topic22\", \"Topic22\", \"Topic22\", \"Topic22\", \"Topic22\", \"Topic22\", \"Topic22\", \"Topic22\", \"Topic22\", \"Topic22\", \"Topic22\", \"Topic22\", \"Topic22\", \"Topic22\", \"Topic23\", \"Topic23\", \"Topic23\", \"Topic23\", \"Topic23\", \"Topic23\", \"Topic23\", \"Topic23\", \"Topic23\", \"Topic23\", \"Topic23\", \"Topic23\", \"Topic23\", \"Topic23\", \"Topic23\", \"Topic23\", \"Topic23\", \"Topic23\", \"Topic23\", \"Topic23\", \"Topic23\", \"Topic23\", \"Topic23\", \"Topic23\", \"Topic23\", \"Topic23\", \"Topic23\", \"Topic23\", \"Topic23\", \"Topic23\", \"Topic23\", \"Topic23\", \"Topic23\", \"Topic23\", \"Topic23\", \"Topic24\", \"Topic24\", \"Topic24\", \"Topic24\", \"Topic24\", \"Topic24\", \"Topic24\", \"Topic24\", \"Topic24\", \"Topic24\", \"Topic24\", \"Topic24\", \"Topic24\", \"Topic24\", \"Topic24\", \"Topic24\", \"Topic24\", \"Topic24\", \"Topic24\", \"Topic24\", \"Topic24\", \"Topic24\", \"Topic24\", \"Topic24\", \"Topic24\", \"Topic24\", \"Topic24\", \"Topic24\", \"Topic24\", \"Topic24\", \"Topic24\"], \"logprob\": [30.0, 29.0, 28.0, 27.0, 26.0, 25.0, 24.0, 23.0, 22.0, 21.0, 20.0, 19.0, 18.0, 17.0, 16.0, 15.0, 14.0, 13.0, 12.0, 11.0, 10.0, 9.0, 8.0, 7.0, 6.0, 5.0, 4.0, 3.0, 2.0, 1.0, -3.0071, -3.1, -3.5744, -3.7498, -4.1106, -4.1225, -4.1335, -4.1725, -4.2439, -4.3599, -4.3601, -4.4344, -4.4529, -4.5278, -4.5832, -4.6097, -4.7068, -4.8731, -4.8859, -4.9243, -4.9897, -5.0062, -5.0699, -5.0918, -5.0585, -5.1522, -5.2139, -5.2604, -5.2668, -5.3383, -3.0554, -3.4484, -4.3799, -3.2608, -3.2403, -4.1293, -4.2818, -3.9971, -4.1382, -4.5233, -4.5767, -4.6481, -4.5736, -2.5972, -2.6506, -3.242, -3.8409, -3.8876, -4.2065, -4.2097, -4.2159, -4.242, -4.2552, -4.2992, -4.3398, -3.8244, -4.501, -4.595, -4.627, -4.6954, -4.744, -4.7485, -4.766, -4.8374, -3.4769, -4.8706, -4.8969, -4.9759, -4.9759, -4.9906, -5.0359, -5.0919, -5.1972, -3.853, -4.1207, -4.4712, -4.3703, -4.3473, -3.9088, -4.5902, -4.5146, -3.123, -3.258, -3.5741, -3.6534, -3.7198, -3.8475, -3.9436, -4.0578, -4.1249, -4.1363, -4.1847, -4.2417, -4.3475, -4.3518, -4.3797, -4.3848, -4.4345, -4.4838, -4.4925, -4.6692, -4.7203, -4.7538, -4.7549, -4.774, -4.8222, -4.8309, -4.8575, -4.865, -4.8732, -4.906, -3.8156, -4.2735, -1.96, -2.1616, -2.2324, -3.1753, -3.3768, -3.4811, -3.5784, -3.7191, -3.9687, -4.1313, -4.2002, -4.241, -4.3645, -4.3824, -4.6018, -4.6053, -4.6783, -3.9872, -4.7261, -4.784, -4.8046, -4.8377, -4.9279, -4.9315, -4.9847, -4.9937, -5.0105, -5.0214, -5.1415, -5.3066, -4.2144, -2.7628, -3.3717, -3.7094, -3.7921, -3.8636, -3.9804, -3.9833, -4.0434, -4.0576, -4.0985, -4.1211, -4.1341, -4.1869, -4.2148, -4.2228, -4.2327, -4.235, -4.3752, -4.3795, -4.4003, -4.4202, -4.4725, -4.5631, -4.5885, -4.6052, -4.6125, -4.6299, -4.6306, -4.6411, -4.6415, -4.4085, -3.6295, -3.832, -1.714, -2.2922, -2.4567, -2.8831, -3.0897, -3.0913, -3.1662, -3.3515, -3.6387, -3.6714, -3.9167, -4.0161, -4.0695, -4.2284, -4.5114, -4.772, -4.7778, -5.1065, -5.2592, -5.2856, -5.314, -5.314, -5.3202, -5.3656, -5.3754, -5.3787, -5.3871, -5.4774, -5.4895, -5.5252, -2.9231, -3.6157, -2.5539, -3.9027, -3.9247, -3.9504, -4.1872, -1.8244, -4.5718, -4.5969, -4.5992, -4.6584, -4.6906, -4.7446, -4.7692, -4.774, -4.7873, -4.7923, -4.9431, -4.9549, -4.954, -4.9597, -2.887, -5.255, -5.2552, -5.2552, -5.2804, -5.4376, -5.4762, -5.6256, -3.9789, -4.3943, -4.381, -4.1366, -4.8999, -3.8317, -4.2338, -4.5973, -4.3803, -4.557, -2.3477, -2.5056, -2.5577, -3.032, -3.1799, -3.6731, -3.8194, -4.0486, -4.166, -4.2128, -4.4258, -4.4384, -4.4802, -4.5092, -4.517, -4.594, -4.6373, -4.7952, -4.7978, -4.8132, -4.8132, -4.8197, -4.9525, -4.9979, -5.0852, -5.1439, -5.1818, -5.2009, -5.3986, -5.4254, -3.423, -4.1238, -4.1663, -4.3892, -4.819, -4.7318, -2.3518, -2.501, -2.8277, -3.1682, -3.3783, -3.4376, -2.3872, -3.5973, -3.7729, -3.7801, -4.1472, -4.2141, -4.2763, -4.356, -4.3916, -4.5772, -4.6051, -4.898, -4.9708, -5.0097, -5.1585, -5.1585, -5.1585, -5.1585, -5.1585, -5.1936, -5.1984, -5.3696, -5.3788, -5.4672, -4.4964, -3.4241, -4.7795, -4.1821, -4.5795, -4.2376, -2.5176, -3.3963, -3.4606, -3.5463, -3.6165, -3.801, -3.9626, -3.9753, -4.1959, -4.2909, -4.333, -4.5034, -4.5187, -4.6795, -4.8024, -4.81, -3.1618, -4.9272, -5.0563, -5.2045, -5.2045, -5.2045, -5.2045, -5.2045, -5.2045, -5.2045, -5.2045, -5.2045, -5.2379, -5.2668, -1.9537, -4.1824, -3.6352, -4.014, -4.8203, -5.0815, -4.955, -2.273, -2.4785, -3.0295, -3.2142, -3.5001, -3.5769, -3.7224, -3.9215, -4.0556, -4.056, -4.0638, -4.3545, -4.6364, -4.6473, -4.6712, -4.6712, -4.7609, -4.7809, -4.7908, -4.8181, -4.8841, -4.8882, -4.9537, -5.0168, -3.3152, -5.1623, -3.2539, -5.2949, -5.3218, -5.3543, -3.4932, -5.115, -1.6954, -2.6285, -2.8022, -3.1207, -3.5128, -3.6352, -3.7922, -3.969, -3.9922, -4.0414, -4.1177, -4.1518, -4.2521, -4.2586, -4.3156, -4.3951, -4.6254, -4.6817, -4.6827, -4.6851, -4.7521, -4.8007, -5.1456, -5.1703, -5.2167, -5.3815, -5.3815, -5.3815, -5.3815, -5.3913, -3.5014, -4.8135, -5.0789, -2.6316, -2.931, -3.0038, -3.3743, -3.5807, -3.61, -3.674, -3.7011, -3.8136, -4.0542, -4.1549, -4.189, -4.2725, -4.2851, -4.3417, -4.4589, -2.4654, -4.5405, -4.5414, -4.5855, -3.6072, -4.7587, -4.7986, -4.8252, -5.0881, -5.1056, -5.1165, -5.1373, -5.2103, -5.2103, -4.4073, -4.935, -2.196, -2.4442, -3.2667, -3.3882, -3.4861, -3.6173, -3.6202, -3.7392, -3.9485, -4.0014, -4.1407, -4.2018, -4.2284, -4.2726, -4.4044, -4.4195, -4.4334, -4.5805, -4.6253, -4.7069, -4.7339, -4.7554, -4.8301, -4.8503, -4.9469, -5.0195, -5.1122, -5.1618, -5.1775, -2.8443, -4.2325, -3.8483, -4.6032, -4.7918, -2.6867, -2.8817, -3.4838, -3.5776, -3.6163, -3.731, -3.8374, -3.8472, -3.8674, -3.9511, -4.0097, -4.0599, -4.1393, -4.7361, -4.7401, -4.7675, -4.7935, -4.9172, -4.9917, -4.9963, -1.8572, -5.028, -5.0551, -5.1018, -5.1035, -5.1035, -5.1035, -5.1035, -5.2312, -5.2424, -4.5173, -4.6741, -5.0604, -5.1035, -2.1767, -2.9061, -2.9724, -3.319, -3.4824, -3.5036, -3.6408, -4.0189, -4.0806, -4.3172, -4.4012, -4.3474, -4.4877, -4.4915, -4.5377, -4.5545, -4.7152, -4.8549, -1.9893, -4.9013, -4.9533, -4.9852, -4.9948, -4.9954, -5.1483, -5.1483, -5.1756, -5.2107, -5.2974, -5.3753, -4.7502, -5.06, -5.06, -1.6406, -2.2053, -2.4641, -2.9147, -2.9834, -3.0275, -3.3609, -3.6792, -3.8363, -3.8429, -4.0605, -4.1792, -4.3502, -4.4571, -4.4624, -4.4997, -4.7726, -4.7878, -4.9575, -4.9735, -5.3875, -5.402, -5.402, -5.402, -5.4172, -5.4172, -5.4172, -5.55, -5.55, -5.6993, -4.8556, -5.2963, -2.0891, -2.3121, -2.8349, -3.1491, -3.575, -3.6336, -3.6342, -3.8732, -3.9016, -3.9847, -4.0363, -4.2614, -4.3487, -4.3561, -4.3674, -4.5562, -4.5689, -4.5844, -4.7973, -4.8387, -4.8809, -4.9031, -4.944, -4.9481, -4.958, -4.9904, -5.2789, -5.3432, -5.3432, -5.3432, -3.8085, -3.6533, -4.9481, -2.2368, -3.1752, -3.809, -3.9363, -3.9441, -3.9876, -3.9967, -4.0081, -4.0404, -4.107, -4.1856, -4.221, -4.3802, -4.4373, -4.4653, -4.5312, -4.5597, -4.5597, -4.5916, -4.6632, -4.7726, -4.7781, -4.7825, -4.8223, -4.8432, -4.8663, -4.9235, -4.938, -4.9611, -4.9688, -4.0564, -3.3032, -4.3057, -1.2989, -2.8923, -3.214, -3.8001, -3.8346, -3.9673, -3.9705, -4.1892, -4.2024, -2.3887, -4.335, -4.3378, -4.3958, -4.4026, -4.55, -4.6404, -4.8374, -4.8612, -5.033, -5.0801, -5.0801, -5.0801, -5.1447, -5.1447, -5.1447, -5.1447, -5.1447, -5.1447, -5.222, -5.233, -4.5862, -2.6283, -2.6338, -3.1914, -3.2065, -3.3476, -3.4821, -3.499, -3.6491, -3.8979, -4.2801, -4.4477, -4.4967, -4.6974, -4.708, -4.7236, -4.7781, -4.7789, -4.7855, -4.8564, -4.9465, -4.9574, -4.9755, -4.9782, -5.0526, -5.0592, -5.0686, -5.1784, -5.1855, -5.1973, -5.1973, -3.1927, -3.4852, -3.565, -5.0934, -2.1993, -2.3506, -2.6432, -2.6872, -3.1499, -3.2821, -3.442, -3.4507, -3.6152, -3.9127, -4.1585, -4.3799, -4.6046, -4.7132, -4.8223, -4.9055, -4.9164, -4.9352, -4.9713, -5.0014, -5.0078, -5.0897, -5.2126, -5.3718, -5.4313, -5.4523, -5.5438, -5.6593, -5.6593, -5.6593, -3.0231, -5.0014, -2.7103, -2.9873, -3.3182, -3.5067, -3.5827, -3.8012, -4.2089, -2.6034, -4.3428, -4.4984, -4.5007, -4.559, -4.671, -4.79, -4.8336, -4.8495, -4.9685, -4.9841, -5.0225, -5.0331, -5.0331, -5.0331, -5.0331, -5.0331, -5.0331, -5.0331, -5.0406, -5.1214, -5.1214, -5.1725, -2.6236, -4.3605, -3.586, -4.2138, -5.0331, -3.0778, -3.2302, -3.3125, -3.3386, -3.5523, -3.7794, -3.8014, -3.8554, -3.8824, -4.0137, -4.0605, -4.3203, -4.3601, -4.3634, -4.3733, -4.4041, -3.8349, -4.4415, -4.4685, -4.4751, -4.5078, -4.5953, -4.6031, -4.6237, -4.6515, -4.8963, -4.9086, -4.9385, -4.9456, -4.9595, -4.2718], \"loglift\": [30.0, 29.0, 28.0, 27.0, 26.0, 25.0, 24.0, 23.0, 22.0, 21.0, 20.0, 19.0, 18.0, 17.0, 16.0, 15.0, 14.0, 13.0, 12.0, 11.0, 10.0, 9.0, 8.0, 7.0, 6.0, 5.0, 4.0, 3.0, 2.0, 1.0, 2.6933, 2.6912, 2.6769, 2.6697, 2.6506, 2.6498, 2.6491, 2.6466, 2.6417, 2.633, 2.633, 2.6269, 2.6253, 2.6186, 2.6134, 2.6108, 2.6007, 2.5813, 2.5797, 2.5748, 2.566, 2.5637, 2.5544, 2.5512, 2.5432, 2.5418, 2.5317, 2.5237, 2.5226, 2.5097, 2.4994, 2.4914, 2.4749, 2.2042, 2.0674, 2.2368, 2.1865, 1.8673, 1.7389, 1.6379, 1.7213, 1.5774, 0.2993, 2.7597, 2.7588, 2.7457, 2.722, 2.7195, 2.6993, 2.6991, 2.6986, 2.6967, 2.6957, 2.6922, 2.6889, 2.688, 2.6745, 2.6651, 2.6618, 2.6542, 2.6485, 2.648, 2.6459, 2.6369, 2.6366, 2.6326, 2.629, 2.6179, 2.6179, 2.6157, 2.6089, 2.6001, 2.5824, 2.3082, 2.3565, 2.2834, 1.6915, 1.6469, 0.9494, 1.5916, 1.0401, 2.8206, 2.8166, 2.8048, 2.8012, 2.798, 2.7913, 2.7856, 2.7782, 2.7735, 2.7727, 2.769, 2.7645, 2.7555, 2.7552, 2.7526, 2.7522, 2.7475, 2.7426, 2.7417, 2.7222, 2.716, 2.7118, 2.7116, 2.7092, 2.7027, 2.7015, 2.6979, 2.6968, 2.6956, 2.6909, 2.4099, 2.1206, 2.9364, 2.9342, 2.9333, 2.9133, 2.9061, 2.9017, 2.8973, 2.8901, 2.8747, 2.8626, 2.8569, 2.8533, 2.8417, 2.8399, 2.8154, 2.815, 2.8057, 2.8004, 2.7993, 2.7912, 2.7882, 2.7833, 2.7692, 2.7686, 2.7597, 2.7582, 2.7553, 2.7534, 2.7313, 2.6971, 2.4837, 2.9667, 2.948, 2.9319, 2.9271, 2.9226, 2.9146, 2.9144, 2.9099, 2.9088, 2.9056, 2.9038, 2.9027, 2.8982, 2.8957, 2.895, 2.8941, 2.8939, 2.8803, 2.8799, 2.8777, 2.8755, 2.8698, 2.8591, 2.856, 2.8539, 2.853, 2.8507, 2.8506, 2.8493, 2.8492, 2.7861, 2.5635, 2.4661, 3.0484, 3.0417, 3.0389, 3.0295, 3.0233, 3.0232, 3.0206, 3.0134, 2.9993, 2.9974, 2.9814, 2.9735, 2.9695, 2.9552, 2.924, 2.8876, 2.8867, 2.8275, 2.7942, 2.788, 2.7813, 2.7813, 2.7798, 2.7686, 2.7661, 2.7653, 2.7632, 2.7394, 2.7361, 2.7262, 3.0993, 3.0694, 3.0618, 3.0501, 3.0484, 3.0463, 3.0251, 2.9994, 2.9793, 2.9758, 2.9755, 2.9668, 2.9618, 2.9533, 2.9493, 2.9485, 2.9463, 2.9454, 2.9183, 2.9161, 2.9156, 2.9151, 2.8856, 2.8508, 2.8507, 2.8507, 2.8445, 2.8031, 2.7922, 2.7471, 2.74, 2.6855, 2.3713, 2.0081, 2.4667, 1.2314, 1.6433, 2.029, 1.6815, 1.3829, 3.149, 3.1459, 3.1448, 3.1314, 3.1258, 3.1002, 3.09, 3.0711, 3.0597, 3.0549, 3.0299, 3.0283, 3.0228, 3.0188, 3.0178, 3.0067, 3.0002, 2.9742, 2.9737, 2.971, 2.971, 2.9698, 2.9447, 2.9355, 2.9168, 2.9035, 2.8946, 2.89, 2.8384, 2.8308, 2.7217, 2.7154, 2.0233, 1.9521, 1.3505, 0.7332, 3.1548, 3.1519, 3.1439, 3.1323, 3.123, 3.12, 3.1173, 3.1102, 3.0996, 3.0991, 3.068, 3.0611, 3.0543, 3.0451, 3.0407, 3.0158, 3.0116, 2.9622, 2.9479, 2.9399, 2.9071, 2.9071, 2.9071, 2.9071, 2.9071, 2.8988, 2.8977, 2.8537, 2.8512, 2.8261, 2.8092, 2.7577, 2.7179, 2.0109, 2.0468, 1.5351, 3.2036, 3.1724, 3.1689, 3.164, 3.1596, 3.1466, 3.1332, 3.1321, 3.1101, 3.0992, 3.0941, 3.0714, 3.0691, 3.0441, 3.0225, 3.0211, 3.0076, 2.9983, 2.9706, 2.9352, 2.9352, 2.9352, 2.9352, 2.9352, 2.9352, 2.9352, 2.9352, 2.9352, 2.9266, 2.9191, 2.9044, 2.7348, 2.242, 1.787, 1.5458, 2.4893, 2.0019, 3.2199, 3.2158, 3.1998, 3.1921, 3.1774, 3.1727, 3.1628, 3.147, 3.1346, 3.1345, 3.1338, 3.1009, 3.06, 3.0582, 3.0542, 3.0542, 3.0385, 3.0349, 3.0331, 3.028, 3.0151, 3.0143, 3.0008, 2.9871, 2.9808, 2.9529, 2.9243, 2.9184, 2.9109, 2.9018, 2.8656, 2.2516, 3.2405, 3.2248, 3.2199, 3.2086, 3.1889, 3.1812, 3.1698, 3.1549, 3.1527, 3.148, 3.1403, 3.1353, 3.1254, 3.1246, 3.1177, 3.1074, 3.0735, 3.0641, 3.0639, 3.0635, 3.0517, 3.0428, 2.9683, 2.9622, 2.9503, 2.9049, 2.9049, 2.9049, 2.9049, 2.902, 2.8399, 2.7786, 2.5965, 3.2284, 3.2195, 3.2169, 3.2004, 3.1884, 3.1865, 3.1822, 3.1802, 3.1717, 3.1503, 3.1399, 3.1362, 3.1265, 3.125, 3.1179, 3.1021, 3.0993, 3.0902, 3.0901, 3.0832, 3.054, 3.0539, 3.0465, 3.0415, 2.9854, 2.9812, 2.9786, 2.9735, 2.9551, 2.9551, 2.9348, 2.5645, 3.2411, 3.2364, 3.2092, 3.2031, 3.1976, 3.1893, 3.1891, 3.1807, 3.1635, 3.1586, 3.1446, 3.1378, 3.1348, 3.1296, 3.1127, 3.1106, 3.1086, 3.0869, 3.0798, 3.066, 3.0612, 3.0573, 3.0433, 3.0393, 3.0196, 3.0037, 2.9822, 2.97, 2.966, 2.9566, 2.8798, 1.0098, 1.0559, 0.2714, 3.2454, 3.2395, 3.2122, 3.2064, 3.2038, 3.1957, 3.1873, 3.1865, 3.1848, 3.1774, 3.1719, 3.1669, 3.1586, 3.0737, 3.0729, 3.0679, 3.063, 3.0383, 3.0222, 3.0212, 3.0157, 3.0141, 3.0078, 2.9967, 2.9963, 2.9963, 2.9963, 2.9963, 2.9638, 2.9609, 2.796, 2.8119, 1.9768, 2.4673, 3.2929, 3.2744, 3.2719, 3.2564, 3.2471, 3.2458, 3.2366, 3.2043, 3.1979, 3.1699, 3.1585, 3.1566, 3.1458, 3.1452, 3.1381, 3.1354, 3.1078, 3.0806, 3.0738, 3.0709, 3.0596, 3.0524, 3.0502, 3.0501, 3.0129, 3.0129, 3.0058, 2.9965, 2.9724, 2.9494, 2.4103, 2.5249, 2.5018, 3.3038, 3.2959, 3.2906, 3.2773, 3.2747, 3.273, 3.2571, 3.2364, 3.2238, 3.2232, 3.2023, 3.189, 3.1673, 3.152, 3.1512, 3.1455, 3.0979, 3.0949, 3.0591, 3.0555, 2.9449, 2.9404, 2.9404, 2.9404, 2.9356, 2.9356, 2.9356, 2.8919, 2.8919, 2.8379, 2.771, 2.017, 3.3134, 3.3093, 3.2953, 3.2828, 3.2586, 3.2545, 3.2544, 3.235, 3.2324, 3.2243, 3.219, 3.1929, 3.1813, 3.1802, 3.1786, 3.1499, 3.1478, 3.1452, 3.1059, 3.0975, 3.0886, 3.0838, 3.0747, 3.0738, 3.0715, 3.064, 2.9888, 2.9698, 2.9698, 2.9698, 2.5856, 2.4085, 2.4078, 3.3403, 3.3102, 3.2681, 3.2562, 3.2555, 3.2511, 3.2501, 3.2489, 3.2455, 3.238, 3.2287, 3.2243, 3.2026, 3.194, 3.1897, 3.1791, 3.1743, 3.1743, 3.1688, 3.156, 3.1349, 3.1338, 3.1329, 3.1247, 3.1202, 3.1153, 3.1026, 3.0993, 3.0939, 3.0921, 2.9005, 2.691, 2.879, 3.4025, 3.371, 3.3563, 3.3151, 3.3119, 3.2986, 3.2983, 3.2726, 3.2709, 3.2704, 3.2526, 3.2522, 3.2435, 3.2424, 3.218, 3.2017, 3.1615, 3.1562, 3.1149, 3.1027, 3.1027, 3.1027, 3.0851, 3.0851, 3.0851, 3.0851, 3.0851, 3.0851, 3.0631, 3.0598, 2.6776, 3.4014, 3.4012, 3.3785, 3.3777, 3.3697, 3.3609, 3.3598, 3.3485, 3.3259, 3.28, 3.2545, 3.2464, 3.2093, 3.2072, 3.204, 3.1927, 3.1925, 3.1911, 3.1754, 3.1543, 3.1516, 3.1472, 3.1465, 3.1275, 3.1257, 3.1232, 3.0928, 3.0908, 3.0874, 3.0874, 2.9968, 1.3877, 1.2588, 2.4774, 3.4235, 3.4202, 3.4122, 3.4108, 3.3916, 3.3844, 3.3744, 3.3739, 3.3618, 3.3348, 3.3063, 3.2749, 3.2365, 3.2152, 3.1919, 3.1727, 3.1701, 3.1656, 3.1567, 3.1491, 3.1474, 3.1257, 3.0907, 3.0406, 3.0205, 3.0132, 2.9802, 2.9357, 2.9357, 2.9357, 2.8413, 2.5693, 3.42, 3.4092, 3.392, 3.3795, 3.3738, 3.355, 3.3085, 3.2968, 3.2892, 3.2638, 3.2634, 3.253, 3.2316, 3.2067, 3.197, 3.1934, 3.1647, 3.1608, 3.1509, 3.1481, 3.1481, 3.1481, 3.1481, 3.1481, 3.1481, 3.1481, 3.1461, 3.124, 3.124, 3.1093, 2.6841, 2.6822, 1.879, 2.145, 2.5518, 3.4186, 3.4105, 3.4057, 3.3957, 3.3892, 3.3699, 3.3678, 3.3625, 3.3597, 3.3453, 3.3397, 3.3044, 3.2982, 3.2977, 3.2962, 3.2912, 3.2894, 3.285, 3.2805, 3.2793, 3.2736, 3.2575, 3.256, 3.252, 3.2465, 3.1927, 3.1897, 3.1823, 3.1806, 3.1771, 3.1231]}, \"token.table\": {\"Topic\": [9, 12, 20, 21, 2, 6, 5, 9, 9, 5, 7, 12, 24, 19, 17, 23, 1, 7, 6, 8, 3, 11, 14, 22, 23, 24, 21, 17, 10, 20, 9, 21, 10, 4, 11, 2, 10, 1, 2, 8, 5, 23, 13, 4, 14, 6, 13, 1, 15, 14, 24, 6, 20, 9, 12, 13, 16, 21, 1, 15, 21, 19, 6, 15, 22, 1, 2, 9, 10, 3, 1, 2, 8, 23, 20, 5, 8, 5, 24, 9, 14, 9, 1, 16, 22, 16, 7, 8, 19, 1, 7, 10, 24, 5, 14, 18, 17, 22, 23, 20, 17, 1, 4, 16, 23, 16, 4, 13, 4, 18, 24, 5, 1, 18, 10, 23, 1, 22, 11, 17, 24, 2, 11, 10, 21, 7, 10, 7, 10, 20, 13, 1, 20, 22, 12, 1, 2, 10, 6, 6, 11, 6, 15, 24, 6, 3, 9, 5, 19, 13, 23, 12, 20, 15, 17, 23, 15, 11, 17, 7, 19, 22, 10, 4, 21, 3, 11, 19, 20, 12, 19, 21, 8, 22, 1, 1, 23, 21, 14, 10, 1, 23, 23, 23, 24, 15, 5, 4, 6, 5, 12, 5, 9, 21, 9, 5, 12, 18, 15, 6, 24, 9, 7, 12, 18, 19, 8, 5, 8, 5, 4, 2, 4, 19, 1, 20, 10, 23, 3, 17, 14, 23, 11, 13, 14, 18, 7, 10, 1, 3, 20, 24, 13, 23, 12, 22, 23, 7, 19, 15, 24, 12, 7, 16, 3, 13, 1, 15, 23, 9, 15, 15, 11, 5, 22, 18, 2, 11, 13, 12, 15, 10, 19, 16, 24, 23, 8, 13, 24, 7, 18, 16, 7, 14, 18, 20, 1, 7, 10, 19, 14, 3, 1, 11, 10, 9, 6, 19, 17, 17, 2, 16, 22, 11, 17, 5, 21, 6, 24, 3, 18, 12, 18, 1, 5, 21, 5, 5, 19, 3, 23, 2, 13, 15, 13, 16, 1, 7, 9, 1, 2, 5, 15, 8, 12, 8, 13, 4, 24, 1, 19, 23, 3, 9, 13, 2, 18, 4, 19, 17, 9, 15, 7, 13, 2, 19, 4, 8, 24, 13, 5, 17, 8, 3, 20, 8, 11, 22, 1, 2, 6, 16, 3, 10, 8, 20, 6, 5, 15, 6, 15, 22, 21, 17, 12, 22, 10, 14, 3, 5, 7, 11, 14, 20, 16, 8, 2, 24, 12, 10, 8, 21, 17, 12, 16, 21, 11, 7, 24, 10, 11, 23, 3, 1, 13, 18, 17, 21, 16, 1, 11, 6, 3, 2, 10, 21, 22, 12, 18, 2, 16, 18, 21, 23, 16, 15, 20, 10, 5, 18, 12, 4, 20, 21, 9, 21, 1, 8, 23, 13, 18, 17, 20, 14, 11, 9, 1, 7, 13, 9, 19, 2, 11, 11, 2, 24, 14, 1, 7, 1, 2, 19, 4, 19, 21, 7, 21, 10, 16, 2, 7, 18, 10, 2, 10, 14, 4, 3, 5, 23, 8, 1, 3, 20, 24, 9, 16, 3, 14, 11, 6, 19, 24, 8, 19, 13, 15, 2, 18, 7, 8, 3, 3, 16, 4, 5, 1, 2, 12, 2, 15, 1, 17, 7, 7, 14, 7, 9, 20, 18, 18, 4, 12, 3, 4, 17, 1, 3, 3, 4, 8, 18, 14, 6, 22, 19, 12, 17, 17, 15, 4, 7, 18, 11, 12, 14, 7, 2, 23, 1, 17, 20, 1, 3, 7, 23, 1, 10, 13, 1, 1, 14, 18, 16, 15, 8, 6, 17, 13, 15, 4, 22, 8, 7, 6, 20, 9, 19, 22, 4, 16, 9, 10, 11, 23, 18, 21, 10, 15, 9, 4, 16, 11, 18, 2, 5, 3, 6, 10, 21, 13, 16, 13, 4, 2, 2, 21, 14, 12, 5, 14, 1, 10, 7, 7, 6, 19, 4, 16, 14, 5, 24, 4, 11, 7, 21, 21, 2, 3, 5, 2, 12, 1, 2, 6, 20, 19, 23, 4, 17, 2, 2, 9, 19, 19, 13, 24, 9, 16, 22, 12, 24, 9, 24, 2, 1, 1, 6, 3, 2, 15, 21, 7, 17, 6, 23, 11, 23, 1, 23, 4, 12, 14, 8, 10, 23, 15, 21, 21, 5, 14, 2, 1, 2, 9, 23, 7, 1, 2, 22, 4, 20, 6, 4, 21, 19, 21, 13, 2, 16, 2, 18, 14, 11, 20, 1, 8, 19, 3, 8, 9, 17, 11, 8, 17, 24, 2, 17, 8, 10, 21, 2, 7, 12, 11, 11, 20, 9, 9, 24, 19, 24, 12, 14, 11, 15, 19, 4, 18, 22, 14, 8, 7, 14, 16, 14, 22, 14, 1, 17, 15, 12, 9, 4, 9, 2, 21, 12, 16, 3, 23, 5, 6, 24, 16, 7, 13, 19, 16, 15, 22, 9, 20, 1, 15, 22, 20, 18, 9, 10, 22, 15, 22, 5, 8, 17, 24, 13, 15, 22, 19, 22, 15, 3, 22, 14, 24, 20, 1, 3, 4, 23, 1, 9, 16, 14, 6, 22, 22, 2, 13, 20, 16, 10, 10, 23, 3, 11, 12, 7, 17, 20, 13, 2, 7, 15, 19, 8, 1, 2, 8, 18, 16, 2, 13, 24, 5, 7, 11, 12, 8, 16, 3, 2, 8, 10, 12, 18, 18, 14, 1, 22, 23, 18, 8, 1, 7, 6, 17, 14, 12, 10, 18, 15, 8, 5], \"Freq\": [0.9084627850614003, 0.8873760205130206, 0.6617310504400364, 0.7690956329627245, 0.9180475214649816, 0.6350105436734476, 0.633372779482166, 0.316686389741083, 0.9788474359738858, 0.1530883697717506, 0.6888976639728778, 0.1530883697717506, 0.8386657754000084, 0.866515859860564, 0.7685380032052834, 0.6607046957824154, 0.8078305905739169, 0.17561534577693846, 0.6846647981506413, 0.889454876793066, 0.8218524482706571, 0.8376939439932365, 0.9519125030789632, 0.9015350772646524, 0.6607050779385524, 0.9040971631006455, 0.8878169735681157, 0.9321390777930973, 0.900677617040723, 0.6391116474688835, 0.9068938308352134, 0.6244223936904797, 0.8986085970364881, 0.9233166683103231, 0.8300600156415103, 0.9168280990816815, 0.6498097335042771, 0.8350135372032128, 0.8577451771386513, 0.7122032294630852, 0.8622269513827633, 0.12317527876896618, 0.9658597073998102, 0.9018437143164247, 0.08198579221058407, 0.7843539120118447, 0.9004742169383316, 0.9061587755090391, 0.8384003511615066, 0.9086350977751628, 0.8576429542855031, 0.7881520193036119, 0.9706425594772368, 0.93931823250949, 0.7391284328786744, 0.9766410928033549, 0.6608510525476752, 0.609639837045198, 0.08458628132573315, 0.7733602864067032, 0.1329212992261521, 0.9696779531404336, 0.956939369786819, 0.6090578432096957, 0.8069140051817031, 0.8962543559360167, 0.958312160220875, 0.8828647409821014, 0.6983654854373343, 0.9403001240525224, 0.5898143020757352, 0.08737989660381261, 0.08737989660381261, 0.19660476735857838, 0.7330077076934787, 0.9488375070311107, 0.6986485104262615, 0.8198004934132258, 0.9178581675783012, 0.7390361769681343, 0.9771771340091229, 0.8828647409821014, 0.9390444988151307, 0.825137365304778, 0.6407385630557195, 0.9469603558727119, 0.8352438702503602, 0.7735506175777238, 0.8449541183063622, 0.3294371179431862, 0.6588742358863724, 0.9099986247811003, 0.608158138635468, 0.9153419310049081, 0.8747022455422557, 0.7538121215236528, 0.7731237490113099, 0.4996873324253175, 0.7501417729437387, 0.6936493847545506, 0.7762731898940138, 0.2998708965096779, 0.5997417930193558, 0.5459399228573207, 0.3639599485715472, 0.6476624663721483, 0.1445059112303066, 0.7947825117666862, 0.8801037644755962, 0.7756901516317924, 0.6318959565907811, 0.9162923459189889, 0.9306821335135629, 0.7204646503666744, 0.7674868372603968, 0.6643671084133168, 0.42340570616021683, 0.5536843849787451, 0.9851619055946205, 0.5691309040311098, 0.18971030134370326, 0.9340324852910266, 0.0622688323527351, 0.5382463328603758, 0.35883088857358386, 0.909492581392229, 0.8261511417533405, 0.8882215986051394, 0.9253433634827353, 0.9123693561575813, 0.7915665921565737, 0.81177286720507, 0.8045025384957183, 0.9615665378212547, 0.906061074590838, 0.6454900401943705, 0.16137251004859263, 0.16137251004859263, 0.8721813794674608, 0.9402203121125129, 0.7900574729190163, 0.9910726764228547, 0.6090578438244869, 0.7834107711370848, 0.9488092852902132, 0.9184357009829711, 0.7622609757245581, 0.9539665301140354, 0.8582163812599382, 0.909962217442129, 0.7045308085137418, 0.9332516851322711, 0.8259039792663926, 0.5547838617698809, 0.27739193088494046, 0.6607050779385524, 0.6699303801347627, 0.8376944299452914, 0.8505334873489309, 0.6128282888153602, 0.7537441494408439, 0.894083898919057, 0.6338611287585163, 0.8602384552987997, 0.7595763284979238, 0.8997831853562983, 0.6185615916627802, 0.9495516609572505, 0.9390582110347427, 0.9376578848965463, 0.8787256526734708, 0.8526084448558242, 0.9261222082452183, 0.8917242219365854, 0.9060016765049931, 0.7102560641416102, 0.6297444505816249, 0.8076369329599778, 0.878392506279207, 0.9221636772929132, 0.13503167267668614, 0.8439479542292884, 0.7629931949747385, 0.6371376169554069, 0.9417083287004143, 0.9353120297297138, 0.9128197318193014, 0.9878819384254219, 0.7740315152881738, 0.8074261602599323, 0.9028990876276135, 0.8823883992719267, 0.9101958987012398, 0.9606144665919502, 0.9345691730726228, 0.9677156140880885, 0.7070254725591922, 0.8516059482893721, 0.8413975487256983, 0.6365771035789708, 0.7181866567962564, 0.8985124344694077, 0.8480735377008369, 0.5976549447242473, 0.39843662981616484, 0.7807767925916198, 0.9142626508628544, 0.9227446496110531, 0.8084407624052483, 0.9757526993592749, 0.8298764973798775, 0.9308308383112864, 0.9602870865895975, 0.7841054131588997, 0.3960186140045407, 0.5280248186727209, 0.9106455999261034, 0.8691257677352157, 0.8568916297564676, 0.7762731908126975, 0.8501935023581968, 0.862987495103254, 0.712061475038443, 0.7620080714267398, 0.9440729232036786, 0.7505180769899442, 0.8319375527666222, 0.9125995858750987, 0.8884117858150155, 0.9680652524329427, 0.6936497848502374, 0.9606460821143618, 0.708164158374981, 0.9772890506176957, 0.854940851547014, 0.8659795394794509, 0.852470592915003, 0.7198281365617429, 0.9084233421760497, 0.9144569866462262, 0.7574526643511532, 0.9186472163725684, 0.720948612339096, 0.8084788963546584, 0.9280493943083599, 0.9728317542169738, 0.8931166658401863, 0.6593799225800885, 0.16484498064502212, 0.9373347187177011, 0.6754228359744956, 0.8985979656209012, 0.9519498493016004, 0.9279100680091485, 0.4389767602487195, 0.8612164701739937, 0.22289003711825417, 0.7132481187784133, 0.6158190851372061, 0.8379667327656083, 0.6090578770950623, 0.29133568270924054, 0.6797832596548946, 0.7971714411357168, 0.9203093546286691, 0.6607050779385524, 0.8284930383806297, 0.7236032576854613, 0.8710984791037713, 0.7578240812227611, 0.7538121215236528, 0.7666430250898092, 0.6128282888153602, 0.628832358332912, 0.8731075614721631, 0.9101166806157086, 0.36285848452558367, 0.2309099446980987, 0.36285848452558367, 0.8761040036770037, 0.9072856452905506, 0.9026507732928896, 0.9687374965145772, 0.9471709854849161, 0.9725564144137272, 0.7862041813532763, 0.9441924020548939, 0.8449541183063622, 0.9864888486322992, 0.7263628582354875, 0.47617900737804625, 0.3571342555335347, 0.944307173778978, 0.9169568037420615, 0.9656756360767419, 0.9676582600119125, 0.8535758634070726, 0.9619836054733342, 0.9077009307431453, 0.49785992703588605, 0.49785992703588605, 0.918125827288131, 0.8424238569408851, 0.35176423750803265, 0.6030244071566274, 0.8876119895564621, 0.9208370483687581, 0.9467472608616566, 0.7570508095839207, 0.8991774703917594, 0.9482828380632025, 0.09653673777700573, 0.8446964555488002, 0.024134184444251434, 0.8884472921724798, 0.8391842837527472, 0.2791058473522916, 0.3488823091903645, 0.3488823091903645, 0.31731520982450145, 0.6346304196490029, 0.9355227916157776, 0.8510373072288164, 0.3148373315501466, 0.6821475516919843, 0.9054975415630918, 0.9538533878603261, 0.8538361654751029, 0.9804408355199709, 0.9043010385227721, 0.900993040499103, 0.8707907696281943, 0.8970262483067113, 0.8801373700875501, 0.9093338703548618, 0.9043399698911451, 0.8451173969538782, 0.9433523033360788, 0.7625150814909033, 0.7844426119828758, 0.9753549778804761, 0.6082758890267075, 0.8775552463065853, 0.80276147783777, 0.9296325048479382, 0.8117391245198702, 0.9298162147059558, 0.11481732398654171, 0.803721267905792, 0.916752333799991, 0.8831576217210108, 0.9363373196300772, 0.9694821257006194, 0.9466499302123482, 0.6617310504400364, 0.87728696173026, 0.902110212037962, 0.6096529408314747, 0.7891284515956021, 0.175361878132356, 0.9157437616529657, 0.9376953340982417, 0.9390067817221293, 0.8361915501197089, 0.9275409948223715, 0.6617310504400364, 0.9670216949593508, 0.8277924812079198, 0.9725892079499322, 0.6091584176548029, 0.942255300759775, 0.7696801016121385, 0.9365725821353291, 0.9490864678637935, 0.9662729802490311, 0.7052955927793754, 0.24453777933904403, 0.7336133380171321, 0.8634037275815104, 0.912585301929116, 0.5851471571987794, 0.43886036789908456, 0.1060973910879319, 0.8753034764754382, 0.88725909755013, 0.8669767946724222, 0.9578721252497097, 0.9563110411813094, 0.9909627432625009, 0.6338614902936706, 0.31557819542878557, 0.6311563908575711, 0.8665764202717117, 0.8157364159113274, 0.8968626022788517, 0.9533070274874111, 0.6956699444222173, 0.9620529007213671, 0.625355606749971, 0.8493705703405554, 0.6941472500612735, 0.26697971156202827, 0.8083018236014912, 0.8273756876192708, 0.8992320818183015, 0.7984868719790342, 0.9739771050107249, 0.7229529430412067, 0.7641893720353561, 0.8973524231682576, 0.8586913853043516, 0.6303821993262926, 0.9301349879457586, 0.8146130749855954, 0.6338611287585163, 0.9102927724667512, 0.6264556388258088, 0.8556773272184954, 0.9161997828426022, 0.9391402506863666, 0.858519006005538, 0.8411862757891976, 0.7266326661644634, 0.8504159876030911, 0.7751708890372515, 0.9223159359157386, 0.8741426130589045, 0.987846476796272, 0.9198699669997497, 0.830452075242942, 0.9533063250672134, 0.8863934767661359, 0.7060595327425505, 0.917020108987824, 0.9081138950200455, 0.6147044080382453, 0.9645952050781165, 0.969901717969741, 0.6607050765746451, 0.6504107783875374, 0.9065142687118508, 0.9630959577134953, 0.9874093899058194, 0.9094629633541197, 0.9547321856398688, 0.8467179743751816, 0.05079675680567955, 0.9397400009050716, 0.9530554923364458, 0.68820629896524, 0.137641259793048, 0.8629125996227468, 0.8584196060846776, 0.9884144191822809, 0.9007478700597806, 0.7466906567590063, 0.7905168370444644, 0.8848026597421645, 0.6127440870974098, 0.14832667126477625, 0.3337350103457466, 0.5191433494267169, 0.7279992517515287, 0.8675661481747491, 0.8029733001063479, 0.87436431675485, 0.11504793641511185, 0.3556627679223566, 0.533494151883535, 0.35709030378369283, 0.23806020252246188, 0.3967670042041031, 0.6638194462913637, 0.16669384911235005, 0.7263089139895252, 0.10716033157222503, 0.8225815039655847, 0.8954045716403816, 0.9005839859180289, 0.9706907764183667, 0.8884759613691201, 0.32713570528863106, 0.6542714105772621, 0.8138235556611803, 0.6220467183167063, 0.6937161453298305, 0.678128333122379, 0.8513414433892671, 0.9755934400066808, 0.8647198615763522, 0.9771915832784105, 0.8486293069350288, 0.9037716258989825, 0.8931746648246984, 0.9079208716651291, 0.8708225207622465, 0.6090578438244869, 0.4341899856066193, 0.4341899856066193, 0.34486482168633975, 0.646621540661887, 0.925877236271765, 0.9807061911675017, 0.9828645841061652, 0.8913316780729194, 0.9371327067429072, 0.595771760107635, 0.2978858800538175, 0.0595771760107635, 0.8844186224112511, 0.9316711819399716, 0.9675089498397617, 0.7844426119828758, 0.7787977536078259, 0.9536296390875788, 0.9192390615573285, 0.7725956195891148, 0.20800651296630016, 0.6936497434201457, 0.8752156123260103, 0.9771894887230921, 0.9170766842644882, 0.89243933041117, 0.8075435310416121, 0.9010926568417924, 0.861328208229062, 0.8639038522487182, 0.9645118459957577, 0.9870934806815956, 0.9603519356397617, 0.7460738538688161, 0.8019600916679229, 0.7995838846755603, 0.909503031796202, 0.7465289717610721, 0.8589718777770635, 0.7339881710717973, 0.7353000551774252, 0.8406768683272571, 0.9437519534880422, 0.8722077287591781, 0.8001065878785262, 0.9070444570153888, 0.8685809875865629, 0.9282224254872422, 0.9605782768293692, 0.701253939885214, 0.9227342505227673, 0.6607050779385524, 0.8547625828470744, 0.7844426110215693, 0.9145534739250949, 0.0791455827485112, 0.3165823309940448, 0.47487349649106725, 0.0791455827485112, 0.9253038730480619, 0.6338611287585163, 0.8421027205118559, 0.7571991867616531, 0.8076114248126298, 0.9140917202527314, 0.9274335066890089, 0.865296903647705, 0.8623455346983997, 0.9739480873901996, 0.852764151283567, 0.47158557096101755, 0.965835766994296, 0.7163066561240159, 0.8573124234795745, 0.9089906635036533, 0.7996632900538034, 0.9671597683022216, 0.6907235498566354, 0.6936497048310633, 0.88286528976271, 0.9205576587146846, 0.4996873324253175, 0.9897674417833965, 0.9525031328691491, 0.9570977098602754, 0.6338614902936706, 0.708818405091305, 0.8240980078875251, 0.8160383081184074, 0.7327261887632189, 0.6338614501230775, 0.9114310681188648, 0.979236473198899, 0.940351908285934, 0.8872601544898271, 0.7475268814229313, 0.7538121215236528, 0.9802686603548988, 0.905897513052667, 0.8900783448497409, 0.9604345203708718, 0.6338614501230775, 0.965692088294004, 0.889833522165723, 0.9235554041306465, 0.9140527957729297, 0.8143080252547548, 0.7728568493902442, 0.9535416329778699, 0.8034685964970353, 0.8981867534079826, 0.8785091570246213, 0.8566692539689444, 0.6362573207040797, 0.28000262618311456, 0.6533394610939339, 0.7256940536175174, 0.8796923759710494, 0.9031158312743858, 0.9177574030452287, 0.9815813818755995, 0.7626599276336093, 0.8614035379194795, 0.8281194849439107, 0.7136630531063145, 0.8722413156215089, 0.7499695293716349, 0.8149475990893837, 0.6599484213834509, 0.9683749111585327, 0.9918257598301045, 0.9410825035373035, 0.9162941097900539, 0.8384688200975557, 0.7339882236365881, 0.35058794117819747, 0.6135288970618455, 0.9953518759268573, 0.7387351109058811, 0.9774567796124662, 0.9048322110891508, 0.9069145569577491, 0.9230355388812156, 0.8102476341316158, 0.31313758216698423, 0.6710091046435377, 0.9446026778128737, 0.7597599114265458, 0.6504107797760367, 0.7301702891287049, 0.6891189890435123, 0.9283328535941231, 0.9873179061190147, 0.7339881710717973, 0.7921544583396295, 0.15048648830286357, 0.7524324415143179, 0.9183580939437019, 0.9689300677620161, 0.7714163558496172, 0.9177040991364984, 0.9159562166952919, 0.8459403164457339, 0.961425294838268, 0.6631784589956846, 0.7266989753388943, 0.857422000541966, 0.640585039298693, 0.6607050765746451, 0.7993540349680796, 0.6555599791251199, 0.522608062038455, 0.46661434110576344, 0.9660610012351168, 0.6514280643053272, 0.8717020893587003, 0.8753524982088876, 0.8926912794038315, 0.7306874162791893, 0.9758925122571589, 0.6677588432124567, 0.6231690617579566, 0.22688149792182707, 0.6806444937654812, 0.9652497071050077, 0.9582261000282454, 0.1667348633356044, 0.6669394533424176, 0.9135263698157866, 0.8988349600539425, 0.8124613057102379, 0.16727144529328428, 0.7806392854697195, 0.9261387199778202, 0.7729930710576565, 0.8900387634253241, 0.978115001671371, 0.8185028219183264, 0.920099805755456, 0.7327261887632189, 0.9018210713878603, 0.9254767453438046, 0.98763854760986, 0.947277241497033, 0.8216424393652421, 0.8462677617993101, 0.9039588351694213, 0.7685628589824838, 0.2589689056145363, 0.6042607797672513, 0.8251716532315773, 0.918210897865818, 0.83834878785714, 0.718934668248147, 0.857422000541966, 0.6822193159046649, 0.9661961963762592, 0.8791678779021855, 0.785559553931998, 0.9180475214649816, 0.9318367797867849, 0.1767481497925429, 0.795366674066443, 0.9233093895236637, 0.8773923576536748, 0.08356117691939761, 0.857756430194256, 0.9244232052811915, 0.8136899914242197, 0.841294647361413, 0.9236297667450435, 0.9771087227495765, 0.8623960782547705, 0.6097887290274715, 0.2439154916109886, 0.7339881710717973, 0.9432011035161104, 0.7522737765970341, 0.10030317021293789, 0.10030317021293789, 0.9536508938901014, 0.9443527423560392, 0.6438006924584235, 0.9216695788953547, 0.767215165564745, 0.1461594291166511, 0.043847828734995334, 0.789260917229916, 0.8544086328189499, 0.971975765646091, 0.9605517242982822, 0.959154938633631, 0.9687124401638276, 0.9684643066006025, 0.6293008817538528, 0.8925415586886652, 0.816758271788823, 0.8828647417843731, 0.9047302256630607, 0.7531710651395983, 0.5498747095984137, 0.18329156986613787, 0.9208472347931949, 0.9426562207384496, 0.8023449432039671, 0.7087275354500423, 0.8824933432983845, 0.8041608084160019, 0.6245939354055807, 0.9066419852682298, 0.8735825799604335, 0.9283609256270902, 0.7013303646563069, 0.8325832654247934, 0.9172157534360529, 0.9286334452217508, 0.7985733758619286, 0.8904056169154726, 0.6837595213450751, 0.693649744840648, 0.9850365059063186, 0.8828647952288821, 0.6338611287585163, 0.9358422204976318, 0.9560185757044534, 0.9787381640198691, 0.8203040374235224, 0.9920841854347456, 0.8511622484486617, 0.9327327841910417, 0.7625750291113484, 0.35884174647461836, 0.35884174647461836, 0.7971473938729037, 0.9856107842627378, 0.8805126988425221, 0.9257224204921378, 0.928282259289536, 0.7404023354455517, 0.8859691738563942, 0.9259158328213902, 0.8836337006608489, 0.4232847713773874, 0.10582119284434685, 0.4232847713773874, 0.04544936294977378, 0.9544366219452494, 0.6476624663721483, 0.9358802462567567, 0.9095035542756645, 0.4996873324253175, 0.4654168631656635, 0.1427464922098262, 0.7137324610491309, 0.6936497848502374, 0.837537920913817, 0.9324822175004773, 0.6338611287585163, 0.7045308473041997, 0.8833564274030812, 0.8211872125549643, 0.9457933827949871, 0.7295734019685015, 0.9570443130819765, 0.9237163076910433, 0.9277165569604918, 0.4209651779335464, 0.2104825889667732, 0.3157238834501598, 0.86038354237057, 0.9243933046600059, 0.30056664313022685, 0.6612466148864992, 0.9620658326922734, 0.9706839645402048, 0.8649418671662978, 0.33414964672167036, 0.5012244700825056, 0.812909049182629, 0.9207297353562259, 0.9006155554013336, 0.9891811000198398, 0.857387708459293, 0.8596183866614096, 0.7218953368873424, 0.8891188791008597, 0.9206168443378253, 0.8654105147436271, 0.9620951274435634, 0.6176978027091969, 0.8667137850447272, 0.8747631651276246, 0.7284992093652749, 0.87707259166716, 0.8385958528611942, 0.9105577523729895, 0.9766688491116635, 0.8884759613691201, 0.86239168877493, 0.8445567785774326, 0.9464196961910382, 0.7762731908126975, 0.8208362896857511, 0.9382539139854207, 0.9030432471941847, 0.9037879915440805, 0.7908633258543816, 0.8924538013736764, 0.9187572876129383], \"Term\": [\"ability\", \"able\", \"absolute\", \"ac\", \"achieve\", \"acrobatic\", \"action\", \"action\", \"actually\", \"add\", \"add\", \"add\", \"advantage\", \"advice\", \"affect\", \"agree\", \"ahead\", \"ahead\", \"aid\", \"air\", \"allow\", \"alluring\", \"almost\", \"alone\", \"alpha\", \"already\", \"always\", \"amazing\", \"angrily\", \"angry\", \"animal\", \"answer\", \"anyway\", \"anywhere\", \"apparently\", \"appreciate\", \"approach\", \"arc\", \"arcane\", \"architecture\", \"area\", \"area\", \"arm\", \"around\", \"around\", \"ashton\", \"ask\", \"asleep\", \"aspect\", \"ass\", \"assume\", \"athletic\", \"attack\", \"attempt\", \"attractive\", \"away\", \"awesome\", \"baby\", \"back\", \"back\", \"back\", \"bad\", \"ball\", \"bandit\", \"bang\", \"bar\", \"base\", \"baseboard\", \"become\", \"bed\", \"begin\", \"begin\", \"begin\", \"begin\", \"behind\", \"believe\", \"bell\", \"better\", \"big\", \"billion\", \"bit\", \"bite\", \"black\", \"blade\", \"blanket\", \"blast\", \"block\", \"blue\", \"board\", \"body\", \"body\", \"bolt\", \"bone\", \"bonus\", \"book\", \"bother\", \"bottom\", \"boundary\", \"boy\", \"boysie\", \"brand\", \"break\", \"break\", \"breathe\", \"breathe\", \"briefly\", \"bring\", \"bring\", \"brumestone\", \"bullet\", \"bullshit\", \"burn\", \"burst\", \"busy\", \"butt\", \"buy\", \"cage\", \"cage\", \"call\", \"caltrop\", \"caltrop\", \"care\", \"care\", \"carry\", \"carry\", \"carve\", \"cast\", \"catch\", \"cause\", \"cavern\", \"center\", \"central\", \"certain\", \"chain\", \"challenge\", \"chamber\", \"chamber\", \"chamber\", \"chance\", \"charisma\", \"chase\", \"check\", \"cheek\", \"cheer\", \"chetney\", \"city\", \"clamber\", \"claw\", \"clear\", \"climb\", \"clink\", \"close\", \"color\", \"comfort\", \"comfort\", \"comment\", \"company\", \"concentrate\", \"connect\", \"consciousness\", \"conservatory\", \"constitution\", \"contain\", \"continue\", \"contract\", \"contraption\", \"contribution\", \"conversation\", \"cool\", \"corner\", \"correct\", \"couple\", \"course\", \"cover\", \"crack\", \"cradle\", \"crap\", \"crash\", \"crazy\", \"creature\", \"creeper\", \"creeper\", \"crush\", \"cue\", \"curious\", \"currently\", \"cut\", \"damage\", \"damn\", \"dangerous\", \"dark\", \"darkness\", \"dart\", \"day\", \"daylight\", \"dead\", \"deal\", \"dear\", \"death\", \"decent\", \"deeper\", \"definitely\", \"depend\", \"deputy\", \"deputy\", \"describe\", \"design\", \"destroy\", \"device\", \"dexterity\", \"dice\", \"die\", \"different\", \"dig\", \"direction\", \"direction\", \"disadvantage\", \"discuss\", \"discussion\", \"disturb\", \"dive\", \"dodge\", \"dog\", \"doom\", \"door\", \"dot\", \"double\", \"downstairs\", \"dozen\", \"draw\", \"drawer\", \"dream\", \"drill\", \"drink\", \"drop\", \"duck\", \"dull\", \"dynamic\", \"earlier\", \"early\", \"eat\", \"edge\", \"elderly\", \"eldritch\", \"elevator\", \"else\", \"embrace\", \"emerge\", \"emerge\", \"emoth\", \"encase\", \"encounter\", \"end\", \"energy\", \"enhance\", \"enjoy\", \"enough\", \"enough\", \"epilogue\", \"especially\", \"establishment\", \"evening\", \"evening\", \"eventually\", \"ever\", \"everybody\", \"evolve\", \"ex\", \"exactly\", \"excited\", \"exciting\", \"exit\", \"expand\", \"experience\", \"explode\", \"extra\", \"eye\", \"eye\", \"eye\", \"face\", \"fail\", \"faintly\", \"fall\", \"familiar\", \"far\", \"favorite\", \"fearne\", \"feather\", \"feel\", \"feeling\", \"feral\", \"feral\", \"figure\", \"fill\", \"find\", \"fine\", \"finger\", \"finish\", \"fire\", \"first\", \"first\", \"fit\", \"fix\", \"flame\", \"flame\", \"flare\", \"flash\", \"focus\", \"folk\", \"follow\", \"food\", \"foot\", \"foot\", \"foot\", \"forget\", \"form\", \"forward\", \"forward\", \"forward\", \"free\", \"free\", \"fresh\", \"friend\", \"front\", \"front\", \"frost\", \"fuck\", \"fucked\", \"fucking\", \"full\", \"fun\", \"funny\", \"game\", \"gasp\", \"gem\", \"general\", \"genre\", \"giant\", \"giggle\", \"girlfriend\", \"give\", \"glad\", \"glance\", \"glass\", \"glow\", \"goddamn\", \"gold\", \"grab\", \"grab\", \"grasp\", \"grass\", \"grave\", \"great\", \"green\", \"grief\", \"grind\", \"groan\", \"gross\", \"ground\", \"ground\", \"group\", \"growl\", \"guess\", \"guidance\", \"guide\", \"guilt\", \"guy\", \"hair\", \"half\", \"hall\", \"hallway\", \"hammer\", \"hand\", \"happen\", \"hard\", \"hate\", \"head\", \"head\", \"heal\", \"healing\", \"healthy\", \"healthy\", \"hear\", \"hear\", \"heavy\", \"hell\", \"help\", \"high\", \"hit\", \"hobby\", \"hold\", \"hold\", \"hole\", \"honestly\", \"hope\", \"hour\", \"hover\", \"howl\", \"hum\", \"humanoid\", \"hurt\", \"hurt\", \"husk\", \"ice\", \"idea\", \"identify\", \"ill\", \"illegal\", \"imagine\", \"immediately\", \"impact\", \"important\", \"indeed\", \"individual\", \"ingress\", \"inside\", \"intelligence\", \"interesting\", \"intervention\", \"investigation\", \"invisible\", \"invite\", \"involvement\", \"issue\", \"job\", \"join\", \"jump\", \"keep\", \"kick\", \"kill\", \"kind\", \"king\", \"knee\", \"knock\", \"lady\", \"land\", \"large\", \"last\", \"late\", \"lately\", \"later\", \"laugh\", \"laughter\", \"leap\", \"learn\", \"least\", \"leave\", \"leave\", \"leg\", \"legendary\", \"legendary\", \"less\", \"lesson\", \"let\", \"lever\", \"lick\", \"lie\", \"life\", \"lift\", \"light\", \"light\", \"light\", \"lightning\", \"like\", \"listen\", \"little\", \"little\", \"lonely\", \"lonely\", \"long\", \"long\", \"long\", \"longer\", \"look\", \"look\", \"look\", \"lose\", \"loud\", \"love\", \"low\", \"luck\", \"machine\", \"machine\", \"magic\", \"mainly\", \"maintain\", \"man\", \"manage\", \"maybe\", \"meal\", \"mean\", \"meat\", \"mechanical\", \"mention\", \"message\", \"metal\", \"meundie\", \"middle\", \"middle\", \"mind\", \"mind\", \"mine\", \"minute\", \"miss\", \"mode\", \"modifier\", \"moment\", \"moment\", \"moment\", \"momentum\", \"morning\", \"mother\", \"motivation\", \"mouth\", \"move\", \"movement\", \"much\", \"much\", \"must\", \"name\", \"natural\", \"nature\", \"near\", \"nearby\", \"necrotic\", \"never\", \"new\", \"next\", \"night\", \"nightmare\", \"nobody\", \"none\", \"normal\", \"note\", \"notification\", \"number\", \"oak\", \"object\", \"occasionally\", \"odd\", \"oddly\", \"oderan\", \"okay\", \"old\", \"one\", \"open\", \"opportunity\", \"orb\", \"origin\", \"orrery\", \"ounce\", \"pain\", \"part\", \"part\", \"part\", \"part\", \"partially\", \"particularly\", \"party\", \"pass\", \"past\", \"patron\", \"pay\", \"pee\", \"peer\", \"people\", \"perception\", \"personally\", \"pick\", \"piece\", \"pierce\", \"pillow\", \"piss\", \"place\", \"plan\", \"plat\", \"platinum\", \"play\", \"plenty\", \"point\", \"poison\", \"pop\", \"popular\", \"possibly\", \"pour\", \"power\", \"predawn\", \"pregnant\", \"prepare\", \"pretty\", \"probably\", \"problem\", \"progress\", \"proud\", \"pull\", \"pulse\", \"purple\", \"push\", \"pushup\", \"put\", \"quad\", \"question\", \"quick\", \"quickly\", \"quietly\", \"quite\", \"quorum\", \"radiant\", \"rage\", \"range\", \"rapid\", \"reach\", \"reach\", \"reaction\", \"read\", \"ready\", \"real\", \"really\", \"rebuke\", \"recently\", \"red\", \"redbubl\", \"reduce\", \"regular\", \"release\", \"remain\", \"remember\", \"rest\", \"return\", \"righty\", \"ring\", \"robot\", \"rock\", \"rock\", \"roll\", \"romantic\", \"room\", \"rope\", \"rough\", \"round\", \"rule\", \"rush\", \"rush\", \"safe\", \"safely\", \"sake\", \"salt\", \"saunter\", \"save\", \"saving\", \"scale\", \"scarf\", \"scratch\", \"scratch\", \"scream\", \"screech\", \"searcher\", \"second\", \"seeker\", \"send\", \"sense\", \"sentimental\", \"separate\", \"separation\", \"seriously\", \"serve\", \"set\", \"severely\", \"shade\", \"shade\", \"shaft\", \"shake\", \"sharp\", \"shield\", \"shift\", \"shim\", \"shit\", \"shock\", \"shocking\", \"shoot\", \"shoot\", \"short\", \"shoulder\", \"shove\", \"shove\", \"show\", \"shut\", \"side\", \"side\", \"silence\", \"silver\", \"similar\", \"single\", \"sit\", \"situation\", \"skip\", \"skyship\", \"slam\", \"slash\", \"sleep\", \"slightly\", \"sling\", \"slow\", \"slowly\", \"slug\", \"small\", \"small\", \"smart\", \"smolder\", \"snarl\", \"sniper\", \"snuggle\", \"solid\", \"sometimes\", \"soon\", \"soot\", \"soreness\", \"sorry\", \"sort\", \"sort\", \"sound\", \"space\", \"space\", \"spark\", \"speak\", \"special\", \"specific\", \"spell\", \"sphere\", \"spicy\", \"spin\", \"spin\", \"spruce\", \"stand\", \"start\", \"start\", \"start\", \"stasis\", \"stay\", \"steal\", \"step\", \"stick\", \"still\", \"still\", \"still\", \"stinger\", \"stone\", \"stop\", \"strange\", \"strength\", \"strike\", \"strip\", \"strong\", \"stuck\", \"study\", \"stuff\", \"stumble\", \"succeed\", \"succeed\", \"suffer\", \"sure\", \"surround\", \"survival\", \"swill\", \"swipe\", \"table\", \"tail\", \"talented\", \"talk\", \"taste\", \"technically\", \"telekinesis\", \"tell\", \"temporary\", \"terrible\", \"terrify\", \"test\", \"thing\", \"thorough\", \"thoroughly\", \"though\", \"thought\", \"throw\", \"tight\", \"time\", \"tired\", \"today\", \"together\", \"tomorrow\", \"tomorrow\", \"tonight\", \"top\", \"toss\", \"total\", \"touch\", \"town\", \"trip\", \"true\", \"tumble\", \"tunnel\", \"tunnel\", \"tunnel\", \"turn\", \"turn\", \"turtle\", \"twist\", \"unattractive\", \"uncomfortably\", \"underneath\", \"understand\", \"understand\", \"undie\", \"unfortunately\", \"unnatural\", \"unseen\", \"upside\", \"upstairs\", \"upward\", \"usually\", \"voice\", \"wait\", \"wake\", \"walk\", \"wall\", \"wall\", \"wall\", \"wander\", \"warm\", \"watch\", \"watch\", \"water\", \"way\", \"wear\", \"wedge\", \"wedge\", \"week\", \"weird\", \"welcome\", \"well\", \"whack\", \"wheel\", \"whine\", \"whole\", \"whoosh\", \"wide\", \"wild\", \"wisdom\", \"wish\", \"witch\", \"woman\", \"wonder\", \"woo\", \"word\", \"work\", \"worker\", \"world\", \"worried\", \"worry\", \"worse\", \"worth\", \"wound\", \"wrap\", \"wrong\", \"year\", \"yell\", \"yet\"]}, \"R\": 30, \"lambda.step\": 0.01, \"plot.opts\": {\"xlab\": \"PC1\", \"ylab\": \"PC2\"}, \"topic.order\": [10, 1, 9, 12, 14, 24, 6, 8, 20, 18, 4, 21, 3, 13, 16, 2, 19, 15, 7, 22, 5, 23, 11, 17]};\n",
              "\n",
              "function LDAvis_load_lib(url, callback){\n",
              "  var s = document.createElement('script');\n",
              "  s.src = url;\n",
              "  s.async = true;\n",
              "  s.onreadystatechange = s.onload = callback;\n",
              "  s.onerror = function(){console.warn(\"failed to load library \" + url);};\n",
              "  document.getElementsByTagName(\"head\")[0].appendChild(s);\n",
              "}\n",
              "\n",
              "if(typeof(LDAvis) !== \"undefined\"){\n",
              "   // already loaded: just create the visualization\n",
              "   !function(LDAvis){\n",
              "       new LDAvis(\"#\" + \"ldavis_el3881397556291162408444218515\", ldavis_el3881397556291162408444218515_data);\n",
              "   }(LDAvis);\n",
              "}else if(typeof define === \"function\" && define.amd){\n",
              "   // require.js is available: use it to load d3/LDAvis\n",
              "   require.config({paths: {d3: \"https://d3js.org/d3.v5\"}});\n",
              "   require([\"d3\"], function(d3){\n",
              "      window.d3 = d3;\n",
              "      LDAvis_load_lib(\"https://cdn.jsdelivr.net/gh/bmabey/pyLDAvis@3.3.1/pyLDAvis/js/ldavis.v3.0.0.js\", function(){\n",
              "        new LDAvis(\"#\" + \"ldavis_el3881397556291162408444218515\", ldavis_el3881397556291162408444218515_data);\n",
              "      });\n",
              "    });\n",
              "}else{\n",
              "    // require.js not available: dynamically load d3 & LDAvis\n",
              "    LDAvis_load_lib(\"https://d3js.org/d3.v5.js\", function(){\n",
              "         LDAvis_load_lib(\"https://cdn.jsdelivr.net/gh/bmabey/pyLDAvis@3.3.1/pyLDAvis/js/ldavis.v3.0.0.js\", function(){\n",
              "                 new LDAvis(\"#\" + \"ldavis_el3881397556291162408444218515\", ldavis_el3881397556291162408444218515_data);\n",
              "            })\n",
              "         });\n",
              "}\n",
              "</script>"
            ]
          },
          "metadata": {},
          "execution_count": 21
        }
      ]
    },
    {
      "cell_type": "markdown",
      "source": [
        "### Attempt 2 \n",
        "I am not a big fan of 1 and 10 overlapping as much as they do, so did some research into tuning the model better than how it is currently."
      ],
      "metadata": {
        "id": "GTBTiQElbDNB"
      }
    },
    {
      "cell_type": "code",
      "source": [
        "def compute_coherence_values(corpus, dictionary, k, a, b):\n",
        "    \n",
        "    lda_model = gensim.models.LdaMulticore(corpus=corpus,\n",
        "                                           id2word=dictionary,\n",
        "                                           num_topics=k, \n",
        "                                           random_state=100,\n",
        "                                           chunksize=100,\n",
        "                                           passes=10,\n",
        "                                           alpha=a,\n",
        "                                           eta=b,\n",
        "                                           workers=2)\n",
        "    \n",
        "    coherence_model_lda = CoherenceModel(model=lda_model, texts=full_dialog_df['lemmas'], dictionary=id2word, coherence='u_mass')\n",
        "    \n",
        "    return coherence_model_lda.get_coherence()"
      ],
      "metadata": {
        "id": "HeT3f4p6ehSu"
      },
      "execution_count": null,
      "outputs": []
    },
    {
      "cell_type": "code",
      "source": [
        "import tqdm\n",
        "grid = {}\n",
        "grid['Validation_Set'] = {}\n",
        "\n",
        "# Topics range\n",
        "min_topics=2\n",
        "max_topics=11\n",
        "step_size=1\n",
        "topics_range=range(min_topics, max_topics, step_size)\n",
        "\n",
        "# Alpha parameter\n",
        "alpha = list(np.arange(0.01,1,0.3))\n",
        "alpha.append('symmetric')\n",
        "alpha.append('asymmetric')\n",
        "\n",
        "# Beta parameter\n",
        "beta = list(np.arange(0.01,1,0.3))\n",
        "beta.append('symmetric')\n",
        "\n",
        "# Validation sets\n",
        "num_of_docs = len(corpus)\n",
        "corpus_sets = [# gensim.utils.ClippedCorpus(corpus, num_of_docs*0.25), \n",
        "               # gensim.utils.ClippedCorpus(corpus, num_of_docs*0.5), \n",
        "               gensim.utils.ClippedCorpus(corpus, int(num_of_docs*0.75)), \n",
        "               corpus]\n",
        "\n",
        "corpus_title = ['75% Corpus', '100% Corpus']\n",
        "model_results = {'Validation_Set': [],\n",
        "                 'Topics': [],\n",
        "                 'Alpha': [],\n",
        "                 'Beta': [],\n",
        "                 'Coherence': []\n",
        "                }\n",
        "\n",
        "if 1 == 1:\n",
        "    pbar = tqdm.tqdm(total=500)\n",
        "    \n",
        "    # iterate through validation corpuses\n",
        "    for i in range(len(corpus_sets)):\n",
        "        # iterate through number of topics\n",
        "        for k in topics_range:\n",
        "            # iterate through alpha values\n",
        "            for a in alpha:\n",
        "                # iterare through beta values\n",
        "                for b in beta:\n",
        "                    # get the coherence score for the given parameters\n",
        "                    cv = compute_coherence_values(corpus=corpus_sets[i], dictionary=id2word, k=k, a=a, b=b)\n",
        "                    # Save the model results\n",
        "                    model_results['Validation_Set'].append(corpus_title[i])\n",
        "                    model_results['Topics'].append(k)\n",
        "                    model_results['Alpha'].append(a)\n",
        "                    model_results['Beta'].append(b)\n",
        "                    model_results['Coherence'].append(cv)\n",
        "                    \n",
        "                    pbar.update(1)\n",
        "    pd.DataFrame(model_results).to_csv('lda_tuning_results.csv', index=False)\n",
        "    pbar.close()"
      ],
      "metadata": {
        "id": "dJzMcf4vbboP",
        "colab": {
          "base_uri": "https://localhost:8080/"
        },
        "outputId": "d3e624a5-c0b7-47e3-8e29-2b66d4b77b65"
      },
      "execution_count": null,
      "outputs": [
        {
          "output_type": "stream",
          "name": "stderr",
          "text": [
            "\n",
            " 11%|█         | 56/500 [22:52<3:01:23, 24.51s/it]\n",
            "\n",
            "  0%|          | 1/500 [00:02<17:10,  2.07s/it]\u001b[A\n",
            "  0%|          | 2/500 [00:04<19:16,  2.32s/it]\u001b[A\n",
            "  1%|          | 3/500 [00:07<19:45,  2.38s/it]\u001b[A\n",
            "  1%|          | 4/500 [00:09<20:19,  2.46s/it]\u001b[A\n",
            "  1%|          | 5/500 [00:12<20:25,  2.48s/it]\u001b[A\n",
            "  1%|          | 6/500 [00:14<19:31,  2.37s/it]\u001b[A\n",
            "  1%|▏         | 7/500 [00:16<20:17,  2.47s/it]\u001b[A\n",
            "  2%|▏         | 8/500 [00:19<21:11,  2.58s/it]\u001b[A\n",
            "  2%|▏         | 9/500 [00:22<22:15,  2.72s/it]\u001b[A\n",
            "  2%|▏         | 10/500 [00:25<22:32,  2.76s/it]\u001b[A\n",
            "  2%|▏         | 11/500 [00:27<20:45,  2.55s/it]\u001b[A\n",
            "  2%|▏         | 12/500 [00:30<20:34,  2.53s/it]\u001b[A\n",
            "  3%|▎         | 13/500 [00:32<21:07,  2.60s/it]\u001b[A\n",
            "  3%|▎         | 14/500 [00:36<22:26,  2.77s/it]\u001b[A\n",
            "  3%|▎         | 15/500 [00:38<21:57,  2.72s/it]\u001b[A\n",
            "  3%|▎         | 16/500 [00:40<20:36,  2.56s/it]\u001b[A\n",
            "  3%|▎         | 17/500 [00:43<20:29,  2.54s/it]\u001b[A\n",
            "  4%|▎         | 18/500 [00:45<20:20,  2.53s/it]\u001b[A\n",
            "  4%|▍         | 19/500 [00:48<20:56,  2.61s/it]\u001b[A\n",
            "  4%|▍         | 20/500 [00:51<20:52,  2.61s/it]\u001b[A\n",
            "  4%|▍         | 21/500 [00:53<19:35,  2.45s/it]\u001b[A\n",
            "  4%|▍         | 22/500 [00:55<19:39,  2.47s/it]\u001b[A\n",
            "  5%|▍         | 23/500 [00:58<20:12,  2.54s/it]\u001b[A\n",
            "  5%|▍         | 24/500 [01:01<21:18,  2.69s/it]\u001b[A\n",
            "  5%|▌         | 25/500 [01:04<21:20,  2.70s/it]\u001b[A\n",
            "  5%|▌         | 26/500 [01:06<19:51,  2.51s/it]\u001b[A\n",
            "  5%|▌         | 27/500 [01:08<19:46,  2.51s/it]\u001b[A\n",
            "  6%|▌         | 28/500 [01:11<20:31,  2.61s/it]\u001b[A\n",
            "  6%|▌         | 29/500 [01:14<21:12,  2.70s/it]\u001b[A\n",
            "  6%|▌         | 30/500 [01:17<21:12,  2.71s/it]\u001b[A\n",
            "  6%|▌         | 31/500 [01:19<19:39,  2.51s/it]\u001b[A\n",
            "  6%|▋         | 32/500 [01:21<19:31,  2.50s/it]\u001b[A\n",
            "  7%|▋         | 33/500 [01:24<19:56,  2.56s/it]\u001b[A\n",
            "  7%|▋         | 34/500 [01:27<20:15,  2.61s/it]\u001b[A\n",
            "  7%|▋         | 35/500 [01:29<19:57,  2.58s/it]\u001b[A\n",
            "  7%|▋         | 36/500 [01:32<19:15,  2.49s/it]\u001b[A\n",
            "  7%|▋         | 37/500 [01:34<19:35,  2.54s/it]\u001b[A\n",
            "  8%|▊         | 38/500 [01:37<20:26,  2.65s/it]\u001b[A\n",
            "  8%|▊         | 39/500 [01:40<21:37,  2.82s/it]\u001b[A\n",
            "  8%|▊         | 40/500 [01:43<21:36,  2.82s/it]\u001b[A\n",
            "  8%|▊         | 41/500 [01:45<20:00,  2.61s/it]\u001b[A\n",
            "  8%|▊         | 42/500 [01:48<20:23,  2.67s/it]\u001b[A\n",
            "  9%|▊         | 43/500 [01:51<20:51,  2.74s/it]\u001b[A\n",
            "  9%|▉         | 44/500 [01:54<21:28,  2.83s/it]\u001b[A\n",
            "  9%|▉         | 45/500 [01:57<21:05,  2.78s/it]\u001b[A\n",
            "  9%|▉         | 46/500 [01:59<19:39,  2.60s/it]\u001b[A\n",
            "  9%|▉         | 47/500 [02:01<19:24,  2.57s/it]\u001b[A\n",
            " 10%|▉         | 48/500 [02:04<19:59,  2.65s/it]\u001b[A\n",
            " 10%|▉         | 49/500 [02:07<20:19,  2.70s/it]\u001b[A\n",
            " 10%|█         | 50/500 [02:10<19:52,  2.65s/it]\u001b[A\n",
            " 10%|█         | 51/500 [02:12<18:57,  2.53s/it]\u001b[A\n",
            " 10%|█         | 52/500 [02:15<19:34,  2.62s/it]\u001b[A\n",
            " 11%|█         | 53/500 [02:18<20:53,  2.80s/it]\u001b[A\n",
            " 11%|█         | 54/500 [02:21<21:44,  2.92s/it]\u001b[A\n",
            " 11%|█         | 55/500 [02:24<21:48,  2.94s/it]\u001b[A\n",
            " 11%|█         | 56/500 [02:26<20:04,  2.71s/it]\u001b[A\n",
            " 11%|█▏        | 57/500 [02:29<19:35,  2.65s/it]\u001b[A\n",
            " 12%|█▏        | 58/500 [02:32<20:09,  2.74s/it]\u001b[A\n",
            " 12%|█▏        | 59/500 [02:35<20:33,  2.80s/it]\u001b[A\n",
            " 12%|█▏        | 60/500 [02:37<20:16,  2.77s/it]\u001b[A\n",
            " 12%|█▏        | 61/500 [02:40<18:53,  2.58s/it]\u001b[A\n",
            " 12%|█▏        | 62/500 [02:42<18:50,  2.58s/it]\u001b[A\n",
            " 13%|█▎        | 63/500 [02:45<19:02,  2.61s/it]\u001b[A\n",
            " 13%|█▎        | 64/500 [02:48<19:24,  2.67s/it]\u001b[A\n",
            " 13%|█▎        | 65/500 [02:50<19:02,  2.63s/it]\u001b[A\n",
            " 13%|█▎        | 66/500 [02:52<17:58,  2.49s/it]\u001b[A\n",
            " 13%|█▎        | 67/500 [02:55<18:27,  2.56s/it]\u001b[A\n",
            " 14%|█▎        | 68/500 [02:58<19:42,  2.74s/it]\u001b[A\n",
            " 14%|█▍        | 69/500 [03:01<20:31,  2.86s/it]\u001b[A\n",
            " 14%|█▍        | 70/500 [03:04<19:57,  2.79s/it]\u001b[A\n",
            " 14%|█▍        | 71/500 [03:06<18:37,  2.60s/it]\u001b[A\n",
            " 14%|█▍        | 72/500 [03:09<18:50,  2.64s/it]\u001b[A\n",
            " 15%|█▍        | 73/500 [03:12<19:10,  2.70s/it]\u001b[A\n",
            " 15%|█▍        | 74/500 [03:15<19:32,  2.75s/it]\u001b[A\n",
            " 15%|█▌        | 75/500 [03:17<19:17,  2.72s/it]\u001b[A\n",
            " 15%|█▌        | 76/500 [03:19<18:06,  2.56s/it]\u001b[A\n",
            " 15%|█▌        | 77/500 [03:22<17:55,  2.54s/it]\u001b[A\n",
            " 16%|█▌        | 78/500 [03:25<18:10,  2.58s/it]\u001b[A\n",
            " 16%|█▌        | 79/500 [03:27<18:35,  2.65s/it]\u001b[A\n",
            " 16%|█▌        | 80/500 [03:30<18:15,  2.61s/it]\u001b[A\n",
            " 16%|█▌        | 81/500 [03:32<17:48,  2.55s/it]\u001b[A\n",
            " 16%|█▋        | 82/500 [03:35<18:03,  2.59s/it]\u001b[A\n",
            " 17%|█▋        | 83/500 [03:38<18:41,  2.69s/it]\u001b[A\n",
            " 17%|█▋        | 84/500 [03:41<19:39,  2.84s/it]\u001b[A\n",
            " 17%|█▋        | 85/500 [03:44<19:22,  2.80s/it]\u001b[A\n",
            " 17%|█▋        | 86/500 [03:46<18:02,  2.61s/it]\u001b[A\n",
            " 17%|█▋        | 87/500 [03:49<17:58,  2.61s/it]\u001b[A\n",
            " 18%|█▊        | 88/500 [03:51<18:25,  2.68s/it]\u001b[A\n",
            " 18%|█▊        | 89/500 [03:55<19:06,  2.79s/it]\u001b[A\n",
            " 18%|█▊        | 90/500 [03:57<18:21,  2.69s/it]\u001b[A\n",
            " 18%|█▊        | 91/500 [03:59<17:39,  2.59s/it]\u001b[A\n",
            " 18%|█▊        | 92/500 [04:02<17:33,  2.58s/it]\u001b[A\n",
            " 19%|█▊        | 93/500 [04:04<17:30,  2.58s/it]\u001b[A\n",
            " 19%|█▉        | 94/500 [04:07<18:11,  2.69s/it]\u001b[A\n",
            " 19%|█▉        | 95/500 [04:10<17:30,  2.59s/it]\u001b[A\n",
            " 19%|█▉        | 96/500 [04:12<16:49,  2.50s/it]\u001b[A\n",
            " 19%|█▉        | 97/500 [04:15<17:09,  2.55s/it]\u001b[A\n",
            " 20%|█▉        | 98/500 [04:18<18:05,  2.70s/it]\u001b[A\n",
            " 20%|█▉        | 99/500 [04:21<19:08,  2.86s/it]\u001b[A\n",
            " 20%|██        | 100/500 [04:24<18:33,  2.78s/it]\u001b[A\n",
            " 20%|██        | 101/500 [04:26<17:24,  2.62s/it]\u001b[A\n",
            " 20%|██        | 102/500 [04:28<17:06,  2.58s/it]\u001b[A\n",
            " 21%|██        | 103/500 [04:31<17:31,  2.65s/it]\u001b[A\n",
            " 21%|██        | 104/500 [04:34<18:25,  2.79s/it]\u001b[A\n",
            " 21%|██        | 105/500 [04:37<17:45,  2.70s/it]\u001b[A\n",
            " 21%|██        | 106/500 [04:39<16:51,  2.57s/it]\u001b[A\n",
            " 21%|██▏       | 107/500 [04:41<16:27,  2.51s/it]\u001b[A\n",
            " 22%|██▏       | 108/500 [04:44<16:36,  2.54s/it]\u001b[A\n",
            " 22%|██▏       | 109/500 [04:47<16:58,  2.60s/it]\u001b[A\n",
            " 22%|██▏       | 110/500 [04:49<16:39,  2.56s/it]\u001b[A\n",
            " 22%|██▏       | 111/500 [04:51<15:51,  2.45s/it]\u001b[A\n",
            " 22%|██▏       | 112/500 [04:54<16:03,  2.48s/it]\u001b[A\n",
            " 23%|██▎       | 113/500 [04:57<16:53,  2.62s/it]\u001b[A\n",
            " 23%|██▎       | 114/500 [05:00<17:27,  2.71s/it]\u001b[A\n",
            " 23%|██▎       | 115/500 [05:02<16:58,  2.65s/it]\u001b[A\n",
            " 23%|██▎       | 116/500 [05:05<16:05,  2.51s/it]\u001b[A\n",
            " 23%|██▎       | 117/500 [05:07<16:12,  2.54s/it]\u001b[A\n",
            " 24%|██▎       | 118/500 [05:10<16:49,  2.64s/it]\u001b[A\n",
            " 24%|██▍       | 119/500 [05:13<17:17,  2.72s/it]\u001b[A\n",
            " 24%|██▍       | 120/500 [05:15<16:47,  2.65s/it]\u001b[A\n",
            " 24%|██▍       | 121/500 [05:18<15:51,  2.51s/it]\u001b[A\n",
            " 24%|██▍       | 122/500 [05:20<15:58,  2.53s/it]\u001b[A\n",
            " 25%|██▍       | 123/500 [05:23<16:00,  2.55s/it]\u001b[A\n",
            " 25%|██▍       | 124/500 [05:26<16:30,  2.63s/it]\u001b[A\n",
            " 25%|██▌       | 125/500 [05:28<15:59,  2.56s/it]\u001b[A\n",
            " 25%|██▌       | 126/500 [05:30<15:28,  2.48s/it]\u001b[A\n",
            " 25%|██▌       | 127/500 [05:33<16:02,  2.58s/it]\u001b[A\n",
            " 26%|██▌       | 128/500 [05:36<16:48,  2.71s/it]\u001b[A\n",
            " 26%|██▌       | 129/500 [05:39<17:51,  2.89s/it]\u001b[A\n",
            " 26%|██▌       | 130/500 [05:42<17:27,  2.83s/it]\u001b[A\n",
            " 26%|██▌       | 131/500 [05:44<16:08,  2.62s/it]\u001b[A\n",
            " 26%|██▋       | 132/500 [05:47<16:03,  2.62s/it]\u001b[A\n",
            " 27%|██▋       | 133/500 [05:50<16:24,  2.68s/it]\u001b[A\n",
            " 27%|██▋       | 134/500 [05:53<16:47,  2.75s/it]\u001b[A\n",
            " 27%|██▋       | 135/500 [05:55<16:03,  2.64s/it]\u001b[A\n",
            " 27%|██▋       | 136/500 [05:57<15:09,  2.50s/it]\u001b[A\n",
            " 27%|██▋       | 137/500 [06:00<14:59,  2.48s/it]\u001b[A\n",
            " 28%|██▊       | 138/500 [06:02<15:18,  2.54s/it]\u001b[A\n",
            " 28%|██▊       | 139/500 [06:05<15:33,  2.59s/it]\u001b[A\n",
            " 28%|██▊       | 140/500 [06:07<15:12,  2.53s/it]\u001b[A\n",
            " 28%|██▊       | 141/500 [06:10<14:30,  2.42s/it]\u001b[A\n",
            " 28%|██▊       | 142/500 [06:12<14:44,  2.47s/it]\u001b[A\n",
            " 29%|██▊       | 143/500 [06:15<15:18,  2.57s/it]\u001b[A\n",
            " 29%|██▉       | 144/500 [06:18<16:02,  2.70s/it]\u001b[A\n",
            " 29%|██▉       | 145/500 [06:20<15:36,  2.64s/it]\u001b[A\n",
            " 29%|██▉       | 146/500 [06:23<14:34,  2.47s/it]\u001b[A\n",
            " 29%|██▉       | 147/500 [06:25<14:57,  2.54s/it]\u001b[A\n",
            " 30%|██▉       | 148/500 [06:28<15:19,  2.61s/it]\u001b[A\n",
            " 30%|██▉       | 149/500 [06:31<15:36,  2.67s/it]\u001b[A\n",
            " 30%|███       | 150/500 [06:33<15:06,  2.59s/it]\u001b[A\n",
            " 30%|███       | 151/500 [06:35<14:30,  2.49s/it]\u001b[A\n",
            " 30%|███       | 152/500 [06:38<14:27,  2.49s/it]\u001b[A\n",
            " 31%|███       | 153/500 [06:41<14:50,  2.57s/it]\u001b[A\n",
            " 31%|███       | 154/500 [06:44<15:12,  2.64s/it]\u001b[A\n",
            " 31%|███       | 155/500 [06:46<14:41,  2.55s/it]\u001b[A\n",
            " 31%|███       | 156/500 [06:48<14:00,  2.44s/it]\u001b[A\n",
            " 31%|███▏      | 157/500 [06:51<14:24,  2.52s/it]\u001b[A\n",
            " 32%|███▏      | 158/500 [06:54<15:21,  2.69s/it]\u001b[A\n",
            " 32%|███▏      | 159/500 [06:57<16:23,  2.89s/it]\u001b[A\n",
            " 32%|███▏      | 160/500 [07:00<15:48,  2.79s/it]\u001b[A\n",
            " 32%|███▏      | 161/500 [07:02<14:40,  2.60s/it]\u001b[A\n",
            " 32%|███▏      | 162/500 [07:04<14:26,  2.56s/it]\u001b[A\n",
            " 33%|███▎      | 163/500 [07:07<14:48,  2.64s/it]\u001b[A\n",
            " 33%|███▎      | 164/500 [07:10<15:12,  2.72s/it]\u001b[A\n",
            " 33%|███▎      | 165/500 [07:12<14:33,  2.61s/it]\u001b[A\n",
            " 33%|███▎      | 166/500 [07:15<13:47,  2.48s/it]\u001b[A\n",
            " 33%|███▎      | 167/500 [07:17<13:47,  2.48s/it]\u001b[A\n",
            " 34%|███▎      | 168/500 [07:20<14:07,  2.55s/it]\u001b[A\n",
            " 34%|███▍      | 169/500 [07:22<14:09,  2.57s/it]\u001b[A\n",
            " 34%|███▍      | 170/500 [07:25<13:47,  2.51s/it]\u001b[A\n",
            " 34%|███▍      | 171/500 [07:27<13:11,  2.41s/it]\u001b[A\n",
            " 34%|███▍      | 172/500 [07:30<13:25,  2.46s/it]\u001b[A\n",
            " 35%|███▍      | 173/500 [07:32<13:57,  2.56s/it]\u001b[A\n",
            " 35%|███▍      | 174/500 [07:35<14:29,  2.67s/it]\u001b[A\n",
            " 35%|███▌      | 175/500 [07:38<13:59,  2.58s/it]\u001b[A\n",
            " 35%|███▌      | 176/500 [07:40<13:19,  2.47s/it]\u001b[A\n",
            " 35%|███▌      | 177/500 [07:42<13:19,  2.48s/it]\u001b[A\n",
            " 36%|███▌      | 178/500 [07:45<13:36,  2.54s/it]\u001b[A\n",
            " 36%|███▌      | 179/500 [07:48<13:52,  2.59s/it]\u001b[A\n",
            " 36%|███▌      | 180/500 [07:50<13:30,  2.53s/it]\u001b[A\n",
            " 36%|███▌      | 181/500 [07:52<12:52,  2.42s/it]\u001b[A\n",
            " 36%|███▋      | 182/500 [07:55<12:57,  2.44s/it]\u001b[A\n",
            " 37%|███▋      | 183/500 [07:57<13:10,  2.49s/it]\u001b[A\n",
            " 37%|███▋      | 184/500 [08:00<13:35,  2.58s/it]\u001b[A\n",
            " 37%|███▋      | 185/500 [08:03<13:19,  2.54s/it]\u001b[A\n",
            " 37%|███▋      | 186/500 [08:05<12:50,  2.45s/it]\u001b[A\n",
            " 37%|███▋      | 187/500 [08:08<13:03,  2.50s/it]\u001b[A\n",
            " 38%|███▊      | 188/500 [08:11<13:58,  2.69s/it]\u001b[A\n",
            " 38%|███▊      | 189/500 [08:14<14:58,  2.89s/it]\u001b[A\n",
            " 38%|███▊      | 190/500 [08:16<14:11,  2.75s/it]\u001b[A\n",
            " 38%|███▊      | 191/500 [08:19<13:17,  2.58s/it]\u001b[A\n",
            " 38%|███▊      | 192/500 [08:21<13:17,  2.59s/it]\u001b[A\n",
            " 39%|███▊      | 193/500 [08:24<13:23,  2.62s/it]\u001b[A\n",
            " 39%|███▉      | 194/500 [08:27<14:00,  2.75s/it]\u001b[A\n",
            " 39%|███▉      | 195/500 [08:29<13:22,  2.63s/it]\u001b[A\n",
            " 39%|███▉      | 196/500 [08:31<12:28,  2.46s/it]\u001b[A\n",
            " 39%|███▉      | 197/500 [08:34<12:32,  2.48s/it]\u001b[A\n",
            " 40%|███▉      | 198/500 [08:37<12:49,  2.55s/it]\u001b[A\n",
            " 40%|███▉      | 199/500 [08:39<12:59,  2.59s/it]\u001b[A\n",
            " 40%|████      | 200/500 [08:42<12:25,  2.49s/it]\u001b[A\n",
            " 40%|████      | 201/500 [08:44<11:46,  2.36s/it]\u001b[A\n",
            " 40%|████      | 202/500 [08:46<12:03,  2.43s/it]\u001b[A\n",
            " 41%|████      | 203/500 [08:49<12:43,  2.57s/it]\u001b[A\n",
            " 41%|████      | 204/500 [08:52<13:09,  2.67s/it]\u001b[A\n",
            " 41%|████      | 205/500 [08:54<12:43,  2.59s/it]\u001b[A\n",
            " 41%|████      | 206/500 [08:57<12:05,  2.47s/it]\u001b[A\n",
            " 41%|████▏     | 207/500 [08:59<12:11,  2.50s/it]\u001b[A\n",
            " 42%|████▏     | 208/500 [09:02<12:35,  2.59s/it]\u001b[A\n",
            " 42%|████▏     | 209/500 [09:05<13:10,  2.72s/it]\u001b[A\n",
            " 42%|████▏     | 210/500 [09:07<12:49,  2.65s/it]\u001b[A\n",
            " 42%|████▏     | 211/500 [09:10<12:06,  2.52s/it]\u001b[A\n",
            " 42%|████▏     | 212/500 [09:12<12:07,  2.53s/it]\u001b[A\n",
            " 43%|████▎     | 213/500 [09:15<12:11,  2.55s/it]\u001b[A\n",
            " 43%|████▎     | 214/500 [09:18<12:40,  2.66s/it]\u001b[A\n",
            " 43%|████▎     | 215/500 [09:20<12:21,  2.60s/it]\u001b[A\n",
            " 43%|████▎     | 216/500 [09:22<11:44,  2.48s/it]\u001b[A\n",
            " 43%|████▎     | 217/500 [09:25<11:51,  2.52s/it]\u001b[A\n",
            " 44%|████▎     | 218/500 [09:28<12:24,  2.64s/it]\u001b[A\n",
            " 44%|████▍     | 219/500 [09:31<13:10,  2.81s/it]\u001b[A\n",
            " 44%|████▍     | 220/500 [09:34<12:37,  2.70s/it]\u001b[A\n",
            " 44%|████▍     | 221/500 [09:36<11:41,  2.51s/it]\u001b[A\n",
            " 44%|████▍     | 222/500 [09:38<11:37,  2.51s/it]\u001b[A\n",
            " 45%|████▍     | 223/500 [09:41<11:42,  2.54s/it]\u001b[A\n",
            " 45%|████▍     | 224/500 [09:44<12:13,  2.66s/it]\u001b[A\n",
            " 45%|████▌     | 225/500 [09:46<11:58,  2.61s/it]\u001b[A\n",
            " 45%|████▌     | 226/500 [09:48<11:17,  2.47s/it]\u001b[A\n",
            " 45%|████▌     | 227/500 [09:51<11:06,  2.44s/it]\u001b[A\n",
            " 46%|████▌     | 228/500 [09:53<11:15,  2.48s/it]\u001b[A\n",
            " 46%|████▌     | 229/500 [09:56<11:28,  2.54s/it]\u001b[A\n",
            " 46%|████▌     | 230/500 [09:58<11:05,  2.46s/it]\u001b[A\n",
            " 46%|████▌     | 231/500 [10:01<10:49,  2.41s/it]\u001b[A\n",
            " 46%|████▋     | 232/500 [10:03<11:00,  2.47s/it]\u001b[A\n",
            " 47%|████▋     | 233/500 [10:06<11:24,  2.56s/it]\u001b[A\n",
            " 47%|████▋     | 234/500 [10:09<11:57,  2.70s/it]\u001b[A\n",
            " 47%|████▋     | 235/500 [10:11<11:29,  2.60s/it]\u001b[A\n",
            " 47%|████▋     | 236/500 [10:14<11:00,  2.50s/it]\u001b[A\n",
            " 47%|████▋     | 237/500 [10:16<11:01,  2.51s/it]\u001b[A\n",
            " 48%|████▊     | 238/500 [10:19<11:04,  2.54s/it]\u001b[A\n",
            " 48%|████▊     | 239/500 [10:22<11:20,  2.61s/it]\u001b[A\n",
            " 48%|████▊     | 240/500 [10:24<10:58,  2.53s/it]\u001b[A\n",
            " 48%|████▊     | 241/500 [10:26<10:37,  2.46s/it]\u001b[A\n",
            " 48%|████▊     | 242/500 [10:29<10:44,  2.50s/it]\u001b[A\n",
            " 49%|████▊     | 243/500 [10:32<11:13,  2.62s/it]\u001b[A\n",
            " 49%|████▉     | 244/500 [10:34<11:28,  2.69s/it]\u001b[A\n",
            " 49%|████▉     | 245/500 [10:37<11:02,  2.60s/it]\u001b[A\n",
            " 49%|████▉     | 246/500 [10:39<10:34,  2.50s/it]\u001b[A\n",
            " 49%|████▉     | 247/500 [10:42<10:56,  2.59s/it]\u001b[A\n",
            " 50%|████▉     | 248/500 [10:45<11:35,  2.76s/it]\u001b[A\n",
            " 50%|████▉     | 249/500 [10:48<12:13,  2.92s/it]\u001b[A\n",
            " 50%|█████     | 250/500 [10:51<11:36,  2.79s/it]\u001b[A\n",
            " 50%|█████     | 251/500 [10:53<10:48,  2.61s/it]\u001b[A\n",
            " 50%|█████     | 252/500 [10:56<10:47,  2.61s/it]\u001b[A\n",
            " 51%|█████     | 253/500 [10:58<10:59,  2.67s/it]\u001b[A\n",
            " 51%|█████     | 254/500 [11:01<11:14,  2.74s/it]\u001b[A\n",
            " 51%|█████     | 255/500 [11:04<10:44,  2.63s/it]\u001b[A\n",
            " 51%|█████     | 256/500 [11:06<10:14,  2.52s/it]\u001b[A\n",
            " 51%|█████▏    | 257/500 [11:09<10:12,  2.52s/it]\u001b[A\n",
            " 52%|█████▏    | 258/500 [11:11<10:30,  2.60s/it]\u001b[A\n",
            " 52%|█████▏    | 259/500 [11:14<10:39,  2.66s/it]\u001b[A\n",
            " 52%|█████▏    | 260/500 [11:16<10:10,  2.54s/it]\u001b[A\n",
            " 52%|█████▏    | 261/500 [11:19<09:47,  2.46s/it]\u001b[A\n",
            " 52%|█████▏    | 262/500 [11:21<09:47,  2.47s/it]\u001b[A\n",
            " 53%|█████▎    | 263/500 [11:24<10:00,  2.53s/it]\u001b[A\n",
            " 53%|█████▎    | 264/500 [11:27<10:23,  2.64s/it]\u001b[A\n",
            " 53%|█████▎    | 265/500 [11:29<09:56,  2.54s/it]\u001b[A\n",
            " 53%|█████▎    | 266/500 [11:31<09:34,  2.45s/it]\u001b[A\n",
            " 53%|█████▎    | 267/500 [11:34<09:41,  2.50s/it]\u001b[A\n",
            " 54%|█████▎    | 268/500 [11:37<10:01,  2.59s/it]\u001b[A\n",
            " 54%|█████▍    | 269/500 [11:40<10:13,  2.66s/it]\u001b[A\n",
            " 54%|█████▍    | 270/500 [11:42<09:57,  2.60s/it]\u001b[A\n",
            " 54%|█████▍    | 271/500 [11:45<10:01,  2.63s/it]\u001b[A\n",
            " 54%|█████▍    | 272/500 [11:48<10:41,  2.81s/it]\u001b[A\n",
            " 55%|█████▍    | 273/500 [11:51<11:13,  2.97s/it]\u001b[A\n",
            " 55%|█████▍    | 274/500 [11:55<11:43,  3.11s/it]\u001b[A\n",
            " 55%|█████▌    | 275/500 [11:58<11:47,  3.15s/it]\u001b[A\n",
            " 55%|█████▌    | 276/500 [12:01<11:23,  3.05s/it]\u001b[A\n",
            " 55%|█████▌    | 277/500 [12:04<11:40,  3.14s/it]\u001b[A\n",
            " 56%|█████▌    | 278/500 [12:08<12:20,  3.34s/it]\u001b[A\n",
            " 56%|█████▌    | 279/500 [12:12<13:00,  3.53s/it]\u001b[A\n",
            " 56%|█████▌    | 280/500 [12:16<13:04,  3.57s/it]\u001b[A\n",
            " 56%|█████▌    | 281/500 [12:18<11:56,  3.27s/it]\u001b[A\n",
            " 56%|█████▋    | 282/500 [12:21<11:43,  3.23s/it]\u001b[A\n",
            " 57%|█████▋    | 283/500 [12:25<11:53,  3.29s/it]\u001b[A\n",
            " 57%|█████▋    | 284/500 [12:29<12:28,  3.46s/it]\u001b[A\n",
            " 57%|█████▋    | 285/500 [12:32<12:35,  3.51s/it]\u001b[A\n",
            " 57%|█████▋    | 286/500 [12:35<11:41,  3.28s/it]\u001b[A\n",
            " 57%|█████▋    | 287/500 [12:38<11:33,  3.26s/it]\u001b[A\n",
            " 58%|█████▊    | 288/500 [12:41<11:34,  3.28s/it]\u001b[A\n",
            " 58%|█████▊    | 289/500 [12:45<11:50,  3.37s/it]\u001b[A\n",
            " 58%|█████▊    | 290/500 [12:48<11:45,  3.36s/it]\u001b[A\n",
            " 58%|█████▊    | 291/500 [12:51<11:04,  3.18s/it]\u001b[A\n",
            " 58%|█████▊    | 292/500 [12:54<11:06,  3.21s/it]\u001b[A\n",
            " 59%|█████▊    | 293/500 [12:58<11:31,  3.34s/it]\u001b[A\n",
            " 59%|█████▉    | 294/500 [13:02<12:12,  3.55s/it]\u001b[A\n",
            " 59%|█████▉    | 295/500 [13:06<12:17,  3.60s/it]\u001b[A\n",
            " 59%|█████▉    | 296/500 [13:08<11:05,  3.26s/it]\u001b[A\n",
            " 59%|█████▉    | 297/500 [13:11<10:53,  3.22s/it]\u001b[A\n",
            " 60%|█████▉    | 298/500 [13:15<11:15,  3.35s/it]\u001b[A\n",
            " 60%|█████▉    | 299/500 [13:19<11:49,  3.53s/it]\u001b[A\n",
            " 60%|██████    | 300/500 [13:22<11:40,  3.50s/it]\u001b[A\n",
            " 60%|██████    | 301/500 [13:25<10:53,  3.28s/it]\u001b[A\n",
            " 60%|██████    | 302/500 [13:29<10:51,  3.29s/it]\u001b[A\n",
            " 61%|██████    | 303/500 [13:32<11:08,  3.39s/it]\u001b[A\n",
            " 61%|██████    | 304/500 [13:36<11:21,  3.48s/it]\u001b[A\n",
            " 61%|██████    | 305/500 [13:39<11:03,  3.40s/it]\u001b[A\n",
            " 61%|██████    | 306/500 [13:42<10:31,  3.25s/it]\u001b[A\n",
            " 61%|██████▏   | 307/500 [13:45<10:38,  3.31s/it]\u001b[A\n",
            " 62%|██████▏   | 308/500 [13:49<11:07,  3.48s/it]\u001b[A\n",
            " 62%|██████▏   | 309/500 [13:53<11:44,  3.69s/it]\u001b[A\n",
            " 62%|██████▏   | 310/500 [13:57<11:26,  3.61s/it]\u001b[A\n",
            " 62%|██████▏   | 311/500 [14:00<10:41,  3.39s/it]\u001b[A\n",
            " 62%|██████▏   | 312/500 [14:03<10:33,  3.37s/it]\u001b[A\n",
            " 63%|██████▎   | 313/500 [14:07<10:56,  3.51s/it]\u001b[A\n",
            " 63%|██████▎   | 314/500 [14:11<11:06,  3.58s/it]\u001b[A\n",
            " 63%|██████▎   | 315/500 [14:14<10:48,  3.50s/it]\u001b[A\n",
            " 63%|██████▎   | 316/500 [14:17<10:00,  3.26s/it]\u001b[A\n",
            " 63%|██████▎   | 317/500 [14:20<10:01,  3.29s/it]\u001b[A\n",
            " 64%|██████▎   | 318/500 [14:23<10:01,  3.30s/it]\u001b[A\n",
            " 64%|██████▍   | 319/500 [14:27<10:14,  3.40s/it]\u001b[A\n",
            " 64%|██████▍   | 320/500 [14:30<10:01,  3.34s/it]\u001b[A\n",
            " 64%|██████▍   | 321/500 [14:33<09:25,  3.16s/it]\u001b[A\n",
            " 64%|██████▍   | 322/500 [14:37<09:47,  3.30s/it]\u001b[A\n",
            " 65%|██████▍   | 323/500 [14:40<10:13,  3.46s/it]\u001b[A\n",
            " 65%|██████▍   | 324/500 [14:45<10:51,  3.70s/it]\u001b[A\n",
            " 65%|██████▌   | 325/500 [14:48<10:34,  3.62s/it]\u001b[A\n",
            " 65%|██████▌   | 326/500 [14:51<09:35,  3.31s/it]\u001b[A\n",
            " 65%|██████▌   | 327/500 [14:54<09:43,  3.37s/it]\u001b[A\n",
            " 66%|██████▌   | 328/500 [14:58<10:03,  3.51s/it]\u001b[A\n",
            " 66%|██████▌   | 329/500 [15:02<10:21,  3.63s/it]\u001b[A\n",
            " 66%|██████▌   | 330/500 [15:05<10:06,  3.57s/it]\u001b[A\n",
            " 66%|██████▌   | 331/500 [15:08<09:18,  3.30s/it]\u001b[A\n",
            " 66%|██████▋   | 332/500 [15:11<09:05,  3.25s/it]\u001b[A\n",
            " 67%|██████▋   | 333/500 [15:15<09:16,  3.33s/it]\u001b[A\n",
            " 67%|██████▋   | 334/500 [15:18<09:32,  3.45s/it]\u001b[A\n",
            " 67%|██████▋   | 335/500 [15:22<09:12,  3.35s/it]\u001b[A\n",
            " 67%|██████▋   | 336/500 [15:24<08:43,  3.19s/it]\u001b[A\n",
            " 67%|██████▋   | 337/500 [15:28<08:57,  3.30s/it]\u001b[A\n",
            " 68%|██████▊   | 338/500 [15:32<09:18,  3.45s/it]\u001b[A\n",
            " 68%|██████▊   | 339/500 [15:36<09:44,  3.63s/it]\u001b[A\n",
            " 68%|██████▊   | 340/500 [15:39<09:21,  3.51s/it]\u001b[A\n",
            " 68%|██████▊   | 341/500 [15:42<08:38,  3.26s/it]\u001b[A\n",
            " 68%|██████▊   | 342/500 [15:45<08:32,  3.25s/it]\u001b[A\n",
            " 69%|██████▊   | 343/500 [15:49<08:49,  3.37s/it]\u001b[A\n",
            " 69%|██████▉   | 344/500 [15:52<09:09,  3.52s/it]\u001b[A\n",
            " 69%|██████▉   | 345/500 [15:56<08:50,  3.42s/it]\u001b[A\n",
            " 69%|██████▉   | 346/500 [15:58<08:12,  3.20s/it]\u001b[A\n",
            " 69%|██████▉   | 347/500 [16:01<08:09,  3.20s/it]\u001b[A\n",
            " 70%|██████▉   | 348/500 [16:05<08:22,  3.31s/it]\u001b[A\n",
            " 70%|██████▉   | 349/500 [16:08<08:26,  3.35s/it]\u001b[A\n",
            " 70%|███████   | 350/500 [16:12<08:21,  3.34s/it]\u001b[A\n",
            " 70%|███████   | 351/500 [16:15<07:52,  3.17s/it]\u001b[A\n",
            " 70%|███████   | 352/500 [16:18<08:05,  3.28s/it]\u001b[A\n",
            " 71%|███████   | 353/500 [16:22<08:22,  3.42s/it]\u001b[A\n",
            " 71%|███████   | 354/500 [16:26<08:47,  3.61s/it]\u001b[A\n",
            " 71%|███████   | 355/500 [16:29<08:28,  3.50s/it]\u001b[A\n",
            " 71%|███████   | 356/500 [16:32<07:49,  3.26s/it]\u001b[A\n",
            " 71%|███████▏  | 357/500 [16:35<07:51,  3.30s/it]\u001b[A\n",
            " 72%|███████▏  | 358/500 [16:39<08:08,  3.44s/it]\u001b[A\n",
            " 72%|███████▏  | 359/500 [16:43<08:28,  3.61s/it]\u001b[A\n",
            " 72%|███████▏  | 360/500 [16:46<08:07,  3.48s/it]\u001b[A\n",
            " 72%|███████▏  | 361/500 [16:49<07:30,  3.24s/it]\u001b[A\n",
            " 72%|███████▏  | 362/500 [16:52<07:30,  3.26s/it]\u001b[A\n",
            " 73%|███████▎  | 363/500 [16:56<07:51,  3.44s/it]\u001b[A\n",
            " 73%|███████▎  | 364/500 [17:00<07:56,  3.51s/it]\u001b[A\n",
            " 73%|███████▎  | 365/500 [17:03<07:40,  3.41s/it]\u001b[A\n",
            " 73%|███████▎  | 366/500 [17:06<07:12,  3.22s/it]\u001b[A\n",
            " 73%|███████▎  | 367/500 [17:09<07:17,  3.29s/it]\u001b[A\n",
            " 74%|███████▎  | 368/500 [17:13<07:38,  3.47s/it]\u001b[A\n",
            " 74%|███████▍  | 369/500 [17:17<08:05,  3.71s/it]\u001b[A\n",
            " 74%|███████▍  | 370/500 [17:20<07:41,  3.55s/it]\u001b[A\n",
            " 74%|███████▍  | 371/500 [17:23<07:04,  3.29s/it]\u001b[A\n",
            " 74%|███████▍  | 372/500 [17:26<06:58,  3.27s/it]\u001b[A\n",
            " 75%|███████▍  | 373/500 [17:30<07:04,  3.34s/it]\u001b[A\n",
            " 75%|███████▍  | 374/500 [17:34<07:21,  3.50s/it]\u001b[A\n",
            " 75%|███████▌  | 375/500 [17:37<07:02,  3.38s/it]\u001b[A\n",
            " 75%|███████▌  | 376/500 [17:39<06:29,  3.14s/it]\u001b[A\n",
            " 75%|███████▌  | 377/500 [17:43<06:25,  3.14s/it]\u001b[A\n",
            " 76%|███████▌  | 378/500 [17:46<06:32,  3.21s/it]\u001b[A\n",
            " 76%|███████▌  | 379/500 [17:50<06:44,  3.34s/it]\u001b[A\n",
            " 76%|███████▌  | 380/500 [17:53<06:29,  3.25s/it]\u001b[A\n",
            " 76%|███████▌  | 381/500 [17:55<06:05,  3.08s/it]\u001b[A\n",
            " 76%|███████▋  | 382/500 [17:59<06:08,  3.12s/it]\u001b[A\n",
            " 77%|███████▋  | 383/500 [18:02<06:27,  3.32s/it]\u001b[A\n",
            " 77%|███████▋  | 384/500 [18:06<06:45,  3.50s/it]\u001b[A\n",
            " 77%|███████▋  | 385/500 [18:10<06:35,  3.44s/it]\u001b[A\n",
            " 77%|███████▋  | 386/500 [18:12<06:09,  3.25s/it]\u001b[A\n",
            " 77%|███████▋  | 387/500 [18:16<06:13,  3.31s/it]\u001b[A\n",
            " 78%|███████▊  | 388/500 [18:20<06:24,  3.44s/it]\u001b[A\n",
            " 78%|███████▊  | 389/500 [18:23<06:39,  3.60s/it]\u001b[A\n",
            " 78%|███████▊  | 390/500 [18:27<06:20,  3.46s/it]\u001b[A\n",
            " 78%|███████▊  | 391/500 [18:29<05:54,  3.25s/it]\u001b[A\n",
            " 78%|███████▊  | 392/500 [18:33<05:51,  3.26s/it]\u001b[A\n",
            " 79%|███████▊  | 393/500 [18:36<05:56,  3.33s/it]\u001b[A\n",
            " 79%|███████▉  | 394/500 [18:40<06:06,  3.46s/it]\u001b[A\n",
            " 79%|███████▉  | 395/500 [18:43<05:52,  3.35s/it]\u001b[A\n",
            " 79%|███████▉  | 396/500 [18:46<05:31,  3.19s/it]\u001b[A\n",
            " 79%|███████▉  | 397/500 [18:49<05:36,  3.26s/it]\u001b[A\n",
            " 80%|███████▉  | 398/500 [18:53<05:57,  3.51s/it]\u001b[A\n",
            " 80%|███████▉  | 399/500 [18:58<06:21,  3.78s/it]\u001b[A\n",
            " 80%|████████  | 400/500 [19:01<05:59,  3.59s/it]\u001b[A\n",
            " 80%|████████  | 401/500 [19:04<05:29,  3.33s/it]\u001b[A\n",
            " 80%|████████  | 402/500 [19:07<05:29,  3.36s/it]\u001b[A\n",
            " 81%|████████  | 403/500 [19:11<05:31,  3.42s/it]\u001b[A\n",
            " 81%|████████  | 404/500 [19:14<05:40,  3.55s/it]\u001b[A\n",
            " 81%|████████  | 405/500 [19:18<05:27,  3.44s/it]\u001b[A\n",
            " 81%|████████  | 406/500 [19:20<05:02,  3.22s/it]\u001b[A\n",
            " 81%|████████▏ | 407/500 [19:23<04:56,  3.19s/it]\u001b[A\n",
            " 82%|████████▏ | 408/500 [19:27<04:55,  3.21s/it]\u001b[A\n",
            " 82%|████████▏ | 409/500 [19:30<04:58,  3.28s/it]\u001b[A\n",
            " 82%|████████▏ | 410/500 [19:33<04:48,  3.20s/it]\u001b[A\n",
            " 82%|████████▏ | 411/500 [19:36<04:30,  3.04s/it]\u001b[A\n",
            " 82%|████████▏ | 412/500 [19:39<04:34,  3.12s/it]\u001b[A\n",
            " 83%|████████▎ | 413/500 [19:43<04:45,  3.28s/it]\u001b[A\n",
            " 83%|████████▎ | 414/500 [19:47<04:59,  3.49s/it]\u001b[A\n",
            " 83%|████████▎ | 415/500 [19:50<04:44,  3.35s/it]\u001b[A\n",
            " 83%|████████▎ | 416/500 [19:53<04:24,  3.15s/it]\u001b[A\n",
            " 83%|████████▎ | 417/500 [19:56<04:24,  3.19s/it]\u001b[A\n",
            " 84%|████████▎ | 418/500 [20:00<04:35,  3.36s/it]\u001b[A\n",
            " 84%|████████▍ | 419/500 [20:03<04:43,  3.50s/it]\u001b[A\n",
            " 84%|████████▍ | 420/500 [20:07<04:30,  3.38s/it]\u001b[A\n",
            " 84%|████████▍ | 421/500 [20:09<04:13,  3.20s/it]\u001b[A\n",
            " 84%|████████▍ | 422/500 [20:12<04:09,  3.20s/it]\u001b[A\n",
            " 85%|████████▍ | 423/500 [20:16<04:13,  3.30s/it]\u001b[A\n",
            " 85%|████████▍ | 424/500 [20:20<04:22,  3.45s/it]\u001b[A\n",
            " 85%|████████▌ | 425/500 [20:23<04:10,  3.34s/it]\u001b[A\n",
            " 85%|████████▌ | 426/500 [20:26<03:54,  3.17s/it]\u001b[A\n",
            " 85%|████████▌ | 427/500 [20:29<03:58,  3.27s/it]\u001b[A\n",
            " 86%|████████▌ | 428/500 [20:33<04:07,  3.44s/it]\u001b[A\n",
            " 86%|████████▌ | 429/500 [20:37<04:22,  3.70s/it]\u001b[A\n",
            " 86%|████████▌ | 430/500 [20:41<04:08,  3.55s/it]\u001b[A\n",
            " 86%|████████▌ | 431/500 [20:43<03:47,  3.30s/it]\u001b[A\n",
            " 86%|████████▋ | 432/500 [20:46<03:42,  3.28s/it]\u001b[A\n",
            " 87%|████████▋ | 433/500 [20:50<03:44,  3.35s/it]\u001b[A\n",
            " 87%|████████▋ | 434/500 [20:54<03:49,  3.47s/it]\u001b[A\n",
            " 87%|████████▋ | 435/500 [20:57<03:41,  3.40s/it]\u001b[A\n",
            " 87%|████████▋ | 436/500 [21:00<03:25,  3.21s/it]\u001b[A\n",
            " 87%|████████▋ | 437/500 [21:03<03:22,  3.22s/it]\u001b[A\n",
            " 88%|████████▊ | 438/500 [21:06<03:23,  3.28s/it]\u001b[A\n",
            " 88%|████████▊ | 439/500 [21:10<03:24,  3.35s/it]\u001b[A\n",
            " 88%|████████▊ | 440/500 [21:13<03:17,  3.29s/it]\u001b[A\n",
            " 88%|████████▊ | 441/500 [21:16<03:04,  3.13s/it]\u001b[A\n",
            " 88%|████████▊ | 442/500 [21:19<03:06,  3.22s/it]\u001b[A\n",
            " 89%|████████▊ | 443/500 [21:23<03:12,  3.38s/it]\u001b[A\n",
            " 89%|████████▉ | 444/500 [21:27<03:17,  3.53s/it]\u001b[A\n",
            " 89%|████████▉ | 445/500 [21:30<03:06,  3.40s/it]\u001b[A\n",
            " 89%|████████▉ | 446/500 [21:33<02:51,  3.18s/it]\u001b[A\n",
            " 89%|████████▉ | 447/500 [21:36<02:50,  3.23s/it]\u001b[A\n",
            " 90%|████████▉ | 448/500 [21:40<02:56,  3.38s/it]\u001b[A\n",
            " 90%|████████▉ | 449/500 [21:44<02:59,  3.52s/it]\u001b[A\n",
            " 90%|█████████ | 450/500 [21:47<02:48,  3.37s/it]\u001b[A\n",
            " 90%|█████████ | 451/500 [21:49<02:36,  3.19s/it]\u001b[A\n",
            " 90%|█████████ | 452/500 [21:53<02:33,  3.20s/it]\u001b[A\n",
            " 91%|█████████ | 453/500 [21:56<02:36,  3.33s/it]\u001b[A\n",
            " 91%|█████████ | 454/500 [22:00<02:37,  3.42s/it]\u001b[A\n",
            " 91%|█████████ | 455/500 [22:03<02:26,  3.25s/it]\u001b[A\n",
            " 91%|█████████ | 456/500 [22:06<02:17,  3.12s/it]\u001b[A\n",
            " 91%|█████████▏| 457/500 [22:09<02:17,  3.21s/it]\u001b[A\n",
            " 92%|█████████▏| 458/500 [22:13<02:23,  3.41s/it]\u001b[A\n",
            " 92%|█████████▏| 459/500 [22:17<02:31,  3.70s/it]\u001b[A\n",
            " 92%|█████████▏| 460/500 [22:20<02:19,  3.49s/it]\u001b[A\n",
            " 92%|█████████▏| 461/500 [22:23<02:06,  3.25s/it]\u001b[A\n",
            " 92%|█████████▏| 462/500 [22:26<02:03,  3.24s/it]\u001b[A\n",
            " 93%|█████████▎| 463/500 [22:30<02:03,  3.35s/it]\u001b[A\n",
            " 93%|█████████▎| 464/500 [22:33<02:05,  3.48s/it]\u001b[A\n",
            " 93%|█████████▎| 465/500 [22:36<01:56,  3.33s/it]\u001b[A\n",
            " 93%|█████████▎| 466/500 [22:39<01:46,  3.13s/it]\u001b[A\n",
            " 93%|█████████▎| 467/500 [22:42<01:43,  3.15s/it]\u001b[A\n",
            " 94%|█████████▎| 468/500 [22:46<01:42,  3.20s/it]\u001b[A\n",
            " 94%|█████████▍| 469/500 [22:49<01:41,  3.26s/it]\u001b[A\n",
            " 94%|█████████▍| 470/500 [22:52<01:34,  3.15s/it]\u001b[A\n",
            " 94%|█████████▍| 471/500 [22:55<01:27,  3.00s/it]\u001b[A\n",
            " 94%|█████████▍| 472/500 [22:58<01:25,  3.06s/it]\u001b[A\n",
            " 95%|█████████▍| 473/500 [23:01<01:26,  3.20s/it]\u001b[A\n",
            " 95%|█████████▍| 474/500 [23:05<01:27,  3.35s/it]\u001b[A\n",
            " 95%|█████████▌| 475/500 [23:08<01:21,  3.24s/it]\u001b[A\n",
            " 95%|█████████▌| 476/500 [23:11<01:14,  3.10s/it]\u001b[A\n",
            " 95%|█████████▌| 477/500 [23:14<01:12,  3.13s/it]\u001b[A\n",
            " 96%|█████████▌| 478/500 [23:18<01:13,  3.32s/it]\u001b[A\n",
            " 96%|█████████▌| 479/500 [23:22<01:12,  3.47s/it]\u001b[A\n",
            " 96%|█████████▌| 480/500 [23:25<01:07,  3.35s/it]\u001b[A\n",
            " 96%|█████████▌| 481/500 [23:27<01:00,  3.19s/it]\u001b[A\n",
            " 96%|█████████▋| 482/500 [23:31<00:57,  3.21s/it]\u001b[A\n",
            " 97%|█████████▋| 483/500 [23:34<00:56,  3.33s/it]\u001b[A\n",
            " 97%|█████████▋| 484/500 [23:38<00:54,  3.43s/it]\u001b[A\n",
            " 97%|█████████▋| 485/500 [23:41<00:49,  3.30s/it]\u001b[A\n",
            " 97%|█████████▋| 486/500 [23:44<00:43,  3.11s/it]\u001b[A\n",
            " 97%|█████████▋| 487/500 [23:47<00:41,  3.18s/it]\u001b[A\n",
            " 98%|█████████▊| 488/500 [23:51<00:40,  3.40s/it]\u001b[A\n",
            " 98%|█████████▊| 489/500 [23:55<00:40,  3.64s/it]\u001b[A\n",
            " 98%|█████████▊| 490/500 [23:58<00:34,  3.46s/it]\u001b[A\n",
            " 98%|█████████▊| 491/500 [24:01<00:28,  3.21s/it]\u001b[A\n",
            " 98%|█████████▊| 492/500 [24:04<00:25,  3.25s/it]\u001b[A\n",
            " 99%|█████████▊| 493/500 [24:08<00:23,  3.33s/it]\u001b[A\n",
            " 99%|█████████▉| 494/500 [24:11<00:20,  3.48s/it]\u001b[A\n",
            " 99%|█████████▉| 495/500 [24:14<00:16,  3.33s/it]\u001b[A\n",
            " 99%|█████████▉| 496/500 [24:17<00:12,  3.18s/it]\u001b[A\n",
            " 99%|█████████▉| 497/500 [24:20<00:09,  3.16s/it]\u001b[A\n",
            "100%|█████████▉| 498/500 [24:24<00:06,  3.23s/it]\u001b[A\n",
            "100%|█████████▉| 499/500 [24:27<00:03,  3.28s/it]\u001b[A\n",
            "100%|██████████| 500/500 [24:30<00:00,  3.17s/it]\u001b[A\n",
            "501it [24:33,  3.02s/it]                         \u001b[A\n",
            "502it [24:36,  3.05s/it]\u001b[A\n",
            "503it [24:39,  3.16s/it]\u001b[A\n",
            "504it [24:43,  3.36s/it]\u001b[A\n",
            "505it [24:46,  3.25s/it]\u001b[A\n",
            "506it [24:49,  3.08s/it]\u001b[A\n",
            "507it [24:52,  3.14s/it]\u001b[A\n",
            "508it [24:55,  3.23s/it]\u001b[A\n",
            "509it [24:59,  3.38s/it]\u001b[A\n",
            "510it [25:02,  3.23s/it]\u001b[A\n",
            "511it [25:05,  3.09s/it]\u001b[A\n",
            "512it [25:08,  3.15s/it]\u001b[A\n",
            "513it [25:12,  3.32s/it]\u001b[A\n",
            "514it [25:16,  3.51s/it]\u001b[A\n",
            "515it [25:19,  3.38s/it]\u001b[A\n",
            "516it [25:22,  3.20s/it]\u001b[A\n",
            "517it [25:25,  3.29s/it]\u001b[A\n",
            "518it [25:29,  3.45s/it]\u001b[A\n",
            "519it [25:33,  3.71s/it]\u001b[A\n",
            "520it [25:36,  3.53s/it]\u001b[A\n",
            "521it [25:39,  3.34s/it]\u001b[A\n",
            "522it [25:43,  3.33s/it]\u001b[A\n",
            "523it [25:46,  3.39s/it]\u001b[A\n",
            "524it [25:50,  3.49s/it]\u001b[A\n",
            "525it [25:53,  3.31s/it]\u001b[A\n",
            "526it [25:56,  3.16s/it]\u001b[A\n",
            "527it [25:59,  3.17s/it]\u001b[A\n",
            "528it [26:02,  3.24s/it]\u001b[A\n",
            "529it [26:06,  3.29s/it]\u001b[A\n",
            "530it [26:08,  3.14s/it]\u001b[A\n",
            "531it [26:11,  3.03s/it]\u001b[A\n",
            "532it [26:15,  3.15s/it]\u001b[A\n",
            "533it [26:18,  3.26s/it]\u001b[A\n",
            "534it [26:22,  3.44s/it]\u001b[A\n",
            "535it [26:25,  3.30s/it]\u001b[A\n",
            "536it [26:28,  3.12s/it]\u001b[A\n",
            "537it [26:31,  3.18s/it]\u001b[A\n",
            "538it [26:34,  3.27s/it]\u001b[A\n",
            "539it [26:38,  3.38s/it]\u001b[A\n",
            "540it [26:41,  2.97s/it]\n"
          ]
        }
      ]
    },
    {
      "cell_type": "code",
      "source": [
        "lda_model_2 = gensim.models.LdaMulticore(corpus=corpus,\n",
        "                                           id2word=id2word,\n",
        "                                           num_topics=3, \n",
        "                                           random_state=100,\n",
        "                                           chunksize=100,\n",
        "                                           passes=10,\n",
        "                                           alpha=0.9099,\n",
        "                                           eta=0.61)"
      ],
      "metadata": {
        "id": "-eYRUYN05vAE"
      },
      "execution_count": null,
      "outputs": []
    },
    {
      "cell_type": "code",
      "source": [
        "coherence_model_lda = CoherenceModel(model=lda_model_2, texts=full_dialog_df['lemmas'], dictionary=id2word, coherence='u_mass')\n",
        "coherence_lda = coherence_model_lda.get_coherence()\n",
        "print('\\nCoherence Score: ', coherence_lda)"
      ],
      "metadata": {
        "id": "bHV5SvanPh3M",
        "colab": {
          "base_uri": "https://localhost:8080/"
        },
        "outputId": "3b283ca8-586c-472f-c381-b412458b47cd"
      },
      "execution_count": null,
      "outputs": [
        {
          "output_type": "stream",
          "name": "stdout",
          "text": [
            "\n",
            "Coherence Score:  -8.74557341002704\n"
          ]
        }
      ]
    },
    {
      "cell_type": "code",
      "source": [
        "lda_model_2.print_topics()"
      ],
      "metadata": {
        "id": "InBvFFtDQuR0",
        "colab": {
          "base_uri": "https://localhost:8080/"
        },
        "outputId": "a706bce5-1987-45f7-9834-c2825938e54b"
      },
      "execution_count": null,
      "outputs": [
        {
          "output_type": "execute_result",
          "data": {
            "text/plain": [
              "[(0,\n",
              "  '0.015*\"little\" + 0.010*\"pull\" + 0.010*\"back\" + 0.010*\"bit\" + 0.010*\"room\" + 0.009*\"begin\" + 0.009*\"stone\" + 0.009*\"foot\" + 0.008*\"rest\" + 0.008*\"look\"'),\n",
              " (1,\n",
              "  '0.025*\"laughter\" + 0.019*\"point\" + 0.016*\"feel\" + 0.015*\"damage\" + 0.012*\"ill\" + 0.012*\"let\" + 0.011*\"look\" + 0.010*\"time\" + 0.010*\"check\" + 0.010*\"laugh\"'),\n",
              " (2,\n",
              "  '0.023*\"hit\" + 0.017*\"really\" + 0.017*\"thing\" + 0.013*\"way\" + 0.013*\"turn\" + 0.013*\"shade\" + 0.012*\"still\" + 0.011*\"great\" + 0.011*\"pretty\" + 0.011*\"throw\"')]"
            ]
          },
          "metadata": {},
          "execution_count": 69
        }
      ]
    },
    {
      "cell_type": "code",
      "source": [
        "pyLDAvis.enable_notebook()\n",
        "vis = pyLDAvis.gensim_models.prepare(lda_model_2, corpus, id2word)\n",
        "vis"
      ],
      "metadata": {
        "id": "0P1TpRDf7E3q",
        "colab": {
          "base_uri": "https://localhost:8080/",
          "height": 861
        },
        "outputId": "0f6224d1-7bb9-4fa4-b339-2415b550a47e"
      },
      "execution_count": null,
      "outputs": [
        {
          "output_type": "execute_result",
          "data": {
            "text/plain": [
              "PreparedData(topic_coordinates=              x         y  topics  cluster       Freq\n",
              "topic                                                \n",
              "0     -0.075517  0.135857       1        1  42.248502\n",
              "2     -0.095681 -0.125592       2        1  28.909992\n",
              "1      0.171197 -0.010265       3        1  28.841506, topic_info=         Term       Freq      Total Category  logprob  loglift\n",
              "307  laughter  78.000000  78.000000  Default  30.0000  30.0000\n",
              "536       hit  72.000000  72.000000  Default  29.0000  29.0000\n",
              "466    really  53.000000  53.000000  Default  28.0000  28.0000\n",
              "365     point  62.000000  62.000000  Default  27.0000  27.0000\n",
              "232     thing  53.000000  53.000000  Default  26.0000  26.0000\n",
              "..        ...        ...        ...      ...      ...      ...\n",
              "127      look  34.486755  70.749887   Topic3  -4.4927   0.5248\n",
              "396      much  17.269608  22.845122   Topic3  -5.1843   0.9636\n",
              "356     leave  18.299170  26.316380   Topic3  -5.1264   0.8800\n",
              "136      mean  18.149440  39.414771   Topic3  -5.1346   0.4679\n",
              "106      help  15.145275  20.535803   Topic3  -5.3156   0.9389\n",
              "\n",
              "[155 rows x 6 columns], token_table=      Topic      Freq    Term\n",
              "term                         \n",
              "868       1  0.052537  action\n",
              "868       2  0.945662  action\n",
              "961       1  0.101176     add\n",
              "961       2  0.101176     add\n",
              "961       3  0.910583     add\n",
              "...     ...       ...     ...\n",
              "378       2  0.030347    well\n",
              "378       3  0.819360    well\n",
              "371       1  0.067645    work\n",
              "371       2  0.067645    work\n",
              "371       3  0.947026    work\n",
              "\n",
              "[316 rows x 3 columns], R=30, lambda_step=0.01, plot_opts={'xlab': 'PC1', 'ylab': 'PC2'}, topic_order=[1, 3, 2])"
            ],
            "text/html": [
              "\n",
              "<link rel=\"stylesheet\" type=\"text/css\" href=\"https://cdn.jsdelivr.net/gh/bmabey/pyLDAvis@3.3.1/pyLDAvis/js/ldavis.v1.0.0.css\">\n",
              "\n",
              "\n",
              "<div id=\"ldavis_el3881397558264948007579544029\"></div>\n",
              "<script type=\"text/javascript\">\n",
              "\n",
              "var ldavis_el3881397558264948007579544029_data = {\"mdsDat\": {\"x\": [-0.07551650044391378, -0.09568072786933464, 0.17119722831324835], \"y\": [0.13585696679640494, -0.12559215956018493, -0.01026480723621998], \"topics\": [1, 2, 3], \"cluster\": [1, 1, 1], \"Freq\": [42.24850166649095, 28.909992154894926, 28.841506178614125]}, \"tinfo\": {\"Term\": [\"laughter\", \"hit\", \"really\", \"point\", \"thing\", \"damage\", \"turn\", \"ill\", \"way\", \"let\", \"feel\", \"great\", \"pretty\", \"throw\", \"little\", \"shade\", \"pull\", \"laugh\", \"bit\", \"time\", \"begin\", \"check\", \"room\", \"people\", \"hear\", \"stone\", \"foot\", \"ball\", \"maybe\", \"still\", \"begin\", \"bit\", \"pull\", \"side\", \"stone\", \"rest\", \"foot\", \"room\", \"light\", \"hold\", \"eye\", \"space\", \"cage\", \"start\", \"mind\", \"chamber\", \"sit\", \"watch\", \"hand\", \"away\", \"large\", \"stop\", \"top\", \"open\", \"day\", \"part\", \"familiar\", \"break\", \"creature\", \"low\", \"front\", \"little\", \"chain\", \"hurt\", \"night\", \"long\", \"fearne\", \"back\", \"look\", \"machine\", \"still\", \"feel\", \"hit\", \"really\", \"throw\", \"turn\", \"thing\", \"saving\", \"pretty\", \"great\", \"finish\", \"ball\", \"action\", \"dexterity\", \"push\", \"guy\", \"strength\", \"end\", \"big\", \"last\", \"flame\", \"touch\", \"bolt\", \"way\", \"save\", \"second\", \"bad\", \"howl\", \"strong\", \"cut\", \"total\", \"bonus\", \"fall\", \"next\", \"hear\", \"shade\", \"kind\", \"strike\", \"creeper\", \"still\", \"mother\", \"back\", \"mean\", \"laughter\", \"damage\", \"ill\", \"laugh\", \"let\", \"people\", \"maybe\", \"shit\", \"fine\", \"else\", \"happen\", \"poison\", \"fuck\", \"hard\", \"work\", \"keep\", \"probably\", \"drink\", \"fucking\", \"point\", \"pop\", \"wait\", \"disadvantage\", \"time\", \"check\", \"spell\", \"natural\", \"learn\", \"add\", \"walk\", \"give\", \"sleep\", \"well\", \"move\", \"ahead\", \"feel\", \"attack\", \"look\", \"much\", \"leave\", \"mean\", \"help\"], \"Freq\": [78.0, 72.0, 53.0, 62.0, 53.0, 48.0, 40.0, 39.0, 44.0, 39.0, 67.0, 36.0, 36.0, 33.0, 77.0, 48.0, 47.0, 30.0, 46.0, 35.0, 42.0, 33.0, 45.0, 28.0, 35.0, 42.0, 41.0, 25.0, 26.0, 61.0, 41.79300825983617, 45.05859390203105, 46.02995489860168, 33.46344813396791, 40.79077984218202, 36.875675047435294, 40.17580680772379, 44.35376396334806, 30.19002791819783, 22.056899702105504, 26.073765664601634, 23.638268543227035, 26.136164774343076, 20.921306956216405, 26.607992350744677, 17.188166281433073, 21.79113591530854, 14.40234789484386, 14.521949692035916, 19.891795219422846, 13.562258573437584, 15.892933851150383, 23.729226954442236, 12.390912045779272, 20.087796196120458, 12.606168373683984, 14.450725913695415, 12.68680751425774, 14.036148322277413, 11.107631176554223, 20.938271004714363, 69.77695311277152, 14.705706914027658, 16.42541893702322, 19.369661986936404, 20.237641086960608, 18.99655592349758, 46.028453990221564, 35.121525165143844, 15.709360564009147, 22.325965907761237, 18.12951226357023, 70.74901526063452, 52.34775146402672, 32.828426261872394, 39.68131505535392, 51.72626932342577, 23.36698164703159, 34.86744211648272, 35.03146200891272, 21.665950971632203, 24.51996269291128, 17.99208576194252, 14.939754476798921, 19.681532656504743, 15.996259156014169, 15.99010405875821, 19.899062625569854, 14.167644347355955, 13.426736921740114, 14.224757723506421, 11.441127575874644, 12.108462961445962, 40.65399015805999, 10.460276363609593, 11.678911540479023, 16.163552944530764, 10.902749317329576, 9.709535742190587, 8.080047463875182, 9.214937213146275, 8.485515035027559, 18.635235168251935, 20.019812716514338, 30.16296851547193, 39.42031534123738, 17.96103121773619, 17.83944539145501, 23.737794970569585, 38.03560114089754, 20.67643601765819, 24.934573726486537, 19.7244586701323, 77.28742721488494, 46.80571244004203, 38.06957605906771, 29.346352126067757, 37.704807296485946, 27.326565717991453, 24.81241250592798, 17.81654634982825, 20.105492291069464, 20.872898963776414, 17.420168063848894, 17.677119751390556, 13.928806012613286, 18.64217384124696, 13.626555999581612, 23.974425055140156, 13.784330959855312, 14.619030744683002, 13.072610833452615, 57.354487878003404, 11.435595706277537, 17.145328660814837, 11.017658884410311, 32.256474639039155, 30.209649295117867, 10.702892493157643, 19.53639171673227, 9.399204504301311, 8.77855028543428, 10.204145961317861, 23.283167097626837, 24.82070988025426, 27.448446139347276, 17.666778886742485, 14.59769894437859, 48.51036508781905, 16.349262897365918, 34.486754900613725, 17.269608461256365, 18.29917025964179, 18.14944010747482, 15.145275423676038], \"Total\": [78.0, 72.0, 53.0, 62.0, 53.0, 48.0, 40.0, 39.0, 44.0, 39.0, 67.0, 36.0, 36.0, 33.0, 77.0, 48.0, 47.0, 30.0, 46.0, 35.0, 42.0, 33.0, 45.0, 28.0, 35.0, 42.0, 41.0, 25.0, 26.0, 61.0, 42.70028924500898, 46.05854036698605, 47.17691701630713, 34.420623031113, 42.06415654383076, 38.090502278645126, 41.510313693972265, 45.83555365951356, 31.46638817971769, 23.017607564228772, 27.2144658511435, 24.740266140318564, 27.536289916920545, 22.09162832384007, 28.12712921940341, 18.17459547139398, 23.25087021344302, 15.370729137681613, 15.518109209956746, 21.295466128850443, 14.521422282230963, 17.020576362337117, 25.466688614206724, 13.302256024707539, 21.578956766048346, 13.544228775222235, 15.585424428279511, 13.690011567710911, 15.15344496926691, 12.02942003341357, 22.68355001796267, 77.67397632304613, 15.960141163078067, 18.039118093882447, 21.761544245364885, 23.306453700605335, 21.989848256404056, 71.58023713324545, 70.74988734346645, 19.42667179631017, 61.788420353636994, 67.35675338540581, 72.16907636957724, 53.83868423815809, 33.81107896705764, 40.96598621243171, 53.622308919563714, 24.339440776451667, 36.426130010047274, 36.641278682438006, 22.73336941342115, 25.768052865346732, 19.034275407043665, 15.965840891515244, 21.040662915093097, 17.110744478034235, 17.189723159075903, 21.394323032056526, 15.236624292620354, 14.457546336433836, 15.393027080657411, 12.462232637101625, 13.25780540612206, 44.53353046075479, 11.471385857993422, 12.923255435775914, 18.016837161859588, 12.15761315060395, 10.84341954240386, 9.03319998995952, 10.32868383803526, 9.54015909073722, 21.119799466320096, 23.01908755342769, 35.68981568754501, 48.6616876236792, 21.24606208115361, 21.16171280603422, 31.268160353125396, 61.788420353636994, 29.453864838908757, 71.58023713324545, 39.414771470985286, 78.63560522726515, 48.27222592437056, 39.31344946836602, 30.490771536387772, 39.45136603157914, 28.613244238744247, 26.30176773944663, 18.92991324172812, 21.485734577259578, 22.32634464851292, 18.675069028373425, 18.97775601959324, 15.0673264555749, 20.1975580043545, 14.783122851387668, 26.038454079895473, 14.971364489945152, 15.941647760967438, 14.267711894561433, 62.967190710689486, 12.557014510933273, 18.856503879400574, 12.178214404647932, 35.81529101056334, 33.6523138233313, 11.92379790200452, 21.816060415156443, 10.515669334455195, 9.88377442339405, 11.524666251824431, 27.019741446165366, 29.40897584179773, 32.95253455481867, 20.782073516482157, 16.818826462155823, 67.35675338540581, 20.24109040983103, 70.74988734346645, 22.845121776195406, 26.316379502035275, 39.414771470985286, 20.535803003618142], \"Category\": [\"Default\", \"Default\", \"Default\", \"Default\", \"Default\", \"Default\", \"Default\", \"Default\", \"Default\", \"Default\", \"Default\", \"Default\", \"Default\", \"Default\", \"Default\", \"Default\", \"Default\", \"Default\", \"Default\", \"Default\", \"Default\", \"Default\", \"Default\", \"Default\", \"Default\", \"Default\", \"Default\", \"Default\", \"Default\", \"Default\", \"Topic1\", \"Topic1\", \"Topic1\", \"Topic1\", \"Topic1\", \"Topic1\", \"Topic1\", \"Topic1\", \"Topic1\", \"Topic1\", \"Topic1\", \"Topic1\", \"Topic1\", \"Topic1\", \"Topic1\", \"Topic1\", \"Topic1\", \"Topic1\", \"Topic1\", \"Topic1\", \"Topic1\", \"Topic1\", \"Topic1\", \"Topic1\", \"Topic1\", \"Topic1\", \"Topic1\", \"Topic1\", \"Topic1\", \"Topic1\", \"Topic1\", \"Topic1\", \"Topic1\", \"Topic1\", \"Topic1\", \"Topic1\", \"Topic1\", \"Topic1\", \"Topic1\", \"Topic1\", \"Topic1\", \"Topic1\", \"Topic2\", \"Topic2\", \"Topic2\", \"Topic2\", \"Topic2\", \"Topic2\", \"Topic2\", \"Topic2\", \"Topic2\", \"Topic2\", \"Topic2\", \"Topic2\", \"Topic2\", \"Topic2\", \"Topic2\", \"Topic2\", \"Topic2\", \"Topic2\", \"Topic2\", \"Topic2\", \"Topic2\", \"Topic2\", \"Topic2\", \"Topic2\", \"Topic2\", \"Topic2\", \"Topic2\", \"Topic2\", \"Topic2\", \"Topic2\", \"Topic2\", \"Topic2\", \"Topic2\", \"Topic2\", \"Topic2\", \"Topic2\", \"Topic2\", \"Topic2\", \"Topic2\", \"Topic2\", \"Topic2\", \"Topic3\", \"Topic3\", \"Topic3\", \"Topic3\", \"Topic3\", \"Topic3\", \"Topic3\", \"Topic3\", \"Topic3\", \"Topic3\", \"Topic3\", \"Topic3\", \"Topic3\", \"Topic3\", \"Topic3\", \"Topic3\", \"Topic3\", \"Topic3\", \"Topic3\", \"Topic3\", \"Topic3\", \"Topic3\", \"Topic3\", \"Topic3\", \"Topic3\", \"Topic3\", \"Topic3\", \"Topic3\", \"Topic3\", \"Topic3\", \"Topic3\", \"Topic3\", \"Topic3\", \"Topic3\", \"Topic3\", \"Topic3\", \"Topic3\", \"Topic3\", \"Topic3\", \"Topic3\", \"Topic3\", \"Topic3\"], \"logprob\": [30.0, 29.0, 28.0, 27.0, 26.0, 25.0, 24.0, 23.0, 22.0, 21.0, 20.0, 19.0, 18.0, 17.0, 16.0, 15.0, 14.0, 13.0, 12.0, 11.0, 10.0, 9.0, 8.0, 7.0, 6.0, 5.0, 4.0, 3.0, 2.0, 1.0, -4.6823, -4.607, -4.5857, -4.9045, -4.7065, -4.8074, -4.7217, -4.6228, -5.0075, -5.3214, -5.1541, -5.2521, -5.1517, -5.3742, -5.1338, -5.5708, -5.3335, -5.7476, -5.7393, -5.4247, -5.8077, -5.6491, -5.2483, -5.898, -5.4149, -5.8808, -5.7443, -5.8744, -5.7734, -6.0074, -5.3734, -4.1697, -5.7268, -5.6162, -5.4513, -5.4075, -5.4707, -4.5857, -4.8562, -5.6607, -5.3092, -5.5175, -3.7765, -4.0777, -4.5443, -4.3547, -4.0896, -4.8843, -4.4841, -4.4794, -4.9599, -4.8361, -5.1457, -5.3316, -5.0559, -5.2633, -5.2636, -5.0449, -5.3847, -5.4384, -5.3806, -5.5984, -5.5417, -4.3305, -5.688, -5.5778, -5.2529, -5.6466, -5.7625, -5.9462, -5.8148, -5.8973, -5.1106, -5.0389, -4.629, -4.3613, -5.1474, -5.1542, -4.8685, -4.3971, -5.0066, -4.8194, -5.0538, -3.6857, -4.1872, -4.3938, -4.6541, -4.4035, -4.7254, -4.8219, -5.1531, -5.0322, -4.9948, -5.1756, -5.161, -5.3993, -5.1078, -5.4212, -4.8563, -5.4097, -5.3509, -5.4627, -3.984, -5.5965, -5.1915, -5.6337, -4.5595, -4.6251, -5.6627, -5.061, -5.7926, -5.8609, -5.7104, -4.8855, -4.8216, -4.7209, -5.1616, -5.3524, -4.1515, -5.2391, -4.4927, -5.1843, -5.1264, -5.1346, -5.3156], \"loglift\": [30.0, 29.0, 28.0, 27.0, 26.0, 25.0, 24.0, 23.0, 22.0, 21.0, 20.0, 19.0, 18.0, 17.0, 16.0, 15.0, 14.0, 13.0, 12.0, 11.0, 10.0, 9.0, 8.0, 7.0, 6.0, 5.0, 4.0, 3.0, 2.0, 1.0, 0.8401, 0.8397, 0.837, 0.8334, 0.8309, 0.8292, 0.8289, 0.8287, 0.8202, 0.819, 0.8188, 0.816, 0.8094, 0.8072, 0.8061, 0.8058, 0.7968, 0.7965, 0.7953, 0.7934, 0.7933, 0.7931, 0.7909, 0.7906, 0.79, 0.7898, 0.786, 0.7855, 0.785, 0.7819, 0.7815, 0.7544, 0.7797, 0.7679, 0.7452, 0.7204, 0.7153, 0.42, 0.1613, 0.6492, -0.1564, -0.4509, 1.2211, 1.2129, 1.2115, 1.2091, 1.205, 1.2002, 1.1973, 1.1961, 1.1929, 1.1913, 1.1847, 1.1746, 1.1742, 1.1736, 1.1686, 1.1685, 1.1682, 1.167, 1.1621, 1.1555, 1.1503, 1.1498, 1.1487, 1.1397, 1.1324, 1.132, 1.1305, 1.1295, 1.1269, 1.1238, 1.1158, 1.1014, 1.0727, 1.0304, 1.073, 1.0702, 0.9655, 0.7558, 0.8872, 0.1864, 0.5487, 1.2261, 1.2125, 1.2112, 1.2051, 1.1981, 1.1973, 1.1851, 1.1827, 1.177, 1.176, 1.1738, 1.1724, 1.1648, 1.1632, 1.1619, 1.1608, 1.1607, 1.1567, 1.1559, 1.15, 1.1498, 1.1482, 1.1432, 1.1387, 1.1354, 1.1353, 1.133, 1.1311, 1.1248, 1.1217, 1.0945, 1.0737, 1.0606, 1.0809, 1.1017, 0.9151, 1.0298, 0.5248, 0.9636, 0.88, 0.4679, 0.9389]}, \"token.table\": {\"Topic\": [1, 2, 1, 2, 3, 1, 2, 3, 1, 2, 3, 1, 2, 3, 1, 2, 3, 1, 2, 3, 1, 2, 1, 2, 1, 2, 1, 2, 1, 2, 1, 2, 3, 1, 2, 1, 2, 3, 1, 2, 3, 1, 2, 1, 2, 3, 1, 2, 3, 1, 2, 1, 2, 1, 2, 3, 1, 2, 3, 1, 2, 1, 2, 3, 1, 2, 3, 1, 2, 3, 1, 2, 1, 2, 3, 1, 2, 1, 2, 3, 1, 2, 1, 2, 3, 1, 2, 3, 1, 2, 1, 2, 1, 2, 3, 1, 2, 1, 2, 3, 1, 2, 3, 1, 2, 3, 1, 2, 3, 1, 2, 3, 1, 2, 1, 2, 3, 1, 2, 3, 1, 2, 3, 1, 2, 3, 1, 2, 3, 1, 2, 1, 2, 3, 1, 2, 3, 1, 2, 3, 1, 2, 3, 1, 2, 3, 1, 2, 1, 2, 1, 2, 3, 1, 2, 3, 1, 2, 3, 1, 2, 3, 1, 2, 3, 1, 2, 3, 1, 2, 3, 1, 2, 3, 1, 2, 3, 1, 1, 2, 1, 2, 3, 1, 2, 3, 1, 2, 3, 1, 2, 1, 2, 3, 1, 2, 3, 1, 2, 3, 1, 2, 3, 1, 2, 3, 1, 2, 1, 2, 1, 2, 3, 1, 2, 3, 1, 2, 3, 1, 2, 3, 1, 2, 3, 1, 2, 3, 1, 2, 1, 2, 1, 2, 3, 1, 2, 3, 1, 2, 3, 1, 2, 1, 2, 1, 2, 1, 2, 1, 2, 3, 1, 2, 1, 2, 3, 1, 2, 3, 1, 2, 3, 1, 2, 3, 1, 2, 1, 2, 3, 1, 2, 1, 2, 1, 2, 1, 2, 3, 1, 2, 1, 2, 3, 1, 2, 1, 2, 3, 1, 2, 1, 2, 3, 1, 2, 1, 2, 1, 2, 3, 1, 2, 3, 1, 2, 1, 2, 3, 1, 2, 3, 1, 2, 3], \"Freq\": [0.05253680419218629, 0.9456624754593532, 0.10117592299891887, 0.10117592299891887, 0.9105833069902698, 0.05945718045489726, 0.05945718045489726, 0.8918577068234589, 0.04940445300883115, 0.14821335902649344, 0.7904712481412984, 0.939167045181726, 0.0469583522590863, 0.0469583522590863, 0.6426354793205246, 0.34925841267419816, 0.013970336506967926, 0.05550363757057935, 0.8880582011292696, 0.05550363757057935, 0.03880774403970644, 0.9701936009926609, 0.983599894581725, 0.02341904510908869, 0.06563133544510485, 0.9188386962314681, 0.9770175008032865, 0.021711500017850813, 0.07542726487282954, 0.9051271784739545, 0.10482005493712628, 0.8385604394970102, 0.10482005493712628, 0.9495974445092242, 0.07304595726994033, 0.9442085363875936, 0.03631571293798437, 0.03631571293798437, 0.9398413113475937, 0.06265608742317291, 0.06265608742317291, 0.9353715754915842, 0.05502185738185789, 0.08914691618975949, 0.029715638729919832, 0.891469161897595, 0.9238823269820003, 0.06599159478442859, 0.06599159478442859, 0.22386990219270506, 0.7675539503749887, 0.11070274112291421, 0.8856219289833137, 0.02071584603466863, 0.02071584603466863, 0.9736447636294255, 0.9268288646588965, 0.04634144323294482, 0.04634144323294482, 0.06263371950120283, 0.9395057925180426, 0.0821138441788593, 0.0821138441788593, 0.9032522859674522, 0.06272877277143613, 0.06272877277143613, 0.9409315915715419, 0.044790135409228604, 0.044790135409228604, 0.9405928435938007, 0.046741371461094326, 0.9348274292218866, 0.9553742536125334, 0.03674516360048205, 0.03674516360048205, 0.09469786885000567, 0.8996297540750537, 0.8982751842546692, 0.0641625131610478, 0.0641625131610478, 0.8640350664751255, 0.13642658944344085, 0.26723378273603166, 0.01484632126311287, 0.7274697418925306, 0.04654250923579761, 0.04654250923579761, 0.9308501847159523, 0.043988199981021193, 0.9677403995824662, 0.06496448000514345, 0.9095027200720083, 0.963615941206641, 0.024090398530166025, 0.024090398530166025, 0.9257810167883995, 0.044084810323257125, 0.06636877504104258, 0.06636877504104258, 0.9291628505745961, 0.07008832301843577, 0.07008832301843577, 0.9111481992396651, 0.11102992994871012, 0.03700997664957004, 0.8512294629401109, 0.02729162398143314, 0.9552068393501599, 0.02729162398143314, 0.058442810672775874, 0.935084970764414, 0.058442810672775874, 0.966612607054968, 0.0644408404703312, 0.05354732550014562, 0.05354732550014562, 0.9103045335024755, 0.04951093591534207, 0.04951093591534207, 0.9407077823914993, 0.14009598827222003, 0.8405759296333202, 0.02801919765444401, 0.2434772090051246, 0.04869544180102492, 0.7304316270153738, 0.013856350258371166, 0.9838008683443528, 0.013856350258371166, 0.9557900376314428, 0.043445001710520126, 0.08225298729383598, 0.9047828602321959, 0.08225298729383598, 0.8869613202114373, 0.05543508251321483, 0.05543508251321483, 0.025436587567943144, 0.025436587567943144, 0.9665903275818395, 0.03840473773641228, 0.03840473773641228, 0.9217137056738948, 0.04706754579650096, 0.8472158243370173, 0.14120263738950287, 0.9640928917225279, 0.06886377798018056, 0.06916803008819991, 0.8991843911465989, 0.03279680866083028, 0.03279680866083028, 0.9511074511640782, 0.012716885653895523, 0.012716885653895523, 0.9792001953499554, 0.09509618153581936, 0.09509618153581936, 0.8558656338223742, 0.2659940361271439, 0.03799914801816341, 0.6839846643269415, 0.025347664747515777, 0.025347664747515777, 0.9632112604055996, 0.9533982682936938, 0.03177994227645646, 0.03177994227645646, 0.9012027362790073, 0.012874324803985818, 0.09012027362790073, 0.858131411021169, 0.04290657055105845, 0.12871971165317533, 0.4947004343637608, 0.01413429812467888, 0.48056613623908195, 0.9144247993208153, 0.8236099403830449, 0.15442686382182091, 0.038020258178321185, 0.038020258178321185, 0.9505064544580296, 0.050742397465688115, 0.5074239746568812, 0.456681577191193, 0.9599273281460283, 0.035552864005408455, 0.035552864005408455, 0.27161121447912484, 0.7129794380077027, 0.09623678784572724, 0.04811839392286362, 0.8661310906115451, 0.2188651060380862, 0.043773021207617245, 0.7441413605294931, 0.09167558037245462, 0.04583779018622731, 0.9167558037245461, 0.08688441691522161, 0.8688441691522162, 0.043442208457610806, 0.8730998032939192, 0.04595262122599575, 0.0919052424519915, 0.9021026191129733, 0.07517521825941445, 0.9598184005708877, 0.07383218465929905, 0.03494885066706043, 0.03494885066706043, 0.9436189680106317, 0.07940643283536526, 0.015881286567073053, 0.905233334323164, 0.05269326884419676, 0.05269326884419676, 0.9484788391955417, 0.07963676390827688, 0.07963676390827688, 0.8760044029910458, 0.027452820261833304, 0.9608487091641656, 0.027452820261833304, 0.066794179025673, 0.066794179025673, 0.935118506359422, 0.9750531172713063, 0.02119680689720231, 0.04752701965880885, 0.950540393176177, 0.018574005181412875, 0.9658482694334695, 0.018574005181412875, 0.9713707561358019, 0.026253263679345995, 0.026253263679345995, 0.9599534965117068, 0.02181712492072061, 0.02181712492072061, 0.08717342545871962, 0.8717342545871962, 0.041085578308253365, 0.9449683010898273, 0.07737988349527349, 0.9285586019432818, 0.18495042896170583, 0.8014518588340587, 0.05282644390549302, 0.05282644390549302, 0.9508759902988744, 0.9587275619668798, 0.02905235036263272, 0.9462011442169679, 0.04300914291895309, 0.04300914291895309, 0.06800644846521602, 0.06800644846521602, 0.8500806058152002, 0.9700784892078355, 0.04041993705032648, 0.04041993705032648, 0.08386589643823879, 0.08386589643823879, 0.9225248608206267, 0.9505863348849644, 0.04526601594690306, 0.3560537698501793, 0.6150019661048551, 0.01618426226591724, 0.9747015836934252, 0.023773209358376225, 0.9400386719808482, 0.058752416998803014, 0.05817429348604813, 0.93078869577677, 0.14176546234691154, 0.8505927740814693, 0.04725515411563718, 0.09222183058484812, 0.9222183058484812, 0.01864895451443638, 0.9697456347506919, 0.01864895451443638, 0.029576104358405915, 0.9760114438273951, 0.08376310551588655, 0.02792103517196218, 0.8934731255027898, 0.9424075647829406, 0.03926698186595586, 0.09681775681016698, 0.8713598112915029, 0.09681775681016698, 0.08024244363910163, 0.882666880030118, 0.024410494960732467, 0.9764197984292987, 0.05303210003273358, 0.05303210003273358, 0.9015457005564709, 0.08677040863041854, 0.08677040863041854, 0.8677040863041855, 0.9108221135507979, 0.06505872239648557, 0.06736497126909245, 0.9206546073442635, 0.022454990423030816, 0.15173339676443331, 0.030346679352886662, 0.8193603425279399, 0.0676447060646683, 0.0676447060646683, 0.9470258849053562], \"Term\": [\"action\", \"action\", \"add\", \"add\", \"add\", \"ahead\", \"ahead\", \"ahead\", \"attack\", \"attack\", \"attack\", \"away\", \"away\", \"away\", \"back\", \"back\", \"back\", \"bad\", \"bad\", \"bad\", \"ball\", \"ball\", \"begin\", \"begin\", \"big\", \"big\", \"bit\", \"bit\", \"bolt\", \"bolt\", \"bonus\", \"bonus\", \"bonus\", \"break\", \"break\", \"cage\", \"cage\", \"cage\", \"chain\", \"chain\", \"chain\", \"chamber\", \"chamber\", \"check\", \"check\", \"check\", \"creature\", \"creature\", \"creature\", \"creeper\", \"creeper\", \"cut\", \"cut\", \"damage\", \"damage\", \"damage\", \"day\", \"day\", \"day\", \"dexterity\", \"dexterity\", \"disadvantage\", \"disadvantage\", \"disadvantage\", \"drink\", \"drink\", \"drink\", \"else\", \"else\", \"else\", \"end\", \"end\", \"eye\", \"eye\", \"eye\", \"fall\", \"fall\", \"familiar\", \"familiar\", \"familiar\", \"fearne\", \"fearne\", \"feel\", \"feel\", \"feel\", \"fine\", \"fine\", \"fine\", \"finish\", \"finish\", \"flame\", \"flame\", \"foot\", \"foot\", \"foot\", \"front\", \"front\", \"fuck\", \"fuck\", \"fuck\", \"fucking\", \"fucking\", \"fucking\", \"give\", \"give\", \"give\", \"great\", \"great\", \"great\", \"guy\", \"guy\", \"guy\", \"hand\", \"hand\", \"happen\", \"happen\", \"happen\", \"hard\", \"hard\", \"hard\", \"hear\", \"hear\", \"hear\", \"help\", \"help\", \"help\", \"hit\", \"hit\", \"hit\", \"hold\", \"hold\", \"howl\", \"howl\", \"howl\", \"hurt\", \"hurt\", \"hurt\", \"ill\", \"ill\", \"ill\", \"keep\", \"keep\", \"keep\", \"kind\", \"kind\", \"kind\", \"large\", \"large\", \"last\", \"last\", \"laugh\", \"laugh\", \"laugh\", \"laughter\", \"laughter\", \"laughter\", \"learn\", \"learn\", \"learn\", \"leave\", \"leave\", \"leave\", \"let\", \"let\", \"let\", \"light\", \"light\", \"light\", \"little\", \"little\", \"little\", \"long\", \"long\", \"long\", \"look\", \"look\", \"look\", \"low\", \"machine\", \"machine\", \"maybe\", \"maybe\", \"maybe\", \"mean\", \"mean\", \"mean\", \"mind\", \"mind\", \"mind\", \"mother\", \"mother\", \"move\", \"move\", \"move\", \"much\", \"much\", \"much\", \"natural\", \"natural\", \"natural\", \"next\", \"next\", \"next\", \"night\", \"night\", \"night\", \"open\", \"open\", \"part\", \"part\", \"people\", \"people\", \"people\", \"point\", \"point\", \"point\", \"poison\", \"poison\", \"poison\", \"pop\", \"pop\", \"pop\", \"pretty\", \"pretty\", \"pretty\", \"probably\", \"probably\", \"probably\", \"pull\", \"pull\", \"push\", \"push\", \"really\", \"really\", \"really\", \"rest\", \"rest\", \"rest\", \"room\", \"room\", \"room\", \"save\", \"save\", \"saving\", \"saving\", \"second\", \"second\", \"shade\", \"shade\", \"shit\", \"shit\", \"shit\", \"side\", \"side\", \"sit\", \"sit\", \"sit\", \"sleep\", \"sleep\", \"sleep\", \"space\", \"space\", \"space\", \"spell\", \"spell\", \"spell\", \"start\", \"start\", \"still\", \"still\", \"still\", \"stone\", \"stone\", \"stop\", \"stop\", \"strength\", \"strength\", \"strike\", \"strike\", \"strike\", \"strong\", \"strong\", \"thing\", \"thing\", \"thing\", \"throw\", \"throw\", \"time\", \"time\", \"time\", \"top\", \"top\", \"total\", \"total\", \"total\", \"touch\", \"touch\", \"turn\", \"turn\", \"wait\", \"wait\", \"wait\", \"walk\", \"walk\", \"walk\", \"watch\", \"watch\", \"way\", \"way\", \"way\", \"well\", \"well\", \"well\", \"work\", \"work\", \"work\"]}, \"R\": 30, \"lambda.step\": 0.01, \"plot.opts\": {\"xlab\": \"PC1\", \"ylab\": \"PC2\"}, \"topic.order\": [1, 3, 2]};\n",
              "\n",
              "function LDAvis_load_lib(url, callback){\n",
              "  var s = document.createElement('script');\n",
              "  s.src = url;\n",
              "  s.async = true;\n",
              "  s.onreadystatechange = s.onload = callback;\n",
              "  s.onerror = function(){console.warn(\"failed to load library \" + url);};\n",
              "  document.getElementsByTagName(\"head\")[0].appendChild(s);\n",
              "}\n",
              "\n",
              "if(typeof(LDAvis) !== \"undefined\"){\n",
              "   // already loaded: just create the visualization\n",
              "   !function(LDAvis){\n",
              "       new LDAvis(\"#\" + \"ldavis_el3881397558264948007579544029\", ldavis_el3881397558264948007579544029_data);\n",
              "   }(LDAvis);\n",
              "}else if(typeof define === \"function\" && define.amd){\n",
              "   // require.js is available: use it to load d3/LDAvis\n",
              "   require.config({paths: {d3: \"https://d3js.org/d3.v5\"}});\n",
              "   require([\"d3\"], function(d3){\n",
              "      window.d3 = d3;\n",
              "      LDAvis_load_lib(\"https://cdn.jsdelivr.net/gh/bmabey/pyLDAvis@3.3.1/pyLDAvis/js/ldavis.v3.0.0.js\", function(){\n",
              "        new LDAvis(\"#\" + \"ldavis_el3881397558264948007579544029\", ldavis_el3881397558264948007579544029_data);\n",
              "      });\n",
              "    });\n",
              "}else{\n",
              "    // require.js not available: dynamically load d3 & LDAvis\n",
              "    LDAvis_load_lib(\"https://d3js.org/d3.v5.js\", function(){\n",
              "         LDAvis_load_lib(\"https://cdn.jsdelivr.net/gh/bmabey/pyLDAvis@3.3.1/pyLDAvis/js/ldavis.v3.0.0.js\", function(){\n",
              "                 new LDAvis(\"#\" + \"ldavis_el3881397558264948007579544029\", ldavis_el3881397558264948007579544029_data);\n",
              "            })\n",
              "         });\n",
              "}\n",
              "</script>"
            ]
          },
          "metadata": {},
          "execution_count": 70
        }
      ]
    },
    {
      "cell_type": "markdown",
      "source": [
        "### Visualing topics better!"
      ],
      "metadata": {
        "id": "ZiV3By_nPp5E"
      }
    },
    {
      "cell_type": "code",
      "source": [
        "def format_topics_sentences(ldamodel, corpus=corpus, texts=full_dialog_df['lemmas']):\n",
        "    # Init output\n",
        "    sent_topics_df = pd.DataFrame()\n",
        "\n",
        "    # Get main topic in each document\n",
        "    for i, row_list in enumerate(ldamodel[corpus]):\n",
        "        row = row_list[0] if ldamodel.per_word_topics else row_list            \n",
        "        # print(row)\n",
        "        row = sorted(row, key=lambda x: (x[1]), reverse=True)\n",
        "        # Get the Dominant topic, Perc Contribution and Keywords for each document\n",
        "        for j, (topic_num, prop_topic) in enumerate(row):\n",
        "            if j == 0:  # => dominant topic\n",
        "                wp = ldamodel.show_topic(topic_num)\n",
        "                topic_keywords = \", \".join([word for word, prop in wp])\n",
        "                sent_topics_df = sent_topics_df.append(pd.Series([int(topic_num), round(prop_topic,10), topic_keywords]), ignore_index=True)\n",
        "            else:\n",
        "                break\n",
        "    sent_topics_df.columns = ['Dominant_Topic', 'Perc_Contribution', 'Topic_Keywords']\n",
        "\n",
        "    # Add original text to the end of the output\n",
        "    contents = pd.Series(texts)\n",
        "    sent_topics_df = pd.concat([sent_topics_df, contents], axis=1)\n",
        "    return(sent_topics_df)\n",
        "\n",
        "\n",
        "df_topic_sents_keywords = format_topics_sentences(ldamodel=lda_model_2, corpus=corpus, texts=full_dialog_df['lemmas'])\n",
        "\n",
        "# Format\n",
        "df_dominant_topic = df_topic_sents_keywords.reset_index()\n",
        "df_dominant_topic.columns = ['Document_No', 'Dominant_Topic', 'Topic_Perc_Contrib', 'Keywords', 'Text']"
      ],
      "metadata": {
        "id": "YcnejgZGZQV9"
      },
      "execution_count": null,
      "outputs": []
    },
    {
      "cell_type": "code",
      "source": [
        "# Display setting to show more characters in column\n",
        "pd.options.display.max_colwidth = 100\n",
        "\n",
        "sent_topics_sorteddf_mallet = pd.DataFrame()\n",
        "sent_topics_outdf_grpd = df_topic_sents_keywords.groupby('Dominant_Topic')\n",
        "\n",
        "for i, grp in sent_topics_outdf_grpd:\n",
        "    sent_topics_sorteddf_mallet = pd.concat([sent_topics_sorteddf_mallet, \n",
        "                                             grp.sort_values(['Perc_Contribution'], ascending=False).head(1)], \n",
        "                                            axis=0)\n",
        "\n",
        "# Reset Index    \n",
        "sent_topics_sorteddf_mallet.reset_index(drop=True, inplace=True)\n",
        "\n",
        "# Format\n",
        "sent_topics_sorteddf_mallet.columns = ['Topic_Num', \"Topic_Perc_Contrib\", \"Keywords\", \"Representative Text\"]\n",
        "\n",
        "# Show\n",
        "sent_topics_sorteddf_mallet.head(10)"
      ],
      "metadata": {
        "id": "CoCweoAbPvah",
        "colab": {
          "base_uri": "https://localhost:8080/",
          "height": 143
        },
        "outputId": "0443ff43-7d21-44d6-e125-f420b06df41f"
      },
      "execution_count": null,
      "outputs": [
        {
          "output_type": "execute_result",
          "data": {
            "text/plain": [
              "   Topic_Num  Topic_Perc_Contrib  \\\n",
              "0        0.0            0.968282   \n",
              "1        1.0            0.913681   \n",
              "2        2.0            0.877754   \n",
              "\n",
              "                                                            Keywords  \\\n",
              "0      little, pull, back, bit, room, begin, stone, foot, rest, look   \n",
              "1  laughter, point, feel, damage, ill, let, look, time, check, laugh   \n",
              "2  hit, really, thing, way, turn, shade, still, great, pretty, throw   \n",
              "\n",
              "                                                                                   Representative Text  \n",
              "0  [indeed, excite, bell, barely, escape, chaos, top, center, core, return, friend, brother, curren...  \n",
              "1  [never, understand, people, feel, bind, leave, place, confine, guess, okay, walk, city, foot, le...  \n",
              "2            [pretty, big, fight, thing, big, fight, sure, detached, ass, fart, shade, creeper, thing]  "
            ],
            "text/html": [
              "\n",
              "  <div id=\"df-d387f1dd-ef51-4eb8-a327-2de2fb8c6761\">\n",
              "    <div class=\"colab-df-container\">\n",
              "      <div>\n",
              "<style scoped>\n",
              "    .dataframe tbody tr th:only-of-type {\n",
              "        vertical-align: middle;\n",
              "    }\n",
              "\n",
              "    .dataframe tbody tr th {\n",
              "        vertical-align: top;\n",
              "    }\n",
              "\n",
              "    .dataframe thead th {\n",
              "        text-align: right;\n",
              "    }\n",
              "</style>\n",
              "<table border=\"1\" class=\"dataframe\">\n",
              "  <thead>\n",
              "    <tr style=\"text-align: right;\">\n",
              "      <th></th>\n",
              "      <th>Topic_Num</th>\n",
              "      <th>Topic_Perc_Contrib</th>\n",
              "      <th>Keywords</th>\n",
              "      <th>Representative Text</th>\n",
              "    </tr>\n",
              "  </thead>\n",
              "  <tbody>\n",
              "    <tr>\n",
              "      <th>0</th>\n",
              "      <td>0.0</td>\n",
              "      <td>0.968282</td>\n",
              "      <td>little, pull, back, bit, room, begin, stone, foot, rest, look</td>\n",
              "      <td>[indeed, excite, bell, barely, escape, chaos, top, center, core, return, friend, brother, curren...</td>\n",
              "    </tr>\n",
              "    <tr>\n",
              "      <th>1</th>\n",
              "      <td>1.0</td>\n",
              "      <td>0.913681</td>\n",
              "      <td>laughter, point, feel, damage, ill, let, look, time, check, laugh</td>\n",
              "      <td>[never, understand, people, feel, bind, leave, place, confine, guess, okay, walk, city, foot, le...</td>\n",
              "    </tr>\n",
              "    <tr>\n",
              "      <th>2</th>\n",
              "      <td>2.0</td>\n",
              "      <td>0.877754</td>\n",
              "      <td>hit, really, thing, way, turn, shade, still, great, pretty, throw</td>\n",
              "      <td>[pretty, big, fight, thing, big, fight, sure, detached, ass, fart, shade, creeper, thing]</td>\n",
              "    </tr>\n",
              "  </tbody>\n",
              "</table>\n",
              "</div>\n",
              "      <button class=\"colab-df-convert\" onclick=\"convertToInteractive('df-d387f1dd-ef51-4eb8-a327-2de2fb8c6761')\"\n",
              "              title=\"Convert this dataframe to an interactive table.\"\n",
              "              style=\"display:none;\">\n",
              "        \n",
              "  <svg xmlns=\"http://www.w3.org/2000/svg\" height=\"24px\"viewBox=\"0 0 24 24\"\n",
              "       width=\"24px\">\n",
              "    <path d=\"M0 0h24v24H0V0z\" fill=\"none\"/>\n",
              "    <path d=\"M18.56 5.44l.94 2.06.94-2.06 2.06-.94-2.06-.94-.94-2.06-.94 2.06-2.06.94zm-11 1L8.5 8.5l.94-2.06 2.06-.94-2.06-.94L8.5 2.5l-.94 2.06-2.06.94zm10 10l.94 2.06.94-2.06 2.06-.94-2.06-.94-.94-2.06-.94 2.06-2.06.94z\"/><path d=\"M17.41 7.96l-1.37-1.37c-.4-.4-.92-.59-1.43-.59-.52 0-1.04.2-1.43.59L10.3 9.45l-7.72 7.72c-.78.78-.78 2.05 0 2.83L4 21.41c.39.39.9.59 1.41.59.51 0 1.02-.2 1.41-.59l7.78-7.78 2.81-2.81c.8-.78.8-2.07 0-2.86zM5.41 20L4 18.59l7.72-7.72 1.47 1.35L5.41 20z\"/>\n",
              "  </svg>\n",
              "      </button>\n",
              "      \n",
              "  <style>\n",
              "    .colab-df-container {\n",
              "      display:flex;\n",
              "      flex-wrap:wrap;\n",
              "      gap: 12px;\n",
              "    }\n",
              "\n",
              "    .colab-df-convert {\n",
              "      background-color: #E8F0FE;\n",
              "      border: none;\n",
              "      border-radius: 50%;\n",
              "      cursor: pointer;\n",
              "      display: none;\n",
              "      fill: #1967D2;\n",
              "      height: 32px;\n",
              "      padding: 0 0 0 0;\n",
              "      width: 32px;\n",
              "    }\n",
              "\n",
              "    .colab-df-convert:hover {\n",
              "      background-color: #E2EBFA;\n",
              "      box-shadow: 0px 1px 2px rgba(60, 64, 67, 0.3), 0px 1px 3px 1px rgba(60, 64, 67, 0.15);\n",
              "      fill: #174EA6;\n",
              "    }\n",
              "\n",
              "    [theme=dark] .colab-df-convert {\n",
              "      background-color: #3B4455;\n",
              "      fill: #D2E3FC;\n",
              "    }\n",
              "\n",
              "    [theme=dark] .colab-df-convert:hover {\n",
              "      background-color: #434B5C;\n",
              "      box-shadow: 0px 1px 3px 1px rgba(0, 0, 0, 0.15);\n",
              "      filter: drop-shadow(0px 1px 2px rgba(0, 0, 0, 0.3));\n",
              "      fill: #FFFFFF;\n",
              "    }\n",
              "  </style>\n",
              "\n",
              "      <script>\n",
              "        const buttonEl =\n",
              "          document.querySelector('#df-d387f1dd-ef51-4eb8-a327-2de2fb8c6761 button.colab-df-convert');\n",
              "        buttonEl.style.display =\n",
              "          google.colab.kernel.accessAllowed ? 'block' : 'none';\n",
              "\n",
              "        async function convertToInteractive(key) {\n",
              "          const element = document.querySelector('#df-d387f1dd-ef51-4eb8-a327-2de2fb8c6761');\n",
              "          const dataTable =\n",
              "            await google.colab.kernel.invokeFunction('convertToInteractive',\n",
              "                                                     [key], {});\n",
              "          if (!dataTable) return;\n",
              "\n",
              "          const docLinkHtml = 'Like what you see? Visit the ' +\n",
              "            '<a target=\"_blank\" href=https://colab.research.google.com/notebooks/data_table.ipynb>data table notebook</a>'\n",
              "            + ' to learn more about interactive tables.';\n",
              "          element.innerHTML = '';\n",
              "          dataTable['output_type'] = 'display_data';\n",
              "          await google.colab.output.renderOutput(dataTable, element);\n",
              "          const docLink = document.createElement('div');\n",
              "          docLink.innerHTML = docLinkHtml;\n",
              "          element.appendChild(docLink);\n",
              "        }\n",
              "      </script>\n",
              "    </div>\n",
              "  </div>\n",
              "  "
            ]
          },
          "metadata": {},
          "execution_count": 67
        }
      ]
    },
    {
      "cell_type": "markdown",
      "source": [
        "# Topic 0\n",
        "MATT \n",
        "\n",
        "Recapping what happened last week\n",
        "\n",
        "# Topic 1\n",
        "MARISHA\n",
        "\n",
        "I never understood that.  \n",
        "People who felt bound to not leave the places that they were confined to.  \n",
        "I don't know. I guess I seemed to do it okay.  \n",
        "I just walked out of the city.  \n",
        "You have two feet, two legs, whatever.  \n",
        "You've got means to leave.  \n",
        "It's a little strange, I think, that people put so much value in feeling like if they walk out of the city limits that certain doom will encroach them.  \n",
        "From my experience, sometimes staying put ensures certain doom far more than leaving.  \n",
        "\n",
        "# Topic 2\n",
        "TRAVIS\n",
        "\n",
        "Just so we have it all out there: Lady Emoth was a pretty big fight.  \n",
        "The thing behind her, going to be an even bigger fight.  \n",
        "I'm sure the detached ass is going to fart out some shade creepers.  \n",
        "So it's going to be a thing. "
      ],
      "metadata": {
        "id": "ITJvCLD__BuO"
      }
    },
    {
      "cell_type": "markdown",
      "source": [
        "# Final Thoughts\n",
        "I like the topics the model created, but I don't like that big names like Lady Emoth got filtered out in the cleaning process. I need to look into that.\n",
        "\n",
        "I like being able to visualize by finding a sentence that can represent the topic. I still also want a better way to visualize when these topics occur in the episode. "
      ],
      "metadata": {
        "id": "-9Khk4CBeW8Z"
      }
    }
  ]
}