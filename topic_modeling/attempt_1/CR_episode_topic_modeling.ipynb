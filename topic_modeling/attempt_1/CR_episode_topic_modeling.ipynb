{
  "nbformat": 4,
  "nbformat_minor": 0,
  "metadata": {
    "colab": {
      "name": "CR_episode_topic_modeling",
      "provenance": [],
      "machine_shape": "hm"
    },
    "kernelspec": {
      "name": "python3",
      "display_name": "Python 3"
    },
    "language_info": {
      "name": "python"
    },
    "accelerator": "GPU",
    "widgets": {
      "application/vnd.jupyter.widget-state+json": {
        "cc1906b72e1d453281cc101d639b1de3": {
          "model_module": "@jupyter-widgets/controls",
          "model_name": "VBoxModel",
          "model_module_version": "1.5.0",
          "state": {
            "_dom_classes": [],
            "_model_module": "@jupyter-widgets/controls",
            "_model_module_version": "1.5.0",
            "_model_name": "VBoxModel",
            "_view_count": null,
            "_view_module": "@jupyter-widgets/controls",
            "_view_module_version": "1.5.0",
            "_view_name": "VBoxView",
            "box_style": "",
            "children": [
              "IPY_MODEL_207c86f166694751a9ca84c26876e512",
              "IPY_MODEL_08b3466f3dda4a0c9a65e7de9333b964",
              "IPY_MODEL_45b0dea5064a40de87f01a4714e9a01b"
            ],
            "layout": "IPY_MODEL_ff2d4a5a0d174c5fb34364046eda3e10"
          }
        },
        "207c86f166694751a9ca84c26876e512": {
          "model_module": "@jupyter-widgets/controls",
          "model_name": "HBoxModel",
          "model_module_version": "1.5.0",
          "state": {
            "_dom_classes": [],
            "_model_module": "@jupyter-widgets/controls",
            "_model_module_version": "1.5.0",
            "_model_name": "HBoxModel",
            "_view_count": null,
            "_view_module": "@jupyter-widgets/controls",
            "_view_module_version": "1.5.0",
            "_view_name": "HBoxView",
            "box_style": "",
            "children": [
              "IPY_MODEL_14c904ba3222410299489e832bdb1b57",
              "IPY_MODEL_d3330e1ddb2b4cf9bb8306e4f0126590"
            ],
            "layout": "IPY_MODEL_5f0be48957da4f6688c4c7d1dcce4df3"
          }
        },
        "08b3466f3dda4a0c9a65e7de9333b964": {
          "model_module": "@jupyter-widgets/controls",
          "model_name": "HBoxModel",
          "model_module_version": "1.5.0",
          "state": {
            "_dom_classes": [],
            "_model_module": "@jupyter-widgets/controls",
            "_model_module_version": "1.5.0",
            "_model_name": "HBoxModel",
            "_view_count": null,
            "_view_module": "@jupyter-widgets/controls",
            "_view_module_version": "1.5.0",
            "_view_name": "HBoxView",
            "box_style": "",
            "children": [
              "IPY_MODEL_28f3c488ded74f1a894f1a4ce39f51c1",
              "IPY_MODEL_84394abbfbbd4a2b924e9bc8de59967b"
            ],
            "layout": "IPY_MODEL_412a75b0e56a4cefa4edc2f8c3b89408"
          }
        },
        "45b0dea5064a40de87f01a4714e9a01b": {
          "model_module": "@jupyter-widgets/controls",
          "model_name": "HBoxModel",
          "model_module_version": "1.5.0",
          "state": {
            "_dom_classes": [],
            "_model_module": "@jupyter-widgets/controls",
            "_model_module_version": "1.5.0",
            "_model_name": "HBoxModel",
            "_view_count": null,
            "_view_module": "@jupyter-widgets/controls",
            "_view_module_version": "1.5.0",
            "_view_name": "HBoxView",
            "box_style": "",
            "children": [
              "IPY_MODEL_f18a1713394c47cc9707c13edebb946b",
              "IPY_MODEL_1c34172e681f4209942617f6a3911202"
            ],
            "layout": "IPY_MODEL_1e070c602a1f4d01a39b9fca2871d9d1"
          }
        },
        "ff2d4a5a0d174c5fb34364046eda3e10": {
          "model_module": "@jupyter-widgets/base",
          "model_name": "LayoutModel",
          "model_module_version": "1.2.0",
          "state": {
            "_model_module": "@jupyter-widgets/base",
            "_model_module_version": "1.2.0",
            "_model_name": "LayoutModel",
            "_view_count": null,
            "_view_module": "@jupyter-widgets/base",
            "_view_module_version": "1.2.0",
            "_view_name": "LayoutView",
            "align_content": null,
            "align_items": null,
            "align_self": null,
            "border": null,
            "bottom": null,
            "display": null,
            "flex": null,
            "flex_flow": null,
            "grid_area": null,
            "grid_auto_columns": null,
            "grid_auto_flow": null,
            "grid_auto_rows": null,
            "grid_column": null,
            "grid_gap": null,
            "grid_row": null,
            "grid_template_areas": null,
            "grid_template_columns": null,
            "grid_template_rows": null,
            "height": null,
            "justify_content": null,
            "justify_items": null,
            "left": null,
            "margin": null,
            "max_height": null,
            "max_width": null,
            "min_height": null,
            "min_width": null,
            "object_fit": null,
            "object_position": null,
            "order": null,
            "overflow": null,
            "overflow_x": null,
            "overflow_y": null,
            "padding": null,
            "right": null,
            "top": null,
            "visibility": null,
            "width": null
          }
        },
        "14c904ba3222410299489e832bdb1b57": {
          "model_module": "@jupyter-widgets/controls",
          "model_name": "IntProgressModel",
          "model_module_version": "1.5.0",
          "state": {
            "_dom_classes": [],
            "_model_module": "@jupyter-widgets/controls",
            "_model_module_version": "1.5.0",
            "_model_name": "IntProgressModel",
            "_view_count": null,
            "_view_module": "@jupyter-widgets/controls",
            "_view_module_version": "1.5.0",
            "_view_name": "ProgressView",
            "bar_style": "success",
            "description": "100.00%",
            "description_tooltip": null,
            "layout": "IPY_MODEL_d4526d60de9a470984668f97cc7dedd2",
            "max": 1338,
            "min": 0,
            "orientation": "horizontal",
            "style": "IPY_MODEL_cae4a332003b4ec39586c340a3bae602",
            "value": 1338
          }
        },
        "d3330e1ddb2b4cf9bb8306e4f0126590": {
          "model_module": "@jupyter-widgets/controls",
          "model_name": "LabelModel",
          "model_module_version": "1.5.0",
          "state": {
            "_dom_classes": [],
            "_model_module": "@jupyter-widgets/controls",
            "_model_module_version": "1.5.0",
            "_model_name": "LabelModel",
            "_view_count": null,
            "_view_module": "@jupyter-widgets/controls",
            "_view_module_version": "1.5.0",
            "_view_name": "LabelView",
            "description": "",
            "description_tooltip": null,
            "layout": "IPY_MODEL_0304b0e03d3849ad82dc7afa1e4ea406",
            "placeholder": "​",
            "style": "IPY_MODEL_251a2b9a69c44b94abcbcc39612cf1d7",
            "value": "1338 / 1338"
          }
        },
        "5f0be48957da4f6688c4c7d1dcce4df3": {
          "model_module": "@jupyter-widgets/base",
          "model_name": "LayoutModel",
          "model_module_version": "1.2.0",
          "state": {
            "_model_module": "@jupyter-widgets/base",
            "_model_module_version": "1.2.0",
            "_model_name": "LayoutModel",
            "_view_count": null,
            "_view_module": "@jupyter-widgets/base",
            "_view_module_version": "1.2.0",
            "_view_name": "LayoutView",
            "align_content": null,
            "align_items": null,
            "align_self": null,
            "border": null,
            "bottom": null,
            "display": null,
            "flex": null,
            "flex_flow": null,
            "grid_area": null,
            "grid_auto_columns": null,
            "grid_auto_flow": null,
            "grid_auto_rows": null,
            "grid_column": null,
            "grid_gap": null,
            "grid_row": null,
            "grid_template_areas": null,
            "grid_template_columns": null,
            "grid_template_rows": null,
            "height": null,
            "justify_content": null,
            "justify_items": null,
            "left": null,
            "margin": null,
            "max_height": null,
            "max_width": null,
            "min_height": null,
            "min_width": null,
            "object_fit": null,
            "object_position": null,
            "order": null,
            "overflow": null,
            "overflow_x": null,
            "overflow_y": null,
            "padding": null,
            "right": null,
            "top": null,
            "visibility": null,
            "width": null
          }
        },
        "28f3c488ded74f1a894f1a4ce39f51c1": {
          "model_module": "@jupyter-widgets/controls",
          "model_name": "IntProgressModel",
          "model_module_version": "1.5.0",
          "state": {
            "_dom_classes": [],
            "_model_module": "@jupyter-widgets/controls",
            "_model_module_version": "1.5.0",
            "_model_name": "IntProgressModel",
            "_view_count": null,
            "_view_module": "@jupyter-widgets/controls",
            "_view_module_version": "1.5.0",
            "_view_name": "ProgressView",
            "bar_style": "success",
            "description": "100.00%",
            "description_tooltip": null,
            "layout": "IPY_MODEL_56c9f8ae4a554c08a1b9ccfb48e7944c",
            "max": 1337,
            "min": 0,
            "orientation": "horizontal",
            "style": "IPY_MODEL_9e138ac2dd81481796b96e44f07160ac",
            "value": 1337
          }
        },
        "84394abbfbbd4a2b924e9bc8de59967b": {
          "model_module": "@jupyter-widgets/controls",
          "model_name": "LabelModel",
          "model_module_version": "1.5.0",
          "state": {
            "_dom_classes": [],
            "_model_module": "@jupyter-widgets/controls",
            "_model_module_version": "1.5.0",
            "_model_name": "LabelModel",
            "_view_count": null,
            "_view_module": "@jupyter-widgets/controls",
            "_view_module_version": "1.5.0",
            "_view_name": "LabelView",
            "description": "",
            "description_tooltip": null,
            "layout": "IPY_MODEL_d40607fce80c48da843a7224938563af",
            "placeholder": "​",
            "style": "IPY_MODEL_5a8b527b8eb64667a13af655fb1fca58",
            "value": "1337 / 1337"
          }
        },
        "412a75b0e56a4cefa4edc2f8c3b89408": {
          "model_module": "@jupyter-widgets/base",
          "model_name": "LayoutModel",
          "model_module_version": "1.2.0",
          "state": {
            "_model_module": "@jupyter-widgets/base",
            "_model_module_version": "1.2.0",
            "_model_name": "LayoutModel",
            "_view_count": null,
            "_view_module": "@jupyter-widgets/base",
            "_view_module_version": "1.2.0",
            "_view_name": "LayoutView",
            "align_content": null,
            "align_items": null,
            "align_self": null,
            "border": null,
            "bottom": null,
            "display": null,
            "flex": null,
            "flex_flow": null,
            "grid_area": null,
            "grid_auto_columns": null,
            "grid_auto_flow": null,
            "grid_auto_rows": null,
            "grid_column": null,
            "grid_gap": null,
            "grid_row": null,
            "grid_template_areas": null,
            "grid_template_columns": null,
            "grid_template_rows": null,
            "height": null,
            "justify_content": null,
            "justify_items": null,
            "left": null,
            "margin": null,
            "max_height": null,
            "max_width": null,
            "min_height": null,
            "min_width": null,
            "object_fit": null,
            "object_position": null,
            "order": null,
            "overflow": null,
            "overflow_x": null,
            "overflow_y": null,
            "padding": null,
            "right": null,
            "top": null,
            "visibility": null,
            "width": null
          }
        },
        "f18a1713394c47cc9707c13edebb946b": {
          "model_module": "@jupyter-widgets/controls",
          "model_name": "IntProgressModel",
          "model_module_version": "1.5.0",
          "state": {
            "_dom_classes": [],
            "_model_module": "@jupyter-widgets/controls",
            "_model_module_version": "1.5.0",
            "_model_name": "IntProgressModel",
            "_view_count": null,
            "_view_module": "@jupyter-widgets/controls",
            "_view_module_version": "1.5.0",
            "_view_name": "ProgressView",
            "bar_style": "success",
            "description": "100.00%",
            "description_tooltip": null,
            "layout": "IPY_MODEL_a9c3767222d744a6ac342802f83acaf1",
            "max": 1337,
            "min": 0,
            "orientation": "horizontal",
            "style": "IPY_MODEL_fb41d769fcb549d58972d0a91a858438",
            "value": 1337
          }
        },
        "1c34172e681f4209942617f6a3911202": {
          "model_module": "@jupyter-widgets/controls",
          "model_name": "LabelModel",
          "model_module_version": "1.5.0",
          "state": {
            "_dom_classes": [],
            "_model_module": "@jupyter-widgets/controls",
            "_model_module_version": "1.5.0",
            "_model_name": "LabelModel",
            "_view_count": null,
            "_view_module": "@jupyter-widgets/controls",
            "_view_module_version": "1.5.0",
            "_view_name": "LabelView",
            "description": "",
            "description_tooltip": null,
            "layout": "IPY_MODEL_f682438ab43c49aa8eb4efc583094bd7",
            "placeholder": "​",
            "style": "IPY_MODEL_753de2553a254b8abfad1ad53be3f9e8",
            "value": "1337 / 1337"
          }
        },
        "1e070c602a1f4d01a39b9fca2871d9d1": {
          "model_module": "@jupyter-widgets/base",
          "model_name": "LayoutModel",
          "model_module_version": "1.2.0",
          "state": {
            "_model_module": "@jupyter-widgets/base",
            "_model_module_version": "1.2.0",
            "_model_name": "LayoutModel",
            "_view_count": null,
            "_view_module": "@jupyter-widgets/base",
            "_view_module_version": "1.2.0",
            "_view_name": "LayoutView",
            "align_content": null,
            "align_items": null,
            "align_self": null,
            "border": null,
            "bottom": null,
            "display": null,
            "flex": null,
            "flex_flow": null,
            "grid_area": null,
            "grid_auto_columns": null,
            "grid_auto_flow": null,
            "grid_auto_rows": null,
            "grid_column": null,
            "grid_gap": null,
            "grid_row": null,
            "grid_template_areas": null,
            "grid_template_columns": null,
            "grid_template_rows": null,
            "height": null,
            "justify_content": null,
            "justify_items": null,
            "left": null,
            "margin": null,
            "max_height": null,
            "max_width": null,
            "min_height": null,
            "min_width": null,
            "object_fit": null,
            "object_position": null,
            "order": null,
            "overflow": null,
            "overflow_x": null,
            "overflow_y": null,
            "padding": null,
            "right": null,
            "top": null,
            "visibility": null,
            "width": null
          }
        },
        "d4526d60de9a470984668f97cc7dedd2": {
          "model_module": "@jupyter-widgets/base",
          "model_name": "LayoutModel",
          "model_module_version": "1.2.0",
          "state": {
            "_model_module": "@jupyter-widgets/base",
            "_model_module_version": "1.2.0",
            "_model_name": "LayoutModel",
            "_view_count": null,
            "_view_module": "@jupyter-widgets/base",
            "_view_module_version": "1.2.0",
            "_view_name": "LayoutView",
            "align_content": null,
            "align_items": null,
            "align_self": null,
            "border": null,
            "bottom": null,
            "display": null,
            "flex": null,
            "flex_flow": null,
            "grid_area": null,
            "grid_auto_columns": null,
            "grid_auto_flow": null,
            "grid_auto_rows": null,
            "grid_column": null,
            "grid_gap": null,
            "grid_row": null,
            "grid_template_areas": null,
            "grid_template_columns": null,
            "grid_template_rows": null,
            "height": null,
            "justify_content": null,
            "justify_items": null,
            "left": null,
            "margin": null,
            "max_height": null,
            "max_width": null,
            "min_height": null,
            "min_width": null,
            "object_fit": null,
            "object_position": null,
            "order": null,
            "overflow": null,
            "overflow_x": null,
            "overflow_y": null,
            "padding": null,
            "right": null,
            "top": null,
            "visibility": null,
            "width": null
          }
        },
        "cae4a332003b4ec39586c340a3bae602": {
          "model_module": "@jupyter-widgets/controls",
          "model_name": "ProgressStyleModel",
          "model_module_version": "1.5.0",
          "state": {
            "_model_module": "@jupyter-widgets/controls",
            "_model_module_version": "1.5.0",
            "_model_name": "ProgressStyleModel",
            "_view_count": null,
            "_view_module": "@jupyter-widgets/base",
            "_view_module_version": "1.2.0",
            "_view_name": "StyleView",
            "bar_color": null,
            "description_width": ""
          }
        },
        "0304b0e03d3849ad82dc7afa1e4ea406": {
          "model_module": "@jupyter-widgets/base",
          "model_name": "LayoutModel",
          "model_module_version": "1.2.0",
          "state": {
            "_model_module": "@jupyter-widgets/base",
            "_model_module_version": "1.2.0",
            "_model_name": "LayoutModel",
            "_view_count": null,
            "_view_module": "@jupyter-widgets/base",
            "_view_module_version": "1.2.0",
            "_view_name": "LayoutView",
            "align_content": null,
            "align_items": null,
            "align_self": null,
            "border": null,
            "bottom": null,
            "display": null,
            "flex": null,
            "flex_flow": null,
            "grid_area": null,
            "grid_auto_columns": null,
            "grid_auto_flow": null,
            "grid_auto_rows": null,
            "grid_column": null,
            "grid_gap": null,
            "grid_row": null,
            "grid_template_areas": null,
            "grid_template_columns": null,
            "grid_template_rows": null,
            "height": null,
            "justify_content": null,
            "justify_items": null,
            "left": null,
            "margin": null,
            "max_height": null,
            "max_width": null,
            "min_height": null,
            "min_width": null,
            "object_fit": null,
            "object_position": null,
            "order": null,
            "overflow": null,
            "overflow_x": null,
            "overflow_y": null,
            "padding": null,
            "right": null,
            "top": null,
            "visibility": null,
            "width": null
          }
        },
        "251a2b9a69c44b94abcbcc39612cf1d7": {
          "model_module": "@jupyter-widgets/controls",
          "model_name": "DescriptionStyleModel",
          "model_module_version": "1.5.0",
          "state": {
            "_model_module": "@jupyter-widgets/controls",
            "_model_module_version": "1.5.0",
            "_model_name": "DescriptionStyleModel",
            "_view_count": null,
            "_view_module": "@jupyter-widgets/base",
            "_view_module_version": "1.2.0",
            "_view_name": "StyleView",
            "description_width": ""
          }
        },
        "56c9f8ae4a554c08a1b9ccfb48e7944c": {
          "model_module": "@jupyter-widgets/base",
          "model_name": "LayoutModel",
          "model_module_version": "1.2.0",
          "state": {
            "_model_module": "@jupyter-widgets/base",
            "_model_module_version": "1.2.0",
            "_model_name": "LayoutModel",
            "_view_count": null,
            "_view_module": "@jupyter-widgets/base",
            "_view_module_version": "1.2.0",
            "_view_name": "LayoutView",
            "align_content": null,
            "align_items": null,
            "align_self": null,
            "border": null,
            "bottom": null,
            "display": null,
            "flex": null,
            "flex_flow": null,
            "grid_area": null,
            "grid_auto_columns": null,
            "grid_auto_flow": null,
            "grid_auto_rows": null,
            "grid_column": null,
            "grid_gap": null,
            "grid_row": null,
            "grid_template_areas": null,
            "grid_template_columns": null,
            "grid_template_rows": null,
            "height": null,
            "justify_content": null,
            "justify_items": null,
            "left": null,
            "margin": null,
            "max_height": null,
            "max_width": null,
            "min_height": null,
            "min_width": null,
            "object_fit": null,
            "object_position": null,
            "order": null,
            "overflow": null,
            "overflow_x": null,
            "overflow_y": null,
            "padding": null,
            "right": null,
            "top": null,
            "visibility": null,
            "width": null
          }
        },
        "9e138ac2dd81481796b96e44f07160ac": {
          "model_module": "@jupyter-widgets/controls",
          "model_name": "ProgressStyleModel",
          "model_module_version": "1.5.0",
          "state": {
            "_model_module": "@jupyter-widgets/controls",
            "_model_module_version": "1.5.0",
            "_model_name": "ProgressStyleModel",
            "_view_count": null,
            "_view_module": "@jupyter-widgets/base",
            "_view_module_version": "1.2.0",
            "_view_name": "StyleView",
            "bar_color": null,
            "description_width": ""
          }
        },
        "d40607fce80c48da843a7224938563af": {
          "model_module": "@jupyter-widgets/base",
          "model_name": "LayoutModel",
          "model_module_version": "1.2.0",
          "state": {
            "_model_module": "@jupyter-widgets/base",
            "_model_module_version": "1.2.0",
            "_model_name": "LayoutModel",
            "_view_count": null,
            "_view_module": "@jupyter-widgets/base",
            "_view_module_version": "1.2.0",
            "_view_name": "LayoutView",
            "align_content": null,
            "align_items": null,
            "align_self": null,
            "border": null,
            "bottom": null,
            "display": null,
            "flex": null,
            "flex_flow": null,
            "grid_area": null,
            "grid_auto_columns": null,
            "grid_auto_flow": null,
            "grid_auto_rows": null,
            "grid_column": null,
            "grid_gap": null,
            "grid_row": null,
            "grid_template_areas": null,
            "grid_template_columns": null,
            "grid_template_rows": null,
            "height": null,
            "justify_content": null,
            "justify_items": null,
            "left": null,
            "margin": null,
            "max_height": null,
            "max_width": null,
            "min_height": null,
            "min_width": null,
            "object_fit": null,
            "object_position": null,
            "order": null,
            "overflow": null,
            "overflow_x": null,
            "overflow_y": null,
            "padding": null,
            "right": null,
            "top": null,
            "visibility": null,
            "width": null
          }
        },
        "5a8b527b8eb64667a13af655fb1fca58": {
          "model_module": "@jupyter-widgets/controls",
          "model_name": "DescriptionStyleModel",
          "model_module_version": "1.5.0",
          "state": {
            "_model_module": "@jupyter-widgets/controls",
            "_model_module_version": "1.5.0",
            "_model_name": "DescriptionStyleModel",
            "_view_count": null,
            "_view_module": "@jupyter-widgets/base",
            "_view_module_version": "1.2.0",
            "_view_name": "StyleView",
            "description_width": ""
          }
        },
        "a9c3767222d744a6ac342802f83acaf1": {
          "model_module": "@jupyter-widgets/base",
          "model_name": "LayoutModel",
          "model_module_version": "1.2.0",
          "state": {
            "_model_module": "@jupyter-widgets/base",
            "_model_module_version": "1.2.0",
            "_model_name": "LayoutModel",
            "_view_count": null,
            "_view_module": "@jupyter-widgets/base",
            "_view_module_version": "1.2.0",
            "_view_name": "LayoutView",
            "align_content": null,
            "align_items": null,
            "align_self": null,
            "border": null,
            "bottom": null,
            "display": null,
            "flex": null,
            "flex_flow": null,
            "grid_area": null,
            "grid_auto_columns": null,
            "grid_auto_flow": null,
            "grid_auto_rows": null,
            "grid_column": null,
            "grid_gap": null,
            "grid_row": null,
            "grid_template_areas": null,
            "grid_template_columns": null,
            "grid_template_rows": null,
            "height": null,
            "justify_content": null,
            "justify_items": null,
            "left": null,
            "margin": null,
            "max_height": null,
            "max_width": null,
            "min_height": null,
            "min_width": null,
            "object_fit": null,
            "object_position": null,
            "order": null,
            "overflow": null,
            "overflow_x": null,
            "overflow_y": null,
            "padding": null,
            "right": null,
            "top": null,
            "visibility": null,
            "width": null
          }
        },
        "fb41d769fcb549d58972d0a91a858438": {
          "model_module": "@jupyter-widgets/controls",
          "model_name": "ProgressStyleModel",
          "model_module_version": "1.5.0",
          "state": {
            "_model_module": "@jupyter-widgets/controls",
            "_model_module_version": "1.5.0",
            "_model_name": "ProgressStyleModel",
            "_view_count": null,
            "_view_module": "@jupyter-widgets/base",
            "_view_module_version": "1.2.0",
            "_view_name": "StyleView",
            "bar_color": null,
            "description_width": ""
          }
        },
        "f682438ab43c49aa8eb4efc583094bd7": {
          "model_module": "@jupyter-widgets/base",
          "model_name": "LayoutModel",
          "model_module_version": "1.2.0",
          "state": {
            "_model_module": "@jupyter-widgets/base",
            "_model_module_version": "1.2.0",
            "_model_name": "LayoutModel",
            "_view_count": null,
            "_view_module": "@jupyter-widgets/base",
            "_view_module_version": "1.2.0",
            "_view_name": "LayoutView",
            "align_content": null,
            "align_items": null,
            "align_self": null,
            "border": null,
            "bottom": null,
            "display": null,
            "flex": null,
            "flex_flow": null,
            "grid_area": null,
            "grid_auto_columns": null,
            "grid_auto_flow": null,
            "grid_auto_rows": null,
            "grid_column": null,
            "grid_gap": null,
            "grid_row": null,
            "grid_template_areas": null,
            "grid_template_columns": null,
            "grid_template_rows": null,
            "height": null,
            "justify_content": null,
            "justify_items": null,
            "left": null,
            "margin": null,
            "max_height": null,
            "max_width": null,
            "min_height": null,
            "min_width": null,
            "object_fit": null,
            "object_position": null,
            "order": null,
            "overflow": null,
            "overflow_x": null,
            "overflow_y": null,
            "padding": null,
            "right": null,
            "top": null,
            "visibility": null,
            "width": null
          }
        },
        "753de2553a254b8abfad1ad53be3f9e8": {
          "model_module": "@jupyter-widgets/controls",
          "model_name": "DescriptionStyleModel",
          "model_module_version": "1.5.0",
          "state": {
            "_model_module": "@jupyter-widgets/controls",
            "_model_module_version": "1.5.0",
            "_model_name": "DescriptionStyleModel",
            "_view_count": null,
            "_view_module": "@jupyter-widgets/base",
            "_view_module_version": "1.2.0",
            "_view_name": "StyleView",
            "description_width": ""
          }
        }
      }
    }
  },
  "cells": [
    {
      "cell_type": "markdown",
      "source": [
        "# Critical Topic Modeling\n",
        "\n",
        "The episodes are about four to four and a half hours long. That is a lot of time to spend watching something, so I wanted to know how well an LDA model can describe what happened and if it can tell me the order of which the topics happen. I am coming for you Flando Maltrizian!"
      ],
      "metadata": {
        "id": "Rcy6eDCfN6iG"
      }
    },
    {
      "cell_type": "markdown",
      "source": [
        "## Import Libraries"
      ],
      "metadata": {
        "id": "sFiVxnKcN-rV"
      }
    },
    {
      "cell_type": "code",
      "execution_count": 1,
      "metadata": {
        "colab": {
          "base_uri": "https://localhost:8080/"
        },
        "id": "EUvbI0XCNr4B",
        "outputId": "7caee73f-5b71-4688-f40e-35988329e9f1"
      },
      "outputs": [
        {
          "output_type": "stream",
          "name": "stdout",
          "text": [
            "Collecting pyLDAvis==3.3.1\n",
            "  Downloading pyLDAvis-3.3.1.tar.gz (1.7 MB)\n",
            "\u001b[?25l\r\u001b[K     |▏                               | 10 kB 28.0 MB/s eta 0:00:01\r\u001b[K     |▍                               | 20 kB 30.7 MB/s eta 0:00:01\r\u001b[K     |▋                               | 30 kB 29.4 MB/s eta 0:00:01\r\u001b[K     |▉                               | 40 kB 9.3 MB/s eta 0:00:01\r\u001b[K     |█                               | 51 kB 10.7 MB/s eta 0:00:01\r\u001b[K     |█▏                              | 61 kB 12.4 MB/s eta 0:00:01\r\u001b[K     |█▍                              | 71 kB 9.6 MB/s eta 0:00:01\r\u001b[K     |█▋                              | 81 kB 10.3 MB/s eta 0:00:01\r\u001b[K     |█▉                              | 92 kB 11.4 MB/s eta 0:00:01\r\u001b[K     |██                              | 102 kB 9.9 MB/s eta 0:00:01\r\u001b[K     |██▏                             | 112 kB 9.9 MB/s eta 0:00:01\r\u001b[K     |██▍                             | 122 kB 9.9 MB/s eta 0:00:01\r\u001b[K     |██▋                             | 133 kB 9.9 MB/s eta 0:00:01\r\u001b[K     |██▊                             | 143 kB 9.9 MB/s eta 0:00:01\r\u001b[K     |███                             | 153 kB 9.9 MB/s eta 0:00:01\r\u001b[K     |███▏                            | 163 kB 9.9 MB/s eta 0:00:01\r\u001b[K     |███▍                            | 174 kB 9.9 MB/s eta 0:00:01\r\u001b[K     |███▋                            | 184 kB 9.9 MB/s eta 0:00:01\r\u001b[K     |███▊                            | 194 kB 9.9 MB/s eta 0:00:01\r\u001b[K     |████                            | 204 kB 9.9 MB/s eta 0:00:01\r\u001b[K     |████▏                           | 215 kB 9.9 MB/s eta 0:00:01\r\u001b[K     |████▍                           | 225 kB 9.9 MB/s eta 0:00:01\r\u001b[K     |████▋                           | 235 kB 9.9 MB/s eta 0:00:01\r\u001b[K     |████▊                           | 245 kB 9.9 MB/s eta 0:00:01\r\u001b[K     |█████                           | 256 kB 9.9 MB/s eta 0:00:01\r\u001b[K     |█████▏                          | 266 kB 9.9 MB/s eta 0:00:01\r\u001b[K     |█████▍                          | 276 kB 9.9 MB/s eta 0:00:01\r\u001b[K     |█████▌                          | 286 kB 9.9 MB/s eta 0:00:01\r\u001b[K     |█████▊                          | 296 kB 9.9 MB/s eta 0:00:01\r\u001b[K     |██████                          | 307 kB 9.9 MB/s eta 0:00:01\r\u001b[K     |██████▏                         | 317 kB 9.9 MB/s eta 0:00:01\r\u001b[K     |██████▍                         | 327 kB 9.9 MB/s eta 0:00:01\r\u001b[K     |██████▌                         | 337 kB 9.9 MB/s eta 0:00:01\r\u001b[K     |██████▊                         | 348 kB 9.9 MB/s eta 0:00:01\r\u001b[K     |███████                         | 358 kB 9.9 MB/s eta 0:00:01\r\u001b[K     |███████▏                        | 368 kB 9.9 MB/s eta 0:00:01\r\u001b[K     |███████▎                        | 378 kB 9.9 MB/s eta 0:00:01\r\u001b[K     |███████▌                        | 389 kB 9.9 MB/s eta 0:00:01\r\u001b[K     |███████▊                        | 399 kB 9.9 MB/s eta 0:00:01\r\u001b[K     |████████                        | 409 kB 9.9 MB/s eta 0:00:01\r\u001b[K     |████████▏                       | 419 kB 9.9 MB/s eta 0:00:01\r\u001b[K     |████████▎                       | 430 kB 9.9 MB/s eta 0:00:01\r\u001b[K     |████████▌                       | 440 kB 9.9 MB/s eta 0:00:01\r\u001b[K     |████████▊                       | 450 kB 9.9 MB/s eta 0:00:01\r\u001b[K     |█████████                       | 460 kB 9.9 MB/s eta 0:00:01\r\u001b[K     |█████████▏                      | 471 kB 9.9 MB/s eta 0:00:01\r\u001b[K     |█████████▎                      | 481 kB 9.9 MB/s eta 0:00:01\r\u001b[K     |█████████▌                      | 491 kB 9.9 MB/s eta 0:00:01\r\u001b[K     |█████████▊                      | 501 kB 9.9 MB/s eta 0:00:01\r\u001b[K     |██████████                      | 512 kB 9.9 MB/s eta 0:00:01\r\u001b[K     |██████████                      | 522 kB 9.9 MB/s eta 0:00:01\r\u001b[K     |██████████▎                     | 532 kB 9.9 MB/s eta 0:00:01\r\u001b[K     |██████████▌                     | 542 kB 9.9 MB/s eta 0:00:01\r\u001b[K     |██████████▊                     | 552 kB 9.9 MB/s eta 0:00:01\r\u001b[K     |███████████                     | 563 kB 9.9 MB/s eta 0:00:01\r\u001b[K     |███████████                     | 573 kB 9.9 MB/s eta 0:00:01\r\u001b[K     |███████████▎                    | 583 kB 9.9 MB/s eta 0:00:01\r\u001b[K     |███████████▌                    | 593 kB 9.9 MB/s eta 0:00:01\r\u001b[K     |███████████▊                    | 604 kB 9.9 MB/s eta 0:00:01\r\u001b[K     |███████████▉                    | 614 kB 9.9 MB/s eta 0:00:01\r\u001b[K     |████████████                    | 624 kB 9.9 MB/s eta 0:00:01\r\u001b[K     |████████████▎                   | 634 kB 9.9 MB/s eta 0:00:01\r\u001b[K     |████████████▌                   | 645 kB 9.9 MB/s eta 0:00:01\r\u001b[K     |████████████▊                   | 655 kB 9.9 MB/s eta 0:00:01\r\u001b[K     |████████████▉                   | 665 kB 9.9 MB/s eta 0:00:01\r\u001b[K     |█████████████                   | 675 kB 9.9 MB/s eta 0:00:01\r\u001b[K     |█████████████▎                  | 686 kB 9.9 MB/s eta 0:00:01\r\u001b[K     |█████████████▌                  | 696 kB 9.9 MB/s eta 0:00:01\r\u001b[K     |█████████████▊                  | 706 kB 9.9 MB/s eta 0:00:01\r\u001b[K     |█████████████▉                  | 716 kB 9.9 MB/s eta 0:00:01\r\u001b[K     |██████████████                  | 727 kB 9.9 MB/s eta 0:00:01\r\u001b[K     |██████████████▎                 | 737 kB 9.9 MB/s eta 0:00:01\r\u001b[K     |██████████████▌                 | 747 kB 9.9 MB/s eta 0:00:01\r\u001b[K     |██████████████▋                 | 757 kB 9.9 MB/s eta 0:00:01\r\u001b[K     |██████████████▉                 | 768 kB 9.9 MB/s eta 0:00:01\r\u001b[K     |███████████████                 | 778 kB 9.9 MB/s eta 0:00:01\r\u001b[K     |███████████████▎                | 788 kB 9.9 MB/s eta 0:00:01\r\u001b[K     |███████████████▌                | 798 kB 9.9 MB/s eta 0:00:01\r\u001b[K     |███████████████▋                | 808 kB 9.9 MB/s eta 0:00:01\r\u001b[K     |███████████████▉                | 819 kB 9.9 MB/s eta 0:00:01\r\u001b[K     |████████████████                | 829 kB 9.9 MB/s eta 0:00:01\r\u001b[K     |████████████████▎               | 839 kB 9.9 MB/s eta 0:00:01\r\u001b[K     |████████████████▍               | 849 kB 9.9 MB/s eta 0:00:01\r\u001b[K     |████████████████▋               | 860 kB 9.9 MB/s eta 0:00:01\r\u001b[K     |████████████████▉               | 870 kB 9.9 MB/s eta 0:00:01\r\u001b[K     |█████████████████               | 880 kB 9.9 MB/s eta 0:00:01\r\u001b[K     |█████████████████▎              | 890 kB 9.9 MB/s eta 0:00:01\r\u001b[K     |█████████████████▍              | 901 kB 9.9 MB/s eta 0:00:01\r\u001b[K     |█████████████████▋              | 911 kB 9.9 MB/s eta 0:00:01\r\u001b[K     |█████████████████▉              | 921 kB 9.9 MB/s eta 0:00:01\r\u001b[K     |██████████████████              | 931 kB 9.9 MB/s eta 0:00:01\r\u001b[K     |██████████████████▎             | 942 kB 9.9 MB/s eta 0:00:01\r\u001b[K     |██████████████████▍             | 952 kB 9.9 MB/s eta 0:00:01\r\u001b[K     |██████████████████▋             | 962 kB 9.9 MB/s eta 0:00:01\r\u001b[K     |██████████████████▉             | 972 kB 9.9 MB/s eta 0:00:01\r\u001b[K     |███████████████████             | 983 kB 9.9 MB/s eta 0:00:01\r\u001b[K     |███████████████████▏            | 993 kB 9.9 MB/s eta 0:00:01\r\u001b[K     |███████████████████▍            | 1.0 MB 9.9 MB/s eta 0:00:01\r\u001b[K     |███████████████████▋            | 1.0 MB 9.9 MB/s eta 0:00:01\r\u001b[K     |███████████████████▉            | 1.0 MB 9.9 MB/s eta 0:00:01\r\u001b[K     |████████████████████            | 1.0 MB 9.9 MB/s eta 0:00:01\r\u001b[K     |████████████████████▏           | 1.0 MB 9.9 MB/s eta 0:00:01\r\u001b[K     |████████████████████▍           | 1.1 MB 9.9 MB/s eta 0:00:01\r\u001b[K     |████████████████████▋           | 1.1 MB 9.9 MB/s eta 0:00:01\r\u001b[K     |████████████████████▉           | 1.1 MB 9.9 MB/s eta 0:00:01\r\u001b[K     |█████████████████████           | 1.1 MB 9.9 MB/s eta 0:00:01\r\u001b[K     |█████████████████████▏          | 1.1 MB 9.9 MB/s eta 0:00:01\r\u001b[K     |█████████████████████▍          | 1.1 MB 9.9 MB/s eta 0:00:01\r\u001b[K     |█████████████████████▋          | 1.1 MB 9.9 MB/s eta 0:00:01\r\u001b[K     |█████████████████████▉          | 1.1 MB 9.9 MB/s eta 0:00:01\r\u001b[K     |██████████████████████          | 1.1 MB 9.9 MB/s eta 0:00:01\r\u001b[K     |██████████████████████▏         | 1.1 MB 9.9 MB/s eta 0:00:01\r\u001b[K     |██████████████████████▍         | 1.2 MB 9.9 MB/s eta 0:00:01\r\u001b[K     |██████████████████████▋         | 1.2 MB 9.9 MB/s eta 0:00:01\r\u001b[K     |██████████████████████▉         | 1.2 MB 9.9 MB/s eta 0:00:01\r\u001b[K     |███████████████████████         | 1.2 MB 9.9 MB/s eta 0:00:01\r\u001b[K     |███████████████████████▏        | 1.2 MB 9.9 MB/s eta 0:00:01\r\u001b[K     |███████████████████████▍        | 1.2 MB 9.9 MB/s eta 0:00:01\r\u001b[K     |███████████████████████▋        | 1.2 MB 9.9 MB/s eta 0:00:01\r\u001b[K     |███████████████████████▊        | 1.2 MB 9.9 MB/s eta 0:00:01\r\u001b[K     |████████████████████████        | 1.2 MB 9.9 MB/s eta 0:00:01\r\u001b[K     |████████████████████████▏       | 1.2 MB 9.9 MB/s eta 0:00:01\r\u001b[K     |████████████████████████▍       | 1.3 MB 9.9 MB/s eta 0:00:01\r\u001b[K     |████████████████████████▋       | 1.3 MB 9.9 MB/s eta 0:00:01\r\u001b[K     |████████████████████████▊       | 1.3 MB 9.9 MB/s eta 0:00:01\r\u001b[K     |█████████████████████████       | 1.3 MB 9.9 MB/s eta 0:00:01\r\u001b[K     |█████████████████████████▏      | 1.3 MB 9.9 MB/s eta 0:00:01\r\u001b[K     |█████████████████████████▍      | 1.3 MB 9.9 MB/s eta 0:00:01\r\u001b[K     |█████████████████████████▌      | 1.3 MB 9.9 MB/s eta 0:00:01\r\u001b[K     |█████████████████████████▊      | 1.3 MB 9.9 MB/s eta 0:00:01\r\u001b[K     |██████████████████████████      | 1.3 MB 9.9 MB/s eta 0:00:01\r\u001b[K     |██████████████████████████▏     | 1.4 MB 9.9 MB/s eta 0:00:01\r\u001b[K     |██████████████████████████▍     | 1.4 MB 9.9 MB/s eta 0:00:01\r\u001b[K     |██████████████████████████▌     | 1.4 MB 9.9 MB/s eta 0:00:01\r\u001b[K     |██████████████████████████▊     | 1.4 MB 9.9 MB/s eta 0:00:01\r\u001b[K     |███████████████████████████     | 1.4 MB 9.9 MB/s eta 0:00:01\r\u001b[K     |███████████████████████████▏    | 1.4 MB 9.9 MB/s eta 0:00:01\r\u001b[K     |███████████████████████████▍    | 1.4 MB 9.9 MB/s eta 0:00:01\r\u001b[K     |███████████████████████████▌    | 1.4 MB 9.9 MB/s eta 0:00:01\r\u001b[K     |███████████████████████████▊    | 1.4 MB 9.9 MB/s eta 0:00:01\r\u001b[K     |████████████████████████████    | 1.4 MB 9.9 MB/s eta 0:00:01\r\u001b[K     |████████████████████████████▏   | 1.5 MB 9.9 MB/s eta 0:00:01\r\u001b[K     |████████████████████████████▎   | 1.5 MB 9.9 MB/s eta 0:00:01\r\u001b[K     |████████████████████████████▌   | 1.5 MB 9.9 MB/s eta 0:00:01\r\u001b[K     |████████████████████████████▊   | 1.5 MB 9.9 MB/s eta 0:00:01\r\u001b[K     |█████████████████████████████   | 1.5 MB 9.9 MB/s eta 0:00:01\r\u001b[K     |█████████████████████████████▏  | 1.5 MB 9.9 MB/s eta 0:00:01\r\u001b[K     |█████████████████████████████▎  | 1.5 MB 9.9 MB/s eta 0:00:01\r\u001b[K     |█████████████████████████████▌  | 1.5 MB 9.9 MB/s eta 0:00:01\r\u001b[K     |█████████████████████████████▊  | 1.5 MB 9.9 MB/s eta 0:00:01\r\u001b[K     |██████████████████████████████  | 1.5 MB 9.9 MB/s eta 0:00:01\r\u001b[K     |██████████████████████████████▏ | 1.6 MB 9.9 MB/s eta 0:00:01\r\u001b[K     |██████████████████████████████▎ | 1.6 MB 9.9 MB/s eta 0:00:01\r\u001b[K     |██████████████████████████████▌ | 1.6 MB 9.9 MB/s eta 0:00:01\r\u001b[K     |██████████████████████████████▊ | 1.6 MB 9.9 MB/s eta 0:00:01\r\u001b[K     |███████████████████████████████ | 1.6 MB 9.9 MB/s eta 0:00:01\r\u001b[K     |███████████████████████████████ | 1.6 MB 9.9 MB/s eta 0:00:01\r\u001b[K     |███████████████████████████████▎| 1.6 MB 9.9 MB/s eta 0:00:01\r\u001b[K     |███████████████████████████████▌| 1.6 MB 9.9 MB/s eta 0:00:01\r\u001b[K     |███████████████████████████████▊| 1.6 MB 9.9 MB/s eta 0:00:01\r\u001b[K     |████████████████████████████████| 1.6 MB 9.9 MB/s eta 0:00:01\r\u001b[K     |████████████████████████████████| 1.7 MB 9.9 MB/s \n",
            "\u001b[?25h  Installing build dependencies ... \u001b[?25l\u001b[?25hdone\n",
            "  Getting requirements to build wheel ... \u001b[?25l\u001b[?25hdone\n",
            "  Installing backend dependencies ... \u001b[?25l\u001b[?25hdone\n",
            "    Preparing wheel metadata ... \u001b[?25l\u001b[?25hdone\n",
            "Requirement already satisfied: numexpr in /usr/local/lib/python3.7/dist-packages (from pyLDAvis==3.3.1) (2.8.1)\n",
            "Requirement already satisfied: numpy>=1.20.0 in /usr/local/lib/python3.7/dist-packages (from pyLDAvis==3.3.1) (1.21.5)\n",
            "Requirement already satisfied: joblib in /usr/local/lib/python3.7/dist-packages (from pyLDAvis==3.3.1) (1.1.0)\n",
            "Requirement already satisfied: scikit-learn in /usr/local/lib/python3.7/dist-packages (from pyLDAvis==3.3.1) (1.0.2)\n",
            "Requirement already satisfied: gensim in /usr/local/lib/python3.7/dist-packages (from pyLDAvis==3.3.1) (3.6.0)\n",
            "Requirement already satisfied: setuptools in /usr/local/lib/python3.7/dist-packages (from pyLDAvis==3.3.1) (57.4.0)\n",
            "Requirement already satisfied: sklearn in /usr/local/lib/python3.7/dist-packages (from pyLDAvis==3.3.1) (0.0)\n",
            "Collecting funcy\n",
            "  Downloading funcy-1.17-py2.py3-none-any.whl (33 kB)\n",
            "Requirement already satisfied: scipy in /usr/local/lib/python3.7/dist-packages (from pyLDAvis==3.3.1) (1.4.1)\n",
            "Requirement already satisfied: pandas>=1.2.0 in /usr/local/lib/python3.7/dist-packages (from pyLDAvis==3.3.1) (1.3.5)\n",
            "Requirement already satisfied: future in /usr/local/lib/python3.7/dist-packages (from pyLDAvis==3.3.1) (0.16.0)\n",
            "Requirement already satisfied: jinja2 in /usr/local/lib/python3.7/dist-packages (from pyLDAvis==3.3.1) (2.11.3)\n",
            "Requirement already satisfied: pytz>=2017.3 in /usr/local/lib/python3.7/dist-packages (from pandas>=1.2.0->pyLDAvis==3.3.1) (2018.9)\n",
            "Requirement already satisfied: python-dateutil>=2.7.3 in /usr/local/lib/python3.7/dist-packages (from pandas>=1.2.0->pyLDAvis==3.3.1) (2.8.2)\n",
            "Requirement already satisfied: six>=1.5 in /usr/local/lib/python3.7/dist-packages (from python-dateutil>=2.7.3->pandas>=1.2.0->pyLDAvis==3.3.1) (1.15.0)\n",
            "Requirement already satisfied: smart-open>=1.2.1 in /usr/local/lib/python3.7/dist-packages (from gensim->pyLDAvis==3.3.1) (5.2.1)\n",
            "Requirement already satisfied: MarkupSafe>=0.23 in /usr/local/lib/python3.7/dist-packages (from jinja2->pyLDAvis==3.3.1) (2.0.1)\n",
            "Requirement already satisfied: packaging in /usr/local/lib/python3.7/dist-packages (from numexpr->pyLDAvis==3.3.1) (21.3)\n",
            "Requirement already satisfied: pyparsing!=3.0.5,>=2.0.2 in /usr/local/lib/python3.7/dist-packages (from packaging->numexpr->pyLDAvis==3.3.1) (3.0.7)\n",
            "Requirement already satisfied: threadpoolctl>=2.0.0 in /usr/local/lib/python3.7/dist-packages (from scikit-learn->pyLDAvis==3.3.1) (3.1.0)\n",
            "Building wheels for collected packages: pyLDAvis\n",
            "  Building wheel for pyLDAvis (PEP 517) ... \u001b[?25l\u001b[?25hdone\n",
            "  Created wheel for pyLDAvis: filename=pyLDAvis-3.3.1-py2.py3-none-any.whl size=136898 sha256=4f90c41271644a580478b5a75a510e59319e8b119f09b4ac48307beda3908a51\n",
            "  Stored in directory: /root/.cache/pip/wheels/c9/21/f6/17bcf2667e8a68532ba2fbf6d5c72fdf4c7f7d9abfa4852d2f\n",
            "Successfully built pyLDAvis\n",
            "Installing collected packages: funcy, pyLDAvis\n",
            "Successfully installed funcy-1.17 pyLDAvis-3.3.1\n"
          ]
        }
      ],
      "source": [
        "!pip install pyLDAvis==3.3.1"
      ]
    },
    {
      "cell_type": "code",
      "source": [
        "!pip install ipywidgets"
      ],
      "metadata": {
        "colab": {
          "base_uri": "https://localhost:8080/"
        },
        "id": "8Zp2k0T_sA5Y",
        "outputId": "d2165c8b-a652-48df-f976-80a7cc0123ce"
      },
      "execution_count": 30,
      "outputs": [
        {
          "output_type": "stream",
          "name": "stdout",
          "text": [
            "Requirement already satisfied: ipywidgets in /usr/local/lib/python3.7/dist-packages (7.7.0)\n",
            "Requirement already satisfied: traitlets>=4.3.1 in /usr/local/lib/python3.7/dist-packages (from ipywidgets) (5.1.1)\n",
            "Requirement already satisfied: ipython-genutils~=0.2.0 in /usr/local/lib/python3.7/dist-packages (from ipywidgets) (0.2.0)\n",
            "Requirement already satisfied: ipython>=4.0.0 in /usr/local/lib/python3.7/dist-packages (from ipywidgets) (5.5.0)\n",
            "Requirement already satisfied: jupyterlab-widgets>=1.0.0 in /usr/local/lib/python3.7/dist-packages (from ipywidgets) (1.1.0)\n",
            "Requirement already satisfied: nbformat>=4.2.0 in /usr/local/lib/python3.7/dist-packages (from ipywidgets) (5.2.0)\n",
            "Requirement already satisfied: ipykernel>=4.5.1 in /usr/local/lib/python3.7/dist-packages (from ipywidgets) (4.10.1)\n",
            "Requirement already satisfied: widgetsnbextension~=3.6.0 in /usr/local/lib/python3.7/dist-packages (from ipywidgets) (3.6.0)\n",
            "Requirement already satisfied: jupyter-client in /usr/local/lib/python3.7/dist-packages (from ipykernel>=4.5.1->ipywidgets) (5.3.5)\n",
            "Requirement already satisfied: tornado>=4.0 in /usr/local/lib/python3.7/dist-packages (from ipykernel>=4.5.1->ipywidgets) (5.1.1)\n",
            "Requirement already satisfied: pexpect in /usr/local/lib/python3.7/dist-packages (from ipython>=4.0.0->ipywidgets) (4.8.0)\n",
            "Requirement already satisfied: setuptools>=18.5 in /usr/local/lib/python3.7/dist-packages (from ipython>=4.0.0->ipywidgets) (57.4.0)\n",
            "Requirement already satisfied: pygments in /usr/local/lib/python3.7/dist-packages (from ipython>=4.0.0->ipywidgets) (2.6.1)\n",
            "Requirement already satisfied: prompt-toolkit<2.0.0,>=1.0.4 in /usr/local/lib/python3.7/dist-packages (from ipython>=4.0.0->ipywidgets) (1.0.18)\n",
            "Requirement already satisfied: pickleshare in /usr/local/lib/python3.7/dist-packages (from ipython>=4.0.0->ipywidgets) (0.7.5)\n",
            "Requirement already satisfied: simplegeneric>0.8 in /usr/local/lib/python3.7/dist-packages (from ipython>=4.0.0->ipywidgets) (0.8.1)\n",
            "Requirement already satisfied: decorator in /usr/local/lib/python3.7/dist-packages (from ipython>=4.0.0->ipywidgets) (4.4.2)\n",
            "Requirement already satisfied: jupyter-core in /usr/local/lib/python3.7/dist-packages (from nbformat>=4.2.0->ipywidgets) (4.9.2)\n",
            "Requirement already satisfied: jsonschema!=2.5.0,>=2.4 in /usr/local/lib/python3.7/dist-packages (from nbformat>=4.2.0->ipywidgets) (4.3.3)\n",
            "Requirement already satisfied: importlib-metadata in /usr/local/lib/python3.7/dist-packages (from jsonschema!=2.5.0,>=2.4->nbformat>=4.2.0->ipywidgets) (4.11.3)\n",
            "Requirement already satisfied: pyrsistent!=0.17.0,!=0.17.1,!=0.17.2,>=0.14.0 in /usr/local/lib/python3.7/dist-packages (from jsonschema!=2.5.0,>=2.4->nbformat>=4.2.0->ipywidgets) (0.18.1)\n",
            "Requirement already satisfied: attrs>=17.4.0 in /usr/local/lib/python3.7/dist-packages (from jsonschema!=2.5.0,>=2.4->nbformat>=4.2.0->ipywidgets) (21.4.0)\n",
            "Requirement already satisfied: typing-extensions in /usr/local/lib/python3.7/dist-packages (from jsonschema!=2.5.0,>=2.4->nbformat>=4.2.0->ipywidgets) (3.10.0.2)\n",
            "Requirement already satisfied: importlib-resources>=1.4.0 in /usr/local/lib/python3.7/dist-packages (from jsonschema!=2.5.0,>=2.4->nbformat>=4.2.0->ipywidgets) (5.4.0)\n",
            "Requirement already satisfied: zipp>=3.1.0 in /usr/local/lib/python3.7/dist-packages (from importlib-resources>=1.4.0->jsonschema!=2.5.0,>=2.4->nbformat>=4.2.0->ipywidgets) (3.7.0)\n",
            "Requirement already satisfied: wcwidth in /usr/local/lib/python3.7/dist-packages (from prompt-toolkit<2.0.0,>=1.0.4->ipython>=4.0.0->ipywidgets) (0.2.5)\n",
            "Requirement already satisfied: six>=1.9.0 in /usr/local/lib/python3.7/dist-packages (from prompt-toolkit<2.0.0,>=1.0.4->ipython>=4.0.0->ipywidgets) (1.15.0)\n",
            "Requirement already satisfied: notebook>=4.4.1 in /usr/local/lib/python3.7/dist-packages (from widgetsnbextension~=3.6.0->ipywidgets) (5.3.1)\n",
            "Requirement already satisfied: jinja2 in /usr/local/lib/python3.7/dist-packages (from notebook>=4.4.1->widgetsnbextension~=3.6.0->ipywidgets) (2.11.3)\n",
            "Requirement already satisfied: nbconvert in /usr/local/lib/python3.7/dist-packages (from notebook>=4.4.1->widgetsnbextension~=3.6.0->ipywidgets) (5.6.1)\n",
            "Requirement already satisfied: Send2Trash in /usr/local/lib/python3.7/dist-packages (from notebook>=4.4.1->widgetsnbextension~=3.6.0->ipywidgets) (1.8.0)\n",
            "Requirement already satisfied: terminado>=0.8.1 in /usr/local/lib/python3.7/dist-packages (from notebook>=4.4.1->widgetsnbextension~=3.6.0->ipywidgets) (0.13.3)\n",
            "Requirement already satisfied: python-dateutil>=2.1 in /usr/local/lib/python3.7/dist-packages (from jupyter-client->ipykernel>=4.5.1->ipywidgets) (2.8.2)\n",
            "Requirement already satisfied: pyzmq>=13 in /usr/local/lib/python3.7/dist-packages (from jupyter-client->ipykernel>=4.5.1->ipywidgets) (22.3.0)\n",
            "Requirement already satisfied: ptyprocess in /usr/local/lib/python3.7/dist-packages (from terminado>=0.8.1->notebook>=4.4.1->widgetsnbextension~=3.6.0->ipywidgets) (0.7.0)\n",
            "Requirement already satisfied: MarkupSafe>=0.23 in /usr/local/lib/python3.7/dist-packages (from jinja2->notebook>=4.4.1->widgetsnbextension~=3.6.0->ipywidgets) (2.0.1)\n",
            "Requirement already satisfied: entrypoints>=0.2.2 in /usr/local/lib/python3.7/dist-packages (from nbconvert->notebook>=4.4.1->widgetsnbextension~=3.6.0->ipywidgets) (0.4)\n",
            "Requirement already satisfied: defusedxml in /usr/local/lib/python3.7/dist-packages (from nbconvert->notebook>=4.4.1->widgetsnbextension~=3.6.0->ipywidgets) (0.7.1)\n",
            "Requirement already satisfied: bleach in /usr/local/lib/python3.7/dist-packages (from nbconvert->notebook>=4.4.1->widgetsnbextension~=3.6.0->ipywidgets) (4.1.0)\n",
            "Requirement already satisfied: mistune<2,>=0.8.1 in /usr/local/lib/python3.7/dist-packages (from nbconvert->notebook>=4.4.1->widgetsnbextension~=3.6.0->ipywidgets) (0.8.4)\n",
            "Requirement already satisfied: pandocfilters>=1.4.1 in /usr/local/lib/python3.7/dist-packages (from nbconvert->notebook>=4.4.1->widgetsnbextension~=3.6.0->ipywidgets) (1.5.0)\n",
            "Requirement already satisfied: testpath in /usr/local/lib/python3.7/dist-packages (from nbconvert->notebook>=4.4.1->widgetsnbextension~=3.6.0->ipywidgets) (0.6.0)\n",
            "Requirement already satisfied: webencodings in /usr/local/lib/python3.7/dist-packages (from bleach->nbconvert->notebook>=4.4.1->widgetsnbextension~=3.6.0->ipywidgets) (0.5.1)\n",
            "Requirement already satisfied: packaging in /usr/local/lib/python3.7/dist-packages (from bleach->nbconvert->notebook>=4.4.1->widgetsnbextension~=3.6.0->ipywidgets) (21.3)\n",
            "Requirement already satisfied: pyparsing!=3.0.5,>=2.0.2 in /usr/local/lib/python3.7/dist-packages (from packaging->bleach->nbconvert->notebook>=4.4.1->widgetsnbextension~=3.6.0->ipywidgets) (3.0.7)\n"
          ]
        }
      ]
    },
    {
      "cell_type": "code",
      "source": [
        "!pip install pandarallel==1.4.8"
      ],
      "metadata": {
        "colab": {
          "base_uri": "https://localhost:8080/"
        },
        "id": "DTQYjiuCNwyx",
        "outputId": "b25001e5-a331-416f-8372-a07f561393c4"
      },
      "execution_count": 2,
      "outputs": [
        {
          "output_type": "stream",
          "name": "stdout",
          "text": [
            "Collecting pandarallel==1.4.8\n",
            "  Downloading pandarallel-1.4.8.tar.gz (14 kB)\n",
            "Requirement already satisfied: dill in /usr/local/lib/python3.7/dist-packages (from pandarallel==1.4.8) (0.3.4)\n",
            "Building wheels for collected packages: pandarallel\n",
            "  Building wheel for pandarallel (setup.py) ... \u001b[?25l\u001b[?25hdone\n",
            "  Created wheel for pandarallel: filename=pandarallel-1.4.8-py3-none-any.whl size=16111 sha256=80df34e8c393d302fcd88d2de814f44fe778760ccc96b8ba99ac58c1eeb81dea\n",
            "  Stored in directory: /root/.cache/pip/wheels/c7/f2/4e/e40c8b9344cccf6b8a02d8d8808ba837e72b607c4be946878a\n",
            "Successfully built pandarallel\n",
            "Installing collected packages: pandarallel\n",
            "Successfully installed pandarallel-1.4.8\n"
          ]
        }
      ]
    },
    {
      "cell_type": "code",
      "source": [
        "!python -m spacy download en_core_web_md"
      ],
      "metadata": {
        "colab": {
          "base_uri": "https://localhost:8080/"
        },
        "id": "gl7w4rLhNyfi",
        "outputId": "e704500d-0cba-4976-8214-baa7e6799fe8"
      },
      "execution_count": 3,
      "outputs": [
        {
          "output_type": "stream",
          "name": "stdout",
          "text": [
            "Collecting en_core_web_md==2.2.5\n",
            "  Downloading https://github.com/explosion/spacy-models/releases/download/en_core_web_md-2.2.5/en_core_web_md-2.2.5.tar.gz (96.4 MB)\n",
            "\u001b[K     |████████████████████████████████| 96.4 MB 1.3 MB/s \n",
            "\u001b[?25hRequirement already satisfied: spacy>=2.2.2 in /usr/local/lib/python3.7/dist-packages (from en_core_web_md==2.2.5) (2.2.4)\n",
            "Requirement already satisfied: murmurhash<1.1.0,>=0.28.0 in /usr/local/lib/python3.7/dist-packages (from spacy>=2.2.2->en_core_web_md==2.2.5) (1.0.6)\n",
            "Requirement already satisfied: cymem<2.1.0,>=2.0.2 in /usr/local/lib/python3.7/dist-packages (from spacy>=2.2.2->en_core_web_md==2.2.5) (2.0.6)\n",
            "Requirement already satisfied: requests<3.0.0,>=2.13.0 in /usr/local/lib/python3.7/dist-packages (from spacy>=2.2.2->en_core_web_md==2.2.5) (2.23.0)\n",
            "Requirement already satisfied: plac<1.2.0,>=0.9.6 in /usr/local/lib/python3.7/dist-packages (from spacy>=2.2.2->en_core_web_md==2.2.5) (1.1.3)\n",
            "Requirement already satisfied: catalogue<1.1.0,>=0.0.7 in /usr/local/lib/python3.7/dist-packages (from spacy>=2.2.2->en_core_web_md==2.2.5) (1.0.0)\n",
            "Requirement already satisfied: preshed<3.1.0,>=3.0.2 in /usr/local/lib/python3.7/dist-packages (from spacy>=2.2.2->en_core_web_md==2.2.5) (3.0.6)\n",
            "Requirement already satisfied: wasabi<1.1.0,>=0.4.0 in /usr/local/lib/python3.7/dist-packages (from spacy>=2.2.2->en_core_web_md==2.2.5) (0.9.0)\n",
            "Requirement already satisfied: srsly<1.1.0,>=1.0.2 in /usr/local/lib/python3.7/dist-packages (from spacy>=2.2.2->en_core_web_md==2.2.5) (1.0.5)\n",
            "Requirement already satisfied: numpy>=1.15.0 in /usr/local/lib/python3.7/dist-packages (from spacy>=2.2.2->en_core_web_md==2.2.5) (1.21.5)\n",
            "Requirement already satisfied: thinc==7.4.0 in /usr/local/lib/python3.7/dist-packages (from spacy>=2.2.2->en_core_web_md==2.2.5) (7.4.0)\n",
            "Requirement already satisfied: blis<0.5.0,>=0.4.0 in /usr/local/lib/python3.7/dist-packages (from spacy>=2.2.2->en_core_web_md==2.2.5) (0.4.1)\n",
            "Requirement already satisfied: tqdm<5.0.0,>=4.38.0 in /usr/local/lib/python3.7/dist-packages (from spacy>=2.2.2->en_core_web_md==2.2.5) (4.63.0)\n",
            "Requirement already satisfied: setuptools in /usr/local/lib/python3.7/dist-packages (from spacy>=2.2.2->en_core_web_md==2.2.5) (57.4.0)\n",
            "Requirement already satisfied: importlib-metadata>=0.20 in /usr/local/lib/python3.7/dist-packages (from catalogue<1.1.0,>=0.0.7->spacy>=2.2.2->en_core_web_md==2.2.5) (4.11.3)\n",
            "Requirement already satisfied: zipp>=0.5 in /usr/local/lib/python3.7/dist-packages (from importlib-metadata>=0.20->catalogue<1.1.0,>=0.0.7->spacy>=2.2.2->en_core_web_md==2.2.5) (3.7.0)\n",
            "Requirement already satisfied: typing-extensions>=3.6.4 in /usr/local/lib/python3.7/dist-packages (from importlib-metadata>=0.20->catalogue<1.1.0,>=0.0.7->spacy>=2.2.2->en_core_web_md==2.2.5) (3.10.0.2)\n",
            "Requirement already satisfied: certifi>=2017.4.17 in /usr/local/lib/python3.7/dist-packages (from requests<3.0.0,>=2.13.0->spacy>=2.2.2->en_core_web_md==2.2.5) (2021.10.8)\n",
            "Requirement already satisfied: idna<3,>=2.5 in /usr/local/lib/python3.7/dist-packages (from requests<3.0.0,>=2.13.0->spacy>=2.2.2->en_core_web_md==2.2.5) (2.10)\n",
            "Requirement already satisfied: urllib3!=1.25.0,!=1.25.1,<1.26,>=1.21.1 in /usr/local/lib/python3.7/dist-packages (from requests<3.0.0,>=2.13.0->spacy>=2.2.2->en_core_web_md==2.2.5) (1.24.3)\n",
            "Requirement already satisfied: chardet<4,>=3.0.2 in /usr/local/lib/python3.7/dist-packages (from requests<3.0.0,>=2.13.0->spacy>=2.2.2->en_core_web_md==2.2.5) (3.0.4)\n",
            "Building wheels for collected packages: en-core-web-md\n",
            "  Building wheel for en-core-web-md (setup.py) ... \u001b[?25l\u001b[?25hdone\n",
            "  Created wheel for en-core-web-md: filename=en_core_web_md-2.2.5-py3-none-any.whl size=98051301 sha256=97f48adc4c976117d9ebfec4c783a0e4005ebc10347fb99b14d5697f34b0f3d0\n",
            "  Stored in directory: /tmp/pip-ephem-wheel-cache-5sp01on3/wheels/69/c5/b8/4f1c029d89238734311b3269762ab2ee325a42da2ce8edb997\n",
            "Successfully built en-core-web-md\n",
            "Installing collected packages: en-core-web-md\n",
            "Successfully installed en-core-web-md-2.2.5\n",
            "\u001b[38;5;2m✔ Download and installation successful\u001b[0m\n",
            "You can now load the model via spacy.load('en_core_web_md')\n"
          ]
        }
      ]
    },
    {
      "cell_type": "code",
      "source": [
        "import re\n",
        "import string\n",
        "import pandas as pd\n",
        "import numpy as np\n",
        "import matplotlib.pyplot as plt\n",
        "from sklearn.feature_extraction.text import CountVectorizer, TfidfVectorizer\n",
        "\n",
        "import spacy\n",
        "spacy.util.fix_random_seed(0)\n",
        "\n",
        "import pyLDAvis\n",
        "import pyLDAvis.gensim_models \n",
        "\n",
        "import gensim\n",
        "import gensim.corpora as corpora\n",
        "from gensim.utils import simple_preprocess\n",
        "from gensim.models import CoherenceModel\n",
        "\n",
        "from pandarallel import pandarallel\n",
        "\n",
        "%matplotlib inline\n",
        "\n",
        "import warnings\n",
        "warnings.filterwarnings(\"ignore\")"
      ],
      "metadata": {
        "colab": {
          "base_uri": "https://localhost:8080/"
        },
        "id": "p9D_9Um2N0Tw",
        "outputId": "b27c36d1-b095-44ca-8d73-40394ecdec68"
      },
      "execution_count": 1,
      "outputs": [
        {
          "output_type": "stream",
          "name": "stderr",
          "text": [
            "/usr/local/lib/python3.7/dist-packages/past/types/oldstr.py:5: DeprecationWarning: Using or importing the ABCs from 'collections' instead of from 'collections.abc' is deprecated since Python 3.3,and in 3.9 it will stop working\n",
            "  from collections import Iterable\n",
            "/usr/local/lib/python3.7/dist-packages/past/builtins/misc.py:4: DeprecationWarning: Using or importing the ABCs from 'collections' instead of from 'collections.abc' is deprecated since Python 3.3,and in 3.9 it will stop working\n",
            "  from collections import Mapping\n",
            "/usr/local/lib/python3.7/dist-packages/scipy/sparse/sparsetools.py:21: DeprecationWarning: `scipy.sparse.sparsetools` is deprecated!\n",
            "scipy.sparse.sparsetools is a private module for scipy.sparse, and should not be used.\n",
            "  _deprecated()\n"
          ]
        }
      ]
    },
    {
      "cell_type": "markdown",
      "source": [
        "## Loading in data, cleaning, tokenizing\n"
      ],
      "metadata": {
        "id": "pFJHEhYqOou5"
      }
    },
    {
      "cell_type": "markdown",
      "source": [
        "### Load"
      ],
      "metadata": {
        "id": "sCbXCu9pOwxl"
      }
    },
    {
      "cell_type": "code",
      "source": [
        "text = open('/content/CR3-16.txt', 'r',encoding = \"ISO-8859-1\").read()"
      ],
      "metadata": {
        "id": "RpXZpl4jOuRJ"
      },
      "execution_count": 1,
      "outputs": []
    },
    {
      "cell_type": "markdown",
      "source": [
        "### Clean"
      ],
      "metadata": {
        "id": "BaM0Cw5VOx9Z"
      }
    },
    {
      "cell_type": "markdown",
      "source": [
        "I am probably going to have two cleaning functions. One is going to clean the entire episode. The second will as best as possible only pull lines of the characters and Matt."
      ],
      "metadata": {
        "id": "r0_87k6kQiUU"
      }
    },
    {
      "cell_type": "markdown",
      "source": [
        "First: Clean the entire episode and create a dataframe of lines"
      ],
      "metadata": {
        "id": "jU2pe0k2R10t"
      }
    },
    {
      "cell_type": "code",
      "source": [
        "def cr_episode_cleaner(episode):\n",
        "    \"\"\"\n",
        "    Clean the data of the entire episode and create a dataframe of the spoken\n",
        "    lines in the episode. \n",
        "\n",
        "    This includes intro, break, outro, character dialog, etc.\n",
        "    \n",
        "    Parameters\n",
        "    ----------\n",
        "    episode: A large string containing everything spoken during the episode\n",
        "\n",
        "    Returns\n",
        "    -------\n",
        "    lines: A dataframe where every entry is a line spoken during the episode\n",
        "    \"\"\"\n",
        "\n",
        "    return lines"
      ],
      "metadata": {
        "id": "0FgFpC5EOz3j"
      },
      "execution_count": 2,
      "outputs": []
    },
    {
      "cell_type": "markdown",
      "source": [
        "Second: Clean the data of the parts of the episode where there is only character and DM's dialog."
      ],
      "metadata": {
        "id": "XxNPoPF1S4GW"
      }
    },
    {
      "cell_type": "code",
      "source": [
        "def cr_dialog_cleaner(episode):\n",
        "    \"\"\"\n",
        "    Clean the data of the entire episode and create a dataframe of the spoken\n",
        "    lines in the episode. \n",
        "\n",
        "    This includes intro, break, outro, character dialog, etc.\n",
        "    \n",
        "    Parameters\n",
        "    ----------\n",
        "    episode: A large string containing everything spoken during the episode\n",
        "\n",
        "    Returns\n",
        "    -------\n",
        "    lines: A dataframe where every entry is dialog spoken during the episode\n",
        "    \"\"\"\n",
        "\n",
        "    # How to locate where the dialog starts and stops\n",
        "    ending_intro = \"And welcome back.\"\n",
        "    starting_break = \"And we'll pick up from there after our break.\"\n",
        "    starting_outro = \"We'll pick up on that next week.\"\n",
        "    parts = episode.split(ending_intro)\n",
        "    first_part = parts[1].split(starting_break)[0]\n",
        "    second_part = parts[-1].split(starting_outro)[0]\n",
        "    print(first_part[:200])\n",
        "    print(second_part[:200])\n",
        "    full_dialog= first_part + \"/n\" + second_part\n",
        "\n",
        "    # regex\n",
        "    remove = string.punctuation\n",
        "    remove = remove.replace(\"#\", \"\") # don't remove hyphens\n",
        "    removing_punctuation = r\"[{}]\".format(remove)\n",
        "    non_alpha = '[^a-zA-Z#]'\n",
        "    spaces = '[^\\S ]+'\n",
        "    multi_white_spaces = \"[ ]{2,}\"\n",
        "\n",
        "    full_dialog = re.sub(removing_punctuation, \"\", full_dialog)\n",
        "    full_dialog = re.sub(non_alpha, \" \", full_dialog)\n",
        "    full_dialog = re.sub(spaces, '', full_dialog)\n",
        "    full_dialog = re.sub(multi_white_spaces, \" \", full_dialog)\n",
        "    return pd.DataFrame(full_dialog.lower().split(\" # \"),columns=['lines'])"
      ],
      "metadata": {
        "id": "u0s_tmwdTCWU"
      },
      "execution_count": 33,
      "outputs": []
    },
    {
      "cell_type": "code",
      "source": [
        "full_dialog_df = cr_dialog_cleaner(text)"
      ],
      "metadata": {
        "colab": {
          "base_uri": "https://localhost:8080/"
        },
        "id": "TR56F--Uqjq7",
        "outputId": "6326ff98-716a-4980-9757-16b84e114757"
      },
      "execution_count": 34,
      "outputs": [
        {
          "output_type": "stream",
          "name": "stdout",
          "text": [
            "  \n",
            "So, last we left off, Hells Bells.  \n",
            "Bells Hells, I should say.  \n",
            "# SAM\n",
            "Yes, you should.  \n",
            "# MATT\n",
            "The other way around.  \n",
            "Brain, thank you.  \n",
            "# LIAM\n",
            "First was exclamation, then you said their name.\n",
            "  \n",
            "So.  \n",
            "As Bells Hells are currently jaunting into the darkness, retracing their steps through the aspects of this abandoned mine that they had originally come through, the arcane dome orb that curre\n"
          ]
        }
      ]
    },
    {
      "cell_type": "code",
      "source": [
        "full_dialog_df.head()"
      ],
      "metadata": {
        "colab": {
          "base_uri": "https://localhost:8080/",
          "height": 206
        },
        "id": "wne-hH0rgDU9",
        "outputId": "fcf0b78e-039f-4ef1-9ab4-4f254d6fb051"
      },
      "execution_count": 35,
      "outputs": [
        {
          "output_type": "execute_result",
          "data": {
            "text/plain": [
              "                                               lines\n",
              "0   so last we left off hells bells bells hells i...\n",
              "1                                 sam yes you should\n",
              "2          matt the other way around brain thank you\n",
              "3  liam first was exclamation then you said their...\n",
              "4  matt indeed i was just excited and then presen..."
            ],
            "text/html": [
              "\n",
              "  <div id=\"df-01e2bce7-f9bf-4da6-800e-5eb1e8a8bba8\">\n",
              "    <div class=\"colab-df-container\">\n",
              "      <div>\n",
              "<style scoped>\n",
              "    .dataframe tbody tr th:only-of-type {\n",
              "        vertical-align: middle;\n",
              "    }\n",
              "\n",
              "    .dataframe tbody tr th {\n",
              "        vertical-align: top;\n",
              "    }\n",
              "\n",
              "    .dataframe thead th {\n",
              "        text-align: right;\n",
              "    }\n",
              "</style>\n",
              "<table border=\"1\" class=\"dataframe\">\n",
              "  <thead>\n",
              "    <tr style=\"text-align: right;\">\n",
              "      <th></th>\n",
              "      <th>lines</th>\n",
              "    </tr>\n",
              "  </thead>\n",
              "  <tbody>\n",
              "    <tr>\n",
              "      <th>0</th>\n",
              "      <td>so last we left off hells bells bells hells i...</td>\n",
              "    </tr>\n",
              "    <tr>\n",
              "      <th>1</th>\n",
              "      <td>sam yes you should</td>\n",
              "    </tr>\n",
              "    <tr>\n",
              "      <th>2</th>\n",
              "      <td>matt the other way around brain thank you</td>\n",
              "    </tr>\n",
              "    <tr>\n",
              "      <th>3</th>\n",
              "      <td>liam first was exclamation then you said their...</td>\n",
              "    </tr>\n",
              "    <tr>\n",
              "      <th>4</th>\n",
              "      <td>matt indeed i was just excited and then presen...</td>\n",
              "    </tr>\n",
              "  </tbody>\n",
              "</table>\n",
              "</div>\n",
              "      <button class=\"colab-df-convert\" onclick=\"convertToInteractive('df-01e2bce7-f9bf-4da6-800e-5eb1e8a8bba8')\"\n",
              "              title=\"Convert this dataframe to an interactive table.\"\n",
              "              style=\"display:none;\">\n",
              "        \n",
              "  <svg xmlns=\"http://www.w3.org/2000/svg\" height=\"24px\"viewBox=\"0 0 24 24\"\n",
              "       width=\"24px\">\n",
              "    <path d=\"M0 0h24v24H0V0z\" fill=\"none\"/>\n",
              "    <path d=\"M18.56 5.44l.94 2.06.94-2.06 2.06-.94-2.06-.94-.94-2.06-.94 2.06-2.06.94zm-11 1L8.5 8.5l.94-2.06 2.06-.94-2.06-.94L8.5 2.5l-.94 2.06-2.06.94zm10 10l.94 2.06.94-2.06 2.06-.94-2.06-.94-.94-2.06-.94 2.06-2.06.94z\"/><path d=\"M17.41 7.96l-1.37-1.37c-.4-.4-.92-.59-1.43-.59-.52 0-1.04.2-1.43.59L10.3 9.45l-7.72 7.72c-.78.78-.78 2.05 0 2.83L4 21.41c.39.39.9.59 1.41.59.51 0 1.02-.2 1.41-.59l7.78-7.78 2.81-2.81c.8-.78.8-2.07 0-2.86zM5.41 20L4 18.59l7.72-7.72 1.47 1.35L5.41 20z\"/>\n",
              "  </svg>\n",
              "      </button>\n",
              "      \n",
              "  <style>\n",
              "    .colab-df-container {\n",
              "      display:flex;\n",
              "      flex-wrap:wrap;\n",
              "      gap: 12px;\n",
              "    }\n",
              "\n",
              "    .colab-df-convert {\n",
              "      background-color: #E8F0FE;\n",
              "      border: none;\n",
              "      border-radius: 50%;\n",
              "      cursor: pointer;\n",
              "      display: none;\n",
              "      fill: #1967D2;\n",
              "      height: 32px;\n",
              "      padding: 0 0 0 0;\n",
              "      width: 32px;\n",
              "    }\n",
              "\n",
              "    .colab-df-convert:hover {\n",
              "      background-color: #E2EBFA;\n",
              "      box-shadow: 0px 1px 2px rgba(60, 64, 67, 0.3), 0px 1px 3px 1px rgba(60, 64, 67, 0.15);\n",
              "      fill: #174EA6;\n",
              "    }\n",
              "\n",
              "    [theme=dark] .colab-df-convert {\n",
              "      background-color: #3B4455;\n",
              "      fill: #D2E3FC;\n",
              "    }\n",
              "\n",
              "    [theme=dark] .colab-df-convert:hover {\n",
              "      background-color: #434B5C;\n",
              "      box-shadow: 0px 1px 3px 1px rgba(0, 0, 0, 0.15);\n",
              "      filter: drop-shadow(0px 1px 2px rgba(0, 0, 0, 0.3));\n",
              "      fill: #FFFFFF;\n",
              "    }\n",
              "  </style>\n",
              "\n",
              "      <script>\n",
              "        const buttonEl =\n",
              "          document.querySelector('#df-01e2bce7-f9bf-4da6-800e-5eb1e8a8bba8 button.colab-df-convert');\n",
              "        buttonEl.style.display =\n",
              "          google.colab.kernel.accessAllowed ? 'block' : 'none';\n",
              "\n",
              "        async function convertToInteractive(key) {\n",
              "          const element = document.querySelector('#df-01e2bce7-f9bf-4da6-800e-5eb1e8a8bba8');\n",
              "          const dataTable =\n",
              "            await google.colab.kernel.invokeFunction('convertToInteractive',\n",
              "                                                     [key], {});\n",
              "          if (!dataTable) return;\n",
              "\n",
              "          const docLinkHtml = 'Like what you see? Visit the ' +\n",
              "            '<a target=\"_blank\" href=https://colab.research.google.com/notebooks/data_table.ipynb>data table notebook</a>'\n",
              "            + ' to learn more about interactive tables.';\n",
              "          element.innerHTML = '';\n",
              "          dataTable['output_type'] = 'display_data';\n",
              "          await google.colab.output.renderOutput(dataTable, element);\n",
              "          const docLink = document.createElement('div');\n",
              "          docLink.innerHTML = docLinkHtml;\n",
              "          element.appendChild(docLink);\n",
              "        }\n",
              "      </script>\n",
              "    </div>\n",
              "  </div>\n",
              "  "
            ]
          },
          "metadata": {},
          "execution_count": 35
        }
      ]
    },
    {
      "cell_type": "markdown",
      "source": [
        "### Tokenizing data for LDA"
      ],
      "metadata": {
        "id": "0eqWttzJOziH"
      }
    },
    {
      "cell_type": "code",
      "source": [
        "# identify how many processors your machine has - save the result to `n_processors`\n",
        "import multiprocessing\n",
        "\n",
        "n_processors = multiprocessing.cpu_count()\n",
        "# subtract 1 from n_processors - save the result to `nb_workers`\n",
        "nb_workers = n_processors - 1\n",
        "# we must initalize pandarallel before we can use it\n",
        "pandarallel.initialize(progress_bar=True, nb_workers=nb_workers)\n",
        "# so that the progress bars will work\n",
        "from pandarallel.utils import progress_bars\n",
        "progress_bars.is_notebook_lab = lambda : True"
      ],
      "metadata": {
        "colab": {
          "base_uri": "https://localhost:8080/"
        },
        "id": "LnTHDr8drCHy",
        "outputId": "d703e47e-e057-42f9-ec70-4840c5b17c33"
      },
      "execution_count": 36,
      "outputs": [
        {
          "output_type": "stream",
          "name": "stdout",
          "text": [
            "INFO: Pandarallel will run on 3 workers.\n",
            "INFO: Pandarallel will use Memory file system to transfer data between the main process and workers.\n"
          ]
        }
      ]
    },
    {
      "cell_type": "code",
      "source": [
        "nlp = spacy.load('en_core_web_md')"
      ],
      "metadata": {
        "id": "IX7HBWDOPhDo"
      },
      "execution_count": 37,
      "outputs": []
    },
    {
      "cell_type": "code",
      "source": [
        "# create our tokens in the form of lemmas \n",
        "full_dialog_df['lemmas'] = full_dialog_df['lines'].parallel_apply(lambda x: [token.lemma_ for token in nlp(x) if (token.is_stop != True) and (token.is_punct != True)])"
      ],
      "metadata": {
        "colab": {
          "base_uri": "https://localhost:8080/",
          "height": 113,
          "referenced_widgets": [
            "cc1906b72e1d453281cc101d639b1de3",
            "207c86f166694751a9ca84c26876e512",
            "08b3466f3dda4a0c9a65e7de9333b964",
            "45b0dea5064a40de87f01a4714e9a01b",
            "ff2d4a5a0d174c5fb34364046eda3e10",
            "14c904ba3222410299489e832bdb1b57",
            "d3330e1ddb2b4cf9bb8306e4f0126590",
            "5f0be48957da4f6688c4c7d1dcce4df3",
            "28f3c488ded74f1a894f1a4ce39f51c1",
            "84394abbfbbd4a2b924e9bc8de59967b",
            "412a75b0e56a4cefa4edc2f8c3b89408",
            "f18a1713394c47cc9707c13edebb946b",
            "1c34172e681f4209942617f6a3911202",
            "1e070c602a1f4d01a39b9fca2871d9d1",
            "d4526d60de9a470984668f97cc7dedd2",
            "cae4a332003b4ec39586c340a3bae602",
            "0304b0e03d3849ad82dc7afa1e4ea406",
            "251a2b9a69c44b94abcbcc39612cf1d7",
            "56c9f8ae4a554c08a1b9ccfb48e7944c",
            "9e138ac2dd81481796b96e44f07160ac",
            "d40607fce80c48da843a7224938563af",
            "5a8b527b8eb64667a13af655fb1fca58",
            "a9c3767222d744a6ac342802f83acaf1",
            "fb41d769fcb549d58972d0a91a858438",
            "f682438ab43c49aa8eb4efc583094bd7",
            "753de2553a254b8abfad1ad53be3f9e8"
          ]
        },
        "id": "Qi-5P7Nbp_ns",
        "outputId": "9aabca03-a6c0-43c7-c12f-18a9fc2d4289"
      },
      "execution_count": 38,
      "outputs": [
        {
          "output_type": "display_data",
          "data": {
            "text/plain": [
              "VBox(children=(HBox(children=(IntProgress(value=0, description='0.00%', max=1338), Label(value='0 / 1338'))), …"
            ],
            "application/vnd.jupyter.widget-view+json": {
              "version_major": 2,
              "version_minor": 0,
              "model_id": "cc1906b72e1d453281cc101d639b1de3"
            }
          },
          "metadata": {}
        }
      ]
    },
    {
      "cell_type": "code",
      "source": [
        "# Create lemma dictionary using Dictionary - save result to `id2word`\n",
        "id2word = corpora.Dictionary(full_dialog_df['lemmas'])\n",
        "\n",
        "# Create Term Document Frequency list - save result to `corpus`\n",
        "# Term Document Frequency -- different format, but equivalent in function to the document-term matrix we used in sklearn\n",
        "corpus = [id2word.doc2bow(doc_lemmas) for doc_lemmas in full_dialog_df['lemmas']]"
      ],
      "metadata": {
        "id": "g31uJl-8qb13"
      },
      "execution_count": 39,
      "outputs": []
    },
    {
      "cell_type": "markdown",
      "source": [
        "## LDA Topic Modeling\n"
      ],
      "metadata": {
        "id": "vHXFf-PwPIZ3"
      }
    },
    {
      "cell_type": "markdown",
      "source": [
        "### Gridsearch topic numbers"
      ],
      "metadata": {
        "id": "skfSRYcUPimm"
      }
    },
    {
      "cell_type": "code",
      "source": [
        "def compute_coherence_values(dictionary, corpus, texts, limit, start=2, step=3):\n",
        "    \"\"\"\n",
        "    Compute c_v coherence for various number of topics\n",
        "\n",
        "    Parameters:\n",
        "    ----------\n",
        "    dictionary : Gensim dictionary\n",
        "    corpus : Gensim corpus\n",
        "    texts : List of input texts\n",
        "    limit : Max num of topics\n",
        "\n",
        "    Returns:\n",
        "    -------\n",
        "    model_list : List of LDA topic models\n",
        "    coherence_values : Coherence values corresponding to the LDA model with respective number of topics\n",
        "    \"\"\"\n",
        "    coherence_values = []\n",
        "    model_list = []\n",
        "    for num_topics in range(start, limit, step):\n",
        "        model = gensim.models.ldamulticore.LdaMulticore(corpus=corpus,\n",
        "                                                        id2word=id2word,\n",
        "                                                        num_topics=num_topics, \n",
        "                                                        chunksize=100,\n",
        "                                                        passes=10,\n",
        "                                                        random_state=1234,\n",
        "                                                        per_word_topics=True,\n",
        "                                                        workers=2)\n",
        "        model_list.append(model)\n",
        "        coherencemodel = CoherenceModel(model=model, texts=texts, dictionary=dictionary, coherence='c_v')\n",
        "        coherence_values.append(coherencemodel.get_coherence())\n",
        "\n",
        "    return model_list, coherence_values"
      ],
      "metadata": {
        "id": "g2tcmO8VPZWs"
      },
      "execution_count": 40,
      "outputs": []
    },
    {
      "cell_type": "code",
      "source": [
        "%%time \n",
        "start=2; limit=14;  step=2;\n",
        "model_list, coherence_values = compute_coherence_values(dictionary=id2word, corpus=corpus, texts=full_dialog_df['lemmas'], start=start, limit=limit, step=step)"
      ],
      "metadata": {
        "colab": {
          "base_uri": "https://localhost:8080/"
        },
        "id": "SeJEs0eErL83",
        "outputId": "2d9196ce-811a-4ea6-a319-8da95700b039"
      },
      "execution_count": 55,
      "outputs": [
        {
          "output_type": "stream",
          "name": "stdout",
          "text": [
            "CPU times: user 26.6 s, sys: 3.99 s, total: 30.6 s\n",
            "Wall time: 29.3 s\n"
          ]
        }
      ]
    },
    {
      "cell_type": "code",
      "source": [
        "x = range(start, limit, step)\n",
        "\n",
        "plt.figure(figsize=(20,5))\n",
        "plt.grid()\n",
        "plt.title(\"Coherence Score vs. Number of Topics\")\n",
        "plt.xticks(x)\n",
        "plt.plot(x, coherence_values, \"-o\")\n",
        "\n",
        "plt.xlabel(\"Num Topics\")\n",
        "plt.ylabel(\"Coherence score\")\n",
        "\n",
        "plt.show();"
      ],
      "metadata": {
        "colab": {
          "base_uri": "https://localhost:8080/",
          "height": 350
        },
        "id": "ChUfFiS9rYDk",
        "outputId": "e83e4e7e-e75b-44f5-c2fd-e1c86455a1a4"
      },
      "execution_count": 56,
      "outputs": [
        {
          "output_type": "display_data",
          "data": {
            "text/plain": [
              "<Figure size 1440x360 with 1 Axes>"
            ],
            "image/png": "[encoded data removed]"
          },
          "metadata": {
            "needs_background": "light"
          }
        }
      ]
    },
    {
      "cell_type": "code",
      "source": [
        "# use np.argmax() to get index of largest coherence value from coherence_values - save result to `max_cohereance_val_index`\n",
        "max_coherence_val_index = np.argmax(coherence_values)\n",
        "# use `max_coherence_val_index` to index model_list for the corresponding model - save result to `lda_trained_model`\n",
        "lda_trained_model = model_list[max_coherence_val_index]"
      ],
      "metadata": {
        "id": "HLKrXKt8rseo"
      },
      "execution_count": 57,
      "outputs": []
    },
    {
      "cell_type": "code",
      "source": [
        "lda_trained_model.print_topics()"
      ],
      "metadata": {
        "colab": {
          "base_uri": "https://localhost:8080/"
        },
        "id": "CAP8IlcGrsyZ",
        "outputId": "77cda3db-6c0d-486f-89d9-e8ca642d65ca"
      },
      "execution_count": 58,
      "outputs": [
        {
          "output_type": "execute_result",
          "data": {
            "text/plain": [
              "[(0,\n",
              "  '0.085*\"laughter\" + 0.068*\"matt\" + 0.056*\"point\" + 0.045*\"damage\" + 0.034*\"need\" + 0.032*\"sam\" + 0.030*\"take\" + 0.029*\"laudna\" + 0.026*\"throw\" + 0.024*\"day\"'),\n",
              " (1,\n",
              "  '0.101*\"matt\" + 0.063*\"yes\" + 0.042*\"mean\" + 0.033*\"check\" + 0.031*\"gus\" + 0.025*\"hard\" + 0.023*\"right\" + 0.023*\"plus\" + 0.022*\"sorry\" + 0.021*\"fearne\"'),\n",
              " (2,\n",
              "  '0.254*\"marisha\" + 0.145*\"oh\" + 0.038*\"travis\" + 0.036*\"laura\" + 0.030*\"shit\" + 0.030*\"not\" + 0.029*\"sleep\" + 0.026*\"fuck\" + 0.026*\"god\" + 0.019*\"fucking\"'),\n",
              " (3,\n",
              "  '0.227*\"taliesin\" + 0.088*\"right\" + 0.047*\"little\" + 0.036*\"matt\" + 0.023*\"yep\" + 0.019*\"night\" + 0.019*\"leave\" + 0.016*\"bit\" + 0.016*\"drink\" + 0.016*\"away\"'),\n",
              " (4,\n",
              "  '0.171*\"okay\" + 0.169*\"laura\" + 0.158*\"ashley\" + 0.046*\"matt\" + 0.042*\"want\" + 0.030*\"sam\" + 0.028*\"great\" + 0.023*\"not\" + 0.018*\"fine\" + 0.013*\"think\"'),\n",
              " (5,\n",
              "  '0.161*\"go\" + 0.136*\"be\" + 0.048*\"laura\" + 0.045*\"try\" + 0.018*\"run\" + 0.016*\"use\" + 0.015*\"attack\" + 0.012*\"gold\" + 0.011*\"action\" + 0.010*\"chain\"'),\n",
              " (6,\n",
              "  '0.177*\"matt\" + 0.041*\"come\" + 0.030*\"turn\" + 0.028*\"sure\" + 0.024*\"natural\" + 0.023*\"go\" + 0.022*\"way\" + 0.018*\"work\" + 0.018*\"ashton\" + 0.014*\"imogen\"'),\n",
              " (7,\n",
              "  '0.207*\"yeah\" + 0.066*\"laura\" + 0.054*\"have\" + 0.051*\"get\" + 0.047*\"ashley\" + 0.046*\"matt\" + 0.037*\"ill\" + 0.020*\"room\" + 0.017*\"happen\" + 0.016*\"will\"'),\n",
              " (8,\n",
              "  '0.116*\"know\" + 0.102*\"not\" + 0.056*\"matt\" + 0.050*\"roll\" + 0.045*\"hit\" + 0.029*\"time\" + 0.025*\"rest\" + 0.017*\"cage\" + 0.015*\"head\" + 0.015*\"stone\"'),\n",
              " (9,\n",
              "  '0.122*\"sam\" + 0.045*\"matt\" + 0.023*\"begin\" + 0.022*\"shade\" + 0.022*\"laugh\" + 0.017*\"light\" + 0.016*\"foot\" + 0.015*\"bit\" + 0.014*\"mother\" + 0.013*\"actually\"'),\n",
              " (10,\n",
              "  '0.173*\"s\" + 0.150*\"liam\" + 0.057*\"good\" + 0.039*\"sam\" + 0.028*\"think\" + 0.024*\"people\" + 0.024*\"right\" + 0.021*\"say\" + 0.020*\"thank\" + 0.018*\"maybe\"'),\n",
              " (11,\n",
              "  '0.158*\"travis\" + 0.073*\"like\" + 0.053*\"feel\" + 0.034*\"thing\" + 0.026*\"not\" + 0.025*\"look\" + 0.024*\"pretty\" + 0.021*\"let\" + 0.018*\"lot\" + 0.015*\"help\"')]"
            ]
          },
          "metadata": {},
          "execution_count": 58
        }
      ]
    },
    {
      "cell_type": "markdown",
      "source": [
        "### Visualize topics"
      ],
      "metadata": {
        "id": "P2ILkCgUPnQw"
      }
    },
    {
      "cell_type": "code",
      "source": [
        "# plot your topics here -- using pyLDAvis\n",
        "pyLDAvis.enable_notebook()\n",
        "vis = pyLDAvis.gensim_models.prepare(lda_trained_model, corpus, id2word)\n",
        "vis"
      ],
      "metadata": {
        "colab": {
          "base_uri": "https://localhost:8080/",
          "height": 861
        },
        "id": "9aHB5eiAPqUm",
        "outputId": "e410bc3a-a9eb-4a58-94b7-9e2542193bfa"
      },
      "execution_count": 59,
      "outputs": [
        {
          "output_type": "execute_result",
          "data": {
            "text/plain": [
              "PreparedData(topic_coordinates=              x         y  topics  cluster       Freq\n",
              "topic                                                \n",
              "9      0.130831  0.066458       1        1  12.432731\n",
              "10    -0.045912  0.095416       2        1   8.999143\n",
              "8      0.011471  0.046632       3        1   8.865964\n",
              "5     -0.126328 -0.144464       4        1   8.723554\n",
              "11    -0.215862  0.196469       5        1   8.511923\n",
              "7      0.038793 -0.254381       6        1   8.471283\n",
              "0      0.165201  0.025683       7        1   7.906136\n",
              "4     -0.032501 -0.220715       8        1   7.788061\n",
              "2     -0.285528  0.006256       9        1   7.487440\n",
              "1      0.142755  0.061196      10        1   7.131091\n",
              "3      0.089410  0.122631      11        1   7.030518\n",
              "6      0.127670 -0.001181      12        1   6.652154, topic_info=         Term        Freq       Total Category  logprob  loglift\n",
              "269   marisha  377.000000  377.000000  Default  30.0000  30.0000\n",
              "431      yeah  348.000000  348.000000  Default  29.0000  29.0000\n",
              "446  taliesin  317.000000  317.000000  Default  28.0000  28.0000\n",
              "327         s  309.000000  309.000000  Default  27.0000  27.0000\n",
              "406      okay  264.000000  264.000000  Default  26.0000  26.0000\n",
              "..        ...         ...         ...      ...      ...      ...\n",
              "559    strike   18.573129   28.604004  Topic12  -4.2617   2.2784\n",
              "7        matt  232.751138  889.740152  Topic12  -1.7334   1.3693\n",
              "9         way   28.409940   54.323635  Topic12  -3.8367   2.0620\n",
              "107        go   30.871710  310.259602  Topic12  -3.7536   0.4027\n",
              "215     shade    7.852043   63.947148  Topic12  -5.1226   0.6129\n",
              "\n",
              "[500 rows x 6 columns], token_table=      Topic      Freq     Term\n",
              "term                          \n",
              "505       6  0.807987  ability\n",
              "835       6  0.942617     able\n",
              "582       9  0.811013  academy\n",
              "969       4  0.792264   action\n",
              "969       8  0.176059   action\n",
              "...     ...       ...      ...\n",
              "1838      2  0.910193    wrong\n",
              "987       8  0.917181      yay\n",
              "431       6  0.998894     yeah\n",
              "482      11  0.969760      yep\n",
              "5        10  0.993943      yes\n",
              "\n",
              "[508 rows x 3 columns], R=30, lambda_step=0.01, plot_opts={'xlab': 'PC1', 'ylab': 'PC2'}, topic_order=[10, 11, 9, 6, 12, 8, 1, 5, 3, 2, 4, 7])"
            ],
            "text/html": [
              "\n",
              "<link rel=\"stylesheet\" type=\"text/css\" href=\"https://cdn.jsdelivr.net/gh/bmabey/pyLDAvis@3.3.1/pyLDAvis/js/ldavis.v1.0.0.css\">\n",
              "\n",
              "\n",
              "<div id=\"ldavis_el3341397061174839845112747213\"></div>\n",
              "<script type=\"text/javascript\">\n",
              "\n",
              "var ldavis_el3341397061174839845112747213_data = {\"mdsDat\": {\"x\": [0.1308306077683514, -0.045912149994444845, 0.011470584006304466, -0.12632819763618042, -0.21586162174363285, 0.03879323867519429, 0.16520122695010675, -0.03250068175927656, -0.2855280339405428, 0.14275500365800553, 0.08940986110447484, 0.12767016291164127], \"y\": [0.06645831331086446, 0.09541632400345841, 0.046631650823357434, -0.14446440748133565, 0.19646884053166253, -0.254381052360668, 0.025682567628086645, -0.22071523072766852, 0.006256462233055071, 0.06119567611473959, 0.12263147742018708, -0.0011806214957389156], \"topics\": [1, 2, 3, 4, 5, 6, 7, 8, 9, 10, 11, 12], \"cluster\": [1, 1, 1, 1, 1, 1, 1, 1, 1, 1, 1, 1], \"Freq\": [12.432731455846849, 8.99914303059552, 8.865964256250033, 8.723553799702692, 8.51192339669311, 8.471283399829508, 7.906135998497134, 7.788060780780283, 7.487440469114366, 7.131091224403215, 7.030517934707937, 6.652154253579353]}, \"tinfo\": {\"Term\": [\"marisha\", \"yeah\", \"taliesin\", \"s\", \"okay\", \"laura\", \"go\", \"liam\", \"ashley\", \"travis\", \"be\", \"matt\", \"oh\", \"sam\", \"know\", \"not\", \"right\", \"laughter\", \"like\", \"good\", \"yes\", \"have\", \"point\", \"feel\", \"roll\", \"get\", \"hit\", \"try\", \"damage\", \"little\", \"begin\", \"laugh\", \"light\", \"mother\", \"actually\", \"machine\", \"moment\", \"sound\", \"well\", \"bolt\", \"ooh\", \"hour\", \"watch\", \"encounter\", \"move\", \"spire\", \"free\", \"keep\", \"past\", \"break\", \"air\", \"draw\", \"smolder\", \"immediately\", \"tunnel\", \"wall\", \"burst\", \"fire\", \"faintly\", \"ollys\", \"space\", \"shade\", \"foot\", \"sam\", \"creeper\", \"bit\", \"olly\", \"pull\", \"matt\", \"stone\", \"like\", \"little\", \"come\", \"point\", \"s\", \"liam\", \"good\", \"people\", \"say\", \"thank\", \"ball\", \"find\", \"kind\", \"long\", \"bad\", \"seven\", \"minute\", \"stay\", \"arm\", \"second\", \"fun\", \"wrong\", \"total\", \"maybe\", \"place\", \"curious\", \"stuff\", \"mmhmm\", \"real\", \"safe\", \"corner\", \"connect\", \"luck\", \"amazing\", \"think\", \"howl\", \"sam\", \"right\", \"hear\", \"look\", \"know\", \"roll\", \"hit\", \"cage\", \"lady\", \"fall\", \"pop\", \"emoth\", \"guy\", \"care\", \"talk\", \"stand\", \"slowly\", \"weird\", \"open\", \"far\", \"leap\", \"shift\", \"inside\", \"design\", \"hallway\", \"metal\", \"shoulder\", \"wrap\", \"general\", \"identify\", \"rest\", \"friend\", \"slightly\", \"door\", \"time\", \"not\", \"head\", \"stone\", \"matt\", \"eye\", \"rock\", \"see\", \"sphere\", \"look\", \"be\", \"try\", \"run\", \"use\", \"attack\", \"gold\", \"chain\", \"hand\", \"creature\", \"rope\", \"word\", \"high\", \"movement\", \"fail\", \"near\", \"extra\", \"wild\", \"rough\", \"wander\", \"oneeyed\", \"starpoint\", \"bang\", \"dive\", \"quorum\", \"brumestone\", \"lose\", \"go\", \"ah\", \"certain\", \"laudnas\", \"action\", \"low\", \"pay\", \"laura\", \"eye\", \"ill\", \"let\", \"look\", \"want\", \"feel\", \"thing\", \"pretty\", \"lot\", \"help\", \"mind\", \"sit\", \"hey\", \"hold\", \"cool\", \"nightmare\", \"strange\", \"learn\", \"knock\", \"course\", \"sort\", \"die\", \"grab\", \"king\", \"feral\", \"impact\", \"idea\", \"lesson\", \"investigation\", \"witch\", \"catch\", \"spark\", \"give\", \"fey\", \"nature\", \"travis\", \"like\", \"let\", \"look\", \"half\", \"not\", \"way\", \"olly\", \"yeah\", \"have\", \"happen\", \"will\", \"wait\", \"water\", \"ahead\", \"bed\", \"appreciate\", \"ask\", \"slash\", \"reach\", \"ready\", \"feeling\", \"short\", \"caltrop\", \"darkness\", \"number\", \"soon\", \"send\", \"mister\", \"terrible\", \"able\", \"area\", \"book\", \"hell\", \"ability\", \"lever\", \"assume\", \"pain\", \"ill\", \"get\", \"start\", \"room\", \"hear\", \"laura\", \"ashley\", \"pull\", \"matt\", \"come\", \"orb\", \"see\", \"foot\", \"laughter\", \"damage\", \"need\", \"take\", \"laudna\", \"throw\", \"day\", \"saving\", \"poison\", \"dexterity\", \"nice\", \"wake\", \"different\", \"familiar\", \"save\", \"bring\", \"add\", \"stasis\", \"constitution\", \"face\", \"remember\", \"dice\", \"round\", \"burn\", \"true\", \"oddly\", \"grave\", \"problem\", \"kick\", \"shoot\", \"point\", \"orym\", \"strength\", \"matt\", \"sam\", \"get\", \"flame\", \"okay\", \"great\", \"fine\", \"big\", \"love\", \"touch\", \"wolf\", \"climb\", \"hello\", \"dead\", \"mode\", \"swill\", \"scratch\", \"redbubl\", \"hi\", \"wish\", \"read\", \"lair\", \"hammer\", \"meundie\", \"soot\", \"dangerous\", \"believe\", \"heavy\", \"surround\", \"anybody\", \"separate\", \"speak\", \"yay\", \"fly\", \"ashley\", \"want\", \"laura\", \"guide\", \"flash\", \"matt\", \"sam\", \"not\", \"think\", \"make\", \"howl\", \"marisha\", \"oh\", \"shit\", \"sleep\", \"god\", \"fuck\", \"fucking\", \"probably\", \"worry\", \"wow\", \"blast\", \"cover\", \"definitely\", \"pillow\", \"p\", \"t\", \"better\", \"game\", \"asleep\", \"glass\", \"eldritch\", \"uhoh\", \"starlight\", \"academy\", \"giggle\", \"worth\", \"board\", \"feather\", \"stiff\", \"week\", \"push\", \"travis\", \"not\", \"laura\", \"think\", \"way\", \"let\", \"yes\", \"mean\", \"check\", \"gus\", \"hard\", \"plus\", \"sorry\", \"miss\", \"finish\", \"hurt\", \"d\", \"chetney\", \"fcg\", \"would\", \"guess\", \"disadvantage\", \"pick\", \"step\", \"strong\", \"boy\", \"old\", \"tell\", \"crazy\", \"bonus\", \"fit\", \"join\", \"earlier\", \"perception\", \"conversation\", \"one\", \"fearne\", \"matt\", \"right\", \"like\", \"want\", \"get\", \"taliesin\", \"yep\", \"night\", \"drink\", \"away\", \"stop\", \"walk\", \"city\", \"green\", \"hope\", \"hole\", \"evening\", \"morning\", \"rage\", \"orange\", \"seeker\", \"dc\", \"wonder\", \"party\", \"easy\", \"wound\", \"whack\", \"smart\", \"trust\", \"husk\", \"emerge\", \"holy\", \"downstairs\", \"excited\", \"doom\", \"leave\", \"little\", \"right\", \"close\", \"bit\", \"elevator\", \"room\", \"matt\", \"think\", \"like\", \"sure\", \"natural\", \"work\", \"ashton\", \"imogen\", \"spell\", \"dark\", \"later\", \"call\", \"group\", \"twist\", \"odd\", \"cut\", \"sense\", \"damn\", \"righty\", \"fresh\", \"exactly\", \"grass\", \"cast\", \"destroy\", \"focus\", \"daylight\", \"warm\", \"issue\", \"huh\", \"hmm\", \"concentrate\", \"ice\", \"couple\", \"turn\", \"end\", \"come\", \"rush\", \"strike\", \"matt\", \"way\", \"go\", \"shade\"], \"Freq\": [377.0, 348.0, 317.0, 309.0, 264.0, 515.0, 310.0, 268.0, 322.0, 322.0, 236.0, 889.0, 215.0, 465.0, 204.0, 303.0, 198.0, 133.0, 189.0, 103.0, 89.0, 90.0, 101.0, 90.0, 89.0, 119.0, 79.0, 79.0, 71.0, 90.0, 55.530885746962824, 55.28721367126006, 41.26232917044021, 35.58141319299572, 32.61134905774447, 22.254308987404727, 18.315286961496884, 18.115168540558297, 17.4993120427829, 17.19543165706273, 16.582842801272168, 16.03361065721493, 18.00740973368579, 15.553198492981439, 15.258931853942967, 13.681410613112917, 13.144335243780306, 12.951247412543825, 12.502980819653775, 12.171472234316571, 11.830923172821324, 11.733143859224606, 11.246363806014356, 11.082327031834625, 11.048850326335259, 11.035600897992541, 10.974864032552325, 10.926637076479313, 10.12460524344167, 10.037338564707742, 27.0921962635829, 55.38022108101787, 39.67237025232893, 299.45947937132286, 31.712082518107586, 37.376252117015056, 23.82456115799483, 29.437638594752062, 110.64998898370206, 17.062505127660717, 23.01169795168325, 19.240011298548247, 15.246908077979825, 13.714426409111264, 308.635039590735, 267.960631070958, 102.2499994015995, 43.38624643762074, 37.39803148938575, 35.48623754288039, 26.528636093174157, 25.30065737955367, 24.790586068695465, 24.373400152709692, 20.56913724187437, 17.14290404548743, 15.881012419747405, 12.524817553074055, 11.993935744361762, 11.555812356276737, 11.480358118563633, 11.26280144277995, 9.701758495438877, 32.574766235349394, 8.808959423061308, 8.798657081365636, 8.477715153521375, 7.942492153459794, 7.840308592294604, 7.639139063210029, 7.369605936612754, 6.1339568997183616, 5.718426213353341, 5.665031883468777, 49.43633186902762, 13.006280653610592, 68.97339256993443, 42.330717006664486, 14.678831885114482, 11.223560591745784, 203.69910265132432, 88.58794172301822, 79.13035616468856, 29.68174248039653, 24.817310586955514, 23.220843052207595, 21.431038923942022, 21.29406709666329, 17.65233315621474, 15.69235711221563, 14.6387845273228, 13.796967774304267, 13.740679863907213, 13.268664805404036, 12.802636326412905, 12.2294291054803, 11.759368147637296, 9.925758642354948, 9.901831129459564, 9.677299240298295, 9.246836210937655, 8.921147316806533, 8.719206139461408, 8.052100702538457, 7.874905471043038, 7.169312427268067, 44.41800964935579, 7.018557240604732, 6.9383679810031405, 6.870887734230726, 51.760319670968926, 178.90539498397462, 26.950058563466136, 26.639693416018265, 98.67042741447244, 15.19614963344724, 12.908353989743611, 12.000691403015294, 10.270483256808308, 10.966774290871653, 235.66733878769145, 78.24376274128485, 30.99257476566587, 27.743985099579735, 25.171323078547747, 20.00503583647375, 17.59558235941418, 17.252309758129485, 15.648849407926983, 15.118880597173947, 14.446233630976227, 13.121071063883221, 11.514935005520721, 10.90999005252599, 10.77379119759864, 10.5781201834902, 10.499582598066205, 10.366249309123802, 9.654074909151715, 8.762656219340304, 8.452205691783785, 8.347879621459903, 7.992406241475687, 7.813684865137266, 7.543609695708885, 7.422540739568417, 278.6582555425461, 6.973962208507375, 6.886754717238418, 6.83088261639046, 18.434881053867187, 10.669031511310163, 10.01939193466984, 82.48010865817712, 11.34546034884287, 13.596034201235181, 11.614685180470554, 11.538941562105995, 10.37024034585915, 89.51751136251924, 58.09082598130793, 40.332292457196736, 30.106058841827846, 25.847173266441697, 25.310655390397784, 24.066497083872488, 22.40972619016954, 21.566255269688803, 18.2387285307698, 18.231803562076006, 15.365040785262648, 15.01560067944288, 11.993658004525198, 11.755902054314642, 21.545899535369205, 10.048423151923135, 9.831373030799513, 9.425700326666732, 8.816292877056762, 8.680760674078904, 8.65129384118428, 8.444386263757385, 8.29585267147151, 8.233460446164594, 8.193343196670853, 7.895703771997336, 6.9816895408643695, 6.976926368110577, 6.426521268801386, 265.5009448225667, 122.58706118250498, 34.79465984024524, 42.635046284106046, 10.143389104943315, 44.12885198844361, 16.503888073882756, 11.204320683685154, 347.5636074940416, 89.9957686152148, 28.536917038203864, 26.34152246845017, 23.78161312211032, 22.10162403157772, 21.53384725716722, 14.599252800065376, 13.036461259176537, 10.676372645180122, 10.319001326382267, 9.191743531963493, 8.86310619401771, 8.629838392366734, 8.465294341988338, 8.264822073796758, 8.174106253386125, 7.395634972686946, 7.168087249549303, 7.145754569344355, 6.822604506934989, 6.728924745267926, 6.604451711986547, 6.590356194830571, 5.781110391750118, 5.517960218723361, 5.366534381728724, 5.125186441855487, 5.122470927936838, 4.721154922374068, 62.2072740868911, 85.85413178383361, 16.710143014071033, 33.11799839358009, 26.228092733429435, 110.36589785066255, 78.39524314861355, 23.383343476307548, 76.8616621315832, 18.573769905179287, 8.469469171211946, 9.920421537016294, 7.494908255544321, 133.117167443408, 70.80263047379364, 52.70112074774065, 46.76421661205173, 45.998576618910185, 40.991001348430494, 36.977408650018894, 31.874379555483486, 24.110310451950692, 20.710050131819727, 19.272857635447224, 19.251210644642047, 17.910090249462435, 17.004834821181653, 15.999456409898833, 14.73106232118049, 13.704149200553724, 12.867470039270989, 12.336597457759783, 12.210446319663298, 12.178776385692109, 11.283819500527635, 9.54226112676929, 9.25940444021348, 9.164160597072279, 8.719916808404058, 8.316785532956537, 7.955883023438459, 6.977593608328616, 6.86638611198164, 86.97999758811602, 29.998004685403004, 15.324118417403458, 107.21452844061145, 50.46621804813712, 18.91200397565579, 10.542109311536203, 263.2987914201276, 42.649820940163806, 27.996268415633235, 14.689473157130955, 13.355866344633935, 11.128358351113171, 10.92328525181527, 10.32629344491939, 8.309869981393236, 7.832206869355914, 8.042766386705447, 7.6035419569725295, 6.917630532362496, 6.571878463376759, 6.526419263144, 5.988362459845558, 5.4002028595199025, 5.3216689399646215, 5.246218302605395, 4.627177760145164, 4.589110034107766, 4.380823297216983, 4.379361018495538, 4.344741067017226, 4.295286455916391, 4.125023993264063, 3.9167063732765097, 3.901387639067417, 3.538729229235182, 3.3909722846947687, 243.41285801587316, 65.34103695831737, 260.8812108938002, 6.839823802004399, 6.057588716782678, 71.18750882558557, 45.89848427405172, 36.22589836592758, 19.520941165981498, 5.413864679676748, 4.970521665794454, 376.8585364220987, 214.40257237217463, 44.23343495285392, 43.59358137467032, 38.54859634913731, 38.56359375890883, 28.68765027885649, 17.9927474139616, 11.265842930885299, 10.999252233892522, 10.87516662073372, 8.95604779880972, 8.873220943757604, 6.66382836048755, 6.4799795884639275, 6.4799795884639275, 6.456151521529991, 6.363469324412091, 6.259384400546184, 6.01132227140832, 5.7543255665918895, 5.743127569678008, 5.340091515746039, 5.340077015487973, 5.322519274435026, 4.666371894359935, 4.464161307449162, 4.464161307449162, 4.464161307449162, 4.215792946670706, 16.59396828128418, 56.449001976801334, 43.80744775235679, 53.367407132534424, 14.613962185250973, 8.735572755887382, 5.809393058552882, 88.73131271403145, 59.31168274704202, 47.16125124777489, 44.056848289154054, 35.71841754935607, 32.257639111219376, 31.691036347956874, 27.732792694558945, 25.513543955480518, 22.969683077909533, 22.88170848766663, 20.64364638088645, 19.65720853392454, 19.234126092503118, 18.107924284029842, 14.179411906981043, 11.757228957695277, 11.735489153812294, 11.329882468588657, 11.252237869252458, 11.213253793561755, 9.592699971823194, 9.50796813591954, 9.397139065540351, 8.781063090162274, 8.722115458706682, 8.109792555527775, 8.026321388873432, 7.88779968308035, 7.767423854489252, 29.0001407946229, 142.37455828638826, 33.17775536517509, 27.77775327632045, 13.625338236330881, 14.219717811149113, 316.1854227418909, 32.17379705617568, 26.858265718292326, 22.477358689531034, 21.694433020301826, 17.08912383212848, 14.96760302620258, 13.245768742570371, 11.510386510519517, 10.669082643378587, 10.420883398459353, 10.227497716095517, 9.871906212939487, 9.612531336947695, 7.940394475893301, 10.545818745723317, 6.176942523377436, 6.150817208411445, 6.090958176168362, 5.793931596093682, 5.5256256811725795, 5.417623324378073, 5.161036358905048, 5.124904714406172, 4.939924582256421, 4.839133836787556, 4.696112406296547, 4.51686823795134, 4.249850921206064, 4.11830628095877, 26.586310882348055, 65.61703999126463, 122.56545734508241, 10.575599465225311, 22.712264139734728, 7.22813844820716, 13.469592572637605, 49.75135503097692, 13.591795119241892, 15.316348588156826, 36.58281754622574, 31.54236807606066, 24.364382935495684, 24.005956164397105, 18.700675324704136, 16.192824052620093, 15.26785708313546, 14.075880965558502, 14.061968948013636, 14.003793427781929, 10.5557282824272, 10.415998328980505, 10.20325083429141, 10.173070504140835, 9.577564010471534, 9.065310003838729, 8.929109892042671, 8.699691042348757, 8.568040340646743, 8.08532007864144, 7.502637940152286, 7.064260317012645, 6.643580978826234, 6.521249329003752, 6.101745377783387, 5.889157382369433, 5.699493727004605, 5.643057975789444, 5.60168509073517, 5.410545453616531, 39.75703961300707, 18.438809414776383, 53.37449880421062, 16.27714518480004, 18.57312866204327, 232.75113799619515, 28.409939727036477, 30.871710431614563, 7.852043186865346], \"Total\": [377.0, 348.0, 317.0, 309.0, 264.0, 515.0, 310.0, 268.0, 322.0, 322.0, 236.0, 889.0, 215.0, 465.0, 204.0, 303.0, 198.0, 133.0, 189.0, 103.0, 89.0, 90.0, 101.0, 90.0, 89.0, 119.0, 79.0, 79.0, 71.0, 90.0, 56.328428517842475, 56.08460409344608, 42.059727037994875, 36.378804843819715, 33.408764666317076, 23.051701408674695, 19.11269311254358, 18.912568014371683, 18.296751995150114, 17.992836027811023, 17.380230846191846, 16.83104167929676, 18.920756925840976, 16.350731731329994, 16.056323446991755, 14.478803040697754, 13.941737970595355, 13.748681547810916, 13.300371244317754, 12.968880858170458, 12.629495296318408, 12.530637461557902, 12.043756255272397, 11.879786068196593, 11.846237338493484, 11.832992329085291, 11.772276591192401, 11.72402630206803, 10.922183648813462, 10.834728494722162, 30.225052598489047, 63.947147665471384, 47.89622859124725, 465.38494653442393, 39.43931090712809, 60.81987670985602, 35.75800610316098, 53.86175535368774, 889.7401522335849, 49.08836480935753, 189.27682425820967, 90.47365327200794, 87.8416171019033, 101.40952804317652, 309.4575788094251, 268.78316511842917, 103.07253735850077, 44.20879615358664, 38.220576375823796, 36.3087820780805, 27.351182279785213, 26.123221406354173, 25.613129620444074, 25.195976128792207, 21.39185571685873, 17.965437637117958, 16.70361569616316, 13.347382535411283, 12.816493785196618, 12.378361435452442, 12.302920136135636, 12.085343666873436, 10.524293240837569, 35.54319531387078, 9.631580888355968, 9.621381419973764, 9.300284850494396, 8.765023009837229, 8.662843682254344, 8.461714913560742, 8.192199981500416, 6.956527344425405, 6.541056626104183, 6.48755984323756, 97.78677301956391, 18.7317032202086, 465.38494653442393, 198.75131665947146, 41.66103570362986, 86.77372568143058, 204.5169012884818, 89.40572072213958, 79.9481358658966, 30.49957864462828, 25.63509167264052, 24.038633926438624, 22.248822240320436, 22.111845395559957, 18.47011204241246, 16.510186566082556, 15.456577729527043, 14.614749807434993, 14.558504208197924, 14.086466424759305, 13.620434062028473, 13.04722153799996, 12.577154483283568, 10.743545229491534, 10.71961260083894, 10.495116954641649, 10.064664936758797, 9.738973090358629, 9.536986391842412, 8.8698952164071, 8.692774923641325, 7.987109115918694, 49.55124602569294, 7.8363399228180315, 7.756178861816753, 7.688708271649487, 58.92028549078206, 303.68445844877675, 35.75389191863728, 49.08836480935753, 889.7401522335849, 30.151215552044025, 22.095417088857495, 22.670454131363666, 16.009194879771545, 86.77372568143058, 236.47946773443397, 79.05589154528374, 31.804706771361694, 28.556109788958477, 25.98345399752279, 20.817244852954005, 18.407848960421248, 18.064444114012, 16.460983370528247, 15.931027795128982, 15.258365845061466, 13.933198515317125, 12.327066637716019, 11.722120969696181, 11.58595364831265, 11.390266039196064, 11.311770357498677, 11.178413728980034, 10.466273341934125, 9.574826452185826, 9.264364290515935, 9.16010393490785, 8.804542092788695, 8.62587448259313, 8.355759358322821, 8.23466461351298, 310.25960234335116, 7.7860891885094095, 7.698999406385056, 7.643007874546757, 22.719691276281264, 12.506354522246129, 13.61426794272088, 515.2572863432924, 30.151215552044025, 76.54699115990857, 52.8974842007164, 86.77372568143058, 90.00200814265419, 90.33937227720091, 58.91268190962997, 41.15414801208767, 30.92793355027081, 26.66902563119478, 26.13251983127525, 24.8883779165773, 23.231582500539105, 22.388106500499305, 19.06056745983355, 19.05374020281261, 16.186919493856266, 15.837473238640703, 12.815540457527481, 12.577748155293293, 23.18165263144658, 10.870272036360065, 10.65321849738231, 10.247645060290044, 9.638222513156943, 9.502610238993475, 9.473142142569584, 9.266388534339837, 9.117735296543772, 9.055431848154685, 9.015193640950585, 8.717560850357446, 7.80355922479649, 7.798982195885269, 7.248443228810624, 322.7068334618509, 189.27682425820967, 52.8974842007164, 86.77372568143058, 12.975506135628859, 303.68445844877675, 54.32363531284164, 35.75800610316098, 348.38528041896444, 90.8174712948423, 29.358617322396043, 27.16320441712316, 24.603295966305843, 22.92339407018899, 22.355534929878022, 15.42103351150604, 13.85824942566718, 11.498065758981365, 11.14068526234334, 10.013437412013445, 9.684791898784232, 9.451586842123602, 9.287023140948415, 9.086637252573555, 8.995815790756481, 8.21732563033564, 7.989776688390085, 7.967460265710695, 7.64427245229651, 7.550594858040524, 7.4261322515035, 7.4120300092597, 6.602798598192012, 6.33963212959538, 6.188215367116278, 5.946877051338683, 5.944155136618943, 5.542860880036127, 76.54699115990857, 119.64981456852829, 21.2093331219703, 47.34324034786699, 41.66103570362986, 515.2572863432924, 322.5621211289569, 53.86175535368774, 889.7401522335849, 87.8416171019033, 13.153035440043302, 22.670454131363666, 47.89622859124725, 133.925022060651, 71.61046460250306, 53.50896598007464, 47.5720622491062, 46.80642337828312, 41.79883674567653, 37.785292499489614, 32.682210534316155, 24.918145245906143, 21.517882522113396, 20.080689146504376, 20.059288641004258, 18.717943246076075, 17.812741194219477, 16.80728916229263, 15.538903933060945, 14.511992723905427, 13.675511433976492, 13.144427702219991, 13.018288725601593, 12.986644816916945, 12.091666994471924, 10.35009796279894, 10.067240917160362, 9.972047218634966, 9.527785878454923, 9.124637670200867, 8.763849364377684, 7.785475430264777, 7.674237026948727, 101.40952804317652, 34.85705210280616, 21.66902851695656, 889.7401522335849, 465.38494653442393, 119.64981456852829, 19.523814778386708, 264.1212763645739, 43.47229608324862, 28.818747823116396, 15.51193946327413, 14.1783436822968, 11.95082637908054, 11.74576801563883, 11.148826906341194, 9.132485984360649, 8.654684734008443, 8.898045420115078, 8.42610971321749, 7.7401254250071565, 7.39436140776551, 7.349056723772894, 6.81089222672903, 6.222680633227662, 6.14413196565685, 6.068769078089871, 5.449890266916123, 5.411723482987234, 5.20336404350479, 5.201835977299108, 5.167281477222941, 5.117862814455989, 4.9474933084375765, 4.739261392653343, 4.724073947567781, 4.361191471824894, 4.213434472087316, 322.5621211289569, 90.00200814265419, 515.2572863432924, 9.528076631489393, 8.297859873813628, 889.7401522335849, 465.38494653442393, 303.68445844877675, 97.78677301956391, 14.100634801586859, 18.7317032202086, 377.6835552225904, 215.2275889346216, 45.05845971621867, 44.46069691508754, 39.37360802965055, 39.38935575869438, 29.512675899181637, 18.817774157642997, 12.091014984079056, 11.824263112949065, 11.700194010604253, 9.781066573692929, 9.698290811563542, 7.488871939267618, 7.304993643197131, 7.304993643197131, 7.281199198173484, 7.188499841027464, 7.084562620623133, 6.836353415425339, 6.579341431335185, 6.568137572719241, 6.165128328955997, 6.1651327867144605, 6.147617139925686, 5.4914063023135515, 5.289298638192232, 5.289298638192232, 5.289298638192232, 5.04083960785746, 24.774399169180118, 322.7068334618509, 303.68445844877675, 515.2572863432924, 97.78677301956391, 54.32363531284164, 52.8974842007164, 89.54232624763853, 60.122708213433036, 47.97226165744296, 44.86786062658447, 36.529448794493014, 33.06865144049689, 32.50204698482012, 28.54380379879332, 26.324556332881883, 23.78070457194534, 23.692719282327232, 21.45466241722066, 20.468236996546533, 20.045134651680122, 18.919064598278105, 14.9904303168168, 12.568259703152405, 12.546511730971867, 12.140904094640396, 12.063249668850913, 12.024296674115336, 10.403721234598217, 10.318984657388366, 10.208151579035778, 9.592095999721634, 9.533135532962026, 8.920804240592886, 8.837327844940374, 8.699149404975518, 8.578440452723576, 38.528380279469765, 889.7401522335849, 198.75131665947146, 189.27682425820967, 90.00200814265419, 119.64981456852829, 317.00950205134063, 32.99787094296902, 27.783898273738263, 23.301460280721454, 22.518516955942413, 17.91326556265242, 15.79169529893729, 14.069922793394062, 12.334491422010283, 11.49318020654216, 11.245004707882856, 11.051619332987432, 10.696064265183182, 10.436614424612628, 8.764526840491168, 11.852711980945744, 7.001054150140787, 6.974915640812192, 6.915037331324989, 6.618074967448798, 6.34971190581876, 6.24170929674678, 5.985206906904637, 5.94904789497126, 5.764023358680327, 5.663218527725471, 5.520196422145088, 5.341326524443872, 5.073989040052877, 4.942528801881279, 34.92757772903427, 90.47365327200794, 198.75131665947146, 18.492014650035756, 60.81987670985602, 12.65086508204736, 47.34324034786699, 889.7401522335849, 97.78677301956391, 189.27682425820967, 37.390449272508, 32.349981533570805, 25.172007936776755, 24.813573214855104, 19.508286884008417, 17.000444568613364, 16.075473235152227, 14.883525945584672, 14.869620389166666, 14.811500942293373, 11.363353008172343, 11.223635473705588, 11.010860257525103, 10.980724260499338, 10.385179826598671, 9.872926885387043, 9.736718641141344, 9.507307542139259, 9.375652127937265, 8.89296075743703, 8.310250873148325, 7.871894764178362, 7.451193542635348, 7.328969679192885, 6.9093676515484965, 6.696773258332708, 6.507304036928653, 6.450890868630616, 6.409350645467205, 6.218415032377233, 48.17650185992019, 24.78455976848452, 87.8416171019033, 24.05564609344589, 28.60400421409897, 889.7401522335849, 54.32363531284164, 310.25960234335116, 63.947147665471384], \"Category\": [\"Default\", \"Default\", \"Default\", \"Default\", \"Default\", \"Default\", \"Default\", \"Default\", \"Default\", \"Default\", \"Default\", \"Default\", \"Default\", \"Default\", \"Default\", \"Default\", \"Default\", \"Default\", \"Default\", \"Default\", \"Default\", \"Default\", \"Default\", \"Default\", \"Default\", \"Default\", \"Default\", \"Default\", \"Default\", \"Default\", \"Topic1\", \"Topic1\", \"Topic1\", \"Topic1\", \"Topic1\", \"Topic1\", \"Topic1\", \"Topic1\", \"Topic1\", \"Topic1\", \"Topic1\", \"Topic1\", \"Topic1\", \"Topic1\", \"Topic1\", \"Topic1\", \"Topic1\", \"Topic1\", \"Topic1\", \"Topic1\", \"Topic1\", \"Topic1\", \"Topic1\", \"Topic1\", \"Topic1\", \"Topic1\", \"Topic1\", \"Topic1\", \"Topic1\", \"Topic1\", \"Topic1\", \"Topic1\", \"Topic1\", \"Topic1\", \"Topic1\", \"Topic1\", \"Topic1\", \"Topic1\", \"Topic1\", \"Topic1\", \"Topic1\", \"Topic1\", \"Topic1\", \"Topic1\", \"Topic2\", \"Topic2\", \"Topic2\", \"Topic2\", \"Topic2\", \"Topic2\", \"Topic2\", \"Topic2\", \"Topic2\", \"Topic2\", \"Topic2\", \"Topic2\", \"Topic2\", \"Topic2\", \"Topic2\", \"Topic2\", \"Topic2\", \"Topic2\", \"Topic2\", \"Topic2\", \"Topic2\", \"Topic2\", \"Topic2\", \"Topic2\", \"Topic2\", \"Topic2\", \"Topic2\", \"Topic2\", \"Topic2\", \"Topic2\", \"Topic2\", \"Topic2\", \"Topic2\", \"Topic2\", \"Topic2\", \"Topic2\", \"Topic3\", \"Topic3\", \"Topic3\", \"Topic3\", \"Topic3\", \"Topic3\", \"Topic3\", \"Topic3\", \"Topic3\", \"Topic3\", \"Topic3\", \"Topic3\", \"Topic3\", \"Topic3\", \"Topic3\", \"Topic3\", \"Topic3\", \"Topic3\", \"Topic3\", \"Topic3\", \"Topic3\", \"Topic3\", \"Topic3\", \"Topic3\", \"Topic3\", \"Topic3\", \"Topic3\", \"Topic3\", \"Topic3\", \"Topic3\", \"Topic3\", \"Topic3\", \"Topic3\", \"Topic3\", \"Topic3\", \"Topic3\", \"Topic3\", \"Topic3\", \"Topic3\", \"Topic3\", \"Topic4\", \"Topic4\", \"Topic4\", \"Topic4\", \"Topic4\", \"Topic4\", \"Topic4\", \"Topic4\", \"Topic4\", \"Topic4\", \"Topic4\", \"Topic4\", \"Topic4\", \"Topic4\", \"Topic4\", \"Topic4\", \"Topic4\", \"Topic4\", \"Topic4\", \"Topic4\", \"Topic4\", \"Topic4\", \"Topic4\", \"Topic4\", \"Topic4\", \"Topic4\", \"Topic4\", \"Topic4\", \"Topic4\", \"Topic4\", \"Topic4\", \"Topic4\", \"Topic4\", \"Topic4\", \"Topic4\", \"Topic4\", \"Topic4\", \"Topic4\", \"Topic4\", \"Topic5\", \"Topic5\", \"Topic5\", \"Topic5\", \"Topic5\", \"Topic5\", \"Topic5\", \"Topic5\", \"Topic5\", \"Topic5\", \"Topic5\", \"Topic5\", \"Topic5\", \"Topic5\", \"Topic5\", \"Topic5\", \"Topic5\", \"Topic5\", \"Topic5\", \"Topic5\", \"Topic5\", \"Topic5\", \"Topic5\", \"Topic5\", \"Topic5\", \"Topic5\", \"Topic5\", \"Topic5\", \"Topic5\", \"Topic5\", \"Topic5\", \"Topic5\", \"Topic5\", \"Topic5\", \"Topic5\", \"Topic5\", \"Topic5\", \"Topic5\", \"Topic6\", \"Topic6\", \"Topic6\", \"Topic6\", \"Topic6\", \"Topic6\", \"Topic6\", \"Topic6\", \"Topic6\", \"Topic6\", \"Topic6\", \"Topic6\", \"Topic6\", \"Topic6\", \"Topic6\", \"Topic6\", \"Topic6\", \"Topic6\", \"Topic6\", \"Topic6\", \"Topic6\", \"Topic6\", \"Topic6\", \"Topic6\", \"Topic6\", \"Topic6\", \"Topic6\", \"Topic6\", \"Topic6\", \"Topic6\", \"Topic6\", \"Topic6\", \"Topic6\", \"Topic6\", \"Topic6\", \"Topic6\", \"Topic6\", \"Topic6\", \"Topic6\", \"Topic6\", \"Topic6\", \"Topic6\", \"Topic6\", \"Topic7\", \"Topic7\", \"Topic7\", \"Topic7\", \"Topic7\", \"Topic7\", \"Topic7\", \"Topic7\", \"Topic7\", \"Topic7\", \"Topic7\", \"Topic7\", \"Topic7\", \"Topic7\", \"Topic7\", \"Topic7\", \"Topic7\", \"Topic7\", \"Topic7\", \"Topic7\", \"Topic7\", \"Topic7\", \"Topic7\", \"Topic7\", \"Topic7\", \"Topic7\", \"Topic7\", \"Topic7\", \"Topic7\", \"Topic7\", \"Topic7\", \"Topic7\", \"Topic7\", \"Topic7\", \"Topic7\", \"Topic7\", \"Topic7\", \"Topic8\", \"Topic8\", \"Topic8\", \"Topic8\", \"Topic8\", \"Topic8\", \"Topic8\", \"Topic8\", \"Topic8\", \"Topic8\", \"Topic8\", \"Topic8\", \"Topic8\", \"Topic8\", \"Topic8\", \"Topic8\", \"Topic8\", \"Topic8\", \"Topic8\", \"Topic8\", \"Topic8\", \"Topic8\", \"Topic8\", \"Topic8\", \"Topic8\", \"Topic8\", \"Topic8\", \"Topic8\", \"Topic8\", \"Topic8\", \"Topic8\", \"Topic8\", \"Topic8\", \"Topic8\", \"Topic8\", \"Topic8\", \"Topic8\", \"Topic8\", \"Topic8\", \"Topic8\", \"Topic8\", \"Topic9\", \"Topic9\", \"Topic9\", \"Topic9\", \"Topic9\", \"Topic9\", \"Topic9\", \"Topic9\", \"Topic9\", \"Topic9\", \"Topic9\", \"Topic9\", \"Topic9\", \"Topic9\", \"Topic9\", \"Topic9\", \"Topic9\", \"Topic9\", \"Topic9\", \"Topic9\", \"Topic9\", \"Topic9\", \"Topic9\", \"Topic9\", \"Topic9\", \"Topic9\", \"Topic9\", \"Topic9\", \"Topic9\", \"Topic9\", \"Topic9\", \"Topic9\", \"Topic9\", \"Topic9\", \"Topic9\", \"Topic9\", \"Topic9\", \"Topic10\", \"Topic10\", \"Topic10\", \"Topic10\", \"Topic10\", \"Topic10\", \"Topic10\", \"Topic10\", \"Topic10\", \"Topic10\", \"Topic10\", \"Topic10\", \"Topic10\", \"Topic10\", \"Topic10\", \"Topic10\", \"Topic10\", \"Topic10\", \"Topic10\", \"Topic10\", \"Topic10\", \"Topic10\", \"Topic10\", \"Topic10\", \"Topic10\", \"Topic10\", \"Topic10\", \"Topic10\", \"Topic10\", \"Topic10\", \"Topic10\", \"Topic10\", \"Topic10\", \"Topic10\", \"Topic10\", \"Topic10\", \"Topic11\", \"Topic11\", \"Topic11\", \"Topic11\", \"Topic11\", \"Topic11\", \"Topic11\", \"Topic11\", \"Topic11\", \"Topic11\", \"Topic11\", \"Topic11\", \"Topic11\", \"Topic11\", \"Topic11\", \"Topic11\", \"Topic11\", \"Topic11\", \"Topic11\", \"Topic11\", \"Topic11\", \"Topic11\", \"Topic11\", \"Topic11\", \"Topic11\", \"Topic11\", \"Topic11\", \"Topic11\", \"Topic11\", \"Topic11\", \"Topic11\", \"Topic11\", \"Topic11\", \"Topic11\", \"Topic11\", \"Topic11\", \"Topic11\", \"Topic11\", \"Topic11\", \"Topic11\", \"Topic12\", \"Topic12\", \"Topic12\", \"Topic12\", \"Topic12\", \"Topic12\", \"Topic12\", \"Topic12\", \"Topic12\", \"Topic12\", \"Topic12\", \"Topic12\", \"Topic12\", \"Topic12\", \"Topic12\", \"Topic12\", \"Topic12\", \"Topic12\", \"Topic12\", \"Topic12\", \"Topic12\", \"Topic12\", \"Topic12\", \"Topic12\", \"Topic12\", \"Topic12\", \"Topic12\", \"Topic12\", \"Topic12\", \"Topic12\", \"Topic12\", \"Topic12\", \"Topic12\", \"Topic12\", \"Topic12\", \"Topic12\", \"Topic12\", \"Topic12\", \"Topic12\"], \"logprob\": [30.0, 29.0, 28.0, 27.0, 26.0, 25.0, 24.0, 23.0, 22.0, 21.0, 20.0, 19.0, 18.0, 17.0, 16.0, 15.0, 14.0, 13.0, 12.0, 11.0, 10.0, 9.0, 8.0, 7.0, 6.0, 5.0, 4.0, 3.0, 2.0, 1.0, -3.7919, -3.7963, -4.0889, -4.237, -4.3241, -4.7063, -4.9011, -4.9121, -4.9466, -4.9642, -5.0004, -5.0341, -4.918, -5.0645, -5.0836, -5.1928, -5.2328, -5.2476, -5.2828, -5.3097, -5.3381, -5.3464, -5.3888, -5.4034, -5.4065, -5.4077, -5.4132, -5.4176, -5.4938, -5.5025, -4.5096, -3.7946, -4.1281, -2.1068, -4.3521, -4.1878, -4.6381, -4.4265, -3.1024, -4.9719, -4.6728, -4.8518, -5.0844, -5.1904, -1.7534, -1.8948, -2.8582, -3.7155, -3.864, -3.9165, -4.2074, -4.2548, -4.2751, -4.2921, -4.4618, -4.644, -4.7205, -4.9579, -5.0012, -5.0384, -5.045, -5.0641, -5.2133, -4.0021, -5.3098, -5.311, -5.3482, -5.4134, -5.4263, -5.4523, -5.4882, -5.6718, -5.7419, -5.7513, -3.5849, -4.9202, -3.2519, -3.7401, -4.7992, -5.0676, -2.154, -2.9867, -3.0996, -4.0802, -4.2591, -4.3256, -4.4058, -4.4123, -4.5998, -4.7175, -4.787, -4.8462, -4.8503, -4.8853, -4.921, -4.9668, -5.006, -5.1756, -5.178, -5.2009, -5.2464, -5.2823, -5.3052, -5.3848, -5.407, -5.5009, -3.677, -5.5221, -5.5336, -5.5434, -3.5241, -2.2838, -4.1767, -4.1883, -2.8789, -4.7496, -4.9128, -4.9857, -5.1414, -5.0758, -1.9921, -3.0947, -4.0207, -4.1315, -4.2288, -4.4585, -4.5868, -4.6065, -4.7041, -4.7386, -4.7841, -4.8803, -5.0109, -5.0648, -5.0774, -5.0957, -5.1032, -5.1159, -5.1871, -5.284, -5.3201, -5.3325, -5.376, -5.3986, -5.4338, -5.45, -1.8245, -5.5123, -5.5249, -5.533, -4.5403, -5.0872, -5.15, -3.0419, -5.0257, -4.8447, -5.0022, -5.0088, -5.1156, -2.9355, -3.3679, -3.7328, -4.0252, -4.1777, -4.1987, -4.2491, -4.3204, -4.3588, -4.5264, -4.5268, -4.6978, -4.7208, -4.9456, -4.9656, -4.3598, -5.1225, -5.1444, -5.1865, -5.2533, -5.2688, -5.2722, -5.2964, -5.3142, -5.3217, -5.3266, -5.3636, -5.4866, -5.4873, -5.5695, -1.8483, -2.6211, -3.8805, -3.6773, -5.1131, -3.6428, -4.6263, -5.0136, -1.5742, -2.9254, -4.074, -4.154, -4.2562, -4.3295, -4.3555, -4.7442, -4.8574, -5.0571, -5.0912, -5.2068, -5.2433, -5.2699, -5.2892, -5.3131, -5.3242, -5.4243, -5.4555, -5.4586, -5.5049, -5.5187, -5.5374, -5.5395, -5.6706, -5.7171, -5.745, -5.791, -5.7915, -5.8731, -3.2947, -2.9725, -4.6091, -3.9251, -4.1583, -2.7213, -3.0634, -4.2731, -3.0831, -4.5034, -5.2887, -5.1306, -5.4109, -2.4649, -3.0962, -3.3915, -3.511, -3.5275, -3.6428, -3.7458, -3.8943, -4.1735, -4.3255, -4.3974, -4.3985, -4.4707, -4.5226, -4.5836, -4.6661, -4.7384, -4.8014, -4.8435, -4.8538, -4.8564, -4.9327, -5.1004, -5.1305, -5.1408, -5.1905, -5.2378, -5.2822, -5.4134, -5.4295, -2.8904, -3.955, -4.6267, -2.6813, -3.4348, -4.4163, -5.0007, -1.7678, -3.588, -4.009, -4.6539, -4.7491, -4.9316, -4.9502, -5.0064, -5.2236, -5.2828, -5.2563, -5.3124, -5.407, -5.4583, -5.4652, -5.5512, -5.6546, -5.6693, -5.6836, -5.8091, -5.8174, -5.8638, -5.8642, -5.8721, -5.8835, -5.924, -5.9758, -5.9797, -6.0773, -6.1199, -1.8463, -3.1614, -1.777, -5.4183, -5.5397, -3.0757, -3.5146, -3.7513, -4.3696, -5.6521, -5.7375, -1.3698, -1.9338, -3.5122, -3.5268, -3.6498, -3.6494, -3.9452, -4.4117, -4.8799, -4.9039, -4.9152, -5.1094, -5.1187, -5.405, -5.433, -5.433, -5.4367, -5.4511, -5.4676, -5.5081, -5.5517, -5.5537, -5.6265, -5.6265, -5.6297, -5.7613, -5.8056, -5.8056, -5.8056, -5.8629, -4.4927, -3.2684, -3.5219, -3.3245, -4.6197, -5.1343, -5.5422, -2.7673, -3.1701, -3.3994, -3.4675, -3.6773, -3.7792, -3.7969, -3.9303, -4.0137, -4.1188, -4.1226, -4.2255, -4.2745, -4.2962, -4.3566, -4.6011, -4.7885, -4.7903, -4.8255, -4.8324, -4.8358, -4.9919, -5.0008, -5.0125, -5.0803, -5.0871, -5.1599, -5.1702, -5.1876, -5.203, -3.8856, -2.2945, -3.7511, -3.9287, -4.641, -4.5983, -1.4824, -3.7676, -3.9482, -4.1262, -4.1617, -4.4003, -4.5328, -4.6551, -4.7955, -4.8714, -4.8949, -4.9136, -4.949, -4.9757, -5.1668, -4.883, -5.4179, -5.4221, -5.4319, -5.4819, -5.5293, -5.5491, -5.5976, -5.6046, -5.6414, -5.662, -5.692, -5.7309, -5.7918, -5.8233, -3.9583, -3.0549, -2.4301, -4.8802, -4.1158, -5.2607, -4.6383, -3.3317, -4.6293, -4.5098, -3.5838, -3.7321, -3.9903, -4.0051, -4.2549, -4.3988, -4.4577, -4.5389, -4.5399, -4.5441, -4.8267, -4.8401, -4.8607, -4.8637, -4.924, -4.979, -4.9941, -5.0201, -5.0354, -5.0934, -5.1682, -5.2284, -5.2898, -5.3083, -5.3748, -5.4103, -5.443, -5.453, -5.4603, -5.4951, -3.5006, -4.269, -3.2061, -4.3936, -4.2617, -1.7334, -3.8367, -3.7536, -5.1226], \"loglift\": [30.0, 29.0, 28.0, 27.0, 26.0, 25.0, 24.0, 23.0, 22.0, 21.0, 20.0, 19.0, 18.0, 17.0, 16.0, 15.0, 14.0, 13.0, 12.0, 11.0, 10.0, 9.0, 8.0, 7.0, 6.0, 5.0, 4.0, 3.0, 2.0, 1.0, 2.0706, 2.0705, 2.0657, 2.0627, 2.0607, 2.0496, 2.0422, 2.0418, 2.0403, 2.0395, 2.0379, 2.0363, 2.0354, 2.0348, 2.0339, 2.0282, 2.0259, 2.0251, 2.023, 2.0214, 2.0195, 2.0191, 2.0163, 2.0154, 2.0152, 2.0151, 2.0147, 2.0144, 2.009, 2.0084, 1.9754, 1.941, 1.8965, 1.644, 1.8668, 1.598, 1.6788, 1.4807, 0.0003, 1.0281, -0.0224, 0.5368, 0.3337, 0.0841, 2.4054, 2.405, 2.4, 2.3893, 2.3863, 2.3851, 2.3775, 2.376, 2.3754, 2.3748, 2.3688, 2.3612, 2.3575, 2.3444, 2.3417, 2.3393, 2.3388, 2.3376, 2.3267, 2.3208, 2.3188, 2.3187, 2.3154, 2.3095, 2.3083, 2.3058, 2.3022, 2.2822, 2.2736, 2.2725, 1.7259, 2.0433, 0.4989, 0.8615, 1.3649, 0.3628, 2.4189, 2.4138, 2.4127, 2.3958, 2.3905, 2.3883, 2.3855, 2.3853, 2.3777, 2.3721, 2.3686, 2.3654, 2.3651, 2.3631, 2.361, 2.3582, 2.3557, 2.3438, 2.3436, 2.3418, 2.3382, 2.3352, 2.3333, 2.3262, 2.3241, 2.3149, 2.3136, 2.3127, 2.3115, 2.3105, 2.2934, 1.8938, 2.1403, 1.8117, 0.2238, 1.7378, 1.8855, 1.7869, 1.9791, 0.3545, 2.4357, 2.4288, 2.4133, 2.4103, 2.4074, 2.3993, 2.394, 2.3931, 2.3885, 2.3868, 2.3844, 2.3791, 2.371, 2.3673, 2.3665, 2.3652, 2.3646, 2.3637, 2.3584, 2.3505, 2.3474, 2.3463, 2.3424, 2.3403, 2.3369, 2.3353, 2.3317, 2.329, 2.3277, 2.3268, 2.2302, 2.2803, 2.1325, 0.607, 1.4617, 0.711, 0.9231, 0.4216, 0.2783, 2.4546, 2.4497, 2.4435, 2.4368, 2.4324, 2.4317, 2.4301, 2.4277, 2.4263, 2.4196, 2.4196, 2.4116, 2.4104, 2.3974, 2.3961, 2.3905, 2.3851, 2.3834, 2.3801, 2.3746, 2.3732, 2.373, 2.3708, 2.3692, 2.3685, 2.3681, 2.3647, 2.3524, 2.3523, 2.3433, 2.2686, 2.0293, 2.0448, 1.7531, 2.2175, 0.5348, 1.2723, 1.3032, 2.4661, 2.4594, 2.4401, 2.4378, 2.4345, 2.432, 2.431, 2.4137, 2.4074, 2.3943, 2.3919, 2.3829, 2.3798, 2.3775, 2.3758, 2.3737, 2.3727, 2.3631, 2.36, 2.3596, 2.3548, 2.3533, 2.3512, 2.351, 2.3356, 2.3297, 2.326, 2.3198, 2.3197, 2.308, 2.2611, 2.1366, 2.2301, 2.1111, 2.0058, 0.9276, 1.054, 1.6341, 0.0196, 0.9147, 2.0283, 1.642, 0.6137, 2.5315, 2.5262, 2.5223, 2.5204, 2.5201, 2.518, 2.5159, 2.5125, 2.5046, 2.4993, 2.4965, 2.4964, 2.4934, 2.4911, 2.4883, 2.4841, 2.4803, 2.4766, 2.4741, 2.4735, 2.4733, 2.4684, 2.4563, 2.4539, 2.453, 2.4489, 2.4448, 2.4408, 2.428, 2.4263, 2.384, 2.3874, 2.1911, 0.4214, 0.316, 0.6928, 1.9213, 2.5495, 2.5335, 2.5236, 2.4981, 2.4928, 2.4813, 2.48, 2.4759, 2.4582, 2.4527, 2.4515, 2.4499, 2.4402, 2.4347, 2.4339, 2.4239, 2.4108, 2.4089, 2.4069, 2.3889, 2.3877, 2.3805, 2.3805, 2.3792, 2.3774, 2.3708, 2.3619, 2.3612, 2.3436, 2.3354, 2.271, 2.2324, 1.872, 2.2211, 2.2379, 0.027, 0.2361, 0.4264, 0.9413, 1.5953, 1.2259, 2.5898, 2.5881, 2.5735, 2.5722, 2.5708, 2.5708, 2.5636, 2.5471, 2.5213, 2.5196, 2.5188, 2.5038, 2.503, 2.4752, 2.4721, 2.4721, 2.4717, 2.47, 2.4681, 2.4633, 2.458, 2.4577, 2.4483, 2.4483, 2.4478, 2.4291, 2.4223, 2.4223, 2.4223, 2.4132, 2.1912, 0.8485, 0.6558, 0.3245, 0.6911, 0.7644, 0.3831, 2.6316, 2.6271, 2.6237, 2.6225, 2.6183, 2.6159, 2.6154, 2.6119, 2.6094, 2.606, 2.6059, 2.6022, 2.6003, 2.5994, 2.5969, 2.5851, 2.574, 2.5739, 2.5716, 2.5711, 2.5709, 2.5595, 2.5589, 2.5579, 2.5524, 2.5518, 2.5454, 2.5444, 2.5428, 2.5414, 2.3566, 0.8082, 0.8505, 0.7217, 0.7528, 0.5108, 2.6523, 2.6296, 2.621, 2.6189, 2.6176, 2.6078, 2.6013, 2.5945, 2.5858, 2.5805, 2.5788, 2.5774, 2.5747, 2.5727, 2.5562, 2.5381, 2.5297, 2.5292, 2.528, 2.5219, 2.5159, 2.5133, 2.5068, 2.5058, 2.5006, 2.4977, 2.4932, 2.4873, 2.4777, 2.4725, 2.382, 2.3337, 2.1715, 2.0961, 1.6699, 2.0952, 1.3979, -0.229, 0.6816, 0.1406, 2.6884, 2.6849, 2.6776, 2.6771, 2.6679, 2.6616, 2.6587, 2.6544, 2.6544, 2.6542, 2.6365, 2.6356, 2.6341, 2.6338, 2.6293, 2.6249, 2.6236, 2.6215, 2.6202, 2.615, 2.608, 2.602, 2.5955, 2.5935, 2.5859, 2.5817, 2.5777, 2.5764, 2.5755, 2.5711, 2.5181, 2.4145, 2.212, 2.3196, 2.2784, 1.3693, 2.062, 0.4027, 0.6129]}, \"token.table\": {\"Topic\": [6, 6, 9, 4, 8, 1, 7, 4, 6, 1, 2, 8, 6, 6, 2, 6, 8, 12, 6, 9, 6, 4, 11, 2, 2, 4, 4, 6, 1, 8, 9, 8, 1, 11, 9, 9, 1, 10, 6, 10, 1, 7, 4, 7, 1, 3, 12, 6, 3, 12, 5, 4, 4, 10, 10, 11, 8, 6, 11, 12, 1, 6, 12, 12, 2, 7, 10, 5, 2, 12, 5, 9, 10, 4, 1, 12, 2, 12, 10, 7, 12, 8, 12, 6, 7, 12, 11, 8, 9, 3, 12, 7, 7, 5, 7, 10, 4, 11, 3, 11, 1, 11, 10, 11, 9, 1, 11, 11, 3, 1, 4, 12, 11, 12, 11, 4, 1, 3, 4, 7, 4, 1, 3, 7, 3, 10, 7, 10, 9, 5, 6, 5, 5, 2, 8, 10, 1, 10, 1, 7, 6, 8, 8, 12, 1, 6, 1, 12, 3, 9, 9, 2, 9, 3, 6, 7, 10, 9, 5, 9, 4, 12, 9, 4, 2, 5, 12, 7, 8, 11, 12, 10, 3, 8, 10, 3, 5, 12, 3, 8, 4, 6, 10, 6, 3, 4, 2, 6, 8, 6, 8, 5, 5, 8, 4, 3, 12, 5, 11, 11, 11, 1, 2, 8, 12, 10, 11, 12, 5, 3, 4, 6, 1, 12, 5, 3, 5, 12, 10, 1, 7, 2, 5, 5, 3, 3, 8, 12, 7, 4, 1, 7, 2, 4, 6, 8, 9, 3, 5, 3, 11, 5, 4, 5, 9, 6, 2, 1, 1, 5, 10, 11, 1, 4, 11, 2, 1, 2, 3, 4, 5, 4, 5, 8, 4, 6, 2, 1, 5, 8, 9, 1, 3, 6, 7, 8, 10, 11, 12, 2, 10, 10, 3, 8, 5, 2, 10, 6, 2, 8, 1, 11, 1, 1, 4, 12, 5, 4, 7, 7, 11, 5, 3, 5, 8, 9, 6, 12, 7, 9, 8, 10, 1, 5, 1, 10, 4, 1, 3, 11, 6, 8, 7, 10, 9, 6, 11, 1, 4, 12, 2, 10, 10, 9, 2, 10, 1, 7, 7, 3, 5, 9, 7, 1, 6, 1, 9, 4, 11, 6, 8, 6, 2, 8, 7, 3, 4, 2, 10, 11, 12, 1, 3, 3, 6, 11, 4, 4, 7, 4, 3, 12, 2, 2, 1, 2, 7, 8, 7, 7, 2, 8, 2, 3, 6, 1, 11, 6, 12, 8, 2, 1, 12, 3, 9, 7, 6, 3, 5, 6, 9, 3, 3, 11, 1, 6, 8, 10, 4, 5, 1, 1, 6, 5, 8, 12, 1, 3, 5, 1, 3, 9, 4, 3, 6, 7, 2, 10, 9, 1, 3, 8, 11, 5, 7, 10, 1, 12, 10, 2, 12, 8, 8, 9, 7, 11, 3, 10, 6, 2, 5, 2, 8, 9, 11, 7, 3, 10, 2, 8, 5, 9, 7, 11, 4, 1, 1, 12, 12, 9, 4, 6, 7, 11, 1, 4, 4, 8, 10, 12, 1, 6, 5, 9, 12, 9, 3, 1, 11, 4, 6, 8, 5, 8, 11, 4, 12, 9, 9, 10, 11, 9, 3, 2, 8, 6, 11, 10], \"Freq\": [0.8079873927093153, 0.9426172013813483, 0.8110125398717671, 0.792264286565879, 0.17605873034797312, 0.987764747652307, 0.9647193370582368, 0.8990392776813413, 0.9840963353821227, 0.9501567337768508, 0.9248469601793688, 0.8084902294214935, 0.9380694199313806, 0.9444106393599379, 0.9362935137424488, 0.2418138860415555, 0.7533432603602306, 0.9672125732231083, 0.9566826482452219, 0.8469118449929462, 0.8411624335302961, 0.9621507595712044, 0.9769737520034337, 0.9816820138446469, 0.9871602522994128, 0.8733525358280205, 0.9979724762617768, 0.9726974517504358, 0.9941694003102103, 0.7689592708143934, 0.824040084153325, 0.966997069290646, 0.6083537488329708, 0.37816584386914404, 0.9401553504181516, 0.7562439320626285, 0.9448204815362945, 0.8816483503715865, 0.9087055906328763, 0.911860427493565, 0.9252918683758238, 0.9653190511130995, 0.9574234557187835, 0.8939887377343707, 0.9343987048545741, 0.9836201460207298, 0.9415169744481015, 0.8804137083533523, 0.9690986795309358, 0.8995879120808823, 0.887390811403188, 0.9092090582829048, 0.9778437469093665, 0.9797328367716824, 0.9788082232020708, 0.923956740267516, 0.8969553553936901, 0.21630958420164703, 0.5948513565545294, 0.21630958420164703, 0.17076188365930015, 0.21629838596844683, 0.6033586555961938, 0.9301040929364954, 0.8624993050315664, 0.9129343834401625, 0.9196301417037812, 0.9443580333026029, 0.854471328313196, 0.8040634106869117, 0.9540658512032498, 0.9201450508686161, 0.9690875926286048, 0.9719953929755137, 0.8113732026239956, 0.17748788807399904, 0.935416610895002, 0.9081942524123622, 0.9707623563984932, 0.9914752039957897, 0.9629106252342262, 0.7687334513896035, 0.9330985023320812, 0.889302336339555, 0.9792169797415166, 0.9394468094200423, 0.8570137969693241, 0.9243548720572259, 0.9279985695282564, 0.9528240650598301, 0.9626664852982005, 0.9759324588940765, 0.9097174115884094, 0.9199401787325023, 0.9616441167366729, 0.9339291604120463, 0.9086219266930814, 0.8093023147335988, 0.9104260108048375, 0.9360970495097357, 0.9576527959422801, 0.9441468360762685, 0.8967801315039631, 0.9066080438059679, 0.9119453766943942, 0.3952298888315092, 0.5533218443641129, 0.8828901755285363, 0.9497172047076987, 0.9785494779626316, 0.2420862043161833, 0.7262586129485499, 0.9048447742089247, 0.9466402512077453, 0.7883343792083389, 0.9657368811357799, 0.09949847610029847, 0.49749238050149236, 0.3648277457010944, 0.9217801396892481, 0.9383967311408067, 0.9155678316291959, 0.9567931385112407, 0.9543730420064025, 0.9197360499360011, 0.9771237260627021, 0.23359403989260719, 0.7526919063206231, 0.7562439320626285, 0.9962433624603947, 0.952221055610368, 0.9337821354211611, 0.897553017071021, 0.9570029519375829, 0.9715897502507151, 0.9876709666526656, 0.9382442274169653, 0.9382725110613137, 0.4097559872805276, 0.5634144825107255, 0.1205130015699347, 0.7230780094196082, 0.7120082250890717, 0.8892395299609462, 0.8351388235880802, 0.14614929412791403, 0.9324518956975391, 0.9243360449968815, 0.8932741648454072, 0.990115203683969, 0.9826286202941071, 0.8940966760965348, 0.8346664996437435, 0.9203045138374377, 0.7187641728499656, 0.15879673586220172, 0.1170081211616223, 0.8133232578078929, 0.897026574458087, 0.8776608866448863, 0.899246946404716, 0.09991632737830178, 0.9905112066598215, 0.9607419301292391, 0.9895943440805155, 0.9386834600695726, 0.9599332267439927, 0.8767471420948916, 0.9891356996109848, 0.9728816202820167, 0.9452114309376858, 0.951421245299741, 0.2099059524133327, 0.7346708334466645, 0.9806574101268769, 0.9745474179402402, 0.7706828462391497, 0.15413656924782995, 0.8942175478817619, 0.8238903038923565, 0.941075180210702, 0.9877849382871831, 0.9855062473712215, 0.9909987441492578, 0.7551625445823374, 0.22375186506143332, 0.36004865809644465, 0.6240843407005041, 0.7741014337290806, 0.9464271549748334, 0.8759936794537624, 0.97491375798851, 0.9469867151533683, 0.9525031936896394, 0.9330233819398155, 0.9881406132159606, 0.9220408276530918, 0.982664612548156, 0.889283753966764, 0.9057648709639674, 0.9570893175187986, 0.9506244654887288, 0.6940105684556767, 0.2669271417137218, 0.8959538823468867, 0.9671706710966691, 0.8674496421792346, 0.9361322748418041, 0.9500543604805191, 0.8764122160355443, 0.18289419071683238, 0.8099599874602577, 0.9259426000480033, 0.9739450784668808, 0.9471081917123109, 0.9328695329173909, 0.8774108635323655, 0.8683862695677088, 0.9440755320095217, 0.9455452113566394, 0.8991101523214153, 0.9760619014728024, 0.8782505587430317, 0.9363631631275874, 0.9974725742213713, 0.9752256913784189, 0.813784604228543, 0.9406373228484358, 0.9827710959291694, 0.9158697877718871, 0.980661286444334, 0.9930929855644743, 0.015526223911892368, 0.15914379509689677, 0.21348557878852006, 0.5065430551254885, 0.10286123341628695, 0.9541108854112693, 0.9471207795573467, 0.22904537102639771, 0.7730281272140923, 0.8633352649042513, 0.22685388882516047, 0.6616571757400513, 0.11342694441258024, 0.8407774293693301, 0.9970862568044986, 0.9748042340589237, 0.12151514106462191, 0.6498418413455868, 0.14793147607867016, 0.07924900504214473, 0.21000588914959287, 0.0552647076709455, 0.7294941412564805, 0.9525330504093656, 0.11524225704809149, 0.12676648275290064, 0.12676648275290064, 0.13829070845770977, 0.49554170530679337, 0.8500649787865179, 0.9699969107615117, 0.9168913020659747, 0.8795528689382148, 0.0799593517216559, 0.9172829930955003, 0.9543764084902243, 0.5673503436242243, 0.3545939647651402, 0.9981901377141307, 0.12475552521862472, 0.11126844141120583, 0.08654212109760454, 0.12025983061615175, 0.07979857919389509, 0.15959715838779018, 0.056196182530912034, 0.2618742105940501, 0.928447757962878, 0.05626956108865927, 0.9813263865385526, 0.9241220728815653, 0.917449665060743, 0.9566624329154872, 0.9578764437016604, 0.9809484467232672, 0.9157182771392512, 0.9127186535644433, 0.8990738552441032, 0.941782505165987, 0.9349233280647963, 0.9895872103152924, 0.9342113746973836, 0.9734676020396189, 0.9891813992781536, 0.8277639502164553, 0.9494255141959775, 0.9904882112604425, 0.9461826664105051, 0.97178587878436, 0.9446964117492763, 0.5894275950581528, 0.14488723007016047, 0.11854409733013128, 0.14488723007016047, 0.8518586599706263, 0.8909769052485457, 0.9446056108745685, 0.9942963216718722, 0.9957546912539293, 0.9148144210113898, 0.6711783629870351, 0.3076234163690578, 0.9229580607277075, 0.9325704414559494, 0.9399648176333681, 0.9781227965522012, 0.9544482900322435, 0.9127703235548168, 0.608224621340613, 0.3041123106703065, 0.8606579785209334, 0.11475439713612445, 0.8213559508826647, 0.9020612474703517, 0.8676742745581594, 0.9774163262964498, 0.7345235191545267, 0.22035705574635803, 0.9726571121867437, 0.9052510148279982, 0.9547861265939729, 0.9347202164448511, 0.93442604119958, 0.9676838518069053, 0.13805408890217205, 0.8579075524634977, 0.9631535478726296, 0.943870186617912, 0.9719554876522125, 0.9565424608249509, 0.9128408838834572, 0.5384154268565713, 0.4270191316448669, 0.28254973822768426, 0.6861922214100903, 0.9274421991815284, 0.9581651283788963, 0.8987922558144128, 0.80351223125628, 0.9292920378732974, 0.9234842845413261, 0.9466672798341511, 0.9240261953086065, 0.8879695977208212, 0.08072450888371102, 0.2113193547892831, 0.1660366359058653, 0.6188638247400433, 0.9115837790028541, 0.36206603241874635, 0.5883573026804628, 0.995462027274513, 0.6970372065267135, 0.2745904146923417, 0.9415588368119193, 0.8945813102332223, 0.9661744300336783, 0.9746985005349496, 0.2909919763870817, 0.6651245174561867, 0.9985213520664591, 0.9454348299041843, 0.6424788816796921, 0.14826435731069817, 0.10743794008021608, 0.09884290487379879, 0.9519679137725676, 0.9791259366131358, 0.9680649406272203, 0.9043781096084148, 0.9694336413243848, 0.5293233179391179, 0.441102764949265, 0.08436887706438714, 0.9280576477082585, 0.8785735688103369, 0.9106867418547908, 0.8440133743626543, 0.9462613905311558, 0.8600852736657331, 0.12510331253319754, 0.9307914460628445, 0.9765091899970633, 0.9121427935336, 0.8614170416703645, 0.9436943317543444, 0.9643055116104781, 0.8976108528800313, 0.9896381085531027, 0.9025062630338012, 0.9616372533736378, 0.8353930077558245, 0.913336318574575, 0.8761196054667802, 0.9239200812307644, 0.9845533733596965, 0.04313756296406026, 0.9490263852093257, 0.9517480643729492, 0.89329869359267, 0.06617027359945704, 0.9176878873947839, 0.8467267964887435, 0.9411518584366665, 0.18739230939031523, 0.6246410313010508, 0.12492820626021016, 0.9669307580639153, 0.9579363440678095, 0.811013126282596, 0.8635239018169565, 0.18859621738207716, 0.8015339238738279, 0.9506043019131116, 0.9739737334649952, 0.9564411413554281, 0.7562439320626285, 0.3463142450562817, 0.5500285068540945, 0.1018571308989064, 0.9490173603769657, 0.9266741584582069, 0.6922322331276699, 0.276892893251068, 0.31464126255315966, 0.6642426653900038, 0.9060280778312013, 0.8601887069700587, 0.9895575132124693, 0.7815762448148361, 0.9494298403747248, 0.8213559508826647, 0.9879748276181374, 0.9968155463959022, 0.9704606195810841, 0.9611945355421849, 0.9270792740979602, 0.9639541178972619, 0.9845078872655978, 0.5010902649399905, 0.20452663875101657, 0.1533949790632624, 0.1431686471257116, 0.9808885412161821, 0.8825483374165809, 0.10183250047114395, 0.9501825700938143, 0.9204384409144354, 0.8242775560296446, 0.17353211705887253, 0.9025228022568443, 0.8404706245896101, 0.986643733633958, 0.928564883995385, 0.1452990509845124, 0.8302802913400709, 0.9680241379537338, 0.9135009633356341, 0.9805257161052973, 0.9754790591011848, 0.9471921133415016, 0.9498663516518985, 0.9296042534365707, 0.9554499173964858, 0.11110863197796529, 0.7222061078567744, 0.15555208476915142, 0.9551137890327426, 0.9513361474147234, 0.9597182656564007, 0.3129392924847455, 0.1656737430801594, 0.5154294229160514, 0.7935186022909674, 0.9228716136468647, 0.9291266561686008, 0.8010626195946089, 0.8840349197303946, 0.9571772019508162, 0.8809418502400139, 0.8834476515474233, 0.9365075136299403, 0.8602254577664443, 0.9175294485766476, 0.9534400299046295, 0.9097664682811444, 0.9105135778959718, 0.9478609313511136, 0.9449247602086812, 0.9302905301518204, 0.901927227415493, 0.9101933964982377, 0.9171805516546704, 0.9988940967353698, 0.9697595355562889, 0.9939433531563758], \"Term\": [\"ability\", \"able\", \"academy\", \"action\", \"action\", \"actually\", \"add\", \"ah\", \"ahead\", \"air\", \"amazing\", \"anybody\", \"appreciate\", \"area\", \"arm\", \"ashley\", \"ashley\", \"ashton\", \"ask\", \"asleep\", \"assume\", \"attack\", \"away\", \"bad\", \"ball\", \"bang\", \"be\", \"bed\", \"begin\", \"believe\", \"better\", \"big\", \"bit\", \"bit\", \"blast\", \"board\", \"bolt\", \"bonus\", \"book\", \"boy\", \"break\", \"bring\", \"brumestone\", \"burn\", \"burst\", \"cage\", \"call\", \"caltrop\", \"care\", \"cast\", \"catch\", \"certain\", \"chain\", \"check\", \"chetney\", \"city\", \"climb\", \"close\", \"close\", \"close\", \"come\", \"come\", \"come\", \"concentrate\", \"connect\", \"constitution\", \"conversation\", \"cool\", \"corner\", \"couple\", \"course\", \"cover\", \"crazy\", \"creature\", \"creeper\", \"creeper\", \"curious\", \"cut\", \"d\", \"damage\", \"damn\", \"dangerous\", \"dark\", \"darkness\", \"day\", \"daylight\", \"dc\", \"dead\", \"definitely\", \"design\", \"destroy\", \"dexterity\", \"dice\", \"die\", \"different\", \"disadvantage\", \"dive\", \"doom\", \"door\", \"downstairs\", \"draw\", \"drink\", \"earlier\", \"easy\", \"eldritch\", \"elevator\", \"elevator\", \"emerge\", \"emoth\", \"encounter\", \"end\", \"end\", \"evening\", \"exactly\", \"excited\", \"extra\", \"eye\", \"eye\", \"eye\", \"face\", \"fail\", \"faintly\", \"fall\", \"familiar\", \"far\", \"fcg\", \"fearne\", \"fearne\", \"feather\", \"feel\", \"feeling\", \"feral\", \"fey\", \"find\", \"fine\", \"finish\", \"fire\", \"fit\", \"flame\", \"flame\", \"flash\", \"flash\", \"fly\", \"focus\", \"foot\", \"foot\", \"free\", \"fresh\", \"friend\", \"fuck\", \"fucking\", \"fun\", \"game\", \"general\", \"get\", \"get\", \"get\", \"giggle\", \"give\", \"glass\", \"go\", \"go\", \"god\", \"gold\", \"good\", \"grab\", \"grass\", \"grave\", \"great\", \"green\", \"group\", \"guess\", \"guide\", \"guide\", \"gus\", \"guy\", \"half\", \"half\", \"hallway\", \"hammer\", \"hand\", \"happen\", \"hard\", \"have\", \"head\", \"head\", \"hear\", \"hear\", \"heavy\", \"hell\", \"hello\", \"help\", \"hey\", \"hi\", \"high\", \"hit\", \"hmm\", \"hold\", \"hole\", \"holy\", \"hope\", \"hour\", \"howl\", \"howl\", \"huh\", \"hurt\", \"husk\", \"ice\", \"idea\", \"identify\", \"ill\", \"ill\", \"immediately\", \"imogen\", \"impact\", \"inside\", \"investigation\", \"issue\", \"join\", \"keep\", \"kick\", \"kind\", \"king\", \"knock\", \"know\", \"lady\", \"lair\", \"later\", \"laudna\", \"laudnas\", \"laugh\", \"laughter\", \"laura\", \"laura\", \"laura\", \"laura\", \"laura\", \"leap\", \"learn\", \"leave\", \"leave\", \"lesson\", \"let\", \"let\", \"let\", \"lever\", \"liam\", \"light\", \"like\", \"like\", \"like\", \"like\", \"little\", \"little\", \"little\", \"long\", \"look\", \"look\", \"look\", \"look\", \"look\", \"lose\", \"lot\", \"love\", \"low\", \"low\", \"luck\", \"machine\", \"make\", \"make\", \"marisha\", \"matt\", \"matt\", \"matt\", \"matt\", \"matt\", \"matt\", \"matt\", \"matt\", \"maybe\", \"maybe\", \"mean\", \"metal\", \"meundie\", \"mind\", \"minute\", \"miss\", \"mister\", \"mmhmm\", \"mode\", \"moment\", \"morning\", \"mother\", \"move\", \"movement\", \"natural\", \"nature\", \"near\", \"need\", \"nice\", \"night\", \"nightmare\", \"not\", \"not\", \"not\", \"not\", \"number\", \"odd\", \"oddly\", \"oh\", \"okay\", \"old\", \"olly\", \"olly\", \"ollys\", \"one\", \"oneeyed\", \"ooh\", \"open\", \"orange\", \"orb\", \"orb\", \"orym\", \"orym\", \"p\", \"pain\", \"party\", \"past\", \"pay\", \"pay\", \"people\", \"perception\", \"pick\", \"pillow\", \"place\", \"plus\", \"point\", \"point\", \"poison\", \"pop\", \"pretty\", \"probably\", \"problem\", \"pull\", \"pull\", \"push\", \"push\", \"quorum\", \"rage\", \"reach\", \"read\", \"ready\", \"real\", \"redbubl\", \"remember\", \"rest\", \"rest\", \"right\", \"right\", \"right\", \"righty\", \"rock\", \"rock\", \"roll\", \"room\", \"room\", \"rope\", \"rough\", \"round\", \"run\", \"rush\", \"rush\", \"s\", \"safe\", \"sam\", \"sam\", \"sam\", \"sam\", \"save\", \"saving\", \"say\", \"scratch\", \"second\", \"see\", \"see\", \"seeker\", \"seeker\", \"send\", \"sense\", \"separate\", \"seven\", \"shade\", \"shade\", \"shift\", \"shit\", \"shoot\", \"short\", \"shoulder\", \"sit\", \"slash\", \"sleep\", \"slightly\", \"slowly\", \"smart\", \"smolder\", \"soon\", \"soot\", \"sorry\", \"sort\", \"sort\", \"sound\", \"space\", \"space\", \"spark\", \"speak\", \"spell\", \"sphere\", \"sphere\", \"sphere\", \"spire\", \"stand\", \"starlight\", \"starpoint\", \"start\", \"start\", \"stasis\", \"stay\", \"step\", \"stiff\", \"stone\", \"stone\", \"stone\", \"stop\", \"strange\", \"strength\", \"strength\", \"strike\", \"strike\", \"strong\", \"stuff\", \"sure\", \"surround\", \"swill\", \"t\", \"take\", \"taliesin\", \"talk\", \"tell\", \"terrible\", \"thank\", \"thing\", \"think\", \"think\", \"think\", \"think\", \"throw\", \"time\", \"time\", \"total\", \"touch\", \"travis\", \"travis\", \"true\", \"trust\", \"try\", \"tunnel\", \"turn\", \"turn\", \"twist\", \"uhoh\", \"use\", \"wait\", \"wake\", \"walk\", \"wall\", \"wander\", \"want\", \"want\", \"want\", \"warm\", \"watch\", \"water\", \"way\", \"way\", \"way\", \"week\", \"weird\", \"well\", \"whack\", \"wild\", \"will\", \"wish\", \"witch\", \"wolf\", \"wonder\", \"word\", \"work\", \"worry\", \"worth\", \"would\", \"wound\", \"wow\", \"wrap\", \"wrong\", \"yay\", \"yeah\", \"yep\", \"yes\"]}, \"R\": 30, \"lambda.step\": 0.01, \"plot.opts\": {\"xlab\": \"PC1\", \"ylab\": \"PC2\"}, \"topic.order\": [10, 11, 9, 6, 12, 8, 1, 5, 3, 2, 4, 7]};\n",
              "\n",
              "function LDAvis_load_lib(url, callback){\n",
              "  var s = document.createElement('script');\n",
              "  s.src = url;\n",
              "  s.async = true;\n",
              "  s.onreadystatechange = s.onload = callback;\n",
              "  s.onerror = function(){console.warn(\"failed to load library \" + url);};\n",
              "  document.getElementsByTagName(\"head\")[0].appendChild(s);\n",
              "}\n",
              "\n",
              "if(typeof(LDAvis) !== \"undefined\"){\n",
              "   // already loaded: just create the visualization\n",
              "   !function(LDAvis){\n",
              "       new LDAvis(\"#\" + \"ldavis_el3341397061174839845112747213\", ldavis_el3341397061174839845112747213_data);\n",
              "   }(LDAvis);\n",
              "}else if(typeof define === \"function\" && define.amd){\n",
              "   // require.js is available: use it to load d3/LDAvis\n",
              "   require.config({paths: {d3: \"https://d3js.org/d3.v5\"}});\n",
              "   require([\"d3\"], function(d3){\n",
              "      window.d3 = d3;\n",
              "      LDAvis_load_lib(\"https://cdn.jsdelivr.net/gh/bmabey/pyLDAvis@3.3.1/pyLDAvis/js/ldavis.v3.0.0.js\", function(){\n",
              "        new LDAvis(\"#\" + \"ldavis_el3341397061174839845112747213\", ldavis_el3341397061174839845112747213_data);\n",
              "      });\n",
              "    });\n",
              "}else{\n",
              "    // require.js not available: dynamically load d3 & LDAvis\n",
              "    LDAvis_load_lib(\"https://d3js.org/d3.v5.js\", function(){\n",
              "         LDAvis_load_lib(\"https://cdn.jsdelivr.net/gh/bmabey/pyLDAvis@3.3.1/pyLDAvis/js/ldavis.v3.0.0.js\", function(){\n",
              "                 new LDAvis(\"#\" + \"ldavis_el3341397061174839845112747213\", ldavis_el3341397061174839845112747213_data);\n",
              "            })\n",
              "         });\n",
              "}\n",
              "</script>"
            ]
          },
          "metadata": {},
          "execution_count": 59
        }
      ]
    },
    {
      "cell_type": "markdown",
      "source": [
        "### Name Topics"
      ],
      "metadata": {
        "id": "ZiV3By_nPp5E"
      }
    },
    {
      "cell_type": "code",
      "source": [
        ""
      ],
      "metadata": {
        "id": "CoCweoAbPvah"
      },
      "execution_count": 45,
      "outputs": []
    }
  ]
}