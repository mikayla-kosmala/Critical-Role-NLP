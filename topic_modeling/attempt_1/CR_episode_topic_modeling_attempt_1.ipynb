{
  "nbformat": 4,
  "nbformat_minor": 0,
  "metadata": {
    "colab": {
      "name": "CR_episode_topic_modeling_attempt_1",
      "provenance": [],
      "machine_shape": "hm"
    },
    "kernelspec": {
      "name": "python3",
      "display_name": "Python 3"
    },
    "language_info": {
      "name": "python"
    },
    "accelerator": "GPU",
    "widgets": {
      "application/vnd.jupyter.widget-state+json": {
        "f62a8a21153e428d90ffbcd6ee196591": {
          "model_module": "@jupyter-widgets/controls",
          "model_name": "VBoxModel",
          "model_module_version": "1.5.0",
          "state": {
            "_dom_classes": [],
            "_model_module": "@jupyter-widgets/controls",
            "_model_module_version": "1.5.0",
            "_model_name": "VBoxModel",
            "_view_count": null,
            "_view_module": "@jupyter-widgets/controls",
            "_view_module_version": "1.5.0",
            "_view_name": "VBoxView",
            "box_style": "",
            "children": [
              "IPY_MODEL_bd0f7011893741d881c5f6a9272b7b4b",
              "IPY_MODEL_13badea1345c4840a386dfa001789c30",
              "IPY_MODEL_a11b819928dc4407be2364f31277a350"
            ],
            "layout": "IPY_MODEL_5a4cd7aedb8c4169b6548b67db6f9b51"
          }
        },
        "bd0f7011893741d881c5f6a9272b7b4b": {
          "model_module": "@jupyter-widgets/controls",
          "model_name": "HBoxModel",
          "model_module_version": "1.5.0",
          "state": {
            "_dom_classes": [],
            "_model_module": "@jupyter-widgets/controls",
            "_model_module_version": "1.5.0",
            "_model_name": "HBoxModel",
            "_view_count": null,
            "_view_module": "@jupyter-widgets/controls",
            "_view_module_version": "1.5.0",
            "_view_name": "HBoxView",
            "box_style": "",
            "children": [
              "IPY_MODEL_ec95ee7e5efa4a15997356dd5fad90b5",
              "IPY_MODEL_8ea9f662666d44e9bd0bf75d6228dc89"
            ],
            "layout": "IPY_MODEL_8f45b0a311984b74a12c3eb877f5b5dd"
          }
        },
        "13badea1345c4840a386dfa001789c30": {
          "model_module": "@jupyter-widgets/controls",
          "model_name": "HBoxModel",
          "model_module_version": "1.5.0",
          "state": {
            "_dom_classes": [],
            "_model_module": "@jupyter-widgets/controls",
            "_model_module_version": "1.5.0",
            "_model_name": "HBoxModel",
            "_view_count": null,
            "_view_module": "@jupyter-widgets/controls",
            "_view_module_version": "1.5.0",
            "_view_name": "HBoxView",
            "box_style": "",
            "children": [
              "IPY_MODEL_9ccf387f0fa44a9aa2ad8e00fccbe592",
              "IPY_MODEL_2688907f51e9424bbc009c2e8d239239"
            ],
            "layout": "IPY_MODEL_c35ac688551b4d0fa33df2bca2315d32"
          }
        },
        "a11b819928dc4407be2364f31277a350": {
          "model_module": "@jupyter-widgets/controls",
          "model_name": "HBoxModel",
          "model_module_version": "1.5.0",
          "state": {
            "_dom_classes": [],
            "_model_module": "@jupyter-widgets/controls",
            "_model_module_version": "1.5.0",
            "_model_name": "HBoxModel",
            "_view_count": null,
            "_view_module": "@jupyter-widgets/controls",
            "_view_module_version": "1.5.0",
            "_view_name": "HBoxView",
            "box_style": "",
            "children": [
              "IPY_MODEL_3ac636e121cd4d6d9d6eaec838ea638c",
              "IPY_MODEL_c4610dd6c5e84673b2f933f34cc1e0c8"
            ],
            "layout": "IPY_MODEL_5c8f145323524625bc9abe4eeeeb8c16"
          }
        },
        "5a4cd7aedb8c4169b6548b67db6f9b51": {
          "model_module": "@jupyter-widgets/base",
          "model_name": "LayoutModel",
          "model_module_version": "1.2.0",
          "state": {
            "_model_module": "@jupyter-widgets/base",
            "_model_module_version": "1.2.0",
            "_model_name": "LayoutModel",
            "_view_count": null,
            "_view_module": "@jupyter-widgets/base",
            "_view_module_version": "1.2.0",
            "_view_name": "LayoutView",
            "align_content": null,
            "align_items": null,
            "align_self": null,
            "border": null,
            "bottom": null,
            "display": null,
            "flex": null,
            "flex_flow": null,
            "grid_area": null,
            "grid_auto_columns": null,
            "grid_auto_flow": null,
            "grid_auto_rows": null,
            "grid_column": null,
            "grid_gap": null,
            "grid_row": null,
            "grid_template_areas": null,
            "grid_template_columns": null,
            "grid_template_rows": null,
            "height": null,
            "justify_content": null,
            "justify_items": null,
            "left": null,
            "margin": null,
            "max_height": null,
            "max_width": null,
            "min_height": null,
            "min_width": null,
            "object_fit": null,
            "object_position": null,
            "order": null,
            "overflow": null,
            "overflow_x": null,
            "overflow_y": null,
            "padding": null,
            "right": null,
            "top": null,
            "visibility": null,
            "width": null
          }
        },
        "ec95ee7e5efa4a15997356dd5fad90b5": {
          "model_module": "@jupyter-widgets/controls",
          "model_name": "IntProgressModel",
          "model_module_version": "1.5.0",
          "state": {
            "_dom_classes": [],
            "_model_module": "@jupyter-widgets/controls",
            "_model_module_version": "1.5.0",
            "_model_name": "IntProgressModel",
            "_view_count": null,
            "_view_module": "@jupyter-widgets/controls",
            "_view_module_version": "1.5.0",
            "_view_name": "ProgressView",
            "bar_style": "success",
            "description": "100.00%",
            "description_tooltip": null,
            "layout": "IPY_MODEL_8648a0e051914aeda912ec1f626ec6ce",
            "max": 1338,
            "min": 0,
            "orientation": "horizontal",
            "style": "IPY_MODEL_6b6962e471ac44e4af27394e4f7572ee",
            "value": 1338
          }
        },
        "8ea9f662666d44e9bd0bf75d6228dc89": {
          "model_module": "@jupyter-widgets/controls",
          "model_name": "LabelModel",
          "model_module_version": "1.5.0",
          "state": {
            "_dom_classes": [],
            "_model_module": "@jupyter-widgets/controls",
            "_model_module_version": "1.5.0",
            "_model_name": "LabelModel",
            "_view_count": null,
            "_view_module": "@jupyter-widgets/controls",
            "_view_module_version": "1.5.0",
            "_view_name": "LabelView",
            "description": "",
            "description_tooltip": null,
            "layout": "IPY_MODEL_26c9c893ae714048923b54d40ca03323",
            "placeholder": "​",
            "style": "IPY_MODEL_112b94416ea04110beb8405541155542",
            "value": "1338 / 1338"
          }
        },
        "8f45b0a311984b74a12c3eb877f5b5dd": {
          "model_module": "@jupyter-widgets/base",
          "model_name": "LayoutModel",
          "model_module_version": "1.2.0",
          "state": {
            "_model_module": "@jupyter-widgets/base",
            "_model_module_version": "1.2.0",
            "_model_name": "LayoutModel",
            "_view_count": null,
            "_view_module": "@jupyter-widgets/base",
            "_view_module_version": "1.2.0",
            "_view_name": "LayoutView",
            "align_content": null,
            "align_items": null,
            "align_self": null,
            "border": null,
            "bottom": null,
            "display": null,
            "flex": null,
            "flex_flow": null,
            "grid_area": null,
            "grid_auto_columns": null,
            "grid_auto_flow": null,
            "grid_auto_rows": null,
            "grid_column": null,
            "grid_gap": null,
            "grid_row": null,
            "grid_template_areas": null,
            "grid_template_columns": null,
            "grid_template_rows": null,
            "height": null,
            "justify_content": null,
            "justify_items": null,
            "left": null,
            "margin": null,
            "max_height": null,
            "max_width": null,
            "min_height": null,
            "min_width": null,
            "object_fit": null,
            "object_position": null,
            "order": null,
            "overflow": null,
            "overflow_x": null,
            "overflow_y": null,
            "padding": null,
            "right": null,
            "top": null,
            "visibility": null,
            "width": null
          }
        },
        "9ccf387f0fa44a9aa2ad8e00fccbe592": {
          "model_module": "@jupyter-widgets/controls",
          "model_name": "IntProgressModel",
          "model_module_version": "1.5.0",
          "state": {
            "_dom_classes": [],
            "_model_module": "@jupyter-widgets/controls",
            "_model_module_version": "1.5.0",
            "_model_name": "IntProgressModel",
            "_view_count": null,
            "_view_module": "@jupyter-widgets/controls",
            "_view_module_version": "1.5.0",
            "_view_name": "ProgressView",
            "bar_style": "success",
            "description": "100.00%",
            "description_tooltip": null,
            "layout": "IPY_MODEL_20b41dd86e3f4dc9af0dc1e7dda220d1",
            "max": 1337,
            "min": 0,
            "orientation": "horizontal",
            "style": "IPY_MODEL_a109436d18bd4d7ab56c3f6aa0e763ce",
            "value": 1337
          }
        },
        "2688907f51e9424bbc009c2e8d239239": {
          "model_module": "@jupyter-widgets/controls",
          "model_name": "LabelModel",
          "model_module_version": "1.5.0",
          "state": {
            "_dom_classes": [],
            "_model_module": "@jupyter-widgets/controls",
            "_model_module_version": "1.5.0",
            "_model_name": "LabelModel",
            "_view_count": null,
            "_view_module": "@jupyter-widgets/controls",
            "_view_module_version": "1.5.0",
            "_view_name": "LabelView",
            "description": "",
            "description_tooltip": null,
            "layout": "IPY_MODEL_92dfd7108b834a1bb35617c08149d369",
            "placeholder": "​",
            "style": "IPY_MODEL_4be57f7fb2f546479fb3ada13a552e11",
            "value": "1337 / 1337"
          }
        },
        "c35ac688551b4d0fa33df2bca2315d32": {
          "model_module": "@jupyter-widgets/base",
          "model_name": "LayoutModel",
          "model_module_version": "1.2.0",
          "state": {
            "_model_module": "@jupyter-widgets/base",
            "_model_module_version": "1.2.0",
            "_model_name": "LayoutModel",
            "_view_count": null,
            "_view_module": "@jupyter-widgets/base",
            "_view_module_version": "1.2.0",
            "_view_name": "LayoutView",
            "align_content": null,
            "align_items": null,
            "align_self": null,
            "border": null,
            "bottom": null,
            "display": null,
            "flex": null,
            "flex_flow": null,
            "grid_area": null,
            "grid_auto_columns": null,
            "grid_auto_flow": null,
            "grid_auto_rows": null,
            "grid_column": null,
            "grid_gap": null,
            "grid_row": null,
            "grid_template_areas": null,
            "grid_template_columns": null,
            "grid_template_rows": null,
            "height": null,
            "justify_content": null,
            "justify_items": null,
            "left": null,
            "margin": null,
            "max_height": null,
            "max_width": null,
            "min_height": null,
            "min_width": null,
            "object_fit": null,
            "object_position": null,
            "order": null,
            "overflow": null,
            "overflow_x": null,
            "overflow_y": null,
            "padding": null,
            "right": null,
            "top": null,
            "visibility": null,
            "width": null
          }
        },
        "3ac636e121cd4d6d9d6eaec838ea638c": {
          "model_module": "@jupyter-widgets/controls",
          "model_name": "IntProgressModel",
          "model_module_version": "1.5.0",
          "state": {
            "_dom_classes": [],
            "_model_module": "@jupyter-widgets/controls",
            "_model_module_version": "1.5.0",
            "_model_name": "IntProgressModel",
            "_view_count": null,
            "_view_module": "@jupyter-widgets/controls",
            "_view_module_version": "1.5.0",
            "_view_name": "ProgressView",
            "bar_style": "success",
            "description": "100.00%",
            "description_tooltip": null,
            "layout": "IPY_MODEL_242755fae9ae422c85ad4be4c9a181fc",
            "max": 1337,
            "min": 0,
            "orientation": "horizontal",
            "style": "IPY_MODEL_23f02d35521f4c96a4eb82c9c25174a8",
            "value": 1337
          }
        },
        "c4610dd6c5e84673b2f933f34cc1e0c8": {
          "model_module": "@jupyter-widgets/controls",
          "model_name": "LabelModel",
          "model_module_version": "1.5.0",
          "state": {
            "_dom_classes": [],
            "_model_module": "@jupyter-widgets/controls",
            "_model_module_version": "1.5.0",
            "_model_name": "LabelModel",
            "_view_count": null,
            "_view_module": "@jupyter-widgets/controls",
            "_view_module_version": "1.5.0",
            "_view_name": "LabelView",
            "description": "",
            "description_tooltip": null,
            "layout": "IPY_MODEL_a290ba49c71a4762818dfb4c66ba16d2",
            "placeholder": "​",
            "style": "IPY_MODEL_02c2abb8575547caa693978ccfb65091",
            "value": "1337 / 1337"
          }
        },
        "5c8f145323524625bc9abe4eeeeb8c16": {
          "model_module": "@jupyter-widgets/base",
          "model_name": "LayoutModel",
          "model_module_version": "1.2.0",
          "state": {
            "_model_module": "@jupyter-widgets/base",
            "_model_module_version": "1.2.0",
            "_model_name": "LayoutModel",
            "_view_count": null,
            "_view_module": "@jupyter-widgets/base",
            "_view_module_version": "1.2.0",
            "_view_name": "LayoutView",
            "align_content": null,
            "align_items": null,
            "align_self": null,
            "border": null,
            "bottom": null,
            "display": null,
            "flex": null,
            "flex_flow": null,
            "grid_area": null,
            "grid_auto_columns": null,
            "grid_auto_flow": null,
            "grid_auto_rows": null,
            "grid_column": null,
            "grid_gap": null,
            "grid_row": null,
            "grid_template_areas": null,
            "grid_template_columns": null,
            "grid_template_rows": null,
            "height": null,
            "justify_content": null,
            "justify_items": null,
            "left": null,
            "margin": null,
            "max_height": null,
            "max_width": null,
            "min_height": null,
            "min_width": null,
            "object_fit": null,
            "object_position": null,
            "order": null,
            "overflow": null,
            "overflow_x": null,
            "overflow_y": null,
            "padding": null,
            "right": null,
            "top": null,
            "visibility": null,
            "width": null
          }
        },
        "8648a0e051914aeda912ec1f626ec6ce": {
          "model_module": "@jupyter-widgets/base",
          "model_name": "LayoutModel",
          "model_module_version": "1.2.0",
          "state": {
            "_model_module": "@jupyter-widgets/base",
            "_model_module_version": "1.2.0",
            "_model_name": "LayoutModel",
            "_view_count": null,
            "_view_module": "@jupyter-widgets/base",
            "_view_module_version": "1.2.0",
            "_view_name": "LayoutView",
            "align_content": null,
            "align_items": null,
            "align_self": null,
            "border": null,
            "bottom": null,
            "display": null,
            "flex": null,
            "flex_flow": null,
            "grid_area": null,
            "grid_auto_columns": null,
            "grid_auto_flow": null,
            "grid_auto_rows": null,
            "grid_column": null,
            "grid_gap": null,
            "grid_row": null,
            "grid_template_areas": null,
            "grid_template_columns": null,
            "grid_template_rows": null,
            "height": null,
            "justify_content": null,
            "justify_items": null,
            "left": null,
            "margin": null,
            "max_height": null,
            "max_width": null,
            "min_height": null,
            "min_width": null,
            "object_fit": null,
            "object_position": null,
            "order": null,
            "overflow": null,
            "overflow_x": null,
            "overflow_y": null,
            "padding": null,
            "right": null,
            "top": null,
            "visibility": null,
            "width": null
          }
        },
        "6b6962e471ac44e4af27394e4f7572ee": {
          "model_module": "@jupyter-widgets/controls",
          "model_name": "ProgressStyleModel",
          "model_module_version": "1.5.0",
          "state": {
            "_model_module": "@jupyter-widgets/controls",
            "_model_module_version": "1.5.0",
            "_model_name": "ProgressStyleModel",
            "_view_count": null,
            "_view_module": "@jupyter-widgets/base",
            "_view_module_version": "1.2.0",
            "_view_name": "StyleView",
            "bar_color": null,
            "description_width": ""
          }
        },
        "26c9c893ae714048923b54d40ca03323": {
          "model_module": "@jupyter-widgets/base",
          "model_name": "LayoutModel",
          "model_module_version": "1.2.0",
          "state": {
            "_model_module": "@jupyter-widgets/base",
            "_model_module_version": "1.2.0",
            "_model_name": "LayoutModel",
            "_view_count": null,
            "_view_module": "@jupyter-widgets/base",
            "_view_module_version": "1.2.0",
            "_view_name": "LayoutView",
            "align_content": null,
            "align_items": null,
            "align_self": null,
            "border": null,
            "bottom": null,
            "display": null,
            "flex": null,
            "flex_flow": null,
            "grid_area": null,
            "grid_auto_columns": null,
            "grid_auto_flow": null,
            "grid_auto_rows": null,
            "grid_column": null,
            "grid_gap": null,
            "grid_row": null,
            "grid_template_areas": null,
            "grid_template_columns": null,
            "grid_template_rows": null,
            "height": null,
            "justify_content": null,
            "justify_items": null,
            "left": null,
            "margin": null,
            "max_height": null,
            "max_width": null,
            "min_height": null,
            "min_width": null,
            "object_fit": null,
            "object_position": null,
            "order": null,
            "overflow": null,
            "overflow_x": null,
            "overflow_y": null,
            "padding": null,
            "right": null,
            "top": null,
            "visibility": null,
            "width": null
          }
        },
        "112b94416ea04110beb8405541155542": {
          "model_module": "@jupyter-widgets/controls",
          "model_name": "DescriptionStyleModel",
          "model_module_version": "1.5.0",
          "state": {
            "_model_module": "@jupyter-widgets/controls",
            "_model_module_version": "1.5.0",
            "_model_name": "DescriptionStyleModel",
            "_view_count": null,
            "_view_module": "@jupyter-widgets/base",
            "_view_module_version": "1.2.0",
            "_view_name": "StyleView",
            "description_width": ""
          }
        },
        "20b41dd86e3f4dc9af0dc1e7dda220d1": {
          "model_module": "@jupyter-widgets/base",
          "model_name": "LayoutModel",
          "model_module_version": "1.2.0",
          "state": {
            "_model_module": "@jupyter-widgets/base",
            "_model_module_version": "1.2.0",
            "_model_name": "LayoutModel",
            "_view_count": null,
            "_view_module": "@jupyter-widgets/base",
            "_view_module_version": "1.2.0",
            "_view_name": "LayoutView",
            "align_content": null,
            "align_items": null,
            "align_self": null,
            "border": null,
            "bottom": null,
            "display": null,
            "flex": null,
            "flex_flow": null,
            "grid_area": null,
            "grid_auto_columns": null,
            "grid_auto_flow": null,
            "grid_auto_rows": null,
            "grid_column": null,
            "grid_gap": null,
            "grid_row": null,
            "grid_template_areas": null,
            "grid_template_columns": null,
            "grid_template_rows": null,
            "height": null,
            "justify_content": null,
            "justify_items": null,
            "left": null,
            "margin": null,
            "max_height": null,
            "max_width": null,
            "min_height": null,
            "min_width": null,
            "object_fit": null,
            "object_position": null,
            "order": null,
            "overflow": null,
            "overflow_x": null,
            "overflow_y": null,
            "padding": null,
            "right": null,
            "top": null,
            "visibility": null,
            "width": null
          }
        },
        "a109436d18bd4d7ab56c3f6aa0e763ce": {
          "model_module": "@jupyter-widgets/controls",
          "model_name": "ProgressStyleModel",
          "model_module_version": "1.5.0",
          "state": {
            "_model_module": "@jupyter-widgets/controls",
            "_model_module_version": "1.5.0",
            "_model_name": "ProgressStyleModel",
            "_view_count": null,
            "_view_module": "@jupyter-widgets/base",
            "_view_module_version": "1.2.0",
            "_view_name": "StyleView",
            "bar_color": null,
            "description_width": ""
          }
        },
        "92dfd7108b834a1bb35617c08149d369": {
          "model_module": "@jupyter-widgets/base",
          "model_name": "LayoutModel",
          "model_module_version": "1.2.0",
          "state": {
            "_model_module": "@jupyter-widgets/base",
            "_model_module_version": "1.2.0",
            "_model_name": "LayoutModel",
            "_view_count": null,
            "_view_module": "@jupyter-widgets/base",
            "_view_module_version": "1.2.0",
            "_view_name": "LayoutView",
            "align_content": null,
            "align_items": null,
            "align_self": null,
            "border": null,
            "bottom": null,
            "display": null,
            "flex": null,
            "flex_flow": null,
            "grid_area": null,
            "grid_auto_columns": null,
            "grid_auto_flow": null,
            "grid_auto_rows": null,
            "grid_column": null,
            "grid_gap": null,
            "grid_row": null,
            "grid_template_areas": null,
            "grid_template_columns": null,
            "grid_template_rows": null,
            "height": null,
            "justify_content": null,
            "justify_items": null,
            "left": null,
            "margin": null,
            "max_height": null,
            "max_width": null,
            "min_height": null,
            "min_width": null,
            "object_fit": null,
            "object_position": null,
            "order": null,
            "overflow": null,
            "overflow_x": null,
            "overflow_y": null,
            "padding": null,
            "right": null,
            "top": null,
            "visibility": null,
            "width": null
          }
        },
        "4be57f7fb2f546479fb3ada13a552e11": {
          "model_module": "@jupyter-widgets/controls",
          "model_name": "DescriptionStyleModel",
          "model_module_version": "1.5.0",
          "state": {
            "_model_module": "@jupyter-widgets/controls",
            "_model_module_version": "1.5.0",
            "_model_name": "DescriptionStyleModel",
            "_view_count": null,
            "_view_module": "@jupyter-widgets/base",
            "_view_module_version": "1.2.0",
            "_view_name": "StyleView",
            "description_width": ""
          }
        },
        "242755fae9ae422c85ad4be4c9a181fc": {
          "model_module": "@jupyter-widgets/base",
          "model_name": "LayoutModel",
          "model_module_version": "1.2.0",
          "state": {
            "_model_module": "@jupyter-widgets/base",
            "_model_module_version": "1.2.0",
            "_model_name": "LayoutModel",
            "_view_count": null,
            "_view_module": "@jupyter-widgets/base",
            "_view_module_version": "1.2.0",
            "_view_name": "LayoutView",
            "align_content": null,
            "align_items": null,
            "align_self": null,
            "border": null,
            "bottom": null,
            "display": null,
            "flex": null,
            "flex_flow": null,
            "grid_area": null,
            "grid_auto_columns": null,
            "grid_auto_flow": null,
            "grid_auto_rows": null,
            "grid_column": null,
            "grid_gap": null,
            "grid_row": null,
            "grid_template_areas": null,
            "grid_template_columns": null,
            "grid_template_rows": null,
            "height": null,
            "justify_content": null,
            "justify_items": null,
            "left": null,
            "margin": null,
            "max_height": null,
            "max_width": null,
            "min_height": null,
            "min_width": null,
            "object_fit": null,
            "object_position": null,
            "order": null,
            "overflow": null,
            "overflow_x": null,
            "overflow_y": null,
            "padding": null,
            "right": null,
            "top": null,
            "visibility": null,
            "width": null
          }
        },
        "23f02d35521f4c96a4eb82c9c25174a8": {
          "model_module": "@jupyter-widgets/controls",
          "model_name": "ProgressStyleModel",
          "model_module_version": "1.5.0",
          "state": {
            "_model_module": "@jupyter-widgets/controls",
            "_model_module_version": "1.5.0",
            "_model_name": "ProgressStyleModel",
            "_view_count": null,
            "_view_module": "@jupyter-widgets/base",
            "_view_module_version": "1.2.0",
            "_view_name": "StyleView",
            "bar_color": null,
            "description_width": ""
          }
        },
        "a290ba49c71a4762818dfb4c66ba16d2": {
          "model_module": "@jupyter-widgets/base",
          "model_name": "LayoutModel",
          "model_module_version": "1.2.0",
          "state": {
            "_model_module": "@jupyter-widgets/base",
            "_model_module_version": "1.2.0",
            "_model_name": "LayoutModel",
            "_view_count": null,
            "_view_module": "@jupyter-widgets/base",
            "_view_module_version": "1.2.0",
            "_view_name": "LayoutView",
            "align_content": null,
            "align_items": null,
            "align_self": null,
            "border": null,
            "bottom": null,
            "display": null,
            "flex": null,
            "flex_flow": null,
            "grid_area": null,
            "grid_auto_columns": null,
            "grid_auto_flow": null,
            "grid_auto_rows": null,
            "grid_column": null,
            "grid_gap": null,
            "grid_row": null,
            "grid_template_areas": null,
            "grid_template_columns": null,
            "grid_template_rows": null,
            "height": null,
            "justify_content": null,
            "justify_items": null,
            "left": null,
            "margin": null,
            "max_height": null,
            "max_width": null,
            "min_height": null,
            "min_width": null,
            "object_fit": null,
            "object_position": null,
            "order": null,
            "overflow": null,
            "overflow_x": null,
            "overflow_y": null,
            "padding": null,
            "right": null,
            "top": null,
            "visibility": null,
            "width": null
          }
        },
        "02c2abb8575547caa693978ccfb65091": {
          "model_module": "@jupyter-widgets/controls",
          "model_name": "DescriptionStyleModel",
          "model_module_version": "1.5.0",
          "state": {
            "_model_module": "@jupyter-widgets/controls",
            "_model_module_version": "1.5.0",
            "_model_name": "DescriptionStyleModel",
            "_view_count": null,
            "_view_module": "@jupyter-widgets/base",
            "_view_module_version": "1.2.0",
            "_view_name": "StyleView",
            "description_width": ""
          }
        }
      }
    }
  },
  "cells": [
    {
      "cell_type": "markdown",
      "source": [
        "# Critical Topic Modeling\n",
        "\n",
        "The episodes are about four to four and a half hours long. That is a lot of time to spend watching something, so I wanted to know how well an LDA model can describe what happened and if it can tell me the order of which the topics happen. I am coming for you Flando Maltrizian!"
      ],
      "metadata": {
        "id": "Rcy6eDCfN6iG"
      }
    },
    {
      "cell_type": "markdown",
      "source": [
        "## Import Libraries"
      ],
      "metadata": {
        "id": "sFiVxnKcN-rV"
      }
    },
    {
      "cell_type": "code",
      "execution_count": 34,
      "metadata": {
        "colab": {
          "base_uri": "https://localhost:8080/"
        },
        "id": "EUvbI0XCNr4B",
        "outputId": "c9464374-833e-4347-d587-830667403b13"
      },
      "outputs": [
        {
          "output_type": "stream",
          "name": "stdout",
          "text": [
            "Requirement already satisfied: pyLDAvis==3.3.1 in /usr/local/lib/python3.7/dist-packages (3.3.1)\n",
            "Requirement already satisfied: pandas>=1.2.0 in /usr/local/lib/python3.7/dist-packages (from pyLDAvis==3.3.1) (1.3.5)\n",
            "Requirement already satisfied: future in /usr/local/lib/python3.7/dist-packages (from pyLDAvis==3.3.1) (0.16.0)\n",
            "Requirement already satisfied: scipy in /usr/local/lib/python3.7/dist-packages (from pyLDAvis==3.3.1) (1.4.1)\n",
            "Requirement already satisfied: numexpr in /usr/local/lib/python3.7/dist-packages (from pyLDAvis==3.3.1) (2.8.1)\n",
            "Requirement already satisfied: joblib in /usr/local/lib/python3.7/dist-packages (from pyLDAvis==3.3.1) (1.1.0)\n",
            "Requirement already satisfied: jinja2 in /usr/local/lib/python3.7/dist-packages (from pyLDAvis==3.3.1) (2.11.3)\n",
            "Requirement already satisfied: numpy>=1.20.0 in /usr/local/lib/python3.7/dist-packages (from pyLDAvis==3.3.1) (1.21.5)\n",
            "Requirement already satisfied: sklearn in /usr/local/lib/python3.7/dist-packages (from pyLDAvis==3.3.1) (0.0)\n",
            "Requirement already satisfied: setuptools in /usr/local/lib/python3.7/dist-packages (from pyLDAvis==3.3.1) (57.4.0)\n",
            "Requirement already satisfied: funcy in /usr/local/lib/python3.7/dist-packages (from pyLDAvis==3.3.1) (1.17)\n",
            "Requirement already satisfied: gensim in /usr/local/lib/python3.7/dist-packages (from pyLDAvis==3.3.1) (3.6.0)\n",
            "Requirement already satisfied: scikit-learn in /usr/local/lib/python3.7/dist-packages (from pyLDAvis==3.3.1) (1.0.2)\n",
            "Requirement already satisfied: python-dateutil>=2.7.3 in /usr/local/lib/python3.7/dist-packages (from pandas>=1.2.0->pyLDAvis==3.3.1) (2.8.2)\n",
            "Requirement already satisfied: pytz>=2017.3 in /usr/local/lib/python3.7/dist-packages (from pandas>=1.2.0->pyLDAvis==3.3.1) (2018.9)\n",
            "Requirement already satisfied: six>=1.5 in /usr/local/lib/python3.7/dist-packages (from python-dateutil>=2.7.3->pandas>=1.2.0->pyLDAvis==3.3.1) (1.15.0)\n",
            "Requirement already satisfied: smart-open>=1.2.1 in /usr/local/lib/python3.7/dist-packages (from gensim->pyLDAvis==3.3.1) (5.2.1)\n",
            "Requirement already satisfied: MarkupSafe>=0.23 in /usr/local/lib/python3.7/dist-packages (from jinja2->pyLDAvis==3.3.1) (2.0.1)\n",
            "Requirement already satisfied: packaging in /usr/local/lib/python3.7/dist-packages (from numexpr->pyLDAvis==3.3.1) (21.3)\n",
            "Requirement already satisfied: pyparsing!=3.0.5,>=2.0.2 in /usr/local/lib/python3.7/dist-packages (from packaging->numexpr->pyLDAvis==3.3.1) (3.0.7)\n",
            "Requirement already satisfied: threadpoolctl>=2.0.0 in /usr/local/lib/python3.7/dist-packages (from scikit-learn->pyLDAvis==3.3.1) (3.1.0)\n"
          ]
        }
      ],
      "source": [
        "!pip install pyLDAvis==3.3.1"
      ]
    },
    {
      "cell_type": "code",
      "source": [
        "!pip install ipywidgets"
      ],
      "metadata": {
        "colab": {
          "base_uri": "https://localhost:8080/"
        },
        "id": "8Zp2k0T_sA5Y",
        "outputId": "8ba55343-d94e-47b9-8edb-dc776ffe1d7a"
      },
      "execution_count": 35,
      "outputs": [
        {
          "output_type": "stream",
          "name": "stdout",
          "text": [
            "Requirement already satisfied: ipywidgets in /usr/local/lib/python3.7/dist-packages (7.7.0)\n",
            "Requirement already satisfied: traitlets>=4.3.1 in /usr/local/lib/python3.7/dist-packages (from ipywidgets) (5.1.1)\n",
            "Requirement already satisfied: ipython-genutils~=0.2.0 in /usr/local/lib/python3.7/dist-packages (from ipywidgets) (0.2.0)\n",
            "Requirement already satisfied: nbformat>=4.2.0 in /usr/local/lib/python3.7/dist-packages (from ipywidgets) (5.2.0)\n",
            "Requirement already satisfied: ipykernel>=4.5.1 in /usr/local/lib/python3.7/dist-packages (from ipywidgets) (4.10.1)\n",
            "Requirement already satisfied: ipython>=4.0.0 in /usr/local/lib/python3.7/dist-packages (from ipywidgets) (5.5.0)\n",
            "Requirement already satisfied: widgetsnbextension~=3.6.0 in /usr/local/lib/python3.7/dist-packages (from ipywidgets) (3.6.0)\n",
            "Requirement already satisfied: jupyterlab-widgets>=1.0.0 in /usr/local/lib/python3.7/dist-packages (from ipywidgets) (1.1.0)\n",
            "Requirement already satisfied: tornado>=4.0 in /usr/local/lib/python3.7/dist-packages (from ipykernel>=4.5.1->ipywidgets) (5.1.1)\n",
            "Requirement already satisfied: jupyter-client in /usr/local/lib/python3.7/dist-packages (from ipykernel>=4.5.1->ipywidgets) (5.3.5)\n",
            "Requirement already satisfied: pygments in /usr/local/lib/python3.7/dist-packages (from ipython>=4.0.0->ipywidgets) (2.6.1)\n",
            "Requirement already satisfied: simplegeneric>0.8 in /usr/local/lib/python3.7/dist-packages (from ipython>=4.0.0->ipywidgets) (0.8.1)\n",
            "Requirement already satisfied: pexpect in /usr/local/lib/python3.7/dist-packages (from ipython>=4.0.0->ipywidgets) (4.8.0)\n",
            "Requirement already satisfied: setuptools>=18.5 in /usr/local/lib/python3.7/dist-packages (from ipython>=4.0.0->ipywidgets) (57.4.0)\n",
            "Requirement already satisfied: decorator in /usr/local/lib/python3.7/dist-packages (from ipython>=4.0.0->ipywidgets) (4.4.2)\n",
            "Requirement already satisfied: pickleshare in /usr/local/lib/python3.7/dist-packages (from ipython>=4.0.0->ipywidgets) (0.7.5)\n",
            "Requirement already satisfied: prompt-toolkit<2.0.0,>=1.0.4 in /usr/local/lib/python3.7/dist-packages (from ipython>=4.0.0->ipywidgets) (1.0.18)\n",
            "Requirement already satisfied: jupyter-core in /usr/local/lib/python3.7/dist-packages (from nbformat>=4.2.0->ipywidgets) (4.9.2)\n",
            "Requirement already satisfied: jsonschema!=2.5.0,>=2.4 in /usr/local/lib/python3.7/dist-packages (from nbformat>=4.2.0->ipywidgets) (4.3.3)\n",
            "Requirement already satisfied: attrs>=17.4.0 in /usr/local/lib/python3.7/dist-packages (from jsonschema!=2.5.0,>=2.4->nbformat>=4.2.0->ipywidgets) (21.4.0)\n",
            "Requirement already satisfied: importlib-metadata in /usr/local/lib/python3.7/dist-packages (from jsonschema!=2.5.0,>=2.4->nbformat>=4.2.0->ipywidgets) (4.11.3)\n",
            "Requirement already satisfied: typing-extensions in /usr/local/lib/python3.7/dist-packages (from jsonschema!=2.5.0,>=2.4->nbformat>=4.2.0->ipywidgets) (3.10.0.2)\n",
            "Requirement already satisfied: pyrsistent!=0.17.0,!=0.17.1,!=0.17.2,>=0.14.0 in /usr/local/lib/python3.7/dist-packages (from jsonschema!=2.5.0,>=2.4->nbformat>=4.2.0->ipywidgets) (0.18.1)\n",
            "Requirement already satisfied: importlib-resources>=1.4.0 in /usr/local/lib/python3.7/dist-packages (from jsonschema!=2.5.0,>=2.4->nbformat>=4.2.0->ipywidgets) (5.4.0)\n",
            "Requirement already satisfied: zipp>=3.1.0 in /usr/local/lib/python3.7/dist-packages (from importlib-resources>=1.4.0->jsonschema!=2.5.0,>=2.4->nbformat>=4.2.0->ipywidgets) (3.7.0)\n",
            "Requirement already satisfied: wcwidth in /usr/local/lib/python3.7/dist-packages (from prompt-toolkit<2.0.0,>=1.0.4->ipython>=4.0.0->ipywidgets) (0.2.5)\n",
            "Requirement already satisfied: six>=1.9.0 in /usr/local/lib/python3.7/dist-packages (from prompt-toolkit<2.0.0,>=1.0.4->ipython>=4.0.0->ipywidgets) (1.15.0)\n",
            "Requirement already satisfied: notebook>=4.4.1 in /usr/local/lib/python3.7/dist-packages (from widgetsnbextension~=3.6.0->ipywidgets) (5.3.1)\n",
            "Requirement already satisfied: Send2Trash in /usr/local/lib/python3.7/dist-packages (from notebook>=4.4.1->widgetsnbextension~=3.6.0->ipywidgets) (1.8.0)\n",
            "Requirement already satisfied: terminado>=0.8.1 in /usr/local/lib/python3.7/dist-packages (from notebook>=4.4.1->widgetsnbextension~=3.6.0->ipywidgets) (0.13.3)\n",
            "Requirement already satisfied: nbconvert in /usr/local/lib/python3.7/dist-packages (from notebook>=4.4.1->widgetsnbextension~=3.6.0->ipywidgets) (5.6.1)\n",
            "Requirement already satisfied: jinja2 in /usr/local/lib/python3.7/dist-packages (from notebook>=4.4.1->widgetsnbextension~=3.6.0->ipywidgets) (2.11.3)\n",
            "Requirement already satisfied: pyzmq>=13 in /usr/local/lib/python3.7/dist-packages (from jupyter-client->ipykernel>=4.5.1->ipywidgets) (22.3.0)\n",
            "Requirement already satisfied: python-dateutil>=2.1 in /usr/local/lib/python3.7/dist-packages (from jupyter-client->ipykernel>=4.5.1->ipywidgets) (2.8.2)\n",
            "Requirement already satisfied: ptyprocess in /usr/local/lib/python3.7/dist-packages (from terminado>=0.8.1->notebook>=4.4.1->widgetsnbextension~=3.6.0->ipywidgets) (0.7.0)\n",
            "Requirement already satisfied: MarkupSafe>=0.23 in /usr/local/lib/python3.7/dist-packages (from jinja2->notebook>=4.4.1->widgetsnbextension~=3.6.0->ipywidgets) (2.0.1)\n",
            "Requirement already satisfied: testpath in /usr/local/lib/python3.7/dist-packages (from nbconvert->notebook>=4.4.1->widgetsnbextension~=3.6.0->ipywidgets) (0.6.0)\n",
            "Requirement already satisfied: bleach in /usr/local/lib/python3.7/dist-packages (from nbconvert->notebook>=4.4.1->widgetsnbextension~=3.6.0->ipywidgets) (4.1.0)\n",
            "Requirement already satisfied: pandocfilters>=1.4.1 in /usr/local/lib/python3.7/dist-packages (from nbconvert->notebook>=4.4.1->widgetsnbextension~=3.6.0->ipywidgets) (1.5.0)\n",
            "Requirement already satisfied: defusedxml in /usr/local/lib/python3.7/dist-packages (from nbconvert->notebook>=4.4.1->widgetsnbextension~=3.6.0->ipywidgets) (0.7.1)\n",
            "Requirement already satisfied: entrypoints>=0.2.2 in /usr/local/lib/python3.7/dist-packages (from nbconvert->notebook>=4.4.1->widgetsnbextension~=3.6.0->ipywidgets) (0.4)\n",
            "Requirement already satisfied: mistune<2,>=0.8.1 in /usr/local/lib/python3.7/dist-packages (from nbconvert->notebook>=4.4.1->widgetsnbextension~=3.6.0->ipywidgets) (0.8.4)\n",
            "Requirement already satisfied: packaging in /usr/local/lib/python3.7/dist-packages (from bleach->nbconvert->notebook>=4.4.1->widgetsnbextension~=3.6.0->ipywidgets) (21.3)\n",
            "Requirement already satisfied: webencodings in /usr/local/lib/python3.7/dist-packages (from bleach->nbconvert->notebook>=4.4.1->widgetsnbextension~=3.6.0->ipywidgets) (0.5.1)\n",
            "Requirement already satisfied: pyparsing!=3.0.5,>=2.0.2 in /usr/local/lib/python3.7/dist-packages (from packaging->bleach->nbconvert->notebook>=4.4.1->widgetsnbextension~=3.6.0->ipywidgets) (3.0.7)\n"
          ]
        }
      ]
    },
    {
      "cell_type": "code",
      "source": [
        "!pip install pandarallel==1.4.8"
      ],
      "metadata": {
        "colab": {
          "base_uri": "https://localhost:8080/"
        },
        "id": "DTQYjiuCNwyx",
        "outputId": "f36a924a-50a2-430b-a7ca-d001f3e2f6e5"
      },
      "execution_count": 36,
      "outputs": [
        {
          "output_type": "stream",
          "name": "stdout",
          "text": [
            "Requirement already satisfied: pandarallel==1.4.8 in /usr/local/lib/python3.7/dist-packages (1.4.8)\n",
            "Requirement already satisfied: dill in /usr/local/lib/python3.7/dist-packages (from pandarallel==1.4.8) (0.3.4)\n"
          ]
        }
      ]
    },
    {
      "cell_type": "code",
      "source": [
        "!python -m spacy download en_core_web_md"
      ],
      "metadata": {
        "colab": {
          "base_uri": "https://localhost:8080/"
        },
        "id": "gl7w4rLhNyfi",
        "outputId": "f2f61a9c-8028-42da-dcac-7835aaf4e4c4"
      },
      "execution_count": 37,
      "outputs": [
        {
          "output_type": "stream",
          "name": "stdout",
          "text": [
            "Collecting en_core_web_md==2.2.5\n",
            "  Downloading https://github.com/explosion/spacy-models/releases/download/en_core_web_md-2.2.5/en_core_web_md-2.2.5.tar.gz (96.4 MB)\n",
            "\u001b[K     |████████████████████████████████| 96.4 MB 1.0 MB/s \n",
            "\u001b[?25hRequirement already satisfied: spacy>=2.2.2 in /usr/local/lib/python3.7/dist-packages (from en_core_web_md==2.2.5) (2.2.4)\n",
            "Requirement already satisfied: catalogue<1.1.0,>=0.0.7 in /usr/local/lib/python3.7/dist-packages (from spacy>=2.2.2->en_core_web_md==2.2.5) (1.0.0)\n",
            "Requirement already satisfied: numpy>=1.15.0 in /usr/local/lib/python3.7/dist-packages (from spacy>=2.2.2->en_core_web_md==2.2.5) (1.21.5)\n",
            "Requirement already satisfied: preshed<3.1.0,>=3.0.2 in /usr/local/lib/python3.7/dist-packages (from spacy>=2.2.2->en_core_web_md==2.2.5) (3.0.6)\n",
            "Requirement already satisfied: tqdm<5.0.0,>=4.38.0 in /usr/local/lib/python3.7/dist-packages (from spacy>=2.2.2->en_core_web_md==2.2.5) (4.63.0)\n",
            "Requirement already satisfied: wasabi<1.1.0,>=0.4.0 in /usr/local/lib/python3.7/dist-packages (from spacy>=2.2.2->en_core_web_md==2.2.5) (0.9.0)\n",
            "Requirement already satisfied: setuptools in /usr/local/lib/python3.7/dist-packages (from spacy>=2.2.2->en_core_web_md==2.2.5) (57.4.0)\n",
            "Requirement already satisfied: murmurhash<1.1.0,>=0.28.0 in /usr/local/lib/python3.7/dist-packages (from spacy>=2.2.2->en_core_web_md==2.2.5) (1.0.6)\n",
            "Requirement already satisfied: plac<1.2.0,>=0.9.6 in /usr/local/lib/python3.7/dist-packages (from spacy>=2.2.2->en_core_web_md==2.2.5) (1.1.3)\n",
            "Requirement already satisfied: requests<3.0.0,>=2.13.0 in /usr/local/lib/python3.7/dist-packages (from spacy>=2.2.2->en_core_web_md==2.2.5) (2.23.0)\n",
            "Requirement already satisfied: cymem<2.1.0,>=2.0.2 in /usr/local/lib/python3.7/dist-packages (from spacy>=2.2.2->en_core_web_md==2.2.5) (2.0.6)\n",
            "Requirement already satisfied: srsly<1.1.0,>=1.0.2 in /usr/local/lib/python3.7/dist-packages (from spacy>=2.2.2->en_core_web_md==2.2.5) (1.0.5)\n",
            "Requirement already satisfied: blis<0.5.0,>=0.4.0 in /usr/local/lib/python3.7/dist-packages (from spacy>=2.2.2->en_core_web_md==2.2.5) (0.4.1)\n",
            "Requirement already satisfied: thinc==7.4.0 in /usr/local/lib/python3.7/dist-packages (from spacy>=2.2.2->en_core_web_md==2.2.5) (7.4.0)\n",
            "Requirement already satisfied: importlib-metadata>=0.20 in /usr/local/lib/python3.7/dist-packages (from catalogue<1.1.0,>=0.0.7->spacy>=2.2.2->en_core_web_md==2.2.5) (4.11.3)\n",
            "Requirement already satisfied: typing-extensions>=3.6.4 in /usr/local/lib/python3.7/dist-packages (from importlib-metadata>=0.20->catalogue<1.1.0,>=0.0.7->spacy>=2.2.2->en_core_web_md==2.2.5) (3.10.0.2)\n",
            "Requirement already satisfied: zipp>=0.5 in /usr/local/lib/python3.7/dist-packages (from importlib-metadata>=0.20->catalogue<1.1.0,>=0.0.7->spacy>=2.2.2->en_core_web_md==2.2.5) (3.7.0)\n",
            "Requirement already satisfied: idna<3,>=2.5 in /usr/local/lib/python3.7/dist-packages (from requests<3.0.0,>=2.13.0->spacy>=2.2.2->en_core_web_md==2.2.5) (2.10)\n",
            "Requirement already satisfied: urllib3!=1.25.0,!=1.25.1,<1.26,>=1.21.1 in /usr/local/lib/python3.7/dist-packages (from requests<3.0.0,>=2.13.0->spacy>=2.2.2->en_core_web_md==2.2.5) (1.24.3)\n",
            "Requirement already satisfied: chardet<4,>=3.0.2 in /usr/local/lib/python3.7/dist-packages (from requests<3.0.0,>=2.13.0->spacy>=2.2.2->en_core_web_md==2.2.5) (3.0.4)\n",
            "Requirement already satisfied: certifi>=2017.4.17 in /usr/local/lib/python3.7/dist-packages (from requests<3.0.0,>=2.13.0->spacy>=2.2.2->en_core_web_md==2.2.5) (2021.10.8)\n",
            "\u001b[38;5;2m✔ Download and installation successful\u001b[0m\n",
            "You can now load the model via spacy.load('en_core_web_md')\n"
          ]
        }
      ]
    },
    {
      "cell_type": "code",
      "source": [
        "import re\n",
        "import string\n",
        "import pandas as pd\n",
        "import numpy as np\n",
        "import matplotlib.pyplot as plt\n",
        "from sklearn.feature_extraction.text import CountVectorizer, TfidfVectorizer\n",
        "\n",
        "import spacy\n",
        "spacy.util.fix_random_seed(0)\n",
        "\n",
        "import pyLDAvis\n",
        "import pyLDAvis.gensim_models \n",
        "\n",
        "import gensim\n",
        "import gensim.corpora as corpora\n",
        "from gensim.utils import simple_preprocess\n",
        "from gensim.models import CoherenceModel\n",
        "\n",
        "from pandarallel import pandarallel\n",
        "\n",
        "%matplotlib inline\n",
        "\n",
        "import warnings\n",
        "warnings.filterwarnings(\"ignore\")"
      ],
      "metadata": {
        "id": "p9D_9Um2N0Tw"
      },
      "execution_count": 38,
      "outputs": []
    },
    {
      "cell_type": "markdown",
      "source": [
        "## Loading in data, cleaning, tokenizing\n"
      ],
      "metadata": {
        "id": "pFJHEhYqOou5"
      }
    },
    {
      "cell_type": "markdown",
      "source": [
        "### Load"
      ],
      "metadata": {
        "id": "sCbXCu9pOwxl"
      }
    },
    {
      "cell_type": "code",
      "source": [
        "text = open('/content/CR3-16.txt', 'r',encoding = \"ISO-8859-1\").read()"
      ],
      "metadata": {
        "id": "RpXZpl4jOuRJ"
      },
      "execution_count": 39,
      "outputs": []
    },
    {
      "cell_type": "markdown",
      "source": [
        "### Clean"
      ],
      "metadata": {
        "id": "BaM0Cw5VOx9Z"
      }
    },
    {
      "cell_type": "markdown",
      "source": [
        "I am probably going to have two cleaning functions. One is going to clean the entire episode. The second will as best as possible only pull lines of the characters and Matt."
      ],
      "metadata": {
        "id": "r0_87k6kQiUU"
      }
    },
    {
      "cell_type": "markdown",
      "source": [
        "First: Clean the entire episode and create a dataframe of lines"
      ],
      "metadata": {
        "id": "jU2pe0k2R10t"
      }
    },
    {
      "cell_type": "code",
      "source": [
        "def cr_episode_cleaner(episode):\n",
        "    \"\"\"\n",
        "    Clean the data of the entire episode and create a dataframe of the spoken\n",
        "    lines in the episode. \n",
        "\n",
        "    This includes intro, break, outro, character dialog, etc.\n",
        "    \n",
        "    Parameters\n",
        "    ----------\n",
        "    episode: A large string containing everything spoken during the episode\n",
        "\n",
        "    Returns\n",
        "    -------\n",
        "    lines: A dataframe where every entry is a line spoken during the episode\n",
        "    \"\"\"\n",
        "\n",
        "    return lines"
      ],
      "metadata": {
        "id": "0FgFpC5EOz3j"
      },
      "execution_count": 40,
      "outputs": []
    },
    {
      "cell_type": "markdown",
      "source": [
        "Second: Clean the data of the parts of the episode where there is only character and DM's dialog."
      ],
      "metadata": {
        "id": "XxNPoPF1S4GW"
      }
    },
    {
      "cell_type": "code",
      "source": [
        "def cr_dialog_cleaner(episode):\n",
        "    \"\"\"\n",
        "    Clean the data of the entire episode and create a dataframe of the spoken\n",
        "    lines in the episode. \n",
        "\n",
        "    This includes intro, break, outro, character dialog, etc.\n",
        "    \n",
        "    Parameters\n",
        "    ----------\n",
        "    episode: A large string containing everything spoken during the episode\n",
        "\n",
        "    Returns\n",
        "    -------\n",
        "    lines: A dataframe where every entry is dialog spoken during the episode\n",
        "    \"\"\"\n",
        "\n",
        "    # How to locate where the dialog starts and stops\n",
        "    ending_intro = \"And welcome back.\"\n",
        "    starting_break = \"And we'll pick up from there after our break.\"\n",
        "    starting_outro = \"We'll pick up on that next week.\"\n",
        "    parts = episode.split(ending_intro)\n",
        "    first_part = parts[1].split(starting_break)[0]\n",
        "    second_part = parts[-1].split(starting_outro)[0]\n",
        "    print(first_part[:200])\n",
        "    print(second_part[:200])\n",
        "    full_dialog= first_part + \"/n\" + second_part\n",
        "\n",
        "    # regex\n",
        "    remove = string.punctuation\n",
        "    remove = remove.replace(\"#\", \"\") # don't remove hyphens\n",
        "    removing_punctuation = r\"[{}]\".format(remove)\n",
        "    non_alpha = '[^a-zA-Z#]'\n",
        "    spaces = '[^\\S ]+'\n",
        "    multi_white_spaces = \"[ ]{2,}\"\n",
        "\n",
        "    full_dialog = re.sub(removing_punctuation, \"\", full_dialog)\n",
        "    full_dialog = re.sub(non_alpha, \" \", full_dialog)\n",
        "    full_dialog = re.sub(spaces, '', full_dialog)\n",
        "    full_dialog = re.sub(multi_white_spaces, \" \", full_dialog)\n",
        "    return pd.DataFrame(full_dialog.lower().split(\" # \"),columns=['lines'])"
      ],
      "metadata": {
        "id": "u0s_tmwdTCWU"
      },
      "execution_count": 41,
      "outputs": []
    },
    {
      "cell_type": "code",
      "source": [
        "full_dialog_df = cr_dialog_cleaner(text)"
      ],
      "metadata": {
        "colab": {
          "base_uri": "https://localhost:8080/"
        },
        "id": "TR56F--Uqjq7",
        "outputId": "3451ea29-df07-4cc1-a11b-056b947c8fce"
      },
      "execution_count": 42,
      "outputs": [
        {
          "output_type": "stream",
          "name": "stdout",
          "text": [
            "  \n",
            "So, last we left off, Hells Bells.  \n",
            "Bells Hells, I should say.  \n",
            "# SAM\n",
            "Yes, you should.  \n",
            "# MATT\n",
            "The other way around.  \n",
            "Brain, thank you.  \n",
            "# LIAM\n",
            "First was exclamation, then you said their name.\n",
            "  \n",
            "So.  \n",
            "As Bells Hells are currently jaunting into the darkness, retracing their steps through the aspects of this abandoned mine that they had originally come through, the arcane dome orb that curre\n"
          ]
        }
      ]
    },
    {
      "cell_type": "code",
      "source": [
        "full_dialog_df.head()"
      ],
      "metadata": {
        "colab": {
          "base_uri": "https://localhost:8080/",
          "height": 206
        },
        "id": "wne-hH0rgDU9",
        "outputId": "ed28c846-df04-4fd3-9681-0c8ded720705"
      },
      "execution_count": 43,
      "outputs": [
        {
          "output_type": "execute_result",
          "data": {
            "text/plain": [
              "                                               lines\n",
              "0   so last we left off hells bells bells hells i...\n",
              "1                                 sam yes you should\n",
              "2          matt the other way around brain thank you\n",
              "3  liam first was exclamation then you said their...\n",
              "4  matt indeed i was just excited and then presen..."
            ],
            "text/html": [
              "\n",
              "  <div id=\"df-0f93eca7-3446-473d-9aa2-600dee95ecb5\">\n",
              "    <div class=\"colab-df-container\">\n",
              "      <div>\n",
              "<style scoped>\n",
              "    .dataframe tbody tr th:only-of-type {\n",
              "        vertical-align: middle;\n",
              "    }\n",
              "\n",
              "    .dataframe tbody tr th {\n",
              "        vertical-align: top;\n",
              "    }\n",
              "\n",
              "    .dataframe thead th {\n",
              "        text-align: right;\n",
              "    }\n",
              "</style>\n",
              "<table border=\"1\" class=\"dataframe\">\n",
              "  <thead>\n",
              "    <tr style=\"text-align: right;\">\n",
              "      <th></th>\n",
              "      <th>lines</th>\n",
              "    </tr>\n",
              "  </thead>\n",
              "  <tbody>\n",
              "    <tr>\n",
              "      <th>0</th>\n",
              "      <td>so last we left off hells bells bells hells i...</td>\n",
              "    </tr>\n",
              "    <tr>\n",
              "      <th>1</th>\n",
              "      <td>sam yes you should</td>\n",
              "    </tr>\n",
              "    <tr>\n",
              "      <th>2</th>\n",
              "      <td>matt the other way around brain thank you</td>\n",
              "    </tr>\n",
              "    <tr>\n",
              "      <th>3</th>\n",
              "      <td>liam first was exclamation then you said their...</td>\n",
              "    </tr>\n",
              "    <tr>\n",
              "      <th>4</th>\n",
              "      <td>matt indeed i was just excited and then presen...</td>\n",
              "    </tr>\n",
              "  </tbody>\n",
              "</table>\n",
              "</div>\n",
              "      <button class=\"colab-df-convert\" onclick=\"convertToInteractive('df-0f93eca7-3446-473d-9aa2-600dee95ecb5')\"\n",
              "              title=\"Convert this dataframe to an interactive table.\"\n",
              "              style=\"display:none;\">\n",
              "        \n",
              "  <svg xmlns=\"http://www.w3.org/2000/svg\" height=\"24px\"viewBox=\"0 0 24 24\"\n",
              "       width=\"24px\">\n",
              "    <path d=\"M0 0h24v24H0V0z\" fill=\"none\"/>\n",
              "    <path d=\"M18.56 5.44l.94 2.06.94-2.06 2.06-.94-2.06-.94-.94-2.06-.94 2.06-2.06.94zm-11 1L8.5 8.5l.94-2.06 2.06-.94-2.06-.94L8.5 2.5l-.94 2.06-2.06.94zm10 10l.94 2.06.94-2.06 2.06-.94-2.06-.94-.94-2.06-.94 2.06-2.06.94z\"/><path d=\"M17.41 7.96l-1.37-1.37c-.4-.4-.92-.59-1.43-.59-.52 0-1.04.2-1.43.59L10.3 9.45l-7.72 7.72c-.78.78-.78 2.05 0 2.83L4 21.41c.39.39.9.59 1.41.59.51 0 1.02-.2 1.41-.59l7.78-7.78 2.81-2.81c.8-.78.8-2.07 0-2.86zM5.41 20L4 18.59l7.72-7.72 1.47 1.35L5.41 20z\"/>\n",
              "  </svg>\n",
              "      </button>\n",
              "      \n",
              "  <style>\n",
              "    .colab-df-container {\n",
              "      display:flex;\n",
              "      flex-wrap:wrap;\n",
              "      gap: 12px;\n",
              "    }\n",
              "\n",
              "    .colab-df-convert {\n",
              "      background-color: #E8F0FE;\n",
              "      border: none;\n",
              "      border-radius: 50%;\n",
              "      cursor: pointer;\n",
              "      display: none;\n",
              "      fill: #1967D2;\n",
              "      height: 32px;\n",
              "      padding: 0 0 0 0;\n",
              "      width: 32px;\n",
              "    }\n",
              "\n",
              "    .colab-df-convert:hover {\n",
              "      background-color: #E2EBFA;\n",
              "      box-shadow: 0px 1px 2px rgba(60, 64, 67, 0.3), 0px 1px 3px 1px rgba(60, 64, 67, 0.15);\n",
              "      fill: #174EA6;\n",
              "    }\n",
              "\n",
              "    [theme=dark] .colab-df-convert {\n",
              "      background-color: #3B4455;\n",
              "      fill: #D2E3FC;\n",
              "    }\n",
              "\n",
              "    [theme=dark] .colab-df-convert:hover {\n",
              "      background-color: #434B5C;\n",
              "      box-shadow: 0px 1px 3px 1px rgba(0, 0, 0, 0.15);\n",
              "      filter: drop-shadow(0px 1px 2px rgba(0, 0, 0, 0.3));\n",
              "      fill: #FFFFFF;\n",
              "    }\n",
              "  </style>\n",
              "\n",
              "      <script>\n",
              "        const buttonEl =\n",
              "          document.querySelector('#df-0f93eca7-3446-473d-9aa2-600dee95ecb5 button.colab-df-convert');\n",
              "        buttonEl.style.display =\n",
              "          google.colab.kernel.accessAllowed ? 'block' : 'none';\n",
              "\n",
              "        async function convertToInteractive(key) {\n",
              "          const element = document.querySelector('#df-0f93eca7-3446-473d-9aa2-600dee95ecb5');\n",
              "          const dataTable =\n",
              "            await google.colab.kernel.invokeFunction('convertToInteractive',\n",
              "                                                     [key], {});\n",
              "          if (!dataTable) return;\n",
              "\n",
              "          const docLinkHtml = 'Like what you see? Visit the ' +\n",
              "            '<a target=\"_blank\" href=https://colab.research.google.com/notebooks/data_table.ipynb>data table notebook</a>'\n",
              "            + ' to learn more about interactive tables.';\n",
              "          element.innerHTML = '';\n",
              "          dataTable['output_type'] = 'display_data';\n",
              "          await google.colab.output.renderOutput(dataTable, element);\n",
              "          const docLink = document.createElement('div');\n",
              "          docLink.innerHTML = docLinkHtml;\n",
              "          element.appendChild(docLink);\n",
              "        }\n",
              "      </script>\n",
              "    </div>\n",
              "  </div>\n",
              "  "
            ]
          },
          "metadata": {},
          "execution_count": 43
        }
      ]
    },
    {
      "cell_type": "markdown",
      "source": [
        "### Tokenizing data for LDA"
      ],
      "metadata": {
        "id": "0eqWttzJOziH"
      }
    },
    {
      "cell_type": "code",
      "source": [
        "# identify how many processors your machine has - save the result to `n_processors`\n",
        "import multiprocessing\n",
        "\n",
        "n_processors = multiprocessing.cpu_count()\n",
        "# subtract 1 from n_processors - save the result to `nb_workers`\n",
        "nb_workers = n_processors - 1\n",
        "# we must initalize pandarallel before we can use it\n",
        "pandarallel.initialize(progress_bar=True, nb_workers=nb_workers)\n",
        "# so that the progress bars will work\n",
        "from pandarallel.utils import progress_bars\n",
        "progress_bars.is_notebook_lab = lambda : True"
      ],
      "metadata": {
        "colab": {
          "base_uri": "https://localhost:8080/"
        },
        "id": "LnTHDr8drCHy",
        "outputId": "0bdcd7ca-6eac-4f4d-803b-2b5e68de145a"
      },
      "execution_count": 44,
      "outputs": [
        {
          "output_type": "stream",
          "name": "stdout",
          "text": [
            "INFO: Pandarallel will run on 3 workers.\n",
            "INFO: Pandarallel will use Memory file system to transfer data between the main process and workers.\n"
          ]
        }
      ]
    },
    {
      "cell_type": "code",
      "source": [
        "nlp = spacy.load('en_core_web_md')"
      ],
      "metadata": {
        "id": "IX7HBWDOPhDo"
      },
      "execution_count": 45,
      "outputs": []
    },
    {
      "cell_type": "code",
      "source": [
        "# create our tokens in the form of lemmas \n",
        "full_dialog_df['lemmas'] = full_dialog_df['lines'].parallel_apply(lambda x: [token.lemma_ for token in nlp(x) if (token.is_stop != True) and (token.is_punct != True)])"
      ],
      "metadata": {
        "colab": {
          "base_uri": "https://localhost:8080/",
          "height": 113,
          "referenced_widgets": [
            "f62a8a21153e428d90ffbcd6ee196591",
            "bd0f7011893741d881c5f6a9272b7b4b",
            "13badea1345c4840a386dfa001789c30",
            "a11b819928dc4407be2364f31277a350",
            "5a4cd7aedb8c4169b6548b67db6f9b51",
            "ec95ee7e5efa4a15997356dd5fad90b5",
            "8ea9f662666d44e9bd0bf75d6228dc89",
            "8f45b0a311984b74a12c3eb877f5b5dd",
            "9ccf387f0fa44a9aa2ad8e00fccbe592",
            "2688907f51e9424bbc009c2e8d239239",
            "c35ac688551b4d0fa33df2bca2315d32",
            "3ac636e121cd4d6d9d6eaec838ea638c",
            "c4610dd6c5e84673b2f933f34cc1e0c8",
            "5c8f145323524625bc9abe4eeeeb8c16",
            "8648a0e051914aeda912ec1f626ec6ce",
            "6b6962e471ac44e4af27394e4f7572ee",
            "26c9c893ae714048923b54d40ca03323",
            "112b94416ea04110beb8405541155542",
            "20b41dd86e3f4dc9af0dc1e7dda220d1",
            "a109436d18bd4d7ab56c3f6aa0e763ce",
            "92dfd7108b834a1bb35617c08149d369",
            "4be57f7fb2f546479fb3ada13a552e11",
            "242755fae9ae422c85ad4be4c9a181fc",
            "23f02d35521f4c96a4eb82c9c25174a8",
            "a290ba49c71a4762818dfb4c66ba16d2",
            "02c2abb8575547caa693978ccfb65091"
          ]
        },
        "id": "Qi-5P7Nbp_ns",
        "outputId": "fd9efa2a-2a44-4b15-e3e2-c843ad620d1f"
      },
      "execution_count": 46,
      "outputs": [
        {
          "output_type": "display_data",
          "data": {
            "text/plain": [
              "VBox(children=(HBox(children=(IntProgress(value=0, description='0.00%', max=1338), Label(value='0 / 1338'))), …"
            ],
            "application/vnd.jupyter.widget-view+json": {
              "version_major": 2,
              "version_minor": 0,
              "model_id": "f62a8a21153e428d90ffbcd6ee196591"
            }
          },
          "metadata": {}
        }
      ]
    },
    {
      "cell_type": "code",
      "source": [
        "# Create lemma dictionary using Dictionary - save result to `id2word`\n",
        "id2word = corpora.Dictionary(full_dialog_df['lemmas'])\n",
        "\n",
        "# Create Term Document Frequency list - save result to `corpus`\n",
        "# Term Document Frequency -- different format, but equivalent in function to the document-term matrix we used in sklearn\n",
        "corpus = [id2word.doc2bow(doc_lemmas) for doc_lemmas in full_dialog_df['lemmas']]"
      ],
      "metadata": {
        "id": "g31uJl-8qb13"
      },
      "execution_count": 47,
      "outputs": []
    },
    {
      "cell_type": "markdown",
      "source": [
        "## LDA Topic Modeling\n"
      ],
      "metadata": {
        "id": "vHXFf-PwPIZ3"
      }
    },
    {
      "cell_type": "markdown",
      "source": [
        "### Baseline"
      ],
      "metadata": {
        "id": "KNsnl64DMHwF"
      }
    },
    {
      "cell_type": "code",
      "source": [
        "lda_model = gensim.models.LdaMulticore(corpus=corpus,\n",
        "                                       id2word=id2word,\n",
        "                                       num_topics=10, \n",
        "                                       random_state=100,\n",
        "                                       chunksize=100,\n",
        "                                       passes=10,\n",
        "                                       per_word_topics=True)"
      ],
      "metadata": {
        "id": "sp0eGikZM3mR"
      },
      "execution_count": 57,
      "outputs": []
    },
    {
      "cell_type": "code",
      "source": [
        "from gensim.models import CoherenceModel\n",
        "# Compute Coherence Score\n",
        "coherence_model_lda = CoherenceModel(model=lda_model, texts=full_dialog_df['lemmas'], dictionary=id2word, coherence='c_v')\n",
        "coherence_lda = coherence_model_lda.get_coherence()\n",
        "print('\\nCoherence Score: ', coherence_lda)"
      ],
      "metadata": {
        "colab": {
          "base_uri": "https://localhost:8080/"
        },
        "id": "u9ERpmpJ8Svx",
        "outputId": "b6d47ee8-46e2-4a79-bc47-cec0c32239fa"
      },
      "execution_count": 58,
      "outputs": [
        {
          "output_type": "stream",
          "name": "stdout",
          "text": [
            "\n",
            "Coherence Score:  0.3511298952498839\n"
          ]
        }
      ]
    },
    {
      "cell_type": "markdown",
      "source": [
        "### Attempt 1"
      ],
      "metadata": {
        "id": "skfSRYcUPimm"
      }
    },
    {
      "cell_type": "code",
      "source": [
        "def compute_coherence_values(dictionary, corpus, texts, limit, start=2, step=3):\n",
        "    \"\"\"\n",
        "    Compute c_v coherence for various number of topics\n",
        "\n",
        "    Parameters:\n",
        "    ----------\n",
        "    dictionary : Gensim dictionary\n",
        "    corpus : Gensim corpus\n",
        "    texts : List of input texts\n",
        "    limit : Max num of topics\n",
        "\n",
        "    Returns:\n",
        "    -------\n",
        "    model_list : List of LDA topic models\n",
        "    coherence_values : Coherence values corresponding to the LDA model with respective number of topics\n",
        "    \"\"\"\n",
        "    coherence_values = []\n",
        "    model_list = []\n",
        "    for num_topics in range(start, limit, step):\n",
        "        model = gensim.models.ldamulticore.LdaMulticore(corpus=corpus,\n",
        "                                                        id2word=id2word,\n",
        "                                                        num_topics=num_topics, \n",
        "                                                        chunksize=100,\n",
        "                                                        passes=10,\n",
        "                                                        random_state=1234,\n",
        "                                                        per_word_topics=True,\n",
        "                                                        workers=2)\n",
        "        model_list.append(model)\n",
        "        coherencemodel = CoherenceModel(model=model, texts=texts, dictionary=dictionary, coherence='c_v')\n",
        "        coherence_values.append(coherencemodel.get_coherence())\n",
        "\n",
        "    return model_list, coherence_values"
      ],
      "metadata": {
        "id": "g2tcmO8VPZWs"
      },
      "execution_count": 49,
      "outputs": []
    },
    {
      "cell_type": "code",
      "source": [
        "%%time \n",
        "start=2; limit=14;  step=2;\n",
        "model_list, coherence_values = compute_coherence_values(dictionary=id2word, corpus=corpus, texts=full_dialog_df['lemmas'], start=start, limit=limit, step=step)"
      ],
      "metadata": {
        "colab": {
          "base_uri": "https://localhost:8080/"
        },
        "id": "SeJEs0eErL83",
        "outputId": "7a28b102-c591-4273-803e-18d378eebd29"
      },
      "execution_count": 50,
      "outputs": [
        {
          "output_type": "stream",
          "name": "stdout",
          "text": [
            "CPU times: user 37.3 s, sys: 6.21 s, total: 43.6 s\n",
            "Wall time: 42.5 s\n"
          ]
        }
      ]
    },
    {
      "cell_type": "code",
      "source": [
        "x = range(start, limit, step)\n",
        "\n",
        "plt.figure(figsize=(20,5))\n",
        "plt.grid()\n",
        "plt.title(\"Coherence Score vs. Number of Topics\")\n",
        "plt.xticks(x)\n",
        "plt.plot(x, coherence_values, \"-o\")\n",
        "\n",
        "plt.xlabel(\"Num Topics\")\n",
        "plt.ylabel(\"Coherence score\")\n",
        "\n",
        "plt.show();"
      ],
      "metadata": {
        "colab": {
          "base_uri": "https://localhost:8080/",
          "height": 370
        },
        "id": "ChUfFiS9rYDk",
        "outputId": "07721483-1c9d-40a7-a057-d6aeb0f45507"
      },
      "execution_count": 51,
      "outputs": [
        {
          "output_type": "display_data",
          "data": {
            "text/plain": [
              "<Figure size 1440x360 with 1 Axes>"
            ],
            "image/png": "[encoded data removed]"
          },
          "metadata": {
            "needs_background": "light"
          }
        }
      ]
    },
    {
      "cell_type": "code",
      "source": [
        "# use np.argmax() to get index of largest coherence value from coherence_values - save result to `max_cohereance_val_index`\n",
        "max_coherence_val_index = np.argmax(coherence_values)\n",
        "# use `max_coherence_val_index` to index model_list for the corresponding model - save result to `lda_trained_model`\n",
        "lda_trained_model = model_list[max_coherence_val_index]"
      ],
      "metadata": {
        "id": "HLKrXKt8rseo"
      },
      "execution_count": 52,
      "outputs": []
    },
    {
      "cell_type": "code",
      "source": [
        "coherence_model_lda = CoherenceModel(model=lda_trained_model, texts=full_dialog_df['lemmas'], dictionary=id2word, coherence='c_v')\n",
        "coherence_lda = coherence_model_lda.get_coherence()\n",
        "print('\\nCoherence Score: ', coherence_lda)"
      ],
      "metadata": {
        "colab": {
          "base_uri": "https://localhost:8080/"
        },
        "id": "Dz8OF8cfWM5H",
        "outputId": "60fb03e9-6e81-430c-ce52-e43af695a6d6"
      },
      "execution_count": 71,
      "outputs": [
        {
          "output_type": "stream",
          "name": "stdout",
          "text": [
            "\n",
            "Coherence Score:  0.4214842769724935\n"
          ]
        }
      ]
    },
    {
      "cell_type": "code",
      "source": [
        "lda_trained_model.print_topics()"
      ],
      "metadata": {
        "colab": {
          "base_uri": "https://localhost:8080/"
        },
        "id": "CAP8IlcGrsyZ",
        "outputId": "ac46bc7a-353c-4a1d-c1aa-a400b28c90dd"
      },
      "execution_count": 53,
      "outputs": [
        {
          "output_type": "execute_result",
          "data": {
            "text/plain": [
              "[(0,\n",
              "  '0.269*\"sam\" + 0.044*\"point\" + 0.033*\"damage\" + 0.033*\"matt\" + 0.031*\"need\" + 0.026*\"take\" + 0.022*\"throw\" + 0.020*\"day\" + 0.017*\"saving\" + 0.016*\"familiar\"'),\n",
              " (1,\n",
              "  '0.190*\"okay\" + 0.131*\"matt\" + 0.093*\"right\" + 0.033*\"ashley\" + 0.031*\"check\" + 0.031*\"pretty\" + 0.029*\"mean\" + 0.025*\"fearne\" + 0.020*\"hard\" + 0.017*\"plus\"'),\n",
              " (2,\n",
              "  '0.289*\"marisha\" + 0.158*\"oh\" + 0.045*\"travis\" + 0.031*\"shit\" + 0.031*\"sleep\" + 0.027*\"fucking\" + 0.026*\"god\" + 0.026*\"fuck\" + 0.013*\"nightmare\" + 0.013*\"pop\"'),\n",
              " (3,\n",
              "  '0.244*\"taliesin\" + 0.055*\"little\" + 0.027*\"yep\" + 0.025*\"right\" + 0.022*\"leave\" + 0.021*\"night\" + 0.019*\"bit\" + 0.019*\"like\" + 0.018*\"drink\" + 0.015*\"hurt\"'),\n",
              " (4,\n",
              "  '0.203*\"laura\" + 0.120*\"not\" + 0.117*\"ashley\" + 0.054*\"think\" + 0.053*\"want\" + 0.041*\"yes\" + 0.037*\"laughter\" + 0.022*\"great\" + 0.016*\"fine\" + 0.011*\"work\"'),\n",
              " (5,\n",
              "  '0.192*\"go\" + 0.142*\"be\" + 0.047*\"try\" + 0.022*\"laura\" + 0.018*\"run\" + 0.016*\"use\" + 0.013*\"time\" + 0.013*\"sleep\" + 0.012*\"gold\" + 0.011*\"cover\"'),\n",
              " (6,\n",
              "  '0.186*\"travis\" + 0.168*\"matt\" + 0.042*\"come\" + 0.037*\"let\" + 0.028*\"laugh\" + 0.025*\"laudna\" + 0.021*\"sure\" + 0.017*\"sorry\" + 0.015*\"orym\" + 0.014*\"natural\"'),\n",
              " (7,\n",
              "  '0.208*\"yeah\" + 0.075*\"laura\" + 0.057*\"matt\" + 0.045*\"ashley\" + 0.044*\"get\" + 0.044*\"have\" + 0.035*\"ill\" + 0.033*\"thing\" + 0.026*\"room\" + 0.016*\"will\"'),\n",
              " (8,\n",
              "  '0.128*\"know\" + 0.059*\"not\" + 0.058*\"matt\" + 0.056*\"roll\" + 0.046*\"hit\" + 0.025*\"time\" + 0.016*\"actually\" + 0.015*\"lady\" + 0.014*\"guy\" + 0.013*\"ahead\"'),\n",
              " (9,\n",
              "  '0.066*\"matt\" + 0.025*\"shade\" + 0.023*\"begin\" + 0.016*\"bit\" + 0.015*\"creeper\" + 0.015*\"cage\" + 0.015*\"stone\" + 0.014*\"mother\" + 0.014*\"fall\" + 0.012*\"olly\"'),\n",
              " (10,\n",
              "  '0.178*\"s\" + 0.153*\"liam\" + 0.056*\"good\" + 0.025*\"say\" + 0.023*\"people\" + 0.020*\"thank\" + 0.020*\"right\" + 0.019*\"hear\" + 0.017*\"laughter\" + 0.015*\"kind\"'),\n",
              " (11,\n",
              "  '0.055*\"like\" + 0.055*\"feel\" + 0.030*\"way\" + 0.019*\"lot\" + 0.019*\"look\" + 0.017*\"sit\" + 0.016*\"long\" + 0.016*\"sort\" + 0.015*\"rest\" + 0.015*\"help\"')]"
            ]
          },
          "metadata": {},
          "execution_count": 53
        }
      ]
    },
    {
      "cell_type": "code",
      "source": [
        "# plot your topics here -- using pyLDAvis\n",
        "pyLDAvis.enable_notebook()\n",
        "vis = pyLDAvis.gensim_models.prepare(lda_trained_model, corpus, id2word)\n",
        "vis"
      ],
      "metadata": {
        "colab": {
          "base_uri": "https://localhost:8080/",
          "height": 881
        },
        "id": "9aHB5eiAPqUm",
        "outputId": "17d56b6f-0993-4d75-826b-a53b88cd52c6"
      },
      "execution_count": 54,
      "outputs": [
        {
          "output_type": "execute_result",
          "data": {
            "text/plain": [
              "PreparedData(topic_coordinates=              x         y  topics  cluster       Freq\n",
              "topic                                                \n",
              "9      0.118080  0.053501       1        1  13.030539\n",
              "7     -0.132583  0.159140       2        1   8.720629\n",
              "10    -0.070877 -0.167220       3        1   8.640044\n",
              "5     -0.134674 -0.134993       4        1   8.593580\n",
              "1      0.090027  0.155431       5        1   8.187440\n",
              "8     -0.006186  0.106125       6        1   8.181559\n",
              "4     -0.299318  0.101019       7        1   8.101604\n",
              "0      0.081404  0.042835       8        1   7.993156\n",
              "6      0.206057  0.126573       9        1   7.968473\n",
              "11     0.022852 -0.079415      10        1   7.751233\n",
              "2      0.121840 -0.210002      11        1   6.703457\n",
              "3      0.003379 -0.152993      12        1   6.128285, topic_info=         Term        Freq       Total Category  logprob  loglift\n",
              "4         sam  427.000000  427.000000  Default  30.0000  30.0000\n",
              "269   marisha  384.000000  384.000000  Default  29.0000  29.0000\n",
              "431      yeah  359.000000  359.000000  Default  28.0000  28.0000\n",
              "277     laura  494.000000  494.000000  Default  27.0000  27.0000\n",
              "446  taliesin  296.000000  296.000000  Default  26.0000  26.0000\n",
              "..        ...         ...         ...      ...      ...      ...\n",
              "29        bit   23.346856   67.246885  Topic12  -3.9509   1.7343\n",
              "43      close   10.329373   27.243026  Topic12  -4.7664   1.8224\n",
              "380     right   30.688044  224.069637  Topic12  -3.6775   0.8042\n",
              "136      like   23.009293  182.306388  Topic12  -3.9655   0.7225\n",
              "205      room    8.477729   53.441246  Topic12  -4.9639   0.9511\n",
              "\n",
              "[518 rows x 6 columns], token_table=      Topic      Freq      Term\n",
              "term                           \n",
              "505       2  0.842618   ability\n",
              "835       2  0.824035      able\n",
              "2499      2  0.755764  absolute\n",
              "582      11  0.830733   academy\n",
              "969       4  0.680876    action\n",
              "...     ...       ...       ...\n",
              "753      11  0.940720       wow\n",
              "1838      3  0.927965     wrong\n",
              "431       2  0.996424      yeah\n",
              "482      12  0.960910       yep\n",
              "5         7  0.982948       yes\n",
              "\n",
              "[551 rows x 3 columns], R=30, lambda_step=0.01, plot_opts={'xlab': 'PC1', 'ylab': 'PC2'}, topic_order=[10, 8, 11, 6, 2, 9, 5, 1, 7, 12, 3, 4])"
            ],
            "text/html": [
              "\n",
              "<link rel=\"stylesheet\" type=\"text/css\" href=\"https://cdn.jsdelivr.net/gh/bmabey/pyLDAvis@3.3.1/pyLDAvis/js/ldavis.v1.0.0.css\">\n",
              "\n",
              "\n",
              "<div id=\"ldavis_el2961401774262179368444218515\"></div>\n",
              "<script type=\"text/javascript\">\n",
              "\n",
              "var ldavis_el2961401774262179368444218515_data = {\"mdsDat\": {\"x\": [0.11808016659236631, -0.13258254283576074, -0.07087743431034482, -0.13467437243746874, 0.09002669417444394, -0.006186008969330786, -0.2993176906503277, 0.08140366793877145, 0.20605692003240572, 0.022852455221840963, 0.12183958825617805, 0.0033785569872270696], \"y\": [0.053501263253014276, 0.15913976491505713, -0.1672202948012845, -0.13499343456046586, 0.1554307804300323, 0.10612526287837161, 0.10101920966168802, 0.04283477219251184, 0.1265726158222035, -0.07941504758229889, -0.21000170955356118, -0.15299318265526807], \"topics\": [1, 2, 3, 4, 5, 6, 7, 8, 9, 10, 11, 12], \"cluster\": [1, 1, 1, 1, 1, 1, 1, 1, 1, 1, 1, 1], \"Freq\": [13.030539499895838, 8.720628845119412, 8.640043927637384, 8.593580299901566, 8.187440047363806, 8.181558708484761, 8.101604298368915, 7.993156478480958, 7.968472524018661, 7.751233445417116, 6.703456724416582, 6.128285200895]}, \"tinfo\": {\"Term\": [\"sam\", \"marisha\", \"yeah\", \"laura\", \"taliesin\", \"go\", \"okay\", \"travis\", \"s\", \"matt\", \"liam\", \"be\", \"oh\", \"not\", \"know\", \"ashley\", \"right\", \"good\", \"roll\", \"feel\", \"want\", \"think\", \"little\", \"try\", \"hit\", \"point\", \"like\", \"have\", \"get\", \"yes\", \"shade\", \"begin\", \"creeper\", \"mother\", \"fall\", \"push\", \"encounter\", \"rock\", \"cage\", \"machine\", \"moment\", \"draw\", \"watch\", \"bolt\", \"well\", \"faintly\", \"hour\", \"keep\", \"move\", \"catch\", \"spire\", \"free\", \"asleep\", \"purple\", \"ready\", \"break\", \"past\", \"air\", \"world\", \"rough\", \"olly\", \"away\", \"bit\", \"strike\", \"stone\", \"matt\", \"pull\", \"chamber\", \"foot\", \"gus\", \"little\", \"like\", \"point\", \"s\", \"yeah\", \"thing\", \"will\", \"miss\", \"d\", \"start\", \"bed\", \"big\", \"feeling\", \"slash\", \"short\", \"fit\", \"soon\", \"terrible\", \"number\", \"able\", \"identify\", \"til\", \"have\", \"shoot\", \"ability\", \"appear\", \"hell\", \"lever\", \"absolute\", \"study\", \"power\", \"fill\", \"arcane\", \"room\", \"ill\", \"maybe\", \"get\", \"wait\", \"happen\", \"laura\", \"ashley\", \"orb\", \"matt\", \"see\", \"look\", \"rest\", \"pull\", \"like\", \"come\", \"hear\", \"mean\", \"liam\", \"good\", \"say\", \"people\", \"thank\", \"kind\", \"ball\", \"probably\", \"bad\", \"minute\", \"stay\", \"seven\", \"s\", \"second\", \"fun\", \"wrong\", \"safe\", \"corner\", \"earlier\", \"board\", \"feather\", \"stiff\", \"total\", \"stuff\", \"connect\", \"mmhmm\", \"round\", \"real\", \"mr\", \"clear\", \"hear\", \"water\", \"laughter\", \"word\", \"right\", \"find\", \"like\", \"head\", \"look\", \"maybe\", \"happen\", \"be\", \"try\", \"go\", \"run\", \"use\", \"gold\", \"cover\", \"hand\", \"ask\", \"blast\", \"brumestone\", \"extra\", \"fail\", \"shift\", \"lose\", \"carve\", \"starpoint\", \"spin\", \"bang\", \"goddamn\", \"glass\", \"ah\", \"eldritch\", \"conservatory\", \"laudnas\", \"enjoy\", \"silver\", \"normal\", \"range\", \"agree\", \"movement\", \"action\", \"attack\", \"chain\", \"rush\", \"leap\", \"sleep\", \"time\", \"high\", \"laura\", \"head\", \"ashton\", \"like\", \"look\", \"okay\", \"check\", \"pretty\", \"fearne\", \"hard\", \"plus\", \"finish\", \"guess\", \"chetney\", \"pick\", \"arm\", \"old\", \"perception\", \"strong\", \"boy\", \"crazy\", \"tell\", \"join\", \"conversation\", \"certain\", \"advantage\", \"dodge\", \"athletic\", \"everybody\", \"describe\", \"note\", \"epilogue\", \"contain\", \"ingress\", \"particularly\", \"mean\", \"right\", \"fcg\", \"would\", \"matt\", \"ashton\", \"ashley\", \"orym\", \"disadvantage\", \"gus\", \"know\", \"roll\", \"hit\", \"actually\", \"lady\", \"guy\", \"emoth\", \"design\", \"stand\", \"sphere\", \"weird\", \"hallway\", \"inside\", \"door\", \"orange\", \"wild\", \"shoulder\", \"metal\", \"wander\", \"magic\", \"kick\", \"caltrop\", \"oneeyed\", \"kill\", \"quorum\", \"possibly\", \"slightly\", \"friend\", \"scratch\", \"shape\", \"ahead\", \"open\", \"time\", \"not\", \"eye\", \"matt\", \"see\", \"stone\", \"head\", \"attack\", \"damage\", \"want\", \"yes\", \"great\", \"fine\", \"think\", \"work\", \"touch\", \"howl\", \"love\", \"near\", \"group\", \"climb\", \"wolf\", \"hello\", \"mode\", \"swill\", \"similar\", \"redbubl\", \"silence\", \"ear\", \"hi\", \"mister\", \"read\", \"cavern\", \"message\", \"soot\", \"ex\", \"blanket\", \"alluring\", \"huh\", \"laura\", \"not\", \"ashley\", \"laughter\", \"guide\", \"mind\", \"stone\", \"foot\", \"sam\", \"need\", \"throw\", \"day\", \"saving\", \"familiar\", \"poison\", \"different\", \"dexterity\", \"nice\", \"today\", \"save\", \"add\", \"remember\", \"ooh\", \"stasis\", \"face\", \"take\", \"constitution\", \"tomorrow\", \"dice\", \"idea\", \"charisma\", \"modifier\", \"true\", \"dive\", \"problem\", \"grave\", \"outside\", \"individual\", \"damage\", \"point\", \"strength\", \"matt\", \"get\", \"laughter\", \"figure\", \"let\", \"laugh\", \"sure\", \"wake\", \"spell\", \"dark\", \"imogen\", \"sense\", \"later\", \"pay\", \"odd\", \"damn\", \"fresh\", \"cut\", \"healthy\", \"call\", \"exactly\", \"grass\", \"cast\", \"daylight\", \"legendary\", \"issue\", \"half\", \"snore\", \"hmm\", \"woo\", \"early\", \"thought\", \"dot\", \"sorry\", \"travis\", \"laudna\", \"come\", \"natural\", \"orym\", \"end\", \"matt\", \"foot\", \"meal\", \"close\", \"turn\", \"gus\", \"ill\", \"feel\", \"lot\", \"sit\", \"long\", \"sort\", \"hey\", \"hold\", \"strange\", \"cool\", \"king\", \"care\", \"slowly\", \"learn\", \"investigation\", \"appreciate\", \"knock\", \"grab\", \"course\", \"oddly\", \"twist\", \"darkness\", \"contraption\", \"die\", \"way\", \"flash\", \"fey\", \"witch\", \"curious\", \"device\", \"unnatural\", \"help\", \"like\", \"rest\", \"mind\", \"light\", \"look\", \"find\", \"space\", \"matt\", \"have\", \"marisha\", \"oh\", \"shit\", \"fucking\", \"god\", \"fuck\", \"pop\", \"worry\", \"wow\", \"uhoh\", \"definitely\", \"dream\", \"better\", \"dead\", \"advice\", \"p\", \"t\", \"shield\", \"change\", \"week\", \"game\", \"starlight\", \"academy\", \"book\", \"goodness\", \"hammer\", \"giggle\", \"crap\", \"missile\", \"boysie\", \"sleep\", \"nightmare\", \"pillow\", \"travis\", \"taliesin\", \"yep\", \"night\", \"drink\", \"hurt\", \"hole\", \"walk\", \"city\", \"talk\", \"hope\", \"evening\", \"green\", \"morning\", \"seeker\", \"trust\", \"smart\", \"party\", \"easy\", \"concerned\", \"wonder\", \"dc\", \"wound\", \"whack\", \"jrusar\", \"holy\", \"calling\", \"excited\", \"allow\", \"lonely\", \"downstairs\", \"leave\", \"little\", \"stop\", \"rope\", \"bit\", \"close\", \"right\", \"like\", \"room\"], \"Freq\": [427.0, 384.0, 359.0, 494.0, 296.0, 333.0, 308.0, 354.0, 322.0, 915.0, 262.0, 243.0, 210.0, 288.0, 208.0, 319.0, 224.0, 96.0, 91.0, 84.0, 85.0, 90.0, 90.0, 80.0, 75.0, 91.0, 182.0, 87.0, 122.0, 66.0, 64.02407014888011, 58.49253981049591, 39.77576237643979, 35.66402033166982, 35.1406519065747, 31.4460770381499, 25.847894835465038, 24.86767045578002, 38.680247311204454, 22.608837260525483, 18.621106425216514, 18.304781046520045, 18.297269403283767, 18.047854248077822, 17.99554071797893, 16.75612559234614, 16.282154242681155, 16.135193527136888, 14.856297512281904, 14.59075473527559, 14.061933128768505, 13.786932002072101, 12.776610579274644, 12.69284211822825, 12.603774289613147, 12.394456480673105, 12.368001701302335, 12.0218688821202, 11.797186512242858, 11.6381237715774, 31.632042781338768, 23.824442483889253, 41.390329465793656, 21.762087246674163, 37.90692177744002, 171.04803069297776, 28.843592473606517, 16.24673259691635, 19.88898912855966, 18.884559496961607, 22.33138833071401, 23.83639430017913, 20.734101265314347, 17.554449480652938, 358.4680408369779, 57.74243078393101, 26.776667864309157, 24.590951582194037, 21.105844914756684, 19.3627270238097, 18.61711259300374, 13.97129556526426, 10.584166920166156, 9.057017903849912, 7.3474992101130905, 7.149410393683204, 6.802811661917507, 6.797893097803063, 6.651046294074294, 6.46453653031278, 6.013854998543881, 5.633307639203774, 76.1631450153395, 5.121329427003077, 5.117177277473503, 5.008862710895708, 4.965859051822512, 4.861090660598322, 4.47577351647032, 4.47104032335463, 4.443054127818233, 4.185248104455694, 4.028933306070393, 44.21347787023574, 59.75404951918167, 25.06571847639974, 76.85059879265353, 18.193972929323028, 18.24706221831108, 130.29013200807583, 77.4878954400314, 7.5590006838844905, 98.71524722446158, 11.162756049500457, 17.69082376488728, 12.143132194411706, 12.413119223555707, 16.51384900944936, 8.71988073304014, 7.821269684937205, 7.513091404774426, 261.98980038832553, 96.10130743448761, 42.85084451806459, 39.72731611550451, 34.47412895887628, 25.365307049035977, 25.085080740239356, 19.32336718835715, 18.66400535584435, 17.517399150460296, 16.16352309818345, 15.191340236857844, 304.24255235104476, 10.41291667441862, 10.40431860989103, 9.95793715420052, 9.079518692424749, 9.012037710034734, 8.936515613085138, 8.665728769626146, 8.665728769626146, 8.665728769626146, 8.588720675980788, 8.162089829456242, 7.76022134502867, 7.266589975099388, 6.958329721131908, 6.889549985597609, 6.159470645987995, 5.89803960585427, 32.74035247305594, 16.212882091914814, 28.535158709450297, 8.752432095332638, 33.896567858145566, 11.249168685182937, 19.402272417730444, 11.184063703944, 11.648882673596924, 9.77095972760137, 8.972838471728382, 242.45895471131442, 80.09951977009864, 327.2264547051234, 30.39089526995838, 26.861700406917304, 19.798684087933754, 18.33656819663074, 16.990331101840543, 14.58093656014949, 12.886135062753425, 12.851468900833988, 10.200763224249137, 10.153497957508465, 10.051836543087287, 9.84223159675104, 9.013413695543301, 8.902748731626966, 8.835938130743251, 8.302911516708573, 7.888340896876906, 7.348158042023526, 6.886694628672094, 6.836565280611511, 6.738177668053242, 6.664080856971614, 6.613936055234845, 5.847161097683212, 5.79404047266026, 5.359947501075776, 5.31869371437168, 10.005809947930185, 15.453222878733293, 16.214188839031205, 12.18965451944531, 12.689489807016098, 9.123718073681951, 22.26838125159344, 22.27854739303556, 8.66595403266072, 37.880193717834366, 11.324033886523313, 9.630545555355, 13.115108616576839, 11.052500115985877, 307.5904676728086, 50.19751782574022, 50.02535009718869, 40.360632536565866, 32.42178123524177, 27.054398085622438, 22.644903675053662, 21.359746451394965, 20.35301252633129, 15.64898221793544, 12.059703672997633, 10.126536064366409, 9.88208286661718, 9.839105113061057, 9.724986534188945, 8.850822907773995, 8.818241329420598, 8.226348696337626, 7.1508032509547235, 6.626571453972159, 6.556540540599521, 6.389949553281732, 6.254368146585331, 5.1491261388596055, 4.975792625246492, 4.911262571372688, 4.911244450361368, 4.911242185234952, 4.911242185234952, 4.911242185234952, 47.39224936581598, 151.54981100104357, 14.033247915018418, 12.612024547610508, 212.87022604731743, 11.976381752863897, 53.45973778778434, 7.78917250286286, 6.860971265649469, 6.658741534360166, 207.88047510801013, 90.86123162382208, 74.58087112368464, 25.940809486351785, 23.638786945900357, 22.103889968333455, 20.145281013391262, 16.674912570639975, 15.925445320228274, 14.127009120150927, 12.619139078624414, 11.325954399899935, 9.774996385860247, 9.102841971749108, 9.029812430607846, 8.820275019694469, 8.43813899730562, 8.387036728300973, 8.196778295353147, 8.185775425297118, 8.154119633205594, 7.868444142123949, 7.362668243435214, 7.319583288921096, 7.318769183675916, 6.946953209056822, 6.857540460043615, 6.610595705338988, 6.5165420282784225, 5.603913072187437, 21.202294439538935, 13.25618661872424, 40.65511820467398, 95.03598746509536, 19.968708451659662, 94.0246318376565, 13.385904745121591, 15.28530659459601, 9.140988725308917, 8.564999078597559, 8.699884019377663, 84.74451572251066, 65.30401177071428, 35.951507345910834, 25.305204147363206, 86.5177993207856, 17.200884972230874, 15.57819964303359, 15.477237463673866, 13.260504460088857, 10.008151158330698, 9.615051348453537, 9.191295448003405, 9.172179471853081, 7.44362782558597, 7.424680700002751, 7.050757383514569, 6.277257418360549, 6.098132742522025, 5.668413279122158, 5.659787331234893, 5.442507283552041, 5.383278837944405, 4.739550246254562, 4.667693496618128, 4.282693657640435, 4.255320814045988, 4.1332130896618535, 4.025786772662302, 4.025716542780408, 4.017488439702806, 325.3491862626408, 193.06174210721454, 187.54099201109534, 59.73426811358387, 5.982139874184257, 11.642806199632425, 11.078361167589268, 5.086392845571919, 426.4903262745009, 49.47379829926839, 35.39518685428185, 31.466500164162937, 27.081205572331363, 25.71538003532302, 20.203846298599036, 18.310709266467693, 17.968439832907535, 16.632254107936866, 16.609016967059578, 15.93698564360142, 14.595321602712719, 13.01363184297408, 12.884005394178422, 11.957402656497543, 10.940636952166267, 41.87313325976651, 10.157636560725322, 10.103266928890283, 9.625374531465418, 9.132746997441867, 8.347655381262028, 8.227937371994111, 8.146690674092975, 7.8777490003409225, 7.17344485294261, 6.839350139986726, 6.6026075776355615, 6.276671368525313, 52.36187917560757, 70.11695364086583, 15.668620401906404, 51.95450830162106, 20.119404162120848, 16.898086586782803, 8.376249949492953, 58.23723981229414, 43.46251767865035, 32.57088195113828, 19.422411626927474, 19.252197071974347, 18.328344847380706, 16.294513421929967, 13.725636934093709, 12.581187434038995, 11.731962069782918, 11.499036966673273, 10.661042300435383, 10.317373241071415, 8.89367228415043, 8.744422237720553, 11.80633834659472, 10.055574449122497, 7.35693317224367, 6.863595937340857, 5.780064321187254, 5.666506260499204, 5.628631405656871, 11.676752860720145, 5.044458010090307, 5.042455546431368, 4.732398482575603, 4.596034381647127, 4.188683671108189, 4.183809784789689, 26.217265375116376, 293.79062754630496, 39.57665942190523, 66.54964061977311, 21.955102677885403, 23.806685660354102, 17.040520419044086, 265.63591501672266, 17.04549093801255, 7.148998080748529, 12.624087921528478, 15.038102320746487, 13.039239422148686, 13.48082785216118, 83.81664676207114, 29.330938459317924, 26.687162411844017, 24.341641642191973, 24.1665118798771, 19.439845372841386, 19.25656814509441, 18.175401340774425, 16.659772622103695, 14.908780939927478, 14.009634717957942, 13.477151603416528, 13.135861581878727, 11.8400578853117, 11.818716358031402, 11.028076962715378, 10.844892660964732, 10.709154228494288, 10.704485054586367, 10.29335185420668, 9.453408784499203, 9.092769426079354, 8.67652458108614, 46.524415100591746, 8.60944845248883, 8.367298317174443, 7.93619246092194, 7.928480318041878, 7.671562812279887, 7.615625651381159, 22.346120204379957, 84.10715915995263, 23.37597470315704, 18.986866881498788, 21.344529504794426, 28.521790349978968, 14.219513084377514, 10.992700750727774, 20.43937025604696, 10.59733995118677, 383.55117173031573, 209.70123187496517, 40.937577558475304, 36.18837116039153, 34.548679468178044, 34.08789312100141, 17.3660024516478, 10.424824680632842, 9.807754376758442, 9.221325270775262, 7.858717394814985, 7.839258014852515, 7.652528208254769, 7.022904323184045, 6.740282144103343, 6.289087630572354, 6.289087630572354, 6.143473012421268, 5.710115748697671, 5.696502590105843, 5.452253927506188, 5.1963455862270695, 5.196334458809847, 5.009469268635897, 4.859704742050727, 4.846298058867358, 4.458231546903099, 4.106108138041578, 4.101628734419745, 4.101616061527908, 40.53626354721294, 17.54508586804427, 8.139935664756136, 59.61320407078942, 295.57691835944894, 32.48266435377437, 25.994681942863934, 21.87992460233029, 18.716911161605864, 16.126878448586584, 13.980441530637943, 12.7173204193589, 12.469759695148136, 12.197190051399753, 11.679100997220093, 11.19979690485069, 11.020676707030697, 10.701397599308166, 6.79094344164821, 6.5672296931404475, 6.049655488587894, 5.758542781046944, 5.618912284318221, 5.606173853368708, 5.446511693596263, 4.772041162504048, 4.707072904070411, 4.561939563412878, 4.322026418954056, 4.315170328667276, 4.288771710739914, 4.282706827344408, 4.166398001457661, 4.166335270054138, 26.22393526990618, 66.96942411487048, 12.979698188052113, 9.113045809040873, 23.346856087619315, 10.329373249326624, 30.688044361804124, 23.009293318934997, 8.477729281258918], \"Total\": [427.0, 384.0, 359.0, 494.0, 296.0, 333.0, 308.0, 354.0, 322.0, 915.0, 262.0, 243.0, 210.0, 288.0, 208.0, 319.0, 224.0, 96.0, 91.0, 84.0, 85.0, 90.0, 90.0, 80.0, 75.0, 91.0, 182.0, 87.0, 122.0, 66.0, 64.80855609704004, 59.27702615330467, 40.56024624054219, 36.44850533814352, 35.92514249369906, 32.23056832380048, 26.632446389016007, 25.65285370197294, 40.02043457624892, 23.39332497911505, 19.405603883267663, 19.08937356343858, 19.08175869751327, 18.83234969546151, 18.780065285901383, 17.540723384338577, 17.06668592285178, 16.919703788423785, 15.640779421150455, 15.375259026297243, 14.846429879608596, 14.5714217147711, 13.561291088110766, 13.477359336046959, 13.38827361793247, 13.178960117718, 13.152485161798566, 12.806366550554541, 12.581702850553713, 12.422765271149776, 37.775386597837084, 28.94395303945729, 67.2468847364942, 28.909594194808413, 64.9183223245989, 915.0299105648546, 52.02115091041294, 23.722374143182723, 42.665199989368084, 43.60869584593152, 90.01873254198883, 182.306387612316, 91.55686381141916, 322.52232093693846, 359.2847413816506, 58.5591523704153, 27.59337966830669, 25.40765672979135, 21.922554142254633, 20.179451623693147, 19.433932292454926, 14.78799373315494, 11.401006947005012, 9.873732099700232, 8.164210720557652, 7.966115924399228, 7.619526953631874, 7.614598050981601, 7.467759435528533, 7.281246938437481, 6.83058921728491, 6.450016611165608, 87.51089769166553, 5.938037966606382, 5.933887090223204, 5.8255624006562226, 5.782556817186866, 5.677809055669033, 5.292655997321171, 5.287772074141697, 5.259782505198979, 5.00198029778979, 4.845683153962986, 53.44124614650628, 73.97362674852971, 35.58591080194229, 122.58904022067556, 25.99593648961, 27.969165603567134, 494.29003737879634, 319.16720980150495, 11.494577882965935, 915.0299105648546, 25.290811873211027, 83.4045093742983, 41.82223819378816, 52.02115091041294, 182.306387612316, 89.34517093551761, 41.31086913549731, 55.646168177943686, 262.808116401004, 96.91962579226237, 43.66916442385042, 40.54564601249795, 35.29246237016816, 26.183630155830233, 25.903414504580297, 20.141690990232565, 19.482329533138312, 18.335761701485694, 16.981878156452787, 16.0096562607387, 322.52232093693846, 11.231244737579486, 11.222665313411529, 10.776265648115933, 9.897864953557567, 9.83041955555993, 9.754846698330338, 9.48407285228314, 9.48407285228314, 9.48407285228314, 9.407037266154715, 8.98043505411649, 8.578570028934612, 8.084900737885343, 7.776649421585736, 7.7078667862364085, 6.9778160653169135, 6.716356303998447, 41.31086913549731, 21.714791928681194, 105.84495500232818, 12.202773621607381, 224.06963665278, 26.220721569024818, 182.306387612316, 33.79379500181216, 83.4045093742983, 35.58591080194229, 27.969165603567134, 243.26255882594052, 80.90312551309177, 333.78489889895303, 31.194500611393416, 27.665336927038542, 20.60240450461152, 19.140216073106, 17.793942912360123, 15.384542551300138, 13.689753789311922, 13.655104017241102, 11.004387610062306, 10.95711485529914, 10.855491880957032, 10.645834848082869, 9.81703494314009, 9.70638146910189, 9.639549748643882, 9.107016295084788, 8.691970229302651, 8.151773257711389, 7.690296271980703, 7.640167989462485, 7.541817663592945, 7.4676824555995225, 7.417707340070889, 6.650832712159386, 6.597676174253625, 6.1635517273714475, 6.122287249550976, 12.02377005862568, 22.030458134650967, 25.508231968144628, 17.676325306805378, 21.202643268930608, 12.835081449822829, 63.54501324095404, 63.66272623436089, 13.177351037939468, 494.29003737879634, 33.79379500181216, 22.367958787931634, 182.306387612316, 83.4045093742983, 308.4003662626872, 51.007415243049216, 50.835259588613525, 41.17055518757276, 33.23171247262087, 27.864297385486527, 23.45480271356287, 22.169781363600258, 21.162914222737275, 16.458911635761787, 12.86962124024016, 10.936463328576341, 10.691978890553678, 10.64901210145407, 10.53488560250289, 9.660733267735656, 9.628154806380333, 9.036268404365787, 7.961059900561734, 7.4366722019137805, 7.36643218460585, 7.199893378721224, 7.064266225656654, 5.959034883703428, 5.785729622392337, 5.721208365492061, 5.721196288609034, 5.721199405860582, 5.721199405860582, 5.721199405860582, 55.646168177943686, 224.06963665278, 18.891054014908867, 17.24963334543998, 915.0299105648546, 22.367958787931634, 319.16720980150495, 32.32779956241573, 13.409971603708719, 43.60869584593152, 208.69173858111887, 91.67246959940833, 75.39210955417961, 26.75206070776583, 24.450027076734603, 22.915134483872393, 20.95651907431224, 17.486351401591353, 16.736688472144422, 14.938312773445043, 13.430399978347914, 12.137221675731178, 10.58626531479276, 9.914341786320792, 9.841074884426583, 9.631539852900152, 9.249381828649943, 9.198298959515663, 9.008132374470522, 8.997092278772989, 8.965383405166975, 8.67971858042365, 8.173914183708867, 8.130845097127878, 8.13009220698283, 7.758189947268433, 7.668800380560514, 7.421845141053692, 7.327800630414478, 6.4151565855213954, 24.603523255285648, 15.527089021223933, 63.66272623436089, 288.8467763890176, 35.297258348893514, 915.0299105648546, 25.290811873211027, 64.9183223245989, 33.79379500181216, 25.508231968144628, 61.79432416354326, 85.56811115319506, 66.12759242601994, 36.775096629293834, 26.128797792485802, 90.40406627877908, 18.024483522302525, 16.40178682620954, 16.30082785115401, 14.08409742950966, 10.831752019077339, 10.438674334885203, 10.014935165304355, 9.995767428408696, 8.267337063549267, 8.248369782694494, 7.874386098828619, 7.101000440668005, 6.9217419391322315, 6.492237171404751, 6.488580360585543, 6.266152025661864, 6.206855450691867, 5.56313967174989, 5.4913432804218365, 5.10637716053498, 5.078950445185516, 4.956860796723491, 4.8494217334293666, 4.849444087194322, 4.841065711474075, 494.29003737879634, 288.8467763890176, 319.16720980150495, 105.84495500232818, 8.16802865032081, 31.38696664657298, 64.9183223245989, 42.665199989368084, 427.29744777370775, 50.28092711107795, 36.202306405521995, 32.27367274541149, 27.88832060197709, 26.52260151308735, 21.01096731651741, 19.117854488650067, 18.775556359425714, 17.439369519344357, 17.416390619831194, 16.744103035018373, 15.402448285778446, 13.82079903280969, 13.691120935675617, 12.76467367072718, 11.747764362136182, 45.064913012769026, 10.964750534947143, 10.910449490899172, 10.432503773449072, 9.939901884471896, 9.154776809664249, 9.035057292663014, 8.953869483715401, 8.684898697304929, 7.98071617417566, 7.646475623379154, 7.409824398782478, 7.084093078249671, 61.79432416354326, 91.55686381141916, 21.3588756186976, 915.0299105648546, 122.58904022067556, 105.84495500232818, 16.184303577521515, 59.055201055951436, 44.270355333611505, 33.378738145451415, 20.23033738964326, 20.06004812225488, 19.13621789353113, 17.102351226589946, 14.533722086084937, 13.389105201342518, 12.539863917281957, 12.30697943260757, 11.46888514296142, 11.125226466107753, 9.70150876204481, 9.552525057379622, 12.97336252594956, 11.093546898207194, 8.164770936006551, 7.671446665794577, 6.587904251632682, 6.474345726775462, 6.436491659181712, 13.478428707904857, 5.852289669843537, 5.8505564512331345, 5.5402665426268385, 5.403929748915298, 4.99675164007975, 4.9916921055993315, 31.405899259858153, 354.14830244247287, 48.449413234246386, 89.34517093551761, 28.122569186373696, 32.32779956241573, 25.6108792796353, 915.0299105648546, 42.665199989368084, 9.657042328400344, 27.24302579420562, 42.229368211949755, 43.60869584593152, 73.97362674852971, 84.63614664155152, 30.15044806425742, 27.506688906988114, 25.161144274126652, 24.98607258318938, 20.259343349972635, 20.0760615087864, 18.994913811063064, 17.47925878261557, 15.72837339283494, 14.829140338120144, 14.29669345483083, 13.955374180277223, 12.659581273460029, 12.638249742668565, 11.847598830557676, 11.664381216297242, 11.528645312575446, 11.524043476336331, 11.112844713164328, 10.27292873667084, 9.912282546843599, 9.496015782815931, 50.93904646607348, 9.428942956652586, 9.186820159279199, 8.755771221484782, 8.748055811306495, 8.491052737273378, 8.435149373081043, 28.083600568704036, 182.306387612316, 41.82223819378816, 31.38696664657298, 37.78739655190546, 83.4045093742983, 26.220721569024818, 24.859761992862623, 915.0299105648546, 87.51089769166553, 384.3735834991925, 210.5236412610388, 41.75999093427315, 37.01078679591807, 35.371083575699245, 34.91030802631871, 18.188416888539184, 11.24739042661161, 10.630159574734177, 10.043732127190665, 8.681185631084329, 8.661768315867143, 8.474981649195781, 7.845331677511254, 7.562847509227757, 7.111493948904643, 7.111493948904643, 6.96593532477403, 6.532591738450964, 6.518954779470818, 6.274676409622906, 6.018777552939029, 6.018782219192287, 5.831899932478946, 5.682371248306171, 5.668763923145568, 5.280673793301288, 4.928538412170744, 4.924061252103647, 4.92406644071547, 63.54501324095404, 25.454669929609327, 13.797740151805948, 354.14830244247287, 296.3960270333596, 33.30176908287569, 26.813811330018492, 22.699063307366306, 19.53603652981689, 16.946042717964644, 14.799564157951961, 13.536451458940387, 13.288882980145502, 13.016310723123809, 12.49830153705595, 12.018921627077383, 11.839912670344455, 11.520539703057809, 7.619970439631185, 7.386430872096083, 6.868770291971953, 6.5777132742508355, 6.438084840813485, 6.425294966514904, 6.2656357449914895, 5.591746063671141, 5.526190730675825, 5.381257808973713, 5.141139211402762, 5.134309588332869, 5.107932660215445, 5.1018287591177875, 4.985623308529425, 4.985651050662698, 32.45574200681277, 90.01873254198883, 17.338822239784278, 13.226608349819632, 67.2468847364942, 27.24302579420562, 224.06963665278, 182.306387612316, 53.44124614650628], \"Category\": [\"Default\", \"Default\", \"Default\", \"Default\", \"Default\", \"Default\", \"Default\", \"Default\", \"Default\", \"Default\", \"Default\", \"Default\", \"Default\", \"Default\", \"Default\", \"Default\", \"Default\", \"Default\", \"Default\", \"Default\", \"Default\", \"Default\", \"Default\", \"Default\", \"Default\", \"Default\", \"Default\", \"Default\", \"Default\", \"Default\", \"Topic1\", \"Topic1\", \"Topic1\", \"Topic1\", \"Topic1\", \"Topic1\", \"Topic1\", \"Topic1\", \"Topic1\", \"Topic1\", \"Topic1\", \"Topic1\", \"Topic1\", \"Topic1\", \"Topic1\", \"Topic1\", \"Topic1\", \"Topic1\", \"Topic1\", \"Topic1\", \"Topic1\", \"Topic1\", \"Topic1\", \"Topic1\", \"Topic1\", \"Topic1\", \"Topic1\", \"Topic1\", \"Topic1\", \"Topic1\", \"Topic1\", \"Topic1\", \"Topic1\", \"Topic1\", \"Topic1\", \"Topic1\", \"Topic1\", \"Topic1\", \"Topic1\", \"Topic1\", \"Topic1\", \"Topic1\", \"Topic1\", \"Topic1\", \"Topic2\", \"Topic2\", \"Topic2\", \"Topic2\", \"Topic2\", \"Topic2\", \"Topic2\", \"Topic2\", \"Topic2\", \"Topic2\", \"Topic2\", \"Topic2\", \"Topic2\", \"Topic2\", \"Topic2\", \"Topic2\", \"Topic2\", \"Topic2\", \"Topic2\", \"Topic2\", \"Topic2\", \"Topic2\", \"Topic2\", \"Topic2\", \"Topic2\", \"Topic2\", \"Topic2\", \"Topic2\", \"Topic2\", \"Topic2\", \"Topic2\", \"Topic2\", \"Topic2\", \"Topic2\", \"Topic2\", \"Topic2\", \"Topic2\", \"Topic2\", \"Topic2\", \"Topic2\", \"Topic2\", \"Topic2\", \"Topic2\", \"Topic2\", \"Topic2\", \"Topic2\", \"Topic2\", \"Topic3\", \"Topic3\", \"Topic3\", \"Topic3\", \"Topic3\", \"Topic3\", \"Topic3\", \"Topic3\", \"Topic3\", \"Topic3\", \"Topic3\", \"Topic3\", \"Topic3\", \"Topic3\", \"Topic3\", \"Topic3\", \"Topic3\", \"Topic3\", \"Topic3\", \"Topic3\", \"Topic3\", \"Topic3\", \"Topic3\", \"Topic3\", \"Topic3\", \"Topic3\", \"Topic3\", \"Topic3\", \"Topic3\", \"Topic3\", \"Topic3\", \"Topic3\", \"Topic3\", \"Topic3\", \"Topic3\", \"Topic3\", \"Topic3\", \"Topic3\", \"Topic3\", \"Topic3\", \"Topic3\", \"Topic4\", \"Topic4\", \"Topic4\", \"Topic4\", \"Topic4\", \"Topic4\", \"Topic4\", \"Topic4\", \"Topic4\", \"Topic4\", \"Topic4\", \"Topic4\", \"Topic4\", \"Topic4\", \"Topic4\", \"Topic4\", \"Topic4\", \"Topic4\", \"Topic4\", \"Topic4\", \"Topic4\", \"Topic4\", \"Topic4\", \"Topic4\", \"Topic4\", \"Topic4\", \"Topic4\", \"Topic4\", \"Topic4\", \"Topic4\", \"Topic4\", \"Topic4\", \"Topic4\", \"Topic4\", \"Topic4\", \"Topic4\", \"Topic4\", \"Topic4\", \"Topic4\", \"Topic4\", \"Topic4\", \"Topic4\", \"Topic4\", \"Topic4\", \"Topic5\", \"Topic5\", \"Topic5\", \"Topic5\", \"Topic5\", \"Topic5\", \"Topic5\", \"Topic5\", \"Topic5\", \"Topic5\", \"Topic5\", \"Topic5\", \"Topic5\", \"Topic5\", \"Topic5\", \"Topic5\", \"Topic5\", \"Topic5\", \"Topic5\", \"Topic5\", \"Topic5\", \"Topic5\", \"Topic5\", \"Topic5\", \"Topic5\", \"Topic5\", \"Topic5\", \"Topic5\", \"Topic5\", \"Topic5\", \"Topic5\", \"Topic5\", \"Topic5\", \"Topic5\", \"Topic5\", \"Topic5\", \"Topic5\", \"Topic5\", \"Topic5\", \"Topic5\", \"Topic6\", \"Topic6\", \"Topic6\", \"Topic6\", \"Topic6\", \"Topic6\", \"Topic6\", \"Topic6\", \"Topic6\", \"Topic6\", \"Topic6\", \"Topic6\", \"Topic6\", \"Topic6\", \"Topic6\", \"Topic6\", \"Topic6\", \"Topic6\", \"Topic6\", \"Topic6\", \"Topic6\", \"Topic6\", \"Topic6\", \"Topic6\", \"Topic6\", \"Topic6\", \"Topic6\", \"Topic6\", \"Topic6\", \"Topic6\", \"Topic6\", \"Topic6\", \"Topic6\", \"Topic6\", \"Topic6\", \"Topic6\", \"Topic6\", \"Topic6\", \"Topic6\", \"Topic6\", \"Topic6\", \"Topic7\", \"Topic7\", \"Topic7\", \"Topic7\", \"Topic7\", \"Topic7\", \"Topic7\", \"Topic7\", \"Topic7\", \"Topic7\", \"Topic7\", \"Topic7\", \"Topic7\", \"Topic7\", \"Topic7\", \"Topic7\", \"Topic7\", \"Topic7\", \"Topic7\", \"Topic7\", \"Topic7\", \"Topic7\", \"Topic7\", \"Topic7\", \"Topic7\", \"Topic7\", \"Topic7\", \"Topic7\", \"Topic7\", \"Topic7\", \"Topic7\", \"Topic7\", \"Topic7\", \"Topic7\", \"Topic7\", \"Topic7\", \"Topic7\", \"Topic7\", \"Topic8\", \"Topic8\", \"Topic8\", \"Topic8\", \"Topic8\", \"Topic8\", \"Topic8\", \"Topic8\", \"Topic8\", \"Topic8\", \"Topic8\", \"Topic8\", \"Topic8\", \"Topic8\", \"Topic8\", \"Topic8\", \"Topic8\", \"Topic8\", \"Topic8\", \"Topic8\", \"Topic8\", \"Topic8\", \"Topic8\", \"Topic8\", \"Topic8\", \"Topic8\", \"Topic8\", \"Topic8\", \"Topic8\", \"Topic8\", \"Topic8\", \"Topic8\", \"Topic8\", \"Topic8\", \"Topic8\", \"Topic8\", \"Topic8\", \"Topic9\", \"Topic9\", \"Topic9\", \"Topic9\", \"Topic9\", \"Topic9\", \"Topic9\", \"Topic9\", \"Topic9\", \"Topic9\", \"Topic9\", \"Topic9\", \"Topic9\", \"Topic9\", \"Topic9\", \"Topic9\", \"Topic9\", \"Topic9\", \"Topic9\", \"Topic9\", \"Topic9\", \"Topic9\", \"Topic9\", \"Topic9\", \"Topic9\", \"Topic9\", \"Topic9\", \"Topic9\", \"Topic9\", \"Topic9\", \"Topic9\", \"Topic9\", \"Topic9\", \"Topic9\", \"Topic9\", \"Topic9\", \"Topic9\", \"Topic9\", \"Topic9\", \"Topic9\", \"Topic9\", \"Topic9\", \"Topic9\", \"Topic10\", \"Topic10\", \"Topic10\", \"Topic10\", \"Topic10\", \"Topic10\", \"Topic10\", \"Topic10\", \"Topic10\", \"Topic10\", \"Topic10\", \"Topic10\", \"Topic10\", \"Topic10\", \"Topic10\", \"Topic10\", \"Topic10\", \"Topic10\", \"Topic10\", \"Topic10\", \"Topic10\", \"Topic10\", \"Topic10\", \"Topic10\", \"Topic10\", \"Topic10\", \"Topic10\", \"Topic10\", \"Topic10\", \"Topic10\", \"Topic10\", \"Topic10\", \"Topic10\", \"Topic10\", \"Topic10\", \"Topic10\", \"Topic10\", \"Topic10\", \"Topic10\", \"Topic10\", \"Topic11\", \"Topic11\", \"Topic11\", \"Topic11\", \"Topic11\", \"Topic11\", \"Topic11\", \"Topic11\", \"Topic11\", \"Topic11\", \"Topic11\", \"Topic11\", \"Topic11\", \"Topic11\", \"Topic11\", \"Topic11\", \"Topic11\", \"Topic11\", \"Topic11\", \"Topic11\", \"Topic11\", \"Topic11\", \"Topic11\", \"Topic11\", \"Topic11\", \"Topic11\", \"Topic11\", \"Topic11\", \"Topic11\", \"Topic11\", \"Topic11\", \"Topic11\", \"Topic11\", \"Topic11\", \"Topic12\", \"Topic12\", \"Topic12\", \"Topic12\", \"Topic12\", \"Topic12\", \"Topic12\", \"Topic12\", \"Topic12\", \"Topic12\", \"Topic12\", \"Topic12\", \"Topic12\", \"Topic12\", \"Topic12\", \"Topic12\", \"Topic12\", \"Topic12\", \"Topic12\", \"Topic12\", \"Topic12\", \"Topic12\", \"Topic12\", \"Topic12\", \"Topic12\", \"Topic12\", \"Topic12\", \"Topic12\", \"Topic12\", \"Topic12\", \"Topic12\", \"Topic12\", \"Topic12\", \"Topic12\", \"Topic12\", \"Topic12\", \"Topic12\", \"Topic12\", \"Topic12\"], \"logprob\": [30.0, 29.0, 28.0, 27.0, 26.0, 25.0, 24.0, 23.0, 22.0, 21.0, 20.0, 19.0, 18.0, 17.0, 16.0, 15.0, 14.0, 13.0, 12.0, 11.0, 10.0, 9.0, 8.0, 7.0, 6.0, 5.0, 4.0, 3.0, 2.0, 1.0, -3.6965, -3.7869, -4.1725, -4.2816, -4.2964, -4.4075, -4.6035, -4.6422, -4.2004, -4.7374, -4.9315, -4.9486, -4.949, -4.9627, -4.9656, -5.037, -5.0657, -5.0748, -5.1573, -5.1754, -5.2123, -5.232, -5.3081, -5.3147, -5.3218, -5.3385, -5.3407, -5.369, -5.3879, -5.4015, -4.4016, -4.6851, -4.1327, -4.7756, -4.2206, -2.7138, -4.4939, -5.0679, -4.8656, -4.9174, -4.7498, -4.6846, -4.824, -4.9905, -1.5723, -3.3982, -4.1666, -4.2518, -4.4046, -4.4908, -4.5301, -4.8172, -5.0948, -5.2506, -5.4598, -5.4871, -5.5368, -5.5375, -5.5594, -5.5878, -5.6601, -5.7255, -3.1213, -5.8207, -5.8216, -5.843, -5.8516, -5.8729, -5.9555, -5.9565, -5.9628, -6.0226, -6.0607, -3.6651, -3.3639, -4.2327, -3.1123, -4.5531, -4.5502, -2.5844, -3.104, -5.4314, -2.8619, -5.0416, -4.5811, -4.9574, -4.9354, -4.65, -5.2886, -5.3973, -5.4375, -1.8766, -2.8795, -3.6872, -3.7628, -3.9047, -4.2115, -4.2226, -4.4836, -4.5183, -4.5817, -4.6621, -4.7242, -1.7271, -5.1018, -5.1027, -5.1465, -5.2389, -5.2463, -5.2547, -5.2855, -5.2855, -5.2855, -5.2944, -5.3454, -5.3959, -5.4616, -5.5049, -5.5149, -5.6269, -5.6703, -3.9563, -4.6591, -4.0937, -5.2755, -3.9216, -5.0246, -4.4795, -5.0304, -4.9897, -5.1655, -5.2507, -1.9487, -3.0562, -1.6488, -4.0253, -4.1488, -4.4539, -4.5306, -4.6068, -4.7598, -4.8833, -4.886, -5.117, -5.1217, -5.1317, -5.1528, -5.2408, -5.2531, -5.2607, -5.3229, -5.3741, -5.445, -5.5099, -5.5172, -5.5317, -5.5428, -5.5503, -5.6735, -5.6827, -5.7605, -5.7683, -5.1363, -4.7017, -4.6536, -4.9389, -4.8987, -5.2286, -4.3363, -4.3359, -5.2801, -3.8051, -5.0126, -5.1745, -4.8657, -5.0368, -1.6623, -3.4751, -3.4785, -3.6932, -3.9122, -4.0932, -4.2711, -4.3296, -4.3778, -4.6407, -4.9012, -5.0759, -5.1003, -5.1047, -5.1164, -5.2106, -5.2142, -5.2837, -5.4238, -5.5, -5.5106, -5.5363, -5.5578, -5.7522, -5.7865, -5.7995, -5.7995, -5.7995, -5.7995, -5.7995, -3.5326, -2.3702, -4.7496, -4.8564, -2.0304, -4.9081, -3.4121, -5.3383, -5.4652, -5.4951, -2.0534, -2.881, -3.0785, -4.1345, -4.2275, -4.2946, -4.3874, -4.5764, -4.6224, -4.7423, -4.8551, -4.9633, -5.1105, -5.1818, -5.1898, -5.2133, -5.2576, -5.2637, -5.2866, -5.288, -5.2918, -5.3275, -5.3939, -5.3998, -5.3999, -5.452, -5.465, -5.5017, -5.516, -5.6669, -4.3362, -4.8059, -3.6852, -2.8361, -4.3962, -2.8468, -4.7961, -4.6635, -5.1776, -5.2427, -5.227, -2.9409, -3.2015, -3.7984, -4.1495, -2.9202, -4.5356, -4.6347, -4.6412, -4.7957, -5.0771, -5.1172, -5.1623, -5.1644, -5.3732, -5.3757, -5.4274, -5.5436, -5.5725, -5.6456, -5.6471, -5.6863, -5.6972, -5.8246, -5.8399, -5.9259, -5.9324, -5.9615, -5.9878, -5.9878, -5.9899, -1.5956, -2.1175, -2.1465, -3.2906, -5.5918, -4.9258, -4.9755, -5.754, -1.3115, -3.4656, -3.8005, -3.9181, -4.0682, -4.12, -4.3612, -4.4596, -4.4784, -4.5557, -4.5571, -4.5984, -4.6864, -4.8011, -4.8111, -4.8857, -4.9746, -3.6324, -5.0488, -5.0542, -5.1027, -5.1552, -5.2451, -5.2595, -5.2694, -5.303, -5.3967, -5.4444, -5.4796, -5.5302, -3.4089, -3.1169, -4.6154, -3.4167, -4.3654, -4.5399, -5.2417, -3.2994, -3.5921, -3.8805, -4.3975, -4.4063, -4.4555, -4.5731, -4.7447, -4.8318, -4.9016, -4.9217, -4.9974, -5.0301, -5.1786, -5.1955, -4.8953, -5.0558, -5.3683, -5.4377, -5.6095, -5.6294, -5.6361, -4.9064, -5.7457, -5.7461, -5.8095, -5.8388, -5.9316, -5.9327, -4.0975, -1.6811, -3.6857, -3.166, -4.275, -4.194, -4.5284, -1.7818, -4.5281, -5.397, -4.8284, -4.6534, -4.796, -4.7627, -2.9077, -3.9577, -4.0521, -4.1441, -4.1514, -4.369, -4.3785, -4.4363, -4.5233, -4.6344, -4.6966, -4.7353, -4.761, -4.8648, -4.8666, -4.9359, -4.9526, -4.9652, -4.9657, -5.0048, -5.0899, -5.1288, -5.1757, -3.4963, -5.1835, -5.212, -5.2649, -5.2659, -5.2988, -5.3061, -4.2297, -2.9042, -4.1846, -4.3926, -4.2755, -3.9857, -4.6817, -4.9391, -4.3189, -4.9757, -1.2416, -1.8454, -3.479, -3.6024, -3.6487, -3.6622, -4.3366, -4.8469, -4.9079, -4.9696, -5.1295, -5.1319, -5.1561, -5.2419, -5.283, -5.3523, -5.3523, -5.3757, -5.4489, -5.4512, -5.4951, -5.5431, -5.5431, -5.5798, -5.6101, -5.6129, -5.6963, -5.7786, -5.7797, -5.7797, -3.4889, -4.3263, -5.0943, -3.1032, -1.4125, -3.6207, -3.8435, -4.0158, -4.172, -4.3209, -4.4637, -4.5584, -4.5781, -4.6002, -4.6436, -4.6855, -4.7016, -4.731, -5.1858, -5.2193, -5.3014, -5.3507, -5.3752, -5.3775, -5.4064, -5.5386, -5.5523, -5.5836, -5.6377, -5.6392, -5.6454, -5.6468, -5.6743, -5.6743, -3.8347, -2.8971, -4.538, -4.8917, -3.9509, -4.7664, -3.6775, -3.9655, -4.9639], \"loglift\": [30.0, 29.0, 28.0, 27.0, 26.0, 25.0, 24.0, 23.0, 22.0, 21.0, 20.0, 19.0, 18.0, 17.0, 16.0, 15.0, 14.0, 13.0, 12.0, 11.0, 10.0, 9.0, 8.0, 7.0, 6.0, 5.0, 4.0, 3.0, 2.0, 1.0, 2.0257, 2.0246, 2.0183, 2.0161, 2.0158, 2.0132, 2.008, 2.0068, 2.0038, 2.0038, 1.9966, 1.9959, 1.9959, 1.9953, 1.9952, 1.9921, 1.9908, 1.9904, 1.9864, 1.9855, 1.9836, 1.9825, 1.9783, 1.9779, 1.9775, 1.9765, 1.9764, 1.9747, 1.9735, 1.9726, 1.8604, 1.8432, 1.5526, 1.7539, 1.4999, 0.3609, 1.4481, 1.6593, 1.2747, 1.201, 0.6438, 0.0034, 0.5527, -0.873, 2.4372, 2.4254, 2.4094, 2.4068, 2.4015, 2.3982, 2.3965, 2.3827, 2.3651, 2.3531, 2.3341, 2.3313, 2.3261, 2.326, 2.3237, 2.3205, 2.3121, 2.3041, 2.3006, 2.2915, 2.2914, 2.2884, 2.2872, 2.2842, 2.2718, 2.2717, 2.2707, 2.2612, 2.2549, 2.2499, 2.226, 2.089, 1.9725, 2.0826, 2.0124, 1.1061, 1.0239, 2.0203, 0.2128, 1.6216, 0.8888, 1.2028, 1.0066, 0.038, 0.1126, 0.7752, 0.4371, 2.4456, 2.4403, 2.4298, 2.4284, 2.4253, 2.417, 2.4167, 2.4073, 2.4059, 2.4031, 2.3994, 2.3963, 2.3904, 2.3731, 2.373, 2.3698, 2.3625, 2.3618, 2.3611, 2.3585, 2.3585, 2.3585, 2.3578, 2.3532, 2.3485, 2.3421, 2.3376, 2.3365, 2.324, 2.3188, 2.2162, 2.1566, 1.1379, 2.1164, 0.5601, 1.6025, 0.2085, 1.343, 0.4803, 1.1562, 1.3119, 2.4508, 2.4442, 2.4343, 2.4281, 2.4247, 2.4144, 2.4113, 2.4079, 2.4005, 2.3937, 2.3935, 2.3783, 2.378, 2.3772, 2.3757, 2.3687, 2.3677, 2.3671, 2.3617, 2.3571, 2.3504, 2.3438, 2.343, 2.3415, 2.3403, 2.3395, 2.3254, 2.3243, 2.3145, 2.3134, 2.2704, 2.0995, 2.001, 2.0825, 1.9408, 2.1128, 1.4056, 1.4042, 2.0351, -0.1145, 1.3608, 1.6115, -0.1778, 0.4331, 2.4999, 2.4866, 2.4865, 2.4827, 2.4779, 2.4731, 2.4674, 2.4653, 2.4635, 2.4521, 2.4376, 2.4256, 2.4238, 2.4235, 2.4226, 2.415, 2.4147, 2.4087, 2.3952, 2.3872, 2.3861, 2.3832, 2.3808, 2.3565, 2.3518, 2.3499, 2.3499, 2.3499, 2.3499, 2.3499, 2.342, 2.1115, 2.2053, 2.1894, 1.0443, 1.8779, 0.7158, 1.0794, 1.8324, 0.6232, 2.4994, 2.4944, 2.4925, 2.4725, 2.4695, 2.4672, 2.4638, 2.4558, 2.4536, 2.4474, 2.441, 2.4341, 2.4236, 2.4179, 2.4173, 2.4153, 2.4115, 2.411, 2.4089, 2.4088, 2.4084, 2.4052, 2.3988, 2.3982, 2.3982, 2.3928, 2.3915, 2.3875, 2.386, 2.3681, 2.3545, 2.3452, 2.0548, 1.3916, 1.9336, 0.2279, 1.867, 1.057, 1.1958, 1.412, 0.5428, 2.5034, 2.5006, 2.4905, 2.4811, 2.4692, 2.4663, 2.4616, 2.4613, 2.4529, 2.434, 2.4309, 2.4273, 2.4271, 2.4082, 2.4079, 2.4026, 2.3898, 2.3864, 2.3774, 2.3765, 2.3722, 2.3708, 2.3529, 2.3506, 2.3372, 2.3362, 2.3314, 2.327, 2.3269, 2.3266, 2.0949, 2.1102, 1.9814, 1.941, 2.2017, 1.5214, 0.745, 0.3863, 2.5247, 2.5104, 2.504, 2.5013, 2.4972, 2.4957, 2.4874, 2.4834, 2.4826, 2.4792, 2.4791, 2.4772, 2.4728, 2.4664, 2.4658, 2.4613, 2.4554, 2.4531, 2.4501, 2.4497, 2.4461, 2.4419, 2.4343, 2.433, 2.4321, 2.429, 2.4199, 2.415, 2.4112, 2.4056, 2.361, 2.2598, 2.2168, -0.342, 0.7194, 0.6918, 1.8679, 2.5157, 2.5113, 2.5052, 2.4889, 2.4886, 2.4865, 2.4813, 2.4725, 2.4674, 2.4631, 2.4618, 2.4566, 2.4543, 2.4427, 2.4413, 2.4354, 2.4314, 2.4255, 2.4184, 2.3989, 2.3964, 2.3956, 2.3862, 2.3811, 2.381, 2.3721, 2.3677, 2.3533, 2.3531, 2.3491, 2.3428, 2.3274, 2.2351, 2.2821, 2.2237, 2.1223, 1.2928, 1.6122, 2.229, 1.7605, 1.4971, 1.3224, 0.8272, 2.5476, 2.5298, 2.5271, 2.5242, 2.524, 2.516, 2.5156, 2.5132, 2.5093, 2.5038, 2.5005, 2.4983, 2.4968, 2.4904, 2.4903, 2.4856, 2.4845, 2.4836, 2.4835, 2.4807, 2.4742, 2.471, 2.4671, 2.4667, 2.4664, 2.4639, 2.459, 2.4589, 2.4558, 2.4551, 2.3288, 1.7837, 1.9756, 2.0547, 1.9861, 1.4843, 1.9454, 1.7413, -1.2442, 0.4462, 2.7004, 2.6986, 2.6827, 2.6801, 2.679, 2.6787, 2.6563, 2.6266, 2.622, 2.6171, 2.603, 2.6028, 2.6005, 2.5918, 2.5874, 2.5797, 2.5797, 2.5769, 2.568, 2.5677, 2.5621, 2.5556, 2.5556, 2.5505, 2.5462, 2.5458, 2.5332, 2.52, 2.5198, 2.5198, 2.253, 2.3304, 2.1748, 0.9207, 2.7895, 2.7674, 2.7612, 2.7555, 2.7494, 2.7427, 2.7353, 2.7298, 2.7286, 2.7273, 2.7245, 2.7217, 2.7206, 2.7185, 2.6771, 2.6747, 2.6653, 2.6593, 2.6562, 2.6559, 2.6522, 2.6337, 2.6318, 2.6271, 2.6187, 2.6184, 2.6175, 2.6172, 2.6127, 2.6127, 2.5791, 2.4965, 2.5027, 2.4197, 1.7343, 1.8224, 0.8042, 0.7225, 0.9511]}, \"token.table\": {\"Topic\": [2, 2, 2, 11, 4, 8, 9, 6, 8, 5, 11, 4, 4, 2, 6, 1, 12, 7, 2, 10, 2, 5, 2, 5, 7, 4, 5, 4, 1, 5, 4, 6, 1, 12, 3, 3, 4, 4, 2, 1, 11, 2, 1, 10, 12, 7, 4, 3, 1, 11, 5, 11, 1, 4, 1, 6, 9, 12, 6, 10, 4, 9, 1, 7, 5, 2, 4, 1, 10, 11, 8, 5, 5, 12, 3, 7, 2, 9, 12, 1, 2, 9, 12, 3, 4, 8, 5, 10, 5, 10, 3, 10, 4, 11, 5, 1, 10, 9, 2, 6, 8, 9, 9, 10, 8, 9, 12, 11, 11, 5, 6, 10, 8, 8, 10, 8, 4, 5, 8, 5, 6, 9, 12, 1, 11, 12, 7, 3, 9, 12, 4, 6, 1, 3, 9, 4, 5, 12, 5, 7, 9, 12, 4, 1, 4, 6, 8, 4, 1, 1, 8, 4, 5, 5, 3, 10, 2, 10, 3, 8, 2, 3, 10, 7, 5, 2, 10, 1, 7, 9, 1, 9, 6, 11, 11, 3, 11, 1, 2, 3, 8, 11, 4, 1, 4, 11, 4, 4, 3, 11, 10, 9, 8, 7, 12, 7, 5, 6, 7, 1, 2, 5, 9, 6, 9, 10, 6, 11, 4, 2, 3, 5, 2, 10, 1, 3, 4, 6, 9, 2, 3, 2, 7, 1, 10, 10, 7, 4, 6, 6, 9, 10, 12, 12, 12, 1, 7, 7, 12, 8, 2, 2, 9, 9, 8, 5, 6, 10, 9, 5, 12, 1, 6, 6, 3, 10, 10, 6, 6, 9, 1, 2, 9, 4, 9, 3, 7, 8, 2, 4, 7, 4, 12, 10, 6, 12, 9, 9, 2, 3, 1, 10, 1, 2, 3, 4, 7, 10, 12, 1, 12, 12, 10, 1, 2, 3, 4, 10, 4, 10, 7, 1, 6, 11, 1, 2, 5, 6, 8, 9, 10, 2, 3, 9, 10, 2, 5, 7, 6, 7, 10, 3, 2, 11, 7, 3, 7, 8, 1, 12, 1, 1, 4, 6, 3, 6, 9, 7, 8, 8, 12, 10, 11, 4, 6, 7, 5, 2, 9, 10, 11, 5, 5, 1, 10, 6, 8, 6, 12, 6, 2, 7, 5, 9, 8, 11, 5, 12, 1, 9, 3, 5, 5, 5, 11, 5, 1, 8, 8, 11, 6, 2, 5, 3, 8, 1, 2, 10, 1, 1, 6, 4, 7, 1, 3, 7, 8, 2, 6, 10, 1, 3, 5, 10, 12, 1, 6, 2, 12, 4, 12, 1, 3, 4, 2, 4, 6, 1, 3, 3, 8, 8, 8, 3, 6, 3, 2, 6, 12, 9, 3, 1, 6, 11, 4, 11, 2, 2, 6, 7, 4, 7, 10, 2, 4, 11, 6, 10, 12, 9, 2, 7, 5, 9, 10, 1, 10, 9, 6, 4, 1, 6, 11, 4, 2, 8, 3, 3, 1, 6, 7, 2, 12, 10, 5, 8, 1, 9, 5, 2, 3, 9, 7, 11, 1, 8, 12, 12, 5, 2, 3, 2, 7, 12, 9, 8, 2, 4, 6, 8, 8, 3, 7, 9, 11, 8, 12, 4, 1, 3, 5, 9, 10, 10, 11, 10, 4, 2, 3, 9, 12, 6, 7, 1, 2, 3, 1, 10, 11, 6, 1, 12, 6, 2, 10, 7, 12, 9, 3, 7, 7, 1, 11, 5, 12, 12, 11, 3, 2, 12, 7], \"Freq\": [0.8426179878343327, 0.824034681247546, 0.7557642140400893, 0.8307328323088908, 0.6808755364195992, 0.2269585121398664, 0.04539170242797328, 0.9718877466681468, 0.9738711483842449, 0.9502564911448436, 0.9255773029218158, 0.8166882402270021, 0.9102380132614954, 0.12193375594511656, 0.8535362916158159, 0.9370339317267454, 0.7840325869133411, 0.8248368118239768, 0.8582862316326357, 0.9494985654133942, 0.8254770014685435, 0.9324283734535196, 0.24125285316084788, 0.16605715866915502, 0.5890329401849272, 0.44706806261621784, 0.5364816751394614, 0.9750046158332059, 0.9586107926993137, 0.8493451136097683, 0.6272484906041796, 0.35282727596485103, 0.8291887416788736, 0.1381981236131456, 0.9752427176473996, 0.9651237289809591, 0.8784435802885009, 0.9948098925209288, 0.9776714107096381, 0.9784566427134525, 0.9439548462926933, 0.9467139527258357, 0.6096936707277641, 0.02974115466964703, 0.34202327870094085, 0.8248406139697236, 0.9496153254523513, 0.9489593912000995, 0.9558021325579941, 0.85735353107725, 0.9492272035326316, 0.8123367237544418, 0.9105422501329988, 0.9520249705594362, 0.9745021615318861, 0.024987234911074, 0.9249722248952327, 0.7790726155449493, 0.9216888688123258, 0.9440870934379968, 0.9167737562438836, 0.9124745703064819, 0.9755933200438826, 0.9105240274863872, 0.9412812357385598, 0.2828642216759273, 0.6788741320222255, 0.6744687485083798, 0.29508007747241616, 0.9184716021183263, 0.8738607359116383, 0.9802496315829982, 0.9450494288972807, 0.9603698605526282, 0.8933415275225975, 0.8986578396612604, 0.14682656875987574, 0.4771863484695961, 0.36706642189968935, 0.145503107374235, 0.10073292048985501, 0.7499006303133651, 0.9319541677928352, 0.9325563553152616, 0.9281582122823663, 0.9120134533045449, 0.8739426202970985, 0.9079644327598289, 0.8792799058710862, 0.9725812868511204, 0.9155255225001808, 0.9541450622998351, 0.9404282548979098, 0.8115996397881831, 0.9316063026041373, 0.986187306723444, 0.9144889073135926, 0.9276907562265654, 0.9579175794814686, 0.14564444424023204, 0.8415012333880074, 0.9591167635636162, 0.940624741009287, 0.8760890132405066, 0.9605352401178892, 0.9107600491481064, 0.7980036190257006, 0.8922503582691846, 0.92153311079477, 0.8641952400694027, 0.9721867992686517, 0.9421682148883858, 0.9586932954433401, 0.958542667911628, 0.9477659058114114, 0.941528245791717, 0.4474282405147386, 0.5219996139338617, 0.92113912652574, 0.8333456739418637, 0.9077758457366938, 0.8013314754556035, 0.8023024394112612, 0.9429329852119908, 0.9235989359522725, 0.9692029887797421, 0.9247015011860849, 0.9226182920476301, 0.9252525906732268, 0.9121711071669305, 0.9162102207248033, 0.954356967828464, 0.9762527865529903, 0.31236725270737836, 0.663780412003179, 0.9436878106777805, 0.8739430964735567, 0.9601304596805778, 0.8390620457137842, 0.8069623425059707, 0.9014249537824625, 0.7830956800106457, 0.9087284412679263, 0.2833081227203437, 0.14165406136017186, 0.5666162454406874, 0.9363483690099985, 0.9126490077051391, 0.9691732562853498, 0.9742480494305256, 0.9802959934820317, 0.21174043527921682, 0.7410915234772588, 0.9715681466465604, 0.9489593912000995, 0.9924837475854648, 0.964827058796736, 0.870812736213145, 0.4325178384396067, 0.49430610107383627, 0.7996832777944903, 0.41951553358449795, 0.5339288609257247, 0.9567987091694504, 0.9806093993150546, 0.8787218346346011, 0.9545078426474152, 0.4687661139519768, 0.1171915284879942, 0.3984511968591803, 0.9607847658274932, 0.8988581068856729, 0.9431616891707604, 0.9739243771314641, 0.972689399944625, 0.891053927096053, 0.7968538413123505, 0.13051737717497425, 0.6281148776545635, 0.07341602466092302, 0.1631467214687178, 0.757479093875129, 0.8587088696779148, 0.01797564844842302, 0.9796728404390547, 0.9895088434340703, 0.9203897147542155, 0.9707604758232622, 0.9905114595238586, 0.8799143493995442, 0.9430418807498351, 0.8573418721559077, 0.9154544321827758, 0.978923328547384, 0.9152235401234452, 0.9579760493706381, 0.9472353225133344, 0.12242856175103202, 0.7345713705061921, 0.4356929193004658, 0.09172482511588753, 0.16051844395280318, 0.2981056816266345, 0.9600641888217387, 0.8903114940217189, 0.07419262450180991, 0.9063029656939451, 0.8820264995663333, 0.9553812824807575, 0.6435658558832485, 0.3217829279416243, 0.9629356304272414, 0.8684632657726488, 0.12569863057235706, 0.0591824623393955, 0.32550354286667527, 0.32550354286667527, 0.26632108052727976, 0.9421592663656214, 0.1936536356512, 0.7988212470612, 0.8646694114857709, 0.8467055287806079, 0.17803984883519278, 0.7833753348748481, 0.9378388860775028, 0.7979378699277367, 0.6829900769955752, 0.30355114533136673, 0.9947990637681012, 0.8546195634000145, 0.9464007664892113, 0.9441732365656239, 0.778037675215684, 0.9219202165081765, 0.9374989422273531, 0.920198663342002, 0.8262643472323421, 0.972561653997792, 0.9054415329853296, 0.8784015271796625, 0.8110998829889404, 0.1757383079809371, 0.9355438786173412, 0.8469679793482432, 0.8739426202970985, 0.9446201944349969, 0.9478986501044235, 0.9321848481604023, 0.8853212014081915, 0.9291508003318607, 0.9456430325303311, 0.8923210127733522, 0.8609191192773633, 0.9547950322859767, 0.9536904818672, 0.9284581759831769, 0.9966853571405272, 0.9815940049750363, 0.9709386702478443, 0.02064008484819279, 0.14448059393734952, 0.8256033939277115, 0.9373724768855378, 0.9713046049881825, 0.27398566137953495, 0.5668668856128309, 0.16061228425696875, 0.2630034800810182, 0.07687794033137454, 0.6575087002025455, 0.7012031855960082, 0.23373439519866943, 0.9315407693168536, 0.15405594482943735, 0.8010909131130741, 0.9267345695158438, 0.9821319538824075, 0.8806213719018481, 0.9969250706101827, 0.42342160243884774, 0.5557408532009877, 0.1316465117560074, 0.09324961249383858, 0.10422015514017252, 0.07130852720117067, 0.01097054264633395, 0.4607627911460259, 0.1261612404328404, 0.24439357652295537, 0.7442895285017278, 0.8023069037640256, 0.9538516904685983, 0.16785663155419508, 0.21581566914110797, 0.14387711276073864, 0.13188735336401042, 0.3477030225051184, 0.939334504310935, 0.961843085654795, 0.9230268439326322, 0.9831864440191294, 0.8891761640451941, 0.9990280718675005, 0.18687913698300906, 0.1081931845691105, 0.23277927589111655, 0.10272888231814534, 0.056828743410037845, 0.29070087975134745, 0.02185720900386071, 0.7025252251977064, 0.28101009007908256, 0.7248596166358034, 0.20710274761022957, 0.14376551453494218, 0.8446223978927853, 0.7833342258606162, 0.8697260259978808, 0.3823242983345201, 0.6053468056963235, 0.9816881508959353, 0.9839553590428763, 0.8123375797348436, 0.8055608898452209, 0.8658114956437788, 0.8486525440077094, 0.8854398750184418, 0.9790986209082938, 0.9290609066358916, 0.9876948222160935, 0.9590314904458053, 0.8316858981202941, 0.08316858981202942, 0.8598678933116154, 0.17779314424880724, 0.7822898346947519, 0.9232116819502125, 0.9745245924314762, 0.9748058828126216, 0.9696495466458579, 0.27499865523133243, 0.7071393991662833, 0.9094111080222518, 0.3288940980669087, 0.6681743255464566, 0.8739412516694745, 0.9373628141657689, 0.8938017699822669, 0.9545260760762999, 0.997512672411031, 0.998701797058353, 0.914372379768383, 0.8471124423074, 0.13236131911053126, 0.8563828592611661, 0.949520500262712, 0.8372464395760427, 0.12880714455016043, 0.9145342460753371, 0.6959803205870982, 0.26099262022016184, 0.24746503344758403, 0.742395100342752, 0.9446917529044525, 0.8437045778438942, 0.8739426202970985, 0.873518802486764, 0.9123751026805214, 0.9569481837408189, 0.9865424264709026, 0.935280559601082, 0.9721177410804814, 0.3623781825856145, 0.5798050921369832, 0.9689819063610515, 0.22936565458657437, 0.764552181955248, 0.9518838280366724, 0.9346607846179277, 0.9022723144932301, 0.7604877190351959, 0.9835692864485616, 0.9433170238394476, 0.8771142648388996, 0.5574655595363835, 0.23067540394608976, 0.19222950328840813, 0.96458064787438, 0.9618198378806813, 0.8609988450054467, 0.811220578841858, 0.8987730481387044, 0.9709989779853013, 0.9081630747043509, 0.8668338191111775, 0.9406113184294796, 0.28692868957411166, 0.14346434478705583, 0.5499466550170474, 0.026777389786629795, 0.15173854212423551, 0.6783605412612881, 0.004462898297771633, 0.13834984723092061, 0.9745504453595067, 0.9926644323825147, 0.8233340944067132, 0.14969710807394784, 0.22681551616676623, 0.6804465485002987, 0.9659685052464452, 0.9001305858754567, 0.9617079745473746, 0.14149179241231982, 0.6131311004533859, 0.23581965402053306, 0.055810090748787185, 0.9425704215350724, 0.909287007069656, 0.9969635957797837, 0.9555602928707398, 0.9681472178029209, 0.9846765003938351, 0.9552661641674691, 0.8903732608141136, 0.43494056478477905, 0.5140206674729207, 0.9548163787049277, 0.963276985556512, 0.9369345447338097, 0.9875239297751155, 0.9352850425415371, 0.8613344397070807, 0.9211927114553181, 0.9818009794238387, 0.8420289712053701, 0.8574007016224918, 0.8649226670716539, 0.92418065477139, 0.9021426729062813, 0.8449513628583254, 0.9815794293271195, 0.9115094382875996, 0.3462112741495386, 0.6452119200059583, 0.9127894393683995, 0.9093011640119709, 0.9476836812274365, 0.8543664586127154, 0.9186922026259682, 0.7875642897425227, 0.12736460646782533, 0.8278699420408646, 0.9605351109140374, 0.5229334055463755, 0.4424821123853946, 0.9471562522784355, 0.9371874998418144, 0.9336535662639373, 0.9429876484466371, 0.9559836180633627, 0.8307334763615662, 0.927225045569196, 0.9415518495899895, 0.9400945382191178, 0.9421808266784854, 0.9489593912000995, 0.5853509246587694, 0.23105957552319845, 0.16944368871701218, 0.23069617674618748, 0.7497625744251093, 0.9476220939479281, 0.23409471965008263, 0.7491031028802645, 0.7609930409867448, 0.2075435566327486, 0.9390542432226693, 0.75646225743368, 0.89082543905631, 0.9886533114642914, 0.8889581882505493, 0.8437045778438942, 0.044380425175419846, 0.9319889286838168, 0.9986638584959339, 0.9030104349574617, 0.9347585473008732, 0.9192868688712501, 0.9633785153154787, 0.990451494808559, 0.9623460932798978, 0.03318434804413441, 0.8005200754656997, 0.9667892318225724, 0.9302301624484834, 0.3455711261721913, 0.6440189169572657, 0.9760920256716641, 0.9165525222715514, 0.9567305566419747, 0.9755034722456276, 0.8301606924905612, 0.16942054948786964, 0.8934684623837521, 0.9186387342913115, 0.9888369515100425, 0.30784263536107925, 0.1420812163204981, 0.1420812163204981, 0.3552030408012453, 0.04736040544016604, 0.8998596001394632, 0.8960812460972505, 0.9484123690245809, 0.9759505214487998, 0.6924159092015862, 0.26927285357839464, 0.9391835456845559, 0.9459738037270276, 0.8880864165220732, 0.9933607141078765, 0.9433092769559944, 0.2302577900088433, 0.7368249280282986, 0.078525223330674, 0.9226713741354194, 0.9203929468716234, 0.9679533015366786, 0.9584631217183789, 0.9047823797041701, 0.9344300223489197, 0.9784955784525288, 0.9136830780102749, 0.9003810927434494, 0.9338092696551199, 0.90248365516893, 0.7375372418663697, 0.2458457472887899, 0.9431615601614945, 0.9537659681314035, 0.8890951252425405, 0.7536392072609827, 0.23188898684953313, 0.8941750828930449, 0.9407196505091096, 0.9279652457109155, 0.9964241693741014, 0.9609099120339202, 0.9829482310688774], \"Term\": [\"ability\", \"able\", \"absolute\", \"academy\", \"action\", \"action\", \"action\", \"actually\", \"add\", \"advantage\", \"advice\", \"agree\", \"ah\", \"ahead\", \"ahead\", \"air\", \"allow\", \"alluring\", \"appear\", \"appreciate\", \"arcane\", \"arm\", \"ashley\", \"ashley\", \"ashley\", \"ashton\", \"ashton\", \"ask\", \"asleep\", \"athletic\", \"attack\", \"attack\", \"away\", \"away\", \"bad\", \"ball\", \"bang\", \"be\", \"bed\", \"begin\", \"better\", \"big\", \"bit\", \"bit\", \"bit\", \"blanket\", \"blast\", \"board\", \"bolt\", \"book\", \"boy\", \"boysie\", \"break\", \"brumestone\", \"cage\", \"cage\", \"call\", \"calling\", \"caltrop\", \"care\", \"carve\", \"cast\", \"catch\", \"cavern\", \"certain\", \"chain\", \"chain\", \"chamber\", \"chamber\", \"change\", \"charisma\", \"check\", \"chetney\", \"city\", \"clear\", \"climb\", \"close\", \"close\", \"close\", \"come\", \"come\", \"come\", \"concerned\", \"connect\", \"conservatory\", \"constitution\", \"contain\", \"contraption\", \"conversation\", \"cool\", \"corner\", \"course\", \"cover\", \"crap\", \"crazy\", \"creeper\", \"curious\", \"cut\", \"d\", \"damage\", \"damage\", \"damn\", \"dark\", \"darkness\", \"day\", \"daylight\", \"dc\", \"dead\", \"definitely\", \"describe\", \"design\", \"device\", \"dexterity\", \"dice\", \"die\", \"different\", \"disadvantage\", \"disadvantage\", \"dive\", \"dodge\", \"door\", \"dot\", \"downstairs\", \"draw\", \"dream\", \"drink\", \"ear\", \"earlier\", \"early\", \"easy\", \"eldritch\", \"emoth\", \"encounter\", \"end\", \"end\", \"enjoy\", \"epilogue\", \"evening\", \"everybody\", \"ex\", \"exactly\", \"excited\", \"extra\", \"eye\", \"eye\", \"eye\", \"face\", \"fail\", \"faintly\", \"fall\", \"familiar\", \"fcg\", \"fcg\", \"fearne\", \"feather\", \"feel\", \"feeling\", \"fey\", \"figure\", \"figure\", \"fill\", \"find\", \"find\", \"fine\", \"finish\", \"fit\", \"flash\", \"foot\", \"foot\", \"foot\", \"free\", \"fresh\", \"friend\", \"fuck\", \"fucking\", \"fun\", \"game\", \"get\", \"get\", \"get\", \"get\", \"giggle\", \"glass\", \"go\", \"go\", \"god\", \"goddamn\", \"gold\", \"good\", \"goodness\", \"grab\", \"grass\", \"grave\", \"great\", \"green\", \"group\", \"guess\", \"guide\", \"guide\", \"gus\", \"gus\", \"gus\", \"gus\", \"guy\", \"half\", \"half\", \"hallway\", \"hammer\", \"hand\", \"happen\", \"happen\", \"hard\", \"have\", \"have\", \"head\", \"head\", \"head\", \"head\", \"healthy\", \"hear\", \"hear\", \"hell\", \"hello\", \"help\", \"help\", \"hey\", \"hi\", \"high\", \"high\", \"hit\", \"hmm\", \"hold\", \"hole\", \"holy\", \"hope\", \"hour\", \"howl\", \"huh\", \"hurt\", \"idea\", \"identify\", \"ill\", \"ill\", \"imogen\", \"individual\", \"ingress\", \"inside\", \"investigation\", \"issue\", \"join\", \"jrusar\", \"keep\", \"kick\", \"kill\", \"kind\", \"king\", \"knock\", \"know\", \"lady\", \"later\", \"laudna\", \"laudna\", \"laudna\", \"laudnas\", \"laugh\", \"laughter\", \"laughter\", \"laughter\", \"laura\", \"laura\", \"laura\", \"leap\", \"leap\", \"learn\", \"leave\", \"leave\", \"legendary\", \"let\", \"lever\", \"liam\", \"light\", \"light\", \"like\", \"like\", \"like\", \"like\", \"like\", \"like\", \"like\", \"little\", \"little\", \"lonely\", \"long\", \"look\", \"look\", \"look\", \"look\", \"look\", \"lose\", \"lot\", \"love\", \"machine\", \"magic\", \"marisha\", \"matt\", \"matt\", \"matt\", \"matt\", \"matt\", \"matt\", \"matt\", \"maybe\", \"maybe\", \"meal\", \"meal\", \"mean\", \"mean\", \"message\", \"metal\", \"mind\", \"mind\", \"minute\", \"miss\", \"missile\", \"mister\", \"mmhmm\", \"mode\", \"modifier\", \"moment\", \"morning\", \"mother\", \"move\", \"movement\", \"movement\", \"mr\", \"natural\", \"natural\", \"near\", \"need\", \"nice\", \"night\", \"nightmare\", \"nightmare\", \"normal\", \"not\", \"not\", \"note\", \"number\", \"odd\", \"oddly\", \"oh\", \"okay\", \"old\", \"olly\", \"olly\", \"oneeyed\", \"ooh\", \"open\", \"open\", \"orange\", \"orb\", \"orb\", \"orym\", \"orym\", \"outside\", \"p\", \"particularly\", \"party\", \"past\", \"pay\", \"people\", \"perception\", \"pick\", \"pillow\", \"pillow\", \"plus\", \"point\", \"point\", \"poison\", \"pop\", \"possibly\", \"power\", \"pretty\", \"probably\", \"problem\", \"pull\", \"pull\", \"pull\", \"purple\", \"push\", \"quorum\", \"range\", \"read\", \"ready\", \"real\", \"redbubl\", \"remember\", \"rest\", \"rest\", \"rest\", \"right\", \"right\", \"right\", \"right\", \"right\", \"rock\", \"roll\", \"room\", \"room\", \"rope\", \"rope\", \"rough\", \"round\", \"run\", \"rush\", \"rush\", \"rush\", \"s\", \"s\", \"safe\", \"sam\", \"save\", \"saving\", \"say\", \"scratch\", \"second\", \"see\", \"see\", \"seeker\", \"sense\", \"seven\", \"shade\", \"shape\", \"shield\", \"shift\", \"shit\", \"shoot\", \"short\", \"shoulder\", \"silence\", \"silver\", \"similar\", \"sit\", \"slash\", \"sleep\", \"sleep\", \"slightly\", \"slowly\", \"smart\", \"snore\", \"soon\", \"soot\", \"sorry\", \"sorry\", \"sort\", \"space\", \"space\", \"spell\", \"sphere\", \"spin\", \"spire\", \"stand\", \"starlight\", \"starpoint\", \"start\", \"stasis\", \"stay\", \"stiff\", \"stone\", \"stone\", \"stone\", \"stop\", \"stop\", \"strange\", \"strength\", \"strength\", \"strike\", \"strike\", \"strong\", \"study\", \"stuff\", \"sure\", \"swill\", \"t\", \"take\", \"take\", \"taliesin\", \"talk\", \"tell\", \"terrible\", \"thank\", \"thing\", \"think\", \"think\", \"thought\", \"throw\", \"til\", \"time\", \"time\", \"today\", \"tomorrow\", \"total\", \"touch\", \"travis\", \"travis\", \"true\", \"trust\", \"try\", \"turn\", \"turn\", \"turn\", \"turn\", \"turn\", \"twist\", \"uhoh\", \"unnatural\", \"use\", \"wait\", \"wait\", \"wake\", \"walk\", \"wander\", \"want\", \"watch\", \"water\", \"water\", \"way\", \"way\", \"week\", \"weird\", \"well\", \"whack\", \"wild\", \"will\", \"witch\", \"wolf\", \"wonder\", \"woo\", \"word\", \"word\", \"work\", \"world\", \"worry\", \"would\", \"would\", \"wound\", \"wow\", \"wrong\", \"yeah\", \"yep\", \"yes\"]}, \"R\": 30, \"lambda.step\": 0.01, \"plot.opts\": {\"xlab\": \"PC1\", \"ylab\": \"PC2\"}, \"topic.order\": [10, 8, 11, 6, 2, 9, 5, 1, 7, 12, 3, 4]};\n",
              "\n",
              "function LDAvis_load_lib(url, callback){\n",
              "  var s = document.createElement('script');\n",
              "  s.src = url;\n",
              "  s.async = true;\n",
              "  s.onreadystatechange = s.onload = callback;\n",
              "  s.onerror = function(){console.warn(\"failed to load library \" + url);};\n",
              "  document.getElementsByTagName(\"head\")[0].appendChild(s);\n",
              "}\n",
              "\n",
              "if(typeof(LDAvis) !== \"undefined\"){\n",
              "   // already loaded: just create the visualization\n",
              "   !function(LDAvis){\n",
              "       new LDAvis(\"#\" + \"ldavis_el2961401774262179368444218515\", ldavis_el2961401774262179368444218515_data);\n",
              "   }(LDAvis);\n",
              "}else if(typeof define === \"function\" && define.amd){\n",
              "   // require.js is available: use it to load d3/LDAvis\n",
              "   require.config({paths: {d3: \"https://d3js.org/d3.v5\"}});\n",
              "   require([\"d3\"], function(d3){\n",
              "      window.d3 = d3;\n",
              "      LDAvis_load_lib(\"https://cdn.jsdelivr.net/gh/bmabey/pyLDAvis@3.3.1/pyLDAvis/js/ldavis.v3.0.0.js\", function(){\n",
              "        new LDAvis(\"#\" + \"ldavis_el2961401774262179368444218515\", ldavis_el2961401774262179368444218515_data);\n",
              "      });\n",
              "    });\n",
              "}else{\n",
              "    // require.js not available: dynamically load d3 & LDAvis\n",
              "    LDAvis_load_lib(\"https://d3js.org/d3.v5.js\", function(){\n",
              "         LDAvis_load_lib(\"https://cdn.jsdelivr.net/gh/bmabey/pyLDAvis@3.3.1/pyLDAvis/js/ldavis.v3.0.0.js\", function(){\n",
              "                 new LDAvis(\"#\" + \"ldavis_el2961401774262179368444218515\", ldavis_el2961401774262179368444218515_data);\n",
              "            })\n",
              "         });\n",
              "}\n",
              "</script>"
            ]
          },
          "metadata": {},
          "execution_count": 54
        }
      ]
    },
    {
      "cell_type": "markdown",
      "source": [
        "### Attempt 2 \n",
        "I am not a big fan of 1 and 10 overlapping as much as they do, so did some research into tuning the model better than how it is currently."
      ],
      "metadata": {
        "id": "GTBTiQElbDNB"
      }
    },
    {
      "cell_type": "code",
      "source": [
        "def compute_coherence_values(corpus, dictionary, k, a, b):\n",
        "    \n",
        "    lda_model = gensim.models.LdaMulticore(corpus=corpus,\n",
        "                                           id2word=dictionary,\n",
        "                                           num_topics=k, \n",
        "                                           random_state=100,\n",
        "                                           chunksize=100,\n",
        "                                           passes=10,\n",
        "                                           alpha=a,\n",
        "                                           eta=b,\n",
        "                                           workers=2)\n",
        "    \n",
        "    coherence_model_lda = CoherenceModel(model=lda_model, texts=full_dialog_df['lemmas'], dictionary=id2word, coherence='c_v')\n",
        "    \n",
        "    return coherence_model_lda.get_coherence()"
      ],
      "metadata": {
        "id": "HeT3f4p6ehSu"
      },
      "execution_count": 55,
      "outputs": []
    },
    {
      "cell_type": "code",
      "source": [
        "import tqdm\n",
        "grid = {}\n",
        "grid['Validation_Set'] = {}\n",
        "\n",
        "# Topics range\n",
        "min_topics=2\n",
        "max_topics=11\n",
        "step_size=1\n",
        "topics_range=range(min_topics, max_topics, step_size)\n",
        "\n",
        "# Alpha parameter\n",
        "alpha = list(np.arange(0.01,1,0.3))\n",
        "alpha.append('symmetric')\n",
        "alpha.append('asymmetric')\n",
        "\n",
        "# Beta parameter\n",
        "beta = list(np.arange(0.01,1,0.3))\n",
        "beta.append('symmetric')\n",
        "\n",
        "# Validation sets\n",
        "num_of_docs = len(corpus)\n",
        "corpus_sets = [# gensim.utils.ClippedCorpus(corpus, num_of_docs*0.25), \n",
        "               # gensim.utils.ClippedCorpus(corpus, num_of_docs*0.5), \n",
        "               gensim.utils.ClippedCorpus(corpus, int(num_of_docs*0.75)), \n",
        "               corpus]\n",
        "\n",
        "corpus_title = ['75% Corpus', '100% Corpus']\n",
        "model_results = {'Validation_Set': [],\n",
        "                 'Topics': [],\n",
        "                 'Alpha': [],\n",
        "                 'Beta': [],\n",
        "                 'Coherence': []\n",
        "                }\n",
        "\n",
        "if 1 == 1:\n",
        "    pbar = tqdm.tqdm(total=500)\n",
        "    \n",
        "    # iterate through validation corpuses\n",
        "    for i in range(len(corpus_sets)):\n",
        "        # iterate through number of topics\n",
        "        for k in topics_range:\n",
        "            # iterate through alpha values\n",
        "            for a in alpha:\n",
        "                # iterare through beta values\n",
        "                for b in beta:\n",
        "                    # get the coherence score for the given parameters\n",
        "                    cv = compute_coherence_values(corpus=corpus_sets[i], dictionary=id2word, k=k, a=a, b=b)\n",
        "                    # Save the model results\n",
        "                    model_results['Validation_Set'].append(corpus_title[i])\n",
        "                    model_results['Topics'].append(k)\n",
        "                    model_results['Alpha'].append(a)\n",
        "                    model_results['Beta'].append(b)\n",
        "                    model_results['Coherence'].append(cv)\n",
        "                    \n",
        "                    pbar.update(1)\n",
        "    pd.DataFrame(model_results).to_csv('lda_tuning_results.csv', index=False)\n",
        "    pbar.close()"
      ],
      "metadata": {
        "id": "dJzMcf4vbboP"
      },
      "execution_count": null,
      "outputs": []
    },
    {
      "cell_type": "code",
      "source": [
        "lda_model_2 = gensim.models.LdaMulticore(corpus=corpus,\n",
        "                                           id2word=id2word,\n",
        "                                           num_topics=10, \n",
        "                                           random_state=100,\n",
        "                                           chunksize=100,\n",
        "                                           passes=10,\n",
        "                                           alpha=0.90999,\n",
        "                                           eta=0.01)"
      ],
      "metadata": {
        "id": "-eYRUYN05vAE"
      },
      "execution_count": 75,
      "outputs": []
    },
    {
      "cell_type": "code",
      "source": [
        "coherence_model_lda = CoherenceModel(model=lda_model_2, texts=full_dialog_df['lemmas'], dictionary=id2word, coherence='c_v')\n",
        "coherence_lda = coherence_model_lda.get_coherence()\n",
        "print('\\nCoherence Score: ', coherence_lda)"
      ],
      "metadata": {
        "colab": {
          "base_uri": "https://localhost:8080/"
        },
        "id": "bHV5SvanPh3M",
        "outputId": "10f8627b-6a32-4c43-8c61-9da572af72dd"
      },
      "execution_count": 76,
      "outputs": [
        {
          "output_type": "stream",
          "name": "stdout",
          "text": [
            "\n",
            "Coherence Score:  0.4851026686164584\n"
          ]
        }
      ]
    },
    {
      "cell_type": "code",
      "source": [
        "lda_model_2.print_topics()"
      ],
      "metadata": {
        "colab": {
          "base_uri": "https://localhost:8080/"
        },
        "id": "InBvFFtDQuR0",
        "outputId": "5e826bde-291d-4fe5-858a-a5e91e937a11"
      },
      "execution_count": 77,
      "outputs": [
        {
          "output_type": "execute_result",
          "data": {
            "text/plain": [
              "[(0,\n",
              "  '0.336*\"ashley\" + 0.309*\"okay\" + 0.045*\"say\" + 0.039*\"laugh\" + 0.037*\"great\" + 0.029*\"fine\" + 0.021*\"strength\" + 0.020*\"hey\" + 0.011*\"course\" + 0.010*\"sam\"'),\n",
              " (1,\n",
              "  '0.279*\"marisha\" + 0.204*\"sam\" + 0.156*\"oh\" + 0.062*\"roll\" + 0.028*\"need\" + 0.025*\"god\" + 0.017*\"attack\" + 0.017*\"wait\" + 0.016*\"day\" + 0.014*\"ahead\"'),\n",
              " (2,\n",
              "  '0.211*\"travis\" + 0.203*\"s\" + 0.128*\"right\" + 0.063*\"laughter\" + 0.059*\"good\" + 0.039*\"come\" + 0.033*\"let\" + 0.029*\"mean\" + 0.028*\"pretty\" + 0.026*\"fucking\"'),\n",
              " (3,\n",
              "  '0.145*\"like\" + 0.072*\"point\" + 0.068*\"feel\" + 0.066*\"hit\" + 0.055*\"damage\" + 0.050*\"thing\" + 0.050*\"matt\" + 0.038*\"laudna\" + 0.033*\"gus\" + 0.025*\"sorry\"'),\n",
              " (4,\n",
              "  '0.589*\"matt\" + 0.056*\"yes\" + 0.041*\"way\" + 0.037*\"check\" + 0.027*\"thank\" + 0.025*\"orym\" + 0.022*\"taliesin\" + 0.021*\"miss\" + 0.021*\"nightmare\" + 0.016*\"bad\"'),\n",
              " (5,\n",
              "  '0.357*\"laura\" + 0.248*\"yeah\" + 0.076*\"get\" + 0.047*\"ill\" + 0.035*\"time\" + 0.025*\"sam\" + 0.018*\"have\" + 0.018*\"lot\" + 0.016*\"d\" + 0.011*\"seven\"'),\n",
              " (6,\n",
              "  '0.242*\"go\" + 0.171*\"be\" + 0.057*\"try\" + 0.038*\"shit\" + 0.031*\"fuck\" + 0.028*\"maybe\" + 0.023*\"ball\" + 0.023*\"foot\" + 0.022*\"actually\" + 0.022*\"use\"'),\n",
              " (7,\n",
              "  '0.055*\"little\" + 0.036*\"stone\" + 0.035*\"bit\" + 0.034*\"look\" + 0.030*\"shade\" + 0.026*\"turn\" + 0.025*\"hear\" + 0.024*\"fearne\" + 0.024*\"light\" + 0.023*\"matt\"'),\n",
              " (8,\n",
              "  '0.035*\"have\" + 0.025*\"rest\" + 0.024*\"pull\" + 0.023*\"mind\" + 0.023*\"throw\" + 0.022*\"people\" + 0.017*\"help\" + 0.017*\"saving\" + 0.017*\"sit\" + 0.016*\"see\"'),\n",
              " (9,\n",
              "  '0.181*\"not\" + 0.168*\"taliesin\" + 0.168*\"liam\" + 0.110*\"know\" + 0.059*\"think\" + 0.058*\"want\" + 0.023*\"yep\" + 0.021*\"take\" + 0.016*\"will\" + 0.016*\"sure\"')]"
            ]
          },
          "metadata": {},
          "execution_count": 77
        }
      ]
    },
    {
      "cell_type": "code",
      "source": [
        "pyLDAvis.enable_notebook()\n",
        "vis = pyLDAvis.gensim_models.prepare(lda_model_2, corpus, id2word)\n",
        "vis"
      ],
      "metadata": {
        "colab": {
          "base_uri": "https://localhost:8080/",
          "height": 881
        },
        "id": "0P1TpRDf7E3q",
        "outputId": "c9517eb1-aa08-4c42-a9f2-23d0bf98bb11"
      },
      "execution_count": 78,
      "outputs": [
        {
          "output_type": "execute_result",
          "data": {
            "text/plain": [
              "PreparedData(topic_coordinates=              x         y  topics  cluster       Freq\n",
              "topic                                                \n",
              "8     -0.099992  0.279395       1        1  12.989819\n",
              "7     -0.196390  0.207351       2        1  12.890760\n",
              "2      0.018541  0.039902       3        1  10.048874\n",
              "3     -0.230898 -0.107061       4        1   9.887515\n",
              "6      0.140357  0.013619       5        1   9.821122\n",
              "9      0.040785 -0.246545       6        1   9.555002\n",
              "4     -0.229394 -0.196825       7        1   9.075247\n",
              "1      0.222858 -0.020464       8        1   9.042960\n",
              "5      0.207181  0.085561       9        1   8.922527\n",
              "0      0.126952 -0.054932      10        1   7.766174, topic_info=         Term         Freq        Total Category  logprob  loglift\n",
              "7        matt  1238.000000  1238.000000  Default  30.0000  30.0000\n",
              "277     laura   631.000000   631.000000  Default  29.0000  29.0000\n",
              "280    ashley   517.000000   517.000000  Default  28.0000  28.0000\n",
              "406      okay   475.000000   475.000000  Default  27.0000  27.0000\n",
              "269   marisha   499.000000   499.000000  Default  26.0000  26.0000\n",
              "...       ...          ...          ...      ...      ...      ...\n",
              "1058     burn    11.812642    12.408207  Topic10  -4.8691   2.5062\n",
              "4         sam    15.460283   452.366379  Topic10  -4.6000  -0.8208\n",
              "380     right     7.266097   280.732665  Topic10  -5.3550  -1.0988\n",
              "327         s     3.288290   422.456773  Topic10  -6.1479  -2.3003\n",
              "7        matt     2.945850  1238.372158  Topic10  -6.2578  -3.4858\n",
              "\n",
              "[387 rows x 6 columns], token_table=      Topic      Freq      Term\n",
              "term                           \n",
              "505       3  1.012699   ability\n",
              "835       5  1.040030      able\n",
              "582       8  0.968208   academy\n",
              "969       5  0.997844    action\n",
              "565       5  0.998455  actually\n",
              "...     ...       ...       ...\n",
              "621       9  1.099349      year\n",
              "808       7  0.906072      yell\n",
              "675      10  0.861859      yelp\n",
              "482       6  1.006902       yep\n",
              "5         7  0.996809       yes\n",
              "\n",
              "[410 rows x 3 columns], R=30, lambda_step=0.01, plot_opts={'xlab': 'PC1', 'ylab': 'PC2'}, topic_order=[9, 8, 3, 4, 7, 10, 5, 2, 6, 1])"
            ],
            "text/html": [
              "\n",
              "<link rel=\"stylesheet\" type=\"text/css\" href=\"https://cdn.jsdelivr.net/gh/bmabey/pyLDAvis@3.3.1/pyLDAvis/js/ldavis.v1.0.0.css\">\n",
              "\n",
              "\n",
              "<div id=\"ldavis_el2961401774194559524049341374\"></div>\n",
              "<script type=\"text/javascript\">\n",
              "\n",
              "var ldavis_el2961401774194559524049341374_data = {\"mdsDat\": {\"x\": [-0.09999168670280548, -0.19639043746690119, 0.01854050767642538, -0.23089750935054318, 0.14035739666194205, 0.04078462591719502, -0.22939373618850425, 0.22285761447395624, 0.20718087639409802, 0.12695234858513724], \"y\": [0.2793946655413906, 0.20735070582254264, 0.03990236643744134, -0.1070609044745786, 0.01361862243206146, -0.24654531207377917, -0.19682498160682005, -0.02046386186262243, 0.08556110459450512, -0.05493240481014074], \"topics\": [1, 2, 3, 4, 5, 6, 7, 8, 9, 10], \"cluster\": [1, 1, 1, 1, 1, 1, 1, 1, 1, 1], \"Freq\": [12.98981851074093, 12.890759855516759, 10.048874062966046, 9.887515086940518, 9.821122349737532, 9.55500229937822, 9.075247404738814, 9.04295967859576, 8.922527204505286, 7.766173546880132]}, \"tinfo\": {\"Term\": [\"matt\", \"laura\", \"ashley\", \"okay\", \"marisha\", \"go\", \"yeah\", \"travis\", \"s\", \"not\", \"be\", \"sam\", \"liam\", \"taliesin\", \"oh\", \"like\", \"right\", \"know\", \"point\", \"get\", \"feel\", \"hit\", \"laughter\", \"little\", \"good\", \"roll\", \"try\", \"want\", \"think\", \"damage\", \"rest\", \"throw\", \"people\", \"mind\", \"saving\", \"sit\", \"see\", \"find\", \"sort\", \"long\", \"night\", \"encounter\", \"machine\", \"hole\", \"strange\", \"dark\", \"help\", \"dexterity\", \"different\", \"base\", \"figure\", \"slowly\", \"chain\", \"draw\", \"gold\", \"moment\", \"faintly\", \"high\", \"morning\", \"twist\", \"lady\", \"emoth\", \"pull\", \"have\", \"creature\", \"begin\", \"room\", \"look\", \"come\", \"shade\", \"turn\", \"hear\", \"fearne\", \"light\", \"leave\", \"creeper\", \"mother\", \"end\", \"eye\", \"little\", \"fall\", \"strike\", \"hold\", \"start\", \"bit\", \"flame\", \"sound\", \"watch\", \"stand\", \"orb\", \"grab\", \"large\", \"blue\", \"arm\", \"near\", \"leap\", \"small\", \"fresh\", \"weird\", \"stone\", \"rock\", \"away\", \"head\", \"chamber\", \"look\", \"room\", \"begin\", \"matt\", \"good\", \"laughter\", \"let\", \"pretty\", \"mean\", \"fucking\", \"happen\", \"save\", \"uhoh\", \"face\", \"hallway\", \"knock\", \"call\", \"strong\", \"kick\", \"guide\", \"idea\", \"shield\", \"travis\", \"dead\", \"friend\", \"giant\", \"ability\", \"hammer\", \"slug\", \"solid\", \"directly\", \"describe\", \"folk\", \"spot\", \"s\", \"right\", \"come\", \"move\", \"room\", \"point\", \"feel\", \"damage\", \"laudna\", \"thing\", \"sorry\", \"olly\", \"plus\", \"imogen\", \"minute\", \"ooh\", \"howl\", \"love\", \"bring\", \"brumestone\", \"keep\", \"well\", \"flash\", \"earlier\", \"fire\", \"ollys\", \"pulse\", \"stasis\", \"ready\", \"terrible\", \"outside\", \"break\", \"hell\", \"ah\", \"construct\", \"gus\", \"like\", \"hit\", \"righty\", \"finish\", \"matt\", \"second\", \"go\", \"be\", \"try\", \"shit\", \"fuck\", \"actually\", \"run\", \"hard\", \"ball\", \"use\", \"action\", \"push\", \"cool\", \"probably\", \"spell\", \"stay\", \"cover\", \"pop\", \"maybe\", \"ask\", \"group\", \"bonus\", \"fun\", \"old\", \"daylight\", \"able\", \"lair\", \"range\", \"usually\", \"believe\", \"foot\", \"kind\", \"movement\", \"sam\", \"not\", \"want\", \"liam\", \"know\", \"yep\", \"will\", \"sure\", \"guy\", \"work\", \"big\", \"talk\", \"damn\", \"rage\", \"make\", \"worry\", \"definitely\", \"boy\", \"stuff\", \"amazing\", \"destroy\", \"slightly\", \"think\", \"hi\", \"fly\", \"worth\", \"uhhuh\", \"especially\", \"cause\", \"rough\", \"blow\", \"taliesin\", \"take\", \"slash\", \"close\", \"form\", \"sam\", \"yes\", \"way\", \"check\", \"thank\", \"orym\", \"miss\", \"nightmare\", \"bad\", \"nice\", \"would\", \"learn\", \"perception\", \"total\", \"hour\", \"real\", \"mmhmm\", \"general\", \"deck\", \"class\", \"quick\", \"yell\", \"whoa\", \"woman\", \"case\", \"hum\", \"happy\", \"butter\", \"gross\", \"girl\", \"situate\", \"disadvantage\", \"matt\", \"taliesin\", \"oh\", \"marisha\", \"god\", \"need\", \"wait\", \"day\", \"touch\", \"ashton\", \"guess\", \"king\", \"add\", \"feeling\", \"roll\", \"modifier\", \"advantage\", \"tell\", \"hello\", \"send\", \"crazy\", \"nope\", \"holy\", \"correct\", \"academy\", \"starlight\", \"yay\", \"chetney\", \"anybody\", \"mouth\", \"embrace\", \"amber\", \"attack\", \"sam\", \"ahead\", \"natural\", \"kind\", \"laura\", \"yeah\", \"ill\", \"time\", \"d\", \"seven\", \"pick\", \"hand\", \"sense\", \"half\", \"wow\", \"contraption\", \"dice\", \"cast\", \"number\", \"shape\", \"starpoint\", \"wonder\", \"stick\", \"conservatory\", \"object\", \"guidance\", \"bunch\", \"speak\", \"shot\", \"jesus\", \"clutch\", \"fast\", \"humanoid\", \"year\", \"get\", \"lot\", \"have\", \"sam\", \"ashley\", \"okay\", \"say\", \"laugh\", \"great\", \"fine\", \"strength\", \"hey\", \"course\", \"corner\", \"fail\", \"wolf\", \"round\", \"mister\", \"goddamn\", \"game\", \"groan\", \"perfectly\", \"block\", \"hate\", \"chet\", \"research\", \"snap\", \"scary\", \"circle\", \"peek\", \"slot\", \"yelp\", \"someone\", \"sight\", \"burn\", \"sam\", \"right\", \"s\", \"matt\"], \"Freq\": [1238.0, 631.0, 517.0, 475.0, 499.0, 470.0, 439.0, 425.0, 422.0, 341.0, 332.0, 452.0, 318.0, 366.0, 279.0, 293.0, 280.0, 207.0, 140.0, 144.0, 133.0, 132.0, 124.0, 139.0, 116.0, 111.0, 111.0, 110.0, 113.0, 106.0, 64.92595719798288, 57.99568633833575, 57.73932766416914, 58.370983630662096, 43.258481424132505, 43.21114939326546, 40.75122545335856, 40.090721289676395, 39.621267851719615, 39.42396400792564, 35.063183216734295, 30.74645216838166, 30.5654711189943, 29.116398454419187, 30.88660107553035, 28.454337000796567, 43.38552274164394, 27.066173539538568, 26.37762138611351, 25.102383008014417, 24.640296749391318, 22.973335263840124, 22.824307408200173, 20.97983164025214, 20.450844205787202, 20.305862908161753, 19.85287960819827, 19.6791579257641, 17.59944512690334, 17.39535389479967, 38.11245514919807, 33.65607113064701, 61.69344494780275, 90.28641908659044, 21.163522374135884, 40.057824138642005, 32.91900340600016, 36.23598066671975, 26.27280379396767, 76.82790620638637, 67.6431621873294, 65.03564416018739, 62.53642400865294, 62.03625187501271, 48.68119561112763, 48.054684673666664, 44.27607074740262, 43.9591086620295, 48.93831925669195, 139.18728280329415, 37.998873855787735, 36.092488876399095, 34.82606469357816, 32.193967447159956, 89.03208534467667, 23.645874660612602, 23.430130076015878, 22.84274664983644, 25.571308653818317, 21.805074684487067, 21.29271279874497, 21.034312403253068, 19.79166857941845, 19.52763336581042, 19.16633453434883, 18.442016706485983, 18.294131261662102, 17.48708265380851, 16.80389186551228, 91.05966884233031, 30.949709259822864, 35.911644500716605, 41.67717375422227, 32.588870717125104, 85.68615412292014, 37.791783590998065, 29.250652301262548, 59.61816359410905, 116.61889695043536, 124.54376221946474, 65.15884185569904, 55.50397826120465, 57.815022910098804, 52.307339407932496, 29.60269604788587, 19.11740486299638, 14.207008149739654, 12.321497984434238, 12.110943708777802, 11.827801734370032, 11.461853310120901, 10.548371840253443, 10.375018192601638, 10.08946123085909, 9.760532727580713, 9.541743771395938, 420.03582987804907, 7.6349671683114755, 7.324416570378335, 7.078545190031903, 6.800785041774071, 6.70103012556057, 6.63334792775193, 6.504577485465664, 5.035143412255345, 4.732169072555318, 4.231477143523249, 4.19340124478274, 404.8697538973627, 254.46578092991976, 78.04091437338106, 13.17832826253279, 11.435142957108482, 140.16745153875777, 133.22581414061122, 106.80353131596773, 75.26890895967027, 97.66071115637631, 49.39951504796418, 49.151141952335806, 47.48370713043912, 28.693643076366843, 27.63189350130529, 24.79975525024194, 24.56948912153252, 23.7616601688762, 22.18654188231756, 21.329525588364227, 19.007630322007845, 17.225898576791035, 17.03747232541283, 15.941068032619283, 15.208091483092387, 14.485317313103016, 13.870984343724865, 13.726021013343686, 13.027670003235684, 11.061590587717738, 10.797752074327635, 16.483261270163407, 10.602960391583668, 10.006690621654833, 8.957267060230627, 65.25897498615066, 283.3929945378842, 129.22873538658732, 15.516751532682925, 35.803012007330196, 96.95873200539961, 15.84601238313961, 470.8139111828256, 332.8590271136761, 111.7370478005528, 73.12329270843827, 60.82432721304623, 41.95654731223813, 41.69339811206352, 39.752512904800724, 45.10744715196538, 41.874893061336586, 34.96721659405766, 33.74740591498786, 31.6534212515336, 31.545005389584105, 30.523311058391407, 28.316204517994926, 28.653861999422773, 26.562275628443643, 54.56877255390133, 21.03362639135686, 14.946177724664878, 14.796393128918641, 14.31057859388119, 12.043325450395388, 10.969614075500344, 9.506725404541895, 8.80440157465422, 8.360190349603485, 7.941023529206123, 7.545689740280307, 44.59262939943137, 25.635831910175362, 11.911633109363304, 16.627051980781122, 341.8425644318055, 110.15507575260656, 317.59360102764214, 207.52802979034598, 42.593247599717934, 30.855777585047157, 29.783735966426054, 25.58913790841581, 21.09283660342609, 18.54801852250139, 13.798987856651312, 12.936414260742978, 12.441902166116277, 14.73095617767931, 11.150614313330887, 10.519913947180267, 10.425059039878015, 8.537291476968965, 7.481497532580047, 7.294835643848373, 6.760048015300766, 111.12097306632995, 6.22382630194309, 5.442835610013336, 5.208093770056431, 5.023379240728908, 4.777073963006996, 4.372611820555474, 8.43634600486966, 3.5121137925550476, 318.4223125988708, 39.63763537422487, 11.664112721569003, 25.573104355602275, 6.855485808687112, 6.064435815871485, 101.2126550851762, 73.72166077021431, 67.09543396708926, 48.21090852382641, 44.828535358335216, 37.392438994120305, 37.19326988711, 28.3443801248462, 22.90834063623768, 21.43196343393633, 16.043356957803294, 15.43183632671362, 13.886568440138154, 12.686193355474398, 11.231684750392054, 11.020333504035404, 8.89112971520067, 4.591252565143127, 4.492430023033606, 4.424295073290253, 4.304566805033307, 4.240811014683312, 4.2059317319546725, 4.168835042095082, 4.076748412910061, 3.7245066576045485, 3.2169258873268687, 2.9457822723301335, 2.5735187826802037, 2.2383703950268274, 19.264285811088772, 1059.1001838577067, 39.542276930082274, 279.8336451131629, 498.8456077531568, 45.40732375359224, 49.86426072886991, 30.06440681374612, 29.22807398792937, 23.0580654088364, 22.42679454161161, 21.63742075086787, 19.632857879368675, 16.73489415349446, 11.683395417098886, 110.14046117970905, 9.829485069201352, 8.918287149163161, 8.864536525000563, 8.265333900267295, 7.806220309573094, 7.711630085595268, 6.018100979167658, 5.80083976210357, 5.209507007979147, 5.0522280149637, 5.0522280149637, 4.781982145566434, 24.933086057103996, 4.347649849246759, 4.174538964891522, 2.921510583884568, 2.448453136931473, 30.069650614359492, 364.5201710668919, 25.315976902909043, 22.697986096424838, 8.555859468029071, 630.8602184879308, 438.9013381327822, 82.8468778594449, 61.509348939817976, 27.87358912237197, 20.22211660406781, 18.282347231967375, 17.210207626407428, 15.968818158418324, 15.451395363700742, 14.127363988476871, 13.085874857293591, 11.626187362388924, 8.11962251552849, 8.09303436040008, 7.442502932408955, 6.833022980710157, 5.855147777702307, 5.259447785584344, 5.203457802921319, 5.000004479582384, 4.828347012105549, 4.8086459568572115, 3.8783518097233287, 3.643945210005828, 3.377405804915964, 3.2843388279433734, 3.239950975517386, 3.163061277779225, 2.6172345444612652, 134.91956697648908, 31.62126746872559, 32.67830317877794, 44.074391464492635, 517.3391652753187, 475.3517774364223, 69.71275261186369, 60.06706391201197, 56.375529645343086, 45.10821933495283, 32.49725341606083, 31.22915045029185, 16.368574728779684, 15.393934751391981, 15.206051517744498, 14.307935340936075, 12.633730832837161, 12.604154922490482, 11.293664784163434, 8.296440339415234, 7.607416022588472, 7.564429396403901, 7.446544727981946, 5.4396309237931995, 4.506983138467721, 2.8447752229264895, 2.783726206705517, 2.574120657221334, 2.574120657221334, 2.375017542435458, 2.250653116921736, 2.211906891046762, 2.2119063539019352, 2.182869199816354, 11.812641940358834, 15.460282880375814, 7.266097011121058, 3.2882899767200056, 2.9458504811442667], \"Total\": [1238.0, 631.0, 517.0, 475.0, 499.0, 470.0, 439.0, 425.0, 422.0, 341.0, 332.0, 452.0, 318.0, 366.0, 279.0, 293.0, 280.0, 207.0, 140.0, 144.0, 133.0, 132.0, 124.0, 139.0, 116.0, 111.0, 111.0, 110.0, 113.0, 106.0, 65.03409228547412, 58.104148279577714, 57.84744211027572, 58.482829159394846, 43.36659380620528, 43.31926196124402, 40.85979412947834, 40.198855286498414, 39.72938403906012, 39.53207664748971, 35.17129575876759, 30.854564446585506, 30.673637704388856, 29.224510715028508, 31.00406028602086, 28.563224909392698, 43.556544148607884, 27.17428708348008, 26.4858831409813, 25.210496067453285, 24.74845390086252, 23.081447836708232, 22.932421327027892, 21.087943897890575, 20.55895882894922, 20.41397588453729, 19.96099186936768, 19.78727019139238, 17.707557384541776, 17.50346622840672, 39.45833251164934, 34.71233444288333, 71.07090105667825, 123.28762237514884, 21.667005062912676, 69.40252783425557, 82.23585808457443, 130.37214659656257, 105.04359392858412, 76.93585623812253, 67.75133647143001, 65.14354409316427, 62.64438634021992, 62.15219044048373, 48.78950406717086, 48.162910911640104, 44.383983933887805, 44.06706482386624, 49.058866801084996, 139.570482076954, 38.10677174578954, 36.20040131094319, 34.94026289570243, 32.30186533956108, 89.36329376945672, 23.753783242975437, 23.538165153725046, 22.950656961167738, 25.69454584181114, 21.915316281266954, 21.400611823912804, 21.14241207974417, 19.899817857167466, 19.635533676927047, 19.274239967890548, 18.549914401412302, 18.402309967080257, 17.594985197546382, 16.911790081911146, 93.51112443814819, 31.47595454006649, 36.74984772649465, 48.041807118350874, 36.131759214839384, 130.37214659656257, 82.23585808457443, 69.40252783425557, 1238.372158155323, 116.73034460792628, 124.6672558555555, 65.27089249910698, 55.61541724784681, 57.93329967116478, 52.42041106997678, 29.714233253377866, 19.228841470334384, 14.318444622450299, 12.432935728342786, 12.222380185764454, 11.939238334932917, 11.573308189757995, 10.659808534992722, 10.486454684820112, 10.201107905318299, 9.871969456666358, 9.653180252849829, 425.9664848068865, 7.746500828586545, 7.436228351396639, 7.189983021297939, 6.91222210683318, 6.8124667527128935, 6.744791835688238, 6.616013959810909, 5.150252100920355, 4.843605549322048, 4.3429136186828865, 4.3048377255555526, 422.4567730820151, 280.73266472168615, 105.04359392858412, 15.314554409937069, 82.23585808457443, 140.27516020172564, 133.34622309662655, 106.9112042990297, 75.3791745768261, 97.87037715532324, 49.50698407307199, 49.258670045111906, 47.591188019997624, 28.80130033764738, 27.73936230295277, 24.90722891755208, 24.676957920299483, 23.869128988437023, 22.29401082104352, 21.436994417340983, 19.11509913671185, 17.33336746739872, 17.144941127417155, 16.048536850139584, 15.315560379919063, 14.592786151726035, 13.978453149187931, 13.833489800870986, 13.135139378480625, 11.169061937123626, 10.905220861854934, 16.647362213931494, 10.710524004447317, 10.11415943882127, 9.064735848927766, 66.52608389437813, 293.4884127951271, 132.80169553193704, 15.937847752149965, 42.03922330734349, 1238.372158155323, 21.037809089091294, 470.92408559216943, 332.96742596021676, 111.85042278810872, 73.23346116452622, 60.93289417569233, 42.06498201801081, 41.801931363772816, 39.860902439481684, 45.23073342416517, 41.99228864179517, 35.07561358001808, 33.85584008677366, 31.761807095253506, 31.65338958085244, 30.631952482275192, 28.424586886411632, 28.764038241007572, 26.67065820695876, 54.841248659706494, 21.14844417205837, 15.054560051644554, 14.904779166996432, 14.418963209339681, 12.151712156069138, 11.077997183764559, 9.615107705772083, 8.912785217518858, 8.46857267730439, 8.049405861879182, 7.654082891000902, 63.68863936295359, 34.29007292197041, 18.766816572354614, 452.3663790418418, 341.98869249738584, 110.27003813205552, 318.1096096782815, 207.99766381195266, 42.70522771715913, 30.967750821504275, 29.895711393996564, 25.701119344829998, 21.204819364925005, 18.659996567563518, 13.910961264333546, 13.048389632041255, 12.553874197747238, 14.866416803417192, 11.262586857148237, 10.631886168984494, 10.537031319407122, 8.649263889279945, 7.593469459517247, 7.4068075497148165, 6.8720198814897255, 113.04769898187733, 6.335798310135221, 5.554807760725338, 5.320065624839634, 5.135351179452892, 4.8890458525288825, 4.484583838114277, 8.658786007021726, 3.6240856495080993, 366.2624083490569, 48.6697693081276, 13.097625474573581, 36.681613925027676, 9.217678368608683, 452.3663790418418, 101.32328228347373, 73.83176125227232, 67.21259890358311, 48.32100766594221, 44.93866271197246, 37.502597075393986, 37.30336506437366, 28.45449179589851, 23.018457340302366, 21.54205910222113, 16.153452025906702, 15.541940088377418, 13.996663696055233, 12.796288625443314, 11.341780056475116, 11.130428663792747, 9.001224801967046, 4.7013476592452434, 4.602525097016576, 4.534390165530287, 4.414661892122405, 4.350906309849084, 4.316026825335626, 4.278930206501848, 4.186843486963824, 3.8346017274888617, 3.327021001798911, 3.055877341603383, 2.683613860824634, 2.348465465725533, 20.47089077229798, 1238.372158155323, 366.2624083490569, 279.96755551838925, 499.92687908666596, 45.519300336115435, 50.01176426227725, 30.176371309732634, 29.343824857154114, 23.170018886489775, 22.53890513930167, 21.749373850749613, 19.744878368062466, 16.8468472352305, 11.795348624351202, 111.37462644247223, 9.941438144230377, 9.030243403248184, 8.97648975836023, 8.377286967673507, 7.9181736399241895, 7.823583208814812, 6.130054300351252, 5.912792854017951, 5.3214601839229, 5.164181072099005, 5.164181101525723, 4.893935365723013, 25.529884362760132, 4.459603031698726, 4.286492073230067, 3.0334636889579882, 2.560406205163348, 33.83764803176176, 452.3663790418418, 29.38337084021945, 30.52286727027075, 34.29007292197041, 631.3132535489947, 439.6549728761124, 82.99645802657933, 61.62110252852217, 27.985242748343484, 20.333773314271163, 18.394000788528697, 17.321886472548098, 16.08047172114378, 15.564576321767271, 14.239017745029297, 13.197528410075673, 11.737840992960221, 8.231276125055626, 8.204688605388874, 7.554156608451659, 6.944676597313375, 5.966801326092905, 5.371101345938848, 5.315111352435642, 5.111658095118412, 4.9400006484441645, 4.920299507182822, 3.990005365123398, 3.7555988332429764, 3.4890593616826355, 3.3959923869954713, 3.351604528357249, 3.274714826816761, 2.728888131080643, 144.1789861181803, 34.8615421540142, 123.28762237514884, 452.3663790418418, 517.447994056612, 475.47987400194336, 69.82147451308627, 60.17572655811741, 56.48419148277422, 45.21687989979669, 32.60593165143311, 31.337810783030882, 16.477234150104515, 15.50259363759689, 15.314711023020871, 14.41659401398555, 12.742394250735904, 12.712813673972649, 11.40232341923545, 8.405098983877108, 7.716080026884528, 7.673088029835503, 7.555211136943603, 5.548289563727837, 4.6156418818663045, 2.9534338563639064, 2.8923848428545864, 2.6827792949638236, 2.6827794030971037, 2.483676177180096, 2.359311752233384, 2.320565522849579, 2.3205649868745915, 2.2915280750636513, 12.408207162505269, 452.3663790418418, 280.73266472168615, 422.4567730820151, 1238.372158155323], \"Category\": [\"Default\", \"Default\", \"Default\", \"Default\", \"Default\", \"Default\", \"Default\", \"Default\", \"Default\", \"Default\", \"Default\", \"Default\", \"Default\", \"Default\", \"Default\", \"Default\", \"Default\", \"Default\", \"Default\", \"Default\", \"Default\", \"Default\", \"Default\", \"Default\", \"Default\", \"Default\", \"Default\", \"Default\", \"Default\", \"Default\", \"Topic1\", \"Topic1\", \"Topic1\", \"Topic1\", \"Topic1\", \"Topic1\", \"Topic1\", \"Topic1\", \"Topic1\", \"Topic1\", \"Topic1\", \"Topic1\", \"Topic1\", \"Topic1\", \"Topic1\", \"Topic1\", \"Topic1\", \"Topic1\", \"Topic1\", \"Topic1\", \"Topic1\", \"Topic1\", \"Topic1\", \"Topic1\", \"Topic1\", \"Topic1\", \"Topic1\", \"Topic1\", \"Topic1\", \"Topic1\", \"Topic1\", \"Topic1\", \"Topic1\", \"Topic1\", \"Topic1\", \"Topic1\", \"Topic1\", \"Topic1\", \"Topic1\", \"Topic2\", \"Topic2\", \"Topic2\", \"Topic2\", \"Topic2\", \"Topic2\", \"Topic2\", \"Topic2\", \"Topic2\", \"Topic2\", \"Topic2\", \"Topic2\", \"Topic2\", \"Topic2\", \"Topic2\", \"Topic2\", \"Topic2\", \"Topic2\", \"Topic2\", \"Topic2\", \"Topic2\", \"Topic2\", \"Topic2\", \"Topic2\", \"Topic2\", \"Topic2\", \"Topic2\", \"Topic2\", \"Topic2\", \"Topic2\", \"Topic2\", \"Topic2\", \"Topic2\", \"Topic2\", \"Topic2\", \"Topic2\", \"Topic2\", \"Topic2\", \"Topic2\", \"Topic3\", \"Topic3\", \"Topic3\", \"Topic3\", \"Topic3\", \"Topic3\", \"Topic3\", \"Topic3\", \"Topic3\", \"Topic3\", \"Topic3\", \"Topic3\", \"Topic3\", \"Topic3\", \"Topic3\", \"Topic3\", \"Topic3\", \"Topic3\", \"Topic3\", \"Topic3\", \"Topic3\", \"Topic3\", \"Topic3\", \"Topic3\", \"Topic3\", \"Topic3\", \"Topic3\", \"Topic3\", \"Topic3\", \"Topic3\", \"Topic3\", \"Topic3\", \"Topic3\", \"Topic3\", \"Topic3\", \"Topic4\", \"Topic4\", \"Topic4\", \"Topic4\", \"Topic4\", \"Topic4\", \"Topic4\", \"Topic4\", \"Topic4\", \"Topic4\", \"Topic4\", \"Topic4\", \"Topic4\", \"Topic4\", \"Topic4\", \"Topic4\", \"Topic4\", \"Topic4\", \"Topic4\", \"Topic4\", \"Topic4\", \"Topic4\", \"Topic4\", \"Topic4\", \"Topic4\", \"Topic4\", \"Topic4\", \"Topic4\", \"Topic4\", \"Topic4\", \"Topic4\", \"Topic4\", \"Topic4\", \"Topic4\", \"Topic4\", \"Topic4\", \"Topic4\", \"Topic5\", \"Topic5\", \"Topic5\", \"Topic5\", \"Topic5\", \"Topic5\", \"Topic5\", \"Topic5\", \"Topic5\", \"Topic5\", \"Topic5\", \"Topic5\", \"Topic5\", \"Topic5\", \"Topic5\", \"Topic5\", \"Topic5\", \"Topic5\", \"Topic5\", \"Topic5\", \"Topic5\", \"Topic5\", \"Topic5\", \"Topic5\", \"Topic5\", \"Topic5\", \"Topic5\", \"Topic5\", \"Topic5\", \"Topic5\", \"Topic5\", \"Topic5\", \"Topic5\", \"Topic5\", \"Topic6\", \"Topic6\", \"Topic6\", \"Topic6\", \"Topic6\", \"Topic6\", \"Topic6\", \"Topic6\", \"Topic6\", \"Topic6\", \"Topic6\", \"Topic6\", \"Topic6\", \"Topic6\", \"Topic6\", \"Topic6\", \"Topic6\", \"Topic6\", \"Topic6\", \"Topic6\", \"Topic6\", \"Topic6\", \"Topic6\", \"Topic6\", \"Topic6\", \"Topic6\", \"Topic6\", \"Topic6\", \"Topic6\", \"Topic6\", \"Topic6\", \"Topic6\", \"Topic6\", \"Topic6\", \"Topic6\", \"Topic6\", \"Topic7\", \"Topic7\", \"Topic7\", \"Topic7\", \"Topic7\", \"Topic7\", \"Topic7\", \"Topic7\", \"Topic7\", \"Topic7\", \"Topic7\", \"Topic7\", \"Topic7\", \"Topic7\", \"Topic7\", \"Topic7\", \"Topic7\", \"Topic7\", \"Topic7\", \"Topic7\", \"Topic7\", \"Topic7\", \"Topic7\", \"Topic7\", \"Topic7\", \"Topic7\", \"Topic7\", \"Topic7\", \"Topic7\", \"Topic7\", \"Topic7\", \"Topic7\", \"Topic7\", \"Topic8\", \"Topic8\", \"Topic8\", \"Topic8\", \"Topic8\", \"Topic8\", \"Topic8\", \"Topic8\", \"Topic8\", \"Topic8\", \"Topic8\", \"Topic8\", \"Topic8\", \"Topic8\", \"Topic8\", \"Topic8\", \"Topic8\", \"Topic8\", \"Topic8\", \"Topic8\", \"Topic8\", \"Topic8\", \"Topic8\", \"Topic8\", \"Topic8\", \"Topic8\", \"Topic8\", \"Topic8\", \"Topic8\", \"Topic8\", \"Topic8\", \"Topic8\", \"Topic8\", \"Topic8\", \"Topic8\", \"Topic9\", \"Topic9\", \"Topic9\", \"Topic9\", \"Topic9\", \"Topic9\", \"Topic9\", \"Topic9\", \"Topic9\", \"Topic9\", \"Topic9\", \"Topic9\", \"Topic9\", \"Topic9\", \"Topic9\", \"Topic9\", \"Topic9\", \"Topic9\", \"Topic9\", \"Topic9\", \"Topic9\", \"Topic9\", \"Topic9\", \"Topic9\", \"Topic9\", \"Topic9\", \"Topic9\", \"Topic9\", \"Topic9\", \"Topic9\", \"Topic9\", \"Topic9\", \"Topic9\", \"Topic9\", \"Topic10\", \"Topic10\", \"Topic10\", \"Topic10\", \"Topic10\", \"Topic10\", \"Topic10\", \"Topic10\", \"Topic10\", \"Topic10\", \"Topic10\", \"Topic10\", \"Topic10\", \"Topic10\", \"Topic10\", \"Topic10\", \"Topic10\", \"Topic10\", \"Topic10\", \"Topic10\", \"Topic10\", \"Topic10\", \"Topic10\", \"Topic10\", \"Topic10\", \"Topic10\", \"Topic10\", \"Topic10\", \"Topic10\", \"Topic10\", \"Topic10\", \"Topic10\", \"Topic10\", \"Topic10\", \"Topic10\"], \"logprob\": [30.0, 29.0, 28.0, 27.0, 26.0, 25.0, 24.0, 23.0, 22.0, 21.0, 20.0, 19.0, 18.0, 17.0, 16.0, 15.0, 14.0, 13.0, 12.0, 11.0, 10.0, 9.0, 8.0, 7.0, 6.0, 5.0, 4.0, 3.0, 2.0, 1.0, -3.6794, -3.7923, -3.7967, -3.7858, -4.0854, -4.0865, -4.1451, -4.1615, -4.1733, -4.1783, -4.2955, -4.4269, -4.4328, -4.4813, -4.4223, -4.5043, -4.0825, -4.5544, -4.5801, -4.6297, -4.6483, -4.7183, -4.7248, -4.8091, -4.8346, -4.8417, -4.8643, -4.8731, -4.9848, -4.9964, -4.2121, -4.3364, -3.7305, -3.3496, -4.8004, -4.1623, -4.3586, -4.2626, -4.5841, -3.5034, -3.6307, -3.67, -3.7092, -3.7173, -3.9597, -3.9726, -4.0545, -4.0617, -3.9544, -2.9092, -4.2074, -4.2589, -4.2946, -4.3732, -3.356, -4.6818, -4.691, -4.7163, -4.6035, -4.7628, -4.7866, -4.7988, -4.8597, -4.8731, -4.8918, -4.9303, -4.9384, -4.9835, -5.0234, -3.3335, -4.4126, -4.2639, -4.115, -4.361, -3.3943, -4.2129, -4.4691, -3.757, -2.837, -2.7713, -3.4191, -3.5795, -3.5387, -3.6388, -4.2081, -4.6453, -4.9422, -5.0846, -5.1018, -5.1255, -5.1569, -5.24, -5.2565, -5.2844, -5.3176, -5.3403, -1.5556, -5.5632, -5.6047, -5.6389, -5.6789, -5.6937, -5.7038, -5.7234, -5.9795, -6.0415, -6.1534, -6.1624, -1.5924, -2.0568, -3.2387, -5.0174, -5.1592, -2.6369, -2.6877, -2.9088, -3.2587, -2.9982, -3.6798, -3.6848, -3.7194, -4.2231, -4.2608, -4.3689, -4.3782, -4.4117, -4.4803, -4.5196, -4.6349, -4.7333, -4.7443, -4.8108, -4.8579, -4.9066, -4.9499, -4.9604, -5.0127, -5.1763, -5.2004, -4.7774, -5.2186, -5.2765, -5.3873, -3.4014, -1.9329, -2.7182, -4.8378, -4.0017, -3.0055, -4.8168, -1.4185, -1.7653, -2.8569, -3.2809, -3.465, -3.8364, -3.8427, -3.8903, -3.764, -3.8383, -4.0186, -4.0541, -4.1182, -4.1216, -4.1545, -4.2296, -4.2177, -4.2935, -3.5735, -4.5269, -4.8685, -4.8786, -4.912, -5.0845, -5.1779, -5.321, -5.3978, -5.4495, -5.501, -5.552, -3.7754, -4.329, -5.0955, -4.762, -1.7112, -2.8436, -1.7848, -2.2103, -3.7938, -4.1162, -4.1516, -4.3034, -4.4966, -4.6252, -4.9209, -4.9855, -5.0245, -4.8556, -5.134, -5.1923, -5.2013, -5.4011, -5.5331, -5.5584, -5.6345, -2.8349, -5.7171, -5.8512, -5.8953, -5.9314, -5.9817, -6.0702, -5.413, -6.2893, -1.7822, -3.8658, -5.089, -4.304, -5.6205, -5.7431, -2.8768, -3.1937, -3.2879, -3.6184, -3.6912, -3.8726, -3.8779, -4.1496, -4.3625, -4.4291, -4.7187, -4.7576, -4.8631, -4.9535, -5.0753, -5.0943, -5.309, -5.9699, -5.9916, -6.0069, -6.0343, -6.0493, -6.0575, -6.0664, -6.0887, -6.1791, -6.3256, -6.4136, -6.5487, -6.6883, -4.5358, -0.5288, -3.8166, -1.8563, -1.2782, -3.6748, -3.5812, -4.0871, -4.1153, -4.3524, -4.3802, -4.416, -4.5133, -4.673, -5.0323, -2.7887, -5.2051, -5.3024, -5.3084, -5.3784, -5.4355, -5.4477, -5.6957, -5.7325, -5.84, -5.8706, -5.8706, -5.9256, -4.2743, -6.0208, -6.0615, -6.4184, -6.595, -4.0869, -1.5919, -4.259, -4.3682, -5.3438, -1.03, -1.3928, -3.0601, -3.3579, -4.1494, -4.4703, -4.5711, -4.6315, -4.7064, -4.7393, -4.8289, -4.9055, -5.0238, -5.3828, -5.386, -5.4698, -5.5553, -5.7097, -5.817, -5.8277, -5.8676, -5.9025, -5.9066, -6.1216, -6.184, -6.2599, -6.2879, -6.3015, -6.3255, -6.5149, -2.5724, -4.0232, -3.9903, -3.6912, -1.0895, -1.1742, -3.0939, -3.2428, -3.3062, -3.5292, -3.8571, -3.8969, -4.5429, -4.6043, -4.6166, -4.6774, -4.8019, -4.8042, -4.914, -5.2224, -5.3091, -5.3148, -5.3305, -5.6445, -5.8326, -6.2928, -6.3145, -6.3927, -6.3927, -6.4732, -6.527, -6.5444, -6.5444, -6.5576, -4.8691, -4.6, -5.355, -6.1479, -6.2578], \"loglift\": [30.0, 29.0, 28.0, 27.0, 26.0, 25.0, 24.0, 23.0, 22.0, 21.0, 20.0, 19.0, 18.0, 17.0, 16.0, 15.0, 14.0, 13.0, 12.0, 11.0, 10.0, 9.0, 8.0, 7.0, 6.0, 5.0, 4.0, 3.0, 2.0, 1.0, 2.0393, 2.0391, 2.0391, 2.0391, 2.0385, 2.0385, 2.0383, 2.0383, 2.0383, 2.0383, 2.0379, 2.0375, 2.0375, 2.0373, 2.0372, 2.0372, 2.0371, 2.037, 2.0369, 2.0367, 2.0366, 2.0363, 2.0363, 2.0359, 2.0357, 2.0357, 2.0356, 2.0355, 2.0349, 2.0348, 2.0063, 2.0101, 1.8995, 1.7295, 2.0175, 1.4914, 1.1255, 0.7607, 0.6552, 2.0473, 2.0471, 2.047, 2.0469, 2.0468, 2.0464, 2.0464, 2.0462, 2.0462, 2.0462, 2.0459, 2.0458, 2.0457, 2.0454, 2.0453, 2.0449, 2.0441, 2.0441, 2.0439, 2.0439, 2.0436, 2.0436, 2.0435, 2.0432, 2.0431, 2.043, 2.0428, 2.0428, 2.0425, 2.0423, 2.0221, 2.0318, 2.0256, 1.9065, 1.9455, 1.629, 1.2712, 1.1846, -0.9849, 2.2968, 2.2967, 2.296, 2.2957, 2.2957, 2.2956, 2.2939, 2.2919, 2.2899, 2.2887, 2.2886, 2.2883, 2.288, 2.2872, 2.287, 2.2867, 2.2864, 2.2861, 2.2837, 2.2832, 2.2826, 2.2821, 2.2815, 2.2812, 2.281, 2.2807, 2.2751, 2.2744, 2.2717, 2.2715, 2.2552, 2.1995, 2.0006, 2.1475, 0.3248, 2.3131, 2.313, 2.3129, 2.3124, 2.3118, 2.3117, 2.3117, 2.3116, 2.3102, 2.31, 2.3096, 2.3095, 2.3094, 2.3091, 2.3089, 2.3083, 2.3077, 2.3076, 2.3072, 2.3069, 2.3065, 2.3062, 2.3061, 2.3057, 2.3042, 2.304, 2.304, 2.3038, 2.3032, 2.302, 2.2947, 2.2789, 2.2866, 2.2871, 2.1533, -0.2334, 2.0305, 2.3204, 2.3203, 2.3196, 2.3191, 2.3189, 2.3181, 2.318, 2.3179, 2.3179, 2.3178, 2.3175, 2.3174, 2.3172, 2.3172, 2.3171, 2.3168, 2.3168, 2.3166, 2.3157, 2.3152, 2.3134, 2.3133, 2.3131, 2.3117, 2.3108, 2.3093, 2.3084, 2.3078, 2.3071, 2.3064, 1.9642, 2.0298, 1.8661, -0.9828, 2.3477, 2.3471, 2.3465, 2.3458, 2.3455, 2.3445, 2.3444, 2.3437, 2.3428, 2.3421, 2.34, 2.3395, 2.3391, 2.339, 2.3381, 2.3375, 2.3374, 2.3351, 2.3332, 2.3329, 2.3317, 2.3309, 2.3303, 2.3277, 2.3268, 2.3261, 2.3249, 2.3228, 2.3221, 2.3167, 2.2081, 2.1428, 2.2322, 1.9874, 2.052, -1.9639, 2.3985, 2.3981, 2.3979, 2.3973, 2.3972, 2.3967, 2.3967, 2.3957, 2.3948, 2.3945, 2.3928, 2.3925, 2.3917, 2.391, 2.3899, 2.3897, 2.3873, 2.3759, 2.3754, 2.375, 2.3744, 2.374, 2.3738, 2.3736, 2.373, 2.3705, 2.366, 2.3629, 2.3577, 2.3516, 2.3389, 2.2432, 0.1736, 2.4027, 2.401, 2.4007, 2.4002, 2.3995, 2.3992, 2.3983, 2.3982, 2.398, 2.3975, 2.3965, 2.3936, 2.392, 2.3919, 2.3907, 2.3906, 2.3897, 2.3889, 2.3888, 2.3848, 2.3841, 2.3819, 2.3813, 2.3813, 2.38, 2.3795, 2.3778, 2.3767, 2.3656, 2.3585, 2.2851, 2.1873, 2.2542, 2.107, 1.0149, 2.4159, 2.4149, 2.4148, 2.4148, 2.4126, 2.4111, 2.4105, 2.4101, 2.4096, 2.4093, 2.4087, 2.4081, 2.407, 2.4029, 2.4029, 2.4017, 2.4004, 2.3977, 2.3956, 2.3954, 2.3945, 2.3937, 2.3936, 2.3882, 2.3864, 2.3841, 2.3832, 2.3827, 2.3819, 2.3748, 2.3502, 2.319, 1.0888, 0.088, 2.5552, 2.5551, 2.5538, 2.5536, 2.5535, 2.553, 2.5521, 2.5519, 2.5488, 2.5484, 2.5483, 2.5478, 2.5468, 2.5468, 2.5458, 2.5424, 2.5412, 2.5411, 2.5409, 2.5356, 2.5316, 2.5179, 2.5171, 2.514, 2.514, 2.5107, 2.5082, 2.5074, 2.5074, 2.5068, 2.5062, -0.8208, -1.0988, -2.3003, -3.4858]}, \"token.table\": {\"Topic\": [3, 5, 8, 5, 5, 8, 8, 4, 2, 8, 6, 8, 8, 2, 10, 8, 5, 5, 8, 2, 5, 7, 5, 1, 5, 1, 2, 5, 6, 2, 10, 6, 2, 5, 6, 4, 4, 4, 9, 2, 10, 7, 3, 7, 9, 6, 1, 1, 2, 7, 10, 8, 10, 7, 1, 6, 9, 1, 3, 9, 4, 9, 5, 10, 8, 10, 5, 8, 1, 2, 9, 4, 6, 1, 8, 5, 3, 7, 6, 3, 6, 1, 9, 1, 3, 4, 7, 1, 4, 8, 1, 2, 1, 2, 6, 2, 3, 10, 1, 2, 9, 2, 4, 8, 1, 1, 10, 2, 4, 4, 2, 4, 6, 3, 1, 2, 5, 9, 1, 6, 2, 3, 5, 3, 5, 10, 7, 5, 9, 3, 7, 5, 8, 10, 1, 3, 2, 10, 10, 7, 5, 8, 9, 3, 1, 4, 6, 9, 3, 3, 9, 3, 7, 5, 10, 1, 9, 2, 5, 2, 4, 8, 1, 10, 6, 1, 2, 4, 2, 1, 8, 7, 4, 7, 9, 3, 9, 4, 9, 4, 3, 5, 8, 8, 3, 6, 1, 2, 5, 2, 4, 10, 3, 9, 2, 7, 2, 3, 6, 2, 1, 4, 2, 1, 1, 2, 4, 5, 1, 9, 4, 1, 6, 8, 10, 1, 2, 3, 4, 7, 8, 10, 5, 3, 1, 4, 7, 10, 7, 8, 1, 1, 2, 8, 3, 4, 2, 5, 1, 8, 2, 8, 7, 1, 7, 8, 6, 9, 9, 8, 10, 5, 4, 4, 4, 2, 7, 4, 10, 1, 7, 10, 9, 4, 4, 5, 3, 5, 1, 2, 3, 4, 5, 7, 6, 5, 4, 7, 10, 1, 2, 3, 4, 5, 7, 8, 9, 10, 4, 2, 2, 8, 1, 2, 3, 6, 10, 5, 3, 4, 6, 10, 3, 4, 5, 6, 7, 8, 9, 10, 3, 1, 10, 10, 2, 4, 1, 8, 9, 9, 2, 9, 3, 5, 9, 10, 1, 7, 2, 6, 6, 10, 1, 3, 2, 10, 3, 10, 4, 1, 2, 9, 5, 3, 2, 8, 9, 2, 4, 5, 9, 1, 2, 1, 10, 2, 3, 6, 6, 1, 6, 5, 6, 7, 6, 8, 4, 7, 4, 6, 8, 1, 9, 7, 8, 3, 5, 6, 10, 5, 2, 1, 6, 3, 5, 5, 8, 6, 2, 7, 2, 4, 7, 6, 10, 7, 9, 6, 6, 6, 7, 9, 8, 9, 10, 9, 7, 10, 6, 7], \"Freq\": [1.012698939908202, 1.04002995140625, 0.968207723585441, 0.997844269214405, 0.9984551991967336, 1.0090908858275407, 0.9966508761837687, 0.9887129089162773, 0.13613142010667031, 0.8508213756666895, 0.9218447558548584, 0.7811260556886538, 0.8969408199716699, 1.0185615695030088, 0.9991342239959231, 0.9760900036638441, 0.9929808466830626, 0.11821152570194578, 0.8865864427645933, 0.9795958956870983, 0.027210997102419397, 0.9840274147519998, 0.9948987467879108, 0.9916504591226575, 1.0000978295089658, 0.576347883113515, 0.4178522152572984, 1.0451938023046237, 1.0182209804383087, 0.9959346421317687, 0.9265128231521258, 1.103726673938549, 1.005034324612999, 1.0063886107896463, 0.9490339068824806, 0.9611132258905412, 0.9868121163390662, 0.9796149400035535, 1.0161983010791982, 0.08059182014802015, 0.9671018417762417, 0.9017075631256636, 0.9504628944155005, 0.9348130974237409, 0.971902761911773, 0.8919445247079961, 1.0029468616509527, 0.08302944736684435, 0.9133239210352878, 0.9968369188656417, 1.0832729505388496, 0.9792445451287252, 1.1182432653749632, 0.8690881452428925, 0.2998777540836271, 0.708801964197664, 0.8833942065029725, 0.24751628374098275, 0.7425488512229483, 0.940714063818956, 0.992858495823083, 0.9850329240492584, 1.0074993498963127, 0.967580028907034, 0.9395917336948062, 0.9710367561838958, 1.0082033599390794, 1.022549359606276, 0.9692156317416298, 0.9966175027929898, 1.000527322624614, 1.0008305556143764, 0.9962915245937759, 0.9802814664247703, 0.9882828888589726, 0.9929592703021384, 1.0327243457430455, 1.0635248363663246, 1.0346235677437343, 1.0322888495120837, 0.9450765330428385, 0.9935863236100853, 1.0223345168159126, 0.9816550145451068, 0.9708262628748786, 0.04884985275546678, 0.9281472023538688, 0.9958296599082203, 0.9969756214792153, 0.9889684887016125, 0.979478924298352, 0.02880820365583388, 1.00471358309615, 0.9984781191092647, 1.0226944378960419, 0.998800078254484, 0.9651783184758334, 0.9794504106184047, 1.0019542180512673, 0.9971980899746162, 0.8950936706934264, 1.0056767043394559, 0.9974035777798096, 1.017350176087742, 1.010164113691511, 0.9950532102200134, 0.9952035633533913, 0.14272385472335566, 0.856343128340134, 0.9793960931176369, 1.0103653702025497, 0.9915461286020181, 0.9001211590708781, 0.9210406540881454, 0.2198194236842736, 0.06280554962407817, 0.7065624332708794, 0.01570138740601954, 0.2169743746767203, 0.759410311368521, 0.9661843877180781, 0.9413374185430026, 1.0011013070233326, 0.991980011957259, 0.9709435967581702, 0.9518031870113391, 0.9998639294102756, 0.06242241149221913, 0.9363361723832869, 0.9735767079372541, 1.1178955526329504, 1.0001612030689302, 0.9885916450323069, 0.9647156632518649, 0.9728119097080857, 1.0023100710700328, 0.9812803565052676, 0.9914278407805149, 1.0367958823814984, 0.9817147956684462, 0.9963758454941635, 1.0115233730851405, 1.0121456161295712, 0.9802856800276123, 0.015031697966585197, 0.9770603678280378, 1.0116290909808223, 0.9637268429223028, 0.9818054926794486, 1.0275279504611785, 0.9814173546825731, 1.0096171671059238, 1.0431331033221674, 1.0034895737930043, 0.9011786321838171, 0.73000028929215, 0.267666772740455, 0.8742385542769676, 0.1248912220395668, 0.997796495490651, 1.0270272486605216, 0.9549631080886458, 0.9872224906845446, 0.989220345180787, 0.9469998422143501, 1.0107508416547604, 0.022590073025675637, 0.9713731401040525, 1.0017096924678526, 0.9923177254456803, 1.014748892466745, 1.015919567033807, 1.0130908388604407, 0.955373663346724, 0.9161103053715972, 1.012969098404897, 1.0000426761997425, 1.0068989823384082, 0.859830598741438, 0.9939786272679698, 0.9536111393754183, 0.7582369410285279, 0.26246663343295196, 1.0129209016729217, 1.0050892413203028, 1.0000112317994565, 0.9630412027366135, 0.025343189545700355, 1.0097853566929578, 0.9932641517341056, 0.994969770112836, 0.9970797767111679, 1.0026690580630895, 0.9995038064744662, 0.9703548819950116, 0.9905003570963904, 1.0043143691835716, 0.995849719702995, 0.9996554342435855, 0.9975513261977554, 0.034072895433117534, 0.9642629407572263, 0.9959125879020791, 0.9865406350333105, 0.27613260147815333, 0.6596501035311442, 0.05369245028741871, 0.0076703500410598155, 0.08605471286228109, 0.9179169371976649, 1.0054828566063878, 1.0106398301615347, 1.0089855678304473, 0.9981459706900351, 0.002000292526432936, 0.011305163724654772, 0.04845070167709188, 0.0024225350838545942, 0.07832863437796521, 0.8551548846006717, 0.001615023389236396, 0.0024225350838545942, 1.002894743357843, 1.0011513297052612, 0.991744086831386, 1.0093959512911905, 0.9865983394594358, 1.022590304034371, 0.9882817932954342, 1.0058906825068976, 0.9797209575009413, 1.0165151301846702, 0.9913485924458749, 0.9331639792315812, 0.8488657033053971, 0.13059472358544572, 0.3729987967331495, 0.6394265086853992, 0.2620985744609909, 0.7535334015753488, 0.985771684468627, 0.9997647701005797, 0.9991981504220941, 0.9951296716520633, 0.9918676220268561, 0.9787841519864189, 1.0000330639663306, 0.975052239611576, 0.9781561886494239, 1.0001158865767523, 0.9989907585406204, 0.9875151621334805, 0.9947487407825869, 0.9593781375562802, 1.0037246649458682, 1.0038641339986243, 1.0013649112885417, 1.0086911708938047, 0.8052579552744876, 1.0026372452118704, 0.9651304737184844, 1.0426050071227329, 0.9785799297793651, 0.987577783942918, 0.9980384253254109, 1.0123484688861302, 1.0069150385124204, 1.0109501833369918, 0.8723682840401262, 0.11256364955356467, 0.014070456194195584, 1.0015414331315564, 1.004258051575647, 0.88214729081043, 0.9558802176107015, 0.9446692264258231, 0.9897116144270213, 0.969865395487017, 1.0157667806020965, 0.9994757782529744, 0.039183185223227314, 0.9047753678817942, 0.007124215495132239, 0.010686323242698357, 0.0035621077475661194, 0.0035621077475661194, 0.0035621077475661194, 0.024934754232962836, 1.0038996637950472, 0.9848787893164405, 0.008978705760387218, 0.987657633642594, 0.4012848016501702, 0.46208552917292334, 0.13376160055005676, 0.9239170472064453, 1.020216432186535, 1.004738265189317, 0.95867796613921, 0.02603816698155879, 0.007101318267697852, 0.007101318267697852, 0.008842390118541543, 0.002210597529635386, 0.03758015800380156, 0.013263585177812313, 0.002210597529635386, 0.8068680983169157, 0.09726629130395698, 0.03315896294453079, 0.9880990505492786, 0.9915466313115691, 1.0025568850866973, 1.1182433104473672, 0.23766733402826834, 0.7605354688904586, 1.003431389548302, 1.0103339941502716, 0.9949956865358639, 0.9835852741587856, 1.000833730395863, 0.9266421604455932, 1.0359280297338054, 0.9968120970822105, 1.0650764838336, 0.8727800552670281, 0.9926300230708075, 0.8516199319039686, 0.07634971712554309, 0.916196605506517, 1.0186233626673575, 0.8477048436293972, 0.9964712856279883, 1.0378378118300697, 0.9781380724593844, 1.0372063757045569, 1.0580388799844773, 0.8618590779884435, 0.989759342392506, 1.0068114814131983, 0.977136486628828, 1.0025049176534861, 1.0120151504523838, 0.9291871738286691, 1.0118878987030708, 0.9682077180683658, 1.0079663036732376, 0.9906548635384416, 1.0120367457182446, 0.9850626892799415, 0.930907774395387, 0.021387829651464366, 0.9731462491416287, 0.9998690401843048, 0.981416520837046, 0.9944641135543817, 1.0319134686041067, 1.040550978119047, 1.003488413593141, 0.184919717679801, 0.8218654119102268, 0.021842263409068745, 0.8682299705104826, 0.10921131704534372, 1.006400617036778, 1.002619090788565, 0.9848633718681692, 0.9933567679680557, 1.0013244338935268, 0.9818864160852526, 0.01769164713667122, 0.9982075586225516, 1.0061488265534109, 1.0002383642285917, 0.9926621170520965, 0.9859930651361187, 0.002347602536038378, 0.009390410144153512, 0.002347602536038378, 1.0013372967947975, 1.0036702379837903, 0.9712361984856671, 0.973643247613825, 0.9777598314029863, 1.0001836374833153, 0.9938621728451834, 0.9941553174859116, 0.9975511196275082, 1.0021499619342378, 1.0022786771556598, 1.0052158829823228, 0.9807672993706659, 0.919348686259977, 1.0010413794234398, 0.9711031597628808, 0.926778299087367, 1.005563897990355, 0.9903409049895612, 0.9766850315581295, 0.9398380306917207, 0.9748371731945884, 0.9832138881129819, 1.0216726675672632, 0.9985102570958592, 0.0022745108362092464, 1.0993488394894357, 0.9060716534459107, 0.8618588789270923, 1.006902487086433, 0.9968093978384033], \"Term\": [\"ability\", \"able\", \"academy\", \"action\", \"actually\", \"add\", \"advantage\", \"ah\", \"ahead\", \"ahead\", \"amazing\", \"amber\", \"anybody\", \"arm\", \"ashley\", \"ashton\", \"ask\", \"attack\", \"attack\", \"away\", \"away\", \"bad\", \"ball\", \"base\", \"be\", \"begin\", \"begin\", \"believe\", \"big\", \"bit\", \"block\", \"blow\", \"blue\", \"bonus\", \"boy\", \"break\", \"bring\", \"brumestone\", \"bunch\", \"burn\", \"burn\", \"butter\", \"call\", \"case\", \"cast\", \"cause\", \"chain\", \"chamber\", \"chamber\", \"check\", \"chet\", \"chetney\", \"circle\", \"class\", \"close\", \"close\", \"clutch\", \"come\", \"come\", \"conservatory\", \"construct\", \"contraption\", \"cool\", \"corner\", \"correct\", \"course\", \"cover\", \"crazy\", \"creature\", \"creeper\", \"d\", \"damage\", \"damn\", \"dark\", \"day\", \"daylight\", \"dead\", \"deck\", \"definitely\", \"describe\", \"destroy\", \"dexterity\", \"dice\", \"different\", \"directly\", \"disadvantage\", \"disadvantage\", \"draw\", \"earlier\", \"embrace\", \"emoth\", \"emoth\", \"encounter\", \"end\", \"especially\", \"eye\", \"face\", \"fail\", \"faintly\", \"fall\", \"fast\", \"fearne\", \"feel\", \"feeling\", \"figure\", \"find\", \"fine\", \"finish\", \"finish\", \"fire\", \"flame\", \"flash\", \"fly\", \"folk\", \"foot\", \"foot\", \"foot\", \"foot\", \"form\", \"form\", \"fresh\", \"friend\", \"fuck\", \"fucking\", \"fun\", \"game\", \"general\", \"get\", \"get\", \"giant\", \"girl\", \"go\", \"god\", \"goddamn\", \"gold\", \"good\", \"grab\", \"great\", \"groan\", \"gross\", \"group\", \"guess\", \"guidance\", \"guide\", \"gus\", \"gus\", \"guy\", \"half\", \"hallway\", \"hammer\", \"hand\", \"happen\", \"happy\", \"hard\", \"hate\", \"have\", \"have\", \"head\", \"head\", \"hear\", \"hell\", \"hello\", \"help\", \"hey\", \"hi\", \"high\", \"hit\", \"hit\", \"hold\", \"hole\", \"holy\", \"hour\", \"howl\", \"hum\", \"humanoid\", \"idea\", \"ill\", \"imogen\", \"jesus\", \"keep\", \"kick\", \"kind\", \"kind\", \"king\", \"knock\", \"know\", \"lady\", \"lady\", \"lair\", \"large\", \"laudna\", \"laugh\", \"laughter\", \"laura\", \"leap\", \"learn\", \"leave\", \"let\", \"liam\", \"light\", \"like\", \"like\", \"little\", \"long\", \"look\", \"look\", \"look\", \"look\", \"lot\", \"lot\", \"love\", \"machine\", \"make\", \"marisha\", \"marisha\", \"matt\", \"matt\", \"matt\", \"matt\", \"matt\", \"matt\", \"matt\", \"maybe\", \"mean\", \"mind\", \"minute\", \"miss\", \"mister\", \"mmhmm\", \"modifier\", \"moment\", \"morning\", \"mother\", \"mouth\", \"move\", \"move\", \"movement\", \"movement\", \"natural\", \"natural\", \"near\", \"need\", \"nice\", \"night\", \"nightmare\", \"nope\", \"not\", \"number\", \"object\", \"oh\", \"okay\", \"old\", \"olly\", \"ollys\", \"ooh\", \"orb\", \"orym\", \"outside\", \"peek\", \"people\", \"perception\", \"perfectly\", \"pick\", \"plus\", \"point\", \"pop\", \"pretty\", \"probably\", \"pull\", \"pull\", \"pull\", \"pulse\", \"push\", \"quick\", \"rage\", \"range\", \"ready\", \"real\", \"research\", \"rest\", \"right\", \"right\", \"right\", \"right\", \"right\", \"right\", \"right\", \"right\", \"righty\", \"rock\", \"roll\", \"roll\", \"room\", \"room\", \"room\", \"rough\", \"round\", \"run\", \"s\", \"s\", \"s\", \"s\", \"sam\", \"sam\", \"sam\", \"sam\", \"sam\", \"sam\", \"sam\", \"sam\", \"save\", \"saving\", \"say\", \"scary\", \"second\", \"second\", \"see\", \"send\", \"sense\", \"seven\", \"shade\", \"shape\", \"shield\", \"shit\", \"shot\", \"sight\", \"sit\", \"situate\", \"slash\", \"slash\", \"slightly\", \"slot\", \"slowly\", \"slug\", \"small\", \"snap\", \"solid\", \"someone\", \"sorry\", \"sort\", \"sound\", \"speak\", \"spell\", \"spot\", \"stand\", \"starlight\", \"starpoint\", \"start\", \"stasis\", \"stay\", \"stick\", \"stone\", \"stone\", \"strange\", \"strength\", \"strike\", \"strong\", \"stuff\", \"sure\", \"take\", \"take\", \"taliesin\", \"taliesin\", \"taliesin\", \"talk\", \"tell\", \"terrible\", \"thank\", \"thing\", \"think\", \"think\", \"throw\", \"time\", \"total\", \"touch\", \"travis\", \"travis\", \"travis\", \"travis\", \"try\", \"turn\", \"twist\", \"uhhuh\", \"uhoh\", \"use\", \"usually\", \"wait\", \"want\", \"watch\", \"way\", \"weird\", \"well\", \"whoa\", \"will\", \"wolf\", \"woman\", \"wonder\", \"work\", \"worry\", \"worth\", \"would\", \"wow\", \"yay\", \"yeah\", \"yeah\", \"year\", \"yell\", \"yelp\", \"yep\", \"yes\"]}, \"R\": 30, \"lambda.step\": 0.01, \"plot.opts\": {\"xlab\": \"PC1\", \"ylab\": \"PC2\"}, \"topic.order\": [9, 8, 3, 4, 7, 10, 5, 2, 6, 1]};\n",
              "\n",
              "function LDAvis_load_lib(url, callback){\n",
              "  var s = document.createElement('script');\n",
              "  s.src = url;\n",
              "  s.async = true;\n",
              "  s.onreadystatechange = s.onload = callback;\n",
              "  s.onerror = function(){console.warn(\"failed to load library \" + url);};\n",
              "  document.getElementsByTagName(\"head\")[0].appendChild(s);\n",
              "}\n",
              "\n",
              "if(typeof(LDAvis) !== \"undefined\"){\n",
              "   // already loaded: just create the visualization\n",
              "   !function(LDAvis){\n",
              "       new LDAvis(\"#\" + \"ldavis_el2961401774194559524049341374\", ldavis_el2961401774194559524049341374_data);\n",
              "   }(LDAvis);\n",
              "}else if(typeof define === \"function\" && define.amd){\n",
              "   // require.js is available: use it to load d3/LDAvis\n",
              "   require.config({paths: {d3: \"https://d3js.org/d3.v5\"}});\n",
              "   require([\"d3\"], function(d3){\n",
              "      window.d3 = d3;\n",
              "      LDAvis_load_lib(\"https://cdn.jsdelivr.net/gh/bmabey/pyLDAvis@3.3.1/pyLDAvis/js/ldavis.v3.0.0.js\", function(){\n",
              "        new LDAvis(\"#\" + \"ldavis_el2961401774194559524049341374\", ldavis_el2961401774194559524049341374_data);\n",
              "      });\n",
              "    });\n",
              "}else{\n",
              "    // require.js not available: dynamically load d3 & LDAvis\n",
              "    LDAvis_load_lib(\"https://d3js.org/d3.v5.js\", function(){\n",
              "         LDAvis_load_lib(\"https://cdn.jsdelivr.net/gh/bmabey/pyLDAvis@3.3.1/pyLDAvis/js/ldavis.v3.0.0.js\", function(){\n",
              "                 new LDAvis(\"#\" + \"ldavis_el2961401774194559524049341374\", ldavis_el2961401774194559524049341374_data);\n",
              "            })\n",
              "         });\n",
              "}\n",
              "</script>"
            ]
          },
          "metadata": {},
          "execution_count": 78
        }
      ]
    },
    {
      "cell_type": "markdown",
      "source": [
        "### Visualing topics better!"
      ],
      "metadata": {
        "id": "ZiV3By_nPp5E"
      }
    },
    {
      "cell_type": "code",
      "source": [
        "def format_topics_sentences(ldamodel, corpus=corpus, texts=full_dialog_df['lemmas']):\n",
        "    # Init output\n",
        "    sent_topics_df = pd.DataFrame()\n",
        "\n",
        "    # Get main topic in each document\n",
        "    for i, row_list in enumerate(ldamodel[corpus]):\n",
        "        row = row_list[0] if ldamodel.per_word_topics else row_list            \n",
        "        # print(row)\n",
        "        row = sorted(row, key=lambda x: (x[1]), reverse=True)\n",
        "        # Get the Dominant topic, Perc Contribution and Keywords for each document\n",
        "        for j, (topic_num, prop_topic) in enumerate(row):\n",
        "            if j == 0:  # => dominant topic\n",
        "                wp = ldamodel.show_topic(topic_num)\n",
        "                topic_keywords = \", \".join([word for word, prop in wp])\n",
        "                sent_topics_df = sent_topics_df.append(pd.Series([int(topic_num), round(prop_topic,10), topic_keywords]), ignore_index=True)\n",
        "            else:\n",
        "                break\n",
        "    sent_topics_df.columns = ['Dominant_Topic', 'Perc_Contribution', 'Topic_Keywords']\n",
        "\n",
        "    # Add original text to the end of the output\n",
        "    contents = pd.Series(texts)\n",
        "    sent_topics_df = pd.concat([sent_topics_df, contents], axis=1)\n",
        "    return(sent_topics_df)\n",
        "\n",
        "\n",
        "df_topic_sents_keywords = format_topics_sentences(ldamodel=lda_model_2, corpus=corpus, texts=full_dialog_df['lemmas'])\n",
        "\n",
        "# Format\n",
        "df_dominant_topic = df_topic_sents_keywords.reset_index()\n",
        "df_dominant_topic.columns = ['Document_No', 'Dominant_Topic', 'Topic_Perc_Contrib', 'Keywords', 'Text']"
      ],
      "metadata": {
        "id": "YcnejgZGZQV9"
      },
      "execution_count": 81,
      "outputs": []
    },
    {
      "cell_type": "code",
      "source": [
        "# Display setting to show more characters in column\n",
        "pd.options.display.max_colwidth = 100\n",
        "\n",
        "sent_topics_sorteddf_mallet = pd.DataFrame()\n",
        "sent_topics_outdf_grpd = df_topic_sents_keywords.groupby('Dominant_Topic')\n",
        "\n",
        "for i, grp in sent_topics_outdf_grpd:\n",
        "    sent_topics_sorteddf_mallet = pd.concat([sent_topics_sorteddf_mallet, \n",
        "                                             grp.sort_values(['Perc_Contribution'], ascending=False).head(1)], \n",
        "                                            axis=0)\n",
        "\n",
        "# Reset Index    \n",
        "sent_topics_sorteddf_mallet.reset_index(drop=True, inplace=True)\n",
        "\n",
        "# Format\n",
        "sent_topics_sorteddf_mallet.columns = ['Topic_Num', \"Topic_Perc_Contrib\", \"Keywords\", \"Representative Text\"]\n",
        "\n",
        "# Show\n",
        "sent_topics_sorteddf_mallet.head(10)"
      ],
      "metadata": {
        "id": "CoCweoAbPvah",
        "colab": {
          "base_uri": "https://localhost:8080/",
          "height": 563
        },
        "outputId": "91825331-0b4a-4bcf-804f-3fa3b8d1f13b"
      },
      "execution_count": 82,
      "outputs": [
        {
          "output_type": "execute_result",
          "data": {
            "text/plain": [
              "   Topic_Num  Topic_Perc_Contrib  \\\n",
              "0        0.0            0.374811   \n",
              "1        1.0            0.448186   \n",
              "2        2.0            0.413002   \n",
              "3        3.0            0.516726   \n",
              "4        4.0            0.373615   \n",
              "5        5.0            0.401093   \n",
              "6        6.0            0.525441   \n",
              "7        7.0            0.761051   \n",
              "8        8.0            0.828207   \n",
              "9        9.0            0.672956   \n",
              "\n",
              "                                                             Keywords  \\\n",
              "0   ashley, okay, say, laugh, great, fine, strength, hey, course, sam   \n",
              "1         marisha, sam, oh, roll, need, god, attack, wait, day, ahead   \n",
              "2  travis, s, right, laughter, good, come, let, mean, pretty, fucking   \n",
              "3     like, point, feel, hit, damage, thing, matt, laudna, gus, sorry   \n",
              "4  matt, yes, way, check, thank, orym, taliesin, miss, nightmare, bad   \n",
              "5               laura, yeah, get, ill, time, sam, have, lot, d, seven   \n",
              "6           go, be, try, shit, fuck, maybe, ball, foot, actually, use   \n",
              "7    little, stone, bit, look, shade, turn, hear, fearne, light, matt   \n",
              "8       have, rest, pull, mind, throw, people, help, saving, sit, see   \n",
              "9       not, taliesin, liam, know, think, want, yep, take, will, sure   \n",
              "\n",
              "                                                                                   Representative Text  \n",
              "0                                                                           [ashley, okay, okay, okay]  \n",
              "1  [matt, attack, roll, roll, add, proficiency, bonus, strength, modifier, dexterity, modifier, whi...  \n",
              "2                                   [travis, s, shine, s, reminiscent, yeah, right, s, leather, strap]  \n",
              "3  [matt, olly, point, keep, partially, invisible, keep, invisible, point, come, help, distance, fi...  \n",
              "4                                                                            [matt, way, brain, thank]  \n",
              "5  [taliesin, yeah, okay, yeah, right, get, stick, maybe, be, go, try, different, d, time, like, nu...  \n",
              "6                                              [taliesin, be, go, push, be, go, try, run, foot, cover]  \n",
              "7  [matt, light, go, ahead, throw, singular, red, bead, arc, past, rasp, look, shoulder, shooting, ...  \n",
              "8  [matt, excited, presentory, bell, hells, barely, escape, chaos, ball, center, core, spire, jrusa...  \n",
              "9  [marisha, yep, yep, yep, yep, yep, yep, yep, yep, yep, yep, yep, yep, yep, yep, yep, yep, uhhuh,...  "
            ],
            "text/html": [
              "\n",
              "  <div id=\"df-cf2bf39c-b35b-4ba9-a82c-92e68f7056b8\">\n",
              "    <div class=\"colab-df-container\">\n",
              "      <div>\n",
              "<style scoped>\n",
              "    .dataframe tbody tr th:only-of-type {\n",
              "        vertical-align: middle;\n",
              "    }\n",
              "\n",
              "    .dataframe tbody tr th {\n",
              "        vertical-align: top;\n",
              "    }\n",
              "\n",
              "    .dataframe thead th {\n",
              "        text-align: right;\n",
              "    }\n",
              "</style>\n",
              "<table border=\"1\" class=\"dataframe\">\n",
              "  <thead>\n",
              "    <tr style=\"text-align: right;\">\n",
              "      <th></th>\n",
              "      <th>Topic_Num</th>\n",
              "      <th>Topic_Perc_Contrib</th>\n",
              "      <th>Keywords</th>\n",
              "      <th>Representative Text</th>\n",
              "    </tr>\n",
              "  </thead>\n",
              "  <tbody>\n",
              "    <tr>\n",
              "      <th>0</th>\n",
              "      <td>0.0</td>\n",
              "      <td>0.374811</td>\n",
              "      <td>ashley, okay, say, laugh, great, fine, strength, hey, course, sam</td>\n",
              "      <td>[ashley, okay, okay, okay]</td>\n",
              "    </tr>\n",
              "    <tr>\n",
              "      <th>1</th>\n",
              "      <td>1.0</td>\n",
              "      <td>0.448186</td>\n",
              "      <td>marisha, sam, oh, roll, need, god, attack, wait, day, ahead</td>\n",
              "      <td>[matt, attack, roll, roll, add, proficiency, bonus, strength, modifier, dexterity, modifier, whi...</td>\n",
              "    </tr>\n",
              "    <tr>\n",
              "      <th>2</th>\n",
              "      <td>2.0</td>\n",
              "      <td>0.413002</td>\n",
              "      <td>travis, s, right, laughter, good, come, let, mean, pretty, fucking</td>\n",
              "      <td>[travis, s, shine, s, reminiscent, yeah, right, s, leather, strap]</td>\n",
              "    </tr>\n",
              "    <tr>\n",
              "      <th>3</th>\n",
              "      <td>3.0</td>\n",
              "      <td>0.516726</td>\n",
              "      <td>like, point, feel, hit, damage, thing, matt, laudna, gus, sorry</td>\n",
              "      <td>[matt, olly, point, keep, partially, invisible, keep, invisible, point, come, help, distance, fi...</td>\n",
              "    </tr>\n",
              "    <tr>\n",
              "      <th>4</th>\n",
              "      <td>4.0</td>\n",
              "      <td>0.373615</td>\n",
              "      <td>matt, yes, way, check, thank, orym, taliesin, miss, nightmare, bad</td>\n",
              "      <td>[matt, way, brain, thank]</td>\n",
              "    </tr>\n",
              "    <tr>\n",
              "      <th>5</th>\n",
              "      <td>5.0</td>\n",
              "      <td>0.401093</td>\n",
              "      <td>laura, yeah, get, ill, time, sam, have, lot, d, seven</td>\n",
              "      <td>[taliesin, yeah, okay, yeah, right, get, stick, maybe, be, go, try, different, d, time, like, nu...</td>\n",
              "    </tr>\n",
              "    <tr>\n",
              "      <th>6</th>\n",
              "      <td>6.0</td>\n",
              "      <td>0.525441</td>\n",
              "      <td>go, be, try, shit, fuck, maybe, ball, foot, actually, use</td>\n",
              "      <td>[taliesin, be, go, push, be, go, try, run, foot, cover]</td>\n",
              "    </tr>\n",
              "    <tr>\n",
              "      <th>7</th>\n",
              "      <td>7.0</td>\n",
              "      <td>0.761051</td>\n",
              "      <td>little, stone, bit, look, shade, turn, hear, fearne, light, matt</td>\n",
              "      <td>[matt, light, go, ahead, throw, singular, red, bead, arc, past, rasp, look, shoulder, shooting, ...</td>\n",
              "    </tr>\n",
              "    <tr>\n",
              "      <th>8</th>\n",
              "      <td>8.0</td>\n",
              "      <td>0.828207</td>\n",
              "      <td>have, rest, pull, mind, throw, people, help, saving, sit, see</td>\n",
              "      <td>[matt, excited, presentory, bell, hells, barely, escape, chaos, ball, center, core, spire, jrusa...</td>\n",
              "    </tr>\n",
              "    <tr>\n",
              "      <th>9</th>\n",
              "      <td>9.0</td>\n",
              "      <td>0.672956</td>\n",
              "      <td>not, taliesin, liam, know, think, want, yep, take, will, sure</td>\n",
              "      <td>[marisha, yep, yep, yep, yep, yep, yep, yep, yep, yep, yep, yep, yep, yep, yep, yep, yep, uhhuh,...</td>\n",
              "    </tr>\n",
              "  </tbody>\n",
              "</table>\n",
              "</div>\n",
              "      <button class=\"colab-df-convert\" onclick=\"convertToInteractive('df-cf2bf39c-b35b-4ba9-a82c-92e68f7056b8')\"\n",
              "              title=\"Convert this dataframe to an interactive table.\"\n",
              "              style=\"display:none;\">\n",
              "        \n",
              "  <svg xmlns=\"http://www.w3.org/2000/svg\" height=\"24px\"viewBox=\"0 0 24 24\"\n",
              "       width=\"24px\">\n",
              "    <path d=\"M0 0h24v24H0V0z\" fill=\"none\"/>\n",
              "    <path d=\"M18.56 5.44l.94 2.06.94-2.06 2.06-.94-2.06-.94-.94-2.06-.94 2.06-2.06.94zm-11 1L8.5 8.5l.94-2.06 2.06-.94-2.06-.94L8.5 2.5l-.94 2.06-2.06.94zm10 10l.94 2.06.94-2.06 2.06-.94-2.06-.94-.94-2.06-.94 2.06-2.06.94z\"/><path d=\"M17.41 7.96l-1.37-1.37c-.4-.4-.92-.59-1.43-.59-.52 0-1.04.2-1.43.59L10.3 9.45l-7.72 7.72c-.78.78-.78 2.05 0 2.83L4 21.41c.39.39.9.59 1.41.59.51 0 1.02-.2 1.41-.59l7.78-7.78 2.81-2.81c.8-.78.8-2.07 0-2.86zM5.41 20L4 18.59l7.72-7.72 1.47 1.35L5.41 20z\"/>\n",
              "  </svg>\n",
              "      </button>\n",
              "      \n",
              "  <style>\n",
              "    .colab-df-container {\n",
              "      display:flex;\n",
              "      flex-wrap:wrap;\n",
              "      gap: 12px;\n",
              "    }\n",
              "\n",
              "    .colab-df-convert {\n",
              "      background-color: #E8F0FE;\n",
              "      border: none;\n",
              "      border-radius: 50%;\n",
              "      cursor: pointer;\n",
              "      display: none;\n",
              "      fill: #1967D2;\n",
              "      height: 32px;\n",
              "      padding: 0 0 0 0;\n",
              "      width: 32px;\n",
              "    }\n",
              "\n",
              "    .colab-df-convert:hover {\n",
              "      background-color: #E2EBFA;\n",
              "      box-shadow: 0px 1px 2px rgba(60, 64, 67, 0.3), 0px 1px 3px 1px rgba(60, 64, 67, 0.15);\n",
              "      fill: #174EA6;\n",
              "    }\n",
              "\n",
              "    [theme=dark] .colab-df-convert {\n",
              "      background-color: #3B4455;\n",
              "      fill: #D2E3FC;\n",
              "    }\n",
              "\n",
              "    [theme=dark] .colab-df-convert:hover {\n",
              "      background-color: #434B5C;\n",
              "      box-shadow: 0px 1px 3px 1px rgba(0, 0, 0, 0.15);\n",
              "      filter: drop-shadow(0px 1px 2px rgba(0, 0, 0, 0.3));\n",
              "      fill: #FFFFFF;\n",
              "    }\n",
              "  </style>\n",
              "\n",
              "      <script>\n",
              "        const buttonEl =\n",
              "          document.querySelector('#df-cf2bf39c-b35b-4ba9-a82c-92e68f7056b8 button.colab-df-convert');\n",
              "        buttonEl.style.display =\n",
              "          google.colab.kernel.accessAllowed ? 'block' : 'none';\n",
              "\n",
              "        async function convertToInteractive(key) {\n",
              "          const element = document.querySelector('#df-cf2bf39c-b35b-4ba9-a82c-92e68f7056b8');\n",
              "          const dataTable =\n",
              "            await google.colab.kernel.invokeFunction('convertToInteractive',\n",
              "                                                     [key], {});\n",
              "          if (!dataTable) return;\n",
              "\n",
              "          const docLinkHtml = 'Like what you see? Visit the ' +\n",
              "            '<a target=\"_blank\" href=https://colab.research.google.com/notebooks/data_table.ipynb>data table notebook</a>'\n",
              "            + ' to learn more about interactive tables.';\n",
              "          element.innerHTML = '';\n",
              "          dataTable['output_type'] = 'display_data';\n",
              "          await google.colab.output.renderOutput(dataTable, element);\n",
              "          const docLink = document.createElement('div');\n",
              "          docLink.innerHTML = docLinkHtml;\n",
              "          element.appendChild(docLink);\n",
              "        }\n",
              "      </script>\n",
              "    </div>\n",
              "  </div>\n",
              "  "
            ]
          },
          "metadata": {},
          "execution_count": 82
        }
      ]
    },
    {
      "cell_type": "markdown",
      "source": [
        "# Final Thoughts\n",
        "I would say that there needs to be a lot more cleaning... Topic 0 and 9 are a great example. I also want to encorperate bigram and trigrams into the model.\n",
        "\n",
        "Good first go!"
      ],
      "metadata": {
        "id": "-9Khk4CBeW8Z"
      }
    }
  ]
}