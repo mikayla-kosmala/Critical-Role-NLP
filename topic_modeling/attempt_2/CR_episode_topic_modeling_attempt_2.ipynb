{
  "nbformat": 4,
  "nbformat_minor": 0,
  "metadata": {
    "colab": {
      "name": "CR_episode_topic_modeling_attempt_2",
      "provenance": [],
      "machine_shape": "hm"
    },
    "kernelspec": {
      "name": "python3",
      "display_name": "Python 3"
    },
    "language_info": {
      "name": "python"
    },
    "accelerator": "GPU"
  },
  "cells": [
    {
      "cell_type": "markdown",
      "source": [
        "# Critical Role Topic Modeling Attempt 2\n",
        "\n",
        "Last attempt we found ways to improve the model through some google searching. At the end of the last attempt I stated what I wanted to try. I said:\n",
        "\"I would say that there needs to be a lot more cleaning... Topic 0 and 9 are a great example. I also want to encorperate bigram and trigrams into the model.\"\n",
        "\n",
        "I also want to add more to this attempt:\n",
        "- Cleaning\n",
        "    - Removing Actor/Actresss' Names\n",
        "    - More rigorous cleaning of stop words\n",
        "- Encorperate bigram and trigrams in the model\n",
        "- Try different Coherence Scores"
      ],
      "metadata": {
        "id": "Rcy6eDCfN6iG"
      }
    },
    {
      "cell_type": "markdown",
      "source": [
        "## Import Libraries"
      ],
      "metadata": {
        "id": "sFiVxnKcN-rV"
      }
    },
    {
      "cell_type": "code",
      "execution_count": 1,
      "metadata": {
        "colab": {
          "base_uri": "https://localhost:8080/"
        },
        "id": "EUvbI0XCNr4B",
        "outputId": "555af652-0711-45db-e7f4-b85cf72dfb09"
      },
      "outputs": [
        {
          "output_type": "stream",
          "name": "stdout",
          "text": [
            "Collecting pyLDAvis==3.3.1\n",
            "  Downloading pyLDAvis-3.3.1.tar.gz (1.7 MB)\n",
            "\u001b[?25l\r\u001b[K     |▏                               | 10 kB 31.7 MB/s eta 0:00:01\r\u001b[K     |▍                               | 20 kB 36.8 MB/s eta 0:00:01\r\u001b[K     |▋                               | 30 kB 16.5 MB/s eta 0:00:01\r\u001b[K     |▉                               | 40 kB 7.6 MB/s eta 0:00:01\r\u001b[K     |█                               | 51 kB 7.6 MB/s eta 0:00:01\r\u001b[K     |█▏                              | 61 kB 8.9 MB/s eta 0:00:01\r\u001b[K     |█▍                              | 71 kB 9.6 MB/s eta 0:00:01\r\u001b[K     |█▋                              | 81 kB 8.8 MB/s eta 0:00:01\r\u001b[K     |█▉                              | 92 kB 9.7 MB/s eta 0:00:01\r\u001b[K     |██                              | 102 kB 8.3 MB/s eta 0:00:01\r\u001b[K     |██▏                             | 112 kB 8.3 MB/s eta 0:00:01\r\u001b[K     |██▍                             | 122 kB 8.3 MB/s eta 0:00:01\r\u001b[K     |██▋                             | 133 kB 8.3 MB/s eta 0:00:01\r\u001b[K     |██▊                             | 143 kB 8.3 MB/s eta 0:00:01\r\u001b[K     |███                             | 153 kB 8.3 MB/s eta 0:00:01\r\u001b[K     |███▏                            | 163 kB 8.3 MB/s eta 0:00:01\r\u001b[K     |███▍                            | 174 kB 8.3 MB/s eta 0:00:01\r\u001b[K     |███▋                            | 184 kB 8.3 MB/s eta 0:00:01\r\u001b[K     |███▊                            | 194 kB 8.3 MB/s eta 0:00:01\r\u001b[K     |████                            | 204 kB 8.3 MB/s eta 0:00:01\r\u001b[K     |████▏                           | 215 kB 8.3 MB/s eta 0:00:01\r\u001b[K     |████▍                           | 225 kB 8.3 MB/s eta 0:00:01\r\u001b[K     |████▋                           | 235 kB 8.3 MB/s eta 0:00:01\r\u001b[K     |████▊                           | 245 kB 8.3 MB/s eta 0:00:01\r\u001b[K     |█████                           | 256 kB 8.3 MB/s eta 0:00:01\r\u001b[K     |█████▏                          | 266 kB 8.3 MB/s eta 0:00:01\r\u001b[K     |█████▍                          | 276 kB 8.3 MB/s eta 0:00:01\r\u001b[K     |█████▌                          | 286 kB 8.3 MB/s eta 0:00:01\r\u001b[K     |█████▊                          | 296 kB 8.3 MB/s eta 0:00:01\r\u001b[K     |██████                          | 307 kB 8.3 MB/s eta 0:00:01\r\u001b[K     |██████▏                         | 317 kB 8.3 MB/s eta 0:00:01\r\u001b[K     |██████▍                         | 327 kB 8.3 MB/s eta 0:00:01\r\u001b[K     |██████▌                         | 337 kB 8.3 MB/s eta 0:00:01\r\u001b[K     |██████▊                         | 348 kB 8.3 MB/s eta 0:00:01\r\u001b[K     |███████                         | 358 kB 8.3 MB/s eta 0:00:01\r\u001b[K     |███████▏                        | 368 kB 8.3 MB/s eta 0:00:01\r\u001b[K     |███████▎                        | 378 kB 8.3 MB/s eta 0:00:01\r\u001b[K     |███████▌                        | 389 kB 8.3 MB/s eta 0:00:01\r\u001b[K     |███████▊                        | 399 kB 8.3 MB/s eta 0:00:01\r\u001b[K     |████████                        | 409 kB 8.3 MB/s eta 0:00:01\r\u001b[K     |████████▏                       | 419 kB 8.3 MB/s eta 0:00:01\r\u001b[K     |████████▎                       | 430 kB 8.3 MB/s eta 0:00:01\r\u001b[K     |████████▌                       | 440 kB 8.3 MB/s eta 0:00:01\r\u001b[K     |████████▊                       | 450 kB 8.3 MB/s eta 0:00:01\r\u001b[K     |█████████                       | 460 kB 8.3 MB/s eta 0:00:01\r\u001b[K     |█████████▏                      | 471 kB 8.3 MB/s eta 0:00:01\r\u001b[K     |█████████▎                      | 481 kB 8.3 MB/s eta 0:00:01\r\u001b[K     |█████████▌                      | 491 kB 8.3 MB/s eta 0:00:01\r\u001b[K     |█████████▊                      | 501 kB 8.3 MB/s eta 0:00:01\r\u001b[K     |██████████                      | 512 kB 8.3 MB/s eta 0:00:01\r\u001b[K     |██████████                      | 522 kB 8.3 MB/s eta 0:00:01\r\u001b[K     |██████████▎                     | 532 kB 8.3 MB/s eta 0:00:01\r\u001b[K     |██████████▌                     | 542 kB 8.3 MB/s eta 0:00:01\r\u001b[K     |██████████▊                     | 552 kB 8.3 MB/s eta 0:00:01\r\u001b[K     |███████████                     | 563 kB 8.3 MB/s eta 0:00:01\r\u001b[K     |███████████                     | 573 kB 8.3 MB/s eta 0:00:01\r\u001b[K     |███████████▎                    | 583 kB 8.3 MB/s eta 0:00:01\r\u001b[K     |███████████▌                    | 593 kB 8.3 MB/s eta 0:00:01\r\u001b[K     |███████████▊                    | 604 kB 8.3 MB/s eta 0:00:01\r\u001b[K     |███████████▉                    | 614 kB 8.3 MB/s eta 0:00:01\r\u001b[K     |████████████                    | 624 kB 8.3 MB/s eta 0:00:01\r\u001b[K     |████████████▎                   | 634 kB 8.3 MB/s eta 0:00:01\r\u001b[K     |████████████▌                   | 645 kB 8.3 MB/s eta 0:00:01\r\u001b[K     |████████████▊                   | 655 kB 8.3 MB/s eta 0:00:01\r\u001b[K     |████████████▉                   | 665 kB 8.3 MB/s eta 0:00:01\r\u001b[K     |█████████████                   | 675 kB 8.3 MB/s eta 0:00:01\r\u001b[K     |█████████████▎                  | 686 kB 8.3 MB/s eta 0:00:01\r\u001b[K     |█████████████▌                  | 696 kB 8.3 MB/s eta 0:00:01\r\u001b[K     |█████████████▊                  | 706 kB 8.3 MB/s eta 0:00:01\r\u001b[K     |█████████████▉                  | 716 kB 8.3 MB/s eta 0:00:01\r\u001b[K     |██████████████                  | 727 kB 8.3 MB/s eta 0:00:01\r\u001b[K     |██████████████▎                 | 737 kB 8.3 MB/s eta 0:00:01\r\u001b[K     |██████████████▌                 | 747 kB 8.3 MB/s eta 0:00:01\r\u001b[K     |██████████████▋                 | 757 kB 8.3 MB/s eta 0:00:01\r\u001b[K     |██████████████▉                 | 768 kB 8.3 MB/s eta 0:00:01\r\u001b[K     |███████████████                 | 778 kB 8.3 MB/s eta 0:00:01\r\u001b[K     |███████████████▎                | 788 kB 8.3 MB/s eta 0:00:01\r\u001b[K     |███████████████▌                | 798 kB 8.3 MB/s eta 0:00:01\r\u001b[K     |███████████████▋                | 808 kB 8.3 MB/s eta 0:00:01\r\u001b[K     |███████████████▉                | 819 kB 8.3 MB/s eta 0:00:01\r\u001b[K     |████████████████                | 829 kB 8.3 MB/s eta 0:00:01\r\u001b[K     |████████████████▎               | 839 kB 8.3 MB/s eta 0:00:01\r\u001b[K     |████████████████▍               | 849 kB 8.3 MB/s eta 0:00:01\r\u001b[K     |████████████████▋               | 860 kB 8.3 MB/s eta 0:00:01\r\u001b[K     |████████████████▉               | 870 kB 8.3 MB/s eta 0:00:01\r\u001b[K     |█████████████████               | 880 kB 8.3 MB/s eta 0:00:01\r\u001b[K     |█████████████████▎              | 890 kB 8.3 MB/s eta 0:00:01\r\u001b[K     |█████████████████▍              | 901 kB 8.3 MB/s eta 0:00:01\r\u001b[K     |█████████████████▋              | 911 kB 8.3 MB/s eta 0:00:01\r\u001b[K     |█████████████████▉              | 921 kB 8.3 MB/s eta 0:00:01\r\u001b[K     |██████████████████              | 931 kB 8.3 MB/s eta 0:00:01\r\u001b[K     |██████████████████▎             | 942 kB 8.3 MB/s eta 0:00:01\r\u001b[K     |██████████████████▍             | 952 kB 8.3 MB/s eta 0:00:01\r\u001b[K     |██████████████████▋             | 962 kB 8.3 MB/s eta 0:00:01\r\u001b[K     |██████████████████▉             | 972 kB 8.3 MB/s eta 0:00:01\r\u001b[K     |███████████████████             | 983 kB 8.3 MB/s eta 0:00:01\r\u001b[K     |███████████████████▏            | 993 kB 8.3 MB/s eta 0:00:01\r\u001b[K     |███████████████████▍            | 1.0 MB 8.3 MB/s eta 0:00:01\r\u001b[K     |███████████████████▋            | 1.0 MB 8.3 MB/s eta 0:00:01\r\u001b[K     |███████████████████▉            | 1.0 MB 8.3 MB/s eta 0:00:01\r\u001b[K     |████████████████████            | 1.0 MB 8.3 MB/s eta 0:00:01\r\u001b[K     |████████████████████▏           | 1.0 MB 8.3 MB/s eta 0:00:01\r\u001b[K     |████████████████████▍           | 1.1 MB 8.3 MB/s eta 0:00:01\r\u001b[K     |████████████████████▋           | 1.1 MB 8.3 MB/s eta 0:00:01\r\u001b[K     |████████████████████▉           | 1.1 MB 8.3 MB/s eta 0:00:01\r\u001b[K     |█████████████████████           | 1.1 MB 8.3 MB/s eta 0:00:01\r\u001b[K     |█████████████████████▏          | 1.1 MB 8.3 MB/s eta 0:00:01\r\u001b[K     |█████████████████████▍          | 1.1 MB 8.3 MB/s eta 0:00:01\r\u001b[K     |█████████████████████▋          | 1.1 MB 8.3 MB/s eta 0:00:01\r\u001b[K     |█████████████████████▉          | 1.1 MB 8.3 MB/s eta 0:00:01\r\u001b[K     |██████████████████████          | 1.1 MB 8.3 MB/s eta 0:00:01\r\u001b[K     |██████████████████████▏         | 1.1 MB 8.3 MB/s eta 0:00:01\r\u001b[K     |██████████████████████▍         | 1.2 MB 8.3 MB/s eta 0:00:01\r\u001b[K     |██████████████████████▋         | 1.2 MB 8.3 MB/s eta 0:00:01\r\u001b[K     |██████████████████████▉         | 1.2 MB 8.3 MB/s eta 0:00:01\r\u001b[K     |███████████████████████         | 1.2 MB 8.3 MB/s eta 0:00:01\r\u001b[K     |███████████████████████▏        | 1.2 MB 8.3 MB/s eta 0:00:01\r\u001b[K     |███████████████████████▍        | 1.2 MB 8.3 MB/s eta 0:00:01\r\u001b[K     |███████████████████████▋        | 1.2 MB 8.3 MB/s eta 0:00:01\r\u001b[K     |███████████████████████▊        | 1.2 MB 8.3 MB/s eta 0:00:01\r\u001b[K     |████████████████████████        | 1.2 MB 8.3 MB/s eta 0:00:01\r\u001b[K     |████████████████████████▏       | 1.2 MB 8.3 MB/s eta 0:00:01\r\u001b[K     |████████████████████████▍       | 1.3 MB 8.3 MB/s eta 0:00:01\r\u001b[K     |████████████████████████▋       | 1.3 MB 8.3 MB/s eta 0:00:01\r\u001b[K     |████████████████████████▊       | 1.3 MB 8.3 MB/s eta 0:00:01\r\u001b[K     |█████████████████████████       | 1.3 MB 8.3 MB/s eta 0:00:01\r\u001b[K     |█████████████████████████▏      | 1.3 MB 8.3 MB/s eta 0:00:01\r\u001b[K     |█████████████████████████▍      | 1.3 MB 8.3 MB/s eta 0:00:01\r\u001b[K     |█████████████████████████▌      | 1.3 MB 8.3 MB/s eta 0:00:01\r\u001b[K     |█████████████████████████▊      | 1.3 MB 8.3 MB/s eta 0:00:01\r\u001b[K     |██████████████████████████      | 1.3 MB 8.3 MB/s eta 0:00:01\r\u001b[K     |██████████████████████████▏     | 1.4 MB 8.3 MB/s eta 0:00:01\r\u001b[K     |██████████████████████████▍     | 1.4 MB 8.3 MB/s eta 0:00:01\r\u001b[K     |██████████████████████████▌     | 1.4 MB 8.3 MB/s eta 0:00:01\r\u001b[K     |██████████████████████████▊     | 1.4 MB 8.3 MB/s eta 0:00:01\r\u001b[K     |███████████████████████████     | 1.4 MB 8.3 MB/s eta 0:00:01\r\u001b[K     |███████████████████████████▏    | 1.4 MB 8.3 MB/s eta 0:00:01\r\u001b[K     |███████████████████████████▍    | 1.4 MB 8.3 MB/s eta 0:00:01\r\u001b[K     |███████████████████████████▌    | 1.4 MB 8.3 MB/s eta 0:00:01\r\u001b[K     |███████████████████████████▊    | 1.4 MB 8.3 MB/s eta 0:00:01\r\u001b[K     |████████████████████████████    | 1.4 MB 8.3 MB/s eta 0:00:01\r\u001b[K     |████████████████████████████▏   | 1.5 MB 8.3 MB/s eta 0:00:01\r\u001b[K     |████████████████████████████▎   | 1.5 MB 8.3 MB/s eta 0:00:01\r\u001b[K     |████████████████████████████▌   | 1.5 MB 8.3 MB/s eta 0:00:01\r\u001b[K     |████████████████████████████▊   | 1.5 MB 8.3 MB/s eta 0:00:01\r\u001b[K     |█████████████████████████████   | 1.5 MB 8.3 MB/s eta 0:00:01\r\u001b[K     |█████████████████████████████▏  | 1.5 MB 8.3 MB/s eta 0:00:01\r\u001b[K     |█████████████████████████████▎  | 1.5 MB 8.3 MB/s eta 0:00:01\r\u001b[K     |█████████████████████████████▌  | 1.5 MB 8.3 MB/s eta 0:00:01\r\u001b[K     |█████████████████████████████▊  | 1.5 MB 8.3 MB/s eta 0:00:01\r\u001b[K     |██████████████████████████████  | 1.5 MB 8.3 MB/s eta 0:00:01\r\u001b[K     |██████████████████████████████▏ | 1.6 MB 8.3 MB/s eta 0:00:01\r\u001b[K     |██████████████████████████████▎ | 1.6 MB 8.3 MB/s eta 0:00:01\r\u001b[K     |██████████████████████████████▌ | 1.6 MB 8.3 MB/s eta 0:00:01\r\u001b[K     |██████████████████████████████▊ | 1.6 MB 8.3 MB/s eta 0:00:01\r\u001b[K     |███████████████████████████████ | 1.6 MB 8.3 MB/s eta 0:00:01\r\u001b[K     |███████████████████████████████ | 1.6 MB 8.3 MB/s eta 0:00:01\r\u001b[K     |███████████████████████████████▎| 1.6 MB 8.3 MB/s eta 0:00:01\r\u001b[K     |███████████████████████████████▌| 1.6 MB 8.3 MB/s eta 0:00:01\r\u001b[K     |███████████████████████████████▊| 1.6 MB 8.3 MB/s eta 0:00:01\r\u001b[K     |████████████████████████████████| 1.6 MB 8.3 MB/s eta 0:00:01\r\u001b[K     |████████████████████████████████| 1.7 MB 8.3 MB/s \n",
            "\u001b[?25h  Installing build dependencies ... \u001b[?25l\u001b[?25hdone\n",
            "  Getting requirements to build wheel ... \u001b[?25l\u001b[?25hdone\n",
            "  Installing backend dependencies ... \u001b[?25l\u001b[?25hdone\n",
            "    Preparing wheel metadata ... \u001b[?25l\u001b[?25hdone\n",
            "Requirement already satisfied: setuptools in /usr/local/lib/python3.7/dist-packages (from pyLDAvis==3.3.1) (57.4.0)\n",
            "Requirement already satisfied: joblib in /usr/local/lib/python3.7/dist-packages (from pyLDAvis==3.3.1) (1.1.0)\n",
            "Requirement already satisfied: gensim in /usr/local/lib/python3.7/dist-packages (from pyLDAvis==3.3.1) (3.6.0)\n",
            "Requirement already satisfied: numexpr in /usr/local/lib/python3.7/dist-packages (from pyLDAvis==3.3.1) (2.8.1)\n",
            "Requirement already satisfied: future in /usr/local/lib/python3.7/dist-packages (from pyLDAvis==3.3.1) (0.16.0)\n",
            "Collecting funcy\n",
            "  Downloading funcy-1.17-py2.py3-none-any.whl (33 kB)\n",
            "Requirement already satisfied: sklearn in /usr/local/lib/python3.7/dist-packages (from pyLDAvis==3.3.1) (0.0)\n",
            "Requirement already satisfied: pandas>=1.2.0 in /usr/local/lib/python3.7/dist-packages (from pyLDAvis==3.3.1) (1.3.5)\n",
            "Requirement already satisfied: numpy>=1.20.0 in /usr/local/lib/python3.7/dist-packages (from pyLDAvis==3.3.1) (1.21.5)\n",
            "Requirement already satisfied: jinja2 in /usr/local/lib/python3.7/dist-packages (from pyLDAvis==3.3.1) (2.11.3)\n",
            "Requirement already satisfied: scipy in /usr/local/lib/python3.7/dist-packages (from pyLDAvis==3.3.1) (1.4.1)\n",
            "Requirement already satisfied: scikit-learn in /usr/local/lib/python3.7/dist-packages (from pyLDAvis==3.3.1) (1.0.2)\n",
            "Requirement already satisfied: python-dateutil>=2.7.3 in /usr/local/lib/python3.7/dist-packages (from pandas>=1.2.0->pyLDAvis==3.3.1) (2.8.2)\n",
            "Requirement already satisfied: pytz>=2017.3 in /usr/local/lib/python3.7/dist-packages (from pandas>=1.2.0->pyLDAvis==3.3.1) (2018.9)\n",
            "Requirement already satisfied: six>=1.5 in /usr/local/lib/python3.7/dist-packages (from python-dateutil>=2.7.3->pandas>=1.2.0->pyLDAvis==3.3.1) (1.15.0)\n",
            "Requirement already satisfied: smart-open>=1.2.1 in /usr/local/lib/python3.7/dist-packages (from gensim->pyLDAvis==3.3.1) (5.2.1)\n",
            "Requirement already satisfied: MarkupSafe>=0.23 in /usr/local/lib/python3.7/dist-packages (from jinja2->pyLDAvis==3.3.1) (2.0.1)\n",
            "Requirement already satisfied: packaging in /usr/local/lib/python3.7/dist-packages (from numexpr->pyLDAvis==3.3.1) (21.3)\n",
            "Requirement already satisfied: pyparsing!=3.0.5,>=2.0.2 in /usr/local/lib/python3.7/dist-packages (from packaging->numexpr->pyLDAvis==3.3.1) (3.0.7)\n",
            "Requirement already satisfied: threadpoolctl>=2.0.0 in /usr/local/lib/python3.7/dist-packages (from scikit-learn->pyLDAvis==3.3.1) (3.1.0)\n",
            "Building wheels for collected packages: pyLDAvis\n",
            "  Building wheel for pyLDAvis (PEP 517) ... \u001b[?25l\u001b[?25hdone\n",
            "  Created wheel for pyLDAvis: filename=pyLDAvis-3.3.1-py2.py3-none-any.whl size=136898 sha256=98ca40396eade307404b93f582de8e267dbe6433313815da12ef9eefdfca832a\n",
            "  Stored in directory: /root/.cache/pip/wheels/c9/21/f6/17bcf2667e8a68532ba2fbf6d5c72fdf4c7f7d9abfa4852d2f\n",
            "Successfully built pyLDAvis\n",
            "Installing collected packages: funcy, pyLDAvis\n",
            "Successfully installed funcy-1.17 pyLDAvis-3.3.1\n"
          ]
        }
      ],
      "source": [
        "!pip install pyLDAvis==3.3.1"
      ]
    },
    {
      "cell_type": "code",
      "source": [
        "!pip install ipywidgets"
      ],
      "metadata": {
        "colab": {
          "base_uri": "https://localhost:8080/"
        },
        "id": "8Zp2k0T_sA5Y",
        "outputId": "4628b063-7c9b-4e35-e9d3-3e784e8db362"
      },
      "execution_count": 2,
      "outputs": [
        {
          "output_type": "stream",
          "name": "stdout",
          "text": [
            "Requirement already satisfied: ipywidgets in /usr/local/lib/python3.7/dist-packages (7.7.0)\n",
            "Requirement already satisfied: traitlets>=4.3.1 in /usr/local/lib/python3.7/dist-packages (from ipywidgets) (5.1.1)\n",
            "Requirement already satisfied: ipython>=4.0.0 in /usr/local/lib/python3.7/dist-packages (from ipywidgets) (5.5.0)\n",
            "Requirement already satisfied: widgetsnbextension~=3.6.0 in /usr/local/lib/python3.7/dist-packages (from ipywidgets) (3.6.0)\n",
            "Requirement already satisfied: ipykernel>=4.5.1 in /usr/local/lib/python3.7/dist-packages (from ipywidgets) (4.10.1)\n",
            "Requirement already satisfied: nbformat>=4.2.0 in /usr/local/lib/python3.7/dist-packages (from ipywidgets) (5.2.0)\n",
            "Requirement already satisfied: ipython-genutils~=0.2.0 in /usr/local/lib/python3.7/dist-packages (from ipywidgets) (0.2.0)\n",
            "Requirement already satisfied: jupyterlab-widgets>=1.0.0 in /usr/local/lib/python3.7/dist-packages (from ipywidgets) (1.1.0)\n",
            "Requirement already satisfied: tornado>=4.0 in /usr/local/lib/python3.7/dist-packages (from ipykernel>=4.5.1->ipywidgets) (5.1.1)\n",
            "Requirement already satisfied: jupyter-client in /usr/local/lib/python3.7/dist-packages (from ipykernel>=4.5.1->ipywidgets) (5.3.5)\n",
            "Requirement already satisfied: pygments in /usr/local/lib/python3.7/dist-packages (from ipython>=4.0.0->ipywidgets) (2.6.1)\n",
            "Requirement already satisfied: prompt-toolkit<2.0.0,>=1.0.4 in /usr/local/lib/python3.7/dist-packages (from ipython>=4.0.0->ipywidgets) (1.0.18)\n",
            "Requirement already satisfied: decorator in /usr/local/lib/python3.7/dist-packages (from ipython>=4.0.0->ipywidgets) (4.4.2)\n",
            "Requirement already satisfied: pickleshare in /usr/local/lib/python3.7/dist-packages (from ipython>=4.0.0->ipywidgets) (0.7.5)\n",
            "Requirement already satisfied: simplegeneric>0.8 in /usr/local/lib/python3.7/dist-packages (from ipython>=4.0.0->ipywidgets) (0.8.1)\n",
            "Requirement already satisfied: pexpect in /usr/local/lib/python3.7/dist-packages (from ipython>=4.0.0->ipywidgets) (4.8.0)\n",
            "Requirement already satisfied: setuptools>=18.5 in /usr/local/lib/python3.7/dist-packages (from ipython>=4.0.0->ipywidgets) (57.4.0)\n",
            "Requirement already satisfied: jupyter-core in /usr/local/lib/python3.7/dist-packages (from nbformat>=4.2.0->ipywidgets) (4.9.2)\n",
            "Requirement already satisfied: jsonschema!=2.5.0,>=2.4 in /usr/local/lib/python3.7/dist-packages (from nbformat>=4.2.0->ipywidgets) (4.3.3)\n",
            "Requirement already satisfied: importlib-resources>=1.4.0 in /usr/local/lib/python3.7/dist-packages (from jsonschema!=2.5.0,>=2.4->nbformat>=4.2.0->ipywidgets) (5.4.0)\n",
            "Requirement already satisfied: typing-extensions in /usr/local/lib/python3.7/dist-packages (from jsonschema!=2.5.0,>=2.4->nbformat>=4.2.0->ipywidgets) (3.10.0.2)\n",
            "Requirement already satisfied: pyrsistent!=0.17.0,!=0.17.1,!=0.17.2,>=0.14.0 in /usr/local/lib/python3.7/dist-packages (from jsonschema!=2.5.0,>=2.4->nbformat>=4.2.0->ipywidgets) (0.18.1)\n",
            "Requirement already satisfied: attrs>=17.4.0 in /usr/local/lib/python3.7/dist-packages (from jsonschema!=2.5.0,>=2.4->nbformat>=4.2.0->ipywidgets) (21.4.0)\n",
            "Requirement already satisfied: importlib-metadata in /usr/local/lib/python3.7/dist-packages (from jsonschema!=2.5.0,>=2.4->nbformat>=4.2.0->ipywidgets) (4.11.3)\n",
            "Requirement already satisfied: zipp>=3.1.0 in /usr/local/lib/python3.7/dist-packages (from importlib-resources>=1.4.0->jsonschema!=2.5.0,>=2.4->nbformat>=4.2.0->ipywidgets) (3.7.0)\n",
            "Requirement already satisfied: wcwidth in /usr/local/lib/python3.7/dist-packages (from prompt-toolkit<2.0.0,>=1.0.4->ipython>=4.0.0->ipywidgets) (0.2.5)\n",
            "Requirement already satisfied: six>=1.9.0 in /usr/local/lib/python3.7/dist-packages (from prompt-toolkit<2.0.0,>=1.0.4->ipython>=4.0.0->ipywidgets) (1.15.0)\n",
            "Requirement already satisfied: notebook>=4.4.1 in /usr/local/lib/python3.7/dist-packages (from widgetsnbextension~=3.6.0->ipywidgets) (5.3.1)\n",
            "Requirement already satisfied: terminado>=0.8.1 in /usr/local/lib/python3.7/dist-packages (from notebook>=4.4.1->widgetsnbextension~=3.6.0->ipywidgets) (0.13.3)\n",
            "Requirement already satisfied: Send2Trash in /usr/local/lib/python3.7/dist-packages (from notebook>=4.4.1->widgetsnbextension~=3.6.0->ipywidgets) (1.8.0)\n",
            "Requirement already satisfied: nbconvert in /usr/local/lib/python3.7/dist-packages (from notebook>=4.4.1->widgetsnbextension~=3.6.0->ipywidgets) (5.6.1)\n",
            "Requirement already satisfied: jinja2 in /usr/local/lib/python3.7/dist-packages (from notebook>=4.4.1->widgetsnbextension~=3.6.0->ipywidgets) (2.11.3)\n",
            "Requirement already satisfied: pyzmq>=13 in /usr/local/lib/python3.7/dist-packages (from jupyter-client->ipykernel>=4.5.1->ipywidgets) (22.3.0)\n",
            "Requirement already satisfied: python-dateutil>=2.1 in /usr/local/lib/python3.7/dist-packages (from jupyter-client->ipykernel>=4.5.1->ipywidgets) (2.8.2)\n",
            "Requirement already satisfied: ptyprocess in /usr/local/lib/python3.7/dist-packages (from terminado>=0.8.1->notebook>=4.4.1->widgetsnbextension~=3.6.0->ipywidgets) (0.7.0)\n",
            "Requirement already satisfied: MarkupSafe>=0.23 in /usr/local/lib/python3.7/dist-packages (from jinja2->notebook>=4.4.1->widgetsnbextension~=3.6.0->ipywidgets) (2.0.1)\n",
            "Requirement already satisfied: mistune<2,>=0.8.1 in /usr/local/lib/python3.7/dist-packages (from nbconvert->notebook>=4.4.1->widgetsnbextension~=3.6.0->ipywidgets) (0.8.4)\n",
            "Requirement already satisfied: pandocfilters>=1.4.1 in /usr/local/lib/python3.7/dist-packages (from nbconvert->notebook>=4.4.1->widgetsnbextension~=3.6.0->ipywidgets) (1.5.0)\n",
            "Requirement already satisfied: bleach in /usr/local/lib/python3.7/dist-packages (from nbconvert->notebook>=4.4.1->widgetsnbextension~=3.6.0->ipywidgets) (4.1.0)\n",
            "Requirement already satisfied: entrypoints>=0.2.2 in /usr/local/lib/python3.7/dist-packages (from nbconvert->notebook>=4.4.1->widgetsnbextension~=3.6.0->ipywidgets) (0.4)\n",
            "Requirement already satisfied: defusedxml in /usr/local/lib/python3.7/dist-packages (from nbconvert->notebook>=4.4.1->widgetsnbextension~=3.6.0->ipywidgets) (0.7.1)\n",
            "Requirement already satisfied: testpath in /usr/local/lib/python3.7/dist-packages (from nbconvert->notebook>=4.4.1->widgetsnbextension~=3.6.0->ipywidgets) (0.6.0)\n",
            "Requirement already satisfied: packaging in /usr/local/lib/python3.7/dist-packages (from bleach->nbconvert->notebook>=4.4.1->widgetsnbextension~=3.6.0->ipywidgets) (21.3)\n",
            "Requirement already satisfied: webencodings in /usr/local/lib/python3.7/dist-packages (from bleach->nbconvert->notebook>=4.4.1->widgetsnbextension~=3.6.0->ipywidgets) (0.5.1)\n",
            "Requirement already satisfied: pyparsing!=3.0.5,>=2.0.2 in /usr/local/lib/python3.7/dist-packages (from packaging->bleach->nbconvert->notebook>=4.4.1->widgetsnbextension~=3.6.0->ipywidgets) (3.0.7)\n"
          ]
        }
      ]
    },
    {
      "cell_type": "code",
      "source": [
        "!pip install pandarallel==1.4.8"
      ],
      "metadata": {
        "colab": {
          "base_uri": "https://localhost:8080/"
        },
        "id": "DTQYjiuCNwyx",
        "outputId": "baa8f039-6b0c-431a-a9b2-890ba96f9a17"
      },
      "execution_count": 3,
      "outputs": [
        {
          "output_type": "stream",
          "name": "stdout",
          "text": [
            "Collecting pandarallel==1.4.8\n",
            "  Downloading pandarallel-1.4.8.tar.gz (14 kB)\n",
            "Requirement already satisfied: dill in /usr/local/lib/python3.7/dist-packages (from pandarallel==1.4.8) (0.3.4)\n",
            "Building wheels for collected packages: pandarallel\n",
            "  Building wheel for pandarallel (setup.py) ... \u001b[?25l\u001b[?25hdone\n",
            "  Created wheel for pandarallel: filename=pandarallel-1.4.8-py3-none-any.whl size=16111 sha256=931b117ae462a6faca1a551a8347fb26bc1f81164a7b714695bb1c18ed320bf2\n",
            "  Stored in directory: /root/.cache/pip/wheels/c7/f2/4e/e40c8b9344cccf6b8a02d8d8808ba837e72b607c4be946878a\n",
            "Successfully built pandarallel\n",
            "Installing collected packages: pandarallel\n",
            "Successfully installed pandarallel-1.4.8\n"
          ]
        }
      ]
    },
    {
      "cell_type": "code",
      "source": [
        "!python -m spacy download en_core_web_lg"
      ],
      "metadata": {
        "colab": {
          "base_uri": "https://localhost:8080/"
        },
        "id": "gl7w4rLhNyfi",
        "outputId": "8697541c-bae0-4b54-b391-fb752cda8fa3"
      },
      "execution_count": 4,
      "outputs": [
        {
          "output_type": "stream",
          "name": "stdout",
          "text": [
            "Collecting en_core_web_lg==2.2.5\n",
            "  Downloading https://github.com/explosion/spacy-models/releases/download/en_core_web_lg-2.2.5/en_core_web_lg-2.2.5.tar.gz (827.9 MB)\n",
            "\u001b[K     |████████████████████████████████| 827.9 MB 1.6 MB/s \n",
            "\u001b[?25hRequirement already satisfied: spacy>=2.2.2 in /usr/local/lib/python3.7/dist-packages (from en_core_web_lg==2.2.5) (2.2.4)\n",
            "Requirement already satisfied: catalogue<1.1.0,>=0.0.7 in /usr/local/lib/python3.7/dist-packages (from spacy>=2.2.2->en_core_web_lg==2.2.5) (1.0.0)\n",
            "Requirement already satisfied: numpy>=1.15.0 in /usr/local/lib/python3.7/dist-packages (from spacy>=2.2.2->en_core_web_lg==2.2.5) (1.21.5)\n",
            "Requirement already satisfied: wasabi<1.1.0,>=0.4.0 in /usr/local/lib/python3.7/dist-packages (from spacy>=2.2.2->en_core_web_lg==2.2.5) (0.9.0)\n",
            "Requirement already satisfied: srsly<1.1.0,>=1.0.2 in /usr/local/lib/python3.7/dist-packages (from spacy>=2.2.2->en_core_web_lg==2.2.5) (1.0.5)\n",
            "Requirement already satisfied: cymem<2.1.0,>=2.0.2 in /usr/local/lib/python3.7/dist-packages (from spacy>=2.2.2->en_core_web_lg==2.2.5) (2.0.6)\n",
            "Requirement already satisfied: tqdm<5.0.0,>=4.38.0 in /usr/local/lib/python3.7/dist-packages (from spacy>=2.2.2->en_core_web_lg==2.2.5) (4.63.0)\n",
            "Requirement already satisfied: plac<1.2.0,>=0.9.6 in /usr/local/lib/python3.7/dist-packages (from spacy>=2.2.2->en_core_web_lg==2.2.5) (1.1.3)\n",
            "Requirement already satisfied: blis<0.5.0,>=0.4.0 in /usr/local/lib/python3.7/dist-packages (from spacy>=2.2.2->en_core_web_lg==2.2.5) (0.4.1)\n",
            "Requirement already satisfied: murmurhash<1.1.0,>=0.28.0 in /usr/local/lib/python3.7/dist-packages (from spacy>=2.2.2->en_core_web_lg==2.2.5) (1.0.6)\n",
            "Requirement already satisfied: preshed<3.1.0,>=3.0.2 in /usr/local/lib/python3.7/dist-packages (from spacy>=2.2.2->en_core_web_lg==2.2.5) (3.0.6)\n",
            "Requirement already satisfied: thinc==7.4.0 in /usr/local/lib/python3.7/dist-packages (from spacy>=2.2.2->en_core_web_lg==2.2.5) (7.4.0)\n",
            "Requirement already satisfied: setuptools in /usr/local/lib/python3.7/dist-packages (from spacy>=2.2.2->en_core_web_lg==2.2.5) (57.4.0)\n",
            "Requirement already satisfied: requests<3.0.0,>=2.13.0 in /usr/local/lib/python3.7/dist-packages (from spacy>=2.2.2->en_core_web_lg==2.2.5) (2.23.0)\n",
            "Requirement already satisfied: importlib-metadata>=0.20 in /usr/local/lib/python3.7/dist-packages (from catalogue<1.1.0,>=0.0.7->spacy>=2.2.2->en_core_web_lg==2.2.5) (4.11.3)\n",
            "Requirement already satisfied: zipp>=0.5 in /usr/local/lib/python3.7/dist-packages (from importlib-metadata>=0.20->catalogue<1.1.0,>=0.0.7->spacy>=2.2.2->en_core_web_lg==2.2.5) (3.7.0)\n",
            "Requirement already satisfied: typing-extensions>=3.6.4 in /usr/local/lib/python3.7/dist-packages (from importlib-metadata>=0.20->catalogue<1.1.0,>=0.0.7->spacy>=2.2.2->en_core_web_lg==2.2.5) (3.10.0.2)\n",
            "Requirement already satisfied: certifi>=2017.4.17 in /usr/local/lib/python3.7/dist-packages (from requests<3.0.0,>=2.13.0->spacy>=2.2.2->en_core_web_lg==2.2.5) (2021.10.8)\n",
            "Requirement already satisfied: idna<3,>=2.5 in /usr/local/lib/python3.7/dist-packages (from requests<3.0.0,>=2.13.0->spacy>=2.2.2->en_core_web_lg==2.2.5) (2.10)\n",
            "Requirement already satisfied: chardet<4,>=3.0.2 in /usr/local/lib/python3.7/dist-packages (from requests<3.0.0,>=2.13.0->spacy>=2.2.2->en_core_web_lg==2.2.5) (3.0.4)\n",
            "Requirement already satisfied: urllib3!=1.25.0,!=1.25.1,<1.26,>=1.21.1 in /usr/local/lib/python3.7/dist-packages (from requests<3.0.0,>=2.13.0->spacy>=2.2.2->en_core_web_lg==2.2.5) (1.24.3)\n",
            "Building wheels for collected packages: en-core-web-lg\n",
            "  Building wheel for en-core-web-lg (setup.py) ... \u001b[?25l\u001b[?25hdone\n",
            "  Created wheel for en-core-web-lg: filename=en_core_web_lg-2.2.5-py3-none-any.whl size=829180942 sha256=967f4af0e952c406ec3173a91df600633cb083b658fc2c4837d15ef3f9927715\n",
            "  Stored in directory: /tmp/pip-ephem-wheel-cache-hkox_c9x/wheels/11/95/ba/2c36cc368c0bd339b44a791c2c1881a1fb714b78c29a4cb8f5\n",
            "Successfully built en-core-web-lg\n",
            "Installing collected packages: en-core-web-lg\n",
            "Successfully installed en-core-web-lg-2.2.5\n",
            "\u001b[38;5;2m✔ Download and installation successful\u001b[0m\n",
            "You can now load the model via spacy.load('en_core_web_lg')\n"
          ]
        }
      ]
    },
    {
      "cell_type": "code",
      "source": [
        "import re\n",
        "import string\n",
        "import pandas as pd\n",
        "import numpy as np\n",
        "import matplotlib.pyplot as plt\n",
        "from sklearn.feature_extraction.text import CountVectorizer, TfidfVectorizer\n",
        "\n",
        "import spacy\n",
        "spacy.util.fix_random_seed(0)\n",
        "\n",
        "import pyLDAvis\n",
        "import pyLDAvis.gensim_models \n",
        "\n",
        "import gensim\n",
        "import gensim.corpora as corpora\n",
        "from gensim.utils import lemmatize, simple_preprocess\n",
        "from gensim.models import CoherenceModel\n",
        "\n",
        "from pandarallel import pandarallel\n",
        "\n",
        "%matplotlib inline\n",
        "\n",
        "import warnings\n",
        "warnings.filterwarnings(\"ignore\")\n",
        "\n",
        "# NLTK Stop words\n",
        "import nltk\n",
        "nltk.download('stopwords')\n",
        "from nltk.corpus import stopwords\n",
        "stop_words = stopwords.words('english')\n",
        "stop_words.extend(['matt','sam','marisha','laura','travis','talesin','ashley','liam','from', 'subject', 're', 'edu', 'use', 'not', 'would', 'say', 'could', '_', 'be', 'know', 'good', 'go', 'get', 'do', 'done', 'try', 'many', 'some', 'nice', 'thank', 'think', 'see', 'rather', 'easy', 'easily', 'lot', 'lack', 'make', 'want', 'seem', 'run', 'need', 'even', 'right', 'line', 'even', 'also', 'may', 'take', 'come'])\n"
      ],
      "metadata": {
        "id": "p9D_9Um2N0Tw",
        "colab": {
          "base_uri": "https://localhost:8080/"
        },
        "outputId": "10e9e368-d59c-4ba1-e898-57be98a99790"
      },
      "execution_count": 1,
      "outputs": [
        {
          "output_type": "stream",
          "name": "stderr",
          "text": [
            "/usr/local/lib/python3.7/dist-packages/past/types/oldstr.py:5: DeprecationWarning: Using or importing the ABCs from 'collections' instead of from 'collections.abc' is deprecated since Python 3.3,and in 3.9 it will stop working\n",
            "  from collections import Iterable\n",
            "/usr/local/lib/python3.7/dist-packages/past/builtins/misc.py:4: DeprecationWarning: Using or importing the ABCs from 'collections' instead of from 'collections.abc' is deprecated since Python 3.3,and in 3.9 it will stop working\n",
            "  from collections import Mapping\n",
            "/usr/local/lib/python3.7/dist-packages/scipy/sparse/sparsetools.py:21: DeprecationWarning: `scipy.sparse.sparsetools` is deprecated!\n",
            "scipy.sparse.sparsetools is a private module for scipy.sparse, and should not be used.\n",
            "  _deprecated()\n"
          ]
        },
        {
          "output_type": "stream",
          "name": "stdout",
          "text": [
            "[nltk_data] Downloading package stopwords to /root/nltk_data...\n",
            "[nltk_data]   Package stopwords is already up-to-date!\n"
          ]
        }
      ]
    },
    {
      "cell_type": "markdown",
      "source": [
        "## Loading in data, cleaning, tokenizing\n"
      ],
      "metadata": {
        "id": "pFJHEhYqOou5"
      }
    },
    {
      "cell_type": "markdown",
      "source": [
        "### Load"
      ],
      "metadata": {
        "id": "sCbXCu9pOwxl"
      }
    },
    {
      "cell_type": "code",
      "source": [
        "text = open('/content/CR3-16.txt', 'r',encoding = \"ISO-8859-1\").read()"
      ],
      "metadata": {
        "id": "RpXZpl4jOuRJ"
      },
      "execution_count": 2,
      "outputs": []
    },
    {
      "cell_type": "markdown",
      "source": [
        "### Clean"
      ],
      "metadata": {
        "id": "BaM0Cw5VOx9Z"
      }
    },
    {
      "cell_type": "markdown",
      "source": [
        "I am probably going to have two cleaning functions. One is going to clean the entire episode. The second will as best as possible only pull lines of the characters and Matt."
      ],
      "metadata": {
        "id": "r0_87k6kQiUU"
      }
    },
    {
      "cell_type": "markdown",
      "source": [
        "Second: Clean the data of the parts of the episode where there is only character and DM's dialog."
      ],
      "metadata": {
        "id": "XxNPoPF1S4GW"
      }
    },
    {
      "cell_type": "code",
      "source": [
        "def cr_dialog_cleaner(episode):\n",
        "    \"\"\"\n",
        "    Clean the data of the entire episode and create a dataframe of the spoken\n",
        "    lines in the episode. \n",
        "\n",
        "    This includes intro, break, outro, character dialog, etc.\n",
        "    \n",
        "    Parameters\n",
        "    ----------\n",
        "    episode: A large string containing everything spoken during the episode\n",
        "\n",
        "    Returns\n",
        "    -------\n",
        "    lines: A dataframe where every entry is dialog spoken during the episode\n",
        "    \"\"\"\n",
        "\n",
        "    # How to locate where the dialog starts and stops\n",
        "    ending_intro = \"And welcome back.\"\n",
        "    starting_break = \"And we'll pick up from there after our break.\"\n",
        "    starting_outro = \"We'll pick up on that next week.\"\n",
        "    parts = episode.split(ending_intro)\n",
        "    first_part = parts[1].split(starting_break)[0]\n",
        "    second_part = parts[-1].split(starting_outro)[0]\n",
        "    full_dialog= first_part + \"/n\" + second_part\n",
        "\n",
        "    # regex\n",
        "    remove = string.punctuation\n",
        "    remove = remove.replace(\"#\", \"\") # don't remove hyphens\n",
        "    removing_punctuation = r\"[{}]\".format(remove)\n",
        "    non_alpha = '[^a-zA-Z#]'\n",
        "    spaces = '[^\\S ]+'\n",
        "    multi_white_spaces = \"[ ]{2,}\"\n",
        "\n",
        "    full_dialog = re.sub(removing_punctuation, \"\", full_dialog)\n",
        "    full_dialog = re.sub(non_alpha, \" \", full_dialog)\n",
        "    full_dialog = re.sub(spaces, '', full_dialog)\n",
        "    full_dialog = re.sub(multi_white_spaces, \" \", full_dialog)\n",
        "    return pd.DataFrame(full_dialog.lower().split(\" # \"),columns=['lines'])"
      ],
      "metadata": {
        "id": "u0s_tmwdTCWU"
      },
      "execution_count": 3,
      "outputs": []
    },
    {
      "cell_type": "code",
      "source": [
        "full_dialog_df = cr_dialog_cleaner(text)"
      ],
      "metadata": {
        "id": "TR56F--Uqjq7"
      },
      "execution_count": 4,
      "outputs": []
    },
    {
      "cell_type": "code",
      "source": [
        "full_dialog_df.head()"
      ],
      "metadata": {
        "colab": {
          "base_uri": "https://localhost:8080/",
          "height": 206
        },
        "id": "wne-hH0rgDU9",
        "outputId": "e9787e69-81f1-453b-de21-25085a89a4cf"
      },
      "execution_count": 5,
      "outputs": [
        {
          "output_type": "execute_result",
          "data": {
            "text/plain": [
              "                                               lines\n",
              "0   so last we left off hells bells bells hells i...\n",
              "1                                 sam yes you should\n",
              "2          matt the other way around brain thank you\n",
              "3  liam first was exclamation then you said their...\n",
              "4  matt indeed i was just excited and then presen..."
            ],
            "text/html": [
              "\n",
              "  <div id=\"df-a42b91d8-b448-4ae2-8ecb-cf4e88b4541e\">\n",
              "    <div class=\"colab-df-container\">\n",
              "      <div>\n",
              "<style scoped>\n",
              "    .dataframe tbody tr th:only-of-type {\n",
              "        vertical-align: middle;\n",
              "    }\n",
              "\n",
              "    .dataframe tbody tr th {\n",
              "        vertical-align: top;\n",
              "    }\n",
              "\n",
              "    .dataframe thead th {\n",
              "        text-align: right;\n",
              "    }\n",
              "</style>\n",
              "<table border=\"1\" class=\"dataframe\">\n",
              "  <thead>\n",
              "    <tr style=\"text-align: right;\">\n",
              "      <th></th>\n",
              "      <th>lines</th>\n",
              "    </tr>\n",
              "  </thead>\n",
              "  <tbody>\n",
              "    <tr>\n",
              "      <th>0</th>\n",
              "      <td>so last we left off hells bells bells hells i...</td>\n",
              "    </tr>\n",
              "    <tr>\n",
              "      <th>1</th>\n",
              "      <td>sam yes you should</td>\n",
              "    </tr>\n",
              "    <tr>\n",
              "      <th>2</th>\n",
              "      <td>matt the other way around brain thank you</td>\n",
              "    </tr>\n",
              "    <tr>\n",
              "      <th>3</th>\n",
              "      <td>liam first was exclamation then you said their...</td>\n",
              "    </tr>\n",
              "    <tr>\n",
              "      <th>4</th>\n",
              "      <td>matt indeed i was just excited and then presen...</td>\n",
              "    </tr>\n",
              "  </tbody>\n",
              "</table>\n",
              "</div>\n",
              "      <button class=\"colab-df-convert\" onclick=\"convertToInteractive('df-a42b91d8-b448-4ae2-8ecb-cf4e88b4541e')\"\n",
              "              title=\"Convert this dataframe to an interactive table.\"\n",
              "              style=\"display:none;\">\n",
              "        \n",
              "  <svg xmlns=\"http://www.w3.org/2000/svg\" height=\"24px\"viewBox=\"0 0 24 24\"\n",
              "       width=\"24px\">\n",
              "    <path d=\"M0 0h24v24H0V0z\" fill=\"none\"/>\n",
              "    <path d=\"M18.56 5.44l.94 2.06.94-2.06 2.06-.94-2.06-.94-.94-2.06-.94 2.06-2.06.94zm-11 1L8.5 8.5l.94-2.06 2.06-.94-2.06-.94L8.5 2.5l-.94 2.06-2.06.94zm10 10l.94 2.06.94-2.06 2.06-.94-2.06-.94-.94-2.06-.94 2.06-2.06.94z\"/><path d=\"M17.41 7.96l-1.37-1.37c-.4-.4-.92-.59-1.43-.59-.52 0-1.04.2-1.43.59L10.3 9.45l-7.72 7.72c-.78.78-.78 2.05 0 2.83L4 21.41c.39.39.9.59 1.41.59.51 0 1.02-.2 1.41-.59l7.78-7.78 2.81-2.81c.8-.78.8-2.07 0-2.86zM5.41 20L4 18.59l7.72-7.72 1.47 1.35L5.41 20z\"/>\n",
              "  </svg>\n",
              "      </button>\n",
              "      \n",
              "  <style>\n",
              "    .colab-df-container {\n",
              "      display:flex;\n",
              "      flex-wrap:wrap;\n",
              "      gap: 12px;\n",
              "    }\n",
              "\n",
              "    .colab-df-convert {\n",
              "      background-color: #E8F0FE;\n",
              "      border: none;\n",
              "      border-radius: 50%;\n",
              "      cursor: pointer;\n",
              "      display: none;\n",
              "      fill: #1967D2;\n",
              "      height: 32px;\n",
              "      padding: 0 0 0 0;\n",
              "      width: 32px;\n",
              "    }\n",
              "\n",
              "    .colab-df-convert:hover {\n",
              "      background-color: #E2EBFA;\n",
              "      box-shadow: 0px 1px 2px rgba(60, 64, 67, 0.3), 0px 1px 3px 1px rgba(60, 64, 67, 0.15);\n",
              "      fill: #174EA6;\n",
              "    }\n",
              "\n",
              "    [theme=dark] .colab-df-convert {\n",
              "      background-color: #3B4455;\n",
              "      fill: #D2E3FC;\n",
              "    }\n",
              "\n",
              "    [theme=dark] .colab-df-convert:hover {\n",
              "      background-color: #434B5C;\n",
              "      box-shadow: 0px 1px 3px 1px rgba(0, 0, 0, 0.15);\n",
              "      filter: drop-shadow(0px 1px 2px rgba(0, 0, 0, 0.3));\n",
              "      fill: #FFFFFF;\n",
              "    }\n",
              "  </style>\n",
              "\n",
              "      <script>\n",
              "        const buttonEl =\n",
              "          document.querySelector('#df-a42b91d8-b448-4ae2-8ecb-cf4e88b4541e button.colab-df-convert');\n",
              "        buttonEl.style.display =\n",
              "          google.colab.kernel.accessAllowed ? 'block' : 'none';\n",
              "\n",
              "        async function convertToInteractive(key) {\n",
              "          const element = document.querySelector('#df-a42b91d8-b448-4ae2-8ecb-cf4e88b4541e');\n",
              "          const dataTable =\n",
              "            await google.colab.kernel.invokeFunction('convertToInteractive',\n",
              "                                                     [key], {});\n",
              "          if (!dataTable) return;\n",
              "\n",
              "          const docLinkHtml = 'Like what you see? Visit the ' +\n",
              "            '<a target=\"_blank\" href=https://colab.research.google.com/notebooks/data_table.ipynb>data table notebook</a>'\n",
              "            + ' to learn more about interactive tables.';\n",
              "          element.innerHTML = '';\n",
              "          dataTable['output_type'] = 'display_data';\n",
              "          await google.colab.output.renderOutput(dataTable, element);\n",
              "          const docLink = document.createElement('div');\n",
              "          docLink.innerHTML = docLinkHtml;\n",
              "          element.appendChild(docLink);\n",
              "        }\n",
              "      </script>\n",
              "    </div>\n",
              "  </div>\n",
              "  "
            ]
          },
          "metadata": {},
          "execution_count": 5
        }
      ]
    },
    {
      "cell_type": "markdown",
      "source": [
        "### Tokenizing data for LDA"
      ],
      "metadata": {
        "id": "0eqWttzJOziH"
      }
    },
    {
      "cell_type": "code",
      "source": [
        "# identify how many processors your machine has - save the result to `n_processors`\n",
        "import multiprocessing\n",
        "\n",
        "n_processors = multiprocessing.cpu_count()\n",
        "# subtract 1 from n_processors - save the result to `nb_workers`\n",
        "nb_workers = n_processors - 1\n",
        "# we must initalize pandarallel before we can use it\n",
        "pandarallel.initialize(progress_bar=True, nb_workers=nb_workers)\n",
        "# so that the progress bars will work\n",
        "from pandarallel.utils import progress_bars\n",
        "progress_bars.is_notebook_lab = lambda : True"
      ],
      "metadata": {
        "colab": {
          "base_uri": "https://localhost:8080/"
        },
        "id": "LnTHDr8drCHy",
        "outputId": "2208e07d-71a9-42d6-a313-69c5de55ab91"
      },
      "execution_count": 6,
      "outputs": [
        {
          "output_type": "stream",
          "name": "stdout",
          "text": [
            "INFO: Pandarallel will run on 3 workers.\n",
            "INFO: Pandarallel will use Memory file system to transfer data between the main process and workers.\n"
          ]
        }
      ]
    },
    {
      "cell_type": "code",
      "source": [
        "nlp = spacy.load('en_core_web_lg', disable=['parser', 'ner'])"
      ],
      "metadata": {
        "id": "IX7HBWDOPhDo"
      },
      "execution_count": 7,
      "outputs": []
    },
    {
      "cell_type": "markdown",
      "source": [
        "Build the bigram and trigram models"
      ],
      "metadata": {
        "id": "ZORPm1E1tbw_"
      }
    },
    {
      "cell_type": "code",
      "source": [
        "bigram = gensim.models.Phrases(full_dialog_df['lines'], min_count=5, threshold=100) # higher threshold fewer phrases.\n",
        "trigram = gensim.models.Phrases(bigram[full_dialog_df['lines']], threshold=100)  \n",
        "bigram_mod = gensim.models.phrases.Phraser(bigram)\n",
        "trigram_mod = gensim.models.phrases.Phraser(trigram)"
      ],
      "metadata": {
        "id": "VKtTFKeyt3gq"
      },
      "execution_count": 8,
      "outputs": []
    },
    {
      "cell_type": "code",
      "source": [
        "def process_words(texts, stop_words=stop_words, allowed_postags=['NOUN', 'ADJ', 'VERB', 'ADV']):\n",
        "    \"\"\"Remove Stopwords, Form Bigrams, Trigrams and Lemmatization\"\"\"\n",
        "    texts = [[word for word in simple_preprocess(str(doc)) if word not in stop_words] for doc in texts]\n",
        "    texts = [bigram_mod[doc] for doc in texts]\n",
        "    texts = [trigram_mod[bigram_mod[doc]] for doc in texts]\n",
        "    texts_out = []\n",
        "    for sent in texts:\n",
        "        doc = nlp(\" \".join(sent)) \n",
        "        texts_out.append([token.lemma_ for token in doc if token.pos_ in allowed_postags])\n",
        "    # remove stopwords once more after lemmatization\n",
        "    texts_out = [[word for word in simple_preprocess(str(doc)) if word not in stop_words] for doc in texts_out]    \n",
        "    return texts_out"
      ],
      "metadata": {
        "id": "tZ-SqaZ9tSbk"
      },
      "execution_count": 9,
      "outputs": []
    },
    {
      "cell_type": "code",
      "source": [
        "# create our tokens in the form of lemmas \n",
        "full_dialog_df['lemmas'] = process_words(full_dialog_df['lines'])"
      ],
      "metadata": {
        "id": "Qi-5P7Nbp_ns"
      },
      "execution_count": 10,
      "outputs": []
    },
    {
      "cell_type": "code",
      "source": [
        "# Create lemma dictionary using Dictionary - save result to `id2word`\n",
        "id2word = corpora.Dictionary(full_dialog_df['lemmas'])\n",
        "\n",
        "# Create Term Document Frequency list - save result to `corpus`\n",
        "# Term Document Frequency -- different format, but equivalent in function to the document-term matrix we used in sklearn\n",
        "corpus = [id2word.doc2bow(doc_lemmas) for doc_lemmas in full_dialog_df['lemmas']]"
      ],
      "metadata": {
        "id": "g31uJl-8qb13"
      },
      "execution_count": 11,
      "outputs": []
    },
    {
      "cell_type": "markdown",
      "source": [
        "## LDA Topic Modeling\n"
      ],
      "metadata": {
        "id": "vHXFf-PwPIZ3"
      }
    },
    {
      "cell_type": "markdown",
      "source": [
        "### Baseline"
      ],
      "metadata": {
        "id": "KNsnl64DMHwF"
      }
    },
    {
      "cell_type": "code",
      "source": [
        "lda_model_base = gensim.models.LdaMulticore(corpus=corpus,\n",
        "                                       id2word=id2word,\n",
        "                                       num_topics=10, \n",
        "                                       random_state=100,\n",
        "                                       chunksize=100,\n",
        "                                       passes=10,\n",
        "                                       per_word_topics=True)"
      ],
      "metadata": {
        "id": "sp0eGikZM3mR"
      },
      "execution_count": 23,
      "outputs": []
    },
    {
      "cell_type": "code",
      "source": [
        "from gensim.models import CoherenceModel\n",
        "# Compute Coherence Score\n",
        "coherence_model_lda = CoherenceModel(model=lda_model_base, texts=full_dialog_df['lemmas'], dictionary=id2word, coherence='c_v')\n",
        "coherence_lda = coherence_model_lda.get_coherence()\n",
        "print('\\nCoherence Score: ', coherence_lda)"
      ],
      "metadata": {
        "colab": {
          "base_uri": "https://localhost:8080/"
        },
        "id": "u9ERpmpJ8Svx",
        "outputId": "e365440b-170b-42c9-8af2-807438f4ef3d"
      },
      "execution_count": 24,
      "outputs": [
        {
          "output_type": "stream",
          "name": "stdout",
          "text": [
            "\n",
            "Coherence Score:  0.5006347768553625\n"
          ]
        }
      ]
    },
    {
      "cell_type": "markdown",
      "source": [
        "### Attempt 1"
      ],
      "metadata": {
        "id": "skfSRYcUPimm"
      }
    },
    {
      "cell_type": "code",
      "source": [
        "def compute_coherence_values(dictionary, corpus, texts, limit, start=2, step=3):\n",
        "    \"\"\"\n",
        "    Compute c_v coherence for various number of topics\n",
        "\n",
        "    Parameters:\n",
        "    ----------\n",
        "    dictionary : Gensim dictionary\n",
        "    corpus : Gensim corpus\n",
        "    texts : List of input texts\n",
        "    limit : Max num of topics\n",
        "\n",
        "    Returns:\n",
        "    -------\n",
        "    model_list : List of LDA topic models\n",
        "    coherence_values : Coherence values corresponding to the LDA model with respective number of topics\n",
        "    \"\"\"\n",
        "    coherence_values = []\n",
        "    model_list = []\n",
        "    for num_topics in range(start, limit, step):\n",
        "        model = gensim.models.ldamulticore.LdaMulticore(corpus=corpus,\n",
        "                                                        id2word=id2word,\n",
        "                                                        num_topics=num_topics, \n",
        "                                                        chunksize=100,\n",
        "                                                        passes=10,\n",
        "                                                        random_state=1234,\n",
        "                                                        per_word_topics=True,\n",
        "                                                        workers=2)\n",
        "        model_list.append(model)\n",
        "        coherencemodel = CoherenceModel(model=model, texts=texts, dictionary=dictionary, coherence='c_v')\n",
        "        coherence_values.append(coherencemodel.get_coherence())\n",
        "\n",
        "    return model_list, coherence_values"
      ],
      "metadata": {
        "id": "g2tcmO8VPZWs"
      },
      "execution_count": 25,
      "outputs": []
    },
    {
      "cell_type": "code",
      "source": [
        "%%time \n",
        "start=2; limit=25;  step=2;\n",
        "model_list, coherence_values = compute_coherence_values(dictionary=id2word, corpus=corpus, texts=full_dialog_df['lemmas'], start=start, limit=limit, step=step)"
      ],
      "metadata": {
        "colab": {
          "base_uri": "https://localhost:8080/"
        },
        "id": "SeJEs0eErL83",
        "outputId": "837c6e0a-e24f-4828-c0d2-60ed329d3757"
      },
      "execution_count": 26,
      "outputs": [
        {
          "output_type": "stream",
          "name": "stdout",
          "text": [
            "CPU times: user 40.8 s, sys: 7.01 s, total: 47.8 s\n",
            "Wall time: 46.2 s\n"
          ]
        }
      ]
    },
    {
      "cell_type": "code",
      "source": [
        "x = range(start, limit, step)\n",
        "\n",
        "plt.figure(figsize=(20,5))\n",
        "plt.grid()\n",
        "plt.title(\"Coherence Score vs. Number of Topics\")\n",
        "plt.xticks(x)\n",
        "plt.plot(x, coherence_values, \"-o\")\n",
        "\n",
        "plt.xlabel(\"Num Topics\")\n",
        "plt.ylabel(\"Coherence score\")\n",
        "\n",
        "plt.show();"
      ],
      "metadata": {
        "colab": {
          "base_uri": "https://localhost:8080/",
          "height": 350
        },
        "id": "ChUfFiS9rYDk",
        "outputId": "1c0cb6c1-4c6f-47d2-9977-5c129fff0361"
      },
      "execution_count": 27,
      "outputs": [
        {
          "output_type": "display_data",
          "data": {
            "text/plain": [
              "<Figure size 1440x360 with 1 Axes>"
            ],
            "image/png": "[encoded data removed]"
          },
          "metadata": {
            "needs_background": "light"
          }
        }
      ]
    },
    {
      "cell_type": "code",
      "source": [
        "# use np.argmax() to get index of largest coherence value from coherence_values - save result to `max_cohereance_val_index`\n",
        "max_coherence_val_index = np.argmax(coherence_values)\n",
        "# use `max_coherence_val_index` to index model_list for the corresponding model - save result to `lda_trained_model`\n",
        "lda_model_1 = model_list[max_coherence_val_index]"
      ],
      "metadata": {
        "id": "HLKrXKt8rseo"
      },
      "execution_count": 28,
      "outputs": []
    },
    {
      "cell_type": "code",
      "source": [
        "coherence_model_lda = CoherenceModel(model=lda_model_1, texts=full_dialog_df['lemmas'], dictionary=id2word, coherence='c_v')\n",
        "coherence_lda = coherence_model_lda.get_coherence()\n",
        "print('\\nCoherence Score: ', coherence_lda)"
      ],
      "metadata": {
        "colab": {
          "base_uri": "https://localhost:8080/"
        },
        "id": "Dz8OF8cfWM5H",
        "outputId": "abe71cad-7857-4c93-c110-f5b05c9ff8ee"
      },
      "execution_count": 29,
      "outputs": [
        {
          "output_type": "stream",
          "name": "stdout",
          "text": [
            "\n",
            "Coherence Score:  0.5697050543341317\n"
          ]
        }
      ]
    },
    {
      "cell_type": "code",
      "source": [
        "lda_model_1.print_topics()"
      ],
      "metadata": {
        "colab": {
          "base_uri": "https://localhost:8080/"
        },
        "id": "CAP8IlcGrsyZ",
        "outputId": "4f04cad4-1a2e-4d20-c0bd-9aa8ea42093c"
      },
      "execution_count": 40,
      "outputs": [
        {
          "output_type": "execute_result",
          "data": {
            "text/plain": [
              "[(10,\n",
              "  '0.113*\"bit\" + 0.072*\"creeper\" + 0.071*\"little\" + 0.070*\"shade\" + 0.059*\"begin\" + 0.046*\"sure\" + 0.025*\"low\" + 0.023*\"light\" + 0.016*\"tunnel\" + 0.013*\"message\"'),\n",
              " (12,\n",
              "  '0.106*\"maybe\" + 0.045*\"stand\" + 0.036*\"rope\" + 0.036*\"arm\" + 0.034*\"around\" + 0.031*\"step\" + 0.031*\"movement\" + 0.028*\"twist\" + 0.027*\"fail\" + 0.022*\"almost\"'),\n",
              " (9,\n",
              "  '0.064*\"side\" + 0.055*\"mother\" + 0.049*\"fall\" + 0.037*\"shade\" + 0.036*\"begin\" + 0.032*\"ahead\" + 0.025*\"large\" + 0.025*\"chamber\" + 0.017*\"asleep\" + 0.017*\"screech\"'),\n",
              " (4,\n",
              "  '0.115*\"little\" + 0.115*\"back\" + 0.055*\"day\" + 0.049*\"put\" + 0.045*\"fuck\" + 0.035*\"bed\" + 0.033*\"guess\" + 0.029*\"today\" + 0.029*\"sound\" + 0.022*\"hour\"'),\n",
              " (15,\n",
              "  '0.060*\"cage\" + 0.055*\"shit\" + 0.042*\"sometimes\" + 0.028*\"back\" + 0.026*\"open\" + 0.025*\"encounter\" + 0.023*\"half\" + 0.023*\"hallway\" + 0.022*\"morning\" + 0.018*\"odd\"'),\n",
              " (0,\n",
              "  '0.101*\"ill\" + 0.087*\"pull\" + 0.081*\"rest\" + 0.050*\"help\" + 0.027*\"base\" + 0.023*\"knock\" + 0.019*\"rock\" + 0.018*\"watch\" + 0.017*\"slash\" + 0.017*\"quite\"'),\n",
              " (20,\n",
              "  '0.160*\"hit\" + 0.063*\"hard\" + 0.054*\"kind\" + 0.047*\"end\" + 0.046*\"strike\" + 0.027*\"dark\" + 0.025*\"blast\" + 0.024*\"one\" + 0.020*\"cover\" + 0.019*\"spark\"'),\n",
              " (18,\n",
              "  '0.133*\"laugh\" + 0.084*\"happen\" + 0.082*\"wait\" + 0.081*\"find\" + 0.040*\"sorry\" + 0.034*\"hole\" + 0.031*\"break\" + 0.028*\"curious\" + 0.025*\"round\" + 0.020*\"connect\"'),\n",
              " (21,\n",
              "  '0.265*\"laughter\" + 0.099*\"hear\" + 0.051*\"attack\" + 0.041*\"wake\" + 0.027*\"howl\" + 0.022*\"extra\" + 0.021*\"cool\" + 0.019*\"tell\" + 0.018*\"true\" + 0.014*\"certain\"'),\n",
              " (2,\n",
              "  '0.191*\"feel\" + 0.066*\"foot\" + 0.058*\"else\" + 0.041*\"away\" + 0.028*\"walk\" + 0.022*\"ask\" + 0.021*\"climb\" + 0.021*\"bring\" + 0.021*\"never\" + 0.021*\"die\"'),\n",
              " (11,\n",
              "  '0.148*\"point\" + 0.121*\"really\" + 0.108*\"damage\" + 0.043*\"sit\" + 0.032*\"gold\" + 0.029*\"nightmare\" + 0.027*\"different\" + 0.026*\"care\" + 0.019*\"stasis\" + 0.019*\"shaft\"'),\n",
              " (17,\n",
              "  '0.177*\"look\" + 0.078*\"keep\" + 0.071*\"head\" + 0.031*\"creature\" + 0.031*\"hand\" + 0.031*\"eye\" + 0.028*\"bolt\" + 0.027*\"disadvantage\" + 0.026*\"far\" + 0.021*\"wild\"'),\n",
              " (16,\n",
              "  '0.116*\"sleep\" + 0.070*\"ball\" + 0.044*\"fucking\" + 0.040*\"ever\" + 0.040*\"close\" + 0.037*\"talk\" + 0.034*\"big\" + 0.029*\"save\" + 0.025*\"exactly\" + 0.019*\"high\"'),\n",
              " (13,\n",
              "  '0.066*\"fine\" + 0.032*\"action\" + 0.029*\"word\" + 0.025*\"weird\" + 0.023*\"add\" + 0.019*\"darkness\" + 0.019*\"fun\" + 0.018*\"bonus\" + 0.018*\"flame\" + 0.018*\"dead\"'),\n",
              " (6,\n",
              "  '0.102*\"room\" + 0.041*\"bad\" + 0.035*\"light\" + 0.025*\"yet\" + 0.023*\"evening\" + 0.022*\"face\" + 0.018*\"advice\" + 0.018*\"dream\" + 0.018*\"earlier\" + 0.017*\"real\"'),\n",
              " (22,\n",
              "  '0.092*\"stone\" + 0.056*\"drink\" + 0.046*\"top\" + 0.045*\"probably\" + 0.037*\"chain\" + 0.031*\"figure\" + 0.029*\"though\" + 0.027*\"touch\" + 0.019*\"food\" + 0.019*\"swill\"'),\n",
              " (23,\n",
              "  '0.182*\"roll\" + 0.108*\"mean\" + 0.086*\"check\" + 0.050*\"push\" + 0.045*\"finish\" + 0.042*\"fearne\" + 0.030*\"guy\" + 0.026*\"worry\" + 0.025*\"second\" + 0.021*\"group\"'),\n",
              " (14,\n",
              "  '0.120*\"thing\" + 0.098*\"way\" + 0.054*\"leave\" + 0.053*\"natural\" + 0.040*\"work\" + 0.026*\"stay\" + 0.024*\"okay\" + 0.024*\"later\" + 0.023*\"pay\" + 0.022*\"first\"'),\n",
              " (7,\n",
              "  '0.096*\"time\" + 0.082*\"people\" + 0.079*\"great\" + 0.042*\"sort\" + 0.041*\"water\" + 0.040*\"hold\" + 0.035*\"front\" + 0.029*\"strange\" + 0.022*\"course\" + 0.018*\"grab\"'),\n",
              " (19,\n",
              "  '0.098*\"pretty\" + 0.097*\"turn\" + 0.078*\"give\" + 0.060*\"actually\" + 0.035*\"rush\" + 0.035*\"sphere\" + 0.033*\"spell\" + 0.024*\"strong\" + 0.024*\"definitely\" + 0.023*\"lady\"')]"
            ]
          },
          "metadata": {},
          "execution_count": 40
        }
      ]
    },
    {
      "cell_type": "code",
      "source": [
        "# plot your topics here -- using pyLDAvis\n",
        "pyLDAvis.enable_notebook()\n",
        "vis = pyLDAvis.gensim_models.prepare(lda_model_1, corpus, id2word)\n",
        "vis"
      ],
      "metadata": {
        "colab": {
          "base_uri": "https://localhost:8080/",
          "height": 861
        },
        "id": "9aHB5eiAPqUm",
        "outputId": "56384a75-17cf-44ca-fcac-1a8efc8a5ba9"
      },
      "execution_count": 41,
      "outputs": [
        {
          "output_type": "execute_result",
          "data": {
            "text/plain": [
              "PreparedData(topic_coordinates=              x         y  topics  cluster      Freq\n",
              "topic                                               \n",
              "9     -0.201263  0.093410       1        1  6.055024\n",
              "8      0.020190  0.096267       2        1  5.650691\n",
              "0     -0.089859 -0.133911       3        1  5.255064\n",
              "11     0.063345 -0.159176       4        1  4.940784\n",
              "13     0.043093  0.036519       5        1  4.694524\n",
              "20     0.085250  0.021831       6        1  4.605530\n",
              "23     0.056092 -0.051701       7        1  4.531702\n",
              "7      0.047500 -0.044189       8        1  4.489463\n",
              "17    -0.003066  0.043477       9        1  4.370127\n",
              "5      0.033210  0.179913      10        1  4.367953\n",
              "1      0.049642  0.100839      11        1  4.255065\n",
              "2      0.035022 -0.130667      12        1  4.244750\n",
              "10    -0.234950  0.077356      13        1  4.135088\n",
              "19     0.021922 -0.047534      14        1  4.073389\n",
              "14     0.081034  0.121041      15        1  3.848549\n",
              "15    -0.054453 -0.125495      16        1  3.815562\n",
              "3      0.049883 -0.029099      17        1  3.784397\n",
              "4     -0.209811 -0.069164      18        1  3.782379\n",
              "6     -0.021084  0.016519      19        1  3.481060\n",
              "21     0.045428 -0.012928      20        1  3.427393\n",
              "22     0.055158 -0.009012      21        1  3.223589\n",
              "12     0.035321  0.015617      22        1  3.179476\n",
              "16     0.055003  0.012376      23        1  3.168162\n",
              "18     0.037393 -0.002287      24        1  2.620277, topic_info=          Term       Freq      Total Category  logprob  loglift\n",
              "307   laughter  98.000000  98.000000  Default  30.0000  30.0000\n",
              "613       feel  88.000000  88.000000  Default  29.0000  29.0000\n",
              "569       roll  89.000000  89.000000  Default  28.0000  28.0000\n",
              "127       look  88.000000  88.000000  Default  27.0000  27.0000\n",
              "536        hit  80.000000  80.000000  Default  26.0000  26.0000\n",
              "...        ...        ...        ...      ...      ...      ...\n",
              "1869      sash   1.235270   2.032274  Topic24  -5.4356   3.1440\n",
              "945       slot   1.145220   1.942224  Topic24  -5.5113   3.1137\n",
              "1252  instance   0.943075   1.740080  Topic24  -5.7055   3.0294\n",
              "556       soon   3.085538   7.282344  Topic24  -4.5202   2.7832\n",
              "233        top   4.616004  21.283583  Topic24  -4.1174   2.1135\n",
              "\n",
              "[833 rows x 6 columns], token_table=      Topic      Freq      Term\n",
              "term                           \n",
              "468      14  0.904846   ability\n",
              "752       6  0.883384      able\n",
              "2236     20  0.895481  absolute\n",
              "2010     10  0.783580   achieve\n",
              "2170     10  0.621674   acquire\n",
              "...     ...       ...       ...\n",
              "400       9  0.894730      wrap\n",
              "1632     15  0.911714     wrong\n",
              "732       8  0.876084      yell\n",
              "1906     13  0.788378    yellow\n",
              "872      19  0.881786       yet\n",
              "\n",
              "[848 rows x 3 columns], R=30, lambda_step=0.01, plot_opts={'xlab': 'PC1', 'ylab': 'PC2'}, topic_order=[10, 9, 1, 12, 14, 21, 24, 8, 18, 6, 2, 3, 11, 20, 15, 16, 4, 5, 7, 22, 23, 13, 17, 19])"
            ],
            "text/html": [
              "\n",
              "<link rel=\"stylesheet\" type=\"text/css\" href=\"https://cdn.jsdelivr.net/gh/bmabey/pyLDAvis@3.3.1/pyLDAvis/js/ldavis.v1.0.0.css\">\n",
              "\n",
              "\n",
              "<div id=\"ldavis_el3591406231625801762589167502\"></div>\n",
              "<script type=\"text/javascript\">\n",
              "\n",
              "var ldavis_el3591406231625801762589167502_data = {\"mdsDat\": {\"x\": [-0.20126309104006934, 0.02019043725427361, -0.08985905595068541, 0.06334461756525907, 0.043092824582524156, 0.0852496285051836, 0.056091993198281655, 0.047500074132065764, -0.0030664500363494795, 0.033210201429092416, 0.049642230083255544, 0.035021985214354186, -0.2349501748562071, 0.021921826063082767, 0.08103435455424372, -0.05445287339590848, 0.04988320955784334, -0.2098108007731708, -0.021084079286266672, 0.045428293666126364, 0.05515781369266088, 0.03532135242792148, 0.055003041764867124, 0.03739264164762314], \"y\": [0.0934097741623568, 0.09626659602000417, -0.1339107742398611, -0.15917608750078785, 0.03651891965075703, 0.021831093480348566, -0.051701286317258933, -0.04418904762341394, 0.04347677277138986, 0.17991328052622327, 0.1008391528630346, -0.13066732576654308, 0.07735607302781158, -0.04753415646198978, 0.12104056311279465, -0.1254952151076605, -0.029098592792099386, -0.06916387500507801, 0.016519195230461654, -0.012928387198415848, -0.009012045926358798, 0.01561684673600567, 0.012375871093913308, -0.0022873447356330408], \"topics\": [1, 2, 3, 4, 5, 6, 7, 8, 9, 10, 11, 12, 13, 14, 15, 16, 17, 18, 19, 20, 21, 22, 23, 24], \"cluster\": [1, 1, 1, 1, 1, 1, 1, 1, 1, 1, 1, 1, 1, 1, 1, 1, 1, 1, 1, 1, 1, 1, 1, 1], \"Freq\": [6.055023783831853, 5.650691403261069, 5.255063804640469, 4.94078432953108, 4.6945241372772, 4.6055300601439555, 4.531702126700275, 4.489462628002564, 4.370127375085193, 4.36795286749777, 4.255064665422385, 4.244749927575569, 4.135088394994551, 4.073388518399374, 3.848549005434334, 3.815562163665471, 3.7843969558889543, 3.782379417024758, 3.481060193504505, 3.4273934416330887, 3.2235894920629224, 3.179476065212511, 3.1681622233492432, 2.620277019860903]}, \"tinfo\": {\"Term\": [\"laughter\", \"feel\", \"roll\", \"look\", \"hit\", \"point\", \"little\", \"still\", \"really\", \"damage\", \"ill\", \"back\", \"mean\", \"thing\", \"bit\", \"pull\", \"time\", \"let\", \"laugh\", \"pretty\", \"sleep\", \"turn\", \"rest\", \"way\", \"shade\", \"check\", \"room\", \"maybe\", \"hear\", \"people\", \"side\", \"mother\", \"fall\", \"large\", \"asleep\", \"shoulder\", \"immediately\", \"burst\", \"world\", \"screech\", \"black\", \"wonder\", \"glass\", \"new\", \"life\", \"stuck\", \"past\", \"glance\", \"tumble\", \"arc\", \"radiant\", \"bar\", \"pass\", \"partially\", \"searcher\", \"dozen\", \"central\", \"orrery\", \"chamber\", \"tap\", \"ahead\", \"moment\", \"begin\", \"shade\", \"rock\", \"flame\", \"machine\", \"eye\", \"watch\", \"night\", \"next\", \"minute\", \"green\", \"city\", \"seeker\", \"elevator\", \"total\", \"draw\", \"smolder\", \"faintly\", \"indeed\", \"game\", \"manage\", \"follow\", \"purple\", \"return\", \"contraption\", \"lever\", \"emerge\", \"heal\", \"discussion\", \"nearby\", \"sharp\", \"whole\", \"exit\", \"allow\", \"upstairs\", \"change\", \"loud\", \"machine\", \"first\", \"mine\", \"ill\", \"pull\", \"rest\", \"help\", \"base\", \"knock\", \"slash\", \"quite\", \"orb\", \"short\", \"investigation\", \"stuff\", \"send\", \"slightly\", \"less\", \"general\", \"individual\", \"wedge\", \"arcane\", \"employer\", \"quietly\", \"quiet\", \"purplish\", \"shape\", \"darkvision\", \"appear\", \"fast\", \"charge\", \"narrow\", \"wear\", \"watch\", \"free\", \"rock\", \"understand\", \"back\", \"rush\", \"ground\", \"foot\", \"point\", \"really\", \"damage\", \"sit\", \"gold\", \"nightmare\", \"different\", \"care\", \"stasis\", \"shaft\", \"love\", \"rough\", \"mode\", \"burn\", \"king\", \"lose\", \"silver\", \"necrotic\", \"drift\", \"continue\", \"ring\", \"quickly\", \"fucked\", \"double\", \"reduce\", \"lightning\", \"normal\", \"dice\", \"detail\", \"construct\", \"pierce\", \"moment\", \"fine\", \"word\", \"weird\", \"darkness\", \"fun\", \"bonus\", \"dead\", \"flash\", \"focus\", \"scratch\", \"healing\", \"kick\", \"modifier\", \"claw\", \"energy\", \"better\", \"range\", \"smart\", \"deeper\", \"perfectly\", \"believe\", \"hair\", \"dangerous\", \"surround\", \"directly\", \"cheer\", \"groan\", \"tight\", \"spot\", \"temporary\", \"add\", \"action\", \"rage\", \"flame\", \"hit\", \"hard\", \"kind\", \"strike\", \"end\", \"dark\", \"blast\", \"one\", \"cover\", \"spark\", \"fit\", \"corner\", \"able\", \"edge\", \"legendary\", \"near\", \"especially\", \"whack\", \"succeed\", \"eldritch\", \"interesting\", \"rule\", \"drop\", \"deal\", \"finger\", \"spray\", \"blanket\", \"rebuke\", \"swipe\", \"cure\", \"daylight\", \"action\", \"rage\", \"give\", \"close\", \"roll\", \"mean\", \"check\", \"push\", \"finish\", \"fearne\", \"worry\", \"second\", \"group\", \"ready\", \"chetney\", \"perception\", \"charisma\", \"shield\", \"ashton\", \"correct\", \"athletic\", \"none\", \"hate\", \"damn\", \"guy\", \"single\", \"gross\", \"unattractive\", \"note\", \"grateful\", \"plan\", \"hall\", \"important\", \"seriously\", \"time\", \"people\", \"great\", \"sort\", \"water\", \"hold\", \"front\", \"strange\", \"course\", \"grab\", \"design\", \"air\", \"safe\", \"guide\", \"piss\", \"device\", \"snarl\", \"wide\", \"wheel\", \"warm\", \"stick\", \"grind\", \"luck\", \"worker\", \"mention\", \"center\", \"nobody\", \"blue\", \"hell\", \"yell\", \"small\", \"sometimes\", \"wander\", \"keep\", \"head\", \"creature\", \"look\", \"hand\", \"bolt\", \"disadvantage\", \"far\", \"wild\", \"shift\", \"wrap\", \"anyway\", \"angrily\", \"downstairs\", \"possibly\", \"become\", \"guidance\", \"evolve\", \"stumble\", \"purpose\", \"humanoid\", \"momentum\", \"butt\", \"pushup\", \"pregnant\", \"late\", \"serve\", \"longer\", \"useful\", \"romantic\", \"cast\", \"whoosh\", \"eye\", \"cause\", \"chamber\", \"much\", \"mind\", \"move\", \"space\", \"poison\", \"appreciate\", \"place\", \"reach\", \"catch\", \"long\", \"recently\", \"read\", \"shut\", \"excited\", \"mouth\", \"achieve\", \"soreness\", \"separate\", \"social\", \"depend\", \"brumestone\", \"release\", \"dynamic\", \"voice\", \"acquire\", \"blink\", \"duel\", \"instill\", \"mystery\", \"boysie\", \"carve\", \"eye\", \"leave\", \"still\", \"part\", \"ahead\", \"saving\", \"miss\", \"throw\", \"dexterity\", \"last\", \"hope\", \"feral\", \"inside\", \"grave\", \"problem\", \"strength\", \"growl\", \"form\", \"blade\", \"eventually\", \"heavy\", \"imagine\", \"still\", \"question\", \"hammer\", \"reaction\", \"muscle\", \"job\", \"chance\", \"sore\", \"unfortunately\", \"grinding\", \"slam\", \"awesome\", \"invisible\", \"righty\", \"lonely\", \"breathe\", \"feel\", \"else\", \"away\", \"walk\", \"ask\", \"climb\", \"never\", \"die\", \"pick\", \"idea\", \"oddly\", \"metal\", \"pulse\", \"comfort\", \"tired\", \"grasp\", \"tail\", \"foot\", \"nature\", \"forget\", \"together\", \"doom\", \"flare\", \"occasionally\", \"quick\", \"ex\", \"bring\", \"arrow\", \"disturb\", \"brand\", \"ground\", \"soon\", \"understand\", \"bit\", \"creeper\", \"sure\", \"low\", \"message\", \"scream\", \"scarf\", \"crush\", \"worried\", \"boy\", \"contribution\", \"crash\", \"dodge\", \"pour\", \"dull\", \"anxiety\", \"dissipate\", \"unwind\", \"comment\", \"origin\", \"agree\", \"entry\", \"tunnel\", \"caregiver\", \"hire\", \"nurse\", \"fight\", \"dislodge\", \"straighten\", \"yellow\", \"shade\", \"crack\", \"begin\", \"little\", \"light\", \"glow\", \"mine\", \"breathe\", \"pretty\", \"turn\", \"actually\", \"sphere\", \"spell\", \"strong\", \"definitely\", \"cut\", \"fresh\", \"grass\", \"gasp\", \"emoth\", \"least\", \"give\", \"ability\", \"couple\", \"telekinesis\", \"attempt\", \"street\", \"constitution\", \"clamber\", \"sniper\", \"study\", \"baseboard\", \"bite\", \"thorough\", \"smoke\", \"lady\", \"dart\", \"twoway\", \"rush\", \"forward\", \"shove\", \"thing\", \"way\", \"natural\", \"work\", \"stay\", \"okay\", \"later\", \"pay\", \"wrong\", \"witch\", \"intervention\", \"identify\", \"name\", \"party\", \"middle\", \"wish\", \"issue\", \"kill\", \"sling\", \"invite\", \"bullet\", \"block\", \"patron\", \"power\", \"genre\", \"fix\", \"explode\", \"creepy\", \"busy\", \"wave\", \"leave\", \"first\", \"usually\", \"cage\", \"shit\", \"open\", \"encounter\", \"half\", \"hallway\", \"morning\", \"odd\", \"sense\", \"door\", \"currently\", \"join\", \"thought\", \"terrible\", \"play\", \"friend\", \"healthy\", \"unnatural\", \"book\", \"leap\", \"concentrate\", \"anger\", \"piece\", \"taste\", \"prepare\", \"challenge\", \"early\", \"death\", \"intelligence\", \"fury\", \"sometimes\", \"back\", \"free\", \"let\", \"well\", \"enough\", \"call\", \"start\", \"hurt\", \"pop\", \"stop\", \"learn\", \"familiar\", \"slowly\", \"old\", \"impact\", \"meal\", \"set\", \"special\", \"alluring\", \"fill\", \"upward\", \"discuss\", \"suffer\", \"regular\", \"chase\", \"estate\", \"solid\", \"fcg\", \"feller\", \"ropey\", \"chisel\", \"wood\", \"day\", \"fuck\", \"bed\", \"guess\", \"today\", \"sound\", \"hour\", \"remember\", \"lesson\", \"put\", \"full\", \"always\", \"carry\", \"board\", \"feather\", \"spicy\", \"situation\", \"rub\", \"listen\", \"slow\", \"baby\", \"wolf\", \"snore\", \"siren\", \"warning\", \"epilogue\", \"answer\", \"animal\", \"sentimental\", \"sake\", \"back\", \"little\", \"area\", \"room\", \"bad\", \"yet\", \"evening\", \"face\", \"advice\", \"dream\", \"earlier\", \"real\", \"number\", \"giggle\", \"caltrop\", \"eat\", \"describe\", \"trip\", \"like\", \"skip\", \"patch\", \"folk\", \"goddamn\", \"tonight\", \"dot\", \"conservatory\", \"apparently\", \"safely\", \"talented\", \"dig\", \"spin\", \"choice\", \"meat\", \"light\", \"wander\", \"high\", \"laughter\", \"hear\", \"attack\", \"wake\", \"howl\", \"extra\", \"cool\", \"tell\", \"true\", \"certain\", \"magic\", \"cavern\", \"similar\", \"slug\", \"pain\", \"jump\", \"grief\", \"guilt\", \"absolute\", \"knee\", \"specific\", \"color\", \"angry\", \"distance\", \"alpha\", \"test\", \"must\", \"drawer\", \"undie\", \"plat\", \"direction\", \"stone\", \"drink\", \"probably\", \"chain\", \"figure\", \"though\", \"touch\", \"food\", \"swill\", \"already\", \"bang\", \"silence\", \"enjoy\", \"redbubl\", \"soot\", \"tomorrow\", \"giant\", \"show\", \"quorum\", \"funny\", \"contract\", \"overall\", \"top\", \"involvement\", \"illegal\", \"deniability\", \"plausible\", \"quad\", \"whisper\", \"revert\", \"maybe\", \"stand\", \"rope\", \"arm\", \"around\", \"step\", \"movement\", \"twist\", \"fail\", \"almost\", \"shoot\", \"anywhere\", \"leg\", \"dive\", \"lie\", \"worth\", \"crazy\", \"speak\", \"progress\", \"woman\", \"fly\", \"elbow\", \"town\", \"everybody\", \"pattern\", \"dare\", \"truth\", \"experience\", \"complicated\", \"position\", \"stinger\", \"conversation\", \"body\", \"sleep\", \"ball\", \"fucking\", \"ever\", \"talk\", \"big\", \"save\", \"exactly\", \"pillow\", \"fire\", \"week\", \"destroy\", \"assume\", \"pee\", \"crap\", \"advantage\", \"blow\", \"bunch\", \"lick\", \"salt\", \"bullshit\", \"close\", \"bone\", \"hum\", \"mechanical\", \"favorite\", \"mainly\", \"smother\", \"missile\", \"deny\", \"high\", \"welcome\", \"deputy\", \"laugh\", \"happen\", \"wait\", \"find\", \"sorry\", \"hole\", \"curious\", \"round\", \"connect\", \"amazing\", \"bottom\", \"husk\", \"object\", \"feeling\", \"break\", \"affect\", \"platinum\", \"worse\", \"ounce\", \"dispel\", \"act\", \"cocoon\", \"pride\", \"fruit\", \"juice\", \"squeeze\", \"matter\", \"sash\", \"slot\", \"instance\", \"soon\", \"top\"], \"Freq\": [98.0, 88.0, 89.0, 88.0, 80.0, 79.0, 79.0, 73.0, 65.0, 58.0, 58.0, 72.0, 53.0, 50.0, 51.0, 50.0, 47.0, 44.0, 38.0, 44.0, 40.0, 43.0, 47.0, 41.0, 55.0, 43.0, 39.0, 37.0, 37.0, 40.0, 41.91391543396342, 35.76682499282082, 32.4122869528619, 16.64118238378624, 11.415574973871028, 11.207491195318141, 11.121029426540792, 10.902486504029316, 10.731148794226677, 11.366106906946749, 8.60986813148401, 8.570020549610982, 7.5183648473556985, 7.135988229977585, 6.930164255971384, 5.475558870923754, 5.30810338944491, 8.053842155387754, 4.924947276733283, 4.762885744379573, 4.7044165801279725, 4.6996103021717275, 4.477203144382104, 4.342756362595527, 4.280314699825015, 4.001794856829978, 3.8886149400991608, 3.7559430655273904, 16.42589162803399, 3.684188019349151, 21.221661645620667, 10.54729768359278, 23.507639669421096, 24.062274386631792, 10.283187830427092, 9.282327410937812, 6.39911262723508, 6.445843921419553, 4.806617079410773, 28.035323411620244, 24.031485875274797, 17.470946336683973, 13.163209324993325, 12.957756062359168, 12.408107053795339, 11.721936598292473, 10.613096435219141, 9.33078718529508, 9.159001805656667, 8.01617614341975, 7.921914153737015, 7.24321963147505, 7.068756713389463, 6.989252491419294, 6.8251115295839355, 5.879272780733028, 5.745752749659627, 5.572957601057506, 5.4106967220221085, 5.3319740179703015, 5.302423761064453, 5.21226630576577, 5.086540393305714, 5.037044068741293, 4.871961073289848, 4.821050844494393, 4.7913417795046245, 4.720631768633278, 4.44810058969228, 12.304462864660055, 7.637470660888175, 5.31327564679902, 57.60669647898301, 49.54820123178566, 46.22261950547126, 28.359522330445024, 15.472718984069452, 12.803416595692804, 9.662387197149942, 9.649809786460768, 9.375420020857545, 9.209361145099345, 8.95028130676684, 8.698868607172631, 7.816105357586177, 7.121796820939635, 6.700333399879861, 6.488477609737244, 5.934347914817183, 4.9074700891408645, 4.832790125116997, 4.3986233075202374, 4.147393763822429, 3.7794319798987943, 3.416674523129646, 3.345515281264604, 3.1153301383221854, 3.1144876741339775, 2.9004448649567514, 3.010796557213641, 2.9176218177956805, 2.729055940872404, 10.373868451816998, 6.371510337089448, 11.05910124325033, 4.024853734818141, 9.088926085522898, 5.420254722534081, 4.088481616810278, 4.832793301230807, 78.96536389214012, 64.64447577479343, 57.90525632346266, 23.10486290142811, 16.910125049041525, 15.36484282451204, 14.480242880053666, 13.988166505241677, 10.317185929879507, 10.000964876208627, 9.488467106884096, 8.845002065109119, 7.876879552759817, 6.862397309530986, 6.826236331243361, 6.311101777259845, 5.4574723567273455, 4.718020987488972, 4.349287207706583, 4.2276711143723436, 4.077765078873891, 3.929908548703053, 3.7451494756651464, 3.65571579199567, 3.6091241355496835, 2.7981043189798687, 2.6974585770246993, 2.4904767047794225, 2.412412350809803, 2.409885805449038, 3.605473547502562, 2.946717344560608, 33.352726077776694, 14.818273131925963, 12.51019047165444, 9.540331175037696, 9.466305271278268, 9.378875827106437, 9.217882963740637, 8.395245872698663, 8.39118281811133, 8.08716683932184, 7.606467569884461, 6.737118119066967, 6.407785602755662, 5.817231589490903, 5.679300533168284, 5.672556203032747, 5.544273009802628, 5.487936431339794, 5.294938974000985, 5.2737715567013845, 5.231929944394382, 5.227350023109662, 5.177345889244008, 5.09786900431277, 5.093081485150508, 5.021850822972286, 4.9529770351031015, 4.952682425814471, 4.535706247020342, 4.302308540314731, 11.745682677876578, 16.297562643821028, 8.336608693611135, 9.233616896728266, 79.61731531259399, 31.44602713247792, 27.03177584824883, 23.080024812183602, 23.300234483249877, 13.22555713395526, 12.29222271469396, 12.004366492824055, 9.809745446498399, 9.70466954241705, 8.222777981408475, 7.991412804282259, 7.13322286849284, 6.975505093492111, 6.284822183862484, 6.222170234166784, 5.368745257320294, 4.847265014482956, 4.451676926118281, 4.319985263151263, 4.0366513681994425, 3.972494450456731, 3.813151087281917, 3.3156693785345612, 2.6457628218696, 2.6163101703798985, 2.5088350855787236, 2.2809660364433464, 2.4228468526830276, 2.088097236795873, 4.01829344878258, 4.131310332537386, 3.203917382381536, 3.5952225283880086, 2.8557070242366605, 89.09389041284753, 52.79258572713723, 42.231209879141026, 24.543975572272068, 22.03559918826419, 20.629912176555553, 12.742243993506987, 12.335037734845246, 10.295988151203021, 9.475238684936725, 8.242887905663391, 7.345648151563607, 5.935043408190876, 5.118257616299342, 3.90147988220567, 3.857984912520533, 3.8204863526691946, 3.723638582120414, 3.687228058416979, 3.111145214539123, 14.75320868687709, 2.6986503287359787, 2.6050826436668535, 2.475871104376317, 2.4730977191795116, 2.4730972626927703, 2.428984209959905, 2.4084868140584037, 2.296650529602205, 2.2834530414243015, 46.69499277238016, 40.03800927901233, 38.14997012937972, 20.391842689364438, 19.95169444671966, 19.579724682067983, 16.981837051056083, 13.989170888371678, 10.815479922604126, 8.828639865561957, 8.275095383862956, 7.23541384310532, 7.026274688603527, 6.9823756356999285, 5.731433972930633, 5.404333750793679, 5.367892906029257, 4.959485010004429, 4.889416202759461, 4.846199567760424, 4.499526297692855, 3.978670492862886, 3.8707643488128847, 3.8707643488128847, 3.783049905903199, 3.7055500244317607, 3.3456928384121296, 3.3085571393664903, 2.88579947360699, 2.627588637976041, 8.317497549248928, 5.345458134771896, 3.7593369012414364, 36.69530721762827, 33.32369581713299, 14.814083292420476, 83.67459179644757, 14.467454093804925, 13.45087038880671, 12.95737887092952, 12.320384724276833, 9.981196701614193, 9.371735993266809, 8.149907423011966, 6.124895802538163, 5.688507137227868, 4.92061888576509, 4.573151525372076, 4.049676794876774, 4.0158738712591555, 3.9014643484242306, 3.7088222843897856, 3.34295564420066, 3.289591723911547, 3.231995835004968, 3.1966730828491685, 2.4787501025143084, 2.4787501025143084, 2.4787501025143084, 2.4787501025143084, 2.2933400451821093, 2.2861082585853723, 2.2630753176182568, 5.660345958011502, 4.765351617544875, 14.436530150242254, 2.892052561324361, 2.6923028502001354, 32.40105834775002, 26.47406900450139, 25.24719538028873, 23.21359646917537, 21.782038578005412, 13.752770216234923, 9.275320356206999, 9.05207898769512, 8.488195831826536, 23.21617482215123, 5.445178330543875, 5.1124986379740545, 4.722282514756759, 4.391891220451007, 4.332317186965444, 4.31264250579334, 4.31264250579334, 4.148467860019386, 3.816836228334974, 3.8114001274788745, 3.7908670219627605, 3.7509139906283013, 3.278950878317003, 3.147227620692881, 2.4249827730333733, 2.4249827730333733, 2.4249827730333733, 2.4249827730333733, 2.4249827730333733, 2.4222662625772373, 5.814323678051115, 8.48567731775933, 8.32095576195995, 10.736905939730285, 4.3813006136030666, 6.192358183437412, 28.38693129868297, 21.515746316226856, 37.84064074611669, 17.819886861972893, 14.806525033669507, 12.787153092068559, 9.95720056365741, 9.582552781127585, 7.794475625913481, 7.412166679889165, 17.652143642741038, 6.636467232453571, 5.697054884704029, 5.119029228662107, 5.01969556176184, 4.9626320236891015, 4.662486634437167, 62.33178854132803, 3.5750643284003196, 3.442131526154316, 3.3316929440477696, 3.2936537285498884, 3.0527372683281824, 2.8047817873227516, 2.7679403519180426, 2.6919731479518667, 2.5728239249637714, 2.4344000650066833, 2.428802923712467, 2.3676115555494466, 4.229116980973455, 2.6049111013620525, 2.6049111013620525, 87.62308269657578, 26.785556689475175, 18.626461607977543, 12.980304994725609, 9.964590525931444, 9.701208864153813, 9.54608827655412, 9.482971258758667, 9.460101633832794, 8.030964294304978, 6.682182776523861, 6.5270878438150834, 6.148026996151053, 6.072217648656247, 4.734122248104823, 4.591098369153707, 4.439211152972505, 30.13657801705704, 4.286250279606453, 4.060104126504825, 4.029404201289766, 3.919923664630272, 3.7392529435854627, 3.501029536794201, 3.012175376592254, 2.9265831778187685, 9.609457567443583, 2.0829054143552614, 1.9961754211696354, 1.9961754211696354, 4.341616954856075, 3.4320050527837416, 2.2728029169181383, 50.32194273591585, 32.11373370651983, 20.420352001908515, 11.35928972587075, 6.005565672498346, 5.221337950185943, 5.163937746416259, 5.079606465357608, 4.028850841199803, 3.9077957425062926, 3.506390857539573, 3.469385045637841, 3.4079765245415508, 3.136730113013534, 3.0389432901529467, 2.9915299320886266, 2.9915299320886266, 2.9915299320886266, 2.555402472404608, 2.555402472404608, 2.5525400431550556, 2.3881925764700482, 7.275127187923565, 2.0396805688892226, 2.0272030515165573, 2.0272030515165573, 1.9917600793331491, 1.7784334991197546, 1.7466599929540891, 1.7466599929540891, 31.153197087146296, 5.363201060107826, 26.255460679052206, 31.80270194432666, 10.277881283250412, 3.035128036848047, 3.2324925752581697, 2.555402472404608, 43.29347317864843, 42.82647325676642, 26.602420262032542, 15.519563160586609, 14.710294020581522, 10.72156298789913, 10.377910170859417, 9.46090003550058, 8.301199592660154, 7.771954952967919, 6.955519164481815, 6.509827978939903, 6.321401665980105, 34.492484175189794, 5.841046239608877, 4.974186230818626, 4.278551922121791, 4.1184229151189875, 3.7762090901909735, 3.1429473139729662, 2.821414435841027, 2.7903035658948907, 2.5715330658405975, 2.5715330658405975, 2.5715330658405975, 2.5715330658405975, 2.403013015585944, 9.970244156967158, 2.1126324497164464, 2.054857142107727, 15.619755089253436, 9.710096376322088, 2.6614807411408097, 49.80404122802072, 40.91342269659574, 22.12965017236421, 16.762720233069427, 10.804688230259277, 10.171458684180811, 10.036016354396507, 9.523475912898778, 7.976012385297847, 7.006385579084478, 6.744943045673588, 5.782473430013831, 5.365504858996059, 5.3612555920879155, 5.226749101215779, 4.941122846587499, 4.338265808964961, 4.076930660549378, 4.013232362430861, 3.937941912219714, 3.02729079036015, 2.954789054819538, 2.920943397724795, 2.791927885457434, 2.701099756836932, 2.60426892328023, 2.600685288274402, 2.297043359243988, 1.9699213327018936, 1.8845368867676568, 22.423312856424644, 9.322430267425787, 3.4592824059198777, 24.807925790681953, 22.514757303756106, 10.853293711752006, 10.136833259914308, 9.369106849400838, 9.347714772930075, 9.017467818267951, 7.590744152024991, 7.428399899692312, 7.425936993622662, 7.181854853929118, 6.6247945438601885, 6.457868855767486, 6.002067884711053, 5.932609551972423, 5.911360068846205, 5.814539572249189, 5.267424667526436, 5.145499670968215, 5.113200933208675, 4.087809502149372, 3.5844968899091074, 3.3655542259027893, 3.249239182058774, 2.964243898591475, 2.914647550397377, 2.829976122060136, 2.60340029411136, 2.410906581600523, 2.3944818269219224, 17.287637356110128, 11.374620360287288, 3.4056237244170435, 43.872372926637965, 37.517799783513766, 20.931873766775794, 20.606128887796004, 17.83981949725303, 16.71249360652029, 15.477994530786221, 15.39865267498236, 12.944663496409833, 12.127375898726658, 11.182215450588739, 8.239607428709288, 7.498724850317027, 7.184794410227329, 5.366685612057834, 4.0551692948833455, 3.963525814693083, 3.7898903115860287, 3.6420985123417493, 3.577904770831116, 3.5005833243624873, 3.1694046878988464, 3.1034619580806577, 2.3243040590650095, 2.155352665336571, 1.9988721529275235, 1.9988719623228692, 1.9988719623228692, 1.9988719623228692, 1.9988719623228692, 22.642200606332327, 18.39008895327663, 14.467722820582859, 13.512868247985812, 11.74185674540646, 11.725556543372717, 9.048805199713447, 8.862060404612444, 7.4566661446491675, 19.987613910261086, 6.0317918059242315, 6.0195135040510275, 4.454079927013702, 4.056990439327426, 4.056990439327426, 3.7435447399931645, 3.5229014531165506, 3.4482867468036087, 2.504255032861383, 2.170900241921511, 2.1108978807162817, 2.046007973541045, 2.043716412484246, 2.0437162219812075, 2.0437162219812075, 2.0437162219812075, 2.009335757516785, 1.96562750224805, 1.886997944387014, 1.886997944387014, 47.098758252726384, 47.232409088830465, 3.550043183102942, 38.39079988455597, 15.515487810308846, 9.405670118321863, 8.631209486715774, 8.361285435392347, 6.942715453193645, 6.871907964653191, 6.693604097729329, 6.501054576224947, 6.073932500275731, 4.586411740534554, 4.304428710699236, 4.0587200981101565, 3.9714357459088925, 3.6843503550288954, 3.6458854045240416, 3.31848501456028, 3.308528204590953, 3.195675241277401, 3.136391283148005, 3.089996300684837, 3.012715044732736, 3.012715044732736, 2.998381726743435, 2.994111466774903, 2.8578185352410794, 2.8237982948882316, 6.041278231158507, 2.613924730540581, 2.59095569015228, 13.249464434509513, 3.6431247084547156, 3.3377965622074273, 98.1908055558767, 36.69663042349467, 18.937012228454787, 15.335628682450158, 10.119280735985269, 7.984818693091364, 7.868876925390377, 7.143508779545516, 6.489742241359005, 5.230164758774368, 4.980805476108999, 4.812993696379628, 4.227480208565372, 4.1126629125708325, 3.991750959212494, 3.82079397308284, 3.6684648257377406, 3.6684648257377406, 3.668464480490057, 3.224973806161266, 2.914174936165311, 2.631206999839658, 2.2723197883208623, 2.0769163315661294, 2.003387551336276, 2.003387551336276, 2.003387551336276, 2.0033873787124343, 2.0033873787124343, 2.0033873787124343, 4.499682804235654, 32.1856303063969, 19.493557007148887, 15.666683648141076, 12.763435954320473, 10.892326283701822, 9.93838753118468, 9.252151604575847, 6.513056721186471, 6.513056071750201, 6.382194663382281, 5.110787433037105, 5.040978878958316, 4.806831775675131, 4.455406223607228, 3.9193092468813964, 3.8232569731393427, 3.819726962294758, 3.543066137198745, 3.348726554792066, 3.1341183911225654, 2.867045843114116, 2.439819875583033, 15.899263661705193, 2.2496259696047245, 2.242047373054107, 2.242047373054107, 2.242047373054107, 2.004617694145138, 2.004617694145138, 1.9574522226906848, 36.333203326107714, 15.526771060063624, 12.53990124921877, 12.256773459942222, 11.756526457444195, 10.632713955969523, 10.560618883168456, 9.736323258082848, 9.31341486262739, 7.704503061775022, 7.087805529343379, 6.246244546091947, 6.159579545382597, 5.786493692907626, 4.478775405492592, 4.4715881252633265, 4.182574331082654, 4.129680355572482, 3.8393611224980675, 3.778917956564829, 3.5843239697505735, 3.3288355502216063, 3.1040649790090753, 2.4276881353452677, 2.4276881353452677, 2.424969004774149, 2.424969004774149, 2.3616158246631502, 2.239015063356485, 2.080569499412716, 4.676602563462966, 5.521024558892467, 3.850519166074887, 39.63469403500986, 24.04768361519573, 15.20584086882328, 13.727189568537517, 12.759305926133667, 11.810662285178376, 10.081736504797057, 8.403205307562336, 6.322675904636963, 6.020474355876034, 5.762462770633203, 5.6655906654098676, 4.750567880223648, 3.9022943815119553, 3.9022943815119553, 3.7126389266809787, 3.529097457182929, 3.34669178859311, 3.2738623450790723, 3.1893825649660243, 3.1318138305361938, 13.67582417719681, 2.74808641377421, 2.6293363384854462, 2.5760507127910373, 2.4631382520606775, 2.463137932925834, 2.1286972227010277, 2.1286970631336057, 1.9654624628661375, 6.38806791062183, 2.6740303754889485, 2.3680606420626815, 37.575028199799505, 23.79669435037125, 23.27580980956302, 23.053523479407506, 11.194857848611575, 9.64886023375086, 8.058491821356725, 7.077695172094911, 5.564678056998603, 5.126163470432631, 4.428735912838584, 4.329958323609653, 3.874924189227279, 3.6548594871090656, 8.774584538542776, 2.1815057041730865, 2.097790552438599, 1.9347559948806654, 1.9152628387158914, 1.6924975797171193, 1.6744220740440112, 1.4642171825646777, 1.4421989931791774, 1.2352697955048744, 1.2352697955048744, 1.2352697955048744, 1.2352696635321978, 1.2352696635321978, 1.1452195593772165, 0.9430754929961612, 3.0855383345477914, 4.6160035572128155], \"Total\": [98.0, 88.0, 89.0, 88.0, 80.0, 79.0, 79.0, 73.0, 65.0, 58.0, 58.0, 72.0, 53.0, 50.0, 51.0, 50.0, 47.0, 44.0, 38.0, 44.0, 40.0, 43.0, 47.0, 41.0, 55.0, 43.0, 39.0, 37.0, 37.0, 40.0, 42.69530863747639, 36.54821723688274, 33.19367919692382, 17.422574627848157, 12.196967217932944, 11.988883439380057, 11.902421670602708, 11.683878748091232, 11.512541038288592, 12.26274134250278, 9.391260375545926, 9.351412793672898, 8.299757091417614, 7.9173804740395015, 7.711556500033301, 6.256951114985671, 6.089495633506827, 9.299682782252509, 5.706340259465238, 5.54427798844149, 5.485808824189889, 5.481002546233644, 5.258595388444021, 5.12414864104893, 5.061706943886931, 4.783187100891895, 4.670007184161078, 4.537335317069031, 19.862706077802052, 4.465580263411069, 28.159331414598494, 17.257275461576867, 50.50648293639605, 55.95884257558355, 22.086083900950605, 19.256839463744196, 19.447409846455404, 30.076482326331995, 15.924280358500953, 28.82598738812046, 24.822144777171907, 18.261605238581083, 13.953868226890435, 13.748414964256279, 13.19876595569245, 12.512595500189583, 11.403755337116252, 10.12144608719219, 9.949660707553777, 8.806835045316861, 8.712573055634127, 8.03387853337216, 7.859415615286574, 7.7799113933164055, 7.615770431481047, 6.669931682630139, 6.5364116515567385, 6.363616502954617, 6.20135562391922, 6.122632919867413, 6.093082662961565, 6.002925207662881, 5.877199295202825, 5.827702970638405, 5.66261997844114, 5.611709746391504, 5.582000681401736, 5.511290670530389, 5.238759491589391, 19.447409846455404, 17.721011123614446, 9.298405981697849, 58.3973165068012, 50.338820606395686, 47.01323888008128, 29.150141705055045, 16.263338358679476, 13.594035970302826, 10.453006571759964, 10.44042916107079, 10.166039395467568, 9.999980519709368, 9.740900681376862, 9.489487981782654, 8.606724732196199, 7.912416195549657, 7.490952774489883, 7.279096984347266, 6.724967289427204, 5.698090645497529, 5.6234094997270185, 5.189242682130259, 4.938013138432451, 4.570051354508817, 4.207293897739669, 4.136134655874627, 3.9059495129322084, 3.9051070487440005, 3.6910642395667743, 3.8413231291100725, 3.7382940030735243, 3.519675315482427, 15.924280358500953, 10.537114799212588, 22.086083900950605, 7.056072721183063, 72.4993096290281, 21.79232513822025, 9.188514641113136, 35.72778738773463, 79.76002385278065, 65.4391357113719, 58.69991649378689, 23.899522838006597, 17.704784985620012, 16.159502761090533, 15.274902816632155, 14.782826483175814, 11.111845866457996, 10.795624952716878, 10.283127043462585, 9.639662001687608, 8.671539498268135, 7.657057246109474, 7.620896267821849, 7.105761713838333, 6.252132293305833, 5.5126809240674595, 5.143947144285071, 5.022331050950831, 4.872425015452379, 4.724568485281541, 4.539809415220246, 4.450375728574159, 4.403784072128174, 3.5927642555583574, 3.492118513603188, 3.2851366413579113, 3.207072290825729, 3.204545745464964, 6.124006974219965, 17.257275461576867, 34.14044578119166, 15.605992835340924, 13.2979101750694, 10.328050878452657, 10.254024974693229, 10.166595530521398, 10.005602667155598, 9.182965576113624, 9.178902521526291, 8.874886696606788, 8.394187273299421, 7.524837822481928, 7.195505306170623, 6.604951292905864, 6.467020236583245, 6.460275906447708, 6.331992713217589, 6.275656138287816, 6.082658677415946, 6.0614912601163455, 6.019649647809343, 6.015069726524623, 5.965065592658969, 5.885588707727731, 5.880801188565469, 5.809570526387247, 5.7406967385180625, 5.740402129229432, 5.323425950435303, 5.090028243729692, 13.970497853877205, 21.179222541989528, 12.29087564162379, 19.256839463744196, 80.4081619662089, 32.23687378609283, 27.822622501863744, 23.870871473187393, 24.587640240046372, 14.016403787570175, 13.083069368308875, 12.79521314643897, 10.600592100113314, 10.495516196031966, 9.01362463502339, 8.782259457897174, 7.924069522107755, 7.766351747107025, 7.075668837477398, 7.013016887781698, 6.159591910935208, 5.638111671126554, 5.242523579733195, 5.110831916766178, 4.827498075177289, 4.763341104071646, 4.603997740896832, 4.106516032149476, 3.4366094754845142, 3.407156823994813, 3.299681739193638, 3.0718126900582607, 3.3003130528981623, 2.8789438904107874, 6.832774065803067, 21.179222541989528, 12.29087564162379, 38.84024930901543, 17.290670028166627, 89.88526939468777, 53.58396470897748, 43.022594166794114, 25.335354554112314, 22.826978170104436, 21.4212911583958, 13.533622975347235, 13.126416716685494, 11.08736713304327, 10.266620100023198, 9.03426688750364, 8.137027133403855, 6.726422390031125, 5.909636598139591, 4.692858864045919, 4.649363894360782, 4.611865334509443, 4.515017563960663, 4.478607040257229, 3.902524196379372, 18.687239891859154, 3.4900293105762277, 3.3964616255071025, 3.267250086216566, 3.2644767010197606, 3.2644762878777356, 3.220363191800154, 3.1998657958986527, 3.088029511442454, 3.0748320232645505, 47.49173310505922, 40.834749611691386, 38.946710462058775, 21.188583022043495, 20.748434779398718, 20.37646501474704, 17.77857738373514, 14.785911221050736, 11.612220255283184, 9.625380198241015, 9.071835716542013, 8.032154175784378, 7.823015021282585, 7.779115968378987, 6.528174305609691, 6.201074083472737, 6.164633238708316, 5.7562253426834875, 5.68615653543852, 5.642976653713075, 5.296266630371913, 4.775410825541944, 4.667504681491943, 4.667504681491943, 4.579790238582257, 4.5022908568330635, 4.142433171091188, 4.1052974720455495, 3.6825398062860484, 3.4243289706550994, 11.759892380447909, 23.39919718963377, 8.17085815703374, 37.48664336039747, 34.115032067725984, 15.6054194381924, 88.19827911042539, 15.258790236574125, 14.24220653157591, 13.748715013698721, 13.111720867046033, 10.772532844383393, 10.163072136036009, 8.941243565781166, 6.9162319453073655, 6.479843279997071, 5.71195503151249, 5.364487668141279, 4.841012937645977, 4.8072100140283585, 4.692800491193434, 4.500158427158988, 4.134291786969863, 4.080927866680749, 4.02333197777417, 3.988009225618371, 3.270086245283511, 3.270086245283511, 3.2700862544480898, 3.2700862544480898, 3.084676187951312, 3.0774444013545748, 3.0544114603874593, 8.03887161853605, 6.923874762479875, 30.076482326331995, 5.371209353511553, 19.862706077802052, 33.19319448610624, 27.26620515586254, 26.039331513165983, 24.005732812966432, 22.574174751065843, 14.544906349112175, 10.06745648908425, 9.844215120572372, 9.280331964703787, 26.056437445837602, 6.2373144634211295, 5.904634770851309, 5.514418647634013, 5.184027356356944, 5.124453319842698, 5.104778638670594, 5.104778638670594, 4.94060399289664, 4.608972363749089, 4.603536260356129, 4.583003154840015, 4.543050123505556, 4.071087011194257, 3.939363753570135, 3.217118917610099, 3.217118917610099, 3.217118917610099, 3.217118917610099, 3.217118917610099, 3.214402395454491, 9.965207727973782, 30.076482326331995, 33.821367029503335, 73.82207514155633, 12.23428845745875, 28.159331414598494, 29.17639032573803, 22.305205343281916, 39.43521368703864, 18.60934589272239, 15.595984060724566, 13.576612119123618, 10.74665959071247, 10.372012224224013, 8.58393465296854, 8.201625706944226, 19.605479939489868, 7.425926259508632, 6.486649183789983, 5.9084882557171685, 5.809154588816901, 5.752091050744163, 5.451945661492228, 73.82207514155633, 4.364523355455382, 4.231590553209376, 4.12115197110283, 4.083112755604948, 3.8421962953832427, 3.5942408143778115, 3.557399378973103, 3.481432175006927, 3.3622829520188313, 3.223859092061743, 3.218261950767527, 3.157070582604507, 7.131308015293245, 5.47842783966162, 5.911751469325835, 88.4190961828113, 27.581570175710695, 19.422475094213063, 13.776318533377308, 10.76060447758914, 10.49722235038933, 10.342101762789637, 10.278984744994185, 10.256115120068312, 8.826977780540496, 7.478196262759382, 7.323101330050604, 6.944040493469888, 6.868231137894491, 5.530135734340344, 5.387111855389228, 5.235224639208026, 35.72778738773463, 5.082263765841974, 4.856117612740346, 4.825417687525286, 4.715937150865792, 4.535266432797593, 4.297043023029721, 3.8081888628277727, 3.722596664054288, 12.362237571666114, 2.8789189005907807, 2.7921889074051545, 2.7921889074051545, 9.188514641113136, 7.282344417936811, 7.056072721183063, 51.11213838505815, 32.903929355662136, 21.210547651050824, 12.14948537501306, 6.795761321640656, 6.011533599328254, 5.954133404493162, 5.869802114499918, 4.819055461844609, 4.697991391648603, 4.29658657285092, 4.2595806947801504, 4.198172173683861, 3.926925762155843, 3.8291389392952557, 3.7817255812309356, 3.7817255812309356, 3.7817255812309356, 3.345598132307478, 3.345598132501277, 3.3427356922973646, 3.1783882256123572, 9.788383939493409, 2.8298762180315316, 2.8173987006588663, 2.8173987006588663, 2.781955728475458, 2.5686291482620636, 2.5368556420963984, 2.5368556420963984, 55.95884257558355, 8.639815803450645, 50.50648293639605, 79.79486468361766, 27.376398419919813, 7.045233559718915, 9.298405981697849, 5.911751469325835, 44.0833859218699, 43.62361475766543, 27.392333005254013, 16.309475907156678, 15.50020676380299, 11.511475731120598, 11.167822914080885, 10.250812778722048, 9.091112335881622, 8.561867696189386, 7.745431907703284, 7.299740722161372, 7.111314409201574, 38.84024930901543, 6.630958982830347, 5.764098974040095, 5.06846466534326, 4.908335658340457, 4.566121837859354, 3.932860057194435, 3.611327179062496, 3.5802163091163597, 3.3614458131976312, 3.3614458224073385, 3.3614458224073385, 3.3614458294147553, 3.1929257654883743, 13.312907253405829, 2.9025451929379154, 2.844769885329196, 21.79232513822025, 13.994215650841097, 5.285237095672143, 50.602709312822846, 41.71209078139786, 22.928318257166346, 17.56138831787156, 11.603356315061408, 10.970126768982942, 10.834684439198638, 10.322143997700909, 8.774680470099979, 7.805053663886611, 7.543611140238261, 6.581141514815964, 6.164172943798191, 6.159923676890048, 6.025417186017911, 5.739790931389631, 5.136933893767093, 4.87559874535151, 4.811900447232993, 4.736610018909889, 3.825958875162282, 3.7534571430591073, 3.7196114825269273, 3.590595970259566, 3.499767841639064, 3.402937008082362, 3.399353373076534, 3.09571144404612, 2.7685894175040255, 2.683204971569789, 33.821367029503335, 17.721011123614446, 6.710683132782537, 25.605508626267476, 23.312335458250942, 11.65087186624684, 10.934411414409142, 10.166685003895672, 10.14529292742491, 9.815045972762785, 8.388322306519825, 8.225978054187147, 8.223580138348206, 7.979433008423952, 7.422372698355024, 7.255447013467945, 6.799646039205888, 6.730187711946012, 6.708938223341041, 6.612946650021603, 6.065002822021271, 5.9430778254630505, 5.910779087703509, 4.885387656644206, 4.382075049882905, 4.163132380397624, 4.046817336553609, 3.7618220530863096, 3.7122257507500476, 3.6275542765549704, 3.4009784486061942, 3.2084847360953574, 3.1920599814167567, 23.39919718963377, 72.4993096290281, 10.537114799212588, 44.6708490424535, 38.3162758993293, 21.73035260365427, 21.404605018625162, 18.638295692513534, 17.51096972233583, 16.27647064660176, 16.197128790797898, 13.74313961222537, 12.925852014542196, 11.980691566404277, 9.038083544524826, 8.297200966132564, 7.983270526042865, 6.165161727873371, 4.853645410698882, 4.762001944804793, 4.588366427401565, 4.440574628157286, 4.376380953350317, 4.299059440178024, 3.967880803714383, 3.9019380738961944, 3.1227801773737873, 2.9538287811521076, 2.797348317847574, 2.797348078138406, 2.797348078138406, 2.797348078138406, 2.797348078138406, 23.439975399049317, 19.18786374599362, 15.265497613299846, 14.310652236914649, 12.539631538123448, 12.523331336089704, 9.846579992430435, 9.659835197329432, 8.254440937366155, 22.621795176180292, 6.82956659864122, 6.817288296768016, 5.251854719730691, 4.854765234546559, 4.854765234546559, 4.541327575827909, 4.320676245833539, 4.246061539520597, 3.302029825578371, 2.968675034638499, 2.9086726734332697, 2.843782771736996, 2.841491205201234, 2.8414910146981955, 2.8414910146981955, 2.841491021379157, 2.807110550233773, 2.7634022949650383, 2.684772737104002, 2.684772737104002, 72.4993096290281, 79.79486468361766, 6.900221382833691, 39.19067292156559, 16.315360816366134, 10.206552762647265, 9.431082534642558, 9.161158441449635, 7.742588459250932, 7.671780970710478, 7.493477103786616, 7.300927582282234, 6.873805506333018, 5.386284746591841, 5.104301718818596, 4.8585931041674435, 4.771308751966179, 4.484223367042578, 4.445758410581329, 4.118358020617568, 4.108401210648241, 3.995548247334688, 3.936264289205292, 3.889869306742124, 3.812588050790023, 3.812588050790023, 3.798254732800722, 3.79398447283219, 3.6576915412983664, 3.6236713009455186, 7.820020021195337, 3.413797736597868, 3.390828696209567, 27.376398419919813, 8.17085815703374, 10.494029652004786, 98.9892144876057, 37.49503935522367, 19.735421160183797, 16.134037614179167, 10.917689667714276, 8.78322762482037, 8.667285857119383, 7.941917711274524, 7.288151173088013, 6.028573690503376, 5.7792144078380066, 5.611402628108636, 5.02588914029438, 4.9110718442998404, 4.790159890941502, 4.6192031117003935, 4.4668737574667485, 4.4668737574667485, 4.466873412219065, 4.023382737890273, 3.7125838678943186, 3.4296159315686654, 3.07072872004987, 2.875325263295137, 2.8017964830652837, 2.8017964875121946, 2.801796502211651, 2.801796310441442, 2.801796310441442, 2.801796310441442, 6.858980888501278, 32.98515893806571, 20.2930856388177, 16.46621227980989, 13.562964585989285, 11.691854915370634, 10.737916162853493, 10.051680236244659, 7.312585352855284, 7.31258481305043, 7.182105966158156, 5.910316064705918, 5.8405075133243765, 5.606364171997294, 5.254934862755763, 4.718837878550209, 4.622785611250028, 4.619255593963571, 4.342594774924924, 4.148255186460879, 3.933647022791378, 3.6665744747829287, 3.239348507251846, 21.28358339495658, 3.049154605720448, 3.0415760047229194, 3.0415760047229194, 3.0415760047229194, 2.8041463258139507, 2.8041463258139507, 2.756980860710819, 37.12529920071148, 16.318866934667398, 13.331997123822541, 13.048870406639608, 12.548622332047966, 11.424851436313313, 11.352714757772226, 10.528419132686619, 10.10551073723116, 8.496598936378794, 7.879901403947151, 7.038340420695718, 6.951675419986368, 6.578589567511397, 5.2708712800963635, 5.263683999867098, 4.974670205686426, 4.9217762301762535, 4.631456997101839, 4.5710138311686, 4.376419844354345, 4.120931424825378, 3.896160853612847, 3.2197840099490396, 3.2197840099490396, 3.21706491608339, 3.21706491608339, 3.1537117026074024, 3.031110944825104, 2.872665374016488, 6.5642172497023745, 8.000940798311925, 8.47604513714178, 40.43120299952685, 24.84419257971273, 16.00234983334028, 14.523698533054516, 13.555814890650664, 12.607171249695375, 10.878245469314054, 9.199714272079335, 7.119184869153962, 6.816983320393033, 6.558971735150202, 6.4620996299268665, 5.547076844740647, 4.698803346028954, 4.698803346028954, 4.509147891197977, 4.325606421699928, 4.143200753110109, 4.070371309596071, 3.985895113520792, 3.9283227950531927, 17.290670028166627, 3.5445953782912087, 3.425845303002445, 3.372559677308036, 3.2596472165776764, 3.259646897442833, 2.9252061872180266, 2.9252060312750077, 2.761971429445209, 10.494029652004786, 5.0515238993617695, 6.102164290780929, 38.37203253556802, 24.593698686139767, 24.072814145331538, 23.850527815176022, 11.991862184380091, 10.445864569519376, 8.85549623749371, 7.8746995078634265, 6.361684975435112, 5.923167806201146, 5.225740248607099, 5.126962659378169, 4.671928524995795, 4.4518638228775815, 11.164199766326002, 2.9785100447067094, 2.8947948882071146, 2.731760330649181, 2.7122671779235556, 2.489501915485635, 2.4714264098125267, 2.261221518333193, 2.239203328947693, 2.03227413127339, 2.03227413127339, 2.03227413127339, 2.0322739993007133, 2.0322739993007133, 1.942223895145732, 1.7400798287646768, 7.282344417936811, 21.28358339495658], \"Category\": [\"Default\", \"Default\", \"Default\", \"Default\", \"Default\", \"Default\", \"Default\", \"Default\", \"Default\", \"Default\", \"Default\", \"Default\", \"Default\", \"Default\", \"Default\", \"Default\", \"Default\", \"Default\", \"Default\", \"Default\", \"Default\", \"Default\", \"Default\", \"Default\", \"Default\", \"Default\", \"Default\", \"Default\", \"Default\", \"Default\", \"Topic1\", \"Topic1\", \"Topic1\", \"Topic1\", \"Topic1\", \"Topic1\", \"Topic1\", \"Topic1\", \"Topic1\", \"Topic1\", \"Topic1\", \"Topic1\", \"Topic1\", \"Topic1\", \"Topic1\", \"Topic1\", \"Topic1\", \"Topic1\", \"Topic1\", \"Topic1\", \"Topic1\", \"Topic1\", \"Topic1\", \"Topic1\", \"Topic1\", \"Topic1\", \"Topic1\", \"Topic1\", \"Topic1\", \"Topic1\", \"Topic1\", \"Topic1\", \"Topic1\", \"Topic1\", \"Topic1\", \"Topic1\", \"Topic1\", \"Topic1\", \"Topic1\", \"Topic2\", \"Topic2\", \"Topic2\", \"Topic2\", \"Topic2\", \"Topic2\", \"Topic2\", \"Topic2\", \"Topic2\", \"Topic2\", \"Topic2\", \"Topic2\", \"Topic2\", \"Topic2\", \"Topic2\", \"Topic2\", \"Topic2\", \"Topic2\", \"Topic2\", \"Topic2\", \"Topic2\", \"Topic2\", \"Topic2\", \"Topic2\", \"Topic2\", \"Topic2\", \"Topic2\", \"Topic2\", \"Topic2\", \"Topic2\", \"Topic2\", \"Topic2\", \"Topic2\", \"Topic3\", \"Topic3\", \"Topic3\", \"Topic3\", \"Topic3\", \"Topic3\", \"Topic3\", \"Topic3\", \"Topic3\", \"Topic3\", \"Topic3\", \"Topic3\", \"Topic3\", \"Topic3\", \"Topic3\", \"Topic3\", \"Topic3\", \"Topic3\", \"Topic3\", \"Topic3\", \"Topic3\", \"Topic3\", \"Topic3\", \"Topic3\", \"Topic3\", \"Topic3\", \"Topic3\", \"Topic3\", \"Topic3\", \"Topic3\", \"Topic3\", \"Topic3\", \"Topic3\", \"Topic3\", \"Topic3\", \"Topic3\", \"Topic3\", \"Topic3\", \"Topic4\", \"Topic4\", \"Topic4\", \"Topic4\", \"Topic4\", \"Topic4\", \"Topic4\", \"Topic4\", \"Topic4\", \"Topic4\", \"Topic4\", \"Topic4\", \"Topic4\", \"Topic4\", \"Topic4\", \"Topic4\", \"Topic4\", \"Topic4\", \"Topic4\", \"Topic4\", \"Topic4\", \"Topic4\", \"Topic4\", \"Topic4\", \"Topic4\", \"Topic4\", \"Topic4\", \"Topic4\", \"Topic4\", \"Topic4\", \"Topic4\", \"Topic4\", \"Topic5\", \"Topic5\", \"Topic5\", \"Topic5\", \"Topic5\", \"Topic5\", \"Topic5\", \"Topic5\", \"Topic5\", \"Topic5\", \"Topic5\", \"Topic5\", \"Topic5\", \"Topic5\", \"Topic5\", \"Topic5\", \"Topic5\", \"Topic5\", \"Topic5\", \"Topic5\", \"Topic5\", \"Topic5\", \"Topic5\", \"Topic5\", \"Topic5\", \"Topic5\", \"Topic5\", \"Topic5\", \"Topic5\", \"Topic5\", \"Topic5\", \"Topic5\", \"Topic5\", \"Topic5\", \"Topic6\", \"Topic6\", \"Topic6\", \"Topic6\", \"Topic6\", \"Topic6\", \"Topic6\", \"Topic6\", \"Topic6\", \"Topic6\", \"Topic6\", \"Topic6\", \"Topic6\", \"Topic6\", \"Topic6\", \"Topic6\", \"Topic6\", \"Topic6\", \"Topic6\", \"Topic6\", \"Topic6\", \"Topic6\", \"Topic6\", \"Topic6\", \"Topic6\", \"Topic6\", \"Topic6\", \"Topic6\", \"Topic6\", \"Topic6\", \"Topic6\", \"Topic6\", \"Topic6\", \"Topic6\", \"Topic6\", \"Topic7\", \"Topic7\", \"Topic7\", \"Topic7\", \"Topic7\", \"Topic7\", \"Topic7\", \"Topic7\", \"Topic7\", \"Topic7\", \"Topic7\", \"Topic7\", \"Topic7\", \"Topic7\", \"Topic7\", \"Topic7\", \"Topic7\", \"Topic7\", \"Topic7\", \"Topic7\", \"Topic7\", \"Topic7\", \"Topic7\", \"Topic7\", \"Topic7\", \"Topic7\", \"Topic7\", \"Topic7\", \"Topic7\", \"Topic7\", \"Topic8\", \"Topic8\", \"Topic8\", \"Topic8\", \"Topic8\", \"Topic8\", \"Topic8\", \"Topic8\", \"Topic8\", \"Topic8\", \"Topic8\", \"Topic8\", \"Topic8\", \"Topic8\", \"Topic8\", \"Topic8\", \"Topic8\", \"Topic8\", \"Topic8\", \"Topic8\", \"Topic8\", \"Topic8\", \"Topic8\", \"Topic8\", \"Topic8\", \"Topic8\", \"Topic8\", \"Topic8\", \"Topic8\", \"Topic8\", \"Topic8\", \"Topic8\", \"Topic8\", \"Topic9\", \"Topic9\", \"Topic9\", \"Topic9\", \"Topic9\", \"Topic9\", \"Topic9\", \"Topic9\", \"Topic9\", \"Topic9\", \"Topic9\", \"Topic9\", \"Topic9\", \"Topic9\", \"Topic9\", \"Topic9\", \"Topic9\", \"Topic9\", \"Topic9\", \"Topic9\", \"Topic9\", \"Topic9\", \"Topic9\", \"Topic9\", \"Topic9\", \"Topic9\", \"Topic9\", \"Topic9\", \"Topic9\", \"Topic9\", \"Topic9\", \"Topic9\", \"Topic9\", \"Topic9\", \"Topic9\", \"Topic10\", \"Topic10\", \"Topic10\", \"Topic10\", \"Topic10\", \"Topic10\", \"Topic10\", \"Topic10\", \"Topic10\", \"Topic10\", \"Topic10\", \"Topic10\", \"Topic10\", \"Topic10\", \"Topic10\", \"Topic10\", \"Topic10\", \"Topic10\", \"Topic10\", \"Topic10\", \"Topic10\", \"Topic10\", \"Topic10\", \"Topic10\", \"Topic10\", \"Topic10\", \"Topic10\", \"Topic10\", \"Topic10\", \"Topic10\", \"Topic10\", \"Topic10\", \"Topic10\", \"Topic10\", \"Topic10\", \"Topic10\", \"Topic11\", \"Topic11\", \"Topic11\", \"Topic11\", \"Topic11\", \"Topic11\", \"Topic11\", \"Topic11\", \"Topic11\", \"Topic11\", \"Topic11\", \"Topic11\", \"Topic11\", \"Topic11\", \"Topic11\", \"Topic11\", \"Topic11\", \"Topic11\", \"Topic11\", \"Topic11\", \"Topic11\", \"Topic11\", \"Topic11\", \"Topic11\", \"Topic11\", \"Topic11\", \"Topic11\", \"Topic11\", \"Topic11\", \"Topic11\", \"Topic11\", \"Topic11\", \"Topic11\", \"Topic12\", \"Topic12\", \"Topic12\", \"Topic12\", \"Topic12\", \"Topic12\", \"Topic12\", \"Topic12\", \"Topic12\", \"Topic12\", \"Topic12\", \"Topic12\", \"Topic12\", \"Topic12\", \"Topic12\", \"Topic12\", \"Topic12\", \"Topic12\", \"Topic12\", \"Topic12\", \"Topic12\", \"Topic12\", \"Topic12\", \"Topic12\", \"Topic12\", \"Topic12\", \"Topic12\", \"Topic12\", \"Topic12\", \"Topic12\", \"Topic12\", \"Topic12\", \"Topic12\", \"Topic13\", \"Topic13\", \"Topic13\", \"Topic13\", \"Topic13\", \"Topic13\", \"Topic13\", \"Topic13\", \"Topic13\", \"Topic13\", \"Topic13\", \"Topic13\", \"Topic13\", \"Topic13\", \"Topic13\", \"Topic13\", \"Topic13\", \"Topic13\", \"Topic13\", \"Topic13\", \"Topic13\", \"Topic13\", \"Topic13\", \"Topic13\", \"Topic13\", \"Topic13\", \"Topic13\", \"Topic13\", \"Topic13\", \"Topic13\", \"Topic13\", \"Topic13\", \"Topic13\", \"Topic13\", \"Topic13\", \"Topic13\", \"Topic13\", \"Topic13\", \"Topic14\", \"Topic14\", \"Topic14\", \"Topic14\", \"Topic14\", \"Topic14\", \"Topic14\", \"Topic14\", \"Topic14\", \"Topic14\", \"Topic14\", \"Topic14\", \"Topic14\", \"Topic14\", \"Topic14\", \"Topic14\", \"Topic14\", \"Topic14\", \"Topic14\", \"Topic14\", \"Topic14\", \"Topic14\", \"Topic14\", \"Topic14\", \"Topic14\", \"Topic14\", \"Topic14\", \"Topic14\", \"Topic14\", \"Topic14\", \"Topic14\", \"Topic14\", \"Topic14\", \"Topic15\", \"Topic15\", \"Topic15\", \"Topic15\", \"Topic15\", \"Topic15\", \"Topic15\", \"Topic15\", \"Topic15\", \"Topic15\", \"Topic15\", \"Topic15\", \"Topic15\", \"Topic15\", \"Topic15\", \"Topic15\", \"Topic15\", \"Topic15\", \"Topic15\", \"Topic15\", \"Topic15\", \"Topic15\", \"Topic15\", \"Topic15\", \"Topic15\", \"Topic15\", \"Topic15\", \"Topic15\", \"Topic15\", \"Topic15\", \"Topic15\", \"Topic15\", \"Topic15\", \"Topic16\", \"Topic16\", \"Topic16\", \"Topic16\", \"Topic16\", \"Topic16\", \"Topic16\", \"Topic16\", \"Topic16\", \"Topic16\", \"Topic16\", \"Topic16\", \"Topic16\", \"Topic16\", \"Topic16\", \"Topic16\", \"Topic16\", \"Topic16\", \"Topic16\", \"Topic16\", \"Topic16\", \"Topic16\", \"Topic16\", \"Topic16\", \"Topic16\", \"Topic16\", \"Topic16\", \"Topic16\", \"Topic16\", \"Topic16\", \"Topic16\", \"Topic16\", \"Topic16\", \"Topic17\", \"Topic17\", \"Topic17\", \"Topic17\", \"Topic17\", \"Topic17\", \"Topic17\", \"Topic17\", \"Topic17\", \"Topic17\", \"Topic17\", \"Topic17\", \"Topic17\", \"Topic17\", \"Topic17\", \"Topic17\", \"Topic17\", \"Topic17\", \"Topic17\", \"Topic17\", \"Topic17\", \"Topic17\", \"Topic17\", \"Topic17\", \"Topic17\", \"Topic17\", \"Topic17\", \"Topic17\", \"Topic17\", \"Topic17\", \"Topic18\", \"Topic18\", \"Topic18\", \"Topic18\", \"Topic18\", \"Topic18\", \"Topic18\", \"Topic18\", \"Topic18\", \"Topic18\", \"Topic18\", \"Topic18\", \"Topic18\", \"Topic18\", \"Topic18\", \"Topic18\", \"Topic18\", \"Topic18\", \"Topic18\", \"Topic18\", \"Topic18\", \"Topic18\", \"Topic18\", \"Topic18\", \"Topic18\", \"Topic18\", \"Topic18\", \"Topic18\", \"Topic18\", \"Topic18\", \"Topic18\", \"Topic18\", \"Topic18\", \"Topic19\", \"Topic19\", \"Topic19\", \"Topic19\", \"Topic19\", \"Topic19\", \"Topic19\", \"Topic19\", \"Topic19\", \"Topic19\", \"Topic19\", \"Topic19\", \"Topic19\", \"Topic19\", \"Topic19\", \"Topic19\", \"Topic19\", \"Topic19\", \"Topic19\", \"Topic19\", \"Topic19\", \"Topic19\", \"Topic19\", \"Topic19\", \"Topic19\", \"Topic19\", \"Topic19\", \"Topic19\", \"Topic19\", \"Topic19\", \"Topic19\", \"Topic19\", \"Topic19\", \"Topic20\", \"Topic20\", \"Topic20\", \"Topic20\", \"Topic20\", \"Topic20\", \"Topic20\", \"Topic20\", \"Topic20\", \"Topic20\", \"Topic20\", \"Topic20\", \"Topic20\", \"Topic20\", \"Topic20\", \"Topic20\", \"Topic20\", \"Topic20\", \"Topic20\", \"Topic20\", \"Topic20\", \"Topic20\", \"Topic20\", \"Topic20\", \"Topic20\", \"Topic20\", \"Topic20\", \"Topic20\", \"Topic20\", \"Topic20\", \"Topic20\", \"Topic21\", \"Topic21\", \"Topic21\", \"Topic21\", \"Topic21\", \"Topic21\", \"Topic21\", \"Topic21\", \"Topic21\", \"Topic21\", \"Topic21\", \"Topic21\", \"Topic21\", \"Topic21\", \"Topic21\", \"Topic21\", \"Topic21\", \"Topic21\", \"Topic21\", \"Topic21\", \"Topic21\", \"Topic21\", \"Topic21\", \"Topic21\", \"Topic21\", \"Topic21\", \"Topic21\", \"Topic21\", \"Topic21\", \"Topic21\", \"Topic22\", \"Topic22\", \"Topic22\", \"Topic22\", \"Topic22\", \"Topic22\", \"Topic22\", \"Topic22\", \"Topic22\", \"Topic22\", \"Topic22\", \"Topic22\", \"Topic22\", \"Topic22\", \"Topic22\", \"Topic22\", \"Topic22\", \"Topic22\", \"Topic22\", \"Topic22\", \"Topic22\", \"Topic22\", \"Topic22\", \"Topic22\", \"Topic22\", \"Topic22\", \"Topic22\", \"Topic22\", \"Topic22\", \"Topic22\", \"Topic22\", \"Topic22\", \"Topic22\", \"Topic23\", \"Topic23\", \"Topic23\", \"Topic23\", \"Topic23\", \"Topic23\", \"Topic23\", \"Topic23\", \"Topic23\", \"Topic23\", \"Topic23\", \"Topic23\", \"Topic23\", \"Topic23\", \"Topic23\", \"Topic23\", \"Topic23\", \"Topic23\", \"Topic23\", \"Topic23\", \"Topic23\", \"Topic23\", \"Topic23\", \"Topic23\", \"Topic23\", \"Topic23\", \"Topic23\", \"Topic23\", \"Topic23\", \"Topic23\", \"Topic23\", \"Topic23\", \"Topic23\", \"Topic24\", \"Topic24\", \"Topic24\", \"Topic24\", \"Topic24\", \"Topic24\", \"Topic24\", \"Topic24\", \"Topic24\", \"Topic24\", \"Topic24\", \"Topic24\", \"Topic24\", \"Topic24\", \"Topic24\", \"Topic24\", \"Topic24\", \"Topic24\", \"Topic24\", \"Topic24\", \"Topic24\", \"Topic24\", \"Topic24\", \"Topic24\", \"Topic24\", \"Topic24\", \"Topic24\", \"Topic24\", \"Topic24\", \"Topic24\", \"Topic24\", \"Topic24\"], \"logprob\": [30.0, 29.0, 28.0, 27.0, 26.0, 25.0, 24.0, 23.0, 22.0, 21.0, 20.0, 19.0, 18.0, 17.0, 16.0, 15.0, 14.0, 13.0, 12.0, 11.0, 10.0, 9.0, 8.0, 7.0, 6.0, 5.0, 4.0, 3.0, 2.0, 1.0, -2.7489, -2.9075, -3.006, -3.6726, -4.0495, -4.0679, -4.0757, -4.0955, -4.1113, -4.0539, -4.3316, -4.3362, -4.4672, -4.5193, -4.5486, -4.7842, -4.8153, -4.3984, -4.8902, -4.9236, -4.936, -4.937, -4.9855, -5.016, -5.0305, -5.0978, -5.1264, -5.1612, -3.6856, -5.1804, -3.4295, -4.1286, -3.3272, -3.3039, -4.154, -4.2564, -4.6283, -4.6211, -4.9145, -3.0819, -3.236, -3.5549, -3.838, -3.8537, -3.897, -3.9539, -4.0533, -4.1821, -4.2007, -4.3339, -4.3458, -4.4353, -4.4597, -4.471, -4.4948, -4.644, -4.6669, -4.6975, -4.727, -4.7417, -4.7472, -4.7644, -4.7888, -4.7986, -4.8319, -4.8424, -4.8486, -4.8634, -4.9229, -3.9054, -4.3823, -4.7452, -2.2892, -2.4399, -2.5093, -2.9978, -3.6037, -3.7931, -4.0746, -4.0759, -4.1047, -4.1226, -4.1511, -4.1796, -4.2866, -4.3796, -4.4406, -4.4728, -4.562, -4.752, -4.7674, -4.8615, -4.9203, -5.0132, -5.1141, -5.1352, -5.2065, -5.2067, -5.2779, -5.2406, -5.272, -5.3388, -4.0035, -4.491, -3.9396, -4.9503, -4.1357, -4.6527, -4.9346, -4.7674, -1.9121, -2.1122, -2.2223, -3.1411, -3.4532, -3.5491, -3.6084, -3.6429, -3.9473, -3.9785, -4.0311, -4.1013, -4.2172, -4.3551, -4.3604, -4.4388, -4.5841, -4.7297, -4.8111, -4.8395, -4.8756, -4.9125, -4.9607, -4.9848, -4.9977, -5.2522, -5.2888, -5.3687, -5.4005, -5.4016, -4.9987, -5.2004, -2.7229, -3.5341, -3.7035, -3.9745, -3.9823, -3.9915, -4.0089, -4.1023, -4.1028, -4.1397, -4.201, -4.3224, -4.3725, -4.4692, -4.4932, -4.4944, -4.5172, -4.5275, -4.5633, -4.5673, -4.5752, -4.5761, -4.5857, -4.6012, -4.6021, -4.6162, -4.63, -4.6301, -4.718, -4.7709, -3.7665, -3.439, -4.1094, -4.0072, -1.8336, -2.7626, -2.9139, -3.0719, -3.0624, -3.6287, -3.7019, -3.7256, -3.9275, -3.9383, -4.104, -4.1325, -4.2461, -4.2685, -4.3727, -4.3828, -4.5303, -4.6325, -4.7176, -4.7476, -4.8155, -4.8315, -4.8724, -5.0122, -5.2379, -5.2491, -5.2911, -5.3863, -5.3259, -5.4746, -4.82, -4.7923, -5.0465, -4.9313, -5.1615, -1.705, -2.2283, -2.4515, -2.9942, -3.102, -3.168, -3.6498, -3.6823, -3.863, -3.946, -4.0854, -4.2006, -4.4138, -4.5619, -4.8334, -4.8446, -4.8543, -4.88, -4.8898, -5.0597, -3.5032, -5.202, -5.2372, -5.2881, -5.2892, -5.2892, -5.3072, -5.3157, -5.3633, -5.369, -2.3417, -2.4955, -2.5438, -3.1702, -3.192, -3.2109, -3.3532, -3.5471, -3.8044, -4.0073, -4.0721, -4.2064, -4.2357, -4.242, -4.4394, -4.4981, -4.5049, -4.584, -4.5983, -4.6071, -4.6814, -4.8044, -4.8319, -4.8319, -4.8548, -4.8755, -4.9777, -4.9888, -5.1255, -5.2193, -4.067, -4.5091, -4.8611, -2.5558, -2.6521, -3.4628, -1.7315, -3.4865, -3.5594, -3.5967, -3.6471, -3.8577, -3.9207, -4.0604, -4.346, -4.42, -4.565, -4.6382, -4.7598, -4.7681, -4.7971, -4.8477, -4.9515, -4.9676, -4.9853, -4.9963, -5.2506, -5.2506, -5.2506, -5.2506, -5.3284, -5.3316, -5.3417, -4.4249, -4.597, -3.4886, -5.0964, -5.168, -2.6797, -2.8817, -2.9292, -3.0132, -3.0768, -3.5367, -3.9305, -3.9549, -4.0192, -3.0131, -4.4632, -4.5262, -4.6056, -4.6781, -4.6918, -4.6964, -4.6964, -4.7352, -4.8185, -4.8199, -4.8253, -4.8359, -4.9704, -5.0114, -5.2721, -5.2721, -5.2721, -5.2721, -5.2721, -5.2732, -4.3976, -4.0195, -4.0391, -3.7842, -4.6806, -4.3346, -2.7858, -3.0629, -2.4983, -3.2514, -3.4367, -3.5833, -3.8334, -3.8718, -4.0783, -4.1286, -3.2609, -4.2391, -4.3918, -4.4988, -4.5184, -4.5298, -4.5922, -1.9993, -4.8577, -4.8956, -4.9282, -4.9397, -5.0157, -5.1004, -5.1136, -5.1414, -5.1867, -5.242, -5.2443, -5.2698, -4.6897, -5.1743, -5.1743, -1.6563, -2.8414, -3.2047, -3.5659, -3.8303, -3.857, -3.8732, -3.8798, -3.8822, -4.046, -4.2298, -4.2533, -4.3132, -4.3256, -4.5745, -4.6052, -4.6388, -2.7236, -4.6739, -4.7281, -4.7357, -4.7632, -4.8104, -4.8762, -5.0266, -5.0555, -3.8665, -5.3955, -5.4381, -5.4381, -4.661, -4.8961, -5.3083, -2.1847, -2.6338, -3.0866, -3.6731, -4.3104, -4.4504, -4.4614, -4.4779, -4.7096, -4.7401, -4.8485, -4.8591, -4.877, -4.9599, -4.9916, -5.0073, -5.0073, -5.0073, -5.1649, -5.1649, -5.166, -5.2326, -4.1187, -5.3903, -5.3965, -5.3965, -5.4141, -5.5274, -5.5454, -5.5454, -2.6642, -4.4236, -2.8352, -2.6436, -3.7731, -4.9929, -4.9299, -5.1649, -2.3201, -2.3309, -2.8071, -3.346, -3.3995, -3.7158, -3.7484, -3.8409, -3.9717, -4.0376, -4.1486, -4.2148, -4.2441, -2.5473, -4.3232, -4.4838, -4.6345, -4.6726, -4.7594, -4.9429, -5.0508, -5.0619, -5.1436, -5.1436, -5.1436, -5.1436, -5.2114, -3.7885, -5.3402, -5.3679, -3.3396, -3.8149, -5.1092, -2.1232, -2.3198, -2.9344, -3.2122, -3.6513, -3.7117, -3.7251, -3.7775, -3.9549, -4.0845, -4.1225, -4.2765, -4.3513, -4.3521, -4.3775, -4.4337, -4.5638, -4.626, -4.6417, -4.6606, -4.9236, -4.9479, -4.9594, -5.0046, -5.0376, -5.0742, -5.0755, -5.1997, -5.3533, -5.3976, -2.9212, -3.7989, -4.7902, -2.8115, -2.9085, -3.6382, -3.7065, -3.7853, -3.7876, -3.8235, -3.9958, -4.0174, -4.0177, -4.0511, -4.1319, -4.1574, -4.2306, -4.2422, -4.2458, -4.2623, -4.3612, -4.3846, -4.3909, -4.6147, -4.7461, -4.8091, -4.8443, -4.9361, -4.953, -4.9824, -5.0659, -5.1427, -5.1495, -3.1727, -3.5913, -4.7973, -2.2332, -2.3897, -2.9732, -2.9889, -3.1331, -3.1983, -3.2751, -3.2802, -3.4538, -3.519, -3.6002, -3.9055, -3.9998, -4.0425, -4.3343, -4.6145, -4.6374, -4.6822, -4.7219, -4.7397, -4.7616, -4.861, -4.882, -5.1711, -5.2465, -5.3219, -5.3219, -5.3219, -5.3219, -5.3219, -2.8941, -3.1022, -3.342, -3.4103, -3.5508, -3.5522, -3.8113, -3.8322, -4.0049, -3.0189, -4.2169, -4.219, -4.5201, -4.6135, -4.6135, -4.6939, -4.7547, -4.7761, -5.096, -5.2388, -5.2669, -5.2981, -5.2992, -5.2992, -5.2992, -5.2992, -5.3162, -5.3382, -5.379, -5.379, -2.1617, -2.1589, -4.747, -2.2831, -3.1891, -3.6896, -3.7756, -3.8073, -3.9933, -4.0035, -4.0298, -4.059, -4.1269, -4.4079, -4.4713, -4.5301, -4.5518, -4.6269, -4.6373, -4.7314, -4.7344, -4.7692, -4.7879, -4.8028, -4.8281, -4.8281, -4.8329, -4.8343, -4.8809, -4.8929, -4.1323, -4.9701, -4.9789, -3.347, -4.6381, -4.7256, -1.3285, -2.3127, -2.9743, -3.1852, -3.601, -3.8379, -3.8525, -3.9492, -4.0452, -4.261, -4.3098, -4.3441, -4.4738, -4.5013, -4.5312, -4.575, -4.6156, -4.6156, -4.6156, -4.7445, -4.8458, -4.948, -5.0946, -5.1845, -5.2206, -5.2206, -5.2206, -5.2206, -5.2206, -5.2206, -4.4114, -2.3826, -2.884, -3.1026, -3.3075, -3.466, -3.5577, -3.6293, -3.9803, -3.9803, -4.0006, -4.2228, -4.2365, -4.2841, -4.36, -4.4882, -4.513, -4.5139, -4.5891, -4.6455, -4.7118, -4.8008, -4.9622, -3.0878, -5.0433, -5.0467, -5.0467, -5.0467, -5.1587, -5.1587, -5.1825, -2.2476, -3.0978, -3.3114, -3.3342, -3.3759, -3.4764, -3.4832, -3.5645, -3.6089, -3.7985, -3.882, -4.0083, -4.0223, -4.0848, -4.341, -4.3426, -4.4094, -4.4221, -4.495, -4.5109, -4.5638, -4.6377, -4.7076, -4.9534, -4.9534, -4.9545, -4.9545, -4.981, -5.0343, -5.1077, -4.2978, -4.1318, -4.4921, -2.1571, -2.6567, -3.1151, -3.2174, -3.2905, -3.3678, -3.526, -3.7082, -3.9926, -4.0416, -4.0854, -4.1024, -4.2785, -4.4752, -4.4752, -4.525, -4.5757, -4.6288, -4.6508, -4.6769, -4.6952, -3.2211, -4.8259, -4.87, -4.8905, -4.9353, -4.9353, -5.0813, -5.0813, -5.161, -3.9823, -4.8532, -4.9747, -2.0206, -2.4773, -2.4995, -2.5091, -3.2314, -3.3801, -3.5602, -3.6899, -3.9305, -4.0125, -4.1588, -4.1813, -4.2924, -4.3508, -3.475, -4.8669, -4.906, -4.9869, -4.997, -5.1207, -5.1314, -5.2656, -5.2807, -5.4356, -5.4356, -5.4356, -5.4356, -5.4356, -5.5113, -5.7055, -4.5202, -4.1174], \"loglift\": [30.0, 29.0, 28.0, 27.0, 26.0, 25.0, 24.0, 23.0, 22.0, 21.0, 20.0, 19.0, 18.0, 17.0, 16.0, 15.0, 14.0, 13.0, 12.0, 11.0, 10.0, 9.0, 8.0, 7.0, 6.0, 5.0, 4.0, 3.0, 2.0, 1.0, 2.7858, 2.7827, 2.7805, 2.7584, 2.7381, 2.7369, 2.7364, 2.7351, 2.734, 2.7284, 2.7174, 2.717, 2.7054, 2.7004, 2.6974, 2.6709, 2.667, 2.6605, 2.657, 2.6524, 2.6506, 2.6505, 2.6434, 2.6388, 2.6366, 2.6259, 2.6212, 2.6153, 2.6143, 2.6119, 2.5214, 2.3119, 2.0395, 1.9603, 2.0398, 2.0745, 1.6927, 1.264, 1.6064, 2.8456, 2.841, 2.8291, 2.8151, 2.8142, 2.8116, 2.8081, 2.8015, 2.7921, 2.7906, 2.7793, 2.7783, 2.7698, 2.7674, 2.7662, 2.7638, 2.7472, 2.7445, 2.7407, 2.737, 2.7351, 2.7344, 2.7322, 2.7289, 2.7276, 2.723, 2.7215, 2.7207, 2.7185, 2.7098, 2.4156, 2.0317, 2.3138, 2.9323, 2.9301, 2.929, 2.9185, 2.8961, 2.8861, 2.8673, 2.8672, 2.865, 2.8636, 2.8613, 2.859, 2.8496, 2.8407, 2.8344, 2.831, 2.8209, 2.7966, 2.7945, 2.7807, 2.7715, 2.756, 2.7378, 2.7338, 2.7198, 2.7198, 2.7049, 2.7024, 2.6981, 2.6916, 2.5174, 2.4429, 2.2543, 2.3846, 0.8695, 1.5546, 2.1362, 0.9455, 2.9976, 2.9954, 2.994, 2.9738, 2.9617, 2.9572, 2.9542, 2.9524, 2.9334, 2.9312, 2.9272, 2.9216, 2.9115, 2.8981, 2.8975, 2.8891, 2.8717, 2.852, 2.8398, 2.8354, 2.8296, 2.8235, 2.8152, 2.8109, 2.8086, 2.7577, 2.7494, 2.7307, 2.7229, 2.7227, 2.4779, 1.2401, 3.0354, 3.007, 2.9977, 2.9794, 2.9788, 2.9781, 2.9768, 2.9691, 2.969, 2.9658, 2.9602, 2.9482, 2.9428, 2.9318, 2.9289, 2.9287, 2.9259, 2.9246, 2.9201, 2.9196, 2.9185, 2.9184, 2.9171, 2.9151, 2.915, 2.9131, 2.9112, 2.9112, 2.8986, 2.8906, 2.8853, 2.7968, 2.6706, 2.3238, 3.068, 3.0531, 3.0491, 3.0442, 3.0241, 3.0198, 3.0156, 3.0141, 3.0004, 2.9996, 2.9861, 2.9835, 2.9728, 2.9705, 2.9594, 2.9583, 2.9405, 2.9268, 2.9144, 2.9098, 2.899, 2.8964, 2.8894, 2.864, 2.8164, 2.8138, 2.8039, 2.7802, 2.7688, 2.7567, 2.547, 1.4435, 1.7334, 0.6981, 1.2771, 3.0852, 3.0792, 3.0755, 3.0623, 3.0588, 3.0564, 3.0338, 3.0319, 3.02, 3.0139, 3.0024, 2.9918, 2.9689, 2.9503, 2.9094, 2.9075, 2.9058, 2.9014, 2.8996, 2.8674, 2.8577, 2.8369, 2.8288, 2.8167, 2.8164, 2.8164, 2.8121, 2.81, 2.798, 2.7965, 3.0865, 3.0837, 3.0828, 3.0651, 3.0643, 3.0636, 3.0576, 3.048, 3.0324, 3.017, 3.0115, 2.999, 2.996, 2.9954, 2.9733, 2.9659, 2.965, 2.9545, 2.9525, 2.9512, 2.9404, 2.9209, 2.9163, 2.9163, 2.9123, 2.9087, 2.8898, 2.8877, 2.8596, 2.8386, 2.7571, 1.627, 2.3271, 3.109, 3.1069, 3.0783, 3.0777, 3.0771, 3.0732, 3.0711, 3.0681, 3.0541, 3.0493, 3.0377, 3.0089, 3.0001, 2.9813, 2.9708, 2.9519, 2.9505, 2.9457, 2.937, 2.9179, 2.9148, 2.9114, 2.9092, 2.8533, 2.8533, 2.8533, 2.8533, 2.8339, 2.8331, 2.8305, 2.7796, 2.7568, 2.3964, 2.5113, 1.1319, 3.1067, 3.1014, 3.1, 3.0973, 3.0952, 3.0749, 3.0489, 3.047, 3.0417, 3.0155, 2.9951, 2.9868, 2.9758, 2.9651, 2.963, 2.9622, 2.9622, 2.9561, 2.9423, 2.942, 2.9411, 2.9393, 2.9145, 2.9064, 2.8482, 2.8482, 2.8482, 2.8482, 2.8482, 2.8479, 2.5921, 1.8655, 1.7286, 1.2029, 2.104, 1.6163, 3.1296, 3.121, 3.1158, 3.1137, 3.1051, 3.0972, 3.0808, 3.0779, 3.0606, 3.0559, 3.0521, 3.0447, 3.0273, 3.0136, 3.011, 3.0094, 3.0006, 2.9879, 2.9575, 2.9506, 2.9444, 2.9422, 2.9271, 2.9091, 2.9061, 2.8999, 2.8894, 2.8762, 2.8756, 2.8693, 2.6346, 2.4136, 2.3375, 3.1504, 3.1302, 3.1176, 3.1, 3.0826, 3.0806, 3.0794, 3.0789, 3.0787, 3.065, 3.0469, 3.0444, 3.0377, 3.0363, 3.0041, 2.9996, 2.9946, 2.9893, 2.9891, 2.9805, 2.9792, 2.9746, 2.9665, 2.9546, 2.925, 2.9189, 2.9076, 2.8358, 2.8239, 2.8239, 2.4098, 2.4072, 2.0266, 3.1701, 3.1614, 3.1477, 3.1184, 3.062, 3.0447, 3.0433, 3.0411, 3.0066, 3.0015, 2.9824, 2.9805, 2.9771, 2.961, 2.9545, 2.9513, 2.9513, 2.9513, 2.9162, 2.9162, 2.916, 2.8998, 2.8889, 2.8582, 2.8565, 2.8565, 2.8515, 2.818, 2.8124, 2.8124, 2.6, 2.7088, 2.5314, 2.2658, 2.206, 2.3436, 2.1291, 2.3469, 3.1826, 3.1823, 3.1714, 3.1511, 3.1484, 3.1296, 3.1273, 3.1205, 3.1098, 3.1039, 3.0931, 3.0862, 3.0829, 3.082, 3.0739, 3.0533, 3.0313, 3.0252, 3.0108, 2.9765, 2.9539, 2.9514, 2.9328, 2.9328, 2.9328, 2.9328, 2.9165, 2.9116, 2.883, 2.8754, 2.8677, 2.8352, 2.5147, 3.2416, 3.2381, 3.222, 3.2109, 3.1862, 3.1819, 3.1809, 3.1769, 3.162, 3.1495, 3.1456, 3.1281, 3.1187, 3.1186, 3.1153, 3.1076, 3.0885, 3.0786, 3.076, 3.0728, 3.0233, 3.0182, 3.0158, 3.0059, 2.9984, 2.99, 2.9897, 2.9591, 2.9171, 2.9041, 2.8465, 2.6151, 2.5948, 3.2344, 3.2313, 3.1952, 3.1903, 3.1844, 3.1842, 3.1813, 3.1662, 3.1641, 3.1641, 3.1608, 3.1524, 3.1496, 3.1413, 3.1399, 3.1395, 3.1374, 3.1251, 3.122, 3.1211, 3.0878, 3.0652, 3.0534, 3.0466, 3.0278, 3.0242, 3.0178, 2.9988, 2.9803, 2.9786, 2.9634, 1.4139, 2.1366, 3.2562, 3.2532, 3.2368, 3.2363, 3.2305, 3.2276, 3.224, 3.2237, 3.2144, 3.2105, 3.2053, 3.1818, 3.1731, 3.1689, 3.1356, 3.0945, 3.0907, 3.0831, 3.0761, 3.0728, 3.0688, 3.0496, 3.0453, 2.979, 2.9591, 2.9382, 2.9382, 2.9382, 2.9382, 2.9382, 3.2402, 3.2324, 3.2211, 3.2175, 3.2091, 3.209, 3.1903, 3.1886, 3.1732, 3.151, 3.1506, 3.1504, 3.1101, 3.0953, 3.0953, 3.0816, 3.0707, 3.0667, 2.9983, 2.9618, 2.9542, 2.9456, 2.9453, 2.9453, 2.9453, 2.9453, 2.9405, 2.9342, 2.9222, 2.9222, 2.8435, 2.7504, 2.6102, 3.3372, 3.3076, 3.2761, 3.2692, 3.2665, 3.2488, 3.2477, 3.245, 3.2418, 3.2341, 3.1971, 3.1874, 3.178, 3.1743, 3.1614, 3.1595, 3.1419, 3.1413, 3.1345, 3.1307, 3.1276, 3.1224, 3.1224, 3.1214, 3.1211, 3.1111, 3.1084, 3.0998, 3.0909, 3.0888, 2.6321, 2.5501, 2.2123, 3.3653, 3.3518, 3.3321, 3.3226, 3.2974, 3.2781, 3.2767, 3.2674, 3.2573, 3.2313, 3.2247, 3.2199, 3.2004, 3.1959, 3.191, 3.1836, 3.1765, 3.1765, 3.1765, 3.1522, 3.1312, 3.1084, 3.0723, 3.0481, 3.0379, 3.0379, 3.0379, 3.0379, 3.0379, 3.0379, 2.9518, 3.4101, 3.3945, 3.3849, 3.3739, 3.3638, 3.3573, 3.3518, 3.3189, 3.3189, 3.3166, 3.2893, 3.2875, 3.2808, 3.2696, 3.249, 3.2448, 3.2446, 3.2312, 3.2206, 3.2075, 3.1887, 3.1512, 3.143, 3.1306, 3.1297, 3.1297, 3.1297, 3.099, 3.099, 3.0922, 3.4269, 3.3987, 3.3872, 3.3858, 3.3833, 3.3766, 3.3761, 3.3702, 3.3668, 3.3506, 3.3425, 3.3291, 3.3275, 3.3202, 3.2856, 3.2854, 3.275, 3.273, 3.2609, 3.2582, 3.2488, 3.235, 3.2212, 3.1661, 3.1661, 3.1658, 3.1658, 3.1592, 3.1456, 3.1259, 3.1094, 3.0775, 2.6594, 3.4321, 3.4194, 3.401, 3.3956, 3.3915, 3.3868, 3.376, 3.3615, 3.3334, 3.3278, 3.3225, 3.3205, 3.297, 3.2663, 3.2663, 3.2577, 3.2485, 3.2385, 3.2343, 3.2291, 3.2254, 3.2175, 3.1975, 3.1874, 3.1826, 3.1718, 3.1718, 3.1342, 3.1342, 3.1118, 2.9556, 2.8159, 2.5054, 3.6209, 3.6089, 3.6082, 3.6079, 3.5731, 3.5625, 3.5476, 3.5352, 3.508, 3.4974, 3.4764, 3.4729, 3.4548, 3.4446, 3.401, 3.3305, 3.3199, 3.2969, 3.294, 3.256, 3.2526, 3.2073, 3.2019, 3.144, 3.144, 3.144, 3.144, 3.144, 3.1137, 3.0294, 2.7832, 2.1135]}, \"token.table\": {\"Topic\": [14, 6, 20, 10, 10, 24, 5, 6, 14, 5, 6, 23, 19, 24, 13, 1, 10, 8, 2, 17, 22, 20, 21, 18, 24, 16, 9, 20, 18, 18, 13, 9, 22, 19, 3, 10, 1, 3, 13, 17, 18, 22, 22, 12, 7, 12, 1, 23, 7, 20, 14, 12, 11, 18, 1, 3, 16, 18, 19, 23, 21, 1, 3, 14, 9, 18, 1, 13, 5, 5, 23, 13, 14, 1, 11, 6, 6, 10, 15, 23, 8, 18, 8, 10, 22, 9, 23, 5, 16, 24, 13, 10, 12, 1, 24, 11, 13, 4, 12, 10, 15, 23, 23, 4, 1, 15, 9, 16, 17, 19, 4, 13, 18, 5, 10, 6, 9, 10, 2, 9, 20, 8, 1, 20, 21, 16, 1, 9, 11, 2, 3, 7, 17, 7, 5, 7, 17, 19, 2, 14, 5, 12, 6, 23, 24, 20, 12, 13, 22, 16, 24, 19, 14, 4, 4, 21, 2, 13, 2, 22, 20, 6, 7, 14, 8, 6, 1, 13, 23, 13, 22, 9, 13, 15, 13, 6, 24, 16, 14, 4, 7, 5, 22, 6, 5, 3, 14, 18, 6, 11, 5, 6, 16, 5, 14, 21, 23, 10, 6, 15, 23, 19, 8, 23, 4, 8, 11, 4, 12, 4, 19, 1, 20, 5, 9, 17, 2, 13, 24, 13, 20, 12, 22, 13, 12, 16, 19, 4, 9, 1, 2, 20, 19, 4, 21, 6, 10, 13, 10, 19, 16, 19, 6, 22, 6, 2, 12, 2, 14, 3, 16, 1, 6, 5, 21, 17, 13, 18, 6, 17, 19, 11, 23, 22, 9, 12, 23, 10, 2, 22, 15, 20, 1, 9, 10, 19, 22, 2, 1, 17, 9, 3, 23, 17, 7, 18, 12, 24, 17, 11, 13, 21, 17, 24, 5, 6, 7, 23, 2, 15, 6, 15, 1, 5, 12, 5, 22, 5, 19, 2, 21, 3, 12, 12, 11, 1, 14, 3, 16, 14, 16, 8, 24, 18, 4, 23, 18, 5, 21, 16, 2, 14, 3, 15, 21, 19, 6, 14, 1, 10, 1, 1, 13, 19, 4, 8, 12, 14, 7, 11, 8, 2, 20, 8, 11, 5, 7, 3, 12, 7, 11, 18, 9, 8, 20, 3, 7, 5, 16, 7, 16, 11, 9, 24, 6, 7, 9, 2, 5, 16, 20, 11, 8, 3, 19, 23, 13, 6, 8, 24, 11, 18, 20, 23, 9, 17, 24, 12, 15, 3, 21, 11, 1, 17, 7, 2, 3, 11, 24, 10, 16, 6, 15, 3, 11, 15, 21, 15, 11, 16, 24, 20, 9, 5, 15, 6, 4, 20, 3, 14, 16, 1, 11, 9, 15, 24, 20, 16, 17, 14, 3, 10, 15, 22, 6, 3, 18, 17, 2, 23, 22, 1, 1, 13, 19, 4, 19, 18, 13, 18, 8, 11, 10, 15, 9, 3, 9, 4, 2, 4, 13, 8, 1, 2, 20, 23, 2, 24, 22, 17, 7, 19, 23, 8, 13, 12, 15, 10, 2, 13, 2, 11, 23, 4, 5, 1, 3, 4, 9, 16, 1, 10, 10, 22, 10, 11, 20, 10, 15, 3, 15, 12, 6, 2, 4, 12, 1, 2, 2, 4, 8, 7, 4, 7, 19, 13, 24, 12, 16, 12, 15, 17, 6, 16, 3, 13, 1, 24, 21, 20, 2, 8, 10, 13, 1, 15, 1, 1, 19, 15, 22, 15, 23, 8, 7, 5, 12, 16, 4, 5, 23, 8, 10, 7, 20, 24, 21, 16, 4, 10, 17, 22, 9, 13, 15, 9, 16, 14, 24, 21, 11, 22, 3, 12, 2, 3, 9, 7, 9, 18, 19, 21, 11, 12, 4, 3, 3, 3, 21, 1, 5, 6, 5, 10, 11, 10, 7, 19, 4, 6, 10, 21, 4, 17, 10, 18, 3, 2, 21, 7, 11, 4, 1, 3, 7, 9, 19, 22, 17, 4, 24, 18, 6, 3, 14, 8, 19, 18, 23, 24, 23, 11, 13, 5, 13, 1, 1, 7, 2, 3, 16, 18, 10, 7, 9, 17, 1, 13, 4, 3, 2, 7, 9, 16, 22, 3, 1, 3, 14, 21, 10, 1, 21, 4, 20, 7, 18, 4, 18, 19, 11, 3, 23, 3, 15, 24, 18, 17, 20, 1, 8, 5, 14, 2, 23, 8, 14, 18, 10, 17, 8, 16, 12, 24, 21, 11, 10, 24, 8, 18, 10, 6, 22, 17, 20, 14, 14, 18, 5, 19, 5, 6, 24, 22, 17, 4, 15, 22, 8, 10, 11, 5, 22, 21, 17, 13, 8, 14, 5, 11, 6, 14, 1, 14, 3, 9, 6, 17, 13, 5, 21, 6, 12, 19, 23, 1, 16, 14, 20, 5, 16, 20, 15, 14, 21, 16, 1, 11, 5, 8, 12, 18, 12, 21, 19, 21, 24, 2, 21, 22, 19, 20, 22, 1, 2, 13, 14, 22, 14, 7, 3, 12, 20, 11, 16, 13, 2, 17, 9, 6, 15, 10, 24, 20, 12, 8, 19, 8, 18, 1, 3, 8, 15, 15, 3, 3, 23, 5, 10, 23, 17, 6, 8, 21, 2, 3, 9, 8, 9, 15, 15, 18, 22, 1, 17, 5, 15, 8, 1, 13, 7, 24, 22, 9, 15, 8, 13, 19], \"Freq\": [0.9048464958893429, 0.8833844756750748, 0.8954809395444385, 0.7835795209019475, 0.6216742530256668, 0.8092492627169556, 0.7554573813216562, 0.18886434533041405, 0.9856772694323349, 0.8589529253368493, 0.07157941044473744, 0.8870855639505963, 0.9040904132824367, 0.6714766678575824, 0.8974685036908161, 0.7457563423935939, 0.21307324068388397, 0.8714972156664831, 0.8909940510047135, 0.83998285728629, 0.9415532096904597, 0.7138277216380525, 0.8354095620799525, 0.8801153389456213, 0.8441428917082758, 0.9128095604174751, 0.9259483201579395, 0.6513111975477662, 0.72374550880414, 0.7124763931486212, 0.7932886550227986, 0.8675244045380772, 0.8524736857508973, 0.7898364409561041, 0.7682247791299063, 0.9625362765470514, 0.9018306820876982, 0.889140298291049, 0.1449228864580767, 0.1449228864580767, 0.5796915458323068, 0.9196198311460037, 0.9562802738395563, 0.6947052240997763, 0.8523588959058158, 0.9293158224360691, 0.9018635373412279, 0.9013756506259063, 0.8673280136930698, 0.9627359784108631, 0.8149401912240917, 0.978248133043613, 0.6214534523900448, 0.6875988550610226, 0.05517293916959499, 0.12413911313158874, 0.15172558271638623, 0.6482820352427412, 0.9806709260116521, 0.9660205266480635, 0.8459784460357429, 0.9122418677648357, 0.9223198625757391, 0.8924731078520002, 0.8262733546721457, 0.917100795181593, 0.4751865226930123, 0.5147853995840966, 0.8306131241075779, 0.9287529026448658, 0.9518392161358127, 0.9782412080535595, 0.8924731078520002, 0.958337820494815, 0.8462401520662926, 0.9091785927006182, 0.9172159576763849, 0.6216742530256668, 0.7992631554479315, 0.924725832644763, 0.7307631226307184, 0.823932735518488, 0.23595910210955096, 0.23595910210955096, 0.4719182042191019, 0.9127799102743064, 0.8463589436394996, 0.885252095746395, 0.8413149123805103, 0.7654417957467718, 0.8514276988907665, 0.622199635872663, 0.7162839142780801, 0.17914405347999027, 0.8061482406599562, 0.5074638227885643, 0.5074638227885643, 0.16178300962148967, 0.8089150481074483, 0.8727901476078371, 0.7841171580477984, 0.7636846961196266, 0.7240778757215757, 0.9141893256128752, 0.941468174838518, 0.7223895270838194, 0.7522550300858011, 0.9763524077921923, 0.981097291060821, 0.7836527345655833, 0.9470448710152459, 0.7067446933743288, 0.7616356912868137, 0.3010474123463142, 0.6020948246926284, 0.2487911357345719, 0.7463734072037157, 0.8620381286387901, 0.3723556220523137, 0.5585334330784706, 0.8910428160962826, 0.8884366042076682, 0.8565297315958115, 0.8293835750695632, 0.9584925122807713, 0.8081405069166001, 0.8055297167127246, 0.15103682188363587, 0.8346686143007703, 0.9072285057900631, 0.7809809014153455, 0.8920046426005425, 0.7688486960031162, 0.9762312295063003, 0.8606488168600153, 0.8855173418737213, 0.7149628663054941, 0.8787866861115645, 0.9455635456012901, 0.8307195253294116, 0.9084094240701487, 0.9526329600543434, 0.17350397613932705, 0.8096852219835263, 0.4422388482916644, 0.8747335153145955, 0.8735873734498903, 0.896700644058192, 0.6598240831186074, 0.8187681881416177, 0.9431463555910556, 0.7868670729790377, 0.7628036483301913, 0.6241134185181713, 0.7964429185214139, 0.8182023904417237, 0.9179348425173032, 0.930971582249738, 0.2499706035097734, 0.7499118105293202, 0.9230109785093485, 0.9109273118555212, 0.8603327446259055, 0.8674382626874755, 0.9472779329168646, 0.9433435326591905, 0.34722962482624153, 0.5787160413770692, 0.8512805719738142, 0.7042946747496326, 0.8040734027810922, 0.9612045391929225, 0.9725282246417604, 0.6460550461983575, 0.8518174722873053, 0.6946991939167756, 0.903393755183184, 0.8772553128286237, 0.8779791607043685, 0.9880763630411472, 0.7687332221497299, 0.8382137500974596, 0.621684688425528, 0.9274846955770832, 0.9682369033311922, 0.7680590827063432, 0.6890504254218444, 0.981229698770624, 0.5854137662796953, 0.29270688313984766, 0.8994960423067178, 0.7305462773098461, 0.8820990915803877, 0.8220089709396805, 0.8954296712022142, 0.6575538460634968, 0.7241204520358617, 0.8688972506736725, 0.32775256526960017, 0.16387628263480009, 0.32775256526960017, 0.8383444056835904, 0.8818501844574216, 0.9284907914779246, 0.6236217392795526, 0.8063119280135886, 0.967255920963848, 0.6088026826102734, 0.8755728530858027, 0.916536109464214, 0.8278896596435816, 0.291588507463681, 0.583177014927362, 0.8502242874188497, 0.9455429097953715, 0.91399721428223, 0.8206026861236988, 0.7786254397031979, 0.8033735533840124, 0.7932886550227986, 0.6955734801662021, 0.7162839142780801, 0.9120496024909682, 0.7145967044432876, 0.8481877243138505, 0.851210772222866, 0.7868670729790377, 0.8988005157221964, 0.8753570314218723, 0.8362624993812476, 0.8892010017608766, 0.713827765618296, 0.9124348083873587, 0.7776129668136273, 0.9362794962859557, 0.8688101569791005, 0.6216742530256668, 0.7834659560700462, 0.736903925597981, 0.9341457781278532, 0.8270034770779643, 0.8232835955266582, 0.9013241001616373, 0.7279907600323932, 0.7826514479722815, 0.9590336393291211, 0.9789145370620398, 0.8062753215949305, 0.9589381686870897, 0.7708253872524501, 0.9145439677550642, 0.04067084072473455, 0.9354293366688946, 0.9277843242330739, 0.8918435989181784, 0.9663902092628054, 0.6292497511422395, 0.703855822507323, 0.811742088160651, 0.6404549428394191, 0.9542912986861167, 0.8607104396266902, 0.9639417926595881, 0.6211596783573239, 0.8523694982359571, 0.8058890797835438, 0.8695922246498017, 0.771600866475941, 0.8829834986342219, 0.6341733768329092, 0.882520782852562, 0.9108269011943787, 0.1994914144180682, 0.4654799669754925, 0.26598855255742426, 0.873252007497657, 0.8906031801877969, 0.9083853573769495, 0.9640389608563055, 0.9283720706766124, 0.9152116737140016, 0.8127737165452624, 0.6135633297457914, 0.7149628050392038, 0.9803330641799022, 0.823932735518488, 0.9952601168649723, 0.8985000797743388, 0.7149628663054941, 0.9305217044971117, 0.7189187015193882, 0.9408259065496023, 0.8717699563208681, 0.9643392455811887, 0.9665954630908791, 0.8729534215047934, 0.9637718946440534, 0.8801547133100613, 0.4514415088504436, 0.507871697456749, 0.8875452799437814, 0.881591399686406, 0.4673664137328841, 0.4673664137328841, 0.8819768494907558, 0.8711782630231449, 0.9139890920566196, 0.8715638913517669, 0.7508356336333095, 0.8997531779106874, 0.9572537840213747, 0.13994709344123848, 0.8396825606474309, 0.8237032788303429, 0.9249767992685484, 0.2858323824500723, 0.7145809561251808, 0.5694158329231038, 0.2847079164615519, 0.8799803263265022, 0.894329296270075, 0.9562069918795962, 0.49205960190686293, 0.9380929653390079, 0.8810942562014892, 0.9373623346708793, 0.8785330537949119, 0.877704123230815, 0.7626510417986494, 0.6265546423448861, 0.8713101612032715, 0.9037585099725803, 0.824278068131556, 0.8571997160231619, 0.8659403920465427, 0.9282836380241016, 0.10298595068676702, 0.8753805808375198, 0.8602443962139418, 0.10753054952674272, 0.9638836307959447, 0.42581980775662054, 0.42581980775662054, 0.7621439465401552, 0.9601924007440675, 0.9350280004154745, 0.9281411142406549, 0.9343755689614948, 0.6126556983816285, 0.9319735440009901, 0.9756921585718762, 0.9316413046633019, 0.895480870332113, 0.8376242685980958, 0.8922509029761151, 0.8709744178701782, 0.8832721610838428, 0.4353260734985805, 0.4353260734985805, 0.9019273809556978, 0.9426433491763739, 0.9782922377141333, 0.8320834721859945, 0.8998451788678837, 0.895480870332113, 0.1605373515490059, 0.8026867577450295, 0.8312455594573617, 0.8852443049579463, 0.6250262128378788, 0.8871109059523618, 0.7089532794529713, 0.9175039294034658, 0.9758597235122525, 0.961631708015483, 0.8931348439469831, 0.9673155204570115, 0.8166421318148004, 0.9530404480546594, 0.9073111152318761, 0.9867972040105433, 0.8692491053932704, 0.8146551450384971, 0.9605442156442212, 0.2858768365903062, 0.5717536731806124, 0.7098746796228335, 0.9949238739422943, 0.9815245178948074, 0.9573166427199916, 0.9575290128299814, 0.9140229406472863, 0.9159447011552213, 0.8756962835918978, 0.7351269363258975, 0.9708200213672878, 0.7801890253059003, 0.9063124660443115, 0.91169594005726, 0.9931963225269962, 0.6575538460634968, 0.917103784675556, 0.9241816753281762, 0.8436580032920178, 0.6476622041949908, 0.918213247557984, 0.8921976482224714, 0.9641330711744465, 0.5746862778760692, 0.6216742530256668, 0.6233472073281383, 0.8285865551283728, 0.9279375447471578, 0.9239392017625893, 0.6334986651929867, 0.844485820878406, 0.6559195116731197, 0.7786746107154321, 0.7808034179838182, 0.9430946524083018, 0.49205960190686293, 0.8659502306508328, 0.9870182199105193, 0.9302526067852424, 0.820412057865442, 0.9704333226744302, 0.9185271330298124, 0.7456412167173286, 0.9563017214607537, 0.7511507298634346, 0.22534521895903037, 0.9757455693619062, 0.9617860560510936, 0.61160466250073, 0.9229618136197076, 0.9903045913655167, 0.9900068457687423, 0.8459121760110696, 0.9459265034632769, 0.84372587889468, 0.05913421530996495, 0.2365368612398598, 0.6504763684096144, 0.8631012867415732, 0.8479763733740692, 0.9344605700676953, 0.8480283586877992, 0.9849823977642344, 0.9428600854897855, 0.7370334969017136, 0.7588878171061827, 0.9077285499976265, 0.10958344315361507, 0.36527814384538354, 0.4748615869989986, 0.8350116474685771, 0.899734000498007, 0.9085320722306108, 0.40102831337427886, 0.589010335268472, 0.3650682382855903, 0.5476023574283855, 0.8826993347731865, 0.07675646389332057, 0.6483662718997745, 0.045352358802737504, 0.9523995348574875, 0.8443851963562353, 0.7635395376370746, 0.8752201506371233, 0.9053881428280806, 0.8569889636878567, 0.30852437663278814, 0.6170487532655763, 0.8651694931440501, 0.6135633898165425, 0.8906514609540422, 0.4920596338604395, 0.9696891547020875, 0.8768336206526811, 0.9891018756796164, 0.8847394748527243, 0.8895320726821321, 0.8734024467544741, 0.8829032857427458, 0.9558791671057798, 0.8298180600013206, 0.9535613720859027, 0.5377265748389082, 0.3226359449033449, 0.9309148773013829, 0.9863168557031984, 0.6837125243886706, 0.922558214904948, 0.8338538774830174, 0.6374123206465225, 0.17383972381268797, 0.17383972381268797, 0.7456506240530745, 0.9169595358977862, 0.9850001647596232, 0.7805710678466645, 0.9600860908184038, 0.9689312410909687, 0.9640530384442003, 0.7347335671496841, 0.7138277167600368, 0.6216742530256668, 0.81113882520615, 0.8025050992601119, 0.9595121523194927, 0.7870508466884586, 0.8555519109690711, 0.8329272524697422, 0.9069997100994583, 0.9669214468551739, 0.88413080853604, 0.9668785761846008, 0.9713457382396254, 0.9282463836769516, 0.7242120454558229, 0.8859323232601382, 0.8590773733233306, 0.6126556208458275, 0.8728789306697785, 0.7098746796228335, 0.8561774818683898, 0.9308726904902422, 0.9537067971007741, 0.936054598467715, 0.9115664942244889, 0.8851434002119083, 0.9378507307898747, 0.9441353510948439, 0.8853005236250181, 0.8967006440062493, 0.8815746953839567, 0.7373904813946649, 0.61740809780814, 0.8350451949556539, 0.4086874375560193, 0.08173748751120385, 0.3269499500448154, 0.08173748751120385, 0.7806174801325019, 0.81169836872465, 0.760659397524701, 0.8210860637600282, 0.7302110592861615, 0.8065358476530841, 0.6211596783573239, 0.9687909800742306, 0.8512805719738142, 0.9795578613893988, 0.8602650433920555, 0.8248795198137477, 0.877525251485287, 0.7206112431412686, 0.6531671202921014, 0.3265835601460507, 0.8427931161047424, 0.9190931061451854, 0.893969594977475, 0.621047962879621, 0.713827765618296, 0.6908952368776277, 0.6575538460634968, 0.8915055949108318, 0.9904711180354775, 0.9745649727001102, 0.9215757104647092, 0.6962175330583843, 0.9320554560492506, 0.7639563826011903, 0.835515893419534, 0.6116046642147823, 0.7974858878661503, 0.9754241671955505, 0.44658740323950263, 0.9716867320858277, 0.8534893263994208, 0.8636591039284232, 0.9932691985566178, 0.864050260888073, 0.9191453527885166, 0.7130474059850497, 0.7256381877677732, 0.9867633763168362, 0.6116046642147823, 0.8841031334709935, 0.08841031334709934, 0.7132295421207973, 0.9164803746554019, 0.7877760552485699, 0.8466381665248814, 0.8752636873661378, 0.8100423971876635, 0.9578150328615783, 0.7231956244619262, 0.9114426259173131, 0.6508893453374077, 0.2440835045015279, 0.9475689994834363, 0.9142425160124613, 0.7279518011070076, 0.8467924256184127, 0.876627352752603, 0.9587822808964002, 0.9932894023339677, 0.6510813652384734, 0.8016270510846635, 0.7611892638955267, 0.9083097478180757, 0.7560710990087359, 0.880465742454428, 0.9316929136107984, 0.9784477967436833, 0.8995594386109265, 0.7254312238802955, 0.28045345898830293, 0.5609069179766059, 0.8209464460334278, 0.4527737938897167, 0.4980511732786884, 0.9901511181904509, 0.6547906285508421, 0.9696184619246383, 0.9750977201135675, 0.7149628663054941, 0.933642693947607, 0.8889228081668412, 0.7065370984563535, 0.8397467056434083, 0.22943857382298324, 0.7342034362335463, 0.8947956741686466, 0.7907254290264703, 0.7449420103086083, 0.752654024894815, 0.4920596338604395, 0.9192658897253738, 0.959680059369775, 0.8397527667463505, 0.9014199587538069, 0.8317345178872018, 0.8970261781412524, 0.7902472514397215, 0.9141870366454493, 0.9091759063145265, 0.9295057352157957, 0.8509626398087574, 0.7449420103086083, 0.8096176106708827, 0.65044203548934, 0.61160466250073, 0.8110087327303115, 0.4288866405266196, 0.5539785773468837, 0.9263011677228887, 0.7253148771979766, 0.8507453548633572, 0.8460757132805843, 0.8855590002247439, 0.9866021377905148, 0.8883359881246234, 0.9000017532295722, 0.9175166357751167, 0.3784125411587903, 0.5676188117381854, 0.921108279109269, 0.9067138930674539, 0.9837146361118919, 0.8560899868021974, 0.7997271595409948, 0.7958790749940237, 0.8595916346343463, 0.7038558241622407, 0.9623623097371586, 0.9257810056602205, 0.7284456535787375, 0.6203745085896255, 0.9566625574517656, 0.9893348956366226, 0.8846855153975791, 0.8312723930729149, 0.5148736983925154, 0.6737012224861263, 0.9181439935275282, 0.814486150236776, 0.25510437535872554, 0.6802783342899349, 0.7967294398899534, 0.6263847476873894, 0.9045534581060845, 0.6837124879398911, 0.8110782598718974, 0.8379381972985973, 0.7038557769734008, 0.8678724202082803, 0.6770873155416688, 0.21368254472487125, 0.7265206520645623, 0.4119552479021504, 0.4119552479021504, 0.8476663328872275, 0.8433126788440592, 0.7835795209019475, 0.9172887272110221, 0.9439045536548171, 0.958211491651461, 0.9581044735937744, 0.9527878203628226, 0.8127147218671411, 0.8241228317138304, 0.808062553399372, 0.9677290263655642, 0.9810247791579325, 0.8807997074007105, 0.12787691045414282, 0.7672614627248568, 0.9392447733007621, 0.8804995352349438, 0.49205960190686293, 0.9804602282778588, 0.9657535376064498, 0.8999404887522611, 0.9480015696597855, 0.9628133951078836, 0.7552489855895176, 0.1490069193924328, 0.8398571820300758, 0.15234108835220841, 0.7617054417610422, 0.9701332669060203, 0.9260900616238833, 0.788377535880302, 0.9468472920402882, 0.8760169224646099, 0.05100614741829268, 0.9181106535292682, 0.9635173992635507, 0.9555681875141471, 0.7991112457351284, 0.8924731102972028, 0.9484178722052925, 0.8888575957369694, 0.7629913226262627, 0.9304360769281105, 0.9429270912299688, 0.8495326887920388, 0.9572538546845194, 0.6060031178689865, 0.7640550837194088, 0.8201894463017222, 0.9589980465848641, 0.8957402541331926, 0.7413233043414038, 0.789193624521224, 0.8813992104278093, 0.7858502563178354, 0.8823988727361348, 0.7138277205050908, 0.9880893864971353, 0.8924731059915118, 0.9312793886949664, 0.8269648980776073, 0.025358046945962786, 0.9636057839465858, 0.8710191180754752, 0.9896459220813983, 0.9041369398858742, 0.9569659175006187, 0.8289437845641501, 0.8652791490623285, 0.7712341375583606, 0.751753109572301, 0.23492284674134406, 0.964594528277704, 0.8953726927710576, 0.769988743462208, 0.8920162250164778, 0.8232540540810134, 0.621684688425528, 0.8762183418183633, 0.20432382018961842, 0.7151333706636644, 0.9857046519154892, 0.9498102111981765, 0.7030445626952918, 0.6121355718796458, 0.5668875815284025, 0.28344379076420123, 0.713827765618296, 0.8617143316870824, 0.8244019247354052, 0.7932886550227986, 0.8957361858910441, 0.9007843207129902, 0.6498898888700233, 0.2980322510281772, 0.44704837654226587, 0.7615442969137298, 0.9554346185346348, 0.9297114807032224, 0.9436483316281893, 0.4895446626443601, 0.4895446626443601, 0.8860571834388157, 0.7038558241622407, 0.31398593138501363, 0.6279718627700273, 0.9639281330203354, 0.745377271282378, 0.9829284323068401, 0.852351348092687, 0.8774869181751013, 0.9147775356075076, 0.9775972185743956, 0.39592013021114053, 0.5938801953167108, 0.9917456513738373, 0.8868217395560999, 0.8793285884477321, 0.7132295421207973, 0.8579709750464971, 0.1444278000836972, 0.7221390004184861, 0.8686247848783932, 0.9282867961004938, 0.8711118679699847, 0.8968548201517778, 0.7032885985093688, 0.8750793910805957, 0.9624214221501738, 0.7149628663054941, 0.9611692225073557, 0.9680328053961282, 0.8569889636878567, 0.9554797644947388, 0.8300381748395367, 0.9605705747589334, 0.7321286489011707, 0.7599240380123494, 0.8947301279898717, 0.9117141105320327, 0.8760840520021876, 0.788377535880302, 0.8817864571216578], \"Term\": [\"ability\", \"able\", \"absolute\", \"achieve\", \"acquire\", \"act\", \"action\", \"action\", \"actually\", \"add\", \"add\", \"advantage\", \"advice\", \"affect\", \"agree\", \"ahead\", \"ahead\", \"air\", \"allow\", \"alluring\", \"almost\", \"alpha\", \"already\", \"always\", \"amazing\", \"anger\", \"angrily\", \"angry\", \"animal\", \"answer\", \"anxiety\", \"anyway\", \"anywhere\", \"apparently\", \"appear\", \"appreciate\", \"arc\", \"arcane\", \"area\", \"area\", \"area\", \"arm\", \"around\", \"arrow\", \"ashton\", \"ask\", \"asleep\", \"assume\", \"athletic\", \"attack\", \"attempt\", \"away\", \"awesome\", \"baby\", \"back\", \"back\", \"back\", \"back\", \"bad\", \"ball\", \"bang\", \"bar\", \"base\", \"baseboard\", \"become\", \"bed\", \"begin\", \"begin\", \"believe\", \"better\", \"big\", \"bit\", \"bite\", \"black\", \"blade\", \"blanket\", \"blast\", \"blink\", \"block\", \"blow\", \"blue\", \"board\", \"body\", \"body\", \"body\", \"bolt\", \"bone\", \"bonus\", \"book\", \"bottom\", \"boy\", \"boysie\", \"brand\", \"break\", \"break\", \"breathe\", \"breathe\", \"bring\", \"bring\", \"brumestone\", \"bullet\", \"bullshit\", \"bunch\", \"burn\", \"burst\", \"busy\", \"butt\", \"cage\", \"call\", \"caltrop\", \"care\", \"caregiver\", \"carry\", \"carve\", \"carve\", \"cast\", \"cast\", \"catch\", \"cause\", \"cause\", \"cavern\", \"center\", \"central\", \"certain\", \"chain\", \"challenge\", \"chamber\", \"chamber\", \"chance\", \"change\", \"charge\", \"charisma\", \"chase\", \"check\", \"cheer\", \"chetney\", \"chisel\", \"choice\", \"city\", \"clamber\", \"claw\", \"climb\", \"close\", \"close\", \"cocoon\", \"color\", \"comfort\", \"comment\", \"complicated\", \"concentrate\", \"connect\", \"conservatory\", \"constitution\", \"construct\", \"continue\", \"contract\", \"contraption\", \"contribution\", \"conversation\", \"conversation\", \"cool\", \"corner\", \"correct\", \"couple\", \"course\", \"cover\", \"crack\", \"crack\", \"crap\", \"crash\", \"crazy\", \"creature\", \"creeper\", \"creepy\", \"crush\", \"cure\", \"curious\", \"currently\", \"cut\", \"damage\", \"damn\", \"dangerous\", \"dare\", \"dark\", \"darkness\", \"darkvision\", \"dart\", \"day\", \"daylight\", \"daylight\", \"dead\", \"deal\", \"death\", \"deeper\", \"definitely\", \"deniability\", \"deny\", \"depend\", \"deputy\", \"deputy\", \"deputy\", \"describe\", \"design\", \"destroy\", \"detail\", \"device\", \"dexterity\", \"dice\", \"die\", \"different\", \"dig\", \"direction\", \"direction\", \"directly\", \"disadvantage\", \"discuss\", \"discussion\", \"dislodge\", \"dispel\", \"dissipate\", \"distance\", \"disturb\", \"dive\", \"dodge\", \"doom\", \"door\", \"dot\", \"double\", \"downstairs\", \"dozen\", \"draw\", \"drawer\", \"dream\", \"drift\", \"drink\", \"drop\", \"duel\", \"dull\", \"dynamic\", \"earlier\", \"early\", \"eat\", \"edge\", \"elbow\", \"eldritch\", \"elevator\", \"else\", \"emerge\", \"emoth\", \"employer\", \"encounter\", \"end\", \"end\", \"energy\", \"enjoy\", \"enough\", \"entry\", \"epilogue\", \"especially\", \"estate\", \"evening\", \"eventually\", \"ever\", \"everybody\", \"evolve\", \"ex\", \"exactly\", \"excited\", \"exit\", \"experience\", \"explode\", \"extra\", \"eye\", \"eye\", \"eye\", \"face\", \"fail\", \"faintly\", \"fall\", \"familiar\", \"far\", \"fast\", \"favorite\", \"fcg\", \"fearne\", \"feather\", \"feel\", \"feeling\", \"feller\", \"feral\", \"fight\", \"figure\", \"fill\", \"find\", \"fine\", \"finger\", \"finish\", \"fire\", \"first\", \"first\", \"fit\", \"fix\", \"flame\", \"flame\", \"flare\", \"flash\", \"fly\", \"focus\", \"folk\", \"follow\", \"food\", \"foot\", \"foot\", \"forget\", \"form\", \"forward\", \"forward\", \"free\", \"free\", \"fresh\", \"friend\", \"front\", \"fruit\", \"fuck\", \"fucked\", \"fucking\", \"full\", \"fun\", \"funny\", \"fury\", \"game\", \"gasp\", \"general\", \"genre\", \"giant\", \"giggle\", \"give\", \"give\", \"glance\", \"glance\", \"glass\", \"glow\", \"glow\", \"goddamn\", \"gold\", \"grab\", \"grasp\", \"grass\", \"grateful\", \"grave\", \"great\", \"green\", \"grief\", \"grind\", \"grinding\", \"groan\", \"gross\", \"ground\", \"ground\", \"group\", \"growl\", \"guess\", \"guidance\", \"guide\", \"guilt\", \"guy\", \"guy\", \"hair\", \"half\", \"hall\", \"hallway\", \"hammer\", \"hand\", \"happen\", \"hard\", \"hate\", \"head\", \"heal\", \"healing\", \"healthy\", \"hear\", \"heavy\", \"hell\", \"help\", \"high\", \"high\", \"hire\", \"hit\", \"hold\", \"hole\", \"hope\", \"hour\", \"howl\", \"hum\", \"humanoid\", \"hurt\", \"husk\", \"idea\", \"identify\", \"ill\", \"illegal\", \"imagine\", \"immediately\", \"impact\", \"important\", \"indeed\", \"individual\", \"inside\", \"instance\", \"instill\", \"intelligence\", \"interesting\", \"intervention\", \"investigation\", \"invisible\", \"invite\", \"involvement\", \"issue\", \"job\", \"join\", \"juice\", \"jump\", \"keep\", \"kick\", \"kill\", \"kind\", \"king\", \"knee\", \"knock\", \"lady\", \"lady\", \"large\", \"last\", \"late\", \"later\", \"laugh\", \"laughter\", \"leap\", \"learn\", \"least\", \"leave\", \"leave\", \"leave\", \"leg\", \"legendary\", \"less\", \"lesson\", \"let\", \"lever\", \"lick\", \"lie\", \"life\", \"light\", \"light\", \"light\", \"lightning\", \"like\", \"listen\", \"little\", \"little\", \"lonely\", \"lonely\", \"long\", \"long\", \"longer\", \"look\", \"look\", \"lose\", \"loud\", \"love\", \"low\", \"luck\", \"machine\", \"machine\", \"magic\", \"mainly\", \"manage\", \"matter\", \"maybe\", \"meal\", \"mean\", \"meat\", \"mechanical\", \"mention\", \"message\", \"metal\", \"middle\", \"mind\", \"mine\", \"mine\", \"minute\", \"miss\", \"missile\", \"mode\", \"modifier\", \"moment\", \"moment\", \"moment\", \"momentum\", \"morning\", \"mother\", \"mouth\", \"move\", \"movement\", \"much\", \"muscle\", \"must\", \"mystery\", \"name\", \"narrow\", \"natural\", \"nature\", \"near\", \"nearby\", \"necrotic\", \"never\", \"new\", \"next\", \"night\", \"nightmare\", \"nobody\", \"none\", \"normal\", \"note\", \"number\", \"nurse\", \"object\", \"occasionally\", \"odd\", \"oddly\", \"okay\", \"old\", \"one\", \"open\", \"orb\", \"origin\", \"orrery\", \"ounce\", \"overall\", \"pain\", \"part\", \"part\", \"part\", \"part\", \"partially\", \"party\", \"pass\", \"past\", \"patch\", \"patron\", \"pattern\", \"pay\", \"pee\", \"people\", \"perception\", \"perfectly\", \"pick\", \"piece\", \"pierce\", \"pierce\", \"pillow\", \"piss\", \"place\", \"plan\", \"plat\", \"platinum\", \"plausible\", \"play\", \"point\", \"poison\", \"pop\", \"position\", \"possibly\", \"pour\", \"power\", \"pregnant\", \"prepare\", \"pretty\", \"pride\", \"probably\", \"problem\", \"progress\", \"pull\", \"pulse\", \"purple\", \"purplish\", \"purpose\", \"push\", \"pushup\", \"put\", \"put\", \"quad\", \"question\", \"quick\", \"quickly\", \"quiet\", \"quietly\", \"quite\", \"quorum\", \"radiant\", \"rage\", \"rage\", \"range\", \"reach\", \"reaction\", \"read\", \"ready\", \"real\", \"really\", \"rebuke\", \"recently\", \"redbubl\", \"reduce\", \"regular\", \"release\", \"remember\", \"rest\", \"return\", \"revert\", \"righty\", \"righty\", \"ring\", \"rock\", \"rock\", \"roll\", \"romantic\", \"room\", \"rope\", \"ropey\", \"rough\", \"round\", \"rub\", \"rule\", \"rush\", \"rush\", \"safe\", \"safely\", \"sake\", \"salt\", \"sash\", \"save\", \"saving\", \"scarf\", \"scratch\", \"scream\", \"screech\", \"searcher\", \"second\", \"seeker\", \"send\", \"sense\", \"sentimental\", \"separate\", \"seriously\", \"serve\", \"set\", \"shade\", \"shade\", \"shaft\", \"shape\", \"sharp\", \"shield\", \"shift\", \"shit\", \"shoot\", \"short\", \"shoulder\", \"shove\", \"shove\", \"show\", \"shut\", \"side\", \"silence\", \"silver\", \"similar\", \"single\", \"siren\", \"sit\", \"situation\", \"skip\", \"slam\", \"slash\", \"sleep\", \"slightly\", \"sling\", \"slot\", \"slow\", \"slowly\", \"slug\", \"small\", \"small\", \"smart\", \"smoke\", \"smolder\", \"smother\", \"snarl\", \"sniper\", \"snore\", \"social\", \"solid\", \"sometimes\", \"sometimes\", \"soon\", \"soon\", \"soot\", \"sore\", \"soreness\", \"sorry\", \"sort\", \"sound\", \"space\", \"spark\", \"speak\", \"special\", \"specific\", \"spell\", \"sphere\", \"spicy\", \"spin\", \"spin\", \"spot\", \"spray\", \"squeeze\", \"stand\", \"start\", \"stasis\", \"stay\", \"step\", \"stick\", \"still\", \"still\", \"stinger\", \"stinger\", \"stone\", \"stop\", \"straighten\", \"strange\", \"street\", \"strength\", \"strength\", \"strike\", \"strong\", \"stuck\", \"study\", \"stuff\", \"stumble\", \"succeed\", \"suffer\", \"sure\", \"surround\", \"swill\", \"swipe\", \"tail\", \"talented\", \"talk\", \"tap\", \"taste\", \"telekinesis\", \"tell\", \"temporary\", \"terrible\", \"test\", \"thing\", \"thorough\", \"though\", \"thought\", \"throw\", \"throw\", \"tight\", \"time\", \"tired\", \"today\", \"together\", \"tomorrow\", \"tonight\", \"top\", \"top\", \"total\", \"touch\", \"town\", \"trip\", \"true\", \"truth\", \"tumble\", \"tunnel\", \"tunnel\", \"turn\", \"twist\", \"twoway\", \"unattractive\", \"understand\", \"understand\", \"undie\", \"unfortunately\", \"unnatural\", \"unwind\", \"upstairs\", \"upward\", \"useful\", \"usually\", \"usually\", \"voice\", \"wait\", \"wake\", \"walk\", \"wander\", \"wander\", \"warm\", \"warning\", \"watch\", \"watch\", \"water\", \"wave\", \"way\", \"wear\", \"wedge\", \"week\", \"weird\", \"welcome\", \"welcome\", \"well\", \"whack\", \"wheel\", \"whisper\", \"whole\", \"whoosh\", \"whoosh\", \"wide\", \"wild\", \"wish\", \"witch\", \"wolf\", \"woman\", \"wonder\", \"wood\", \"word\", \"work\", \"worker\", \"world\", \"worried\", \"worry\", \"worse\", \"worth\", \"wrap\", \"wrong\", \"yell\", \"yellow\", \"yet\"]}, \"R\": 30, \"lambda.step\": 0.01, \"plot.opts\": {\"xlab\": \"PC1\", \"ylab\": \"PC2\"}, \"topic.order\": [10, 9, 1, 12, 14, 21, 24, 8, 18, 6, 2, 3, 11, 20, 15, 16, 4, 5, 7, 22, 23, 13, 17, 19]};\n",
              "\n",
              "function LDAvis_load_lib(url, callback){\n",
              "  var s = document.createElement('script');\n",
              "  s.src = url;\n",
              "  s.async = true;\n",
              "  s.onreadystatechange = s.onload = callback;\n",
              "  s.onerror = function(){console.warn(\"failed to load library \" + url);};\n",
              "  document.getElementsByTagName(\"head\")[0].appendChild(s);\n",
              "}\n",
              "\n",
              "if(typeof(LDAvis) !== \"undefined\"){\n",
              "   // already loaded: just create the visualization\n",
              "   !function(LDAvis){\n",
              "       new LDAvis(\"#\" + \"ldavis_el3591406231625801762589167502\", ldavis_el3591406231625801762589167502_data);\n",
              "   }(LDAvis);\n",
              "}else if(typeof define === \"function\" && define.amd){\n",
              "   // require.js is available: use it to load d3/LDAvis\n",
              "   require.config({paths: {d3: \"https://d3js.org/d3.v5\"}});\n",
              "   require([\"d3\"], function(d3){\n",
              "      window.d3 = d3;\n",
              "      LDAvis_load_lib(\"https://cdn.jsdelivr.net/gh/bmabey/pyLDAvis@3.3.1/pyLDAvis/js/ldavis.v3.0.0.js\", function(){\n",
              "        new LDAvis(\"#\" + \"ldavis_el3591406231625801762589167502\", ldavis_el3591406231625801762589167502_data);\n",
              "      });\n",
              "    });\n",
              "}else{\n",
              "    // require.js not available: dynamically load d3 & LDAvis\n",
              "    LDAvis_load_lib(\"https://d3js.org/d3.v5.js\", function(){\n",
              "         LDAvis_load_lib(\"https://cdn.jsdelivr.net/gh/bmabey/pyLDAvis@3.3.1/pyLDAvis/js/ldavis.v3.0.0.js\", function(){\n",
              "                 new LDAvis(\"#\" + \"ldavis_el3591406231625801762589167502\", ldavis_el3591406231625801762589167502_data);\n",
              "            })\n",
              "         });\n",
              "}\n",
              "</script>"
            ]
          },
          "metadata": {},
          "execution_count": 41
        }
      ]
    },
    {
      "cell_type": "markdown",
      "source": [
        "### Attempt 2 \n",
        "I am not a big fan of 1 and 10 overlapping as much as they do, so did some research into tuning the model better than how it is currently."
      ],
      "metadata": {
        "id": "GTBTiQElbDNB"
      }
    },
    {
      "cell_type": "code",
      "source": [
        "def compute_coherence_values(corpus, dictionary, k, a, b):\n",
        "    \n",
        "    lda_model = gensim.models.LdaMulticore(corpus=corpus,\n",
        "                                           id2word=dictionary,\n",
        "                                           num_topics=k, \n",
        "                                           random_state=100,\n",
        "                                           chunksize=100,\n",
        "                                           passes=10,\n",
        "                                           alpha=a,\n",
        "                                           eta=b,\n",
        "                                           workers=2)\n",
        "    \n",
        "    coherence_model_lda = CoherenceModel(model=lda_model, texts=full_dialog_df['lemmas'], dictionary=id2word, coherence='c_v')\n",
        "    \n",
        "    return coherence_model_lda.get_coherence()"
      ],
      "metadata": {
        "id": "HeT3f4p6ehSu"
      },
      "execution_count": 32,
      "outputs": []
    },
    {
      "cell_type": "code",
      "source": [
        "import tqdm\n",
        "grid = {}\n",
        "grid['Validation_Set'] = {}\n",
        "\n",
        "# Topics range\n",
        "min_topics=2\n",
        "max_topics=11\n",
        "step_size=1\n",
        "topics_range=range(min_topics, max_topics, step_size)\n",
        "\n",
        "# Alpha parameter\n",
        "alpha = list(np.arange(0.01,1,0.3))\n",
        "alpha.append('symmetric')\n",
        "alpha.append('asymmetric')\n",
        "\n",
        "# Beta parameter\n",
        "beta = list(np.arange(0.01,1,0.3))\n",
        "beta.append('symmetric')\n",
        "\n",
        "# Validation sets\n",
        "num_of_docs = len(corpus)\n",
        "corpus_sets = [# gensim.utils.ClippedCorpus(corpus, num_of_docs*0.25), \n",
        "               # gensim.utils.ClippedCorpus(corpus, num_of_docs*0.5), \n",
        "               gensim.utils.ClippedCorpus(corpus, int(num_of_docs*0.75)), \n",
        "               corpus]\n",
        "\n",
        "corpus_title = ['75% Corpus', '100% Corpus']\n",
        "model_results = {'Validation_Set': [],\n",
        "                 'Topics': [],\n",
        "                 'Alpha': [],\n",
        "                 'Beta': [],\n",
        "                 'Coherence': []\n",
        "                }\n",
        "\n",
        "if 1 == 1:\n",
        "    pbar = tqdm.tqdm(total=500)\n",
        "    \n",
        "    # iterate through validation corpuses\n",
        "    for i in range(len(corpus_sets)):\n",
        "        # iterate through number of topics\n",
        "        for k in topics_range:\n",
        "            # iterate through alpha values\n",
        "            for a in alpha:\n",
        "                # iterare through beta values\n",
        "                for b in beta:\n",
        "                    # get the coherence score for the given parameters\n",
        "                    cv = compute_coherence_values(corpus=corpus_sets[i], dictionary=id2word, k=k, a=a, b=b)\n",
        "                    # Save the model results\n",
        "                    model_results['Validation_Set'].append(corpus_title[i])\n",
        "                    model_results['Topics'].append(k)\n",
        "                    model_results['Alpha'].append(a)\n",
        "                    model_results['Beta'].append(b)\n",
        "                    model_results['Coherence'].append(cv)\n",
        "                    \n",
        "                    pbar.update(1)\n",
        "    pd.DataFrame(model_results).to_csv('lda_tuning_results.csv', index=False)\n",
        "    pbar.close()"
      ],
      "metadata": {
        "id": "dJzMcf4vbboP",
        "colab": {
          "base_uri": "https://localhost:8080/"
        },
        "outputId": "59f1d494-d2f4-4817-88c0-99d535e2f45d"
      },
      "execution_count": 33,
      "outputs": [
        {
          "output_type": "stream",
          "name": "stderr",
          "text": [
            "\n",
            " 10%|█         | 50/500 [03:36<32:28,  4.33s/it]\n",
            "\n",
            "  0%|          | 1/500 [00:02<19:57,  2.40s/it]\u001b[A\n",
            "  0%|          | 2/500 [00:04<20:07,  2.42s/it]\u001b[A\n",
            "  1%|          | 3/500 [00:07<20:44,  2.50s/it]\u001b[A\n",
            "  1%|          | 4/500 [00:10<21:51,  2.64s/it]\u001b[A\n",
            "  1%|          | 5/500 [00:12<21:30,  2.61s/it]\u001b[A\n",
            "  1%|          | 6/500 [00:15<20:18,  2.47s/it]\u001b[A\n",
            "  1%|▏         | 7/500 [00:17<21:02,  2.56s/it]\u001b[A\n",
            "  2%|▏         | 8/500 [00:20<22:02,  2.69s/it]\u001b[A\n",
            "  2%|▏         | 9/500 [00:24<23:32,  2.88s/it]\u001b[A\n",
            "  2%|▏         | 10/500 [00:26<23:22,  2.86s/it]\u001b[A\n",
            "  2%|▏         | 11/500 [00:29<23:33,  2.89s/it]\u001b[A\n",
            "  2%|▏         | 12/500 [00:34<27:12,  3.35s/it]\u001b[A\n",
            "  3%|▎         | 13/500 [00:37<27:35,  3.40s/it]\u001b[A\n",
            "  3%|▎         | 14/500 [00:41<27:18,  3.37s/it]\u001b[A\n",
            "  3%|▎         | 15/500 [00:43<25:58,  3.21s/it]\u001b[A\n",
            "  3%|▎         | 16/500 [00:46<23:48,  2.95s/it]\u001b[A\n",
            "  3%|▎         | 17/500 [00:48<22:42,  2.82s/it]\u001b[A\n",
            "  4%|▎         | 18/500 [00:51<22:22,  2.79s/it]\u001b[A\n",
            "  4%|▍         | 19/500 [00:54<22:36,  2.82s/it]\u001b[A\n",
            "  4%|▍         | 20/500 [00:57<22:26,  2.81s/it]\u001b[A\n",
            "  4%|▍         | 21/500 [00:59<20:56,  2.62s/it]\u001b[A\n",
            "  4%|▍         | 22/500 [01:02<21:13,  2.66s/it]\u001b[A\n",
            "  5%|▍         | 23/500 [01:04<21:38,  2.72s/it]\u001b[A\n",
            "  5%|▍         | 24/500 [01:08<22:34,  2.85s/it]\u001b[A\n",
            "  5%|▌         | 25/500 [01:10<22:32,  2.85s/it]\u001b[A\n",
            "  5%|▌         | 26/500 [01:13<20:58,  2.66s/it]\u001b[A\n",
            "  5%|▌         | 27/500 [01:15<20:37,  2.62s/it]\u001b[A\n",
            "  6%|▌         | 28/500 [01:18<21:36,  2.75s/it]\u001b[A\n",
            "  6%|▌         | 29/500 [01:21<22:32,  2.87s/it]\u001b[A\n",
            "  6%|▌         | 30/500 [01:24<22:13,  2.84s/it]\u001b[A\n",
            "  6%|▌         | 31/500 [01:27<21:11,  2.71s/it]\u001b[A\n",
            "  6%|▋         | 32/500 [01:29<20:59,  2.69s/it]\u001b[A\n",
            "  7%|▋         | 33/500 [01:32<21:24,  2.75s/it]\u001b[A\n",
            "  7%|▋         | 34/500 [01:35<21:43,  2.80s/it]\u001b[A\n",
            "  7%|▋         | 35/500 [01:38<21:28,  2.77s/it]\u001b[A\n",
            "  7%|▋         | 36/500 [01:40<20:47,  2.69s/it]\u001b[A\n",
            "  7%|▋         | 37/500 [01:43<21:24,  2.77s/it]\u001b[A\n",
            "  8%|▊         | 38/500 [01:46<22:18,  2.90s/it]\u001b[A\n",
            "  8%|▊         | 39/500 [01:50<23:27,  3.05s/it]\u001b[A\n",
            "  8%|▊         | 40/500 [01:53<23:07,  3.02s/it]\u001b[A\n",
            "  8%|▊         | 41/500 [01:55<21:32,  2.81s/it]\u001b[A\n",
            "  8%|▊         | 42/500 [01:58<21:21,  2.80s/it]\u001b[A\n",
            "  9%|▊         | 43/500 [02:01<21:52,  2.87s/it]\u001b[A\n",
            "  9%|▉         | 44/500 [02:04<22:44,  2.99s/it]\u001b[A\n",
            "  9%|▉         | 45/500 [02:07<22:45,  3.00s/it]\u001b[A\n",
            "  9%|▉         | 46/500 [02:10<21:16,  2.81s/it]\u001b[A\n",
            "  9%|▉         | 47/500 [02:12<21:08,  2.80s/it]\u001b[A\n",
            " 10%|▉         | 48/500 [02:15<22:01,  2.92s/it]\u001b[A\n",
            " 10%|▉         | 49/500 [02:18<22:03,  2.93s/it]\u001b[A\n",
            " 10%|█         | 50/500 [02:21<21:45,  2.90s/it]\u001b[A\n",
            " 10%|█         | 51/500 [02:24<20:37,  2.76s/it]\u001b[A\n",
            " 10%|█         | 52/500 [02:27<20:41,  2.77s/it]\u001b[A\n",
            " 11%|█         | 53/500 [02:30<21:54,  2.94s/it]\u001b[A\n",
            " 11%|█         | 54/500 [02:34<24:04,  3.24s/it]\u001b[A\n",
            " 11%|█         | 55/500 [02:37<23:16,  3.14s/it]\u001b[A\n",
            " 11%|█         | 56/500 [02:39<21:16,  2.88s/it]\u001b[A\n",
            " 11%|█▏        | 57/500 [02:42<21:05,  2.86s/it]\u001b[A\n",
            " 12%|█▏        | 58/500 [02:45<21:24,  2.91s/it]\u001b[A\n",
            " 12%|█▏        | 59/500 [02:48<21:34,  2.94s/it]\u001b[A\n",
            " 12%|█▏        | 60/500 [02:51<21:13,  2.89s/it]\u001b[A\n",
            " 12%|█▏        | 61/500 [02:53<20:27,  2.80s/it]\u001b[A\n",
            " 12%|█▏        | 62/500 [02:56<20:17,  2.78s/it]\u001b[A\n",
            " 13%|█▎        | 63/500 [02:59<20:38,  2.83s/it]\u001b[A\n",
            " 13%|█▎        | 64/500 [03:02<22:10,  3.05s/it]\u001b[A\n",
            " 13%|█▎        | 65/500 [03:05<21:26,  2.96s/it]\u001b[A\n",
            " 13%|█▎        | 66/500 [03:08<20:09,  2.79s/it]\u001b[A\n",
            " 13%|█▎        | 67/500 [03:10<20:13,  2.80s/it]\u001b[A\n",
            " 14%|█▎        | 68/500 [03:14<21:31,  2.99s/it]\u001b[A\n",
            " 14%|█▍        | 69/500 [03:17<22:42,  3.16s/it]\u001b[A\n",
            " 14%|█▍        | 70/500 [03:20<22:05,  3.08s/it]\u001b[A\n",
            " 14%|█▍        | 71/500 [03:23<20:43,  2.90s/it]\u001b[A\n",
            " 14%|█▍        | 72/500 [03:26<20:38,  2.89s/it]\u001b[A\n",
            " 15%|█▍        | 73/500 [03:29<21:08,  2.97s/it]\u001b[A\n",
            " 15%|█▍        | 74/500 [03:32<21:42,  3.06s/it]\u001b[A\n",
            " 15%|█▌        | 75/500 [03:35<21:11,  2.99s/it]\u001b[A\n",
            " 15%|█▌        | 76/500 [03:37<19:47,  2.80s/it]\u001b[A\n",
            " 15%|█▌        | 77/500 [03:40<19:48,  2.81s/it]\u001b[A\n",
            " 16%|█▌        | 78/500 [03:43<20:11,  2.87s/it]\u001b[A\n",
            " 16%|█▌        | 79/500 [03:46<20:27,  2.91s/it]\u001b[A\n",
            " 16%|█▌        | 80/500 [03:49<19:52,  2.84s/it]\u001b[A\n",
            " 16%|█▌        | 81/500 [03:51<18:56,  2.71s/it]\u001b[A\n",
            " 16%|█▋        | 82/500 [03:54<19:14,  2.76s/it]\u001b[A\n",
            " 17%|█▋        | 83/500 [03:57<20:01,  2.88s/it]\u001b[A\n",
            " 17%|█▋        | 84/500 [04:01<21:10,  3.05s/it]\u001b[A\n",
            " 17%|█▋        | 85/500 [04:03<20:28,  2.96s/it]\u001b[A\n",
            " 17%|█▋        | 86/500 [04:06<19:14,  2.79s/it]\u001b[A\n",
            " 17%|█▋        | 87/500 [04:09<19:09,  2.78s/it]\u001b[A\n",
            " 18%|█▊        | 88/500 [04:12<19:49,  2.89s/it]\u001b[A\n",
            " 18%|█▊        | 89/500 [04:15<20:16,  2.96s/it]\u001b[A\n",
            " 18%|█▊        | 90/500 [04:18<19:54,  2.91s/it]\u001b[A\n",
            " 18%|█▊        | 91/500 [04:20<18:49,  2.76s/it]\u001b[A\n",
            " 18%|█▊        | 92/500 [04:23<18:49,  2.77s/it]\u001b[A\n",
            " 19%|█▊        | 93/500 [04:26<19:30,  2.88s/it]\u001b[A\n",
            " 19%|█▉        | 94/500 [04:29<19:59,  2.96s/it]\u001b[A\n",
            " 19%|█▉        | 95/500 [04:32<19:17,  2.86s/it]\u001b[A\n",
            " 19%|█▉        | 96/500 [04:34<18:41,  2.78s/it]\u001b[A\n",
            " 19%|█▉        | 97/500 [04:37<19:19,  2.88s/it]\u001b[A\n",
            " 20%|█▉        | 98/500 [04:41<20:06,  3.00s/it]\u001b[A\n",
            " 20%|█▉        | 99/500 [04:44<21:08,  3.16s/it]\u001b[A\n",
            " 20%|██        | 100/500 [04:47<20:40,  3.10s/it]\u001b[A\n",
            " 20%|██        | 101/500 [04:50<19:23,  2.92s/it]\u001b[A\n",
            " 20%|██        | 102/500 [04:53<19:19,  2.91s/it]\u001b[A\n",
            " 21%|██        | 103/500 [04:56<19:45,  2.99s/it]\u001b[A\n",
            " 21%|██        | 104/500 [04:59<20:12,  3.06s/it]\u001b[A\n",
            " 21%|██        | 105/500 [05:02<19:29,  2.96s/it]\u001b[A\n",
            " 21%|██        | 106/500 [05:04<18:27,  2.81s/it]\u001b[A\n",
            " 21%|██▏       | 107/500 [05:07<18:18,  2.79s/it]\u001b[A\n",
            " 22%|██▏       | 108/500 [05:10<18:31,  2.84s/it]\u001b[A\n",
            " 22%|██▏       | 109/500 [05:13<19:01,  2.92s/it]\u001b[A\n",
            " 22%|██▏       | 110/500 [05:16<18:38,  2.87s/it]\u001b[A\n",
            " 22%|██▏       | 111/500 [05:18<17:48,  2.75s/it]\u001b[A\n",
            " 22%|██▏       | 112/500 [05:21<18:01,  2.79s/it]\u001b[A\n",
            " 23%|██▎       | 113/500 [05:24<18:38,  2.89s/it]\u001b[A\n",
            " 23%|██▎       | 114/500 [05:27<19:22,  3.01s/it]\u001b[A\n",
            " 23%|██▎       | 115/500 [05:30<19:05,  2.97s/it]\u001b[A\n",
            " 23%|██▎       | 116/500 [05:33<18:02,  2.82s/it]\u001b[A\n",
            " 23%|██▎       | 117/500 [05:36<18:18,  2.87s/it]\u001b[A\n",
            " 24%|██▎       | 118/500 [05:39<18:39,  2.93s/it]\u001b[A\n",
            " 24%|██▍       | 119/500 [05:42<19:19,  3.04s/it]\u001b[A\n",
            " 24%|██▍       | 120/500 [05:45<18:57,  2.99s/it]\u001b[A\n",
            " 24%|██▍       | 121/500 [05:48<18:05,  2.86s/it]\u001b[A\n",
            " 24%|██▍       | 122/500 [05:51<18:09,  2.88s/it]\u001b[A\n",
            " 25%|██▍       | 123/500 [05:54<18:32,  2.95s/it]\u001b[A\n",
            " 25%|██▍       | 124/500 [05:57<18:58,  3.03s/it]\u001b[A\n",
            " 25%|██▌       | 125/500 [06:00<18:23,  2.94s/it]\u001b[A\n",
            " 25%|██▌       | 126/500 [06:02<17:34,  2.82s/it]\u001b[A\n",
            " 25%|██▌       | 127/500 [06:05<17:57,  2.89s/it]\u001b[A\n",
            " 26%|██▌       | 128/500 [06:09<19:02,  3.07s/it]\u001b[A\n",
            " 26%|██▌       | 129/500 [06:12<20:01,  3.24s/it]\u001b[A\n",
            " 26%|██▌       | 130/500 [06:15<19:24,  3.15s/it]\u001b[A\n",
            " 26%|██▌       | 131/500 [06:18<18:03,  2.94s/it]\u001b[A\n",
            " 26%|██▋       | 132/500 [06:21<17:59,  2.93s/it]\u001b[A\n",
            " 27%|██▋       | 133/500 [06:24<18:19,  3.00s/it]\u001b[A\n",
            " 27%|██▋       | 134/500 [06:27<19:00,  3.12s/it]\u001b[A\n",
            " 27%|██▋       | 135/500 [06:30<18:25,  3.03s/it]\u001b[A\n",
            " 27%|██▋       | 136/500 [06:33<17:27,  2.88s/it]\u001b[A\n",
            " 27%|██▋       | 137/500 [06:35<17:05,  2.83s/it]\u001b[A\n",
            " 28%|██▊       | 138/500 [06:38<17:26,  2.89s/it]\u001b[A\n",
            " 28%|██▊       | 139/500 [06:41<17:53,  2.97s/it]\u001b[A\n",
            " 28%|██▊       | 140/500 [06:44<17:26,  2.91s/it]\u001b[A\n",
            " 28%|██▊       | 141/500 [06:47<16:49,  2.81s/it]\u001b[A\n",
            " 28%|██▊       | 142/500 [06:50<16:59,  2.85s/it]\u001b[A\n",
            " 29%|██▊       | 143/500 [06:53<17:31,  2.94s/it]\u001b[A\n",
            " 29%|██▉       | 144/500 [06:56<18:00,  3.03s/it]\u001b[A\n",
            " 29%|██▉       | 145/500 [06:59<17:39,  2.98s/it]\u001b[A\n",
            " 29%|██▉       | 146/500 [07:02<17:03,  2.89s/it]\u001b[A\n",
            " 29%|██▉       | 147/500 [07:05<16:54,  2.87s/it]\u001b[A\n",
            " 30%|██▉       | 148/500 [07:08<17:09,  2.92s/it]\u001b[A\n",
            " 30%|██▉       | 149/500 [07:11<17:47,  3.04s/it]\u001b[A\n",
            " 30%|███       | 150/500 [07:14<17:07,  2.93s/it]\u001b[A\n",
            " 30%|███       | 151/500 [07:16<16:40,  2.87s/it]\u001b[A\n",
            " 30%|███       | 152/500 [07:19<16:53,  2.91s/it]\u001b[A\n",
            " 31%|███       | 153/500 [07:22<17:19,  2.99s/it]\u001b[A\n",
            " 31%|███       | 154/500 [07:26<17:53,  3.10s/it]\u001b[A\n",
            " 31%|███       | 155/500 [07:29<17:15,  3.00s/it]\u001b[A\n",
            " 31%|███       | 156/500 [07:31<16:43,  2.92s/it]\u001b[A\n",
            " 31%|███▏      | 157/500 [07:34<17:09,  3.00s/it]\u001b[A\n",
            " 32%|███▏      | 158/500 [07:38<18:13,  3.20s/it]\u001b[A\n",
            " 32%|███▏      | 159/500 [07:42<19:00,  3.34s/it]\u001b[A\n",
            " 32%|███▏      | 160/500 [07:45<18:19,  3.23s/it]\u001b[A\n",
            " 32%|███▏      | 161/500 [07:47<17:08,  3.03s/it]\u001b[A\n",
            " 32%|███▏      | 162/500 [07:50<16:59,  3.02s/it]\u001b[A\n",
            " 33%|███▎      | 163/500 [07:54<17:18,  3.08s/it]\u001b[A\n",
            " 33%|███▎      | 164/500 [07:57<17:39,  3.15s/it]\u001b[A\n",
            " 33%|███▎      | 165/500 [08:00<16:56,  3.03s/it]\u001b[A\n",
            " 33%|███▎      | 166/500 [08:02<16:05,  2.89s/it]\u001b[A\n",
            " 33%|███▎      | 167/500 [08:05<15:51,  2.86s/it]\u001b[A\n",
            " 34%|███▎      | 168/500 [08:08<16:00,  2.89s/it]\u001b[A\n",
            " 34%|███▍      | 169/500 [08:11<16:14,  2.94s/it]\u001b[A\n",
            " 34%|███▍      | 170/500 [08:14<15:41,  2.85s/it]\u001b[A\n",
            " 34%|███▍      | 171/500 [08:16<14:59,  2.73s/it]\u001b[A\n",
            " 34%|███▍      | 172/500 [08:19<15:21,  2.81s/it]\u001b[A\n",
            " 35%|███▍      | 173/500 [08:22<15:55,  2.92s/it]\u001b[A\n",
            " 35%|███▍      | 174/500 [08:26<16:19,  3.00s/it]\u001b[A\n",
            " 35%|███▌      | 175/500 [08:28<15:52,  2.93s/it]\u001b[A\n",
            " 35%|███▌      | 176/500 [08:31<15:12,  2.82s/it]\u001b[A\n",
            " 35%|███▌      | 177/500 [08:34<15:15,  2.84s/it]\u001b[A\n",
            " 36%|███▌      | 178/500 [08:37<15:42,  2.93s/it]\u001b[A\n",
            " 36%|███▌      | 179/500 [08:40<16:04,  3.01s/it]\u001b[A\n",
            " 36%|███▌      | 180/500 [08:43<15:39,  2.94s/it]\u001b[A\n",
            " 36%|███▌      | 181/500 [08:45<15:04,  2.84s/it]\u001b[A\n",
            " 36%|███▋      | 182/500 [08:48<15:24,  2.91s/it]\u001b[A\n",
            " 37%|███▋      | 183/500 [08:52<15:38,  2.96s/it]\u001b[A\n",
            " 37%|███▋      | 184/500 [08:55<16:16,  3.09s/it]\u001b[A\n",
            " 37%|███▋      | 185/500 [08:58<15:59,  3.05s/it]\u001b[A\n",
            " 37%|███▋      | 186/500 [09:01<15:20,  2.93s/it]\u001b[A\n",
            " 37%|███▋      | 187/500 [09:04<15:42,  3.01s/it]\u001b[A\n",
            " 38%|███▊      | 188/500 [09:07<16:13,  3.12s/it]\u001b[A\n",
            " 38%|███▊      | 189/500 [09:11<16:56,  3.27s/it]\u001b[A\n",
            " 38%|███▊      | 190/500 [09:14<16:13,  3.14s/it]\u001b[A\n",
            " 38%|███▊      | 191/500 [09:16<15:21,  2.98s/it]\u001b[A\n",
            " 38%|███▊      | 192/500 [09:19<15:19,  2.99s/it]\u001b[A\n",
            " 39%|███▊      | 193/500 [09:22<15:39,  3.06s/it]\u001b[A\n",
            " 39%|███▉      | 194/500 [09:26<16:11,  3.17s/it]\u001b[A\n",
            " 39%|███▉      | 195/500 [09:29<15:30,  3.05s/it]\u001b[A\n",
            " 39%|███▉      | 196/500 [09:31<14:50,  2.93s/it]\u001b[A\n",
            " 39%|███▉      | 197/500 [09:34<14:45,  2.92s/it]\u001b[A\n",
            " 40%|███▉      | 198/500 [09:37<14:43,  2.92s/it]\u001b[A\n",
            " 40%|███▉      | 199/500 [09:40<14:57,  2.98s/it]\u001b[A\n",
            " 40%|████      | 200/500 [09:43<14:32,  2.91s/it]\u001b[A\n",
            " 40%|████      | 201/500 [09:46<14:10,  2.85s/it]\u001b[A\n",
            " 40%|████      | 202/500 [09:49<14:24,  2.90s/it]\u001b[A\n",
            " 41%|████      | 203/500 [09:52<14:58,  3.03s/it]\u001b[A\n",
            " 41%|████      | 204/500 [09:55<15:26,  3.13s/it]\u001b[A\n",
            " 41%|████      | 205/500 [09:58<15:05,  3.07s/it]\u001b[A\n",
            " 41%|████      | 206/500 [10:01<14:28,  2.95s/it]\u001b[A\n",
            " 41%|████▏     | 207/500 [10:04<14:29,  2.97s/it]\u001b[A\n",
            " 42%|████▏     | 208/500 [10:07<14:38,  3.01s/it]\u001b[A\n",
            " 42%|████▏     | 209/500 [10:10<14:46,  3.05s/it]\u001b[A\n",
            " 42%|████▏     | 210/500 [10:13<14:39,  3.03s/it]\u001b[A\n",
            " 42%|████▏     | 211/500 [10:16<14:13,  2.95s/it]\u001b[A\n",
            " 42%|████▏     | 212/500 [10:19<14:29,  3.02s/it]\u001b[A\n",
            " 43%|████▎     | 213/500 [10:23<15:06,  3.16s/it]\u001b[A\n",
            " 43%|████▎     | 214/500 [10:26<15:22,  3.23s/it]\u001b[A\n",
            " 43%|████▎     | 215/500 [10:29<14:40,  3.09s/it]\u001b[A\n",
            " 43%|████▎     | 216/500 [10:32<14:09,  2.99s/it]\u001b[A\n",
            " 43%|████▎     | 217/500 [10:35<14:22,  3.05s/it]\u001b[A\n",
            " 44%|████▎     | 218/500 [10:38<14:56,  3.18s/it]\u001b[A\n",
            " 44%|████▍     | 219/500 [10:42<15:58,  3.41s/it]\u001b[A\n",
            " 44%|████▍     | 220/500 [10:45<15:14,  3.26s/it]\u001b[A\n",
            " 44%|████▍     | 221/500 [10:48<14:29,  3.12s/it]\u001b[A\n",
            " 44%|████▍     | 222/500 [10:51<14:23,  3.11s/it]\u001b[A\n",
            " 45%|████▍     | 223/500 [10:54<14:29,  3.14s/it]\u001b[A\n",
            " 45%|████▍     | 224/500 [10:58<14:52,  3.24s/it]\u001b[A\n",
            " 45%|████▌     | 225/500 [11:01<14:26,  3.15s/it]\u001b[A\n",
            " 45%|████▌     | 226/500 [11:03<13:36,  2.98s/it]\u001b[A\n",
            " 45%|████▌     | 227/500 [11:06<13:36,  2.99s/it]\u001b[A\n",
            " 46%|████▌     | 228/500 [11:09<13:43,  3.03s/it]\u001b[A\n",
            " 46%|████▌     | 229/500 [11:13<13:56,  3.09s/it]\u001b[A\n",
            " 46%|████▌     | 230/500 [11:15<13:34,  3.02s/it]\u001b[A\n",
            " 46%|████▌     | 231/500 [11:18<13:11,  2.94s/it]\u001b[A\n",
            " 46%|████▋     | 232/500 [11:21<13:22,  2.99s/it]\u001b[A\n",
            " 47%|████▋     | 233/500 [11:25<13:55,  3.13s/it]\u001b[A\n",
            " 47%|████▋     | 234/500 [11:28<14:17,  3.22s/it]\u001b[A\n",
            " 47%|████▋     | 235/500 [11:31<13:46,  3.12s/it]\u001b[A\n",
            " 47%|████▋     | 236/500 [11:34<13:12,  3.00s/it]\u001b[A\n",
            " 47%|████▋     | 237/500 [11:37<13:20,  3.04s/it]\u001b[A\n",
            " 48%|████▊     | 238/500 [11:40<13:43,  3.14s/it]\u001b[A\n",
            " 48%|████▊     | 239/500 [11:44<13:49,  3.18s/it]\u001b[A\n",
            " 48%|████▊     | 240/500 [11:46<13:21,  3.08s/it]\u001b[A\n",
            " 48%|████▊     | 241/500 [11:49<12:59,  3.01s/it]\u001b[A\n",
            " 48%|████▊     | 242/500 [11:52<13:12,  3.07s/it]\u001b[A\n",
            " 49%|████▊     | 243/500 [11:56<13:27,  3.14s/it]\u001b[A\n",
            " 49%|████▉     | 244/500 [11:59<14:02,  3.29s/it]\u001b[A\n",
            " 49%|████▉     | 245/500 [12:02<13:36,  3.20s/it]\u001b[A\n",
            " 49%|████▉     | 246/500 [12:05<13:06,  3.10s/it]\u001b[A\n",
            " 49%|████▉     | 247/500 [12:09<13:26,  3.19s/it]\u001b[A\n",
            " 50%|████▉     | 248/500 [12:12<14:00,  3.33s/it]\u001b[A\n",
            " 50%|████▉     | 249/500 [12:16<14:45,  3.53s/it]\u001b[A\n",
            " 50%|█████     | 250/500 [12:19<14:14,  3.42s/it]\u001b[A\n",
            " 50%|█████     | 251/500 [12:22<13:18,  3.21s/it]\u001b[A\n",
            " 50%|█████     | 252/500 [12:25<13:18,  3.22s/it]\u001b[A\n",
            " 51%|█████     | 253/500 [12:29<13:16,  3.22s/it]\u001b[A\n",
            " 51%|█████     | 254/500 [12:32<13:34,  3.31s/it]\u001b[A\n",
            " 51%|█████     | 255/500 [12:35<13:01,  3.19s/it]\u001b[A\n",
            " 51%|█████     | 256/500 [12:38<12:23,  3.05s/it]\u001b[A\n",
            " 51%|█████▏    | 257/500 [12:41<12:46,  3.15s/it]\u001b[A\n",
            " 52%|█████▏    | 258/500 [12:44<12:53,  3.19s/it]\u001b[A\n",
            " 52%|█████▏    | 259/500 [12:48<12:52,  3.21s/it]\u001b[A\n",
            " 52%|█████▏    | 260/500 [12:51<12:35,  3.15s/it]\u001b[A\n",
            " 52%|█████▏    | 261/500 [12:54<12:13,  3.07s/it]\u001b[A\n",
            " 52%|█████▏    | 262/500 [12:57<12:20,  3.11s/it]\u001b[A\n",
            " 53%|█████▎    | 263/500 [13:00<12:41,  3.21s/it]\u001b[A\n",
            " 53%|█████▎    | 264/500 [13:04<12:51,  3.27s/it]\u001b[A\n",
            " 53%|█████▎    | 265/500 [13:07<12:23,  3.16s/it]\u001b[A\n",
            " 53%|█████▎    | 266/500 [13:09<11:56,  3.06s/it]\u001b[A\n",
            " 53%|█████▎    | 267/500 [13:13<12:00,  3.09s/it]\u001b[A\n",
            " 54%|█████▎    | 268/500 [13:16<12:13,  3.16s/it]\u001b[A\n",
            " 54%|█████▍    | 269/500 [13:19<12:30,  3.25s/it]\u001b[A\n",
            " 54%|█████▍    | 270/500 [13:22<12:10,  3.18s/it]\u001b[A\n",
            " 54%|█████▍    | 271/500 [13:25<11:52,  3.11s/it]\u001b[A\n",
            " 54%|█████▍    | 272/500 [13:28<11:51,  3.12s/it]\u001b[A\n",
            " 55%|█████▍    | 273/500 [13:32<12:08,  3.21s/it]\u001b[A\n",
            " 55%|█████▍    | 274/500 [13:35<12:29,  3.32s/it]\u001b[A\n",
            " 55%|█████▌    | 275/500 [13:39<12:37,  3.37s/it]\u001b[A\n",
            " 55%|█████▌    | 276/500 [13:42<11:59,  3.21s/it]\u001b[A\n",
            " 55%|█████▌    | 277/500 [13:45<12:27,  3.35s/it]\u001b[A\n",
            " 56%|█████▌    | 278/500 [13:49<13:02,  3.53s/it]\u001b[A\n",
            " 56%|█████▌    | 279/500 [13:53<13:31,  3.67s/it]\u001b[A\n",
            " 56%|█████▌    | 280/500 [13:57<13:33,  3.70s/it]\u001b[A\n",
            " 56%|█████▌    | 281/500 [14:00<12:37,  3.46s/it]\u001b[A\n",
            " 56%|█████▋    | 282/500 [14:03<12:21,  3.40s/it]\u001b[A\n",
            " 57%|█████▋    | 283/500 [14:07<12:48,  3.54s/it]\u001b[A\n",
            " 57%|█████▋    | 284/500 [14:11<13:08,  3.65s/it]\u001b[A\n",
            " 57%|█████▋    | 285/500 [14:15<13:01,  3.64s/it]\u001b[A\n",
            " 57%|█████▋    | 286/500 [14:18<12:06,  3.39s/it]\u001b[A\n",
            " 57%|█████▋    | 287/500 [14:21<11:54,  3.35s/it]\u001b[A\n",
            " 58%|█████▊    | 288/500 [14:24<12:02,  3.41s/it]\u001b[A\n",
            " 58%|█████▊    | 289/500 [14:28<12:10,  3.46s/it]\u001b[A\n",
            " 58%|█████▊    | 290/500 [14:32<12:21,  3.53s/it]\u001b[A\n",
            " 58%|█████▊    | 291/500 [14:34<11:33,  3.32s/it]\u001b[A\n",
            " 58%|█████▊    | 292/500 [14:38<11:41,  3.37s/it]\u001b[A\n",
            " 59%|█████▊    | 293/500 [14:42<12:22,  3.59s/it]\u001b[A\n",
            " 59%|█████▉    | 294/500 [14:46<12:55,  3.76s/it]\u001b[A\n",
            " 59%|█████▉    | 295/500 [14:50<12:54,  3.78s/it]\u001b[A\n",
            " 59%|█████▉    | 296/500 [14:53<11:54,  3.50s/it]\u001b[A\n",
            " 59%|█████▉    | 297/500 [14:56<11:37,  3.43s/it]\u001b[A\n",
            " 60%|█████▉    | 298/500 [15:00<11:54,  3.54s/it]\u001b[A\n",
            " 60%|█████▉    | 299/500 [15:04<12:25,  3.71s/it]\u001b[A\n",
            " 60%|██████    | 300/500 [15:08<12:18,  3.69s/it]\u001b[A\n",
            " 60%|██████    | 301/500 [15:11<11:25,  3.44s/it]\u001b[A\n",
            " 60%|██████    | 302/500 [15:14<11:25,  3.46s/it]\u001b[A\n",
            " 61%|██████    | 303/500 [15:18<11:40,  3.55s/it]\u001b[A\n",
            " 61%|██████    | 304/500 [15:21<11:41,  3.58s/it]\u001b[A\n",
            " 61%|██████    | 305/500 [15:25<11:26,  3.52s/it]\u001b[A\n",
            " 61%|██████    | 306/500 [15:28<10:52,  3.36s/it]\u001b[A\n",
            " 61%|██████▏   | 307/500 [15:32<11:11,  3.48s/it]\u001b[A\n",
            " 62%|██████▏   | 308/500 [15:36<11:45,  3.68s/it]\u001b[A\n",
            " 62%|██████▏   | 309/500 [15:40<12:36,  3.96s/it]\u001b[A\n",
            " 62%|██████▏   | 310/500 [15:44<12:23,  3.92s/it]\u001b[A\n",
            " 62%|██████▏   | 311/500 [15:47<11:27,  3.64s/it]\u001b[A\n",
            " 62%|██████▏   | 312/500 [15:51<11:15,  3.59s/it]\u001b[A\n",
            " 63%|██████▎   | 313/500 [15:55<11:26,  3.67s/it]\u001b[A\n",
            " 63%|██████▎   | 314/500 [15:59<11:45,  3.79s/it]\u001b[A\n",
            " 63%|██████▎   | 315/500 [16:02<11:36,  3.77s/it]\u001b[A\n",
            " 63%|██████▎   | 316/500 [16:05<10:44,  3.50s/it]\u001b[A\n",
            " 63%|██████▎   | 317/500 [16:09<10:48,  3.54s/it]\u001b[A\n",
            " 64%|██████▎   | 318/500 [16:12<10:51,  3.58s/it]\u001b[A\n",
            " 64%|██████▍   | 319/500 [16:16<10:59,  3.64s/it]\u001b[A\n",
            " 64%|██████▍   | 320/500 [16:20<10:54,  3.64s/it]\u001b[A\n",
            " 64%|██████▍   | 321/500 [16:23<10:16,  3.45s/it]\u001b[A\n",
            " 64%|██████▍   | 322/500 [16:27<10:23,  3.50s/it]\u001b[A\n",
            " 65%|██████▍   | 323/500 [16:31<10:55,  3.70s/it]\u001b[A\n",
            " 65%|██████▍   | 324/500 [16:35<11:22,  3.88s/it]\u001b[A\n",
            " 65%|██████▌   | 325/500 [16:39<11:11,  3.84s/it]\u001b[A\n",
            " 65%|██████▌   | 326/500 [16:42<10:12,  3.52s/it]\u001b[A\n",
            " 65%|██████▌   | 327/500 [16:45<10:09,  3.52s/it]\u001b[A\n",
            " 66%|██████▌   | 328/500 [16:49<10:31,  3.67s/it]\u001b[A\n",
            " 66%|██████▌   | 329/500 [16:53<10:51,  3.81s/it]\u001b[A\n",
            " 66%|██████▌   | 330/500 [16:57<10:43,  3.78s/it]\u001b[A\n",
            " 66%|██████▌   | 331/500 [17:00<10:01,  3.56s/it]\u001b[A\n",
            " 66%|██████▋   | 332/500 [17:03<09:56,  3.55s/it]\u001b[A\n",
            " 67%|██████▋   | 333/500 [17:07<10:09,  3.65s/it]\u001b[A\n",
            " 67%|██████▋   | 334/500 [17:11<10:23,  3.76s/it]\u001b[A\n",
            " 67%|██████▋   | 335/500 [17:15<10:05,  3.67s/it]\u001b[A\n",
            " 67%|██████▋   | 336/500 [17:18<09:32,  3.49s/it]\u001b[A\n",
            " 67%|██████▋   | 337/500 [17:22<09:38,  3.55s/it]\u001b[A\n",
            " 68%|██████▊   | 338/500 [17:26<09:54,  3.67s/it]\u001b[A\n",
            " 68%|██████▊   | 339/500 [17:30<10:29,  3.91s/it]\u001b[A\n",
            " 68%|██████▊   | 340/500 [17:34<10:11,  3.82s/it]\u001b[A\n",
            " 68%|██████▊   | 341/500 [17:37<09:29,  3.58s/it]\u001b[A\n",
            " 68%|██████▊   | 342/500 [17:40<09:31,  3.62s/it]\u001b[A\n",
            " 69%|██████▊   | 343/500 [17:44<09:43,  3.72s/it]\u001b[A\n",
            " 69%|██████▉   | 344/500 [17:48<09:58,  3.83s/it]\u001b[A\n",
            " 69%|██████▉   | 345/500 [17:52<09:31,  3.69s/it]\u001b[A\n",
            " 69%|██████▉   | 346/500 [17:55<08:57,  3.49s/it]\u001b[A\n",
            " 69%|██████▉   | 347/500 [17:58<08:57,  3.51s/it]\u001b[A\n",
            " 70%|██████▉   | 348/500 [18:02<09:05,  3.59s/it]\u001b[A\n",
            " 70%|██████▉   | 349/500 [18:06<09:17,  3.69s/it]\u001b[A\n",
            " 70%|███████   | 350/500 [18:10<09:03,  3.62s/it]\u001b[A\n",
            " 70%|███████   | 351/500 [18:12<08:29,  3.42s/it]\u001b[A\n",
            " 70%|███████   | 352/500 [18:16<08:36,  3.49s/it]\u001b[A\n",
            " 71%|███████   | 353/500 [18:20<08:49,  3.60s/it]\u001b[A\n",
            " 71%|███████   | 354/500 [18:24<09:17,  3.82s/it]\u001b[A\n",
            " 71%|███████   | 355/500 [18:28<09:01,  3.74s/it]\u001b[A\n",
            " 71%|███████   | 356/500 [18:31<08:26,  3.52s/it]\u001b[A\n",
            " 71%|███████▏  | 357/500 [18:34<08:25,  3.54s/it]\u001b[A\n",
            " 72%|███████▏  | 358/500 [18:38<08:39,  3.66s/it]\u001b[A\n",
            " 72%|███████▏  | 359/500 [18:43<09:01,  3.84s/it]\u001b[A\n",
            " 72%|███████▏  | 360/500 [18:46<08:45,  3.76s/it]\u001b[A\n",
            " 72%|███████▏  | 361/500 [18:49<08:11,  3.54s/it]\u001b[A\n",
            " 72%|███████▏  | 362/500 [18:53<08:14,  3.58s/it]\u001b[A\n",
            " 73%|███████▎  | 363/500 [18:57<08:20,  3.65s/it]\u001b[A\n",
            " 73%|███████▎  | 364/500 [19:01<08:29,  3.75s/it]\u001b[A\n",
            " 73%|███████▎  | 365/500 [19:04<08:07,  3.61s/it]\u001b[A\n",
            " 73%|███████▎  | 366/500 [19:07<07:44,  3.47s/it]\u001b[A\n",
            " 73%|███████▎  | 367/500 [19:11<07:50,  3.54s/it]\u001b[A\n",
            " 74%|███████▎  | 368/500 [19:15<08:14,  3.75s/it]\u001b[A\n",
            " 74%|███████▍  | 369/500 [19:20<08:45,  4.01s/it]\u001b[A\n",
            " 74%|███████▍  | 370/500 [19:23<08:23,  3.88s/it]\u001b[A\n",
            " 74%|███████▍  | 371/500 [19:26<07:46,  3.62s/it]\u001b[A\n",
            " 74%|███████▍  | 372/500 [19:30<07:37,  3.58s/it]\u001b[A\n",
            " 75%|███████▍  | 373/500 [19:34<07:48,  3.69s/it]\u001b[A\n",
            " 75%|███████▍  | 374/500 [19:38<07:58,  3.80s/it]\u001b[A\n",
            " 75%|███████▌  | 375/500 [19:41<07:39,  3.68s/it]\u001b[A\n",
            " 75%|███████▌  | 376/500 [19:44<07:12,  3.49s/it]\u001b[A\n",
            " 75%|███████▌  | 377/500 [19:48<07:05,  3.46s/it]\u001b[A\n",
            " 76%|███████▌  | 378/500 [19:51<07:09,  3.52s/it]\u001b[A\n",
            " 76%|███████▌  | 379/500 [19:55<07:21,  3.65s/it]\u001b[A\n",
            " 76%|███████▌  | 380/500 [19:59<07:10,  3.58s/it]\u001b[A\n",
            " 76%|███████▌  | 381/500 [20:02<06:47,  3.42s/it]\u001b[A\n",
            " 76%|███████▋  | 382/500 [20:05<06:53,  3.50s/it]\u001b[A\n",
            " 77%|███████▋  | 383/500 [20:10<07:13,  3.70s/it]\u001b[A\n",
            " 77%|███████▋  | 384/500 [20:14<07:29,  3.87s/it]\u001b[A\n",
            " 77%|███████▋  | 385/500 [20:18<07:20,  3.83s/it]\u001b[A\n",
            " 77%|███████▋  | 386/500 [20:21<06:51,  3.61s/it]\u001b[A\n",
            " 77%|███████▋  | 387/500 [20:24<06:51,  3.64s/it]\u001b[A\n",
            " 78%|███████▊  | 388/500 [20:28<06:56,  3.72s/it]\u001b[A\n",
            " 78%|███████▊  | 389/500 [20:32<07:06,  3.84s/it]\u001b[A\n",
            " 78%|███████▊  | 390/500 [20:36<06:48,  3.71s/it]\u001b[A\n",
            " 78%|███████▊  | 391/500 [20:39<06:29,  3.58s/it]\u001b[A\n",
            " 78%|███████▊  | 392/500 [20:43<06:32,  3.63s/it]\u001b[A\n",
            " 79%|███████▊  | 393/500 [20:47<06:37,  3.72s/it]\u001b[A\n",
            " 79%|███████▉  | 394/500 [20:51<06:46,  3.84s/it]\u001b[A\n",
            " 79%|███████▉  | 395/500 [20:54<06:31,  3.73s/it]\u001b[A\n",
            " 79%|███████▉  | 396/500 [20:57<06:06,  3.53s/it]\u001b[A\n",
            " 79%|███████▉  | 397/500 [21:01<06:12,  3.61s/it]\u001b[A\n",
            " 80%|███████▉  | 398/500 [21:05<06:29,  3.82s/it]\u001b[A\n",
            " 80%|███████▉  | 399/500 [21:10<06:45,  4.02s/it]\u001b[A\n",
            " 80%|████████  | 400/500 [21:14<06:27,  3.87s/it]\u001b[A\n",
            " 80%|████████  | 401/500 [21:17<05:57,  3.61s/it]\u001b[A\n",
            " 80%|████████  | 402/500 [21:20<05:54,  3.61s/it]\u001b[A\n",
            " 81%|████████  | 403/500 [21:24<06:01,  3.73s/it]\u001b[A\n",
            " 81%|████████  | 404/500 [21:28<06:10,  3.86s/it]\u001b[A\n",
            " 81%|████████  | 405/500 [21:32<05:58,  3.77s/it]\u001b[A\n",
            " 81%|████████  | 406/500 [21:35<05:32,  3.54s/it]\u001b[A\n",
            " 81%|████████▏ | 407/500 [21:38<05:26,  3.51s/it]\u001b[A\n",
            " 82%|████████▏ | 408/500 [21:42<05:27,  3.56s/it]\u001b[A\n",
            " 82%|████████▏ | 409/500 [21:46<05:32,  3.66s/it]\u001b[A\n",
            " 82%|████████▏ | 410/500 [21:49<05:21,  3.57s/it]\u001b[A\n",
            " 82%|████████▏ | 411/500 [21:52<05:06,  3.45s/it]\u001b[A\n",
            " 82%|████████▏ | 412/500 [21:56<05:05,  3.48s/it]\u001b[A\n",
            " 83%|████████▎ | 413/500 [22:00<05:12,  3.59s/it]\u001b[A\n",
            " 83%|████████▎ | 414/500 [22:04<05:24,  3.78s/it]\u001b[A\n",
            " 83%|████████▎ | 415/500 [22:08<05:18,  3.74s/it]\u001b[A\n",
            " 83%|████████▎ | 416/500 [22:11<04:58,  3.55s/it]\u001b[A\n",
            " 83%|████████▎ | 417/500 [22:14<04:53,  3.54s/it]\u001b[A\n",
            " 84%|████████▎ | 418/500 [22:18<05:03,  3.70s/it]\u001b[A\n",
            " 84%|████████▍ | 419/500 [22:22<05:08,  3.80s/it]\u001b[A\n",
            " 84%|████████▍ | 420/500 [22:26<04:55,  3.70s/it]\u001b[A\n",
            " 84%|████████▍ | 421/500 [22:29<04:39,  3.54s/it]\u001b[A\n",
            " 84%|████████▍ | 422/500 [22:33<04:39,  3.58s/it]\u001b[A\n",
            " 85%|████████▍ | 423/500 [22:37<04:45,  3.70s/it]\u001b[A\n",
            " 85%|████████▍ | 424/500 [22:41<04:54,  3.87s/it]\u001b[A\n",
            " 85%|████████▌ | 425/500 [22:44<04:42,  3.76s/it]\u001b[A\n",
            " 85%|████████▌ | 426/500 [22:48<04:28,  3.63s/it]\u001b[A\n",
            " 85%|████████▌ | 427/500 [22:52<04:31,  3.71s/it]\u001b[A\n",
            " 86%|████████▌ | 428/500 [22:56<04:41,  3.92s/it]\u001b[A\n",
            " 86%|████████▌ | 429/500 [23:01<04:53,  4.14s/it]\u001b[A\n",
            " 86%|████████▌ | 430/500 [23:04<04:37,  3.97s/it]\u001b[A\n",
            " 86%|████████▌ | 431/500 [23:07<04:15,  3.70s/it]\u001b[A\n",
            " 86%|████████▋ | 432/500 [23:11<04:11,  3.69s/it]\u001b[A\n",
            " 87%|████████▋ | 433/500 [23:15<04:12,  3.77s/it]\u001b[A\n",
            " 87%|████████▋ | 434/500 [23:19<04:18,  3.91s/it]\u001b[A\n",
            " 87%|████████▋ | 435/500 [23:23<04:09,  3.84s/it]\u001b[A\n",
            " 87%|████████▋ | 436/500 [23:26<03:52,  3.64s/it]\u001b[A\n",
            " 87%|████████▋ | 437/500 [23:30<03:49,  3.65s/it]\u001b[A\n",
            " 88%|████████▊ | 438/500 [23:34<03:50,  3.71s/it]\u001b[A\n",
            " 88%|████████▊ | 439/500 [23:37<03:48,  3.75s/it]\u001b[A\n",
            " 88%|████████▊ | 440/500 [23:41<03:39,  3.66s/it]\u001b[A\n",
            " 88%|████████▊ | 441/500 [23:44<03:25,  3.48s/it]\u001b[A\n",
            " 88%|████████▊ | 442/500 [23:48<03:26,  3.56s/it]\u001b[A\n",
            " 89%|████████▊ | 443/500 [23:52<03:30,  3.69s/it]\u001b[A\n",
            " 89%|████████▉ | 444/500 [23:56<03:38,  3.90s/it]\u001b[A\n",
            " 89%|████████▉ | 445/500 [24:00<03:29,  3.81s/it]\u001b[A\n",
            " 89%|████████▉ | 446/500 [24:03<03:14,  3.61s/it]\u001b[A\n",
            " 89%|████████▉ | 447/500 [24:06<03:10,  3.60s/it]\u001b[A\n",
            " 90%|████████▉ | 448/500 [24:10<03:14,  3.75s/it]\u001b[A\n",
            " 90%|████████▉ | 449/500 [24:15<03:18,  3.90s/it]\u001b[A\n",
            " 90%|█████████ | 450/500 [24:18<03:09,  3.80s/it]\u001b[A\n",
            " 90%|█████████ | 451/500 [24:21<02:56,  3.59s/it]\u001b[A\n",
            " 90%|█████████ | 452/500 [24:25<02:55,  3.65s/it]\u001b[A\n",
            " 91%|█████████ | 453/500 [24:29<02:54,  3.71s/it]\u001b[A\n",
            " 91%|█████████ | 454/500 [24:33<02:55,  3.83s/it]\u001b[A\n",
            " 91%|█████████ | 455/500 [24:37<02:48,  3.74s/it]\u001b[A\n",
            " 91%|█████████ | 456/500 [24:40<02:38,  3.60s/it]\u001b[A\n",
            " 91%|█████████▏| 457/500 [24:44<02:37,  3.67s/it]\u001b[A\n",
            " 92%|█████████▏| 458/500 [24:48<02:42,  3.88s/it]\u001b[A\n",
            " 92%|█████████▏| 459/500 [24:53<02:49,  4.14s/it]\u001b[A\n",
            " 92%|█████████▏| 460/500 [24:57<02:39,  4.00s/it]\u001b[A\n",
            " 92%|█████████▏| 461/500 [25:00<02:26,  3.75s/it]\u001b[A\n",
            " 92%|█████████▏| 462/500 [25:03<02:21,  3.71s/it]\u001b[A\n",
            " 93%|█████████▎| 463/500 [25:07<02:21,  3.81s/it]\u001b[A\n",
            " 93%|█████████▎| 464/500 [25:12<02:21,  3.92s/it]\u001b[A\n",
            " 93%|█████████▎| 465/500 [25:15<02:12,  3.80s/it]\u001b[A\n",
            " 93%|█████████▎| 466/500 [25:18<02:02,  3.59s/it]\u001b[A\n",
            " 93%|█████████▎| 467/500 [25:22<01:59,  3.61s/it]\u001b[A\n",
            " 94%|█████████▎| 468/500 [25:26<01:56,  3.65s/it]\u001b[A\n",
            " 94%|█████████▍| 469/500 [25:30<01:57,  3.79s/it]\u001b[A\n",
            " 94%|█████████▍| 470/500 [25:33<01:50,  3.68s/it]\u001b[A\n",
            " 94%|█████████▍| 471/500 [25:36<01:43,  3.56s/it]\u001b[A\n",
            " 94%|█████████▍| 472/500 [25:40<01:40,  3.60s/it]\u001b[A\n",
            " 95%|█████████▍| 473/500 [25:44<01:39,  3.70s/it]\u001b[A\n",
            " 95%|█████████▍| 474/500 [25:48<01:41,  3.89s/it]\u001b[A\n",
            " 95%|█████████▌| 475/500 [25:52<01:33,  3.75s/it]\u001b[A\n",
            " 95%|█████████▌| 476/500 [25:55<01:26,  3.59s/it]\u001b[A\n",
            " 95%|█████████▌| 477/500 [25:59<01:23,  3.65s/it]\u001b[A\n",
            " 96%|█████████▌| 478/500 [26:03<01:22,  3.74s/it]\u001b[A\n",
            " 96%|█████████▌| 479/500 [26:07<01:21,  3.87s/it]\u001b[A\n",
            " 96%|█████████▌| 480/500 [26:10<01:14,  3.75s/it]\u001b[A\n",
            " 96%|█████████▌| 481/500 [26:14<01:09,  3.65s/it]\u001b[A\n",
            " 96%|█████████▋| 482/500 [26:18<01:07,  3.75s/it]\u001b[A\n",
            " 97%|█████████▋| 483/500 [26:22<01:06,  3.89s/it]\u001b[A\n",
            " 97%|█████████▋| 484/500 [26:26<01:03,  4.00s/it]\u001b[A\n",
            " 97%|█████████▋| 485/500 [26:30<00:58,  3.91s/it]\u001b[A\n",
            " 97%|█████████▋| 486/500 [26:33<00:52,  3.72s/it]\u001b[A\n",
            " 97%|█████████▋| 487/500 [26:37<00:48,  3.76s/it]\u001b[A\n",
            " 98%|█████████▊| 488/500 [26:42<00:47,  3.98s/it]\u001b[A\n",
            " 98%|█████████▊| 489/500 [26:46<00:46,  4.24s/it]\u001b[A\n",
            " 98%|█████████▊| 490/500 [26:50<00:40,  4.03s/it]\u001b[A\n",
            " 98%|█████████▊| 491/500 [26:53<00:34,  3.79s/it]\u001b[A\n",
            " 98%|█████████▊| 492/500 [26:57<00:30,  3.76s/it]\u001b[A\n",
            " 99%|█████████▊| 493/500 [27:01<00:27,  3.91s/it]\u001b[A\n",
            " 99%|█████████▉| 494/500 [27:05<00:24,  4.03s/it]\u001b[A\n",
            " 99%|█████████▉| 495/500 [27:09<00:19,  3.85s/it]\u001b[A\n",
            " 99%|█████████▉| 496/500 [27:12<00:14,  3.66s/it]\u001b[A\n",
            " 99%|█████████▉| 497/500 [27:16<00:10,  3.66s/it]\u001b[A\n",
            "100%|█████████▉| 498/500 [27:20<00:07,  3.78s/it]\u001b[A\n",
            "100%|█████████▉| 499/500 [27:24<00:03,  3.90s/it]\u001b[A\n",
            "100%|██████████| 500/500 [27:27<00:00,  3.73s/it]\u001b[A\n",
            "501it [27:31,  3.60s/it]                         \u001b[A\n",
            "502it [27:34,  3.63s/it]\u001b[A\n",
            "503it [27:39,  3.82s/it]\u001b[A\n",
            "504it [27:43,  3.96s/it]\u001b[A\n",
            "505it [27:47,  3.85s/it]\u001b[A\n",
            "506it [27:50,  3.65s/it]\u001b[A\n",
            "507it [27:53,  3.69s/it]\u001b[A\n",
            "508it [27:58,  3.81s/it]\u001b[A\n",
            "509it [28:02,  3.96s/it]\u001b[A\n",
            "510it [28:05,  3.84s/it]\u001b[A\n",
            "511it [28:09,  3.68s/it]\u001b[A\n",
            "512it [28:13,  3.76s/it]\u001b[A\n",
            "513it [28:17,  3.93s/it]\u001b[A\n",
            "514it [28:21,  4.10s/it]\u001b[A\n",
            "515it [28:25,  3.98s/it]\u001b[A\n",
            "516it [28:29,  3.80s/it]\u001b[A\n",
            "517it [28:33,  3.88s/it]\u001b[A\n",
            "518it [28:37,  4.08s/it]\u001b[A\n",
            "519it [28:42,  4.31s/it]\u001b[A\n",
            "520it [28:46,  4.12s/it]\u001b[A\n",
            "521it [28:49,  3.87s/it]\u001b[A\n",
            "522it [28:53,  3.83s/it]\u001b[A\n",
            "523it [28:57,  3.89s/it]\u001b[A\n",
            "524it [29:01,  4.03s/it]\u001b[A\n",
            "525it [29:05,  3.86s/it]\u001b[A\n",
            "526it [29:08,  3.74s/it]\u001b[A\n",
            "527it [29:12,  3.77s/it]\u001b[A\n",
            "528it [29:16,  3.85s/it]\u001b[A\n",
            "529it [29:20,  3.96s/it]\u001b[A\n",
            "530it [29:24,  3.79s/it]\u001b[A\n",
            "531it [29:27,  3.63s/it]\u001b[A\n",
            "532it [29:31,  3.73s/it]\u001b[A\n",
            "533it [29:35,  3.88s/it]\u001b[A\n",
            "534it [29:39,  4.06s/it]\u001b[A\n",
            "535it [29:43,  3.94s/it]\u001b[A\n",
            "536it [29:47,  3.80s/it]\u001b[A\n",
            "537it [29:51,  3.86s/it]\u001b[A\n",
            "538it [29:55,  3.99s/it]\u001b[A\n",
            "539it [29:59,  4.13s/it]\u001b[A\n",
            "540it [30:03,  3.34s/it]\n"
          ]
        }
      ]
    },
    {
      "cell_type": "code",
      "source": [
        "lda_model_2 = gensim.models.LdaMulticore(corpus=corpus,\n",
        "                                           id2word=id2word,\n",
        "                                           num_topics=10, \n",
        "                                           random_state=100,\n",
        "                                           chunksize=100,\n",
        "                                           passes=10,\n",
        "                                           alpha='asymmetric',\n",
        "                                           eta=0.31)"
      ],
      "metadata": {
        "id": "-eYRUYN05vAE"
      },
      "execution_count": 42,
      "outputs": []
    },
    {
      "cell_type": "code",
      "source": [
        "coherence_model_lda = CoherenceModel(model=lda_model_2, texts=full_dialog_df['lemmas'], dictionary=id2word, coherence='c_v')\n",
        "coherence_lda = coherence_model_lda.get_coherence()\n",
        "print('\\nCoherence Score: ', coherence_lda)"
      ],
      "metadata": {
        "colab": {
          "base_uri": "https://localhost:8080/"
        },
        "id": "bHV5SvanPh3M",
        "outputId": "e478ad48-241a-4816-9f04-91ff02d84c09"
      },
      "execution_count": 43,
      "outputs": [
        {
          "output_type": "stream",
          "name": "stdout",
          "text": [
            "\n",
            "Coherence Score:  0.5084603994133485\n"
          ]
        }
      ]
    },
    {
      "cell_type": "code",
      "source": [
        "lda_model_2.print_topics()"
      ],
      "metadata": {
        "colab": {
          "base_uri": "https://localhost:8080/"
        },
        "id": "InBvFFtDQuR0",
        "outputId": "54596d75-f93b-46e3-c60f-88a8b4fb3cbf"
      },
      "execution_count": 36,
      "outputs": [
        {
          "output_type": "execute_result",
          "data": {
            "text/plain": [
              "[(0,\n",
              "  '0.126*\"little\" + 0.071*\"bit\" + 0.060*\"stone\" + 0.050*\"pull\" + 0.040*\"mind\" + 0.037*\"night\" + 0.035*\"hold\" + 0.033*\"begin\" + 0.031*\"rock\" + 0.024*\"chain\"'),\n",
              " (1,\n",
              "  '0.127*\"feel\" + 0.090*\"really\" + 0.066*\"laugh\" + 0.059*\"people\" + 0.052*\"maybe\" + 0.052*\"give\" + 0.049*\"keep\" + 0.040*\"hard\" + 0.040*\"help\" + 0.038*\"actually\"'),\n",
              " (2,\n",
              "  '0.156*\"way\" + 0.155*\"roll\" + 0.112*\"fall\" + 0.052*\"ball\" + 0.051*\"rest\" + 0.046*\"move\" + 0.040*\"next\" + 0.033*\"machine\" + 0.021*\"pull\" + 0.021*\"okay\"'),\n",
              " (3,\n",
              "  '0.038*\"top\" + 0.037*\"enough\" + 0.036*\"space\" + 0.031*\"sit\" + 0.028*\"begin\" + 0.022*\"minute\" + 0.020*\"base\" + 0.020*\"figure\" + 0.019*\"green\" + 0.017*\"dark\"'),\n",
              " (4,\n",
              "  '0.069*\"check\" + 0.064*\"great\" + 0.058*\"leave\" + 0.057*\"side\" + 0.043*\"light\" + 0.043*\"eye\" + 0.036*\"long\" + 0.035*\"away\" + 0.033*\"sort\" + 0.032*\"fearne\"'),\n",
              " (5,\n",
              "  '0.148*\"hit\" + 0.143*\"look\" + 0.083*\"time\" + 0.040*\"ahead\" + 0.039*\"front\" + 0.030*\"close\" + 0.030*\"sure\" + 0.029*\"flame\" + 0.026*\"watch\" + 0.024*\"nightmare\"'),\n",
              " (6,\n",
              "  '0.124*\"hear\" + 0.074*\"shade\" + 0.070*\"mean\" + 0.065*\"room\" + 0.048*\"creeper\" + 0.044*\"mother\" + 0.044*\"much\" + 0.033*\"start\" + 0.030*\"rush\" + 0.023*\"creature\"'),\n",
              " (7,\n",
              "  '0.176*\"back\" + 0.100*\"still\" + 0.095*\"end\" + 0.064*\"turn\" + 0.059*\"foot\" + 0.037*\"attack\" + 0.037*\"finish\" + 0.035*\"push\" + 0.033*\"strike\" + 0.032*\"day\"'),\n",
              " (8,\n",
              "  '0.132*\"ill\" + 0.128*\"point\" + 0.081*\"guess\" + 0.080*\"thing\" + 0.059*\"well\" + 0.056*\"throw\" + 0.038*\"natural\" + 0.037*\"shit\" + 0.030*\"bad\" + 0.027*\"work\"'),\n",
              " (9,\n",
              "  '0.292*\"laughter\" + 0.086*\"wait\" + 0.068*\"stand\" + 0.065*\"hallway\" + 0.064*\"let\" + 0.046*\"pretty\" + 0.033*\"else\" + 0.031*\"happen\" + 0.029*\"head\" + 0.029*\"find\"')]"
            ]
          },
          "metadata": {},
          "execution_count": 36
        }
      ]
    },
    {
      "cell_type": "code",
      "source": [
        "pyLDAvis.enable_notebook()\n",
        "vis = pyLDAvis.gensim_models.prepare(lda_model_2, corpus, id2word)\n",
        "vis"
      ],
      "metadata": {
        "colab": {
          "base_uri": "https://localhost:8080/",
          "height": 861
        },
        "id": "0P1TpRDf7E3q",
        "outputId": "870a1d40-6f6f-43b8-ffea-583d2ca451c6"
      },
      "execution_count": 37,
      "outputs": [
        {
          "output_type": "execute_result",
          "data": {
            "text/plain": [
              "PreparedData(topic_coordinates=              x         y  topics  cluster       Freq\n",
              "topic                                                \n",
              "3      0.190973  0.034369       1        1  12.465750\n",
              "4      0.046620 -0.133345       2        1  10.867651\n",
              "6     -0.065437  0.004973       3        1  10.760489\n",
              "0      0.219685  0.067254       4        1  10.568247\n",
              "7     -0.102069 -0.310892       5        1   9.905241\n",
              "5      0.067843 -0.034730       6        1   9.733620\n",
              "8     -0.235911  0.119564       7        1   9.129267\n",
              "2      0.162738  0.160128       8        1   9.084956\n",
              "1     -0.059787 -0.128617       9        1   8.974500\n",
              "9     -0.224655  0.221295      10        1   8.510281, topic_info=         Term        Freq       Total Category  logprob  loglift\n",
              "307  laughter  268.000000  268.000000  Default  30.0000  30.0000\n",
              "268      back  188.000000  188.000000  Default  29.0000  29.0000\n",
              "5         way  153.000000  153.000000  Default  28.0000  28.0000\n",
              "569      roll  152.000000  152.000000  Default  27.0000  27.0000\n",
              "536       hit  157.000000  157.000000  Default  26.0000  26.0000\n",
              "..        ...         ...         ...      ...      ...      ...\n",
              "726      butt    3.209459    3.360065  Topic10  -5.6588   2.4180\n",
              "633    chance    3.118963    3.269569  Topic10  -5.6874   2.4167\n",
              "217     stand   62.213091   69.071740  Topic10  -2.6943   2.3593\n",
              "373      head   26.766447   40.940268  Topic10  -3.5377   2.0389\n",
              "645       ill    4.324161  135.056907  Topic10  -5.3607  -0.9776\n",
              "\n",
              "[363 rows x 6 columns], token_table=      Topic      Freq       Term\n",
              "term                            \n",
              "468       9  0.951180    ability\n",
              "752       7  1.026367       able\n",
              "519       9  0.998029   actually\n",
              "266       8  0.998851  advantage\n",
              "505       6  0.994823      ahead\n",
              "...     ...       ...        ...\n",
              "371       7  0.977547       work\n",
              "422       4  1.009731      worry\n",
              "610       5  1.005484      worth\n",
              "400      10  0.933689       wrap\n",
              "732      10  0.996083       yell\n",
              "\n",
              "[366 rows x 3 columns], R=30, lambda_step=0.01, plot_opts={'xlab': 'PC1', 'ylab': 'PC2'}, topic_order=[4, 5, 7, 1, 8, 6, 9, 3, 2, 10])"
            ],
            "text/html": [
              "\n",
              "<link rel=\"stylesheet\" type=\"text/css\" href=\"https://cdn.jsdelivr.net/gh/bmabey/pyLDAvis@3.3.1/pyLDAvis/js/ldavis.v1.0.0.css\">\n",
              "\n",
              "\n",
              "<div id=\"ldavis_el3591406232039249444205715808\"></div>\n",
              "<script type=\"text/javascript\">\n",
              "\n",
              "var ldavis_el3591406232039249444205715808_data = {\"mdsDat\": {\"x\": [0.19097331544917232, 0.04661950371629861, -0.06543708745277682, 0.21968547376139005, -0.10206922068652598, 0.0678434557611121, -0.235911009366804, 0.1627381815908967, -0.05978740845752133, -0.22465520431524214], \"y\": [0.034369433060791495, -0.13334477851468454, 0.00497341657182851, 0.06725444161938575, -0.3108918561541736, -0.03473046419038933, 0.11956395502596323, 0.1601282417656836, -0.1286171613567432, 0.22129477217233862], \"topics\": [1, 2, 3, 4, 5, 6, 7, 8, 9, 10], \"cluster\": [1, 1, 1, 1, 1, 1, 1, 1, 1, 1], \"Freq\": [12.465750498732346, 10.867650515132283, 10.760488731322603, 10.568247427686444, 9.90524077593165, 9.73361954501801, 9.129266637491304, 9.08495568308571, 8.97449950701862, 8.510280678581028]}, \"tinfo\": {\"Term\": [\"laughter\", \"back\", \"way\", \"roll\", \"hit\", \"look\", \"hear\", \"little\", \"ill\", \"point\", \"feel\", \"fall\", \"still\", \"end\", \"really\", \"time\", \"wait\", \"guess\", \"shade\", \"thing\", \"bit\", \"mean\", \"check\", \"room\", \"great\", \"turn\", \"laugh\", \"stone\", \"leave\", \"hallway\", \"top\", \"space\", \"sit\", \"minute\", \"figure\", \"base\", \"green\", \"dark\", \"seeker\", \"elevator\", \"step\", \"city\", \"encounter\", \"tunnel\", \"mine\", \"morning\", \"smolder\", \"follow\", \"corner\", \"odd\", \"draw\", \"manage\", \"device\", \"faintly\", \"individual\", \"emerge\", \"heal\", \"purple\", \"bottom\", \"upward\", \"enough\", \"open\", \"begin\", \"rest\", \"great\", \"leave\", \"eye\", \"sort\", \"fearne\", \"fucking\", \"movement\", \"stay\", \"hand\", \"low\", \"away\", \"ground\", \"screech\", \"shift\", \"perception\", \"righty\", \"terrible\", \"edge\", \"destroy\", \"whoosh\", \"glow\", \"break\", \"name\", \"red\", \"heavy\", \"check\", \"hell\", \"past\", \"pass\", \"scatter\", \"chamber\", \"side\", \"long\", \"large\", \"light\", \"wall\", \"mean\", \"room\", \"shade\", \"creeper\", \"much\", \"start\", \"hear\", \"sound\", \"creature\", \"big\", \"rush\", \"moment\", \"mother\", \"lady\", \"ever\", \"far\", \"ask\", \"pay\", \"currently\", \"guide\", \"full\", \"black\", \"indeed\", \"emoth\", \"husk\", \"life\", \"contraption\", \"telekinesis\", \"fill\", \"arcane\", \"strange\", \"head\", \"bit\", \"stone\", \"mind\", \"night\", \"hold\", \"chain\", \"gold\", \"different\", \"half\", \"slowly\", \"worry\", \"grab\", \"pick\", \"air\", \"twist\", \"tell\", \"almost\", \"rough\", \"cast\", \"slightly\", \"form\", \"rock\", \"lose\", \"drift\", \"fly\", \"grasp\", \"grind\", \"guidance\", \"blue\", \"chase\", \"little\", \"metal\", \"center\", \"pull\", \"small\", \"begin\", \"shaft\", \"back\", \"still\", \"end\", \"turn\", \"attack\", \"push\", \"strike\", \"finish\", \"day\", \"miss\", \"pop\", \"disadvantage\", \"bring\", \"second\", \"climb\", \"slash\", \"chetney\", \"stinger\", \"giant\", \"together\", \"like\", \"describe\", \"mouth\", \"crazy\", \"worth\", \"damn\", \"child\", \"quietly\", \"behind\", \"crawl\", \"foot\", \"first\", \"crack\", \"time\", \"ahead\", \"front\", \"sure\", \"flame\", \"watch\", \"nightmare\", \"hit\", \"cool\", \"impact\", \"shoulder\", \"body\", \"idea\", \"burst\", \"witch\", \"shoot\", \"group\", \"fire\", \"immediately\", \"dead\", \"friend\", \"set\", \"slug\", \"anyway\", \"object\", \"close\", \"arc\", \"tumble\", \"mention\", \"woman\", \"look\", \"free\", \"pull\", \"point\", \"guess\", \"thing\", \"throw\", \"natural\", \"shit\", \"well\", \"bad\", \"work\", \"last\", \"spell\", \"learn\", \"course\", \"face\", \"fail\", \"stasis\", \"real\", \"hole\", \"already\", \"old\", \"ready\", \"soon\", \"able\", \"wonder\", \"least\", \"shield\", \"directly\", \"separate\", \"lie\", \"speak\", \"ill\", \"way\", \"roll\", \"ball\", \"move\", \"machine\", \"fall\", \"next\", \"okay\", \"around\", \"total\", \"orb\", \"definitely\", \"cut\", \"earlier\", \"fresh\", \"grass\", \"area\", \"send\", \"number\", \"always\", \"advantage\", \"allow\", \"whole\", \"hate\", \"folk\", \"purplish\", \"solid\", \"class\", \"consider\", \"distraction\", \"rest\", \"nearby\", \"pull\", \"part\", \"feel\", \"really\", \"laugh\", \"people\", \"maybe\", \"keep\", \"hard\", \"give\", \"help\", \"actually\", \"put\", \"kind\", \"fuck\", \"probably\", \"one\", \"talk\", \"though\", \"die\", \"never\", \"hour\", \"quite\", \"ability\", \"king\", \"game\", \"usually\", \"better\", \"forget\", \"welcome\", \"darkvision\", \"case\", \"laughter\", \"wait\", \"hallway\", \"let\", \"pretty\", \"else\", \"happen\", \"call\", \"find\", \"guy\", \"arm\", \"touch\", \"strong\", \"direction\", \"join\", \"wrap\", \"place\", \"glance\", \"amazing\", \"gasp\", \"assume\", \"general\", \"silver\", \"correct\", \"voice\", \"yell\", \"map\", \"quiet\", \"butt\", \"chance\", \"stand\", \"head\", \"ill\"], \"Freq\": [268.0, 188.0, 153.0, 152.0, 157.0, 157.0, 144.0, 149.0, 135.0, 126.0, 123.0, 110.0, 107.0, 102.0, 87.0, 87.0, 79.0, 80.0, 86.0, 78.0, 81.0, 82.0, 82.0, 75.0, 75.0, 68.0, 64.0, 68.0, 68.0, 60.0, 51.78471681186898, 49.07361949267278, 42.04194139856412, 29.058038514443204, 27.150886810534352, 27.559912874187617, 24.9460316988872, 23.337972204772303, 22.914626160429457, 22.00764047363862, 21.98687373910299, 21.42177947482303, 20.624801728077113, 20.33904377599472, 18.390896041784792, 17.552640988372094, 15.696507040990518, 15.256094804298307, 14.958076216346651, 14.776452048779024, 14.492744651630524, 13.676219453166373, 12.829356589544357, 12.704211209372033, 11.959521985591296, 11.650965579510302, 11.601654316648156, 11.531223468095193, 10.849119491381229, 10.716360813864032, 49.63841238941806, 21.406984840266325, 37.74846361060395, 12.764592706341453, 74.90155930048742, 68.54536533872628, 50.505512321808915, 38.736001063046565, 37.998476073300026, 32.51118207897546, 24.822194617296457, 24.26093244259413, 28.484993539897136, 20.53921577034945, 41.43276564574854, 19.728127886872368, 18.53434393146016, 16.52650759487418, 16.51997759902456, 14.978029372025992, 14.555119910729614, 13.951527161087967, 13.809444741754165, 13.618167862489072, 12.805684212925105, 25.83371888972409, 11.579568841348165, 8.954838377992157, 9.03482507987786, 81.15344410474059, 7.167535272570858, 9.19608313580845, 6.398371823469775, 5.543070996593452, 32.35225303665259, 66.55560937287832, 41.84346461690131, 25.290532706885788, 50.634575254027965, 16.66089195371938, 81.94275611376163, 75.54107557454361, 85.97526517398327, 55.66600423322453, 50.7584087268442, 38.93346239164835, 144.2960591682847, 26.31517698262191, 26.383011107831248, 25.140749777869512, 34.47493655504892, 23.660692888083467, 51.446587672210384, 23.113055514968767, 23.03987547710831, 23.239727197057288, 18.861099558620758, 17.923464200165714, 16.216986447911577, 14.293994897591464, 13.035562507037255, 12.455063813191813, 12.041866604722527, 11.521870374859295, 11.378726301335437, 8.769796818302463, 7.937041393984916, 7.667679260522677, 7.277724090176192, 7.0986544430698615, 14.847523397076568, 11.942072983463252, 81.64577904346693, 68.37045060806368, 45.85049543418599, 42.27916801053867, 40.277733078286715, 27.55945646942063, 26.70407686628348, 25.42399567889785, 22.469810183266326, 21.17759728067589, 18.67279410685937, 18.238805309251234, 16.68546990513038, 16.271961094983634, 15.854368636229866, 15.011326208198756, 13.731180082709626, 13.398274362834178, 13.2382530365407, 12.194028105628384, 11.639143721365427, 35.413515692478036, 10.587849053644133, 10.003670132788882, 9.067094479976333, 8.815111750373855, 8.792619213983482, 8.128573345456452, 7.315952289797233, 6.762415105042145, 144.1110480792526, 12.174882010686439, 9.352829587292563, 57.16168682904627, 16.58310509827286, 38.15446148915872, 11.010887796619363, 188.5966617423208, 107.27632683932299, 101.93969303191986, 68.61621570214359, 40.01235722141399, 36.965173864285724, 35.84661823436908, 39.73626539762439, 34.14441318156126, 33.39145162610125, 26.529563849999864, 23.94379671337915, 22.933924525929314, 21.015523973912643, 17.762505994377904, 15.588830160629408, 13.946498483618969, 10.350426125984068, 9.53432049421067, 7.0380990113907504, 6.953216949478855, 6.93671427980697, 6.294762973892266, 5.902237504384471, 5.820596708679481, 5.580655704214345, 5.420676243175847, 5.330255542287644, 4.478260507765501, 4.229001299481281, 63.105179123357516, 22.785904873229768, 5.40209720749609, 87.65400447818469, 42.07511002728081, 40.577092956293974, 31.703687720223716, 30.1917320678476, 27.56380158449647, 25.28549064775671, 156.0693310180868, 19.933332281464764, 18.774269036186613, 17.33062380624939, 20.457752777012622, 15.950316956951315, 15.793583413702803, 15.76859378062257, 15.733586527532887, 15.64041295463892, 15.527222770949919, 14.634228964241155, 13.391388138292832, 12.288662607424271, 12.049248646742406, 11.378194588734655, 10.758232647891653, 8.667227771725894, 31.912442880859054, 7.39935907376415, 8.17098544799476, 7.091433691122799, 6.586753799711203, 150.32688648998217, 18.806832919494212, 8.423694791599997, 126.01823807923614, 80.19557511147701, 78.76828482334476, 54.82324418963468, 37.67552935863851, 36.24062471724136, 58.61468081357277, 29.56942497479166, 26.44923589311716, 19.721048050205397, 19.667142475364578, 17.664010284319026, 16.43494883206546, 15.028615487961448, 13.81308698530284, 12.983897708873375, 12.623574189632645, 12.578838944593471, 12.361161321613412, 12.289108204824583, 12.069709075888982, 9.770212093812104, 9.595164733428787, 8.041646308557395, 8.002486646108208, 6.968683696273705, 6.737684633511599, 6.068109857985792, 5.699655625654288, 5.289375327819058, 130.59594312091616, 153.57738838120042, 152.49066543781578, 50.82251995768839, 45.55837899413322, 32.75869046759659, 110.03169369475653, 38.82527759174681, 20.312696083980743, 19.685822198755393, 18.381390073181596, 16.87809524832716, 16.70254493642204, 15.363401385349562, 13.456471159669924, 13.249128732768117, 12.797653245484463, 12.388822570138933, 12.183747870956235, 11.878915115597412, 9.797729507279213, 8.864615374672447, 8.019437463425248, 7.62991038559505, 6.537638921967894, 6.246091317254059, 5.1953308017054765, 3.612918544097274, 3.581994672310236, 2.9702005358158985, 2.5921784240683, 50.025194944920656, 8.03014007669198, 20.6387821519096, 9.559948463886196, 123.06326291242164, 87.13803982175415, 64.20301159308185, 57.30059985550079, 50.75842478816255, 47.08607625179153, 38.80141029160347, 50.19817234874313, 38.48769438267275, 36.925670775855075, 35.793066521396305, 33.04331888051002, 27.63503538912508, 27.471095358404007, 19.459851421153584, 19.515079682911836, 16.459672740650483, 14.511713042630387, 14.328688289949344, 13.649144360042893, 12.04843692311821, 9.314517731703631, 8.586432560470833, 8.486290881232822, 8.168415585928281, 7.540669169836447, 6.684641056780497, 5.8849305470564675, 5.171581771667989, 4.975393614294649, 268.49036380099943, 79.52882446446596, 59.92909972449543, 58.70425194611198, 42.50493369781296, 29.94052611214874, 28.38700970355735, 25.785744377753204, 26.65574463353211, 19.37797997153625, 14.086526125602845, 12.468926380767563, 10.831893493233393, 9.0525329166583, 8.489036929868055, 8.41755461463814, 8.822208727335125, 8.240385458452174, 7.550841936707851, 6.606455410037445, 6.427717046223869, 6.077322112757708, 5.778865337133812, 5.7169067105894715, 4.038433625665221, 3.8651255517817753, 3.8600368784807646, 3.788933041900174, 3.2094588695490787, 3.1189634671993653, 62.21309107061675, 26.76644728100504, 4.324161431358178], \"Total\": [268.0, 188.0, 153.0, 152.0, 157.0, 157.0, 144.0, 149.0, 135.0, 126.0, 123.0, 110.0, 107.0, 102.0, 87.0, 87.0, 79.0, 80.0, 86.0, 78.0, 81.0, 82.0, 82.0, 75.0, 75.0, 68.0, 64.0, 68.0, 68.0, 60.0, 51.929409298684256, 49.21596662765203, 42.18427038870241, 29.200122592363304, 27.292971418010705, 27.708084747573857, 25.08811576983583, 23.4800582635555, 23.05671032425827, 22.149724631076193, 22.12895800542451, 21.563866001734, 20.767127543288268, 20.481131844765777, 18.53298010865495, 17.694724945418194, 15.838591016571206, 15.398178767743364, 15.10016342952324, 14.918536011206278, 14.634828615531614, 13.818303799687975, 12.97147770028071, 12.846295201308784, 12.10160598132428, 11.793053390957414, 11.743738361527281, 11.673307436633714, 10.991203494573371, 10.85844508332293, 50.667410759628844, 24.425140166567754, 81.0203414442839, 68.51127444895857, 75.04431722512832, 68.68833257374529, 50.6488977474206, 38.87934342998317, 38.141233547204536, 32.65402169250069, 24.965096052963666, 24.403690458606476, 28.66260897533036, 20.681969752637592, 41.72421401842869, 19.87088316078091, 18.67709790649586, 16.669261584468266, 16.662772543026144, 15.1207837239015, 14.697874183717435, 14.094281145962075, 13.952198754319964, 13.76092248018199, 12.948438846136066, 26.148242514889194, 11.722322803307952, 9.097758331452132, 9.181875666618163, 82.49229849309683, 7.310289242238915, 9.393427027939243, 6.541125776122545, 5.685824967584735, 33.21518792830915, 68.92877867927683, 45.06367997206775, 27.71077519873142, 59.39836243262368, 19.278735535419894, 82.08846230001495, 75.70756522120928, 86.17887247892519, 55.813214518260416, 50.90690899796734, 39.07847634234659, 144.9755884440872, 26.46018371006125, 26.532028482162744, 25.28575223389483, 34.676369103849716, 23.806688108374903, 51.7657640433241, 23.25822322378767, 23.184873894514947, 23.385997591349188, 19.006153497745025, 18.068463992540693, 16.361985316317313, 14.439135842212842, 13.180560549212938, 12.600062132705204, 12.191737760430454, 11.667067895878533, 11.523729593917624, 8.914795954954835, 8.082039890914768, 7.812677260125939, 7.422722059708414, 7.24365240391733, 24.684372058040424, 40.94026821883248, 81.79894690150499, 68.51546632141725, 45.994607925586365, 42.42809290333003, 40.42183059109326, 27.70356385500698, 26.848170277415417, 25.56808888810731, 22.61390341914837, 21.32169095069964, 18.81688672458764, 18.38289813128565, 16.829565708224802, 16.41605830196671, 15.998461228633047, 15.156913692185407, 13.875274295118237, 13.542367078837161, 13.382346154459315, 12.338120720818665, 11.78323826202571, 35.89004306058084, 10.731941604328165, 10.147762719710997, 9.2111872777882, 8.959204286664875, 8.9367117937558, 8.272665941765865, 7.460045865104316, 6.906512567337591, 149.04629250270935, 12.479015138021065, 9.729479961622701, 86.3510747692277, 21.62442885250608, 81.0203414442839, 18.504890186383562, 188.80612573888024, 107.4241207946471, 102.0865096663775, 68.7631889382197, 40.166498030598234, 37.11185719273229, 35.993340921358445, 39.90677375725349, 34.29109723923373, 33.53835613380123, 26.676242193309605, 24.090476858973762, 23.08060333352053, 21.1622024470286, 17.909184805604575, 15.735508391653713, 14.093176972560835, 10.497106659379735, 9.680999004182166, 7.184777142460397, 7.099895091249997, 7.083392406718183, 6.441441725754788, 6.048915650763574, 5.967274849267072, 5.727333954346653, 5.567359749312503, 5.4769336749796445, 4.624938664824599, 4.375681866140058, 68.95487938393799, 30.605378581572392, 13.836027259948628, 87.84197523274308, 42.2185603397515, 40.72166772674075, 31.847125582898563, 30.335169518534407, 27.70724338265702, 25.428928231343093, 157.10187349820947, 20.076771158223107, 18.917815699490106, 17.47406130378492, 20.632501107829345, 16.09375444618206, 15.937020861663093, 15.91203127062472, 15.877056218272713, 15.783851674111268, 15.670663437719437, 14.777666423593518, 13.534825579002046, 12.432507197518554, 12.192711147577764, 11.52163236235426, 10.901670112322266, 8.810665260975075, 32.516013250170225, 7.542796517798927, 8.334065008517767, 7.234871215767101, 6.730191247615655, 157.38468987994804, 22.053753386623942, 86.3510747692277, 126.16914361426599, 80.3435135658258, 78.91627908592193, 54.971204653057754, 37.82347700637041, 36.38914285454977, 58.8684927896749, 29.717380466554676, 26.597174610134452, 19.868986199814394, 19.815084599030644, 17.811948264627603, 16.582887737454573, 15.177437725994807, 13.961033820841063, 13.131835689774006, 12.77152294274389, 12.726788495487158, 12.509101399674629, 12.437046239863037, 12.217647100662537, 9.918150127453437, 9.743102696473164, 8.189584287115808, 8.150424701350584, 7.116621725785019, 6.885622601657003, 6.216047832280511, 5.847593593536842, 5.437313303762869, 135.05690665954654, 153.72328748078897, 152.6686549706087, 50.96829007487707, 45.7143953114721, 32.90610590633003, 110.54180035328879, 39.07085412418585, 20.458436194149176, 19.84063957673432, 18.527130520549886, 17.023835435237185, 16.848284907908536, 15.509141378635631, 13.602211118193193, 13.394868810210225, 12.943393228092555, 12.534640408003094, 12.3294931185033, 12.024655081943534, 9.943469448746585, 9.010355647515592, 8.165183479580344, 7.775650353009219, 6.683378874322034, 6.3918312571378495, 5.341090677955221, 3.7586584678409793, 3.7277346089666286, 3.115940458707223, 2.737918349876594, 68.51127444895857, 9.771149113299943, 86.3510747692277, 25.49554280098503, 123.21214514216663, 87.28688560998067, 64.35043163604847, 57.45004876515306, 50.90584237686658, 47.23358927372831, 38.948820556076676, 50.39034781389572, 38.63513046882265, 37.07308165211829, 35.9411482942345, 33.1907401383395, 27.782445749551474, 27.61854501623449, 19.607601899341912, 19.67336310389621, 16.607085865373545, 14.659123352432077, 14.476098611744682, 13.79656122447787, 12.195847180238458, 9.461927997637478, 8.733842943515697, 8.633701127184333, 8.3158258135677, 7.688079500264011, 6.832051324958056, 6.032340805080099, 5.321970430794958, 5.122803870327034, 268.64121679108143, 79.67943718935088, 60.07973242390524, 58.855120688980385, 42.65555749526672, 30.09114092316803, 28.53761602042269, 25.936350508512316, 26.81677678765386, 19.52858659792767, 14.237136769139498, 12.619532821701403, 10.982499954038408, 9.203153206959682, 8.639642813472275, 8.568163830946167, 8.983025139059547, 8.391007993330179, 7.70144953393862, 6.757061236649562, 6.578324099842679, 6.227927952474979, 5.929471240570617, 5.867513049844415, 4.189041143040907, 4.015731392714698, 4.010642721715069, 3.939538872662238, 3.3600646983974842, 3.269569307711913, 69.07173987680365, 40.94026821883248, 135.05690665954654], \"Category\": [\"Default\", \"Default\", \"Default\", \"Default\", \"Default\", \"Default\", \"Default\", \"Default\", \"Default\", \"Default\", \"Default\", \"Default\", \"Default\", \"Default\", \"Default\", \"Default\", \"Default\", \"Default\", \"Default\", \"Default\", \"Default\", \"Default\", \"Default\", \"Default\", \"Default\", \"Default\", \"Default\", \"Default\", \"Default\", \"Default\", \"Topic1\", \"Topic1\", \"Topic1\", \"Topic1\", \"Topic1\", \"Topic1\", \"Topic1\", \"Topic1\", \"Topic1\", \"Topic1\", \"Topic1\", \"Topic1\", \"Topic1\", \"Topic1\", \"Topic1\", \"Topic1\", \"Topic1\", \"Topic1\", \"Topic1\", \"Topic1\", \"Topic1\", \"Topic1\", \"Topic1\", \"Topic1\", \"Topic1\", \"Topic1\", \"Topic1\", \"Topic1\", \"Topic1\", \"Topic1\", \"Topic1\", \"Topic1\", \"Topic1\", \"Topic1\", \"Topic2\", \"Topic2\", \"Topic2\", \"Topic2\", \"Topic2\", \"Topic2\", \"Topic2\", \"Topic2\", \"Topic2\", \"Topic2\", \"Topic2\", \"Topic2\", \"Topic2\", \"Topic2\", \"Topic2\", \"Topic2\", \"Topic2\", \"Topic2\", \"Topic2\", \"Topic2\", \"Topic2\", \"Topic2\", \"Topic2\", \"Topic2\", \"Topic2\", \"Topic2\", \"Topic2\", \"Topic2\", \"Topic2\", \"Topic2\", \"Topic2\", \"Topic2\", \"Topic2\", \"Topic2\", \"Topic2\", \"Topic2\", \"Topic3\", \"Topic3\", \"Topic3\", \"Topic3\", \"Topic3\", \"Topic3\", \"Topic3\", \"Topic3\", \"Topic3\", \"Topic3\", \"Topic3\", \"Topic3\", \"Topic3\", \"Topic3\", \"Topic3\", \"Topic3\", \"Topic3\", \"Topic3\", \"Topic3\", \"Topic3\", \"Topic3\", \"Topic3\", \"Topic3\", \"Topic3\", \"Topic3\", \"Topic3\", \"Topic3\", \"Topic3\", \"Topic3\", \"Topic3\", \"Topic3\", \"Topic3\", \"Topic4\", \"Topic4\", \"Topic4\", \"Topic4\", \"Topic4\", \"Topic4\", \"Topic4\", \"Topic4\", \"Topic4\", \"Topic4\", \"Topic4\", \"Topic4\", \"Topic4\", \"Topic4\", \"Topic4\", \"Topic4\", \"Topic4\", \"Topic4\", \"Topic4\", \"Topic4\", \"Topic4\", \"Topic4\", \"Topic4\", \"Topic4\", \"Topic4\", \"Topic4\", \"Topic4\", \"Topic4\", \"Topic4\", \"Topic4\", \"Topic4\", \"Topic4\", \"Topic4\", \"Topic4\", \"Topic4\", \"Topic4\", \"Topic4\", \"Topic5\", \"Topic5\", \"Topic5\", \"Topic5\", \"Topic5\", \"Topic5\", \"Topic5\", \"Topic5\", \"Topic5\", \"Topic5\", \"Topic5\", \"Topic5\", \"Topic5\", \"Topic5\", \"Topic5\", \"Topic5\", \"Topic5\", \"Topic5\", \"Topic5\", \"Topic5\", \"Topic5\", \"Topic5\", \"Topic5\", \"Topic5\", \"Topic5\", \"Topic5\", \"Topic5\", \"Topic5\", \"Topic5\", \"Topic5\", \"Topic5\", \"Topic5\", \"Topic5\", \"Topic6\", \"Topic6\", \"Topic6\", \"Topic6\", \"Topic6\", \"Topic6\", \"Topic6\", \"Topic6\", \"Topic6\", \"Topic6\", \"Topic6\", \"Topic6\", \"Topic6\", \"Topic6\", \"Topic6\", \"Topic6\", \"Topic6\", \"Topic6\", \"Topic6\", \"Topic6\", \"Topic6\", \"Topic6\", \"Topic6\", \"Topic6\", \"Topic6\", \"Topic6\", \"Topic6\", \"Topic6\", \"Topic6\", \"Topic6\", \"Topic6\", \"Topic6\", \"Topic6\", \"Topic7\", \"Topic7\", \"Topic7\", \"Topic7\", \"Topic7\", \"Topic7\", \"Topic7\", \"Topic7\", \"Topic7\", \"Topic7\", \"Topic7\", \"Topic7\", \"Topic7\", \"Topic7\", \"Topic7\", \"Topic7\", \"Topic7\", \"Topic7\", \"Topic7\", \"Topic7\", \"Topic7\", \"Topic7\", \"Topic7\", \"Topic7\", \"Topic7\", \"Topic7\", \"Topic7\", \"Topic7\", \"Topic7\", \"Topic7\", \"Topic7\", \"Topic8\", \"Topic8\", \"Topic8\", \"Topic8\", \"Topic8\", \"Topic8\", \"Topic8\", \"Topic8\", \"Topic8\", \"Topic8\", \"Topic8\", \"Topic8\", \"Topic8\", \"Topic8\", \"Topic8\", \"Topic8\", \"Topic8\", \"Topic8\", \"Topic8\", \"Topic8\", \"Topic8\", \"Topic8\", \"Topic8\", \"Topic8\", \"Topic8\", \"Topic8\", \"Topic8\", \"Topic8\", \"Topic8\", \"Topic8\", \"Topic8\", \"Topic8\", \"Topic8\", \"Topic8\", \"Topic9\", \"Topic9\", \"Topic9\", \"Topic9\", \"Topic9\", \"Topic9\", \"Topic9\", \"Topic9\", \"Topic9\", \"Topic9\", \"Topic9\", \"Topic9\", \"Topic9\", \"Topic9\", \"Topic9\", \"Topic9\", \"Topic9\", \"Topic9\", \"Topic9\", \"Topic9\", \"Topic9\", \"Topic9\", \"Topic9\", \"Topic9\", \"Topic9\", \"Topic9\", \"Topic9\", \"Topic9\", \"Topic9\", \"Topic9\", \"Topic10\", \"Topic10\", \"Topic10\", \"Topic10\", \"Topic10\", \"Topic10\", \"Topic10\", \"Topic10\", \"Topic10\", \"Topic10\", \"Topic10\", \"Topic10\", \"Topic10\", \"Topic10\", \"Topic10\", \"Topic10\", \"Topic10\", \"Topic10\", \"Topic10\", \"Topic10\", \"Topic10\", \"Topic10\", \"Topic10\", \"Topic10\", \"Topic10\", \"Topic10\", \"Topic10\", \"Topic10\", \"Topic10\", \"Topic10\", \"Topic10\", \"Topic10\", \"Topic10\"], \"logprob\": [30.0, 29.0, 28.0, 27.0, 26.0, 25.0, 24.0, 23.0, 22.0, 21.0, 20.0, 19.0, 18.0, 17.0, 16.0, 15.0, 14.0, 13.0, 12.0, 11.0, 10.0, 9.0, 8.0, 7.0, 6.0, 5.0, 4.0, 3.0, 2.0, 1.0, -3.2595, -3.3133, -3.4679, -3.8373, -3.9052, -3.8902, -3.9899, -4.0565, -4.0748, -4.1152, -4.1162, -4.1422, -4.1801, -4.1941, -4.2947, -4.3414, -4.4532, -4.4816, -4.5013, -4.5136, -4.5329, -4.5909, -4.6549, -4.6647, -4.7251, -4.7512, -4.7554, -4.7615, -4.8225, -4.8348, -3.3018, -4.1429, -3.5757, -4.6599, -2.7532, -2.8419, -3.1473, -3.4126, -3.4319, -3.5878, -3.8577, -3.8805, -3.72, -4.0471, -3.3453, -4.0874, -4.1498, -4.2644, -4.2648, -4.3628, -4.3915, -4.4338, -4.444, -4.458, -4.5195, -3.8177, -4.6202, -4.8772, -4.8683, -2.6731, -5.0998, -4.8506, -5.2134, -5.3569, -3.5927, -2.8714, -3.3355, -3.839, -3.1448, -4.2563, -2.6535, -2.7348, -2.6054, -3.0401, -3.1324, -3.3976, -2.0876, -3.7893, -3.7868, -3.835, -3.5193, -3.8957, -3.1189, -3.9191, -3.9223, -3.9136, -4.1224, -4.1734, -4.2734, -4.3997, -4.4918, -4.5374, -4.5711, -4.6152, -4.6277, -4.8882, -4.988, -5.0225, -5.0747, -5.0996, -4.3617, -4.5794, -2.6391, -2.8165, -3.2161, -3.2972, -3.3457, -3.7251, -3.7566, -3.8058, -3.9293, -3.9885, -4.1144, -4.1379, -4.2269, -4.252, -4.278, -4.3327, -4.4218, -4.4463, -4.4584, -4.5405, -4.5871, -3.4744, -4.6818, -4.7385, -4.8368, -4.865, -4.8676, -4.9461, -5.0514, -5.1301, -2.0709, -4.5421, -4.8058, -2.9956, -4.2331, -3.3998, -4.6426, -1.7371, -2.3013, -2.3523, -2.7481, -3.2875, -3.3667, -3.3974, -3.2944, -3.4461, -3.4684, -3.6984, -3.801, -3.8441, -3.9314, -4.0996, -4.2301, -4.3414, -4.6396, -4.7218, -5.0253, -5.0375, -5.0398, -5.137, -5.2013, -5.2153, -5.2574, -5.2865, -5.3033, -5.4774, -5.5347, -2.8319, -3.8505, -5.2899, -2.4858, -3.2197, -3.256, -3.5028, -3.5516, -3.6427, -3.729, -1.9089, -3.9668, -4.0267, -4.1067, -3.9408, -4.1897, -4.1996, -4.2012, -4.2034, -4.2093, -4.2166, -4.2758, -4.3646, -4.4505, -4.4702, -4.5275, -4.5835, -4.7996, -3.4962, -4.9578, -4.8586, -5.0003, -5.0741, -1.9464, -4.025, -4.8281, -2.0587, -2.5106, -2.5286, -2.891, -3.2661, -3.3049, -2.8241, -3.5084, -3.6199, -3.9134, -3.9161, -4.0236, -4.0957, -4.1851, -4.2695, -4.3314, -4.3595, -4.3631, -4.3805, -4.3864, -4.4044, -4.6158, -4.6338, -4.8105, -4.8153, -4.9537, -4.9874, -5.092, -5.1547, -5.2294, -2.023, -1.856, -1.8631, -2.9619, -3.0712, -3.4011, -2.1895, -3.2312, -3.879, -3.9103, -3.9789, -4.0642, -4.0747, -4.1582, -4.2908, -4.3063, -4.341, -4.3734, -4.3901, -4.4155, -4.6081, -4.7082, -4.8084, -4.8582, -5.0127, -5.0583, -5.2425, -5.6057, -5.6143, -5.8016, -5.9377, -2.9777, -4.807, -3.8631, -4.6326, -2.0653, -2.4105, -2.7159, -2.8297, -2.9509, -3.026, -3.2195, -2.962, -3.2277, -3.2691, -3.3002, -3.3802, -3.5589, -3.5649, -3.9096, -3.9068, -4.0771, -4.203, -4.2157, -4.2643, -4.3891, -4.6464, -4.7278, -4.7395, -4.7777, -4.8577, -4.9782, -5.1056, -5.2348, -5.2735, -1.2321, -2.4488, -2.7317, -2.7524, -3.0753, -3.4257, -3.479, -3.5751, -3.5419, -3.8607, -4.1797, -4.3016, -4.4424, -4.6218, -4.6861, -4.6946, -4.6476, -4.7158, -4.8032, -4.9368, -4.9643, -5.0203, -5.0707, -5.0815, -5.429, -5.4729, -5.4742, -5.4928, -5.6588, -5.6874, -2.6943, -3.5377, -5.3607], \"loglift\": [30.0, 29.0, 28.0, 27.0, 26.0, 25.0, 24.0, 23.0, 22.0, 21.0, 20.0, 19.0, 18.0, 17.0, 16.0, 15.0, 14.0, 13.0, 12.0, 11.0, 10.0, 9.0, 8.0, 7.0, 6.0, 5.0, 4.0, 3.0, 2.0, 1.0, 2.0794, 2.0793, 2.0788, 2.0773, 2.077, 2.0768, 2.0765, 2.0761, 2.076, 2.0757, 2.0757, 2.0756, 2.0753, 2.0752, 2.0745, 2.0741, 2.0732, 2.0729, 2.0727, 2.0726, 2.0724, 2.0718, 2.0712, 2.0711, 2.0704, 2.0701, 2.07, 2.0699, 2.0692, 2.069, 2.0617, 1.9503, 1.3184, 0.4019, 2.2175, 2.2173, 2.2165, 2.2157, 2.2156, 2.215, 2.2136, 2.2135, 2.2132, 2.2125, 2.2124, 2.2122, 2.2117, 2.2108, 2.2108, 2.2099, 2.2096, 2.2092, 2.2091, 2.209, 2.2083, 2.2073, 2.2071, 2.2035, 2.2032, 2.203, 2.1997, 2.1981, 2.1973, 2.194, 2.1931, 2.1843, 2.1452, 2.128, 2.0597, 2.0734, 2.2275, 2.2271, 2.2269, 2.2266, 2.2264, 2.2256, 2.2246, 2.2238, 2.2237, 2.2235, 2.2235, 2.2231, 2.2231, 2.223, 2.223, 2.223, 2.2216, 2.2212, 2.2204, 2.2192, 2.2182, 2.2177, 2.2169, 2.2168, 2.2166, 2.2129, 2.2112, 2.2106, 2.2096, 2.2091, 1.721, 0.9972, 2.2454, 2.2452, 2.2442, 2.2438, 2.2437, 2.2421, 2.2419, 2.2417, 2.2409, 2.2405, 2.2396, 2.2394, 2.2387, 2.2385, 2.2383, 2.2377, 2.2369, 2.2366, 2.2365, 2.2356, 2.235, 2.2339, 2.2338, 2.233, 2.2315, 2.2311, 2.2311, 2.2297, 2.2278, 2.2262, 2.2136, 2.2226, 2.2078, 1.8348, 1.9819, 1.4943, 1.7282, 2.311, 2.3107, 2.3107, 2.31, 2.3083, 2.3081, 2.308, 2.3078, 2.3078, 2.3077, 2.3066, 2.306, 2.3057, 2.3052, 2.3039, 2.3027, 2.3016, 2.298, 2.2968, 2.2915, 2.2912, 2.2912, 2.2891, 2.2876, 2.2872, 2.2862, 2.2854, 2.285, 2.2799, 2.278, 2.2235, 2.0171, 1.3716, 2.3274, 2.3262, 2.326, 2.3251, 2.3248, 2.3244, 2.3239, 2.323, 2.3224, 2.322, 2.3213, 2.3211, 2.3206, 2.3205, 2.3205, 2.3205, 2.3205, 2.3204, 2.3198, 2.3189, 2.3179, 2.3177, 2.3171, 2.3163, 2.3132, 2.3108, 2.3104, 2.3098, 2.3096, 2.308, 2.2837, 2.1703, 0.0022, 2.3925, 2.3918, 2.3918, 2.391, 2.3898, 2.3896, 2.3894, 2.3887, 2.3881, 2.3862, 2.3862, 2.3853, 2.3847, 2.3838, 2.383, 2.3824, 2.382, 2.382, 2.3818, 2.3817, 2.3815, 2.3787, 2.3784, 2.3755, 2.3754, 2.3727, 2.372, 2.3696, 2.3681, 2.3661, 2.3601, 2.3976, 2.3974, 2.3957, 2.3951, 2.3941, 2.3939, 2.3922, 2.3914, 2.3907, 2.3907, 2.39, 2.3899, 2.3891, 2.3878, 2.3876, 2.3872, 2.3868, 2.3867, 2.3864, 2.3838, 2.3822, 2.3805, 2.3796, 2.3765, 2.3755, 2.3709, 2.359, 2.3587, 2.3506, 2.3439, 2.0841, 2.2023, 0.9673, 1.4176, 2.4096, 2.4091, 2.4085, 2.4082, 2.4079, 2.4077, 2.407, 2.407, 2.407, 2.4068, 2.4067, 2.4063, 2.4055, 2.4054, 2.4032, 2.4027, 2.4019, 2.4007, 2.4005, 2.4, 2.3986, 2.3951, 2.3938, 2.3936, 2.3929, 2.3914, 2.389, 2.386, 2.3821, 2.3816, 2.4633, 2.462, 2.4614, 2.4613, 2.4604, 2.4589, 2.4586, 2.4581, 2.4579, 2.4562, 2.4533, 2.4519, 2.4501, 2.4474, 2.4463, 2.4462, 2.4458, 2.4458, 2.4441, 2.4414, 2.4407, 2.4394, 2.4382, 2.4379, 2.4273, 2.4257, 2.4256, 2.4249, 2.418, 2.4167, 2.3593, 2.0389, -0.9776]}, \"token.table\": {\"Topic\": [9, 7, 9, 8, 6, 4, 8, 4, 7, 8, 10, 6, 6, 3, 8, 10, 8, 3, 10, 5, 2, 5, 7, 8, 1, 1, 3, 4, 5, 9, 3, 4, 3, 4, 6, 1, 2, 5, 6, 10, 10, 9, 4, 4, 4, 1, 2, 10, 4, 2, 4, 5, 5, 1, 8, 5, 6, 8, 3, 6, 1, 10, 7, 3, 4, 5, 5, 5, 3, 3, 3, 8, 5, 1, 9, 5, 6, 8, 5, 2, 1, 9, 4, 10, 7, 5, 8, 1, 4, 8, 2, 1, 10, 1, 3, 1, 5, 1, 6, 3, 2, 7, 7, 1, 8, 3, 2, 9, 1, 3, 10, 5, 6, 1, 5, 6, 4, 8, 1, 2, 5, 9, 4, 1, 6, 8, 6, 6, 9, 2, 3, 9, 10, 10, 5, 9, 10, 2, 4, 4, 4, 8, 2, 1, 4, 2, 6, 7, 4, 3, 10, 4, 10, 2, 10, 9, 8, 2, 3, 10, 1, 3, 2, 2, 9, 6, 8, 4, 7, 9, 3, 6, 7, 10, 6, 6, 3, 1, 10, 9, 9, 9, 3, 1, 2, 7, 9, 10, 7, 7, 2, 10, 7, 3, 1, 2, 4, 9, 5, 4, 9, 1, 2, 2, 3, 6, 9, 4, 2, 8, 1, 10, 9, 3, 6, 4, 4, 1, 1, 5, 3, 1, 3, 5, 8, 2, 3, 2, 7, 1, 8, 9, 8, 4, 6, 8, 6, 1, 8, 7, 9, 1, 6, 8, 1, 4, 8, 2, 2, 3, 9, 2, 4, 10, 7, 5, 10, 9, 4, 6, 8, 1, 8, 5, 9, 10, 5, 9, 7, 7, 9, 2, 1, 2, 4, 8, 2, 4, 8, 3, 4, 3, 2, 2, 5, 1, 8, 7, 6, 3, 1, 4, 7, 2, 7, 6, 6, 2, 3, 10, 1, 5, 4, 4, 6, 1, 4, 1, 8, 7, 2, 3, 1, 7, 7, 1, 8, 10, 3, 7, 2, 1, 5, 5, 4, 3, 4, 5, 10, 6, 9, 3, 4, 2, 7, 9, 7, 6, 5, 1, 8, 10, 6, 1, 5, 4, 1, 9, 10, 10, 1, 2, 6, 8, 9, 7, 8, 2, 6, 6, 7, 7, 4, 5, 10, 10], \"Freq\": [0.9511803516415666, 1.026367093884767, 0.9980287138575621, 0.9988506949203001, 0.9948231219162225, 0.9746554078748084, 0.9797697773732289, 1.0089890622865485, 0.9593015210758568, 1.0056851938395146, 1.038765490151657, 1.0090197086010326, 0.9280377620530957, 0.9663633219361045, 0.9573469688319309, 0.9833437879410193, 1.008032020472392, 0.9996762365543478, 0.912086408169444, 0.9958548034117538, 0.9826428361692129, 1.001026843066458, 1.0095102438037362, 1.000622150067745, 1.010535381823953, 0.4690180184704832, 0.06171289716716884, 0.4690180184704832, 0.8648763345603633, 1.0405719659539523, 0.9886990811563918, 1.002457893482872, 0.952376256054511, 0.9383320326144022, 0.9693444287474516, 1.0008003223151105, 0.9943306891541647, 0.9965077458177418, 1.0039517510131648, 0.8928399507993968, 1.0024540650569476, 0.9760279968869482, 0.9714290640784308, 0.9250237459247476, 1.010700289195444, 0.030106709080146576, 0.9634146905646904, 0.9175520436052291, 1.0135361272061578, 0.9819098446720853, 0.01212234376138377, 0.9933885047535946, 0.8980917751214901, 0.9738513492112845, 1.073037761427133, 1.0050708725930957, 0.9841304883781371, 0.9627911828728185, 0.9898491108653162, 0.9961761202726235, 0.9933667320893094, 1.022579745290741, 0.96485004622337, 0.5059255715882415, 0.14455016331092613, 0.36137540827731535, 0.9141432403833646, 0.9919133190826691, 0.9799476891666832, 1.0033466175233192, 0.9778764429059648, 0.96717153024751, 1.047607848228653, 0.9795546391679691, 0.9395016498152801, 0.9915109966530709, 0.9604852256218377, 1.0090047795915564, 0.9882270525293657, 1.003426072586963, 1.0021988473771706, 1.02325354929982, 0.9777813316203092, 0.97792569542295, 1.016611046663445, 0.9962442894134718, 1.0957229605240852, 0.9566220669739935, 0.9854388869948661, 0.9557269687288028, 0.9933106807657881, 0.9932403389401, 0.9969711709037308, 1.0175481787610041, 1.028536056110471, 1.0112135130978668, 0.9991525847375896, 0.9868276126681289, 0.01973655225336258, 0.99202609876784, 1.00693208081902, 0.9883091119068863, 1.002791066883655, 1.011964912551251, 0.9950986834703505, 0.9834944996534176, 0.9962970902073803, 0.9982782124122435, 0.9892656825992434, 0.943050264268548, 1.0068324099423647, 1.0023361007159735, 1.0210161212120634, 0.26139196346412225, 0.7515018949593515, 0.9889511242609136, 0.977072740850959, 0.9386981224355249, 0.9741411777490542, 0.08701342172744936, 0.9136409281382183, 1.0245824668249217, 1.0183957697497177, 0.13603126630678486, 0.8615313532763041, 0.9705208900658111, 0.9652115867984473, 1.0068349920029547, 1.0078306371012005, 1.01059527401425, 0.9863009961876227, 0.9266014519324693, 1.0359533168106816, 0.9634022817517661, 1.0329512476635963, 0.99225352015157, 0.9534015467937842, 1.0039820363270526, 1.005655123645886, 0.9791709594128687, 1.0045534973899242, 1.004373410504487, 0.9994094526172398, 0.9964877485960195, 1.0070818224538047, 1.0064977906706194, 1.0136942699634752, 0.9957244393407769, 0.9670401363133415, 0.9695871105437607, 0.9729326751182411, 0.972852832712262, 0.99867288983009, 0.9768824611918384, 0.9811611446436889, 1.0013140178108766, 1.047374409207062, 0.04885165845298498, 0.2931099507179099, 0.6594973891152972, 1.0218211297445314, 0.993270670913928, 0.9801918830942795, 0.9575544507259629, 0.9835608043478672, 0.9929862485171316, 0.006365296464853408, 0.9895642877889304, 1.0214674349785668, 1.0147456146652827, 0.9545520753806949, 0.9941744826233321, 0.969961501711473, 0.029617145090426657, 1.0150452426001113, 1.0043442806408198, 0.984273139383562, 0.9916039258358699, 0.9259642062430122, 0.9950545940437722, 0.9942532122650929, 1.0304742205928843, 0.9888975515754974, 0.07217409060759725, 0.9021761325949655, 1.006593884502614, 0.994554323457682, 0.9976131109040498, 1.0105576174250317, 0.9815439431854812, 1.004537414355198, 1.002461626266731, 1.0260630982685952, 1.0095575990158034, 0.06734192385416772, 0.8586095291406384, 0.05050644289062579, 0.01683548096354193, 0.9859300609422935, 0.9661427841110666, 0.03354662444830092, 0.06657245928116652, 0.9320144299363313, 0.025415432740320373, 0.012707716370160186, 0.953078727762014, 0.006353858185080093, 1.0249776233933034, 1.0153771739909758, 1.0028533942587203, 1.0131489510540452, 0.9973463800060162, 1.001849642766666, 0.9989223540368969, 0.9675362271473138, 0.961614347548822, 1.000117232750899, 0.9712415323639155, 0.9931465153363555, 0.9839480464798734, 1.0081200665436991, 1.017252319859363, 0.9852071333732617, 0.93146849035523, 1.006247587583341, 1.0013981098635585, 1.0018286516283355, 1.0236878988363713, 1.004667021849944, 0.20468421644264045, 0.8187368657705618, 0.967111400349372, 0.9981865222613091, 0.9899101544746445, 0.9831322725267514, 0.9979496225234306, 1.0214892670890066, 1.0054605886752246, 0.9775918261885392, 0.9648593217847641, 0.9690119218830986, 0.8597698869603229, 0.12282426956576041, 0.9985998786626045, 0.43144796272291996, 0.19611271032859998, 0.39222542065719995, 0.9172732959672097, 0.958116773913391, 0.9962108570729112, 0.9921662596494427, 1.0202383760627516, 1.0101270760475956, 1.0018896597390832, 0.9986593900107374, 1.0121365597277263, 1.0080749736953152, 0.9776039970291375, 0.6600960109915468, 0.09264505417425217, 0.24319326720741197, 1.0279862896732288, 0.9361383847379644, 0.9969859446227285, 1.0016374464522866, 1.015347259994646, 0.9129195817801432, 0.9839414862006636, 0.9821858416052355, 1.0178895702791593, 0.9967133022563945, 0.9892546792417898, 0.1897497908856607, 0.043788413281306324, 0.02919227552087088, 0.729806888021772, 0.9920120725150922, 0.975200836090431, 0.995620220989453, 1.0038626889919953, 0.9599503487329977, 0.9804948118465313, 1.0552558396022385, 1.0172886652477116, 0.9923352757145854, 0.997540398284893, 0.9732760207304209, 0.9652435376770181, 0.9841945613862878, 0.9979244045114546, 0.37827838638841554, 0.5944374643246529, 0.9836127687716668, 1.0198412157524663, 0.9893060725253903, 1.0077434872080249, 0.9728705710971588, 0.9720178027779751, 0.02901545679934254, 1.0118946119422607, 0.9956317749008228, 1.0168085836036016, 0.9725954439521621, 0.9849125028852797, 0.954725828255149, 0.23121997968610133, 0.7861479309327446, 1.010190867562646, 1.0642094870347851, 1.0082525341414226, 1.0031033592487002, 0.9826084461429393, 0.9956118584587408, 0.9195718033278995, 1.0093320520558566, 0.04343310310918474, 0.05791080414557965, 0.8976174642564846, 0.9979918269673798, 0.9899606046794609, 0.9834578110515204, 0.9941724320958583, 0.9960519035063098, 0.9526434592397379, 0.9924766428794469, 0.6076719296213192, 0.40511461974754615, 1.000185008628571, 1.0015934483072915, 1.0048002579291968, 1.0166030024647439, 1.0239767666879205, 0.9896473849906324, 1.0205557492536754, 1.0010608826853953, 0.9634441665265702, 1.0005238260126186, 1.0017989664603764, 0.9742821330715457, 1.0013593588347929, 0.9715481833538548, 0.9509068338380948, 0.9599157184187622, 0.9765085324184006, 1.0034438638672367, 1.0000961824606105, 1.0130363892427359, 0.9620211124369135, 0.9548724549160962, 1.0040231560607957, 0.10374124362697419, 0.8818005708292806, 1.0105660679880637, 1.0018000689664253, 0.9946387636035312, 1.0022339150213162, 1.028852846618027, 1.017373655012033, 1.0055284412077343, 1.04008931432371, 0.9768505603618891, 0.9775474418283923, 1.0097313268710435, 1.0054841031391317, 0.933688962751378, 0.9960825585238999], \"Term\": [\"ability\", \"able\", \"actually\", \"advantage\", \"ahead\", \"air\", \"allow\", \"almost\", \"already\", \"always\", \"amazing\", \"anyway\", \"arc\", \"arcane\", \"area\", \"arm\", \"around\", \"ask\", \"assume\", \"attack\", \"away\", \"back\", \"bad\", \"ball\", \"base\", \"begin\", \"begin\", \"begin\", \"behind\", \"better\", \"big\", \"bit\", \"black\", \"blue\", \"body\", \"bottom\", \"break\", \"bring\", \"burst\", \"butt\", \"call\", \"case\", \"cast\", \"center\", \"chain\", \"chamber\", \"chamber\", \"chance\", \"chase\", \"check\", \"check\", \"chetney\", \"child\", \"city\", \"class\", \"climb\", \"close\", \"consider\", \"contraption\", \"cool\", \"corner\", \"correct\", \"course\", \"crack\", \"crack\", \"crack\", \"crawl\", \"crazy\", \"creature\", \"creeper\", \"currently\", \"cut\", \"damn\", \"dark\", \"darkvision\", \"day\", \"dead\", \"definitely\", \"describe\", \"destroy\", \"device\", \"die\", \"different\", \"direction\", \"directly\", \"disadvantage\", \"distraction\", \"draw\", \"drift\", \"earlier\", \"edge\", \"elevator\", \"else\", \"emerge\", \"emoth\", \"encounter\", \"end\", \"enough\", \"enough\", \"ever\", \"eye\", \"face\", \"fail\", \"faintly\", \"fall\", \"far\", \"fearne\", \"feel\", \"figure\", \"fill\", \"find\", \"finish\", \"fire\", \"first\", \"first\", \"flame\", \"fly\", \"folk\", \"follow\", \"foot\", \"foot\", \"forget\", \"form\", \"free\", \"free\", \"fresh\", \"friend\", \"front\", \"fuck\", \"fucking\", \"full\", \"game\", \"gasp\", \"general\", \"giant\", \"give\", \"glance\", \"glow\", \"gold\", \"grab\", \"grasp\", \"grass\", \"great\", \"green\", \"grind\", \"ground\", \"group\", \"guess\", \"guidance\", \"guide\", \"guy\", \"half\", \"hallway\", \"hand\", \"happen\", \"hard\", \"hate\", \"head\", \"head\", \"head\", \"heal\", \"hear\", \"heavy\", \"hell\", \"help\", \"hit\", \"hit\", \"hold\", \"hole\", \"hour\", \"husk\", \"idea\", \"ill\", \"ill\", \"immediately\", \"impact\", \"indeed\", \"individual\", \"join\", \"keep\", \"kind\", \"king\", \"lady\", \"large\", \"large\", \"last\", \"laugh\", \"laughter\", \"learn\", \"least\", \"leave\", \"let\", \"lie\", \"life\", \"light\", \"light\", \"light\", \"light\", \"like\", \"little\", \"little\", \"long\", \"long\", \"look\", \"look\", \"look\", \"look\", \"lose\", \"low\", \"machine\", \"manage\", \"map\", \"maybe\", \"mean\", \"mention\", \"metal\", \"mind\", \"mine\", \"minute\", \"miss\", \"moment\", \"morning\", \"mother\", \"mouth\", \"move\", \"movement\", \"much\", \"name\", \"natural\", \"nearby\", \"nearby\", \"never\", \"next\", \"night\", \"nightmare\", \"number\", \"object\", \"odd\", \"okay\", \"old\", \"one\", \"open\", \"open\", \"orb\", \"part\", \"part\", \"part\", \"pass\", \"past\", \"pay\", \"people\", \"perception\", \"pick\", \"place\", \"point\", \"pop\", \"pretty\", \"probably\", \"pull\", \"pull\", \"pull\", \"purple\", \"purplish\", \"push\", \"put\", \"quiet\", \"quietly\", \"quite\", \"ready\", \"real\", \"really\", \"red\", \"rest\", \"rest\", \"rest\", \"rest\", \"righty\", \"rock\", \"roll\", \"room\", \"rough\", \"rush\", \"scatter\", \"screech\", \"second\", \"seeker\", \"send\", \"separate\", \"set\", \"shade\", \"shaft\", \"shaft\", \"shield\", \"shift\", \"shit\", \"shoot\", \"shoulder\", \"side\", \"side\", \"silver\", \"sit\", \"slash\", \"slightly\", \"slowly\", \"slug\", \"small\", \"small\", \"smolder\", \"solid\", \"soon\", \"sort\", \"sound\", \"space\", \"speak\", \"spell\", \"stand\", \"stand\", \"stand\", \"start\", \"stasis\", \"stay\", \"step\", \"still\", \"stinger\", \"stone\", \"strange\", \"strange\", \"strike\", \"strong\", \"sure\", \"talk\", \"telekinesis\", \"tell\", \"terrible\", \"thing\", \"though\", \"throw\", \"time\", \"together\", \"top\", \"total\", \"touch\", \"tumble\", \"tunnel\", \"turn\", \"twist\", \"upward\", \"usually\", \"voice\", \"wait\", \"wall\", \"wall\", \"watch\", \"way\", \"welcome\", \"well\", \"whole\", \"whoosh\", \"witch\", \"woman\", \"wonder\", \"work\", \"worry\", \"worth\", \"wrap\", \"yell\"]}, \"R\": 30, \"lambda.step\": 0.01, \"plot.opts\": {\"xlab\": \"PC1\", \"ylab\": \"PC2\"}, \"topic.order\": [4, 5, 7, 1, 8, 6, 9, 3, 2, 10]};\n",
              "\n",
              "function LDAvis_load_lib(url, callback){\n",
              "  var s = document.createElement('script');\n",
              "  s.src = url;\n",
              "  s.async = true;\n",
              "  s.onreadystatechange = s.onload = callback;\n",
              "  s.onerror = function(){console.warn(\"failed to load library \" + url);};\n",
              "  document.getElementsByTagName(\"head\")[0].appendChild(s);\n",
              "}\n",
              "\n",
              "if(typeof(LDAvis) !== \"undefined\"){\n",
              "   // already loaded: just create the visualization\n",
              "   !function(LDAvis){\n",
              "       new LDAvis(\"#\" + \"ldavis_el3591406232039249444205715808\", ldavis_el3591406232039249444205715808_data);\n",
              "   }(LDAvis);\n",
              "}else if(typeof define === \"function\" && define.amd){\n",
              "   // require.js is available: use it to load d3/LDAvis\n",
              "   require.config({paths: {d3: \"https://d3js.org/d3.v5\"}});\n",
              "   require([\"d3\"], function(d3){\n",
              "      window.d3 = d3;\n",
              "      LDAvis_load_lib(\"https://cdn.jsdelivr.net/gh/bmabey/pyLDAvis@3.3.1/pyLDAvis/js/ldavis.v3.0.0.js\", function(){\n",
              "        new LDAvis(\"#\" + \"ldavis_el3591406232039249444205715808\", ldavis_el3591406232039249444205715808_data);\n",
              "      });\n",
              "    });\n",
              "}else{\n",
              "    // require.js not available: dynamically load d3 & LDAvis\n",
              "    LDAvis_load_lib(\"https://d3js.org/d3.v5.js\", function(){\n",
              "         LDAvis_load_lib(\"https://cdn.jsdelivr.net/gh/bmabey/pyLDAvis@3.3.1/pyLDAvis/js/ldavis.v3.0.0.js\", function(){\n",
              "                 new LDAvis(\"#\" + \"ldavis_el3591406232039249444205715808\", ldavis_el3591406232039249444205715808_data);\n",
              "            })\n",
              "         });\n",
              "}\n",
              "</script>"
            ]
          },
          "metadata": {},
          "execution_count": 37
        }
      ]
    },
    {
      "cell_type": "markdown",
      "source": [
        "### Visualing topics better!"
      ],
      "metadata": {
        "id": "ZiV3By_nPp5E"
      }
    },
    {
      "cell_type": "code",
      "source": [
        "def format_topics_sentences(ldamodel, corpus=corpus, texts=full_dialog_df['lemmas']):\n",
        "    # Init output\n",
        "    sent_topics_df = pd.DataFrame()\n",
        "\n",
        "    # Get main topic in each document\n",
        "    for i, row_list in enumerate(ldamodel[corpus]):\n",
        "        row = row_list[0] if ldamodel.per_word_topics else row_list            \n",
        "        # print(row)\n",
        "        row = sorted(row, key=lambda x: (x[1]), reverse=True)\n",
        "        # Get the Dominant topic, Perc Contribution and Keywords for each document\n",
        "        for j, (topic_num, prop_topic) in enumerate(row):\n",
        "            if j == 0:  # => dominant topic\n",
        "                wp = ldamodel.show_topic(topic_num)\n",
        "                topic_keywords = \", \".join([word for word, prop in wp])\n",
        "                sent_topics_df = sent_topics_df.append(pd.Series([int(topic_num), round(prop_topic,10), topic_keywords]), ignore_index=True)\n",
        "            else:\n",
        "                break\n",
        "    sent_topics_df.columns = ['Dominant_Topic', 'Perc_Contribution', 'Topic_Keywords']\n",
        "\n",
        "    # Add original text to the end of the output\n",
        "    contents = pd.Series(texts)\n",
        "    sent_topics_df = pd.concat([sent_topics_df, contents], axis=1)\n",
        "    return(sent_topics_df)\n",
        "\n",
        "\n",
        "df_topic_sents_keywords = format_topics_sentences(ldamodel=lda_model_2, corpus=corpus, texts=full_dialog_df['lemmas'])\n",
        "\n",
        "# Format\n",
        "df_dominant_topic = df_topic_sents_keywords.reset_index()\n",
        "df_dominant_topic.columns = ['Document_No', 'Dominant_Topic', 'Topic_Perc_Contrib', 'Keywords', 'Text']"
      ],
      "metadata": {
        "id": "YcnejgZGZQV9"
      },
      "execution_count": 38,
      "outputs": []
    },
    {
      "cell_type": "code",
      "source": [
        "# Display setting to show more characters in column\n",
        "pd.options.display.max_colwidth = 100\n",
        "\n",
        "sent_topics_sorteddf_mallet = pd.DataFrame()\n",
        "sent_topics_outdf_grpd = df_topic_sents_keywords.groupby('Dominant_Topic')\n",
        "\n",
        "for i, grp in sent_topics_outdf_grpd:\n",
        "    sent_topics_sorteddf_mallet = pd.concat([sent_topics_sorteddf_mallet, \n",
        "                                             grp.sort_values(['Perc_Contribution'], ascending=False).head(1)], \n",
        "                                            axis=0)\n",
        "\n",
        "# Reset Index    \n",
        "sent_topics_sorteddf_mallet.reset_index(drop=True, inplace=True)\n",
        "\n",
        "# Format\n",
        "sent_topics_sorteddf_mallet.columns = ['Topic_Num', \"Topic_Perc_Contrib\", \"Keywords\", \"Representative Text\"]\n",
        "\n",
        "# Show\n",
        "sent_topics_sorteddf_mallet.head(10)"
      ],
      "metadata": {
        "id": "CoCweoAbPvah",
        "colab": {
          "base_uri": "https://localhost:8080/",
          "height": 363
        },
        "outputId": "41adb31e-0299-4d9f-f556-f3384c3de53c"
      },
      "execution_count": 39,
      "outputs": [
        {
          "output_type": "execute_result",
          "data": {
            "text/plain": [
              "   Topic_Num  Topic_Perc_Contrib  \\\n",
              "0        0.0            0.602200   \n",
              "1        1.0            0.439486   \n",
              "2        2.0            0.376630   \n",
              "3        3.0            0.697443   \n",
              "4        4.0            0.474116   \n",
              "5        5.0            0.450024   \n",
              "6        6.0            0.459432   \n",
              "7        7.0            0.462575   \n",
              "8        8.0            0.381769   \n",
              "9        9.0            0.329918   \n",
              "\n",
              "                                                                Keywords  \\\n",
              "0        little, bit, stone, pull, mind, night, hold, begin, rock, chain   \n",
              "1   feel, really, laugh, people, maybe, give, keep, hard, help, actually   \n",
              "2           way, roll, fall, ball, rest, move, next, machine, pull, okay   \n",
              "3      top, enough, space, sit, begin, minute, base, figure, green, dark   \n",
              "4        check, great, leave, side, light, eye, long, away, sort, fearne   \n",
              "5    hit, look, time, ahead, front, close, sure, flame, watch, nightmare   \n",
              "6  hear, shade, mean, room, creeper, mother, much, start, rush, creature   \n",
              "7        back, still, end, turn, foot, attack, finish, push, strike, day   \n",
              "8        ill, point, guess, thing, well, throw, natural, shit, bad, work   \n",
              "9  laughter, wait, stand, hallway, let, pretty, else, happen, head, find   \n",
              "\n",
              "                                                                                   Representative Text  \n",
              "0  [look, almost, hourglass, half, thin, pillar, hold, part, together, center, twist, metallic, alm...  \n",
              "1  [usually, careful, far, away, hard, hit, especially, defend, kind, close, moment, mean, give, on...  \n",
              "2                                                 [point, move, way, way, back, way, next, part, turn]  \n",
              "3  [indeed, excite, bell, barely, escape, chaos, top, center, core, return, friend, brother, curren...  \n",
              "4  [creature, humanoid, hunch, table, side, head, straight, whoosh, look, entrance, approach, rest,...  \n",
              "5  [dozen, opaque, pod, set, slug, mass, watch, mass, taper, side, watch, mass, taper, side, spindl...  \n",
              "6  [separate, lady, thing, mean, potion, eversmoking, bottle, thing, create, giant, smoke, cloud, m...  \n",
              "7                                          [bring, family, share, mind, blood, climb, bring, together]  \n",
              "8  [feel, favorite, lesson, today, sometimes, lesson, learn, sometimes, shit, fucked, thing, fuck, ...  \n",
              "9     [hallway, stand, wait, door, laughter, hear, absolute, silence, guess, ill, back, bed, laughter]  "
            ],
            "text/html": [
              "\n",
              "  <div id=\"df-0c2a29fe-82c8-47e4-bb2e-8360a91168de\">\n",
              "    <div class=\"colab-df-container\">\n",
              "      <div>\n",
              "<style scoped>\n",
              "    .dataframe tbody tr th:only-of-type {\n",
              "        vertical-align: middle;\n",
              "    }\n",
              "\n",
              "    .dataframe tbody tr th {\n",
              "        vertical-align: top;\n",
              "    }\n",
              "\n",
              "    .dataframe thead th {\n",
              "        text-align: right;\n",
              "    }\n",
              "</style>\n",
              "<table border=\"1\" class=\"dataframe\">\n",
              "  <thead>\n",
              "    <tr style=\"text-align: right;\">\n",
              "      <th></th>\n",
              "      <th>Topic_Num</th>\n",
              "      <th>Topic_Perc_Contrib</th>\n",
              "      <th>Keywords</th>\n",
              "      <th>Representative Text</th>\n",
              "    </tr>\n",
              "  </thead>\n",
              "  <tbody>\n",
              "    <tr>\n",
              "      <th>0</th>\n",
              "      <td>0.0</td>\n",
              "      <td>0.602200</td>\n",
              "      <td>little, bit, stone, pull, mind, night, hold, begin, rock, chain</td>\n",
              "      <td>[look, almost, hourglass, half, thin, pillar, hold, part, together, center, twist, metallic, alm...</td>\n",
              "    </tr>\n",
              "    <tr>\n",
              "      <th>1</th>\n",
              "      <td>1.0</td>\n",
              "      <td>0.439486</td>\n",
              "      <td>feel, really, laugh, people, maybe, give, keep, hard, help, actually</td>\n",
              "      <td>[usually, careful, far, away, hard, hit, especially, defend, kind, close, moment, mean, give, on...</td>\n",
              "    </tr>\n",
              "    <tr>\n",
              "      <th>2</th>\n",
              "      <td>2.0</td>\n",
              "      <td>0.376630</td>\n",
              "      <td>way, roll, fall, ball, rest, move, next, machine, pull, okay</td>\n",
              "      <td>[point, move, way, way, back, way, next, part, turn]</td>\n",
              "    </tr>\n",
              "    <tr>\n",
              "      <th>3</th>\n",
              "      <td>3.0</td>\n",
              "      <td>0.697443</td>\n",
              "      <td>top, enough, space, sit, begin, minute, base, figure, green, dark</td>\n",
              "      <td>[indeed, excite, bell, barely, escape, chaos, top, center, core, return, friend, brother, curren...</td>\n",
              "    </tr>\n",
              "    <tr>\n",
              "      <th>4</th>\n",
              "      <td>4.0</td>\n",
              "      <td>0.474116</td>\n",
              "      <td>check, great, leave, side, light, eye, long, away, sort, fearne</td>\n",
              "      <td>[creature, humanoid, hunch, table, side, head, straight, whoosh, look, entrance, approach, rest,...</td>\n",
              "    </tr>\n",
              "    <tr>\n",
              "      <th>5</th>\n",
              "      <td>5.0</td>\n",
              "      <td>0.450024</td>\n",
              "      <td>hit, look, time, ahead, front, close, sure, flame, watch, nightmare</td>\n",
              "      <td>[dozen, opaque, pod, set, slug, mass, watch, mass, taper, side, watch, mass, taper, side, spindl...</td>\n",
              "    </tr>\n",
              "    <tr>\n",
              "      <th>6</th>\n",
              "      <td>6.0</td>\n",
              "      <td>0.459432</td>\n",
              "      <td>hear, shade, mean, room, creeper, mother, much, start, rush, creature</td>\n",
              "      <td>[separate, lady, thing, mean, potion, eversmoking, bottle, thing, create, giant, smoke, cloud, m...</td>\n",
              "    </tr>\n",
              "    <tr>\n",
              "      <th>7</th>\n",
              "      <td>7.0</td>\n",
              "      <td>0.462575</td>\n",
              "      <td>back, still, end, turn, foot, attack, finish, push, strike, day</td>\n",
              "      <td>[bring, family, share, mind, blood, climb, bring, together]</td>\n",
              "    </tr>\n",
              "    <tr>\n",
              "      <th>8</th>\n",
              "      <td>8.0</td>\n",
              "      <td>0.381769</td>\n",
              "      <td>ill, point, guess, thing, well, throw, natural, shit, bad, work</td>\n",
              "      <td>[feel, favorite, lesson, today, sometimes, lesson, learn, sometimes, shit, fucked, thing, fuck, ...</td>\n",
              "    </tr>\n",
              "    <tr>\n",
              "      <th>9</th>\n",
              "      <td>9.0</td>\n",
              "      <td>0.329918</td>\n",
              "      <td>laughter, wait, stand, hallway, let, pretty, else, happen, head, find</td>\n",
              "      <td>[hallway, stand, wait, door, laughter, hear, absolute, silence, guess, ill, back, bed, laughter]</td>\n",
              "    </tr>\n",
              "  </tbody>\n",
              "</table>\n",
              "</div>\n",
              "      <button class=\"colab-df-convert\" onclick=\"convertToInteractive('df-0c2a29fe-82c8-47e4-bb2e-8360a91168de')\"\n",
              "              title=\"Convert this dataframe to an interactive table.\"\n",
              "              style=\"display:none;\">\n",
              "        \n",
              "  <svg xmlns=\"http://www.w3.org/2000/svg\" height=\"24px\"viewBox=\"0 0 24 24\"\n",
              "       width=\"24px\">\n",
              "    <path d=\"M0 0h24v24H0V0z\" fill=\"none\"/>\n",
              "    <path d=\"M18.56 5.44l.94 2.06.94-2.06 2.06-.94-2.06-.94-.94-2.06-.94 2.06-2.06.94zm-11 1L8.5 8.5l.94-2.06 2.06-.94-2.06-.94L8.5 2.5l-.94 2.06-2.06.94zm10 10l.94 2.06.94-2.06 2.06-.94-2.06-.94-.94-2.06-.94 2.06-2.06.94z\"/><path d=\"M17.41 7.96l-1.37-1.37c-.4-.4-.92-.59-1.43-.59-.52 0-1.04.2-1.43.59L10.3 9.45l-7.72 7.72c-.78.78-.78 2.05 0 2.83L4 21.41c.39.39.9.59 1.41.59.51 0 1.02-.2 1.41-.59l7.78-7.78 2.81-2.81c.8-.78.8-2.07 0-2.86zM5.41 20L4 18.59l7.72-7.72 1.47 1.35L5.41 20z\"/>\n",
              "  </svg>\n",
              "      </button>\n",
              "      \n",
              "  <style>\n",
              "    .colab-df-container {\n",
              "      display:flex;\n",
              "      flex-wrap:wrap;\n",
              "      gap: 12px;\n",
              "    }\n",
              "\n",
              "    .colab-df-convert {\n",
              "      background-color: #E8F0FE;\n",
              "      border: none;\n",
              "      border-radius: 50%;\n",
              "      cursor: pointer;\n",
              "      display: none;\n",
              "      fill: #1967D2;\n",
              "      height: 32px;\n",
              "      padding: 0 0 0 0;\n",
              "      width: 32px;\n",
              "    }\n",
              "\n",
              "    .colab-df-convert:hover {\n",
              "      background-color: #E2EBFA;\n",
              "      box-shadow: 0px 1px 2px rgba(60, 64, 67, 0.3), 0px 1px 3px 1px rgba(60, 64, 67, 0.15);\n",
              "      fill: #174EA6;\n",
              "    }\n",
              "\n",
              "    [theme=dark] .colab-df-convert {\n",
              "      background-color: #3B4455;\n",
              "      fill: #D2E3FC;\n",
              "    }\n",
              "\n",
              "    [theme=dark] .colab-df-convert:hover {\n",
              "      background-color: #434B5C;\n",
              "      box-shadow: 0px 1px 3px 1px rgba(0, 0, 0, 0.15);\n",
              "      filter: drop-shadow(0px 1px 2px rgba(0, 0, 0, 0.3));\n",
              "      fill: #FFFFFF;\n",
              "    }\n",
              "  </style>\n",
              "\n",
              "      <script>\n",
              "        const buttonEl =\n",
              "          document.querySelector('#df-0c2a29fe-82c8-47e4-bb2e-8360a91168de button.colab-df-convert');\n",
              "        buttonEl.style.display =\n",
              "          google.colab.kernel.accessAllowed ? 'block' : 'none';\n",
              "\n",
              "        async function convertToInteractive(key) {\n",
              "          const element = document.querySelector('#df-0c2a29fe-82c8-47e4-bb2e-8360a91168de');\n",
              "          const dataTable =\n",
              "            await google.colab.kernel.invokeFunction('convertToInteractive',\n",
              "                                                     [key], {});\n",
              "          if (!dataTable) return;\n",
              "\n",
              "          const docLinkHtml = 'Like what you see? Visit the ' +\n",
              "            '<a target=\"_blank\" href=https://colab.research.google.com/notebooks/data_table.ipynb>data table notebook</a>'\n",
              "            + ' to learn more about interactive tables.';\n",
              "          element.innerHTML = '';\n",
              "          dataTable['output_type'] = 'display_data';\n",
              "          await google.colab.output.renderOutput(dataTable, element);\n",
              "          const docLink = document.createElement('div');\n",
              "          docLink.innerHTML = docLinkHtml;\n",
              "          element.appendChild(docLink);\n",
              "        }\n",
              "      </script>\n",
              "    </div>\n",
              "  </div>\n",
              "  "
            ]
          },
          "metadata": {},
          "execution_count": 39
        }
      ]
    },
    {
      "cell_type": "markdown",
      "source": [
        "# Final Thoughts\n",
        "I would say that there needs to be a lot more cleaning... Topic 0 and 9 are a great example. I also want to encorperate bigram and trigrams into the model.\n",
        "\n",
        "Good first go!"
      ],
      "metadata": {
        "id": "-9Khk4CBeW8Z"
      }
    }
  ]
}